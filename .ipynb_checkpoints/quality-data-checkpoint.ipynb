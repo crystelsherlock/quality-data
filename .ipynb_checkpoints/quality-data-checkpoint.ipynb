{
 "cells": [
  {
   "cell_type": "markdown",
   "metadata": {},
   "source": [
    "# Initial Imports & Setup"
   ]
  },
  {
   "cell_type": "code",
   "execution_count": 76,
   "metadata": {},
   "outputs": [],
   "source": [
    "# Data Science Modules\n",
    "import numpy as np\n",
    "import pandas as pd\n",
    "import altair as alt\n",
    "from selenium import webdriver\n",
    "\n",
    "# Python Basics\n",
    "import glob as glob\n",
    "import shutil\n",
    "import os\n",
    "import datetime as datetime"
   ]
  },
  {
   "cell_type": "markdown",
   "metadata": {},
   "source": [
    "# Importing Data into Dataframe\n",
    "\n",
    "* **./files/names.csv**: CSV File with Provider/Clinic Names, etc. Names is used to determine active providers/clinics. (So if there's no name, it wont get evaluated later -- say, for example, after Everson Closes.)\n",
    "* **./files/metrics.csv**: CSV File with Metrics information (Display Name, Category, Target, etc.)\n",
    "* **./data/(Zero-Padded Date at beginning of CSVs from Meridos).csv**: Files from Automatic weekly report from Meridios"
   ]
  },
  {
   "cell_type": "code",
   "execution_count": 77,
   "metadata": {},
   "outputs": [],
   "source": [
    "# Read Lookup files into dataframes for mapping\n",
    "names = pd.read_csv('./files/names.csv', index_col='MeridiosName')\n",
    "metrics = pd.read_csv('./files/metrics.csv', index_col='MeridiosMetric', dtype={'MeridiosMetric':object})\n",
    "\n",
    "# The base dataframe, df, get's transformed into different data subsets. \n",
    "df = pd.DataFrame()\n",
    "\n",
    "# Read in all the data files and append to dataframe\n",
    "files = glob.glob('./data/*.csv')\n",
    "for file in files:\n",
    "    filedf = pd.read_csv(file,\n",
    "                        usecols=[\"NAME\",\"Metricname\",\"SeenNum\",\"SeenDenom\"])\n",
    "    # Prettier Names but we'll drop these eventually.\n",
    "    filedf = filedf.rename(columns={'NAME': 'MeridiosName',\n",
    "                                    'Metricname': 'MeridiosMetric',\n",
    "                                    'SeenNum': 'Numerator', \n",
    "                                    'SeenDenom': 'Denominator'})\n",
    "\n",
    "    # Add Lookup Columns.\n",
    "    filedf['Name'] = filedf.MeridiosName.map(names.Name)\n",
    "    filedf['Type'] = filedf.MeridiosName.map(names.Type)\n",
    "    filedf['Clinic'] = filedf.MeridiosName.map(names.Clinic)\n",
    "    filedf['Metric'] = filedf.MeridiosMetric.map(metrics.Metric)\n",
    "    \n",
    "    # Who are we kidding with precision? Round to Basis points\n",
    "    # Not actually percentage (but rather than * 100 leaving for formatting\n",
    "    # in visualization.)\n",
    "    filedf['Percentage'] = round(filedf['Numerator'] / filedf['Denominator'], 4)\n",
    "\n",
    "    # Zero Padded Dates with Dots. Like: \"03.15.2018\" We're using the filename\n",
    "    # as the source of the date column because Meridios exports haven't always \n",
    "    # had the date-time data correct. \n",
    "    filename_parts = file[7:-4].split(' ')\n",
    "    if (len(str(filename_parts[0])) is 10):\n",
    "        filedf['Date'] = datetime.datetime.strptime(filename_parts[0], \"%m.%d.%Y\")\n",
    "\n",
    "        # Now delete the 'raw' columns from import\n",
    "        filedf.drop([\"MeridiosName\",\"MeridiosMetric\",\"Numerator\",\"Denominator\"], axis=1, inplace=True)\n",
    "\n",
    "        # We're only appending data that had Zero Padded Date at \n",
    "        # beginning of filename.\n",
    "        df = df.append(filedf) \n",
    "    else:\n",
    "        print(\"CSV Data File doesn't have Zero-Padded Date at beginning.\")\n",
    "        \n",
    "# We can inspect dataframe different ways        \n",
    "#df.dtypes\n",
    "#df.info()\n",
    "#df.describe()\n",
    "#df.columns\n",
    "#df.Metric.unique()\n",
    "#df.head()\n",
    "#metrics.head()"
   ]
  },
  {
   "cell_type": "markdown",
   "metadata": {},
   "source": [
    "## Validations:\n",
    "\n",
    "* Do new CSV files include new MeridiosName, New Metric items? (Has the underlying report changed? Such as when edited provider name.)\n",
    "* Should we keep a list of already imported data and do some message to clarify after new data is available?\n",
    "* Percentages under 0% and over 100% are report errors\n",
    "\n",
    "Currently no validations. But probably should automate checks that new data from report is accurate. "
   ]
  },
  {
   "cell_type": "markdown",
   "metadata": {},
   "source": [
    "# Altair Graphs"
   ]
  },
  {
   "cell_type": "code",
   "execution_count": 118,
   "metadata": {},
   "outputs": [],
   "source": [
    "metric = 'Pap Smears'\n",
    "type = 'Individual'\n",
    "name = 'Jonathan Ploudre'\n",
    "\n",
    "# Data Transformations in Pandas for graphs.\n",
    "providerdf = df[(df['Metric']==metric) & \n",
    "                (df['Type']==type) &\n",
    "                (df['Name']==name)]\n",
    "\n",
    "clinicdf = df[(df['Metric']==metric) & \n",
    "                (df['Name']==\"NCFP\")]\n",
    "\n",
    "combodf = pd.concat([providerdf, clinicdf])\n",
    "\n",
    "current_date = max(df['Date'])\n",
    "current_metric = df[(df['Metric']==metric) & \n",
    "                    (df['Type']==type) &\n",
    "                    (df['Date']==current_date)]"
   ]
  },
  {
   "cell_type": "code",
   "execution_count": 142,
   "metadata": {},
   "outputs": [
    {
     "data": {
      "application/vnd.vegalite.v2+json": {
       "$schema": "https://vega.github.io/schema/vega-lite/v2.4.1.json",
       "config": {
        "view": {
         "height": 300,
         "width": 400
        }
       },
       "hconcat": [
        {
         "data": {
          "values": [
           {
            "Clinic": "NCFP",
            "Date": "2018-04-23",
            "Metric": "Pap Smears",
            "Name": "Jonathan Ploudre",
            "Percentage": 0.7743,
            "Type": "Individual"
           },
           {
            "Clinic": "NCFP",
            "Date": "2018-01-29",
            "Metric": "Pap Smears",
            "Name": "Jonathan Ploudre",
            "Percentage": 0.761,
            "Type": "Individual"
           },
           {
            "Clinic": "NCFP",
            "Date": "2017-12-18",
            "Metric": "Pap Smears",
            "Name": "Jonathan Ploudre",
            "Percentage": 0.7429,
            "Type": "Individual"
           },
           {
            "Clinic": "NCFP",
            "Date": "2018-03-19",
            "Metric": "Pap Smears",
            "Name": "Jonathan Ploudre",
            "Percentage": 0.7563,
            "Type": "Individual"
           },
           {
            "Clinic": "NCFP",
            "Date": "2018-04-02",
            "Metric": "Pap Smears",
            "Name": "Jonathan Ploudre",
            "Percentage": 0.7642,
            "Type": "Individual"
           },
           {
            "Clinic": "NCFP",
            "Date": "2017-10-09",
            "Metric": "Pap Smears",
            "Name": "Jonathan Ploudre",
            "Percentage": 0.7117,
            "Type": "Individual"
           },
           {
            "Clinic": "NCFP",
            "Date": "2018-02-19",
            "Metric": "Pap Smears",
            "Name": "Jonathan Ploudre",
            "Percentage": 0.7492,
            "Type": "Individual"
           },
           {
            "Clinic": "NCFP",
            "Date": "2018-01-08",
            "Metric": "Pap Smears",
            "Name": "Jonathan Ploudre",
            "Percentage": 0.7453,
            "Type": "Individual"
           },
           {
            "Clinic": "NCFP",
            "Date": "2018-01-22",
            "Metric": "Pap Smears",
            "Name": "Jonathan Ploudre",
            "Percentage": 0.7524,
            "Type": "Individual"
           },
           {
            "Clinic": "NCFP",
            "Date": "2017-10-23",
            "Metric": "Pap Smears",
            "Name": "Jonathan Ploudre",
            "Percentage": 0.7183,
            "Type": "Individual"
           },
           {
            "Clinic": "NCFP",
            "Date": "2017-09-11",
            "Metric": "Pap Smears",
            "Name": "Jonathan Ploudre",
            "Percentage": 0.6785,
            "Type": "Individual"
           },
           {
            "Clinic": "NCFP",
            "Date": "2018-01-15",
            "Metric": "Pap Smears",
            "Name": "Jonathan Ploudre",
            "Percentage": 0.7383,
            "Type": "Individual"
           },
           {
            "Clinic": "NCFP",
            "Date": "2017-11-13",
            "Metric": "Pap Smears",
            "Name": "Jonathan Ploudre",
            "Percentage": 0.7429,
            "Type": "Individual"
           },
           {
            "Clinic": "NCFP",
            "Date": "2017-08-21",
            "Metric": "Pap Smears",
            "Name": "Jonathan Ploudre",
            "Percentage": 0.6647,
            "Type": "Individual"
           },
           {
            "Clinic": "NCFP",
            "Date": "2017-10-02",
            "Metric": "Pap Smears",
            "Name": "Jonathan Ploudre",
            "Percentage": 0.7108,
            "Type": "Individual"
           },
           {
            "Clinic": "NCFP",
            "Date": "2018-02-12",
            "Metric": "Pap Smears",
            "Name": "Jonathan Ploudre",
            "Percentage": 0.7461,
            "Type": "Individual"
           },
           {
            "Clinic": "NCFP",
            "Date": "2018-02-05",
            "Metric": "Pap Smears",
            "Name": "Jonathan Ploudre",
            "Percentage": 0.7516,
            "Type": "Individual"
           },
           {
            "Clinic": "NCFP",
            "Date": "2018-03-12",
            "Metric": "Pap Smears",
            "Name": "Jonathan Ploudre",
            "Percentage": 0.7492,
            "Type": "Individual"
           },
           {
            "Clinic": "NCFP",
            "Date": "2018-03-05",
            "Metric": "Pap Smears",
            "Name": "Jonathan Ploudre",
            "Percentage": 0.7492,
            "Type": "Individual"
           },
           {
            "Clinic": "NCFP",
            "Date": "2018-04-09",
            "Metric": "Pap Smears",
            "Name": "Jonathan Ploudre",
            "Percentage": 0.7547,
            "Type": "Individual"
           },
           {
            "Clinic": "NCFP",
            "Date": "2017-12-04",
            "Metric": "Pap Smears",
            "Name": "Jonathan Ploudre",
            "Percentage": 0.7492,
            "Type": "Individual"
           },
           {
            "Clinic": "NCFP",
            "Date": "2017-10-30",
            "Metric": "Pap Smears",
            "Name": "Jonathan Ploudre",
            "Percentage": 0.7337,
            "Type": "Individual"
           },
           {
            "Clinic": "NCFP",
            "Date": "2018-01-01",
            "Metric": "Pap Smears",
            "Name": "Jonathan Ploudre",
            "Percentage": 0.7453,
            "Type": "Individual"
           },
           {
            "Clinic": "NCFP",
            "Date": "2017-09-25",
            "Metric": "Pap Smears",
            "Name": "Jonathan Ploudre",
            "Percentage": 0.7064,
            "Type": "Individual"
           },
           {
            "Clinic": "NCFP",
            "Date": "2018-04-16",
            "Metric": "Pap Smears",
            "Name": "Jonathan Ploudre",
            "Percentage": 0.7642,
            "Type": "Individual"
           },
           {
            "Clinic": "NCFP",
            "Date": "2017-12-26",
            "Metric": "Pap Smears",
            "Name": "Jonathan Ploudre",
            "Percentage": 0.7461,
            "Type": "Individual"
           },
           {
            "Clinic": "NCFP",
            "Date": "2017-12-11",
            "Metric": "Pap Smears",
            "Name": "Jonathan Ploudre",
            "Percentage": 0.7484,
            "Type": "Individual"
           },
           {
            "Clinic": "NCFP",
            "Date": "2017-10-16",
            "Metric": "Pap Smears",
            "Name": "Jonathan Ploudre",
            "Percentage": 0.72,
            "Type": "Individual"
           },
           {
            "Clinic": "NCFP",
            "Date": "2018-02-26",
            "Metric": "Pap Smears",
            "Name": "Jonathan Ploudre",
            "Percentage": 0.7492,
            "Type": "Individual"
           },
           {
            "Clinic": "NCFP",
            "Date": "2017-09-04",
            "Metric": "Pap Smears",
            "Name": "Jonathan Ploudre",
            "Percentage": 0.6696,
            "Type": "Individual"
           },
           {
            "Clinic": "NCFP",
            "Date": "2018-03-26",
            "Metric": "Pap Smears",
            "Name": "Jonathan Ploudre",
            "Percentage": 0.769,
            "Type": "Individual"
           },
           {
            "Clinic": "NCFP",
            "Date": "2017-11-06",
            "Metric": "Pap Smears",
            "Name": "Jonathan Ploudre",
            "Percentage": 0.7375,
            "Type": "Individual"
           },
           {
            "Clinic": "NCFP",
            "Date": "2018-04-30",
            "Metric": "Pap Smears",
            "Name": "Jonathan Ploudre",
            "Percentage": 0.7799,
            "Type": "Individual"
           },
           {
            "Clinic": "NCFP",
            "Date": "2018-05-07",
            "Metric": "Pap Smears",
            "Name": "Jonathan Ploudre",
            "Percentage": 0.793,
            "Type": "Individual"
           },
           {
            "Clinic": "NCFP",
            "Date": "2017-08-28",
            "Metric": "Pap Smears",
            "Name": "Jonathan Ploudre",
            "Percentage": 0.6725,
            "Type": "Individual"
           },
           {
            "Clinic": "NCFP",
            "Date": "2017-09-18",
            "Metric": "Pap Smears",
            "Name": "Jonathan Ploudre",
            "Percentage": 0.6824,
            "Type": "Individual"
           },
           {
            "Clinic": "NCFP",
            "Date": "2018-04-23",
            "Metric": "Pap Smears",
            "Name": "NCFP",
            "Percentage": 0.6741,
            "Type": "Clinic"
           },
           {
            "Clinic": "NCFP",
            "Date": "2018-01-29",
            "Metric": "Pap Smears",
            "Name": "NCFP",
            "Percentage": 0.6693,
            "Type": "Clinic"
           },
           {
            "Clinic": "NCFP",
            "Date": "2017-12-18",
            "Metric": "Pap Smears",
            "Name": "NCFP",
            "Percentage": 0.6669,
            "Type": "Clinic"
           },
           {
            "Clinic": "NCFP",
            "Date": "2018-03-19",
            "Metric": "Pap Smears",
            "Name": "NCFP",
            "Percentage": 0.6685,
            "Type": "Clinic"
           },
           {
            "Clinic": "NCFP",
            "Date": "2018-04-02",
            "Metric": "Pap Smears",
            "Name": "NCFP",
            "Percentage": 0.6712,
            "Type": "Clinic"
           },
           {
            "Clinic": "NCFP",
            "Date": "2017-10-09",
            "Metric": "Pap Smears",
            "Name": "NCFP",
            "Percentage": 0.6467,
            "Type": "Clinic"
           },
           {
            "Clinic": "NCFP",
            "Date": "2018-02-19",
            "Metric": "Pap Smears",
            "Name": "NCFP",
            "Percentage": 0.6652,
            "Type": "Clinic"
           },
           {
            "Clinic": "NCFP",
            "Date": "2018-01-08",
            "Metric": "Pap Smears",
            "Name": "NCFP",
            "Percentage": 0.6702,
            "Type": "Clinic"
           },
           {
            "Clinic": "NCFP",
            "Date": "2018-01-22",
            "Metric": "Pap Smears",
            "Name": "NCFP",
            "Percentage": 0.6683,
            "Type": "Clinic"
           },
           {
            "Clinic": "NCFP",
            "Date": "2017-10-23",
            "Metric": "Pap Smears",
            "Name": "NCFP",
            "Percentage": 0.6497,
            "Type": "Clinic"
           },
           {
            "Clinic": "NCFP",
            "Date": "2017-09-11",
            "Metric": "Pap Smears",
            "Name": "NCFP",
            "Percentage": 0.6277,
            "Type": "Clinic"
           },
           {
            "Clinic": "NCFP",
            "Date": "2018-01-15",
            "Metric": "Pap Smears",
            "Name": "NCFP",
            "Percentage": 0.6696,
            "Type": "Clinic"
           },
           {
            "Clinic": "NCFP",
            "Date": "2017-11-13",
            "Metric": "Pap Smears",
            "Name": "NCFP",
            "Percentage": 0.6608,
            "Type": "Clinic"
           },
           {
            "Clinic": "NCFP",
            "Date": "2017-08-21",
            "Metric": "Pap Smears",
            "Name": "NCFP",
            "Percentage": 0.6198,
            "Type": "Clinic"
           },
           {
            "Clinic": "NCFP",
            "Date": "2017-10-02",
            "Metric": "Pap Smears",
            "Name": "NCFP",
            "Percentage": 0.6467,
            "Type": "Clinic"
           },
           {
            "Clinic": "NCFP",
            "Date": "2018-02-12",
            "Metric": "Pap Smears",
            "Name": "NCFP",
            "Percentage": 0.666,
            "Type": "Clinic"
           },
           {
            "Clinic": "NCFP",
            "Date": "2018-02-05",
            "Metric": "Pap Smears",
            "Name": "NCFP",
            "Percentage": 0.6673,
            "Type": "Clinic"
           },
           {
            "Clinic": "NCFP",
            "Date": "2018-03-12",
            "Metric": "Pap Smears",
            "Name": "NCFP",
            "Percentage": 0.6661,
            "Type": "Clinic"
           },
           {
            "Clinic": "NCFP",
            "Date": "2018-03-05",
            "Metric": "Pap Smears",
            "Name": "NCFP",
            "Percentage": 0.6646,
            "Type": "Clinic"
           },
           {
            "Clinic": "NCFP",
            "Date": "2018-04-09",
            "Metric": "Pap Smears",
            "Name": "NCFP",
            "Percentage": 0.6731,
            "Type": "Clinic"
           },
           {
            "Clinic": "NCFP",
            "Date": "2017-12-04",
            "Metric": "Pap Smears",
            "Name": "NCFP",
            "Percentage": 0.6643,
            "Type": "Clinic"
           },
           {
            "Clinic": "NCFP",
            "Date": "2017-10-30",
            "Metric": "Pap Smears",
            "Name": "NCFP",
            "Percentage": 0.6527,
            "Type": "Clinic"
           },
           {
            "Clinic": "NCFP",
            "Date": "2018-01-01",
            "Metric": "Pap Smears",
            "Name": "NCFP",
            "Percentage": 0.6674,
            "Type": "Clinic"
           },
           {
            "Clinic": "NCFP",
            "Date": "2017-09-25",
            "Metric": "Pap Smears",
            "Name": "NCFP",
            "Percentage": 0.6443,
            "Type": "Clinic"
           },
           {
            "Clinic": "NCFP",
            "Date": "2018-04-16",
            "Metric": "Pap Smears",
            "Name": "NCFP",
            "Percentage": 0.6728,
            "Type": "Clinic"
           },
           {
            "Clinic": "NCFP",
            "Date": "2017-12-26",
            "Metric": "Pap Smears",
            "Name": "NCFP",
            "Percentage": 0.669,
            "Type": "Clinic"
           },
           {
            "Clinic": "NCFP",
            "Date": "2017-12-11",
            "Metric": "Pap Smears",
            "Name": "NCFP",
            "Percentage": 0.6657,
            "Type": "Clinic"
           },
           {
            "Clinic": "NCFP",
            "Date": "2017-10-16",
            "Metric": "Pap Smears",
            "Name": "NCFP",
            "Percentage": 0.648,
            "Type": "Clinic"
           },
           {
            "Clinic": "NCFP",
            "Date": "2018-02-26",
            "Metric": "Pap Smears",
            "Name": "NCFP",
            "Percentage": 0.6647,
            "Type": "Clinic"
           },
           {
            "Clinic": "NCFP",
            "Date": "2017-09-04",
            "Metric": "Pap Smears",
            "Name": "NCFP",
            "Percentage": 0.6202,
            "Type": "Clinic"
           },
           {
            "Clinic": "NCFP",
            "Date": "2018-03-26",
            "Metric": "Pap Smears",
            "Name": "NCFP",
            "Percentage": 0.6714,
            "Type": "Clinic"
           },
           {
            "Clinic": "NCFP",
            "Date": "2017-11-06",
            "Metric": "Pap Smears",
            "Name": "NCFP",
            "Percentage": 0.6573,
            "Type": "Clinic"
           },
           {
            "Clinic": "NCFP",
            "Date": "2018-04-30",
            "Metric": "Pap Smears",
            "Name": "NCFP",
            "Percentage": 0.6762,
            "Type": "Clinic"
           },
           {
            "Clinic": "NCFP",
            "Date": "2018-05-07",
            "Metric": "Pap Smears",
            "Name": "NCFP",
            "Percentage": 0.6795,
            "Type": "Clinic"
           },
           {
            "Clinic": "NCFP",
            "Date": "2017-08-28",
            "Metric": "Pap Smears",
            "Name": "NCFP",
            "Percentage": 0.6211,
            "Type": "Clinic"
           },
           {
            "Clinic": "NCFP",
            "Date": "2017-09-18",
            "Metric": "Pap Smears",
            "Name": "NCFP",
            "Percentage": 0.6299,
            "Type": "Clinic"
           }
          ]
         },
         "encoding": {
          "color": {
           "field": "Name",
           "type": "nominal"
          },
          "x": {
           "field": "Date",
           "title": "",
           "type": "temporal"
          },
          "y": {
           "axis": {
            "format": "%",
            "title": ""
           },
           "field": "Percentage",
           "scale": {
            "domain": [
             0,
             1
            ]
           },
           "type": "quantitative"
          }
         },
         "height": 200,
         "mark": "line",
         "title": "Pap Smears",
         "width": 125
        },
        {
         "layer": [
          {
           "data": {
            "values": [
             {
              "Clinic": "LFM",
              "Date": "2018-05-07",
              "Metric": "Pap Smears",
              "Name": "Steven Alexander",
              "Percentage": 0.4907,
              "Type": "Individual"
             },
             {
              "Clinic": "BellB",
              "Date": "2018-05-07",
              "Metric": "Pap Smears",
              "Name": "Greg Anderson",
              "Percentage": 0.6508,
              "Type": "Individual"
             },
             {
              "Clinic": "FHA",
              "Date": "2018-05-07",
              "Metric": "Pap Smears",
              "Name": "Rodney Anderson",
              "Percentage": 0.8526,
              "Type": "Individual"
             },
             {
              "Clinic": "FFMC",
              "Date": "2018-05-07",
              "Metric": "Pap Smears",
              "Name": "Jennifer Bates",
              "Percentage": 0.7563,
              "Type": "Individual"
             },
             {
              "Clinic": "WFM",
              "Date": "2018-05-07",
              "Metric": "Pap Smears",
              "Name": "Shannon Billau",
              "Percentage": 0.5843,
              "Type": "Individual"
             },
             {
              "Clinic": "WFM",
              "Date": "2018-05-07",
              "Metric": "Pap Smears",
              "Name": "Richard Binder",
              "Percentage": 0.6864,
              "Type": "Individual"
             },
             {
              "Clinic": "IFP",
              "Date": "2018-05-07",
              "Metric": "Pap Smears",
              "Name": "Franklin Bjorseth",
              "Percentage": 0.6651,
              "Type": "Individual"
             },
             {
              "Clinic": "FHA",
              "Date": "2018-05-07",
              "Metric": "Pap Smears",
              "Name": "Edward Bloom",
              "Percentage": 0.6958,
              "Type": "Individual"
             },
             {
              "Clinic": "FHA",
              "Date": "2018-05-07",
              "Metric": "Pap Smears",
              "Name": "Jessica Bloom",
              "Percentage": 0.8342,
              "Type": "Individual"
             },
             {
              "Clinic": "WFM",
              "Date": "2018-05-07",
              "Metric": "Pap Smears",
              "Name": "Steven Bloom",
              "Percentage": 0.3212,
              "Type": "Individual"
             },
             {
              "Clinic": "BellB",
              "Date": "2018-05-07",
              "Metric": "Pap Smears",
              "Name": "Ian Bonner",
              "Percentage": 0.5198,
              "Type": "Individual"
             },
             {
              "Clinic": "BellB",
              "Date": "2018-05-07",
              "Metric": "Pap Smears",
              "Name": "Sara Bowling",
              "Percentage": 0.6485,
              "Type": "Individual"
             },
             {
              "Clinic": "NSFM",
              "Date": "2018-05-07",
              "Metric": "Pap Smears",
              "Name": "Rory Bradt",
              "Percentage": 0.5623,
              "Type": "Individual"
             },
             {
              "Clinic": "FFMC",
              "Date": "2018-05-07",
              "Metric": "Pap Smears",
              "Name": "Rebecca Brejcha",
              "Percentage": null,
              "Type": "Individual"
             },
             {
              "Clinic": "NSFM",
              "Date": "2018-05-07",
              "Metric": "Pap Smears",
              "Name": "Lisa Brodsky",
              "Percentage": 0.6131,
              "Type": "Individual"
             },
             {
              "Clinic": "LFM",
              "Date": "2018-05-07",
              "Metric": "Pap Smears",
              "Name": "Margaret Burden",
              "Percentage": 0.6018,
              "Type": "Individual"
             },
             {
              "Clinic": "NCFP",
              "Date": "2018-05-07",
              "Metric": "Pap Smears",
              "Name": "Erik Bylund",
              "Percentage": 0.6399,
              "Type": "Individual"
             },
             {
              "Clinic": "LFM",
              "Date": "2018-05-07",
              "Metric": "Pap Smears",
              "Name": "Robin Caldwell",
              "Percentage": 0.3707,
              "Type": "Individual"
             },
             {
              "Clinic": "NSFM",
              "Date": "2018-05-07",
              "Metric": "Pap Smears",
              "Name": "William Eiford",
              "Percentage": null,
              "Type": "Individual"
             },
             {
              "Clinic": "NCFP",
              "Date": "2018-05-07",
              "Metric": "Pap Smears",
              "Name": "Roger Estep",
              "Percentage": 0.7135,
              "Type": "Individual"
             },
             {
              "Clinic": "LFM",
              "Date": "2018-05-07",
              "Metric": "Pap Smears",
              "Name": "Michael Fleming",
              "Percentage": 0.5,
              "Type": "Individual"
             },
             {
              "Clinic": "NSFM",
              "Date": "2018-05-07",
              "Metric": "Pap Smears",
              "Name": "Anneliese Floyd",
              "Percentage": 0.7364,
              "Type": "Individual"
             },
             {
              "Clinic": "BellB",
              "Date": "2018-05-07",
              "Metric": "Pap Smears",
              "Name": "Laura Fox",
              "Percentage": 0.7059,
              "Type": "Individual"
             },
             {
              "Clinic": "FFMC",
              "Date": "2018-05-07",
              "Metric": "Pap Smears",
              "Name": "Renay Fredette",
              "Percentage": 0.6836,
              "Type": "Individual"
             },
             {
              "Clinic": "NCFP",
              "Date": "2018-05-07",
              "Metric": "Pap Smears",
              "Name": "Kay-Kay Gambs",
              "Percentage": 0.671,
              "Type": "Individual"
             },
             {
              "Clinic": "NCFP",
              "Date": "2018-05-07",
              "Metric": "Pap Smears",
              "Name": "Jonathan Gamson",
              "Percentage": 0.5819,
              "Type": "Individual"
             },
             {
              "Clinic": "NSFM",
              "Date": "2018-05-07",
              "Metric": "Pap Smears",
              "Name": "Elizabeth Gaylord",
              "Percentage": 0.7087,
              "Type": "Individual"
             },
             {
              "Clinic": "IFP",
              "Date": "2018-05-07",
              "Metric": "Pap Smears",
              "Name": "Karen Goodman",
              "Percentage": 0.715,
              "Type": "Individual"
             },
             {
              "Clinic": "FHA",
              "Date": "2018-05-07",
              "Metric": "Pap Smears",
              "Name": "Deborah Hall",
              "Percentage": 0.6971,
              "Type": "Individual"
             },
             {
              "Clinic": "NCFP",
              "Date": "2018-05-07",
              "Metric": "Pap Smears",
              "Name": "Janet Hansom",
              "Percentage": 0.7952,
              "Type": "Individual"
             },
             {
              "Clinic": "LFM",
              "Date": "2018-05-07",
              "Metric": "Pap Smears",
              "Name": "Larry Hartwell",
              "Percentage": 0.3656,
              "Type": "Individual"
             },
             {
              "Clinic": "SFM",
              "Date": "2018-05-07",
              "Metric": "Pap Smears",
              "Name": "Shelby Hein",
              "Percentage": 0.6591,
              "Type": "Individual"
             },
             {
              "Clinic": "SFM",
              "Date": "2018-05-07",
              "Metric": "Pap Smears",
              "Name": "Harry Herdman",
              "Percentage": 0.6686,
              "Type": "Individual"
             },
             {
              "Clinic": "NSFM",
              "Date": "2018-05-07",
              "Metric": "Pap Smears",
              "Name": "Sarah Herman",
              "Percentage": null,
              "Type": "Individual"
             },
             {
              "Clinic": "LFM",
              "Date": "2018-05-07",
              "Metric": "Pap Smears",
              "Name": "John Hiemstra",
              "Percentage": 0.5247,
              "Type": "Individual"
             },
             {
              "Clinic": "SFM",
              "Date": "2018-05-07",
              "Metric": "Pap Smears",
              "Name": "Heather Honey",
              "Percentage": 0.6179,
              "Type": "Individual"
             },
             {
              "Clinic": "FHA",
              "Date": "2018-05-07",
              "Metric": "Pap Smears",
              "Name": "Ryan Honey",
              "Percentage": 0.4957,
              "Type": "Individual"
             },
             {
              "Clinic": "BellB",
              "Date": "2018-05-07",
              "Metric": "Pap Smears",
              "Name": "Jim Hopper",
              "Percentage": 0.55,
              "Type": "Individual"
             },
             {
              "Clinic": "FFMC",
              "Date": "2018-05-07",
              "Metric": "Pap Smears",
              "Name": "John Hruby",
              "Percentage": 0.664,
              "Type": "Individual"
             },
             {
              "Clinic": "FHA",
              "Date": "2018-05-07",
              "Metric": "Pap Smears",
              "Name": "Kellie Jacobs",
              "Percentage": 0.7969,
              "Type": "Individual"
             },
             {
              "Clinic": "IFP",
              "Date": "2018-05-07",
              "Metric": "Pap Smears",
              "Name": "Michael James",
              "Percentage": 0.5309,
              "Type": "Individual"
             },
             {
              "Clinic": "FHA",
              "Date": "2018-05-07",
              "Metric": "Pap Smears",
              "Name": "Sharon Kerlin",
              "Percentage": null,
              "Type": "Individual"
             },
             {
              "Clinic": "BBFM",
              "Date": "2018-05-07",
              "Metric": "Pap Smears",
              "Name": "Jessica Klassen",
              "Percentage": 0.5458,
              "Type": "Individual"
             },
             {
              "Clinic": "FHA",
              "Date": "2018-05-07",
              "Metric": "Pap Smears",
              "Name": "Meghan Lelonek",
              "Percentage": 0.7167,
              "Type": "Individual"
             },
             {
              "Clinic": "FFMC",
              "Date": "2018-05-07",
              "Metric": "Pap Smears",
              "Name": "Stephen Lewis",
              "Percentage": 0.7228,
              "Type": "Individual"
             },
             {
              "Clinic": "FFMC",
              "Date": "2018-05-07",
              "Metric": "Pap Smears",
              "Name": "Erin Maloney",
              "Percentage": null,
              "Type": "Individual"
             },
             {
              "Clinic": "NCFP",
              "Date": "2018-05-07",
              "Metric": "Pap Smears",
              "Name": "Ross McConahey",
              "Percentage": null,
              "Type": "Individual"
             },
             {
              "Clinic": "NSFM",
              "Date": "2018-05-07",
              "Metric": "Pap Smears",
              "Name": "Patrick McLaughlin",
              "Percentage": 0.5455,
              "Type": "Individual"
             },
             {
              "Clinic": "NCFP",
              "Date": "2018-05-07",
              "Metric": "Pap Smears",
              "Name": "Sally McPherson",
              "Percentage": 0.618,
              "Type": "Individual"
             },
             {
              "Clinic": "NCFP",
              "Date": "2018-05-07",
              "Metric": "Pap Smears",
              "Name": "Lucia Muller",
              "Percentage": 0.6741,
              "Type": "Individual"
             },
             {
              "Clinic": "BellB",
              "Date": "2018-05-07",
              "Metric": "Pap Smears",
              "Name": "Karen O’Keefe",
              "Percentage": 0.841,
              "Type": "Individual"
             },
             {
              "Clinic": "SFM",
              "Date": "2018-05-07",
              "Metric": "Pap Smears",
              "Name": "Lillian Pavlik",
              "Percentage": null,
              "Type": "Individual"
             },
             {
              "Clinic": "LFM",
              "Date": "2018-05-07",
              "Metric": "Pap Smears",
              "Name": "Patricia Payne-Zajac",
              "Percentage": 0.5851,
              "Type": "Individual"
             },
             {
              "Clinic": "NCFP",
              "Date": "2018-05-07",
              "Metric": "Pap Smears",
              "Name": "Jonathan Ploudre",
              "Percentage": 0.793,
              "Type": "Individual"
             },
             {
              "Clinic": "NSFM",
              "Date": "2018-05-07",
              "Metric": "Pap Smears",
              "Name": "John Raduege",
              "Percentage": 0.6325,
              "Type": "Individual"
             },
             {
              "Clinic": "BBFM",
              "Date": "2018-05-07",
              "Metric": "Pap Smears",
              "Name": "Teresa Regier",
              "Percentage": 0.4823,
              "Type": "Individual"
             },
             {
              "Clinic": "FFMC",
              "Date": "2018-05-07",
              "Metric": "Pap Smears",
              "Name": "Claudia Rey",
              "Percentage": 0.7216,
              "Type": "Individual"
             },
             {
              "Clinic": "IFP",
              "Date": "2018-05-07",
              "Metric": "Pap Smears",
              "Name": "Robert Rieger",
              "Percentage": 0.7879,
              "Type": "Individual"
             },
             {
              "Clinic": "SFM",
              "Date": "2018-05-07",
              "Metric": "Pap Smears",
              "Name": "Deborah Roessler",
              "Percentage": 0.6356,
              "Type": "Individual"
             },
             {
              "Clinic": "FFMC",
              "Date": "2018-05-07",
              "Metric": "Pap Smears",
              "Name": "Berdi Sanford",
              "Percentage": 0.7789,
              "Type": "Individual"
             },
             {
              "Clinic": "NCFP",
              "Date": "2018-05-07",
              "Metric": "Pap Smears",
              "Name": "Lauren Sauve",
              "Percentage": 0.5938,
              "Type": "Individual"
             },
             {
              "Clinic": "BellB",
              "Date": "2018-05-07",
              "Metric": "Pap Smears",
              "Name": "Melana Schimke",
              "Percentage": 0.6868,
              "Type": "Individual"
             },
             {
              "Clinic": "FHA",
              "Date": "2018-05-07",
              "Metric": "Pap Smears",
              "Name": "Miriam Shapiro",
              "Percentage": 0.7771,
              "Type": "Individual"
             },
             {
              "Clinic": "NSFM",
              "Date": "2018-05-07",
              "Metric": "Pap Smears",
              "Name": "Jason Short",
              "Percentage": 0.5856,
              "Type": "Individual"
             },
             {
              "Clinic": "NSFM",
              "Date": "2018-05-07",
              "Metric": "Pap Smears",
              "Name": "Vicki Short",
              "Percentage": 0.5796,
              "Type": "Individual"
             },
             {
              "Clinic": "LFM",
              "Date": "2018-05-07",
              "Metric": "Pap Smears",
              "Name": "Ashley Snyder",
              "Percentage": 0.5495,
              "Type": "Individual"
             },
             {
              "Clinic": "FFMC",
              "Date": "2018-05-07",
              "Metric": "Pap Smears",
              "Name": "Kalani Synder",
              "Percentage": 0.4598,
              "Type": "Individual"
             },
             {
              "Clinic": "NSFM",
              "Date": "2018-05-07",
              "Metric": "Pap Smears",
              "Name": "Mary Swanson",
              "Percentage": 0.7769,
              "Type": "Individual"
             },
             {
              "Clinic": "IFP",
              "Date": "2018-05-07",
              "Metric": "Pap Smears",
              "Name": "Magaret Sweeney",
              "Percentage": 0.8671,
              "Type": "Individual"
             },
             {
              "Clinic": "WFM",
              "Date": "2018-05-07",
              "Metric": "Pap Smears",
              "Name": "Heather Thomson",
              "Percentage": 0.5878,
              "Type": "Individual"
             },
             {
              "Clinic": "BellB",
              "Date": "2018-05-07",
              "Metric": "Pap Smears",
              "Name": "Lisa Van Hofwegen",
              "Percentage": 0.7211,
              "Type": "Individual"
             },
             {
              "Clinic": "NSFM",
              "Date": "2018-05-07",
              "Metric": "Pap Smears",
              "Name": "April Wakefield-Pagels",
              "Percentage": 0.748,
              "Type": "Individual"
             },
             {
              "Clinic": "SFM",
              "Date": "2018-05-07",
              "Metric": "Pap Smears",
              "Name": "Joy Welty",
              "Percentage": 0.5756,
              "Type": "Individual"
             },
             {
              "Clinic": "SFM",
              "Date": "2018-05-07",
              "Metric": "Pap Smears",
              "Name": "Matt Werner",
              "Percentage": 0.5837,
              "Type": "Individual"
             },
             {
              "Clinic": "NCFP",
              "Date": "2018-05-07",
              "Metric": "Pap Smears",
              "Name": "Sloane Winkes",
              "Percentage": 0.8179,
              "Type": "Individual"
             },
             {
              "Clinic": "NSFM",
              "Date": "2018-05-07",
              "Metric": "Pap Smears",
              "Name": "Ying Wu",
              "Percentage": 0.7831,
              "Type": "Individual"
             },
             {
              "Clinic": "FHA",
              "Date": "2018-05-07",
              "Metric": "Pap Smears",
              "Name": "Ashley Yoder",
              "Percentage": 0.5918,
              "Type": "Individual"
             }
            ]
           },
           "encoding": {
            "y": {
             "axis": {
              "format": "%",
              "labels": false,
              "title": ""
             },
             "field": "Percentage",
             "scale": {
              "domain": [
               0,
               1
              ]
             },
             "type": "quantitative"
            }
           },
           "height": 200,
           "mark": {
            "color": "#ddd",
            "type": "tick"
           },
           "title": "FCN",
           "width": 30
          },
          {
           "data": {
            "values": [
             {
              "Clinic": "LFM",
              "Date": "2018-05-07",
              "Metric": "Pap Smears",
              "Name": "Steven Alexander",
              "Percentage": 0.4907,
              "Type": "Individual"
             },
             {
              "Clinic": "BellB",
              "Date": "2018-05-07",
              "Metric": "Pap Smears",
              "Name": "Greg Anderson",
              "Percentage": 0.6508,
              "Type": "Individual"
             },
             {
              "Clinic": "FHA",
              "Date": "2018-05-07",
              "Metric": "Pap Smears",
              "Name": "Rodney Anderson",
              "Percentage": 0.8526,
              "Type": "Individual"
             },
             {
              "Clinic": "FFMC",
              "Date": "2018-05-07",
              "Metric": "Pap Smears",
              "Name": "Jennifer Bates",
              "Percentage": 0.7563,
              "Type": "Individual"
             },
             {
              "Clinic": "WFM",
              "Date": "2018-05-07",
              "Metric": "Pap Smears",
              "Name": "Shannon Billau",
              "Percentage": 0.5843,
              "Type": "Individual"
             },
             {
              "Clinic": "WFM",
              "Date": "2018-05-07",
              "Metric": "Pap Smears",
              "Name": "Richard Binder",
              "Percentage": 0.6864,
              "Type": "Individual"
             },
             {
              "Clinic": "IFP",
              "Date": "2018-05-07",
              "Metric": "Pap Smears",
              "Name": "Franklin Bjorseth",
              "Percentage": 0.6651,
              "Type": "Individual"
             },
             {
              "Clinic": "FHA",
              "Date": "2018-05-07",
              "Metric": "Pap Smears",
              "Name": "Edward Bloom",
              "Percentage": 0.6958,
              "Type": "Individual"
             },
             {
              "Clinic": "FHA",
              "Date": "2018-05-07",
              "Metric": "Pap Smears",
              "Name": "Jessica Bloom",
              "Percentage": 0.8342,
              "Type": "Individual"
             },
             {
              "Clinic": "WFM",
              "Date": "2018-05-07",
              "Metric": "Pap Smears",
              "Name": "Steven Bloom",
              "Percentage": 0.3212,
              "Type": "Individual"
             },
             {
              "Clinic": "BellB",
              "Date": "2018-05-07",
              "Metric": "Pap Smears",
              "Name": "Ian Bonner",
              "Percentage": 0.5198,
              "Type": "Individual"
             },
             {
              "Clinic": "BellB",
              "Date": "2018-05-07",
              "Metric": "Pap Smears",
              "Name": "Sara Bowling",
              "Percentage": 0.6485,
              "Type": "Individual"
             },
             {
              "Clinic": "NSFM",
              "Date": "2018-05-07",
              "Metric": "Pap Smears",
              "Name": "Rory Bradt",
              "Percentage": 0.5623,
              "Type": "Individual"
             },
             {
              "Clinic": "FFMC",
              "Date": "2018-05-07",
              "Metric": "Pap Smears",
              "Name": "Rebecca Brejcha",
              "Percentage": null,
              "Type": "Individual"
             },
             {
              "Clinic": "NSFM",
              "Date": "2018-05-07",
              "Metric": "Pap Smears",
              "Name": "Lisa Brodsky",
              "Percentage": 0.6131,
              "Type": "Individual"
             },
             {
              "Clinic": "LFM",
              "Date": "2018-05-07",
              "Metric": "Pap Smears",
              "Name": "Margaret Burden",
              "Percentage": 0.6018,
              "Type": "Individual"
             },
             {
              "Clinic": "NCFP",
              "Date": "2018-05-07",
              "Metric": "Pap Smears",
              "Name": "Erik Bylund",
              "Percentage": 0.6399,
              "Type": "Individual"
             },
             {
              "Clinic": "LFM",
              "Date": "2018-05-07",
              "Metric": "Pap Smears",
              "Name": "Robin Caldwell",
              "Percentage": 0.3707,
              "Type": "Individual"
             },
             {
              "Clinic": "NSFM",
              "Date": "2018-05-07",
              "Metric": "Pap Smears",
              "Name": "William Eiford",
              "Percentage": null,
              "Type": "Individual"
             },
             {
              "Clinic": "NCFP",
              "Date": "2018-05-07",
              "Metric": "Pap Smears",
              "Name": "Roger Estep",
              "Percentage": 0.7135,
              "Type": "Individual"
             },
             {
              "Clinic": "LFM",
              "Date": "2018-05-07",
              "Metric": "Pap Smears",
              "Name": "Michael Fleming",
              "Percentage": 0.5,
              "Type": "Individual"
             },
             {
              "Clinic": "NSFM",
              "Date": "2018-05-07",
              "Metric": "Pap Smears",
              "Name": "Anneliese Floyd",
              "Percentage": 0.7364,
              "Type": "Individual"
             },
             {
              "Clinic": "BellB",
              "Date": "2018-05-07",
              "Metric": "Pap Smears",
              "Name": "Laura Fox",
              "Percentage": 0.7059,
              "Type": "Individual"
             },
             {
              "Clinic": "FFMC",
              "Date": "2018-05-07",
              "Metric": "Pap Smears",
              "Name": "Renay Fredette",
              "Percentage": 0.6836,
              "Type": "Individual"
             },
             {
              "Clinic": "NCFP",
              "Date": "2018-05-07",
              "Metric": "Pap Smears",
              "Name": "Kay-Kay Gambs",
              "Percentage": 0.671,
              "Type": "Individual"
             },
             {
              "Clinic": "NCFP",
              "Date": "2018-05-07",
              "Metric": "Pap Smears",
              "Name": "Jonathan Gamson",
              "Percentage": 0.5819,
              "Type": "Individual"
             },
             {
              "Clinic": "NSFM",
              "Date": "2018-05-07",
              "Metric": "Pap Smears",
              "Name": "Elizabeth Gaylord",
              "Percentage": 0.7087,
              "Type": "Individual"
             },
             {
              "Clinic": "IFP",
              "Date": "2018-05-07",
              "Metric": "Pap Smears",
              "Name": "Karen Goodman",
              "Percentage": 0.715,
              "Type": "Individual"
             },
             {
              "Clinic": "FHA",
              "Date": "2018-05-07",
              "Metric": "Pap Smears",
              "Name": "Deborah Hall",
              "Percentage": 0.6971,
              "Type": "Individual"
             },
             {
              "Clinic": "NCFP",
              "Date": "2018-05-07",
              "Metric": "Pap Smears",
              "Name": "Janet Hansom",
              "Percentage": 0.7952,
              "Type": "Individual"
             },
             {
              "Clinic": "LFM",
              "Date": "2018-05-07",
              "Metric": "Pap Smears",
              "Name": "Larry Hartwell",
              "Percentage": 0.3656,
              "Type": "Individual"
             },
             {
              "Clinic": "SFM",
              "Date": "2018-05-07",
              "Metric": "Pap Smears",
              "Name": "Shelby Hein",
              "Percentage": 0.6591,
              "Type": "Individual"
             },
             {
              "Clinic": "SFM",
              "Date": "2018-05-07",
              "Metric": "Pap Smears",
              "Name": "Harry Herdman",
              "Percentage": 0.6686,
              "Type": "Individual"
             },
             {
              "Clinic": "NSFM",
              "Date": "2018-05-07",
              "Metric": "Pap Smears",
              "Name": "Sarah Herman",
              "Percentage": null,
              "Type": "Individual"
             },
             {
              "Clinic": "LFM",
              "Date": "2018-05-07",
              "Metric": "Pap Smears",
              "Name": "John Hiemstra",
              "Percentage": 0.5247,
              "Type": "Individual"
             },
             {
              "Clinic": "SFM",
              "Date": "2018-05-07",
              "Metric": "Pap Smears",
              "Name": "Heather Honey",
              "Percentage": 0.6179,
              "Type": "Individual"
             },
             {
              "Clinic": "FHA",
              "Date": "2018-05-07",
              "Metric": "Pap Smears",
              "Name": "Ryan Honey",
              "Percentage": 0.4957,
              "Type": "Individual"
             },
             {
              "Clinic": "BellB",
              "Date": "2018-05-07",
              "Metric": "Pap Smears",
              "Name": "Jim Hopper",
              "Percentage": 0.55,
              "Type": "Individual"
             },
             {
              "Clinic": "FFMC",
              "Date": "2018-05-07",
              "Metric": "Pap Smears",
              "Name": "John Hruby",
              "Percentage": 0.664,
              "Type": "Individual"
             },
             {
              "Clinic": "FHA",
              "Date": "2018-05-07",
              "Metric": "Pap Smears",
              "Name": "Kellie Jacobs",
              "Percentage": 0.7969,
              "Type": "Individual"
             },
             {
              "Clinic": "IFP",
              "Date": "2018-05-07",
              "Metric": "Pap Smears",
              "Name": "Michael James",
              "Percentage": 0.5309,
              "Type": "Individual"
             },
             {
              "Clinic": "FHA",
              "Date": "2018-05-07",
              "Metric": "Pap Smears",
              "Name": "Sharon Kerlin",
              "Percentage": null,
              "Type": "Individual"
             },
             {
              "Clinic": "BBFM",
              "Date": "2018-05-07",
              "Metric": "Pap Smears",
              "Name": "Jessica Klassen",
              "Percentage": 0.5458,
              "Type": "Individual"
             },
             {
              "Clinic": "FHA",
              "Date": "2018-05-07",
              "Metric": "Pap Smears",
              "Name": "Meghan Lelonek",
              "Percentage": 0.7167,
              "Type": "Individual"
             },
             {
              "Clinic": "FFMC",
              "Date": "2018-05-07",
              "Metric": "Pap Smears",
              "Name": "Stephen Lewis",
              "Percentage": 0.7228,
              "Type": "Individual"
             },
             {
              "Clinic": "FFMC",
              "Date": "2018-05-07",
              "Metric": "Pap Smears",
              "Name": "Erin Maloney",
              "Percentage": null,
              "Type": "Individual"
             },
             {
              "Clinic": "NCFP",
              "Date": "2018-05-07",
              "Metric": "Pap Smears",
              "Name": "Ross McConahey",
              "Percentage": null,
              "Type": "Individual"
             },
             {
              "Clinic": "NSFM",
              "Date": "2018-05-07",
              "Metric": "Pap Smears",
              "Name": "Patrick McLaughlin",
              "Percentage": 0.5455,
              "Type": "Individual"
             },
             {
              "Clinic": "NCFP",
              "Date": "2018-05-07",
              "Metric": "Pap Smears",
              "Name": "Sally McPherson",
              "Percentage": 0.618,
              "Type": "Individual"
             },
             {
              "Clinic": "NCFP",
              "Date": "2018-05-07",
              "Metric": "Pap Smears",
              "Name": "Lucia Muller",
              "Percentage": 0.6741,
              "Type": "Individual"
             },
             {
              "Clinic": "BellB",
              "Date": "2018-05-07",
              "Metric": "Pap Smears",
              "Name": "Karen O’Keefe",
              "Percentage": 0.841,
              "Type": "Individual"
             },
             {
              "Clinic": "SFM",
              "Date": "2018-05-07",
              "Metric": "Pap Smears",
              "Name": "Lillian Pavlik",
              "Percentage": null,
              "Type": "Individual"
             },
             {
              "Clinic": "LFM",
              "Date": "2018-05-07",
              "Metric": "Pap Smears",
              "Name": "Patricia Payne-Zajac",
              "Percentage": 0.5851,
              "Type": "Individual"
             },
             {
              "Clinic": "NCFP",
              "Date": "2018-05-07",
              "Metric": "Pap Smears",
              "Name": "Jonathan Ploudre",
              "Percentage": 0.793,
              "Type": "Individual"
             },
             {
              "Clinic": "NSFM",
              "Date": "2018-05-07",
              "Metric": "Pap Smears",
              "Name": "John Raduege",
              "Percentage": 0.6325,
              "Type": "Individual"
             },
             {
              "Clinic": "BBFM",
              "Date": "2018-05-07",
              "Metric": "Pap Smears",
              "Name": "Teresa Regier",
              "Percentage": 0.4823,
              "Type": "Individual"
             },
             {
              "Clinic": "FFMC",
              "Date": "2018-05-07",
              "Metric": "Pap Smears",
              "Name": "Claudia Rey",
              "Percentage": 0.7216,
              "Type": "Individual"
             },
             {
              "Clinic": "IFP",
              "Date": "2018-05-07",
              "Metric": "Pap Smears",
              "Name": "Robert Rieger",
              "Percentage": 0.7879,
              "Type": "Individual"
             },
             {
              "Clinic": "SFM",
              "Date": "2018-05-07",
              "Metric": "Pap Smears",
              "Name": "Deborah Roessler",
              "Percentage": 0.6356,
              "Type": "Individual"
             },
             {
              "Clinic": "FFMC",
              "Date": "2018-05-07",
              "Metric": "Pap Smears",
              "Name": "Berdi Sanford",
              "Percentage": 0.7789,
              "Type": "Individual"
             },
             {
              "Clinic": "NCFP",
              "Date": "2018-05-07",
              "Metric": "Pap Smears",
              "Name": "Lauren Sauve",
              "Percentage": 0.5938,
              "Type": "Individual"
             },
             {
              "Clinic": "BellB",
              "Date": "2018-05-07",
              "Metric": "Pap Smears",
              "Name": "Melana Schimke",
              "Percentage": 0.6868,
              "Type": "Individual"
             },
             {
              "Clinic": "FHA",
              "Date": "2018-05-07",
              "Metric": "Pap Smears",
              "Name": "Miriam Shapiro",
              "Percentage": 0.7771,
              "Type": "Individual"
             },
             {
              "Clinic": "NSFM",
              "Date": "2018-05-07",
              "Metric": "Pap Smears",
              "Name": "Jason Short",
              "Percentage": 0.5856,
              "Type": "Individual"
             },
             {
              "Clinic": "NSFM",
              "Date": "2018-05-07",
              "Metric": "Pap Smears",
              "Name": "Vicki Short",
              "Percentage": 0.5796,
              "Type": "Individual"
             },
             {
              "Clinic": "LFM",
              "Date": "2018-05-07",
              "Metric": "Pap Smears",
              "Name": "Ashley Snyder",
              "Percentage": 0.5495,
              "Type": "Individual"
             },
             {
              "Clinic": "FFMC",
              "Date": "2018-05-07",
              "Metric": "Pap Smears",
              "Name": "Kalani Synder",
              "Percentage": 0.4598,
              "Type": "Individual"
             },
             {
              "Clinic": "NSFM",
              "Date": "2018-05-07",
              "Metric": "Pap Smears",
              "Name": "Mary Swanson",
              "Percentage": 0.7769,
              "Type": "Individual"
             },
             {
              "Clinic": "IFP",
              "Date": "2018-05-07",
              "Metric": "Pap Smears",
              "Name": "Magaret Sweeney",
              "Percentage": 0.8671,
              "Type": "Individual"
             },
             {
              "Clinic": "WFM",
              "Date": "2018-05-07",
              "Metric": "Pap Smears",
              "Name": "Heather Thomson",
              "Percentage": 0.5878,
              "Type": "Individual"
             },
             {
              "Clinic": "BellB",
              "Date": "2018-05-07",
              "Metric": "Pap Smears",
              "Name": "Lisa Van Hofwegen",
              "Percentage": 0.7211,
              "Type": "Individual"
             },
             {
              "Clinic": "NSFM",
              "Date": "2018-05-07",
              "Metric": "Pap Smears",
              "Name": "April Wakefield-Pagels",
              "Percentage": 0.748,
              "Type": "Individual"
             },
             {
              "Clinic": "SFM",
              "Date": "2018-05-07",
              "Metric": "Pap Smears",
              "Name": "Joy Welty",
              "Percentage": 0.5756,
              "Type": "Individual"
             },
             {
              "Clinic": "SFM",
              "Date": "2018-05-07",
              "Metric": "Pap Smears",
              "Name": "Matt Werner",
              "Percentage": 0.5837,
              "Type": "Individual"
             },
             {
              "Clinic": "NCFP",
              "Date": "2018-05-07",
              "Metric": "Pap Smears",
              "Name": "Sloane Winkes",
              "Percentage": 0.8179,
              "Type": "Individual"
             },
             {
              "Clinic": "NSFM",
              "Date": "2018-05-07",
              "Metric": "Pap Smears",
              "Name": "Ying Wu",
              "Percentage": 0.7831,
              "Type": "Individual"
             },
             {
              "Clinic": "FHA",
              "Date": "2018-05-07",
              "Metric": "Pap Smears",
              "Name": "Ashley Yoder",
              "Percentage": 0.5918,
              "Type": "Individual"
             }
            ]
           },
           "encoding": {
            "y": {
             "field": "Percentage",
             "type": "quantitative"
            }
           },
           "mark": "tick",
           "transform": [
            {
             "filter": {
              "equal": "Jonathan Ploudre",
              "field": "Name"
             }
            }
           ]
          },
          {
           "data": {
            "values": [
             {
              "Clinic": "LFM",
              "Date": "2018-05-07",
              "Metric": "Pap Smears",
              "Name": "Steven Alexander",
              "Percentage": 0.4907,
              "Type": "Individual"
             },
             {
              "Clinic": "BellB",
              "Date": "2018-05-07",
              "Metric": "Pap Smears",
              "Name": "Greg Anderson",
              "Percentage": 0.6508,
              "Type": "Individual"
             },
             {
              "Clinic": "FHA",
              "Date": "2018-05-07",
              "Metric": "Pap Smears",
              "Name": "Rodney Anderson",
              "Percentage": 0.8526,
              "Type": "Individual"
             },
             {
              "Clinic": "FFMC",
              "Date": "2018-05-07",
              "Metric": "Pap Smears",
              "Name": "Jennifer Bates",
              "Percentage": 0.7563,
              "Type": "Individual"
             },
             {
              "Clinic": "WFM",
              "Date": "2018-05-07",
              "Metric": "Pap Smears",
              "Name": "Shannon Billau",
              "Percentage": 0.5843,
              "Type": "Individual"
             },
             {
              "Clinic": "WFM",
              "Date": "2018-05-07",
              "Metric": "Pap Smears",
              "Name": "Richard Binder",
              "Percentage": 0.6864,
              "Type": "Individual"
             },
             {
              "Clinic": "IFP",
              "Date": "2018-05-07",
              "Metric": "Pap Smears",
              "Name": "Franklin Bjorseth",
              "Percentage": 0.6651,
              "Type": "Individual"
             },
             {
              "Clinic": "FHA",
              "Date": "2018-05-07",
              "Metric": "Pap Smears",
              "Name": "Edward Bloom",
              "Percentage": 0.6958,
              "Type": "Individual"
             },
             {
              "Clinic": "FHA",
              "Date": "2018-05-07",
              "Metric": "Pap Smears",
              "Name": "Jessica Bloom",
              "Percentage": 0.8342,
              "Type": "Individual"
             },
             {
              "Clinic": "WFM",
              "Date": "2018-05-07",
              "Metric": "Pap Smears",
              "Name": "Steven Bloom",
              "Percentage": 0.3212,
              "Type": "Individual"
             },
             {
              "Clinic": "BellB",
              "Date": "2018-05-07",
              "Metric": "Pap Smears",
              "Name": "Ian Bonner",
              "Percentage": 0.5198,
              "Type": "Individual"
             },
             {
              "Clinic": "BellB",
              "Date": "2018-05-07",
              "Metric": "Pap Smears",
              "Name": "Sara Bowling",
              "Percentage": 0.6485,
              "Type": "Individual"
             },
             {
              "Clinic": "NSFM",
              "Date": "2018-05-07",
              "Metric": "Pap Smears",
              "Name": "Rory Bradt",
              "Percentage": 0.5623,
              "Type": "Individual"
             },
             {
              "Clinic": "FFMC",
              "Date": "2018-05-07",
              "Metric": "Pap Smears",
              "Name": "Rebecca Brejcha",
              "Percentage": null,
              "Type": "Individual"
             },
             {
              "Clinic": "NSFM",
              "Date": "2018-05-07",
              "Metric": "Pap Smears",
              "Name": "Lisa Brodsky",
              "Percentage": 0.6131,
              "Type": "Individual"
             },
             {
              "Clinic": "LFM",
              "Date": "2018-05-07",
              "Metric": "Pap Smears",
              "Name": "Margaret Burden",
              "Percentage": 0.6018,
              "Type": "Individual"
             },
             {
              "Clinic": "NCFP",
              "Date": "2018-05-07",
              "Metric": "Pap Smears",
              "Name": "Erik Bylund",
              "Percentage": 0.6399,
              "Type": "Individual"
             },
             {
              "Clinic": "LFM",
              "Date": "2018-05-07",
              "Metric": "Pap Smears",
              "Name": "Robin Caldwell",
              "Percentage": 0.3707,
              "Type": "Individual"
             },
             {
              "Clinic": "NSFM",
              "Date": "2018-05-07",
              "Metric": "Pap Smears",
              "Name": "William Eiford",
              "Percentage": null,
              "Type": "Individual"
             },
             {
              "Clinic": "NCFP",
              "Date": "2018-05-07",
              "Metric": "Pap Smears",
              "Name": "Roger Estep",
              "Percentage": 0.7135,
              "Type": "Individual"
             },
             {
              "Clinic": "LFM",
              "Date": "2018-05-07",
              "Metric": "Pap Smears",
              "Name": "Michael Fleming",
              "Percentage": 0.5,
              "Type": "Individual"
             },
             {
              "Clinic": "NSFM",
              "Date": "2018-05-07",
              "Metric": "Pap Smears",
              "Name": "Anneliese Floyd",
              "Percentage": 0.7364,
              "Type": "Individual"
             },
             {
              "Clinic": "BellB",
              "Date": "2018-05-07",
              "Metric": "Pap Smears",
              "Name": "Laura Fox",
              "Percentage": 0.7059,
              "Type": "Individual"
             },
             {
              "Clinic": "FFMC",
              "Date": "2018-05-07",
              "Metric": "Pap Smears",
              "Name": "Renay Fredette",
              "Percentage": 0.6836,
              "Type": "Individual"
             },
             {
              "Clinic": "NCFP",
              "Date": "2018-05-07",
              "Metric": "Pap Smears",
              "Name": "Kay-Kay Gambs",
              "Percentage": 0.671,
              "Type": "Individual"
             },
             {
              "Clinic": "NCFP",
              "Date": "2018-05-07",
              "Metric": "Pap Smears",
              "Name": "Jonathan Gamson",
              "Percentage": 0.5819,
              "Type": "Individual"
             },
             {
              "Clinic": "NSFM",
              "Date": "2018-05-07",
              "Metric": "Pap Smears",
              "Name": "Elizabeth Gaylord",
              "Percentage": 0.7087,
              "Type": "Individual"
             },
             {
              "Clinic": "IFP",
              "Date": "2018-05-07",
              "Metric": "Pap Smears",
              "Name": "Karen Goodman",
              "Percentage": 0.715,
              "Type": "Individual"
             },
             {
              "Clinic": "FHA",
              "Date": "2018-05-07",
              "Metric": "Pap Smears",
              "Name": "Deborah Hall",
              "Percentage": 0.6971,
              "Type": "Individual"
             },
             {
              "Clinic": "NCFP",
              "Date": "2018-05-07",
              "Metric": "Pap Smears",
              "Name": "Janet Hansom",
              "Percentage": 0.7952,
              "Type": "Individual"
             },
             {
              "Clinic": "LFM",
              "Date": "2018-05-07",
              "Metric": "Pap Smears",
              "Name": "Larry Hartwell",
              "Percentage": 0.3656,
              "Type": "Individual"
             },
             {
              "Clinic": "SFM",
              "Date": "2018-05-07",
              "Metric": "Pap Smears",
              "Name": "Shelby Hein",
              "Percentage": 0.6591,
              "Type": "Individual"
             },
             {
              "Clinic": "SFM",
              "Date": "2018-05-07",
              "Metric": "Pap Smears",
              "Name": "Harry Herdman",
              "Percentage": 0.6686,
              "Type": "Individual"
             },
             {
              "Clinic": "NSFM",
              "Date": "2018-05-07",
              "Metric": "Pap Smears",
              "Name": "Sarah Herman",
              "Percentage": null,
              "Type": "Individual"
             },
             {
              "Clinic": "LFM",
              "Date": "2018-05-07",
              "Metric": "Pap Smears",
              "Name": "John Hiemstra",
              "Percentage": 0.5247,
              "Type": "Individual"
             },
             {
              "Clinic": "SFM",
              "Date": "2018-05-07",
              "Metric": "Pap Smears",
              "Name": "Heather Honey",
              "Percentage": 0.6179,
              "Type": "Individual"
             },
             {
              "Clinic": "FHA",
              "Date": "2018-05-07",
              "Metric": "Pap Smears",
              "Name": "Ryan Honey",
              "Percentage": 0.4957,
              "Type": "Individual"
             },
             {
              "Clinic": "BellB",
              "Date": "2018-05-07",
              "Metric": "Pap Smears",
              "Name": "Jim Hopper",
              "Percentage": 0.55,
              "Type": "Individual"
             },
             {
              "Clinic": "FFMC",
              "Date": "2018-05-07",
              "Metric": "Pap Smears",
              "Name": "John Hruby",
              "Percentage": 0.664,
              "Type": "Individual"
             },
             {
              "Clinic": "FHA",
              "Date": "2018-05-07",
              "Metric": "Pap Smears",
              "Name": "Kellie Jacobs",
              "Percentage": 0.7969,
              "Type": "Individual"
             },
             {
              "Clinic": "IFP",
              "Date": "2018-05-07",
              "Metric": "Pap Smears",
              "Name": "Michael James",
              "Percentage": 0.5309,
              "Type": "Individual"
             },
             {
              "Clinic": "FHA",
              "Date": "2018-05-07",
              "Metric": "Pap Smears",
              "Name": "Sharon Kerlin",
              "Percentage": null,
              "Type": "Individual"
             },
             {
              "Clinic": "BBFM",
              "Date": "2018-05-07",
              "Metric": "Pap Smears",
              "Name": "Jessica Klassen",
              "Percentage": 0.5458,
              "Type": "Individual"
             },
             {
              "Clinic": "FHA",
              "Date": "2018-05-07",
              "Metric": "Pap Smears",
              "Name": "Meghan Lelonek",
              "Percentage": 0.7167,
              "Type": "Individual"
             },
             {
              "Clinic": "FFMC",
              "Date": "2018-05-07",
              "Metric": "Pap Smears",
              "Name": "Stephen Lewis",
              "Percentage": 0.7228,
              "Type": "Individual"
             },
             {
              "Clinic": "FFMC",
              "Date": "2018-05-07",
              "Metric": "Pap Smears",
              "Name": "Erin Maloney",
              "Percentage": null,
              "Type": "Individual"
             },
             {
              "Clinic": "NCFP",
              "Date": "2018-05-07",
              "Metric": "Pap Smears",
              "Name": "Ross McConahey",
              "Percentage": null,
              "Type": "Individual"
             },
             {
              "Clinic": "NSFM",
              "Date": "2018-05-07",
              "Metric": "Pap Smears",
              "Name": "Patrick McLaughlin",
              "Percentage": 0.5455,
              "Type": "Individual"
             },
             {
              "Clinic": "NCFP",
              "Date": "2018-05-07",
              "Metric": "Pap Smears",
              "Name": "Sally McPherson",
              "Percentage": 0.618,
              "Type": "Individual"
             },
             {
              "Clinic": "NCFP",
              "Date": "2018-05-07",
              "Metric": "Pap Smears",
              "Name": "Lucia Muller",
              "Percentage": 0.6741,
              "Type": "Individual"
             },
             {
              "Clinic": "BellB",
              "Date": "2018-05-07",
              "Metric": "Pap Smears",
              "Name": "Karen O’Keefe",
              "Percentage": 0.841,
              "Type": "Individual"
             },
             {
              "Clinic": "SFM",
              "Date": "2018-05-07",
              "Metric": "Pap Smears",
              "Name": "Lillian Pavlik",
              "Percentage": null,
              "Type": "Individual"
             },
             {
              "Clinic": "LFM",
              "Date": "2018-05-07",
              "Metric": "Pap Smears",
              "Name": "Patricia Payne-Zajac",
              "Percentage": 0.5851,
              "Type": "Individual"
             },
             {
              "Clinic": "NCFP",
              "Date": "2018-05-07",
              "Metric": "Pap Smears",
              "Name": "Jonathan Ploudre",
              "Percentage": 0.793,
              "Type": "Individual"
             },
             {
              "Clinic": "NSFM",
              "Date": "2018-05-07",
              "Metric": "Pap Smears",
              "Name": "John Raduege",
              "Percentage": 0.6325,
              "Type": "Individual"
             },
             {
              "Clinic": "BBFM",
              "Date": "2018-05-07",
              "Metric": "Pap Smears",
              "Name": "Teresa Regier",
              "Percentage": 0.4823,
              "Type": "Individual"
             },
             {
              "Clinic": "FFMC",
              "Date": "2018-05-07",
              "Metric": "Pap Smears",
              "Name": "Claudia Rey",
              "Percentage": 0.7216,
              "Type": "Individual"
             },
             {
              "Clinic": "IFP",
              "Date": "2018-05-07",
              "Metric": "Pap Smears",
              "Name": "Robert Rieger",
              "Percentage": 0.7879,
              "Type": "Individual"
             },
             {
              "Clinic": "SFM",
              "Date": "2018-05-07",
              "Metric": "Pap Smears",
              "Name": "Deborah Roessler",
              "Percentage": 0.6356,
              "Type": "Individual"
             },
             {
              "Clinic": "FFMC",
              "Date": "2018-05-07",
              "Metric": "Pap Smears",
              "Name": "Berdi Sanford",
              "Percentage": 0.7789,
              "Type": "Individual"
             },
             {
              "Clinic": "NCFP",
              "Date": "2018-05-07",
              "Metric": "Pap Smears",
              "Name": "Lauren Sauve",
              "Percentage": 0.5938,
              "Type": "Individual"
             },
             {
              "Clinic": "BellB",
              "Date": "2018-05-07",
              "Metric": "Pap Smears",
              "Name": "Melana Schimke",
              "Percentage": 0.6868,
              "Type": "Individual"
             },
             {
              "Clinic": "FHA",
              "Date": "2018-05-07",
              "Metric": "Pap Smears",
              "Name": "Miriam Shapiro",
              "Percentage": 0.7771,
              "Type": "Individual"
             },
             {
              "Clinic": "NSFM",
              "Date": "2018-05-07",
              "Metric": "Pap Smears",
              "Name": "Jason Short",
              "Percentage": 0.5856,
              "Type": "Individual"
             },
             {
              "Clinic": "NSFM",
              "Date": "2018-05-07",
              "Metric": "Pap Smears",
              "Name": "Vicki Short",
              "Percentage": 0.5796,
              "Type": "Individual"
             },
             {
              "Clinic": "LFM",
              "Date": "2018-05-07",
              "Metric": "Pap Smears",
              "Name": "Ashley Snyder",
              "Percentage": 0.5495,
              "Type": "Individual"
             },
             {
              "Clinic": "FFMC",
              "Date": "2018-05-07",
              "Metric": "Pap Smears",
              "Name": "Kalani Synder",
              "Percentage": 0.4598,
              "Type": "Individual"
             },
             {
              "Clinic": "NSFM",
              "Date": "2018-05-07",
              "Metric": "Pap Smears",
              "Name": "Mary Swanson",
              "Percentage": 0.7769,
              "Type": "Individual"
             },
             {
              "Clinic": "IFP",
              "Date": "2018-05-07",
              "Metric": "Pap Smears",
              "Name": "Magaret Sweeney",
              "Percentage": 0.8671,
              "Type": "Individual"
             },
             {
              "Clinic": "WFM",
              "Date": "2018-05-07",
              "Metric": "Pap Smears",
              "Name": "Heather Thomson",
              "Percentage": 0.5878,
              "Type": "Individual"
             },
             {
              "Clinic": "BellB",
              "Date": "2018-05-07",
              "Metric": "Pap Smears",
              "Name": "Lisa Van Hofwegen",
              "Percentage": 0.7211,
              "Type": "Individual"
             },
             {
              "Clinic": "NSFM",
              "Date": "2018-05-07",
              "Metric": "Pap Smears",
              "Name": "April Wakefield-Pagels",
              "Percentage": 0.748,
              "Type": "Individual"
             },
             {
              "Clinic": "SFM",
              "Date": "2018-05-07",
              "Metric": "Pap Smears",
              "Name": "Joy Welty",
              "Percentage": 0.5756,
              "Type": "Individual"
             },
             {
              "Clinic": "SFM",
              "Date": "2018-05-07",
              "Metric": "Pap Smears",
              "Name": "Matt Werner",
              "Percentage": 0.5837,
              "Type": "Individual"
             },
             {
              "Clinic": "NCFP",
              "Date": "2018-05-07",
              "Metric": "Pap Smears",
              "Name": "Sloane Winkes",
              "Percentage": 0.8179,
              "Type": "Individual"
             },
             {
              "Clinic": "NSFM",
              "Date": "2018-05-07",
              "Metric": "Pap Smears",
              "Name": "Ying Wu",
              "Percentage": 0.7831,
              "Type": "Individual"
             },
             {
              "Clinic": "FHA",
              "Date": "2018-05-07",
              "Metric": "Pap Smears",
              "Name": "Ashley Yoder",
              "Percentage": 0.5918,
              "Type": "Individual"
             }
            ]
           },
           "encoding": {
            "text": {
             "field": "Percentage",
             "type": "quantitative"
            },
            "y": {
             "field": "Percentage",
             "type": "quantitative"
            }
           },
           "mark": {
            "align": "right",
            "baseline": "middle",
            "dx": -50,
            "size": 14,
            "type": "text"
           },
           "transform": [
            {
             "filter": {
              "equal": "Jonathan Ploudre",
              "field": "Name"
             }
            }
           ]
          }
         ]
        }
       ]
      },
      "image/png": "[encoded data removed]",
      "text/plain": [
       "<VegaLite 2 object>\n",
       "\n",
       "If you see this message, it means the renderer has not been properly enabled\n",
       "for the frontend that you are using. For more information, see\n",
       "https://altair-viz.github.io/user_guide/troubleshooting.html\n"
      ]
     },
     "execution_count": 142,
     "metadata": {},
     "output_type": "execute_result"
    }
   ],
   "source": [
    "# Altair Graphs to combine.\n",
    "progress_line = alt.Chart(combodf\n",
    "    ).mark_line(\n",
    "    ).encode(\n",
    "        alt.X('Date:T', title=\"\"),\n",
    "        alt.Y('Percentage:Q', axis=alt.Axis(format=\"%\", title=\"\"), \n",
    "              scale=alt.Scale(domain=(0, 1))),\n",
    "        color=\"Name:N\",\n",
    "    ).properties(\n",
    "        title=str(metric),\n",
    "        width=125,\n",
    "        height=200,\n",
    "    )\n",
    "\n",
    "fcn_current_strip_chart = alt.Chart(current_metric\n",
    "    ).mark_tick(\n",
    "        color='#ddd',\n",
    "    ).encode(\n",
    "        alt.Y('Percentage:Q', axis=alt.Axis(format=\"%\", title=\"\", labels=False,),\n",
    "             scale=alt.Scale(domain=(0, 1))),\n",
    "    ).properties(\n",
    "        height=200,\n",
    "        width=30,\n",
    "        title='FCN'\n",
    "    )\n",
    "\n",
    "\n",
    "provider_highlight_strip = alt.Chart(current_metric\n",
    "    ).mark_tick(\n",
    "    ).encode(\n",
    "        alt.Y('Percentage:Q')\n",
    "    ).transform_filter(\n",
    "    alt.FieldEqualPredicate(field='Name', equal=name)\n",
    "    )\n",
    "\n",
    "progress_percent = provider_highlight_strip.mark_text(\n",
    "    align='right',\n",
    "    baseline='middle',\n",
    "    dx=-50,\n",
    "    size=14,\n",
    "    ).encode(\n",
    "        text='Percentage:Q',\n",
    "    )\n",
    "\n",
    "progress_line | (fcn_current_strip_chart + provider_highlight_strip + progress_percent)"
   ]
  },
  {
   "cell_type": "code",
   "execution_count": 5,
   "metadata": {},
   "outputs": [],
   "source": [
    "#clinic = 'NCFP'\n",
    "#type = 'Individual'\n",
    "#name = 'NCFP'\n",
    "#for clinic in df.Clinic.unique():\n",
    "#for metric in df.Metric.unique():\n",
    "#    chart = core_clinic_charts(metric, type, name, clinic) \n",
    "#    foldername = str(name).replace(\" \", \"_\")\n",
    "#    if not os.path.exists(\"./altair-output/\" + foldername):\n",
    "#        os.makedirs(\"./altair-output/\" + foldername)\n",
    "#    chart.save(\"./altair-output/\" + foldername + '/'+ str(metric).replace(\" \", \"_\") + \".json\")"
   ]
  },
  {
   "cell_type": "code",
   "execution_count": null,
   "metadata": {},
   "outputs": [],
   "source": []
  }
 ],
 "metadata": {
  "kernelspec": {
   "display_name": "Python 3",
   "language": "python",
   "name": "python3"
  },
  "language_info": {
   "codemirror_mode": {
    "name": "ipython",
    "version": 3
   },
   "file_extension": ".py",
   "mimetype": "text/x-python",
   "name": "python",
   "nbconvert_exporter": "python",
   "pygments_lexer": "ipython3",
   "version": "3.6.4"
  }
 },
 "nbformat": 4,
 "nbformat_minor": 2
}
