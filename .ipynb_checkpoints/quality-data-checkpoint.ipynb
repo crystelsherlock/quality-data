{
 "cells": [
  {
   "cell_type": "markdown",
   "metadata": {},
   "source": [
    "# Initial Imports & Setup\n",
    "\n",
    "Use Python Data Analysis Libraries to make graphs. "
   ]
  },
  {
   "cell_type": "code",
   "execution_count": 35,
   "metadata": {},
   "outputs": [],
   "source": [
    "import pandas as pd\n",
    "import numpy as np\n",
    "import glob as glob\n",
    "import shutil\n",
    "import os\n",
    "import datetime as datetime\n",
    "import altair as alt\n",
    "from selenium import webdriver"
   ]
  },
  {
   "cell_type": "markdown",
   "metadata": {},
   "source": [
    "# Importing Data into Dataframe\n",
    "\n",
    "Create pandas dataframe from folder of CSV files.\n",
    "\n",
    "Assumes:\n",
    "\n",
    "* **./files/names.csv**: CSV File with Provider/Clinic Names, etc. Names is used to determine active providers/clinics. (So if there's no name, it wont get evaluated later -- say, for example, after Everson Closes.\n",
    "* **./files/metrics.csv**: CSV File with Metrics information (Display Name, Category, Target, etc.)\n",
    "* **./data/(Zero-Padded Date at beginning of CSVs from Meridos).csv**: Files from Automatic weekly report from Meridios"
   ]
  },
  {
   "cell_type": "code",
   "execution_count": 74,
   "metadata": {},
   "outputs": [
    {
     "data": {
      "text/html": [
       "<div>\n",
       "<style scoped>\n",
       "    .dataframe tbody tr th:only-of-type {\n",
       "        vertical-align: middle;\n",
       "    }\n",
       "\n",
       "    .dataframe tbody tr th {\n",
       "        vertical-align: top;\n",
       "    }\n",
       "\n",
       "    .dataframe thead th {\n",
       "        text-align: right;\n",
       "    }\n",
       "</style>\n",
       "<table border=\"1\" class=\"dataframe\">\n",
       "  <thead>\n",
       "    <tr style=\"text-align: right;\">\n",
       "      <th></th>\n",
       "      <th>Name</th>\n",
       "      <th>Type</th>\n",
       "      <th>Clinic</th>\n",
       "      <th>Metric</th>\n",
       "      <th>Date</th>\n",
       "      <th>Percentage</th>\n",
       "    </tr>\n",
       "  </thead>\n",
       "  <tbody>\n",
       "    <tr>\n",
       "      <th>0</th>\n",
       "      <td>Steven Alexander</td>\n",
       "      <td>Individual</td>\n",
       "      <td>LFM</td>\n",
       "      <td>AAA</td>\n",
       "      <td>2018-04-23</td>\n",
       "      <td>38.10</td>\n",
       "    </tr>\n",
       "    <tr>\n",
       "      <th>1</th>\n",
       "      <td>Steven Alexander</td>\n",
       "      <td>Individual</td>\n",
       "      <td>LFM</td>\n",
       "      <td>NaN</td>\n",
       "      <td>2018-04-23</td>\n",
       "      <td>26.39</td>\n",
       "    </tr>\n",
       "    <tr>\n",
       "      <th>2</th>\n",
       "      <td>Steven Alexander</td>\n",
       "      <td>Individual</td>\n",
       "      <td>LFM</td>\n",
       "      <td>NaN</td>\n",
       "      <td>2018-04-23</td>\n",
       "      <td>8.23</td>\n",
       "    </tr>\n",
       "    <tr>\n",
       "      <th>3</th>\n",
       "      <td>Steven Alexander</td>\n",
       "      <td>Individual</td>\n",
       "      <td>LFM</td>\n",
       "      <td>Chlamydia</td>\n",
       "      <td>2018-04-23</td>\n",
       "      <td>NaN</td>\n",
       "    </tr>\n",
       "    <tr>\n",
       "      <th>4</th>\n",
       "      <td>Steven Alexander</td>\n",
       "      <td>Individual</td>\n",
       "      <td>LFM</td>\n",
       "      <td>Colorectal Screen</td>\n",
       "      <td>2018-04-23</td>\n",
       "      <td>71.09</td>\n",
       "    </tr>\n",
       "  </tbody>\n",
       "</table>\n",
       "</div>"
      ],
      "text/plain": [
       "               Name        Type Clinic             Metric       Date  \\\n",
       "0  Steven Alexander  Individual    LFM                AAA 2018-04-23   \n",
       "1  Steven Alexander  Individual    LFM                NaN 2018-04-23   \n",
       "2  Steven Alexander  Individual    LFM                NaN 2018-04-23   \n",
       "3  Steven Alexander  Individual    LFM          Chlamydia 2018-04-23   \n",
       "4  Steven Alexander  Individual    LFM  Colorectal Screen 2018-04-23   \n",
       "\n",
       "   Percentage  \n",
       "0       38.10  \n",
       "1       26.39  \n",
       "2        8.23  \n",
       "3         NaN  \n",
       "4       71.09  "
      ]
     },
     "execution_count": 74,
     "metadata": {},
     "output_type": "execute_result"
    }
   ],
   "source": [
    "names = pd.read_csv('./files/names.csv', index_col='MeridiosName')\n",
    "metrics = pd.read_csv('./files/metrics.csv', dtype={'MeridiosMetric':object, 'Metric':object})\n",
    "metrics.set_index('MeridiosMetric', inplace=True)\n",
    "\n",
    "df = pd.DataFrame()\n",
    "\n",
    "files = glob.glob('./data/*.csv')\n",
    "for file in files:\n",
    "    filedf = pd.read_csv(file,\n",
    "                        usecols=[\"NAME\",\"Metricname\",\"SeenNum\",\"SeenDenom\"])\n",
    "    # Prettier Names\n",
    "    filedf = filedf.rename(columns={'NAME': 'MeridiosName',\n",
    "                                    'Metricname': 'MeridiosMetric',\n",
    "                                    'SeenNum': 'Numerator', \n",
    "                                    'SeenDenom': 'Denominator'})\n",
    "\n",
    "    # Add Lookup Columns\n",
    "    filedf['Name'] = filedf.MeridiosName.map(names.Name)\n",
    "    filedf['Type'] = filedf.MeridiosName.map(names.Type)\n",
    "    filedf['Clinic'] = filedf.MeridiosName.map(names.Clinic)\n",
    "    filedf['Metric'] = filedf.MeridiosMetric.map(metrics.Metric)\n",
    "        \n",
    "    filename_parts = file[7:-4].split(' ')\n",
    "    # 0 Padded Dates with Dots. 03.15.2018\n",
    "    if (len(str(filename_parts[0])) is 10):\n",
    "        filedf['Date'] = datetime.datetime.strptime(filename_parts[0], \"%m.%d.%Y\")\n",
    "        # Who are we kidding with precision. Round to Basis points\n",
    "        filedf['Percentage'] = round(filedf['Numerator'] / filedf['Denominator'] * 100, 2)\n",
    "\n",
    "        # Now delete the 'raw' columns from import\n",
    "        filedf.drop(\"MeridiosName\", axis=1, inplace=True)\n",
    "        filedf.drop(\"MeridiosMetric\", axis=1, inplace=True)\n",
    "        filedf.drop(\"Numerator\", axis=1, inplace=True)\n",
    "        filedf.drop(\"Denominator\", axis=1, inplace=True)\n",
    "    \n",
    "        df = df.append(filedf) \n",
    "    else:\n",
    "        print(\"CSV Data File doesn't have Zero-Padded Date at beginning.\")\n",
    "#df.dtypes\n",
    "df.head()\n",
    "#df.info()\n",
    "#df.describe()\n",
    "#df.columns\n",
    "#df.Metric.unique()"
   ]
  },
  {
   "cell_type": "markdown",
   "metadata": {},
   "source": [
    "## Validations:\n",
    "\n",
    "* Does Data include new MeridiosName, New Metric items? (Has the underlying report changed?)\n",
    "* Should we keep a list of already imported data and do some message to clarify after new data is available?\n",
    "\n",
    "Currently no validations. But should automate checks that new data from report is accurate. "
   ]
  },
  {
   "cell_type": "code",
   "execution_count": 75,
   "metadata": {},
   "outputs": [
    {
     "data": {
      "application/vnd.vegalite.v2+json": {
       "$schema": "https://vega.github.io/schema/vega-lite/v2.4.1.json",
       "config": {
        "view": {
         "height": 300,
         "width": 400
        }
       },
       "data": {
        "values": [
         {
          "Clinic": "NCFP",
          "Date": "2018-04-23",
          "Metric": "Pap Smears",
          "Name": "Erik Bylund",
          "Percentage": 63.39,
          "Type": "Individual"
         },
         {
          "Clinic": "NCFP",
          "Date": "2018-04-23",
          "Metric": "Pap Smears",
          "Name": "Roger Estep",
          "Percentage": 71.5,
          "Type": "Individual"
         },
         {
          "Clinic": "NCFP",
          "Date": "2018-04-23",
          "Metric": "Pap Smears",
          "Name": "Kay-Kay Gambs",
          "Percentage": 67.64,
          "Type": "Individual"
         },
         {
          "Clinic": "NCFP",
          "Date": "2018-04-23",
          "Metric": "Pap Smears",
          "Name": "Jonathan Gamson",
          "Percentage": 57.81,
          "Type": "Individual"
         },
         {
          "Clinic": "NCFP",
          "Date": "2018-04-23",
          "Metric": "Pap Smears",
          "Name": "Janet Hansom",
          "Percentage": 79.26,
          "Type": "Individual"
         },
         {
          "Clinic": "NCFP",
          "Date": "2018-04-23",
          "Metric": "Pap Smears",
          "Name": "Ross McConahey",
          "Percentage": null,
          "Type": "Individual"
         },
         {
          "Clinic": "NCFP",
          "Date": "2018-04-23",
          "Metric": "Pap Smears",
          "Name": "Sally McPherson",
          "Percentage": 61.17,
          "Type": "Individual"
         },
         {
          "Clinic": "NCFP",
          "Date": "2018-04-23",
          "Metric": "Pap Smears",
          "Name": "Lucia Muller",
          "Percentage": 67.04,
          "Type": "Individual"
         },
         {
          "Clinic": "NCFP",
          "Date": "2018-04-23",
          "Metric": "Pap Smears",
          "Name": "Jonathan Ploudre",
          "Percentage": 77.43,
          "Type": "Individual"
         },
         {
          "Clinic": "NCFP",
          "Date": "2018-04-23",
          "Metric": "Pap Smears",
          "Name": "Lauren Sauve",
          "Percentage": 59.12,
          "Type": "Individual"
         },
         {
          "Clinic": "NCFP",
          "Date": "2018-04-23",
          "Metric": "Pap Smears",
          "Name": "Sloane Winkes",
          "Percentage": 79.61,
          "Type": "Individual"
         },
         {
          "Clinic": "NCFP",
          "Date": "2018-01-29",
          "Metric": "Pap Smears",
          "Name": "Erik Bylund",
          "Percentage": 61.82,
          "Type": "Individual"
         },
         {
          "Clinic": "NCFP",
          "Date": "2018-01-29",
          "Metric": "Pap Smears",
          "Name": "Roger Estep",
          "Percentage": 71.43,
          "Type": "Individual"
         },
         {
          "Clinic": "NCFP",
          "Date": "2018-01-29",
          "Metric": "Pap Smears",
          "Name": "Kay-Kay Gambs",
          "Percentage": 68.28,
          "Type": "Individual"
         },
         {
          "Clinic": "NCFP",
          "Date": "2018-01-29",
          "Metric": "Pap Smears",
          "Name": "Jonathan Gamson",
          "Percentage": 52.9,
          "Type": "Individual"
         },
         {
          "Clinic": "NCFP",
          "Date": "2018-01-29",
          "Metric": "Pap Smears",
          "Name": "Janet Hansom",
          "Percentage": 77.3,
          "Type": "Individual"
         },
         {
          "Clinic": "NCFP",
          "Date": "2018-01-29",
          "Metric": "Pap Smears",
          "Name": "Ross McConahey",
          "Percentage": null,
          "Type": "Individual"
         },
         {
          "Clinic": "NCFP",
          "Date": "2018-01-29",
          "Metric": "Pap Smears",
          "Name": "Sally McPherson",
          "Percentage": 60.79,
          "Type": "Individual"
         },
         {
          "Clinic": "NCFP",
          "Date": "2018-01-29",
          "Metric": "Pap Smears",
          "Name": "Lucia Muller",
          "Percentage": 70.14,
          "Type": "Individual"
         },
         {
          "Clinic": "NCFP",
          "Date": "2018-01-29",
          "Metric": "Pap Smears",
          "Name": "Jonathan Ploudre",
          "Percentage": 76.1,
          "Type": "Individual"
         },
         {
          "Clinic": "NCFP",
          "Date": "2018-01-29",
          "Metric": "Pap Smears",
          "Name": "Lauren Sauve",
          "Percentage": 58.57,
          "Type": "Individual"
         },
         {
          "Clinic": "NCFP",
          "Date": "2018-01-29",
          "Metric": "Pap Smears",
          "Name": "Sloane Winkes",
          "Percentage": 80.17,
          "Type": "Individual"
         },
         {
          "Clinic": "NCFP",
          "Date": "2017-12-18",
          "Metric": "Pap Smears",
          "Name": "Erik Bylund",
          "Percentage": 60.27,
          "Type": "Individual"
         },
         {
          "Clinic": "NCFP",
          "Date": "2017-12-18",
          "Metric": "Pap Smears",
          "Name": "Roger Estep",
          "Percentage": 72.04,
          "Type": "Individual"
         },
         {
          "Clinic": "NCFP",
          "Date": "2017-12-18",
          "Metric": "Pap Smears",
          "Name": "Kay-Kay Gambs",
          "Percentage": 67.08,
          "Type": "Individual"
         },
         {
          "Clinic": "NCFP",
          "Date": "2017-12-18",
          "Metric": "Pap Smears",
          "Name": "Jonathan Gamson",
          "Percentage": 54.31,
          "Type": "Individual"
         },
         {
          "Clinic": "NCFP",
          "Date": "2017-12-18",
          "Metric": "Pap Smears",
          "Name": "Janet Hansom",
          "Percentage": 76.48,
          "Type": "Individual"
         },
         {
          "Clinic": "NCFP",
          "Date": "2017-12-18",
          "Metric": "Pap Smears",
          "Name": "Ross McConahey",
          "Percentage": null,
          "Type": "Individual"
         },
         {
          "Clinic": "NCFP",
          "Date": "2017-12-18",
          "Metric": "Pap Smears",
          "Name": "Sally McPherson",
          "Percentage": 58.13,
          "Type": "Individual"
         },
         {
          "Clinic": "NCFP",
          "Date": "2017-12-18",
          "Metric": "Pap Smears",
          "Name": "Lucia Muller",
          "Percentage": 68.96,
          "Type": "Individual"
         },
         {
          "Clinic": "NCFP",
          "Date": "2017-12-18",
          "Metric": "Pap Smears",
          "Name": "Jonathan Ploudre",
          "Percentage": 74.29,
          "Type": "Individual"
         },
         {
          "Clinic": "NCFP",
          "Date": "2017-12-18",
          "Metric": "Pap Smears",
          "Name": "Lauren Sauve",
          "Percentage": 55.41,
          "Type": "Individual"
         },
         {
          "Clinic": "NCFP",
          "Date": "2017-12-18",
          "Metric": "Pap Smears",
          "Name": "Sloane Winkes",
          "Percentage": 82.02,
          "Type": "Individual"
         },
         {
          "Clinic": "NCFP",
          "Date": "2018-03-19",
          "Metric": "Pap Smears",
          "Name": "Erik Bylund",
          "Percentage": 61.9,
          "Type": "Individual"
         },
         {
          "Clinic": "NCFP",
          "Date": "2018-03-19",
          "Metric": "Pap Smears",
          "Name": "Roger Estep",
          "Percentage": 70.62,
          "Type": "Individual"
         },
         {
          "Clinic": "NCFP",
          "Date": "2018-03-19",
          "Metric": "Pap Smears",
          "Name": "Kay-Kay Gambs",
          "Percentage": 67.27,
          "Type": "Individual"
         },
         {
          "Clinic": "NCFP",
          "Date": "2018-03-19",
          "Metric": "Pap Smears",
          "Name": "Jonathan Gamson",
          "Percentage": 55.56,
          "Type": "Individual"
         },
         {
          "Clinic": "NCFP",
          "Date": "2018-03-19",
          "Metric": "Pap Smears",
          "Name": "Janet Hansom",
          "Percentage": 78.56,
          "Type": "Individual"
         },
         {
          "Clinic": "NCFP",
          "Date": "2018-03-19",
          "Metric": "Pap Smears",
          "Name": "Ross McConahey",
          "Percentage": null,
          "Type": "Individual"
         },
         {
          "Clinic": "NCFP",
          "Date": "2018-03-19",
          "Metric": "Pap Smears",
          "Name": "Sally McPherson",
          "Percentage": 61.76,
          "Type": "Individual"
         },
         {
          "Clinic": "NCFP",
          "Date": "2018-03-19",
          "Metric": "Pap Smears",
          "Name": "Lucia Muller",
          "Percentage": 67.97,
          "Type": "Individual"
         },
         {
          "Clinic": "NCFP",
          "Date": "2018-03-19",
          "Metric": "Pap Smears",
          "Name": "Jonathan Ploudre",
          "Percentage": 75.63,
          "Type": "Individual"
         },
         {
          "Clinic": "NCFP",
          "Date": "2018-03-19",
          "Metric": "Pap Smears",
          "Name": "Lauren Sauve",
          "Percentage": 58.96,
          "Type": "Individual"
         },
         {
          "Clinic": "NCFP",
          "Date": "2018-03-19",
          "Metric": "Pap Smears",
          "Name": "Sloane Winkes",
          "Percentage": 78.37,
          "Type": "Individual"
         },
         {
          "Clinic": "NCFP",
          "Date": "2018-04-02",
          "Metric": "Pap Smears",
          "Name": "Erik Bylund",
          "Percentage": 62.93,
          "Type": "Individual"
         },
         {
          "Clinic": "NCFP",
          "Date": "2018-04-02",
          "Metric": "Pap Smears",
          "Name": "Roger Estep",
          "Percentage": 71.88,
          "Type": "Individual"
         },
         {
          "Clinic": "NCFP",
          "Date": "2018-04-02",
          "Metric": "Pap Smears",
          "Name": "Kay-Kay Gambs",
          "Percentage": 67.63,
          "Type": "Individual"
         },
         {
          "Clinic": "NCFP",
          "Date": "2018-04-02",
          "Metric": "Pap Smears",
          "Name": "Jonathan Gamson",
          "Percentage": 56.29,
          "Type": "Individual"
         },
         {
          "Clinic": "NCFP",
          "Date": "2018-04-02",
          "Metric": "Pap Smears",
          "Name": "Janet Hansom",
          "Percentage": 78.99,
          "Type": "Individual"
         },
         {
          "Clinic": "NCFP",
          "Date": "2018-04-02",
          "Metric": "Pap Smears",
          "Name": "Ross McConahey",
          "Percentage": null,
          "Type": "Individual"
         },
         {
          "Clinic": "NCFP",
          "Date": "2018-04-02",
          "Metric": "Pap Smears",
          "Name": "Sally McPherson",
          "Percentage": 60.84,
          "Type": "Individual"
         },
         {
          "Clinic": "NCFP",
          "Date": "2018-04-02",
          "Metric": "Pap Smears",
          "Name": "Lucia Muller",
          "Percentage": 67.79,
          "Type": "Individual"
         },
         {
          "Clinic": "NCFP",
          "Date": "2018-04-02",
          "Metric": "Pap Smears",
          "Name": "Jonathan Ploudre",
          "Percentage": 76.42,
          "Type": "Individual"
         },
         {
          "Clinic": "NCFP",
          "Date": "2018-04-02",
          "Metric": "Pap Smears",
          "Name": "Lauren Sauve",
          "Percentage": 58.94,
          "Type": "Individual"
         },
         {
          "Clinic": "NCFP",
          "Date": "2018-04-02",
          "Metric": "Pap Smears",
          "Name": "Sloane Winkes",
          "Percentage": 79.27,
          "Type": "Individual"
         },
         {
          "Clinic": "NCFP",
          "Date": "2017-10-09",
          "Metric": "Pap Smears",
          "Name": "Erik Bylund",
          "Percentage": 53.87,
          "Type": "Individual"
         },
         {
          "Clinic": "NCFP",
          "Date": "2017-10-09",
          "Metric": "Pap Smears",
          "Name": "Roger Estep",
          "Percentage": 70.9,
          "Type": "Individual"
         },
         {
          "Clinic": "NCFP",
          "Date": "2017-10-09",
          "Metric": "Pap Smears",
          "Name": "Kay-Kay Gambs",
          "Percentage": 66.01,
          "Type": "Individual"
         },
         {
          "Clinic": "NCFP",
          "Date": "2017-10-09",
          "Metric": "Pap Smears",
          "Name": "Jonathan Gamson",
          "Percentage": 48.75,
          "Type": "Individual"
         },
         {
          "Clinic": "NCFP",
          "Date": "2017-10-09",
          "Metric": "Pap Smears",
          "Name": "Janet Hansom",
          "Percentage": 75.63,
          "Type": "Individual"
         },
         {
          "Clinic": "NCFP",
          "Date": "2017-10-09",
          "Metric": "Pap Smears",
          "Name": "Ross McConahey",
          "Percentage": null,
          "Type": "Individual"
         },
         {
          "Clinic": "NCFP",
          "Date": "2017-10-09",
          "Metric": "Pap Smears",
          "Name": "Sally McPherson",
          "Percentage": 57.14,
          "Type": "Individual"
         },
         {
          "Clinic": "NCFP",
          "Date": "2017-10-09",
          "Metric": "Pap Smears",
          "Name": "Lucia Muller",
          "Percentage": 67.07,
          "Type": "Individual"
         },
         {
          "Clinic": "NCFP",
          "Date": "2017-10-09",
          "Metric": "Pap Smears",
          "Name": "Jonathan Ploudre",
          "Percentage": 71.17,
          "Type": "Individual"
         },
         {
          "Clinic": "NCFP",
          "Date": "2017-10-09",
          "Metric": "Pap Smears",
          "Name": "Lauren Sauve",
          "Percentage": 54,
          "Type": "Individual"
         },
         {
          "Clinic": "NCFP",
          "Date": "2017-10-09",
          "Metric": "Pap Smears",
          "Name": "Sloane Winkes",
          "Percentage": 81.99,
          "Type": "Individual"
         },
         {
          "Clinic": "NCFP",
          "Date": "2018-02-19",
          "Metric": "Pap Smears",
          "Name": "Erik Bylund",
          "Percentage": 61.9,
          "Type": "Individual"
         },
         {
          "Clinic": "NCFP",
          "Date": "2018-02-19",
          "Metric": "Pap Smears",
          "Name": "Roger Estep",
          "Percentage": 71.73,
          "Type": "Individual"
         },
         {
          "Clinic": "NCFP",
          "Date": "2018-02-19",
          "Metric": "Pap Smears",
          "Name": "Kay-Kay Gambs",
          "Percentage": 66.37,
          "Type": "Individual"
         },
         {
          "Clinic": "NCFP",
          "Date": "2018-02-19",
          "Metric": "Pap Smears",
          "Name": "Jonathan Gamson",
          "Percentage": 53.72,
          "Type": "Individual"
         },
         {
          "Clinic": "NCFP",
          "Date": "2018-02-19",
          "Metric": "Pap Smears",
          "Name": "Janet Hansom",
          "Percentage": 77.66,
          "Type": "Individual"
         },
         {
          "Clinic": "NCFP",
          "Date": "2018-02-19",
          "Metric": "Pap Smears",
          "Name": "Ross McConahey",
          "Percentage": null,
          "Type": "Individual"
         },
         {
          "Clinic": "NCFP",
          "Date": "2018-02-19",
          "Metric": "Pap Smears",
          "Name": "Sally McPherson",
          "Percentage": 61.19,
          "Type": "Individual"
         },
         {
          "Clinic": "NCFP",
          "Date": "2018-02-19",
          "Metric": "Pap Smears",
          "Name": "Lucia Muller",
          "Percentage": 68.45,
          "Type": "Individual"
         },
         {
          "Clinic": "NCFP",
          "Date": "2018-02-19",
          "Metric": "Pap Smears",
          "Name": "Jonathan Ploudre",
          "Percentage": 74.92,
          "Type": "Individual"
         },
         {
          "Clinic": "NCFP",
          "Date": "2018-02-19",
          "Metric": "Pap Smears",
          "Name": "Lauren Sauve",
          "Percentage": 58.38,
          "Type": "Individual"
         },
         {
          "Clinic": "NCFP",
          "Date": "2018-02-19",
          "Metric": "Pap Smears",
          "Name": "Sloane Winkes",
          "Percentage": 79.67,
          "Type": "Individual"
         },
         {
          "Clinic": "NCFP",
          "Date": "2018-01-08",
          "Metric": "Pap Smears",
          "Name": "Erik Bylund",
          "Percentage": 61.56,
          "Type": "Individual"
         },
         {
          "Clinic": "NCFP",
          "Date": "2018-01-08",
          "Metric": "Pap Smears",
          "Name": "Roger Estep",
          "Percentage": 72.34,
          "Type": "Individual"
         },
         {
          "Clinic": "NCFP",
          "Date": "2018-01-08",
          "Metric": "Pap Smears",
          "Name": "Kay-Kay Gambs",
          "Percentage": 67.91,
          "Type": "Individual"
         },
         {
          "Clinic": "NCFP",
          "Date": "2018-01-08",
          "Metric": "Pap Smears",
          "Name": "Jonathan Gamson",
          "Percentage": 53.38,
          "Type": "Individual"
         },
         {
          "Clinic": "NCFP",
          "Date": "2018-01-08",
          "Metric": "Pap Smears",
          "Name": "Janet Hansom",
          "Percentage": 76.86,
          "Type": "Individual"
         },
         {
          "Clinic": "NCFP",
          "Date": "2018-01-08",
          "Metric": "Pap Smears",
          "Name": "Ross McConahey",
          "Percentage": null,
          "Type": "Individual"
         },
         {
          "Clinic": "NCFP",
          "Date": "2018-01-08",
          "Metric": "Pap Smears",
          "Name": "Sally McPherson",
          "Percentage": 62.45,
          "Type": "Individual"
         },
         {
          "Clinic": "NCFP",
          "Date": "2018-01-08",
          "Metric": "Pap Smears",
          "Name": "Lucia Muller",
          "Percentage": 69.79,
          "Type": "Individual"
         },
         {
          "Clinic": "NCFP",
          "Date": "2018-01-08",
          "Metric": "Pap Smears",
          "Name": "Jonathan Ploudre",
          "Percentage": 74.53,
          "Type": "Individual"
         },
         {
          "Clinic": "NCFP",
          "Date": "2018-01-08",
          "Metric": "Pap Smears",
          "Name": "Lauren Sauve",
          "Percentage": 57.6,
          "Type": "Individual"
         },
         {
          "Clinic": "NCFP",
          "Date": "2018-01-08",
          "Metric": "Pap Smears",
          "Name": "Sloane Winkes",
          "Percentage": 80.83,
          "Type": "Individual"
         },
         {
          "Clinic": "NCFP",
          "Date": "2018-01-22",
          "Metric": "Pap Smears",
          "Name": "Erik Bylund",
          "Percentage": 62.03,
          "Type": "Individual"
         },
         {
          "Clinic": "NCFP",
          "Date": "2018-01-22",
          "Metric": "Pap Smears",
          "Name": "Roger Estep",
          "Percentage": 71.81,
          "Type": "Individual"
         },
         {
          "Clinic": "NCFP",
          "Date": "2018-01-22",
          "Metric": "Pap Smears",
          "Name": "Kay-Kay Gambs",
          "Percentage": 68.34,
          "Type": "Individual"
         },
         {
          "Clinic": "NCFP",
          "Date": "2018-01-22",
          "Metric": "Pap Smears",
          "Name": "Jonathan Gamson",
          "Percentage": 53.21,
          "Type": "Individual"
         },
         {
          "Clinic": "NCFP",
          "Date": "2018-01-22",
          "Metric": "Pap Smears",
          "Name": "Janet Hansom",
          "Percentage": 77.14,
          "Type": "Individual"
         },
         {
          "Clinic": "NCFP",
          "Date": "2018-01-22",
          "Metric": "Pap Smears",
          "Name": "Ross McConahey",
          "Percentage": null,
          "Type": "Individual"
         },
         {
          "Clinic": "NCFP",
          "Date": "2018-01-22",
          "Metric": "Pap Smears",
          "Name": "Sally McPherson",
          "Percentage": 60.92,
          "Type": "Individual"
         },
         {
          "Clinic": "NCFP",
          "Date": "2018-01-22",
          "Metric": "Pap Smears",
          "Name": "Lucia Muller",
          "Percentage": 69.28,
          "Type": "Individual"
         },
         {
          "Clinic": "NCFP",
          "Date": "2018-01-22",
          "Metric": "Pap Smears",
          "Name": "Jonathan Ploudre",
          "Percentage": 75.24,
          "Type": "Individual"
         },
         {
          "Clinic": "NCFP",
          "Date": "2018-01-22",
          "Metric": "Pap Smears",
          "Name": "Lauren Sauve",
          "Percentage": 58.44,
          "Type": "Individual"
         },
         {
          "Clinic": "NCFP",
          "Date": "2018-01-22",
          "Metric": "Pap Smears",
          "Name": "Sloane Winkes",
          "Percentage": 79.83,
          "Type": "Individual"
         },
         {
          "Clinic": "NCFP",
          "Date": "2017-10-23",
          "Metric": "Pap Smears",
          "Name": "Erik Bylund",
          "Percentage": 55.22,
          "Type": "Individual"
         },
         {
          "Clinic": "NCFP",
          "Date": "2017-10-23",
          "Metric": "Pap Smears",
          "Name": "Roger Estep",
          "Percentage": 71.05,
          "Type": "Individual"
         },
         {
          "Clinic": "NCFP",
          "Date": "2017-10-23",
          "Metric": "Pap Smears",
          "Name": "Kay-Kay Gambs",
          "Percentage": 65.66,
          "Type": "Individual"
         },
         {
          "Clinic": "NCFP",
          "Date": "2017-10-23",
          "Metric": "Pap Smears",
          "Name": "Jonathan Gamson",
          "Percentage": 50,
          "Type": "Individual"
         },
         {
          "Clinic": "NCFP",
          "Date": "2017-10-23",
          "Metric": "Pap Smears",
          "Name": "Janet Hansom",
          "Percentage": 75.05,
          "Type": "Individual"
         },
         {
          "Clinic": "NCFP",
          "Date": "2017-10-23",
          "Metric": "Pap Smears",
          "Name": "Ross McConahey",
          "Percentage": null,
          "Type": "Individual"
         },
         {
          "Clinic": "NCFP",
          "Date": "2017-10-23",
          "Metric": "Pap Smears",
          "Name": "Sally McPherson",
          "Percentage": 57.59,
          "Type": "Individual"
         },
         {
          "Clinic": "NCFP",
          "Date": "2017-10-23",
          "Metric": "Pap Smears",
          "Name": "Lucia Muller",
          "Percentage": 67.47,
          "Type": "Individual"
         },
         {
          "Clinic": "NCFP",
          "Date": "2017-10-23",
          "Metric": "Pap Smears",
          "Name": "Jonathan Ploudre",
          "Percentage": 71.83,
          "Type": "Individual"
         },
         {
          "Clinic": "NCFP",
          "Date": "2017-10-23",
          "Metric": "Pap Smears",
          "Name": "Lauren Sauve",
          "Percentage": 54.21,
          "Type": "Individual"
         },
         {
          "Clinic": "NCFP",
          "Date": "2017-10-23",
          "Metric": "Pap Smears",
          "Name": "Sloane Winkes",
          "Percentage": 81.99,
          "Type": "Individual"
         },
         {
          "Clinic": "NCFP",
          "Date": "2017-09-11",
          "Metric": "Pap Smears",
          "Name": "Erik Bylund",
          "Percentage": 50.16,
          "Type": "Individual"
         },
         {
          "Clinic": "NCFP",
          "Date": "2017-09-11",
          "Metric": "Pap Smears",
          "Name": "Roger Estep",
          "Percentage": 70,
          "Type": "Individual"
         },
         {
          "Clinic": "NCFP",
          "Date": "2017-09-11",
          "Metric": "Pap Smears",
          "Name": "Kay-Kay Gambs",
          "Percentage": 64.71,
          "Type": "Individual"
         },
         {
          "Clinic": "NCFP",
          "Date": "2017-09-11",
          "Metric": "Pap Smears",
          "Name": "Jonathan Gamson",
          "Percentage": 46.32,
          "Type": "Individual"
         },
         {
          "Clinic": "NCFP",
          "Date": "2017-09-11",
          "Metric": "Pap Smears",
          "Name": "Janet Hansom",
          "Percentage": 73.61,
          "Type": "Individual"
         },
         {
          "Clinic": "NCFP",
          "Date": "2017-09-11",
          "Metric": "Pap Smears",
          "Name": "Ross McConahey",
          "Percentage": 58.26,
          "Type": "Individual"
         },
         {
          "Clinic": "NCFP",
          "Date": "2017-09-11",
          "Metric": "Pap Smears",
          "Name": "Sally McPherson",
          "Percentage": 68.5,
          "Type": "Individual"
         },
         {
          "Clinic": "NCFP",
          "Date": "2017-09-11",
          "Metric": "Pap Smears",
          "Name": "Lucia Muller",
          "Percentage": 65.88,
          "Type": "Individual"
         },
         {
          "Clinic": "NCFP",
          "Date": "2017-09-11",
          "Metric": "Pap Smears",
          "Name": "Jonathan Ploudre",
          "Percentage": 67.85,
          "Type": "Individual"
         },
         {
          "Clinic": "NCFP",
          "Date": "2017-09-11",
          "Metric": "Pap Smears",
          "Name": "Lauren Sauve",
          "Percentage": 61.67,
          "Type": "Individual"
         },
         {
          "Clinic": "NCFP",
          "Date": "2017-09-11",
          "Metric": "Pap Smears",
          "Name": "Sloane Winkes",
          "Percentage": 79.95,
          "Type": "Individual"
         },
         {
          "Clinic": "NCFP",
          "Date": "2018-01-15",
          "Metric": "Pap Smears",
          "Name": "Erik Bylund",
          "Percentage": 61.56,
          "Type": "Individual"
         },
         {
          "Clinic": "NCFP",
          "Date": "2018-01-15",
          "Metric": "Pap Smears",
          "Name": "Roger Estep",
          "Percentage": 71.96,
          "Type": "Individual"
         },
         {
          "Clinic": "NCFP",
          "Date": "2018-01-15",
          "Metric": "Pap Smears",
          "Name": "Kay-Kay Gambs",
          "Percentage": 68.09,
          "Type": "Individual"
         },
         {
          "Clinic": "NCFP",
          "Date": "2018-01-15",
          "Metric": "Pap Smears",
          "Name": "Jonathan Gamson",
          "Percentage": 53.55,
          "Type": "Individual"
         },
         {
          "Clinic": "NCFP",
          "Date": "2018-01-15",
          "Metric": "Pap Smears",
          "Name": "Janet Hansom",
          "Percentage": 77.02,
          "Type": "Individual"
         },
         {
          "Clinic": "NCFP",
          "Date": "2018-01-15",
          "Metric": "Pap Smears",
          "Name": "Ross McConahey",
          "Percentage": null,
          "Type": "Individual"
         },
         {
          "Clinic": "NCFP",
          "Date": "2018-01-15",
          "Metric": "Pap Smears",
          "Name": "Sally McPherson",
          "Percentage": 61.75,
          "Type": "Individual"
         },
         {
          "Clinic": "NCFP",
          "Date": "2018-01-15",
          "Metric": "Pap Smears",
          "Name": "Lucia Muller",
          "Percentage": 69.08,
          "Type": "Individual"
         },
         {
          "Clinic": "NCFP",
          "Date": "2018-01-15",
          "Metric": "Pap Smears",
          "Name": "Jonathan Ploudre",
          "Percentage": 73.83,
          "Type": "Individual"
         },
         {
          "Clinic": "NCFP",
          "Date": "2018-01-15",
          "Metric": "Pap Smears",
          "Name": "Lauren Sauve",
          "Percentage": 58.8,
          "Type": "Individual"
         },
         {
          "Clinic": "NCFP",
          "Date": "2018-01-15",
          "Metric": "Pap Smears",
          "Name": "Sloane Winkes",
          "Percentage": 80.61,
          "Type": "Individual"
         },
         {
          "Clinic": "NCFP",
          "Date": "2017-11-13",
          "Metric": "Pap Smears",
          "Name": "Erik Bylund",
          "Percentage": 57.97,
          "Type": "Individual"
         },
         {
          "Clinic": "NCFP",
          "Date": "2017-11-13",
          "Metric": "Pap Smears",
          "Name": "Roger Estep",
          "Percentage": 72.73,
          "Type": "Individual"
         },
         {
          "Clinic": "NCFP",
          "Date": "2017-11-13",
          "Metric": "Pap Smears",
          "Name": "Kay-Kay Gambs",
          "Percentage": 66.08,
          "Type": "Individual"
         },
         {
          "Clinic": "NCFP",
          "Date": "2017-11-13",
          "Metric": "Pap Smears",
          "Name": "Jonathan Gamson",
          "Percentage": 52.53,
          "Type": "Individual"
         },
         {
          "Clinic": "NCFP",
          "Date": "2017-11-13",
          "Metric": "Pap Smears",
          "Name": "Janet Hansom",
          "Percentage": 75.94,
          "Type": "Individual"
         },
         {
          "Clinic": "NCFP",
          "Date": "2017-11-13",
          "Metric": "Pap Smears",
          "Name": "Ross McConahey",
          "Percentage": null,
          "Type": "Individual"
         },
         {
          "Clinic": "NCFP",
          "Date": "2017-11-13",
          "Metric": "Pap Smears",
          "Name": "Sally McPherson",
          "Percentage": 57.52,
          "Type": "Individual"
         },
         {
          "Clinic": "NCFP",
          "Date": "2017-11-13",
          "Metric": "Pap Smears",
          "Name": "Lucia Muller",
          "Percentage": 68.2,
          "Type": "Individual"
         },
         {
          "Clinic": "NCFP",
          "Date": "2017-11-13",
          "Metric": "Pap Smears",
          "Name": "Jonathan Ploudre",
          "Percentage": 74.29,
          "Type": "Individual"
         },
         {
          "Clinic": "NCFP",
          "Date": "2017-11-13",
          "Metric": "Pap Smears",
          "Name": "Lauren Sauve",
          "Percentage": 56.08,
          "Type": "Individual"
         },
         {
          "Clinic": "NCFP",
          "Date": "2017-11-13",
          "Metric": "Pap Smears",
          "Name": "Sloane Winkes",
          "Percentage": 81.79,
          "Type": "Individual"
         },
         {
          "Clinic": "NCFP",
          "Date": "2017-08-21",
          "Metric": "Pap Smears",
          "Name": "Erik Bylund",
          "Percentage": 48.88,
          "Type": "Individual"
         },
         {
          "Clinic": "NCFP",
          "Date": "2017-08-21",
          "Metric": "Pap Smears",
          "Name": "Roger Estep",
          "Percentage": 68.59,
          "Type": "Individual"
         },
         {
          "Clinic": "NCFP",
          "Date": "2017-08-21",
          "Metric": "Pap Smears",
          "Name": "Kay-Kay Gambs",
          "Percentage": 63.39,
          "Type": "Individual"
         },
         {
          "Clinic": "NCFP",
          "Date": "2017-08-21",
          "Metric": "Pap Smears",
          "Name": "Jonathan Gamson",
          "Percentage": 43.6,
          "Type": "Individual"
         },
         {
          "Clinic": "NCFP",
          "Date": "2017-08-21",
          "Metric": "Pap Smears",
          "Name": "Janet Hansom",
          "Percentage": 74.13,
          "Type": "Individual"
         },
         {
          "Clinic": "NCFP",
          "Date": "2017-08-21",
          "Metric": "Pap Smears",
          "Name": "Ross McConahey",
          "Percentage": null,
          "Type": "Individual"
         },
         {
          "Clinic": "NCFP",
          "Date": "2017-08-21",
          "Metric": "Pap Smears",
          "Name": "Sally McPherson",
          "Percentage": 55.06,
          "Type": "Individual"
         },
         {
          "Clinic": "NCFP",
          "Date": "2017-08-21",
          "Metric": "Pap Smears",
          "Name": "Lucia Muller",
          "Percentage": 64.91,
          "Type": "Individual"
         },
         {
          "Clinic": "NCFP",
          "Date": "2017-08-21",
          "Metric": "Pap Smears",
          "Name": "Jonathan Ploudre",
          "Percentage": 66.47,
          "Type": "Individual"
         },
         {
          "Clinic": "NCFP",
          "Date": "2017-08-21",
          "Metric": "Pap Smears",
          "Name": "Lauren Sauve",
          "Percentage": 51.36,
          "Type": "Individual"
         },
         {
          "Clinic": "NCFP",
          "Date": "2017-08-21",
          "Metric": "Pap Smears",
          "Name": "Sloane Winkes",
          "Percentage": 78.92,
          "Type": "Individual"
         },
         {
          "Clinic": "NCFP",
          "Date": "2017-10-02",
          "Metric": "Pap Smears",
          "Name": "Erik Bylund",
          "Percentage": 53.51,
          "Type": "Individual"
         },
         {
          "Clinic": "NCFP",
          "Date": "2017-10-02",
          "Metric": "Pap Smears",
          "Name": "Roger Estep",
          "Percentage": 70.9,
          "Type": "Individual"
         },
         {
          "Clinic": "NCFP",
          "Date": "2017-10-02",
          "Metric": "Pap Smears",
          "Name": "Kay-Kay Gambs",
          "Percentage": 66.25,
          "Type": "Individual"
         },
         {
          "Clinic": "NCFP",
          "Date": "2017-10-02",
          "Metric": "Pap Smears",
          "Name": "Jonathan Gamson",
          "Percentage": 48.45,
          "Type": "Individual"
         },
         {
          "Clinic": "NCFP",
          "Date": "2017-10-02",
          "Metric": "Pap Smears",
          "Name": "Janet Hansom",
          "Percentage": 75.16,
          "Type": "Individual"
         },
         {
          "Clinic": "NCFP",
          "Date": "2017-10-02",
          "Metric": "Pap Smears",
          "Name": "Ross McConahey",
          "Percentage": null,
          "Type": "Individual"
         },
         {
          "Clinic": "NCFP",
          "Date": "2017-10-02",
          "Metric": "Pap Smears",
          "Name": "Sally McPherson",
          "Percentage": 57.01,
          "Type": "Individual"
         },
         {
          "Clinic": "NCFP",
          "Date": "2017-10-02",
          "Metric": "Pap Smears",
          "Name": "Lucia Muller",
          "Percentage": 68.17,
          "Type": "Individual"
         },
         {
          "Clinic": "NCFP",
          "Date": "2017-10-02",
          "Metric": "Pap Smears",
          "Name": "Jonathan Ploudre",
          "Percentage": 71.08,
          "Type": "Individual"
         },
         {
          "Clinic": "NCFP",
          "Date": "2017-10-02",
          "Metric": "Pap Smears",
          "Name": "Lauren Sauve",
          "Percentage": 54,
          "Type": "Individual"
         },
         {
          "Clinic": "NCFP",
          "Date": "2017-10-02",
          "Metric": "Pap Smears",
          "Name": "Sloane Winkes",
          "Percentage": 81.49,
          "Type": "Individual"
         },
         {
          "Clinic": "NCFP",
          "Date": "2018-02-12",
          "Metric": "Pap Smears",
          "Name": "Erik Bylund",
          "Percentage": 61.77,
          "Type": "Individual"
         },
         {
          "Clinic": "NCFP",
          "Date": "2018-02-12",
          "Metric": "Pap Smears",
          "Name": "Roger Estep",
          "Percentage": 71.73,
          "Type": "Individual"
         },
         {
          "Clinic": "NCFP",
          "Date": "2018-02-12",
          "Metric": "Pap Smears",
          "Name": "Kay-Kay Gambs",
          "Percentage": 66.61,
          "Type": "Individual"
         },
         {
          "Clinic": "NCFP",
          "Date": "2018-02-12",
          "Metric": "Pap Smears",
          "Name": "Jonathan Gamson",
          "Percentage": 53.4,
          "Type": "Individual"
         },
         {
          "Clinic": "NCFP",
          "Date": "2018-02-12",
          "Metric": "Pap Smears",
          "Name": "Janet Hansom",
          "Percentage": 78.09,
          "Type": "Individual"
         },
         {
          "Clinic": "NCFP",
          "Date": "2018-02-12",
          "Metric": "Pap Smears",
          "Name": "Ross McConahey",
          "Percentage": null,
          "Type": "Individual"
         },
         {
          "Clinic": "NCFP",
          "Date": "2018-02-12",
          "Metric": "Pap Smears",
          "Name": "Sally McPherson",
          "Percentage": 61.1,
          "Type": "Individual"
         },
         {
          "Clinic": "NCFP",
          "Date": "2018-02-12",
          "Metric": "Pap Smears",
          "Name": "Lucia Muller",
          "Percentage": 68.75,
          "Type": "Individual"
         },
         {
          "Clinic": "NCFP",
          "Date": "2018-02-12",
          "Metric": "Pap Smears",
          "Name": "Jonathan Ploudre",
          "Percentage": 74.61,
          "Type": "Individual"
         },
         {
          "Clinic": "NCFP",
          "Date": "2018-02-12",
          "Metric": "Pap Smears",
          "Name": "Lauren Sauve",
          "Percentage": 58.47,
          "Type": "Individual"
         },
         {
          "Clinic": "NCFP",
          "Date": "2018-02-12",
          "Metric": "Pap Smears",
          "Name": "Sloane Winkes",
          "Percentage": 79.72,
          "Type": "Individual"
         },
         {
          "Clinic": "NCFP",
          "Date": "2018-02-05",
          "Metric": "Pap Smears",
          "Name": "Erik Bylund",
          "Percentage": 62.46,
          "Type": "Individual"
         },
         {
          "Clinic": "NCFP",
          "Date": "2018-02-05",
          "Metric": "Pap Smears",
          "Name": "Roger Estep",
          "Percentage": 72.11,
          "Type": "Individual"
         },
         {
          "Clinic": "NCFP",
          "Date": "2018-02-05",
          "Metric": "Pap Smears",
          "Name": "Kay-Kay Gambs",
          "Percentage": 66.31,
          "Type": "Individual"
         },
         {
          "Clinic": "NCFP",
          "Date": "2018-02-05",
          "Metric": "Pap Smears",
          "Name": "Jonathan Gamson",
          "Percentage": 53.4,
          "Type": "Individual"
         },
         {
          "Clinic": "NCFP",
          "Date": "2018-02-05",
          "Metric": "Pap Smears",
          "Name": "Janet Hansom",
          "Percentage": 77.63,
          "Type": "Individual"
         },
         {
          "Clinic": "NCFP",
          "Date": "2018-02-05",
          "Metric": "Pap Smears",
          "Name": "Ross McConahey",
          "Percentage": null,
          "Type": "Individual"
         },
         {
          "Clinic": "NCFP",
          "Date": "2018-02-05",
          "Metric": "Pap Smears",
          "Name": "Sally McPherson",
          "Percentage": 61.01,
          "Type": "Individual"
         },
         {
          "Clinic": "NCFP",
          "Date": "2018-02-05",
          "Metric": "Pap Smears",
          "Name": "Lucia Muller",
          "Percentage": 69.54,
          "Type": "Individual"
         },
         {
          "Clinic": "NCFP",
          "Date": "2018-02-05",
          "Metric": "Pap Smears",
          "Name": "Jonathan Ploudre",
          "Percentage": 75.16,
          "Type": "Individual"
         },
         {
          "Clinic": "NCFP",
          "Date": "2018-02-05",
          "Metric": "Pap Smears",
          "Name": "Lauren Sauve",
          "Percentage": 58.55,
          "Type": "Individual"
         },
         {
          "Clinic": "NCFP",
          "Date": "2018-02-05",
          "Metric": "Pap Smears",
          "Name": "Sloane Winkes",
          "Percentage": 80,
          "Type": "Individual"
         },
         {
          "Clinic": "NCFP",
          "Date": "2018-03-12",
          "Metric": "Pap Smears",
          "Name": "Erik Bylund",
          "Percentage": 61.22,
          "Type": "Individual"
         },
         {
          "Clinic": "NCFP",
          "Date": "2018-03-12",
          "Metric": "Pap Smears",
          "Name": "Roger Estep",
          "Percentage": 70.98,
          "Type": "Individual"
         },
         {
          "Clinic": "NCFP",
          "Date": "2018-03-12",
          "Metric": "Pap Smears",
          "Name": "Kay-Kay Gambs",
          "Percentage": 66.97,
          "Type": "Individual"
         },
         {
          "Clinic": "NCFP",
          "Date": "2018-03-12",
          "Metric": "Pap Smears",
          "Name": "Jonathan Gamson",
          "Percentage": 55.05,
          "Type": "Individual"
         },
         {
          "Clinic": "NCFP",
          "Date": "2018-03-12",
          "Metric": "Pap Smears",
          "Name": "Janet Hansom",
          "Percentage": 78.51,
          "Type": "Individual"
         },
         {
          "Clinic": "NCFP",
          "Date": "2018-03-12",
          "Metric": "Pap Smears",
          "Name": "Ross McConahey",
          "Percentage": null,
          "Type": "Individual"
         },
         {
          "Clinic": "NCFP",
          "Date": "2018-03-12",
          "Metric": "Pap Smears",
          "Name": "Sally McPherson",
          "Percentage": 61.4,
          "Type": "Individual"
         },
         {
          "Clinic": "NCFP",
          "Date": "2018-03-12",
          "Metric": "Pap Smears",
          "Name": "Lucia Muller",
          "Percentage": 68.42,
          "Type": "Individual"
         },
         {
          "Clinic": "NCFP",
          "Date": "2018-03-12",
          "Metric": "Pap Smears",
          "Name": "Jonathan Ploudre",
          "Percentage": 74.92,
          "Type": "Individual"
         },
         {
          "Clinic": "NCFP",
          "Date": "2018-03-12",
          "Metric": "Pap Smears",
          "Name": "Lauren Sauve",
          "Percentage": 58.78,
          "Type": "Individual"
         },
         {
          "Clinic": "NCFP",
          "Date": "2018-03-12",
          "Metric": "Pap Smears",
          "Name": "Sloane Winkes",
          "Percentage": 78.15,
          "Type": "Individual"
         },
         {
          "Clinic": "NCFP",
          "Date": "2018-03-05",
          "Metric": "Pap Smears",
          "Name": "Erik Bylund",
          "Percentage": 60.88,
          "Type": "Individual"
         },
         {
          "Clinic": "NCFP",
          "Date": "2018-03-05",
          "Metric": "Pap Smears",
          "Name": "Roger Estep",
          "Percentage": 71.35,
          "Type": "Individual"
         },
         {
          "Clinic": "NCFP",
          "Date": "2018-03-05",
          "Metric": "Pap Smears",
          "Name": "Kay-Kay Gambs",
          "Percentage": 66.73,
          "Type": "Individual"
         },
         {
          "Clinic": "NCFP",
          "Date": "2018-03-05",
          "Metric": "Pap Smears",
          "Name": "Jonathan Gamson",
          "Percentage": 53.7,
          "Type": "Individual"
         },
         {
          "Clinic": "NCFP",
          "Date": "2018-03-05",
          "Metric": "Pap Smears",
          "Name": "Janet Hansom",
          "Percentage": 78.38,
          "Type": "Individual"
         },
         {
          "Clinic": "NCFP",
          "Date": "2018-03-05",
          "Metric": "Pap Smears",
          "Name": "Ross McConahey",
          "Percentage": null,
          "Type": "Individual"
         },
         {
          "Clinic": "NCFP",
          "Date": "2018-03-05",
          "Metric": "Pap Smears",
          "Name": "Sally McPherson",
          "Percentage": 61.12,
          "Type": "Individual"
         },
         {
          "Clinic": "NCFP",
          "Date": "2018-03-05",
          "Metric": "Pap Smears",
          "Name": "Lucia Muller",
          "Percentage": 68.16,
          "Type": "Individual"
         },
         {
          "Clinic": "NCFP",
          "Date": "2018-03-05",
          "Metric": "Pap Smears",
          "Name": "Jonathan Ploudre",
          "Percentage": 74.92,
          "Type": "Individual"
         },
         {
          "Clinic": "NCFP",
          "Date": "2018-03-05",
          "Metric": "Pap Smears",
          "Name": "Lauren Sauve",
          "Percentage": 58.86,
          "Type": "Individual"
         },
         {
          "Clinic": "NCFP",
          "Date": "2018-03-05",
          "Metric": "Pap Smears",
          "Name": "Sloane Winkes",
          "Percentage": 78.27,
          "Type": "Individual"
         },
         {
          "Clinic": "NCFP",
          "Date": "2018-04-09",
          "Metric": "Pap Smears",
          "Name": "Erik Bylund",
          "Percentage": 62.59,
          "Type": "Individual"
         },
         {
          "Clinic": "NCFP",
          "Date": "2018-04-09",
          "Metric": "Pap Smears",
          "Name": "Roger Estep",
          "Percentage": 71.88,
          "Type": "Individual"
         },
         {
          "Clinic": "NCFP",
          "Date": "2018-04-09",
          "Metric": "Pap Smears",
          "Name": "Kay-Kay Gambs",
          "Percentage": 67.81,
          "Type": "Individual"
         },
         {
          "Clinic": "NCFP",
          "Date": "2018-04-09",
          "Metric": "Pap Smears",
          "Name": "Jonathan Gamson",
          "Percentage": 56.95,
          "Type": "Individual"
         },
         {
          "Clinic": "NCFP",
          "Date": "2018-04-09",
          "Metric": "Pap Smears",
          "Name": "Janet Hansom",
          "Percentage": 79.39,
          "Type": "Individual"
         },
         {
          "Clinic": "NCFP",
          "Date": "2018-04-09",
          "Metric": "Pap Smears",
          "Name": "Ross McConahey",
          "Percentage": null,
          "Type": "Individual"
         },
         {
          "Clinic": "NCFP",
          "Date": "2018-04-09",
          "Metric": "Pap Smears",
          "Name": "Sally McPherson",
          "Percentage": 61.09,
          "Type": "Individual"
         },
         {
          "Clinic": "NCFP",
          "Date": "2018-04-09",
          "Metric": "Pap Smears",
          "Name": "Lucia Muller",
          "Percentage": 67.79,
          "Type": "Individual"
         },
         {
          "Clinic": "NCFP",
          "Date": "2018-04-09",
          "Metric": "Pap Smears",
          "Name": "Jonathan Ploudre",
          "Percentage": 75.47,
          "Type": "Individual"
         },
         {
          "Clinic": "NCFP",
          "Date": "2018-04-09",
          "Metric": "Pap Smears",
          "Name": "Lauren Sauve",
          "Percentage": 59.53,
          "Type": "Individual"
         },
         {
          "Clinic": "NCFP",
          "Date": "2018-04-09",
          "Metric": "Pap Smears",
          "Name": "Sloane Winkes",
          "Percentage": 79.61,
          "Type": "Individual"
         },
         {
          "Clinic": "NCFP",
          "Date": "2017-12-04",
          "Metric": "Pap Smears",
          "Name": "Erik Bylund",
          "Percentage": 59.39,
          "Type": "Individual"
         },
         {
          "Clinic": "NCFP",
          "Date": "2017-12-04",
          "Metric": "Pap Smears",
          "Name": "Roger Estep",
          "Percentage": 73.66,
          "Type": "Individual"
         },
         {
          "Clinic": "NCFP",
          "Date": "2017-12-04",
          "Metric": "Pap Smears",
          "Name": "Kay-Kay Gambs",
          "Percentage": 66.96,
          "Type": "Individual"
         },
         {
          "Clinic": "NCFP",
          "Date": "2017-12-04",
          "Metric": "Pap Smears",
          "Name": "Jonathan Gamson",
          "Percentage": 53.04,
          "Type": "Individual"
         },
         {
          "Clinic": "NCFP",
          "Date": "2017-12-04",
          "Metric": "Pap Smears",
          "Name": "Janet Hansom",
          "Percentage": 76.58,
          "Type": "Individual"
         },
         {
          "Clinic": "NCFP",
          "Date": "2017-12-04",
          "Metric": "Pap Smears",
          "Name": "Ross McConahey",
          "Percentage": null,
          "Type": "Individual"
         },
         {
          "Clinic": "NCFP",
          "Date": "2017-12-04",
          "Metric": "Pap Smears",
          "Name": "Sally McPherson",
          "Percentage": 56.79,
          "Type": "Individual"
         },
         {
          "Clinic": "NCFP",
          "Date": "2017-12-04",
          "Metric": "Pap Smears",
          "Name": "Lucia Muller",
          "Percentage": 68.88,
          "Type": "Individual"
         },
         {
          "Clinic": "NCFP",
          "Date": "2017-12-04",
          "Metric": "Pap Smears",
          "Name": "Jonathan Ploudre",
          "Percentage": 74.92,
          "Type": "Individual"
         },
         {
          "Clinic": "NCFP",
          "Date": "2017-12-04",
          "Metric": "Pap Smears",
          "Name": "Lauren Sauve",
          "Percentage": 55.35,
          "Type": "Individual"
         },
         {
          "Clinic": "NCFP",
          "Date": "2017-12-04",
          "Metric": "Pap Smears",
          "Name": "Sloane Winkes",
          "Percentage": 81.97,
          "Type": "Individual"
         },
         {
          "Clinic": "NCFP",
          "Date": "2017-10-30",
          "Metric": "Pap Smears",
          "Name": "Erik Bylund",
          "Percentage": 55.89,
          "Type": "Individual"
         },
         {
          "Clinic": "NCFP",
          "Date": "2017-10-30",
          "Metric": "Pap Smears",
          "Name": "Roger Estep",
          "Percentage": 70.9,
          "Type": "Individual"
         },
         {
          "Clinic": "NCFP",
          "Date": "2017-10-30",
          "Metric": "Pap Smears",
          "Name": "Kay-Kay Gambs",
          "Percentage": 65.55,
          "Type": "Individual"
         },
         {
          "Clinic": "NCFP",
          "Date": "2017-10-30",
          "Metric": "Pap Smears",
          "Name": "Jonathan Gamson",
          "Percentage": 51.91,
          "Type": "Individual"
         },
         {
          "Clinic": "NCFP",
          "Date": "2017-10-30",
          "Metric": "Pap Smears",
          "Name": "Janet Hansom",
          "Percentage": 75.26,
          "Type": "Individual"
         },
         {
          "Clinic": "NCFP",
          "Date": "2017-10-30",
          "Metric": "Pap Smears",
          "Name": "Ross McConahey",
          "Percentage": null,
          "Type": "Individual"
         },
         {
          "Clinic": "NCFP",
          "Date": "2017-10-30",
          "Metric": "Pap Smears",
          "Name": "Sally McPherson",
          "Percentage": 56.71,
          "Type": "Individual"
         },
         {
          "Clinic": "NCFP",
          "Date": "2017-10-30",
          "Metric": "Pap Smears",
          "Name": "Lucia Muller",
          "Percentage": 67.58,
          "Type": "Individual"
         },
         {
          "Clinic": "NCFP",
          "Date": "2017-10-30",
          "Metric": "Pap Smears",
          "Name": "Jonathan Ploudre",
          "Percentage": 73.37,
          "Type": "Individual"
         },
         {
          "Clinic": "NCFP",
          "Date": "2017-10-30",
          "Metric": "Pap Smears",
          "Name": "Lauren Sauve",
          "Percentage": 55.03,
          "Type": "Individual"
         },
         {
          "Clinic": "NCFP",
          "Date": "2017-10-30",
          "Metric": "Pap Smears",
          "Name": "Sloane Winkes",
          "Percentage": 81.79,
          "Type": "Individual"
         },
         {
          "Clinic": "NCFP",
          "Date": "2018-01-01",
          "Metric": "Pap Smears",
          "Name": "Erik Bylund",
          "Percentage": 60.54,
          "Type": "Individual"
         },
         {
          "Clinic": "NCFP",
          "Date": "2018-01-01",
          "Metric": "Pap Smears",
          "Name": "Roger Estep",
          "Percentage": 72.19,
          "Type": "Individual"
         },
         {
          "Clinic": "NCFP",
          "Date": "2018-01-01",
          "Metric": "Pap Smears",
          "Name": "Kay-Kay Gambs",
          "Percentage": 67.73,
          "Type": "Individual"
         },
         {
          "Clinic": "NCFP",
          "Date": "2018-01-01",
          "Metric": "Pap Smears",
          "Name": "Jonathan Gamson",
          "Percentage": 53.21,
          "Type": "Individual"
         },
         {
          "Clinic": "NCFP",
          "Date": "2018-01-01",
          "Metric": "Pap Smears",
          "Name": "Janet Hansom",
          "Percentage": 76.91,
          "Type": "Individual"
         },
         {
          "Clinic": "NCFP",
          "Date": "2018-01-01",
          "Metric": "Pap Smears",
          "Name": "Ross McConahey",
          "Percentage": null,
          "Type": "Individual"
         },
         {
          "Clinic": "NCFP",
          "Date": "2018-01-01",
          "Metric": "Pap Smears",
          "Name": "Sally McPherson",
          "Percentage": 60.31,
          "Type": "Individual"
         },
         {
          "Clinic": "NCFP",
          "Date": "2018-01-01",
          "Metric": "Pap Smears",
          "Name": "Lucia Muller",
          "Percentage": 69.3,
          "Type": "Individual"
         },
         {
          "Clinic": "NCFP",
          "Date": "2018-01-01",
          "Metric": "Pap Smears",
          "Name": "Jonathan Ploudre",
          "Percentage": 74.53,
          "Type": "Individual"
         },
         {
          "Clinic": "NCFP",
          "Date": "2018-01-01",
          "Metric": "Pap Smears",
          "Name": "Lauren Sauve",
          "Percentage": 55.74,
          "Type": "Individual"
         },
         {
          "Clinic": "NCFP",
          "Date": "2018-01-01",
          "Metric": "Pap Smears",
          "Name": "Sloane Winkes",
          "Percentage": 80.83,
          "Type": "Individual"
         },
         {
          "Clinic": "NCFP",
          "Date": "2017-09-25",
          "Metric": "Pap Smears",
          "Name": "Erik Bylund",
          "Percentage": 52.53,
          "Type": "Individual"
         },
         {
          "Clinic": "NCFP",
          "Date": "2017-09-25",
          "Metric": "Pap Smears",
          "Name": "Roger Estep",
          "Percentage": 71.43,
          "Type": "Individual"
         },
         {
          "Clinic": "NCFP",
          "Date": "2017-09-25",
          "Metric": "Pap Smears",
          "Name": "Kay-Kay Gambs",
          "Percentage": 65.83,
          "Type": "Individual"
         },
         {
          "Clinic": "NCFP",
          "Date": "2017-09-25",
          "Metric": "Pap Smears",
          "Name": "Jonathan Gamson",
          "Percentage": 47.83,
          "Type": "Individual"
         },
         {
          "Clinic": "NCFP",
          "Date": "2017-09-25",
          "Metric": "Pap Smears",
          "Name": "Janet Hansom",
          "Percentage": 75.16,
          "Type": "Individual"
         },
         {
          "Clinic": "NCFP",
          "Date": "2017-09-25",
          "Metric": "Pap Smears",
          "Name": "Ross McConahey",
          "Percentage": null,
          "Type": "Individual"
         },
         {
          "Clinic": "NCFP",
          "Date": "2017-09-25",
          "Metric": "Pap Smears",
          "Name": "Sally McPherson",
          "Percentage": 56.74,
          "Type": "Individual"
         },
         {
          "Clinic": "NCFP",
          "Date": "2017-09-25",
          "Metric": "Pap Smears",
          "Name": "Lucia Muller",
          "Percentage": 68.17,
          "Type": "Individual"
         },
         {
          "Clinic": "NCFP",
          "Date": "2017-09-25",
          "Metric": "Pap Smears",
          "Name": "Jonathan Ploudre",
          "Percentage": 70.64,
          "Type": "Individual"
         },
         {
          "Clinic": "NCFP",
          "Date": "2017-09-25",
          "Metric": "Pap Smears",
          "Name": "Lauren Sauve",
          "Percentage": 53.64,
          "Type": "Individual"
         },
         {
          "Clinic": "NCFP",
          "Date": "2017-09-25",
          "Metric": "Pap Smears",
          "Name": "Sloane Winkes",
          "Percentage": 81.49,
          "Type": "Individual"
         },
         {
          "Clinic": "NCFP",
          "Date": "2018-04-16",
          "Metric": "Pap Smears",
          "Name": "Erik Bylund",
          "Percentage": 62.59,
          "Type": "Individual"
         },
         {
          "Clinic": "NCFP",
          "Date": "2018-04-16",
          "Metric": "Pap Smears",
          "Name": "Roger Estep",
          "Percentage": 71.35,
          "Type": "Individual"
         },
         {
          "Clinic": "NCFP",
          "Date": "2018-04-16",
          "Metric": "Pap Smears",
          "Name": "Kay-Kay Gambs",
          "Percentage": 67.82,
          "Type": "Individual"
         },
         {
          "Clinic": "NCFP",
          "Date": "2018-04-16",
          "Metric": "Pap Smears",
          "Name": "Jonathan Gamson",
          "Percentage": 57.48,
          "Type": "Individual"
         },
         {
          "Clinic": "NCFP",
          "Date": "2018-04-16",
          "Metric": "Pap Smears",
          "Name": "Janet Hansom",
          "Percentage": 79.21,
          "Type": "Individual"
         },
         {
          "Clinic": "NCFP",
          "Date": "2018-04-16",
          "Metric": "Pap Smears",
          "Name": "Ross McConahey",
          "Percentage": null,
          "Type": "Individual"
         },
         {
          "Clinic": "NCFP",
          "Date": "2018-04-16",
          "Metric": "Pap Smears",
          "Name": "Sally McPherson",
          "Percentage": 61.24,
          "Type": "Individual"
         },
         {
          "Clinic": "NCFP",
          "Date": "2018-04-16",
          "Metric": "Pap Smears",
          "Name": "Lucia Muller",
          "Percentage": 67.04,
          "Type": "Individual"
         },
         {
          "Clinic": "NCFP",
          "Date": "2018-04-16",
          "Metric": "Pap Smears",
          "Name": "Jonathan Ploudre",
          "Percentage": 76.42,
          "Type": "Individual"
         },
         {
          "Clinic": "NCFP",
          "Date": "2018-04-16",
          "Metric": "Pap Smears",
          "Name": "Lauren Sauve",
          "Percentage": 59.41,
          "Type": "Individual"
         },
         {
          "Clinic": "NCFP",
          "Date": "2018-04-16",
          "Metric": "Pap Smears",
          "Name": "Sloane Winkes",
          "Percentage": 79.33,
          "Type": "Individual"
         },
         {
          "Clinic": "NCFP",
          "Date": "2017-12-26",
          "Metric": "Pap Smears",
          "Name": "Erik Bylund",
          "Percentage": 60.41,
          "Type": "Individual"
         },
         {
          "Clinic": "NCFP",
          "Date": "2017-12-26",
          "Metric": "Pap Smears",
          "Name": "Roger Estep",
          "Percentage": 72.04,
          "Type": "Individual"
         },
         {
          "Clinic": "NCFP",
          "Date": "2017-12-26",
          "Metric": "Pap Smears",
          "Name": "Kay-Kay Gambs",
          "Percentage": 67.49,
          "Type": "Individual"
         },
         {
          "Clinic": "NCFP",
          "Date": "2017-12-26",
          "Metric": "Pap Smears",
          "Name": "Jonathan Gamson",
          "Percentage": 54.31,
          "Type": "Individual"
         },
         {
          "Clinic": "NCFP",
          "Date": "2017-12-26",
          "Metric": "Pap Smears",
          "Name": "Janet Hansom",
          "Percentage": 77.12,
          "Type": "Individual"
         },
         {
          "Clinic": "NCFP",
          "Date": "2017-12-26",
          "Metric": "Pap Smears",
          "Name": "Ross McConahey",
          "Percentage": null,
          "Type": "Individual"
         },
         {
          "Clinic": "NCFP",
          "Date": "2017-12-26",
          "Metric": "Pap Smears",
          "Name": "Sally McPherson",
          "Percentage": 59.48,
          "Type": "Individual"
         },
         {
          "Clinic": "NCFP",
          "Date": "2017-12-26",
          "Metric": "Pap Smears",
          "Name": "Lucia Muller",
          "Percentage": 68.82,
          "Type": "Individual"
         },
         {
          "Clinic": "NCFP",
          "Date": "2017-12-26",
          "Metric": "Pap Smears",
          "Name": "Jonathan Ploudre",
          "Percentage": 74.61,
          "Type": "Individual"
         },
         {
          "Clinic": "NCFP",
          "Date": "2017-12-26",
          "Metric": "Pap Smears",
          "Name": "Lauren Sauve",
          "Percentage": 55.86,
          "Type": "Individual"
         },
         {
          "Clinic": "NCFP",
          "Date": "2017-12-26",
          "Metric": "Pap Smears",
          "Name": "Sloane Winkes",
          "Percentage": 82.07,
          "Type": "Individual"
         },
         {
          "Clinic": "NCFP",
          "Date": "2017-12-11",
          "Metric": "Pap Smears",
          "Name": "Erik Bylund",
          "Percentage": 59.73,
          "Type": "Individual"
         },
         {
          "Clinic": "NCFP",
          "Date": "2017-12-11",
          "Metric": "Pap Smears",
          "Name": "Roger Estep",
          "Percentage": 72.04,
          "Type": "Individual"
         },
         {
          "Clinic": "NCFP",
          "Date": "2017-12-11",
          "Metric": "Pap Smears",
          "Name": "Kay-Kay Gambs",
          "Percentage": 66.78,
          "Type": "Individual"
         },
         {
          "Clinic": "NCFP",
          "Date": "2017-12-11",
          "Metric": "Pap Smears",
          "Name": "Jonathan Gamson",
          "Percentage": 53.99,
          "Type": "Individual"
         },
         {
          "Clinic": "NCFP",
          "Date": "2017-12-11",
          "Metric": "Pap Smears",
          "Name": "Janet Hansom",
          "Percentage": 76.53,
          "Type": "Individual"
         },
         {
          "Clinic": "NCFP",
          "Date": "2017-12-11",
          "Metric": "Pap Smears",
          "Name": "Ross McConahey",
          "Percentage": null,
          "Type": "Individual"
         },
         {
          "Clinic": "NCFP",
          "Date": "2017-12-11",
          "Metric": "Pap Smears",
          "Name": "Sally McPherson",
          "Percentage": 57.77,
          "Type": "Individual"
         },
         {
          "Clinic": "NCFP",
          "Date": "2017-12-11",
          "Metric": "Pap Smears",
          "Name": "Lucia Muller",
          "Percentage": 68.86,
          "Type": "Individual"
         },
         {
          "Clinic": "NCFP",
          "Date": "2017-12-11",
          "Metric": "Pap Smears",
          "Name": "Jonathan Ploudre",
          "Percentage": 74.84,
          "Type": "Individual"
         },
         {
          "Clinic": "NCFP",
          "Date": "2017-12-11",
          "Metric": "Pap Smears",
          "Name": "Lauren Sauve",
          "Percentage": 55.47,
          "Type": "Individual"
         },
         {
          "Clinic": "NCFP",
          "Date": "2017-12-11",
          "Metric": "Pap Smears",
          "Name": "Sloane Winkes",
          "Percentage": 81.97,
          "Type": "Individual"
         },
         {
          "Clinic": "NCFP",
          "Date": "2017-10-16",
          "Metric": "Pap Smears",
          "Name": "Erik Bylund",
          "Percentage": 54.88,
          "Type": "Individual"
         },
         {
          "Clinic": "NCFP",
          "Date": "2017-10-16",
          "Metric": "Pap Smears",
          "Name": "Roger Estep",
          "Percentage": 70.53,
          "Type": "Individual"
         },
         {
          "Clinic": "NCFP",
          "Date": "2017-10-16",
          "Metric": "Pap Smears",
          "Name": "Kay-Kay Gambs",
          "Percentage": 65.36,
          "Type": "Individual"
         },
         {
          "Clinic": "NCFP",
          "Date": "2017-10-16",
          "Metric": "Pap Smears",
          "Name": "Jonathan Gamson",
          "Percentage": 49.21,
          "Type": "Individual"
         },
         {
          "Clinic": "NCFP",
          "Date": "2017-10-16",
          "Metric": "Pap Smears",
          "Name": "Janet Hansom",
          "Percentage": 75.63,
          "Type": "Individual"
         },
         {
          "Clinic": "NCFP",
          "Date": "2017-10-16",
          "Metric": "Pap Smears",
          "Name": "Ross McConahey",
          "Percentage": null,
          "Type": "Individual"
         },
         {
          "Clinic": "NCFP",
          "Date": "2017-10-16",
          "Metric": "Pap Smears",
          "Name": "Sally McPherson",
          "Percentage": 57.89,
          "Type": "Individual"
         },
         {
          "Clinic": "NCFP",
          "Date": "2017-10-16",
          "Metric": "Pap Smears",
          "Name": "Lucia Muller",
          "Percentage": 66.97,
          "Type": "Individual"
         },
         {
          "Clinic": "NCFP",
          "Date": "2017-10-16",
          "Metric": "Pap Smears",
          "Name": "Jonathan Ploudre",
          "Percentage": 72,
          "Type": "Individual"
         },
         {
          "Clinic": "NCFP",
          "Date": "2017-10-16",
          "Metric": "Pap Smears",
          "Name": "Lauren Sauve",
          "Percentage": 53.65,
          "Type": "Individual"
         },
         {
          "Clinic": "NCFP",
          "Date": "2017-10-16",
          "Metric": "Pap Smears",
          "Name": "Sloane Winkes",
          "Percentage": 81.72,
          "Type": "Individual"
         },
         {
          "Clinic": "NCFP",
          "Date": "2018-02-26",
          "Metric": "Pap Smears",
          "Name": "Erik Bylund",
          "Percentage": 60.88,
          "Type": "Individual"
         },
         {
          "Clinic": "NCFP",
          "Date": "2018-02-26",
          "Metric": "Pap Smears",
          "Name": "Roger Estep",
          "Percentage": 71.88,
          "Type": "Individual"
         },
         {
          "Clinic": "NCFP",
          "Date": "2018-02-26",
          "Metric": "Pap Smears",
          "Name": "Kay-Kay Gambs",
          "Percentage": 66.73,
          "Type": "Individual"
         },
         {
          "Clinic": "NCFP",
          "Date": "2018-02-26",
          "Metric": "Pap Smears",
          "Name": "Jonathan Gamson",
          "Percentage": 53.87,
          "Type": "Individual"
         },
         {
          "Clinic": "NCFP",
          "Date": "2018-02-26",
          "Metric": "Pap Smears",
          "Name": "Janet Hansom",
          "Percentage": 78.26,
          "Type": "Individual"
         },
         {
          "Clinic": "NCFP",
          "Date": "2018-02-26",
          "Metric": "Pap Smears",
          "Name": "Ross McConahey",
          "Percentage": null,
          "Type": "Individual"
         },
         {
          "Clinic": "NCFP",
          "Date": "2018-02-26",
          "Metric": "Pap Smears",
          "Name": "Sally McPherson",
          "Percentage": 60.69,
          "Type": "Individual"
         },
         {
          "Clinic": "NCFP",
          "Date": "2018-02-26",
          "Metric": "Pap Smears",
          "Name": "Lucia Muller",
          "Percentage": 68.26,
          "Type": "Individual"
         },
         {
          "Clinic": "NCFP",
          "Date": "2018-02-26",
          "Metric": "Pap Smears",
          "Name": "Jonathan Ploudre",
          "Percentage": 74.92,
          "Type": "Individual"
         },
         {
          "Clinic": "NCFP",
          "Date": "2018-02-26",
          "Metric": "Pap Smears",
          "Name": "Lauren Sauve",
          "Percentage": 59,
          "Type": "Individual"
         },
         {
          "Clinic": "NCFP",
          "Date": "2018-02-26",
          "Metric": "Pap Smears",
          "Name": "Sloane Winkes",
          "Percentage": 78.27,
          "Type": "Individual"
         },
         {
          "Clinic": "NCFP",
          "Date": "2017-09-04",
          "Metric": "Pap Smears",
          "Name": "Erik Bylund",
          "Percentage": 49.03,
          "Type": "Individual"
         },
         {
          "Clinic": "NCFP",
          "Date": "2017-09-04",
          "Metric": "Pap Smears",
          "Name": "Roger Estep",
          "Percentage": 68.95,
          "Type": "Individual"
         },
         {
          "Clinic": "NCFP",
          "Date": "2017-09-04",
          "Metric": "Pap Smears",
          "Name": "Kay-Kay Gambs",
          "Percentage": 63.52,
          "Type": "Individual"
         },
         {
          "Clinic": "NCFP",
          "Date": "2017-09-04",
          "Metric": "Pap Smears",
          "Name": "Jonathan Gamson",
          "Percentage": 44.98,
          "Type": "Individual"
         },
         {
          "Clinic": "NCFP",
          "Date": "2017-09-04",
          "Metric": "Pap Smears",
          "Name": "Janet Hansom",
          "Percentage": 74.07,
          "Type": "Individual"
         },
         {
          "Clinic": "NCFP",
          "Date": "2017-09-04",
          "Metric": "Pap Smears",
          "Name": "Ross McConahey",
          "Percentage": null,
          "Type": "Individual"
         },
         {
          "Clinic": "NCFP",
          "Date": "2017-09-04",
          "Metric": "Pap Smears",
          "Name": "Sally McPherson",
          "Percentage": 54.49,
          "Type": "Individual"
         },
         {
          "Clinic": "NCFP",
          "Date": "2017-09-04",
          "Metric": "Pap Smears",
          "Name": "Lucia Muller",
          "Percentage": 65.29,
          "Type": "Individual"
         },
         {
          "Clinic": "NCFP",
          "Date": "2017-09-04",
          "Metric": "Pap Smears",
          "Name": "Jonathan Ploudre",
          "Percentage": 66.96,
          "Type": "Individual"
         },
         {
          "Clinic": "NCFP",
          "Date": "2017-09-04",
          "Metric": "Pap Smears",
          "Name": "Lauren Sauve",
          "Percentage": 50.89,
          "Type": "Individual"
         },
         {
          "Clinic": "NCFP",
          "Date": "2017-09-04",
          "Metric": "Pap Smears",
          "Name": "Sloane Winkes",
          "Percentage": 79.67,
          "Type": "Individual"
         },
         {
          "Clinic": "NCFP",
          "Date": "2018-03-26",
          "Metric": "Pap Smears",
          "Name": "Erik Bylund",
          "Percentage": 62.59,
          "Type": "Individual"
         },
         {
          "Clinic": "NCFP",
          "Date": "2018-03-26",
          "Metric": "Pap Smears",
          "Name": "Roger Estep",
          "Percentage": 71.5,
          "Type": "Individual"
         },
         {
          "Clinic": "NCFP",
          "Date": "2018-03-26",
          "Metric": "Pap Smears",
          "Name": "Kay-Kay Gambs",
          "Percentage": 67.57,
          "Type": "Individual"
         },
         {
          "Clinic": "NCFP",
          "Date": "2018-03-26",
          "Metric": "Pap Smears",
          "Name": "Jonathan Gamson",
          "Percentage": 56.07,
          "Type": "Individual"
         },
         {
          "Clinic": "NCFP",
          "Date": "2018-03-26",
          "Metric": "Pap Smears",
          "Name": "Janet Hansom",
          "Percentage": 78.56,
          "Type": "Individual"
         },
         {
          "Clinic": "NCFP",
          "Date": "2018-03-26",
          "Metric": "Pap Smears",
          "Name": "Ross McConahey",
          "Percentage": null,
          "Type": "Individual"
         },
         {
          "Clinic": "NCFP",
          "Date": "2018-03-26",
          "Metric": "Pap Smears",
          "Name": "Sally McPherson",
          "Percentage": 61.42,
          "Type": "Individual"
         },
         {
          "Clinic": "NCFP",
          "Date": "2018-03-26",
          "Metric": "Pap Smears",
          "Name": "Lucia Muller",
          "Percentage": 68.44,
          "Type": "Individual"
         },
         {
          "Clinic": "NCFP",
          "Date": "2018-03-26",
          "Metric": "Pap Smears",
          "Name": "Jonathan Ploudre",
          "Percentage": 76.9,
          "Type": "Individual"
         },
         {
          "Clinic": "NCFP",
          "Date": "2018-03-26",
          "Metric": "Pap Smears",
          "Name": "Lauren Sauve",
          "Percentage": 59,
          "Type": "Individual"
         },
         {
          "Clinic": "NCFP",
          "Date": "2018-03-26",
          "Metric": "Pap Smears",
          "Name": "Sloane Winkes",
          "Percentage": 78.65,
          "Type": "Individual"
         },
         {
          "Clinic": "NCFP",
          "Date": "2017-11-06",
          "Metric": "Pap Smears",
          "Name": "Erik Bylund",
          "Percentage": 55.74,
          "Type": "Individual"
         },
         {
          "Clinic": "NCFP",
          "Date": "2017-11-06",
          "Metric": "Pap Smears",
          "Name": "Roger Estep",
          "Percentage": 71.28,
          "Type": "Individual"
         },
         {
          "Clinic": "NCFP",
          "Date": "2017-11-06",
          "Metric": "Pap Smears",
          "Name": "Kay-Kay Gambs",
          "Percentage": 66.31,
          "Type": "Individual"
         },
         {
          "Clinic": "NCFP",
          "Date": "2017-11-06",
          "Metric": "Pap Smears",
          "Name": "Jonathan Gamson",
          "Percentage": 52.37,
          "Type": "Individual"
         },
         {
          "Clinic": "NCFP",
          "Date": "2017-11-06",
          "Metric": "Pap Smears",
          "Name": "Janet Hansom",
          "Percentage": 76.1,
          "Type": "Individual"
         },
         {
          "Clinic": "NCFP",
          "Date": "2017-11-06",
          "Metric": "Pap Smears",
          "Name": "Ross McConahey",
          "Percentage": null,
          "Type": "Individual"
         },
         {
          "Clinic": "NCFP",
          "Date": "2017-11-06",
          "Metric": "Pap Smears",
          "Name": "Sally McPherson",
          "Percentage": 57.66,
          "Type": "Individual"
         },
         {
          "Clinic": "NCFP",
          "Date": "2017-11-06",
          "Metric": "Pap Smears",
          "Name": "Lucia Muller",
          "Percentage": 68.29,
          "Type": "Individual"
         },
         {
          "Clinic": "NCFP",
          "Date": "2017-11-06",
          "Metric": "Pap Smears",
          "Name": "Jonathan Ploudre",
          "Percentage": 73.75,
          "Type": "Individual"
         },
         {
          "Clinic": "NCFP",
          "Date": "2017-11-06",
          "Metric": "Pap Smears",
          "Name": "Lauren Sauve",
          "Percentage": 55.37,
          "Type": "Individual"
         },
         {
          "Clinic": "NCFP",
          "Date": "2017-11-06",
          "Metric": "Pap Smears",
          "Name": "Sloane Winkes",
          "Percentage": 81.84,
          "Type": "Individual"
         },
         {
          "Clinic": "NCFP",
          "Date": "2018-04-30",
          "Metric": "Pap Smears",
          "Name": "Erik Bylund",
          "Percentage": 64.36,
          "Type": "Individual"
         },
         {
          "Clinic": "NCFP",
          "Date": "2018-04-30",
          "Metric": "Pap Smears",
          "Name": "Roger Estep",
          "Percentage": 71.35,
          "Type": "Individual"
         },
         {
          "Clinic": "NCFP",
          "Date": "2018-04-30",
          "Metric": "Pap Smears",
          "Name": "Kay-Kay Gambs",
          "Percentage": 67.4,
          "Type": "Individual"
         },
         {
          "Clinic": "NCFP",
          "Date": "2018-04-30",
          "Metric": "Pap Smears",
          "Name": "Jonathan Gamson",
          "Percentage": 57.81,
          "Type": "Individual"
         },
         {
          "Clinic": "NCFP",
          "Date": "2018-04-30",
          "Metric": "Pap Smears",
          "Name": "Janet Hansom",
          "Percentage": 79.87,
          "Type": "Individual"
         },
         {
          "Clinic": "NCFP",
          "Date": "2018-04-30",
          "Metric": "Pap Smears",
          "Name": "Ross McConahey",
          "Percentage": null,
          "Type": "Individual"
         },
         {
          "Clinic": "NCFP",
          "Date": "2018-04-30",
          "Metric": "Pap Smears",
          "Name": "Sally McPherson",
          "Percentage": 61.11,
          "Type": "Individual"
         },
         {
          "Clinic": "NCFP",
          "Date": "2018-04-30",
          "Metric": "Pap Smears",
          "Name": "Lucia Muller",
          "Percentage": 67.23,
          "Type": "Individual"
         },
         {
          "Clinic": "NCFP",
          "Date": "2018-04-30",
          "Metric": "Pap Smears",
          "Name": "Jonathan Ploudre",
          "Percentage": 77.99,
          "Type": "Individual"
         },
         {
          "Clinic": "NCFP",
          "Date": "2018-04-30",
          "Metric": "Pap Smears",
          "Name": "Lauren Sauve",
          "Percentage": 59.03,
          "Type": "Individual"
         },
         {
          "Clinic": "NCFP",
          "Date": "2018-04-30",
          "Metric": "Pap Smears",
          "Name": "Sloane Winkes",
          "Percentage": 80.45,
          "Type": "Individual"
         },
         {
          "Clinic": "NCFP",
          "Date": "2017-08-28",
          "Metric": "Pap Smears",
          "Name": "Erik Bylund",
          "Percentage": 48.87,
          "Type": "Individual"
         },
         {
          "Clinic": "NCFP",
          "Date": "2017-08-28",
          "Metric": "Pap Smears",
          "Name": "Roger Estep",
          "Percentage": 68.95,
          "Type": "Individual"
         },
         {
          "Clinic": "NCFP",
          "Date": "2017-08-28",
          "Metric": "Pap Smears",
          "Name": "Kay-Kay Gambs",
          "Percentage": 64.11,
          "Type": "Individual"
         },
         {
          "Clinic": "NCFP",
          "Date": "2017-08-28",
          "Metric": "Pap Smears",
          "Name": "Jonathan Gamson",
          "Percentage": 44.82,
          "Type": "Individual"
         },
         {
          "Clinic": "NCFP",
          "Date": "2017-08-28",
          "Metric": "Pap Smears",
          "Name": "Janet Hansom",
          "Percentage": 74.07,
          "Type": "Individual"
         },
         {
          "Clinic": "NCFP",
          "Date": "2017-08-28",
          "Metric": "Pap Smears",
          "Name": "Ross McConahey",
          "Percentage": null,
          "Type": "Individual"
         },
         {
          "Clinic": "NCFP",
          "Date": "2017-08-28",
          "Metric": "Pap Smears",
          "Name": "Sally McPherson",
          "Percentage": 54.72,
          "Type": "Individual"
         },
         {
          "Clinic": "NCFP",
          "Date": "2017-08-28",
          "Metric": "Pap Smears",
          "Name": "Lucia Muller",
          "Percentage": 64.62,
          "Type": "Individual"
         },
         {
          "Clinic": "NCFP",
          "Date": "2017-08-28",
          "Metric": "Pap Smears",
          "Name": "Jonathan Ploudre",
          "Percentage": 67.25,
          "Type": "Individual"
         },
         {
          "Clinic": "NCFP",
          "Date": "2017-08-28",
          "Metric": "Pap Smears",
          "Name": "Lauren Sauve",
          "Percentage": 51.5,
          "Type": "Individual"
         },
         {
          "Clinic": "NCFP",
          "Date": "2017-08-28",
          "Metric": "Pap Smears",
          "Name": "Sloane Winkes",
          "Percentage": 79.4,
          "Type": "Individual"
         },
         {
          "Clinic": "NCFP",
          "Date": "2017-09-18",
          "Metric": "Pap Smears",
          "Name": "Erik Bylund",
          "Percentage": 50.16,
          "Type": "Individual"
         },
         {
          "Clinic": "NCFP",
          "Date": "2017-09-18",
          "Metric": "Pap Smears",
          "Name": "Roger Estep",
          "Percentage": 70.53,
          "Type": "Individual"
         },
         {
          "Clinic": "NCFP",
          "Date": "2017-09-18",
          "Metric": "Pap Smears",
          "Name": "Kay-Kay Gambs",
          "Percentage": 64.77,
          "Type": "Individual"
         },
         {
          "Clinic": "NCFP",
          "Date": "2017-09-18",
          "Metric": "Pap Smears",
          "Name": "Jonathan Gamson",
          "Percentage": 46.34,
          "Type": "Individual"
         },
         {
          "Clinic": "NCFP",
          "Date": "2017-09-18",
          "Metric": "Pap Smears",
          "Name": "Janet Hansom",
          "Percentage": 73.81,
          "Type": "Individual"
         },
         {
          "Clinic": "NCFP",
          "Date": "2017-09-18",
          "Metric": "Pap Smears",
          "Name": "Ross McConahey",
          "Percentage": null,
          "Type": "Individual"
         },
         {
          "Clinic": "NCFP",
          "Date": "2017-09-18",
          "Metric": "Pap Smears",
          "Name": "Sally McPherson",
          "Percentage": 55.94,
          "Type": "Individual"
         },
         {
          "Clinic": "NCFP",
          "Date": "2017-09-18",
          "Metric": "Pap Smears",
          "Name": "Lucia Muller",
          "Percentage": 66.27,
          "Type": "Individual"
         },
         {
          "Clinic": "NCFP",
          "Date": "2017-09-18",
          "Metric": "Pap Smears",
          "Name": "Jonathan Ploudre",
          "Percentage": 68.24,
          "Type": "Individual"
         },
         {
          "Clinic": "NCFP",
          "Date": "2017-09-18",
          "Metric": "Pap Smears",
          "Name": "Lauren Sauve",
          "Percentage": 52.75,
          "Type": "Individual"
         },
         {
          "Clinic": "NCFP",
          "Date": "2017-09-18",
          "Metric": "Pap Smears",
          "Name": "Sloane Winkes",
          "Percentage": 79.73,
          "Type": "Individual"
         }
        ]
       },
       "encoding": {
        "color": {
         "field": "Name",
         "type": "nominal"
        },
        "tooltip": {
         "field": "Name",
         "type": "nominal"
        },
        "x": {
         "field": "Date",
         "type": "temporal"
        },
        "y": {
         "field": "Percentage",
         "type": "quantitative"
        }
       },
       "mark": "line"
      },
      "image/png": "[encoded data removed]",
      "text/plain": [
       "<VegaLite 2 object>\n",
       "\n",
       "If you see this message, it means the renderer has not been properly enabled\n",
       "for the frontend that you are using. For more information, see\n",
       "https://altair-viz.github.io/user_guide/troubleshooting.html\n"
      ]
     },
     "execution_count": 75,
     "metadata": {},
     "output_type": "execute_result"
    }
   ],
   "source": [
    "chart = alt.Chart(df[(df['Metric']==\"Pap Smears\") & (df['Type']=='Individual') & (df['Clinic']=='NCFP')]).mark_line().encode(\n",
    "    x='Date',\n",
    "    y='Percentage',\n",
    "    color='Name',\n",
    "    tooltip='Name'\n",
    ")\n",
    "chart\n",
    "\n",
    "#for metric in df.Metric.unique():\n",
    "#    make_fcn_summary_graphs(metric)\n",
    "    \n"
   ]
  },
  {
   "cell_type": "markdown",
   "metadata": {},
   "source": [
    "# Matplotlib Graphs\n",
    "\n",
    "These graphs are a first attempt to make individual folders. Roughly 1200 pictures from dataframe. \n",
    "\n",
    "Creates ./output/ folder with SVG files and an index.html file. "
   ]
  },
  {
   "cell_type": "code",
   "execution_count": 23,
   "metadata": {},
   "outputs": [
    {
     "name": "stderr",
     "output_type": "stream",
     "text": [
      "/Users/jonathan/anaconda/lib/python3.6/site-packages/ipykernel_launcher.py:18: SettingWithCopyWarning: \n",
      "A value is trying to be set on a copy of a slice from a DataFrame\n",
      "\n",
      "See the caveats in the documentation: http://pandas.pydata.org/pandas-docs/stable/indexing.html#indexing-view-versus-copy\n",
      "/Users/jonathan/anaconda/lib/python3.6/site-packages/ipykernel_launcher.py:18: SettingWithCopyWarning: \n",
      "A value is trying to be set on a copy of a slice from a DataFrame\n",
      "\n",
      "See the caveats in the documentation: http://pandas.pydata.org/pandas-docs/stable/indexing.html#indexing-view-versus-copy\n"
     ]
    },
    {
     "ename": "FileNotFoundError",
     "evalue": "[Errno 2] No such file or directory: './output/BellB/index.html'",
     "output_type": "error",
     "traceback": [
      "\u001b[0;31m---------------------------------------------------------------------------\u001b[0m",
      "\u001b[0;31mFileNotFoundError\u001b[0m                         Traceback (most recent call last)",
      "\u001b[0;32m<ipython-input-23-bccb30852a6c>\u001b[0m in \u001b[0;36m<module>\u001b[0;34m()\u001b[0m\n\u001b[1;32m     38\u001b[0m         \u001b[0mplt\u001b[0m\u001b[0;34m.\u001b[0m\u001b[0mclose\u001b[0m\u001b[0;34m(\u001b[0m\u001b[0mfig\u001b[0m\u001b[0;34m)\u001b[0m\u001b[0;34m\u001b[0m\u001b[0m\n\u001b[1;32m     39\u001b[0m \u001b[0;34m\u001b[0m\u001b[0m\n\u001b[0;32m---> 40\u001b[0;31m     \u001b[0mshutil\u001b[0m\u001b[0;34m.\u001b[0m\u001b[0mcopyfile\u001b[0m\u001b[0;34m(\u001b[0m\u001b[0;34m'./files/index.html'\u001b[0m\u001b[0;34m,\u001b[0m \u001b[0;34m'./output/'\u001b[0m \u001b[0;34m+\u001b[0m \u001b[0mfoldername\u001b[0m \u001b[0;34m+\u001b[0m \u001b[0;34m'/index.html'\u001b[0m\u001b[0;34m)\u001b[0m\u001b[0;34m\u001b[0m\u001b[0m\n\u001b[0m",
      "\u001b[0;32m~/anaconda/lib/python3.6/shutil.py\u001b[0m in \u001b[0;36mcopyfile\u001b[0;34m(src, dst, follow_symlinks)\u001b[0m\n\u001b[1;32m    119\u001b[0m     \u001b[0;32melse\u001b[0m\u001b[0;34m:\u001b[0m\u001b[0;34m\u001b[0m\u001b[0m\n\u001b[1;32m    120\u001b[0m         \u001b[0;32mwith\u001b[0m \u001b[0mopen\u001b[0m\u001b[0;34m(\u001b[0m\u001b[0msrc\u001b[0m\u001b[0;34m,\u001b[0m \u001b[0;34m'rb'\u001b[0m\u001b[0;34m)\u001b[0m \u001b[0;32mas\u001b[0m \u001b[0mfsrc\u001b[0m\u001b[0;34m:\u001b[0m\u001b[0;34m\u001b[0m\u001b[0m\n\u001b[0;32m--> 121\u001b[0;31m             \u001b[0;32mwith\u001b[0m \u001b[0mopen\u001b[0m\u001b[0;34m(\u001b[0m\u001b[0mdst\u001b[0m\u001b[0;34m,\u001b[0m \u001b[0;34m'wb'\u001b[0m\u001b[0;34m)\u001b[0m \u001b[0;32mas\u001b[0m \u001b[0mfdst\u001b[0m\u001b[0;34m:\u001b[0m\u001b[0;34m\u001b[0m\u001b[0m\n\u001b[0m\u001b[1;32m    122\u001b[0m                 \u001b[0mcopyfileobj\u001b[0m\u001b[0;34m(\u001b[0m\u001b[0mfsrc\u001b[0m\u001b[0;34m,\u001b[0m \u001b[0mfdst\u001b[0m\u001b[0;34m)\u001b[0m\u001b[0;34m\u001b[0m\u001b[0m\n\u001b[1;32m    123\u001b[0m     \u001b[0;32mreturn\u001b[0m \u001b[0mdst\u001b[0m\u001b[0;34m\u001b[0m\u001b[0m\n",
      "\u001b[0;31mFileNotFoundError\u001b[0m: [Errno 2] No such file or directory: './output/BellB/index.html'"
     ]
    }
   ],
   "source": [
    "import matplotlib.pyplot as plt\n",
    "import matplotlib.font_manager as font_manager\n",
    "\n",
    "# Matplotlib Specifics\n",
    "# %matplotlib inline\n",
    "plt.style.use('fivethirtyeight')\n",
    "plt.rcParams[\"svg.fonttype\"] = \"none\"\n",
    "plt.rcParams[\"font.family\"] = \"Bitstream Vera Sans\"\n",
    "plt.rcParams[\"figure.titleweight\"] = 'Bold'\n",
    "plt.rcParams['figure.titlesize'] = 'xx-large'\n",
    "\n",
    "for name in df.Name.unique():\n",
    "#name = 'NCFP'\n",
    "\n",
    "    foldername = name.replace(\" \", \"_\")\n",
    "\n",
    "    Provider = df[df['Name'] == name]\n",
    "    Provider.dropna(inplace=True)\n",
    "\n",
    "    for number, metric in enumerate(Provider.Metric.unique()):\n",
    "        ProviderMetric = Provider[Provider['Metric'] == metric]\n",
    "        ax = ProviderMetric.plot(x=\"Date\", y=\"Percentage\", legend=False, ylim=(0,100), figsize=(6,6))\n",
    "        ax.set_xlabel(\"\")\n",
    "\n",
    "        # Let's Do ever third tick mark (quarters)\n",
    "        ax.set_xticks(ax.get_xticks()[::3])\n",
    "        fig = ax.get_figure()\n",
    "        fig.patch.set_facecolor('none')\n",
    "        ax.patch.set_facecolor('white')\n",
    "        ax.patch.set_alpha(0.8)\n",
    "        fig.suptitle(metric, fontsize=20, fontweight='bold')\n",
    "        fig.tight_layout(pad=2)\n",
    "\n",
    "        metricfilename = metric.replace(\" \", \"_\")\n",
    "        if not os.path.exists(\"./output/\" + foldername):\n",
    "            os.makedirs(\"./output/\" + foldername)\n",
    "        fig.savefig(\"./output/\" + foldername + \"/\" + metricfilename + \".svg\", facecolor=fig.get_facecolor(), edgecolor='none')\n",
    "        plt.close(fig)\n",
    "\n",
    "    shutil.copyfile('./files/index.html', './output/' + foldername + '/index.html') \n"
   ]
  },
  {
   "cell_type": "code",
   "execution_count": null,
   "metadata": {},
   "outputs": [],
   "source": []
  }
 ],
 "metadata": {
  "kernelspec": {
   "display_name": "Python 3",
   "language": "python",
   "name": "python3"
  },
  "language_info": {
   "codemirror_mode": {
    "name": "ipython",
    "version": 3
   },
   "file_extension": ".py",
   "mimetype": "text/x-python",
   "name": "python",
   "nbconvert_exporter": "python",
   "pygments_lexer": "ipython3",
   "version": "3.6.4"
  }
 },
 "nbformat": 4,
 "nbformat_minor": 2
}
