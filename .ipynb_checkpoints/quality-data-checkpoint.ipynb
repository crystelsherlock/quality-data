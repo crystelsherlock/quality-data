{
 "cells": [
  {
   "cell_type": "markdown",
   "metadata": {},
   "source": [
    "# Initial Imports & Setup\n",
    "\n",
    "Use Python Data Analysis Libraries to make graphs. "
   ]
  },
  {
   "cell_type": "code",
   "execution_count": 6,
   "metadata": {},
   "outputs": [],
   "source": [
    "import pandas as pd\n",
    "import numpy as np\n",
    "import glob as glob\n",
    "import shutil\n",
    "import os\n",
    "import datetime as datetime\n",
    "import altair as alt\n",
    "from selenium import webdriver"
   ]
  },
  {
   "cell_type": "markdown",
   "metadata": {},
   "source": [
    "# Importing Data into Dataframe\n",
    "\n",
    "Create pandas dataframe from folder of CSV files.\n",
    "\n",
    "Assumes:\n",
    "\n",
    "* **./files/names.csv**: CSV File with Provider/Clinic Names, etc. Names is used to determine active providers/clinics. (So if there's no name, it wont get evaluated later -- say, for example, after Everson Closes.\n",
    "* **./files/metrics.csv**: CSV File with Metrics information (Display Name, Category, Target, etc.)\n",
    "* **./data/(Zero-Padded Date at beginning of CSVs from Meridos).csv**: Files from Automatic weekly report from Meridios"
   ]
  },
  {
   "cell_type": "code",
   "execution_count": 10,
   "metadata": {},
   "outputs": [
    {
     "data": {
      "text/html": [
       "<div>\n",
       "<style scoped>\n",
       "    .dataframe tbody tr th:only-of-type {\n",
       "        vertical-align: middle;\n",
       "    }\n",
       "\n",
       "    .dataframe tbody tr th {\n",
       "        vertical-align: top;\n",
       "    }\n",
       "\n",
       "    .dataframe thead th {\n",
       "        text-align: right;\n",
       "    }\n",
       "</style>\n",
       "<table border=\"1\" class=\"dataframe\">\n",
       "  <thead>\n",
       "    <tr style=\"text-align: right;\">\n",
       "      <th></th>\n",
       "      <th>Name</th>\n",
       "      <th>Type</th>\n",
       "      <th>Clinic</th>\n",
       "      <th>Metric</th>\n",
       "      <th>Date</th>\n",
       "      <th>Percentage</th>\n",
       "    </tr>\n",
       "  </thead>\n",
       "  <tbody>\n",
       "    <tr>\n",
       "      <th>0</th>\n",
       "      <td>Steven Alexander</td>\n",
       "      <td>Individual</td>\n",
       "      <td>LFM</td>\n",
       "      <td>AAA</td>\n",
       "      <td>2018-04-23</td>\n",
       "      <td>0.3810</td>\n",
       "    </tr>\n",
       "    <tr>\n",
       "      <th>1</th>\n",
       "      <td>Steven Alexander</td>\n",
       "      <td>Individual</td>\n",
       "      <td>LFM</td>\n",
       "      <td>NaN</td>\n",
       "      <td>2018-04-23</td>\n",
       "      <td>0.2639</td>\n",
       "    </tr>\n",
       "    <tr>\n",
       "      <th>2</th>\n",
       "      <td>Steven Alexander</td>\n",
       "      <td>Individual</td>\n",
       "      <td>LFM</td>\n",
       "      <td>NaN</td>\n",
       "      <td>2018-04-23</td>\n",
       "      <td>0.0823</td>\n",
       "    </tr>\n",
       "    <tr>\n",
       "      <th>3</th>\n",
       "      <td>Steven Alexander</td>\n",
       "      <td>Individual</td>\n",
       "      <td>LFM</td>\n",
       "      <td>Chlamydia</td>\n",
       "      <td>2018-04-23</td>\n",
       "      <td>NaN</td>\n",
       "    </tr>\n",
       "    <tr>\n",
       "      <th>4</th>\n",
       "      <td>Steven Alexander</td>\n",
       "      <td>Individual</td>\n",
       "      <td>LFM</td>\n",
       "      <td>Colorectal Screen</td>\n",
       "      <td>2018-04-23</td>\n",
       "      <td>0.7109</td>\n",
       "    </tr>\n",
       "    <tr>\n",
       "      <th>5</th>\n",
       "      <td>Steven Alexander</td>\n",
       "      <td>Individual</td>\n",
       "      <td>LFM</td>\n",
       "      <td>DM Care Gaps</td>\n",
       "      <td>2018-04-23</td>\n",
       "      <td>0.9747</td>\n",
       "    </tr>\n",
       "    <tr>\n",
       "      <th>6</th>\n",
       "      <td>Steven Alexander</td>\n",
       "      <td>Individual</td>\n",
       "      <td>LFM</td>\n",
       "      <td>DM with Statin</td>\n",
       "      <td>2018-04-23</td>\n",
       "      <td>0.8588</td>\n",
       "    </tr>\n",
       "    <tr>\n",
       "      <th>7</th>\n",
       "      <td>Steven Alexander</td>\n",
       "      <td>Individual</td>\n",
       "      <td>LFM</td>\n",
       "      <td>DM with ACE or ARB</td>\n",
       "      <td>2018-04-23</td>\n",
       "      <td>0.6986</td>\n",
       "    </tr>\n",
       "    <tr>\n",
       "      <th>8</th>\n",
       "      <td>Steven Alexander</td>\n",
       "      <td>Individual</td>\n",
       "      <td>LFM</td>\n",
       "      <td>DM Eye Exam</td>\n",
       "      <td>2018-04-23</td>\n",
       "      <td>0.5696</td>\n",
       "    </tr>\n",
       "    <tr>\n",
       "      <th>9</th>\n",
       "      <td>Steven Alexander</td>\n",
       "      <td>Individual</td>\n",
       "      <td>LFM</td>\n",
       "      <td>DM Foot Exam</td>\n",
       "      <td>2018-04-23</td>\n",
       "      <td>0.8924</td>\n",
       "    </tr>\n",
       "    <tr>\n",
       "      <th>10</th>\n",
       "      <td>Steven Alexander</td>\n",
       "      <td>Individual</td>\n",
       "      <td>LFM</td>\n",
       "      <td>NaN</td>\n",
       "      <td>2018-04-23</td>\n",
       "      <td>0.4873</td>\n",
       "    </tr>\n",
       "    <tr>\n",
       "      <th>11</th>\n",
       "      <td>Steven Alexander</td>\n",
       "      <td>Individual</td>\n",
       "      <td>LFM</td>\n",
       "      <td>NaN</td>\n",
       "      <td>2018-04-23</td>\n",
       "      <td>0.9304</td>\n",
       "    </tr>\n",
       "    <tr>\n",
       "      <th>12</th>\n",
       "      <td>Steven Alexander</td>\n",
       "      <td>Individual</td>\n",
       "      <td>LFM</td>\n",
       "      <td>HTN Age18 to 59 under 140 SBP</td>\n",
       "      <td>2018-04-23</td>\n",
       "      <td>0.8375</td>\n",
       "    </tr>\n",
       "    <tr>\n",
       "      <th>13</th>\n",
       "      <td>Steven Alexander</td>\n",
       "      <td>Individual</td>\n",
       "      <td>LFM</td>\n",
       "      <td>HTN over age 18 under 140 SBP</td>\n",
       "      <td>2018-04-23</td>\n",
       "      <td>0.9245</td>\n",
       "    </tr>\n",
       "    <tr>\n",
       "      <th>14</th>\n",
       "      <td>Steven Alexander</td>\n",
       "      <td>Individual</td>\n",
       "      <td>LFM</td>\n",
       "      <td>HTN over age 59 under 150 SBP</td>\n",
       "      <td>2018-04-23</td>\n",
       "      <td>0.9570</td>\n",
       "    </tr>\n",
       "    <tr>\n",
       "      <th>15</th>\n",
       "      <td>Steven Alexander</td>\n",
       "      <td>Individual</td>\n",
       "      <td>LFM</td>\n",
       "      <td>Mammogram</td>\n",
       "      <td>2018-04-23</td>\n",
       "      <td>0.7005</td>\n",
       "    </tr>\n",
       "    <tr>\n",
       "      <th>16</th>\n",
       "      <td>Steven Alexander</td>\n",
       "      <td>Individual</td>\n",
       "      <td>LFM</td>\n",
       "      <td>DM Nephropathy</td>\n",
       "      <td>2018-04-23</td>\n",
       "      <td>0.6835</td>\n",
       "    </tr>\n",
       "    <tr>\n",
       "      <th>17</th>\n",
       "      <td>Steven Alexander</td>\n",
       "      <td>Individual</td>\n",
       "      <td>LFM</td>\n",
       "      <td>Pap Smears</td>\n",
       "      <td>2018-04-23</td>\n",
       "      <td>0.4906</td>\n",
       "    </tr>\n",
       "    <tr>\n",
       "      <th>18</th>\n",
       "      <td>Steven Alexander</td>\n",
       "      <td>Individual</td>\n",
       "      <td>LFM</td>\n",
       "      <td>DM Pneumovax</td>\n",
       "      <td>2018-04-23</td>\n",
       "      <td>0.9241</td>\n",
       "    </tr>\n",
       "    <tr>\n",
       "      <th>19</th>\n",
       "      <td>Steven Alexander</td>\n",
       "      <td>Individual</td>\n",
       "      <td>LFM</td>\n",
       "      <td>Over age 65 Pneumovax</td>\n",
       "      <td>2018-04-23</td>\n",
       "      <td>0.8721</td>\n",
       "    </tr>\n",
       "  </tbody>\n",
       "</table>\n",
       "</div>"
      ],
      "text/plain": [
       "                Name        Type Clinic                         Metric  \\\n",
       "0   Steven Alexander  Individual    LFM                            AAA   \n",
       "1   Steven Alexander  Individual    LFM                            NaN   \n",
       "2   Steven Alexander  Individual    LFM                            NaN   \n",
       "3   Steven Alexander  Individual    LFM                      Chlamydia   \n",
       "4   Steven Alexander  Individual    LFM              Colorectal Screen   \n",
       "5   Steven Alexander  Individual    LFM                   DM Care Gaps   \n",
       "6   Steven Alexander  Individual    LFM                 DM with Statin   \n",
       "7   Steven Alexander  Individual    LFM             DM with ACE or ARB   \n",
       "8   Steven Alexander  Individual    LFM                    DM Eye Exam   \n",
       "9   Steven Alexander  Individual    LFM                   DM Foot Exam   \n",
       "10  Steven Alexander  Individual    LFM                            NaN   \n",
       "11  Steven Alexander  Individual    LFM                            NaN   \n",
       "12  Steven Alexander  Individual    LFM  HTN Age18 to 59 under 140 SBP   \n",
       "13  Steven Alexander  Individual    LFM  HTN over age 18 under 140 SBP   \n",
       "14  Steven Alexander  Individual    LFM  HTN over age 59 under 150 SBP   \n",
       "15  Steven Alexander  Individual    LFM                      Mammogram   \n",
       "16  Steven Alexander  Individual    LFM                 DM Nephropathy   \n",
       "17  Steven Alexander  Individual    LFM                     Pap Smears   \n",
       "18  Steven Alexander  Individual    LFM                   DM Pneumovax   \n",
       "19  Steven Alexander  Individual    LFM          Over age 65 Pneumovax   \n",
       "\n",
       "         Date  Percentage  \n",
       "0  2018-04-23      0.3810  \n",
       "1  2018-04-23      0.2639  \n",
       "2  2018-04-23      0.0823  \n",
       "3  2018-04-23         NaN  \n",
       "4  2018-04-23      0.7109  \n",
       "5  2018-04-23      0.9747  \n",
       "6  2018-04-23      0.8588  \n",
       "7  2018-04-23      0.6986  \n",
       "8  2018-04-23      0.5696  \n",
       "9  2018-04-23      0.8924  \n",
       "10 2018-04-23      0.4873  \n",
       "11 2018-04-23      0.9304  \n",
       "12 2018-04-23      0.8375  \n",
       "13 2018-04-23      0.9245  \n",
       "14 2018-04-23      0.9570  \n",
       "15 2018-04-23      0.7005  \n",
       "16 2018-04-23      0.6835  \n",
       "17 2018-04-23      0.4906  \n",
       "18 2018-04-23      0.9241  \n",
       "19 2018-04-23      0.8721  "
      ]
     },
     "execution_count": 10,
     "metadata": {},
     "output_type": "execute_result"
    }
   ],
   "source": [
    "names = pd.read_csv('./files/names.csv', index_col='MeridiosName')\n",
    "metrics = pd.read_csv('./files/metrics.csv', index_col='MeridiosMetric')\n",
    "\n",
    "df = pd.DataFrame()\n",
    "\n",
    "files = glob.glob('./data/*.csv')\n",
    "for file in files:\n",
    "    filedf = pd.read_csv(file,\n",
    "                        usecols=[\"NAME\",\"Metricname\",\"SeenNum\",\"SeenDenom\"])\n",
    "    # Prettier Names\n",
    "    filedf = filedf.rename(columns={'NAME': 'MeridiosName',\n",
    "                                    'Metricname': 'MeridiosMetric',\n",
    "                                    'SeenNum': 'Numerator', \n",
    "                                    'SeenDenom': 'Denominator'})\n",
    "\n",
    "    # Add Lookup Columns\n",
    "    filedf['Name'] = filedf.MeridiosName.map(names.Name)\n",
    "    filedf['Type'] = filedf.MeridiosName.map(names.Type)\n",
    "    filedf['Clinic'] = filedf.MeridiosName.map(names.Clinic)\n",
    "    filedf['Metric'] = filedf.MeridiosMetric.map(metrics.Metric)\n",
    "        \n",
    "    filename_parts = file[7:-4].split(' ')\n",
    "    # 0 Padded Dates with Dots. 03.15.2018\n",
    "    if (len(str(filename_parts[0])) is 10):\n",
    "        filedf['Date'] = datetime.datetime.strptime(filename_parts[0], \"%m.%d.%Y\")\n",
    "        # Who are we kidding with precision. Round to Basis points\n",
    "        filedf['Percentage'] = round(filedf['Numerator'] / filedf['Denominator'], 4)\n",
    "\n",
    "        # Now delete the 'raw' columns from import\n",
    "        filedf.drop(\"MeridiosName\", axis=1, inplace=True)\n",
    "        filedf.drop(\"MeridiosMetric\", axis=1, inplace=True)\n",
    "        filedf.drop(\"Numerator\", axis=1, inplace=True)\n",
    "        filedf.drop(\"Denominator\", axis=1, inplace=True)\n",
    "    \n",
    "        df = df.append(filedf) \n",
    "    else:\n",
    "        print(\"CSV Data File doesn't have Zero-Padded Date at beginning.\")\n",
    "#df.dtypes\n",
    "df.head(20)\n",
    "#df.info()\n",
    "#df.describe()\n",
    "#df.columns\n",
    "#df.Metric.unique()"
   ]
  },
  {
   "cell_type": "markdown",
   "metadata": {},
   "source": [
    "## Validations:\n",
    "\n",
    "* Does Data include new MeridiosName, New Metric items? (Has the underlying report changed?)\n",
    "* Should we keep a list of already imported data and do some message to clarify after new data is available?\n",
    "\n",
    "Currently no validations. But should automate checks that new data from report is accurate. "
   ]
  },
  {
   "cell_type": "markdown",
   "metadata": {},
   "source": [
    "# Altair Graphs"
   ]
  },
  {
   "cell_type": "code",
   "execution_count": 13,
   "metadata": {},
   "outputs": [
    {
     "data": {
      "application/vnd.vegalite.v2+json": {
       "$schema": "https://vega.github.io/schema/vega-lite/v2.4.1.json",
       "config": {
        "view": {
         "height": 300,
         "width": 400
        }
       },
       "data": {
        "values": [
         {
          "Clinic": "LFM",
          "Date": "2018-04-23",
          "Metric": "Smoker Pneumovax",
          "Name": "Steven Alexander",
          "Percentage": 0.6765,
          "Type": "Individual"
         },
         {
          "Clinic": "BellB",
          "Date": "2018-04-23",
          "Metric": "Smoker Pneumovax",
          "Name": "Greg Anderson",
          "Percentage": 0.4778,
          "Type": "Individual"
         },
         {
          "Clinic": "FHA",
          "Date": "2018-04-23",
          "Metric": "Smoker Pneumovax",
          "Name": "Rodney Anderson",
          "Percentage": 0.6889,
          "Type": "Individual"
         },
         {
          "Clinic": "FFMC",
          "Date": "2018-04-23",
          "Metric": "Smoker Pneumovax",
          "Name": "Jennifer Bates",
          "Percentage": 0.5873,
          "Type": "Individual"
         },
         {
          "Clinic": "WFM",
          "Date": "2018-04-23",
          "Metric": "Smoker Pneumovax",
          "Name": "Shannon Billau",
          "Percentage": 0.4262,
          "Type": "Individual"
         },
         {
          "Clinic": "WFM",
          "Date": "2018-04-23",
          "Metric": "Smoker Pneumovax",
          "Name": "Richard Binder",
          "Percentage": 0.6522,
          "Type": "Individual"
         },
         {
          "Clinic": "IFP",
          "Date": "2018-04-23",
          "Metric": "Smoker Pneumovax",
          "Name": "Franklin Bjorseth",
          "Percentage": 0.5043,
          "Type": "Individual"
         },
         {
          "Clinic": "FHA",
          "Date": "2018-04-23",
          "Metric": "Smoker Pneumovax",
          "Name": "Edward Bloom",
          "Percentage": 0.4425,
          "Type": "Individual"
         },
         {
          "Clinic": "FHA",
          "Date": "2018-04-23",
          "Metric": "Smoker Pneumovax",
          "Name": "Jessica Bloom",
          "Percentage": 0.3158,
          "Type": "Individual"
         },
         {
          "Clinic": "WFM",
          "Date": "2018-04-23",
          "Metric": "Smoker Pneumovax",
          "Name": "Steven Bloom",
          "Percentage": 0.4444,
          "Type": "Individual"
         },
         {
          "Clinic": "BellB",
          "Date": "2018-04-23",
          "Metric": "Smoker Pneumovax",
          "Name": "Ian Bonner",
          "Percentage": 0.371,
          "Type": "Individual"
         },
         {
          "Clinic": "BellB",
          "Date": "2018-04-23",
          "Metric": "Smoker Pneumovax",
          "Name": "Sara Bowling",
          "Percentage": 0.3293,
          "Type": "Individual"
         },
         {
          "Clinic": "NSFM",
          "Date": "2018-04-23",
          "Metric": "Smoker Pneumovax",
          "Name": "Rory Bradt",
          "Percentage": 0.4219,
          "Type": "Individual"
         },
         {
          "Clinic": "FFMC",
          "Date": "2018-04-23",
          "Metric": "Smoker Pneumovax",
          "Name": "Rebecca Brejcha",
          "Percentage": null,
          "Type": "Individual"
         },
         {
          "Clinic": "NSFM",
          "Date": "2018-04-23",
          "Metric": "Smoker Pneumovax",
          "Name": "Lisa Brodsky",
          "Percentage": 0.3056,
          "Type": "Individual"
         },
         {
          "Clinic": "LFM",
          "Date": "2018-04-23",
          "Metric": "Smoker Pneumovax",
          "Name": "Margaret Burden",
          "Percentage": 0.4167,
          "Type": "Individual"
         },
         {
          "Clinic": "NCFP",
          "Date": "2018-04-23",
          "Metric": "Smoker Pneumovax",
          "Name": "Erik Bylund",
          "Percentage": 0.3206,
          "Type": "Individual"
         },
         {
          "Clinic": "LFM",
          "Date": "2018-04-23",
          "Metric": "Smoker Pneumovax",
          "Name": "Robin Caldwell",
          "Percentage": 0.4808,
          "Type": "Individual"
         },
         {
          "Clinic": "NSFM",
          "Date": "2018-04-23",
          "Metric": "Smoker Pneumovax",
          "Name": "William Eiford",
          "Percentage": null,
          "Type": "Individual"
         },
         {
          "Clinic": "NCFP",
          "Date": "2018-04-23",
          "Metric": "Smoker Pneumovax",
          "Name": "Roger Estep",
          "Percentage": 0.3171,
          "Type": "Individual"
         },
         {
          "Clinic": "LFM",
          "Date": "2018-04-23",
          "Metric": "Smoker Pneumovax",
          "Name": "Michael Fleming",
          "Percentage": 0.3375,
          "Type": "Individual"
         },
         {
          "Clinic": "NSFM",
          "Date": "2018-04-23",
          "Metric": "Smoker Pneumovax",
          "Name": "Anneliese Floyd",
          "Percentage": 0.5385,
          "Type": "Individual"
         },
         {
          "Clinic": "BellB",
          "Date": "2018-04-23",
          "Metric": "Smoker Pneumovax",
          "Name": "Laura Fox",
          "Percentage": 0.5319,
          "Type": "Individual"
         },
         {
          "Clinic": "FFMC",
          "Date": "2018-04-23",
          "Metric": "Smoker Pneumovax",
          "Name": "Renay Fredette",
          "Percentage": 0.5161,
          "Type": "Individual"
         },
         {
          "Clinic": "NCFP",
          "Date": "2018-04-23",
          "Metric": "Smoker Pneumovax",
          "Name": "Kay-Kay Gambs",
          "Percentage": 0.2301,
          "Type": "Individual"
         },
         {
          "Clinic": "NCFP",
          "Date": "2018-04-23",
          "Metric": "Smoker Pneumovax",
          "Name": "Jonathan Gamson",
          "Percentage": 0.3556,
          "Type": "Individual"
         },
         {
          "Clinic": "NSFM",
          "Date": "2018-04-23",
          "Metric": "Smoker Pneumovax",
          "Name": "Elizabeth Gaylord",
          "Percentage": 0.4545,
          "Type": "Individual"
         },
         {
          "Clinic": "IFP",
          "Date": "2018-04-23",
          "Metric": "Smoker Pneumovax",
          "Name": "Karen Goodman",
          "Percentage": 0.3077,
          "Type": "Individual"
         },
         {
          "Clinic": "FHA",
          "Date": "2018-04-23",
          "Metric": "Smoker Pneumovax",
          "Name": "Deborah Hall",
          "Percentage": 0.589,
          "Type": "Individual"
         },
         {
          "Clinic": "NCFP",
          "Date": "2018-04-23",
          "Metric": "Smoker Pneumovax",
          "Name": "Janet Hansom",
          "Percentage": 0.6,
          "Type": "Individual"
         },
         {
          "Clinic": "LFM",
          "Date": "2018-04-23",
          "Metric": "Smoker Pneumovax",
          "Name": "Larry Hartwell",
          "Percentage": 0.5278,
          "Type": "Individual"
         },
         {
          "Clinic": "SFM",
          "Date": "2018-04-23",
          "Metric": "Smoker Pneumovax",
          "Name": "Shelby Hein",
          "Percentage": 0.537,
          "Type": "Individual"
         },
         {
          "Clinic": "SFM",
          "Date": "2018-04-23",
          "Metric": "Smoker Pneumovax",
          "Name": "Harry Herdman",
          "Percentage": 0.6714,
          "Type": "Individual"
         },
         {
          "Clinic": "NSFM",
          "Date": "2018-04-23",
          "Metric": "Smoker Pneumovax",
          "Name": "Sarah Herman",
          "Percentage": null,
          "Type": "Individual"
         },
         {
          "Clinic": "LFM",
          "Date": "2018-04-23",
          "Metric": "Smoker Pneumovax",
          "Name": "John Hiemstra",
          "Percentage": 0.5319,
          "Type": "Individual"
         },
         {
          "Clinic": "SFM",
          "Date": "2018-04-23",
          "Metric": "Smoker Pneumovax",
          "Name": "Heather Honey",
          "Percentage": 0.4118,
          "Type": "Individual"
         },
         {
          "Clinic": "FHA",
          "Date": "2018-04-23",
          "Metric": "Smoker Pneumovax",
          "Name": "Ryan Honey",
          "Percentage": 0.3248,
          "Type": "Individual"
         },
         {
          "Clinic": "BellB",
          "Date": "2018-04-23",
          "Metric": "Smoker Pneumovax",
          "Name": "Jim Hopper",
          "Percentage": 0.4186,
          "Type": "Individual"
         },
         {
          "Clinic": "FFMC",
          "Date": "2018-04-23",
          "Metric": "Smoker Pneumovax",
          "Name": "John Hruby",
          "Percentage": 0.4741,
          "Type": "Individual"
         },
         {
          "Clinic": "FHA",
          "Date": "2018-04-23",
          "Metric": "Smoker Pneumovax",
          "Name": "Kellie Jacobs",
          "Percentage": 0.4255,
          "Type": "Individual"
         },
         {
          "Clinic": "IFP",
          "Date": "2018-04-23",
          "Metric": "Smoker Pneumovax",
          "Name": "Michael James",
          "Percentage": 0.2551,
          "Type": "Individual"
         },
         {
          "Clinic": "FHA",
          "Date": "2018-04-23",
          "Metric": "Smoker Pneumovax",
          "Name": "Sharon Kerlin",
          "Percentage": null,
          "Type": "Individual"
         },
         {
          "Clinic": "BBFM",
          "Date": "2018-04-23",
          "Metric": "Smoker Pneumovax",
          "Name": "Jessica Klassen",
          "Percentage": 0.2625,
          "Type": "Individual"
         },
         {
          "Clinic": "FHA",
          "Date": "2018-04-23",
          "Metric": "Smoker Pneumovax",
          "Name": "Meghan Lelonek",
          "Percentage": 0.4239,
          "Type": "Individual"
         },
         {
          "Clinic": "FFMC",
          "Date": "2018-04-23",
          "Metric": "Smoker Pneumovax",
          "Name": "Stephen Lewis",
          "Percentage": 0.4652,
          "Type": "Individual"
         },
         {
          "Clinic": "FFMC",
          "Date": "2018-04-23",
          "Metric": "Smoker Pneumovax",
          "Name": "Erin Maloney",
          "Percentage": null,
          "Type": "Individual"
         },
         {
          "Clinic": "NCFP",
          "Date": "2018-04-23",
          "Metric": "Smoker Pneumovax",
          "Name": "Ross McConahey",
          "Percentage": null,
          "Type": "Individual"
         },
         {
          "Clinic": "NSFM",
          "Date": "2018-04-23",
          "Metric": "Smoker Pneumovax",
          "Name": "Patrick McLaughlin",
          "Percentage": 0.4306,
          "Type": "Individual"
         },
         {
          "Clinic": "NCFP",
          "Date": "2018-04-23",
          "Metric": "Smoker Pneumovax",
          "Name": "Sally McPherson",
          "Percentage": 0.3962,
          "Type": "Individual"
         },
         {
          "Clinic": "NCFP",
          "Date": "2018-04-23",
          "Metric": "Smoker Pneumovax",
          "Name": "Lucia Muller",
          "Percentage": 0.5435,
          "Type": "Individual"
         },
         {
          "Clinic": "BellB",
          "Date": "2018-04-23",
          "Metric": "Smoker Pneumovax",
          "Name": "Karen O’Keefe",
          "Percentage": 0.3333,
          "Type": "Individual"
         },
         {
          "Clinic": "SFM",
          "Date": "2018-04-23",
          "Metric": "Smoker Pneumovax",
          "Name": "Lillian Pavlik",
          "Percentage": null,
          "Type": "Individual"
         },
         {
          "Clinic": "LFM",
          "Date": "2018-04-23",
          "Metric": "Smoker Pneumovax",
          "Name": "Patricia Payne-Zajac",
          "Percentage": 0.4262,
          "Type": "Individual"
         },
         {
          "Clinic": "NCFP",
          "Date": "2018-04-23",
          "Metric": "Smoker Pneumovax",
          "Name": "Jonathan Ploudre",
          "Percentage": 0.5888,
          "Type": "Individual"
         },
         {
          "Clinic": "NSFM",
          "Date": "2018-04-23",
          "Metric": "Smoker Pneumovax",
          "Name": "John Raduege",
          "Percentage": 0.5213,
          "Type": "Individual"
         },
         {
          "Clinic": "BBFM",
          "Date": "2018-04-23",
          "Metric": "Smoker Pneumovax",
          "Name": "Teresa Regier",
          "Percentage": 0.2436,
          "Type": "Individual"
         },
         {
          "Clinic": "FFMC",
          "Date": "2018-04-23",
          "Metric": "Smoker Pneumovax",
          "Name": "Claudia Rey",
          "Percentage": 0.5361,
          "Type": "Individual"
         },
         {
          "Clinic": "IFP",
          "Date": "2018-04-23",
          "Metric": "Smoker Pneumovax",
          "Name": "Robert Rieger",
          "Percentage": 0.6081,
          "Type": "Individual"
         },
         {
          "Clinic": "SFM",
          "Date": "2018-04-23",
          "Metric": "Smoker Pneumovax",
          "Name": "Deborah Roessler",
          "Percentage": 0.6145,
          "Type": "Individual"
         },
         {
          "Clinic": "FFMC",
          "Date": "2018-04-23",
          "Metric": "Smoker Pneumovax",
          "Name": "Berdi Sanford",
          "Percentage": 0.7564,
          "Type": "Individual"
         },
         {
          "Clinic": "NCFP",
          "Date": "2018-04-23",
          "Metric": "Smoker Pneumovax",
          "Name": "Lauren Sauve",
          "Percentage": 0.3521,
          "Type": "Individual"
         },
         {
          "Clinic": "BellB",
          "Date": "2018-04-23",
          "Metric": "Smoker Pneumovax",
          "Name": "Melana Schimke",
          "Percentage": 0.2222,
          "Type": "Individual"
         },
         {
          "Clinic": "FHA",
          "Date": "2018-04-23",
          "Metric": "Smoker Pneumovax",
          "Name": "Miriam Shapiro",
          "Percentage": 0.6111,
          "Type": "Individual"
         },
         {
          "Clinic": "NSFM",
          "Date": "2018-04-23",
          "Metric": "Smoker Pneumovax",
          "Name": "Jason Short",
          "Percentage": 0.4466,
          "Type": "Individual"
         },
         {
          "Clinic": "NSFM",
          "Date": "2018-04-23",
          "Metric": "Smoker Pneumovax",
          "Name": "Vicki Short",
          "Percentage": 0.5294,
          "Type": "Individual"
         },
         {
          "Clinic": "LFM",
          "Date": "2018-04-23",
          "Metric": "Smoker Pneumovax",
          "Name": "Ashley Snyder",
          "Percentage": 0.4366,
          "Type": "Individual"
         },
         {
          "Clinic": "FFMC",
          "Date": "2018-04-23",
          "Metric": "Smoker Pneumovax",
          "Name": "Kalani Synder",
          "Percentage": 0.1935,
          "Type": "Individual"
         },
         {
          "Clinic": "NSFM",
          "Date": "2018-04-23",
          "Metric": "Smoker Pneumovax",
          "Name": "Mary Swanson",
          "Percentage": 0.4839,
          "Type": "Individual"
         },
         {
          "Clinic": "IFP",
          "Date": "2018-04-23",
          "Metric": "Smoker Pneumovax",
          "Name": "Magaret Sweeney",
          "Percentage": 0.5,
          "Type": "Individual"
         },
         {
          "Clinic": "WFM",
          "Date": "2018-04-23",
          "Metric": "Smoker Pneumovax",
          "Name": "Heather Thomson",
          "Percentage": 0.3125,
          "Type": "Individual"
         },
         {
          "Clinic": "BellB",
          "Date": "2018-04-23",
          "Metric": "Smoker Pneumovax",
          "Name": "Lisa Van Hofwegen",
          "Percentage": 0.3846,
          "Type": "Individual"
         },
         {
          "Clinic": "NSFM",
          "Date": "2018-04-23",
          "Metric": "Smoker Pneumovax",
          "Name": "April Wakefield-Pagels",
          "Percentage": 0.6429,
          "Type": "Individual"
         },
         {
          "Clinic": "SFM",
          "Date": "2018-04-23",
          "Metric": "Smoker Pneumovax",
          "Name": "Joy Welty",
          "Percentage": 0.4583,
          "Type": "Individual"
         },
         {
          "Clinic": "SFM",
          "Date": "2018-04-23",
          "Metric": "Smoker Pneumovax",
          "Name": "Matt Werner",
          "Percentage": 0.6456,
          "Type": "Individual"
         },
         {
          "Clinic": "NCFP",
          "Date": "2018-04-23",
          "Metric": "Smoker Pneumovax",
          "Name": "Sloane Winkes",
          "Percentage": 0.6286,
          "Type": "Individual"
         },
         {
          "Clinic": "NSFM",
          "Date": "2018-04-23",
          "Metric": "Smoker Pneumovax",
          "Name": "Ying Wu",
          "Percentage": 0.5333,
          "Type": "Individual"
         },
         {
          "Clinic": "FHA",
          "Date": "2018-04-23",
          "Metric": "Smoker Pneumovax",
          "Name": "Ashley Yoder",
          "Percentage": 0.3864,
          "Type": "Individual"
         },
         {
          "Clinic": "LFM",
          "Date": "2018-01-29",
          "Metric": "Smoker Pneumovax",
          "Name": "Steven Alexander",
          "Percentage": 0.6667,
          "Type": "Individual"
         },
         {
          "Clinic": "BellB",
          "Date": "2018-01-29",
          "Metric": "Smoker Pneumovax",
          "Name": "Greg Anderson",
          "Percentage": 0.4556,
          "Type": "Individual"
         },
         {
          "Clinic": "FHA",
          "Date": "2018-01-29",
          "Metric": "Smoker Pneumovax",
          "Name": "Rodney Anderson",
          "Percentage": 0.6667,
          "Type": "Individual"
         },
         {
          "Clinic": "FFMC",
          "Date": "2018-01-29",
          "Metric": "Smoker Pneumovax",
          "Name": "Jennifer Bates",
          "Percentage": 0.5692,
          "Type": "Individual"
         },
         {
          "Clinic": "WFM",
          "Date": "2018-01-29",
          "Metric": "Smoker Pneumovax",
          "Name": "Shannon Billau",
          "Percentage": 0.4098,
          "Type": "Individual"
         },
         {
          "Clinic": "WFM",
          "Date": "2018-01-29",
          "Metric": "Smoker Pneumovax",
          "Name": "Richard Binder",
          "Percentage": 0.6364,
          "Type": "Individual"
         },
         {
          "Clinic": "IFP",
          "Date": "2018-01-29",
          "Metric": "Smoker Pneumovax",
          "Name": "Franklin Bjorseth",
          "Percentage": 0.4333,
          "Type": "Individual"
         },
         {
          "Clinic": "FHA",
          "Date": "2018-01-29",
          "Metric": "Smoker Pneumovax",
          "Name": "Edward Bloom",
          "Percentage": 0.4417,
          "Type": "Individual"
         },
         {
          "Clinic": "FHA",
          "Date": "2018-01-29",
          "Metric": "Smoker Pneumovax",
          "Name": "Jessica Bloom",
          "Percentage": 0.2778,
          "Type": "Individual"
         },
         {
          "Clinic": "WFM",
          "Date": "2018-01-29",
          "Metric": "Smoker Pneumovax",
          "Name": "Steven Bloom",
          "Percentage": 0.4343,
          "Type": "Individual"
         },
         {
          "Clinic": "BellB",
          "Date": "2018-01-29",
          "Metric": "Smoker Pneumovax",
          "Name": "Ian Bonner",
          "Percentage": 0.381,
          "Type": "Individual"
         },
         {
          "Clinic": "BellB",
          "Date": "2018-01-29",
          "Metric": "Smoker Pneumovax",
          "Name": "Sara Bowling",
          "Percentage": 0.3256,
          "Type": "Individual"
         },
         {
          "Clinic": "NSFM",
          "Date": "2018-01-29",
          "Metric": "Smoker Pneumovax",
          "Name": "Rory Bradt",
          "Percentage": 0.3969,
          "Type": "Individual"
         },
         {
          "Clinic": "FFMC",
          "Date": "2018-01-29",
          "Metric": "Smoker Pneumovax",
          "Name": "Rebecca Brejcha",
          "Percentage": null,
          "Type": "Individual"
         },
         {
          "Clinic": "NSFM",
          "Date": "2018-01-29",
          "Metric": "Smoker Pneumovax",
          "Name": "Lisa Brodsky",
          "Percentage": 0.2812,
          "Type": "Individual"
         },
         {
          "Clinic": "LFM",
          "Date": "2018-01-29",
          "Metric": "Smoker Pneumovax",
          "Name": "Margaret Burden",
          "Percentage": 0.3684,
          "Type": "Individual"
         },
         {
          "Clinic": "NCFP",
          "Date": "2018-01-29",
          "Metric": "Smoker Pneumovax",
          "Name": "Erik Bylund",
          "Percentage": 0.2857,
          "Type": "Individual"
         },
         {
          "Clinic": "LFM",
          "Date": "2018-01-29",
          "Metric": "Smoker Pneumovax",
          "Name": "Robin Caldwell",
          "Percentage": 0.4451,
          "Type": "Individual"
         },
         {
          "Clinic": "NSFM",
          "Date": "2018-01-29",
          "Metric": "Smoker Pneumovax",
          "Name": "William Eiford",
          "Percentage": null,
          "Type": "Individual"
         },
         {
          "Clinic": "NCFP",
          "Date": "2018-01-29",
          "Metric": "Smoker Pneumovax",
          "Name": "Roger Estep",
          "Percentage": 0.2609,
          "Type": "Individual"
         },
         {
          "Clinic": "LFM",
          "Date": "2018-01-29",
          "Metric": "Smoker Pneumovax",
          "Name": "Michael Fleming",
          "Percentage": 0.3175,
          "Type": "Individual"
         },
         {
          "Clinic": "NSFM",
          "Date": "2018-01-29",
          "Metric": "Smoker Pneumovax",
          "Name": "Anneliese Floyd",
          "Percentage": 0.525,
          "Type": "Individual"
         },
         {
          "Clinic": "BellB",
          "Date": "2018-01-29",
          "Metric": "Smoker Pneumovax",
          "Name": "Laura Fox",
          "Percentage": 0.4468,
          "Type": "Individual"
         },
         {
          "Clinic": "FFMC",
          "Date": "2018-01-29",
          "Metric": "Smoker Pneumovax",
          "Name": "Renay Fredette",
          "Percentage": 0.5323,
          "Type": "Individual"
         },
         {
          "Clinic": "NCFP",
          "Date": "2018-01-29",
          "Metric": "Smoker Pneumovax",
          "Name": "Kay-Kay Gambs",
          "Percentage": 0.188,
          "Type": "Individual"
         },
         {
          "Clinic": "NCFP",
          "Date": "2018-01-29",
          "Metric": "Smoker Pneumovax",
          "Name": "Jonathan Gamson",
          "Percentage": 0.3023,
          "Type": "Individual"
         },
         {
          "Clinic": "NSFM",
          "Date": "2018-01-29",
          "Metric": "Smoker Pneumovax",
          "Name": "Elizabeth Gaylord",
          "Percentage": 0.5,
          "Type": "Individual"
         },
         {
          "Clinic": "IFP",
          "Date": "2018-01-29",
          "Metric": "Smoker Pneumovax",
          "Name": "Karen Goodman",
          "Percentage": 0.2973,
          "Type": "Individual"
         },
         {
          "Clinic": "FHA",
          "Date": "2018-01-29",
          "Metric": "Smoker Pneumovax",
          "Name": "Deborah Hall",
          "Percentage": 0.5658,
          "Type": "Individual"
         },
         {
          "Clinic": "NCFP",
          "Date": "2018-01-29",
          "Metric": "Smoker Pneumovax",
          "Name": "Janet Hansom",
          "Percentage": 0.5667,
          "Type": "Individual"
         },
         {
          "Clinic": "LFM",
          "Date": "2018-01-29",
          "Metric": "Smoker Pneumovax",
          "Name": "Larry Hartwell",
          "Percentage": 0.5,
          "Type": "Individual"
         },
         {
          "Clinic": "SFM",
          "Date": "2018-01-29",
          "Metric": "Smoker Pneumovax",
          "Name": "Shelby Hein",
          "Percentage": 0.4655,
          "Type": "Individual"
         },
         {
          "Clinic": "SFM",
          "Date": "2018-01-29",
          "Metric": "Smoker Pneumovax",
          "Name": "Harry Herdman",
          "Percentage": 0.6164,
          "Type": "Individual"
         },
         {
          "Clinic": "NSFM",
          "Date": "2018-01-29",
          "Metric": "Smoker Pneumovax",
          "Name": "Sarah Herman",
          "Percentage": null,
          "Type": "Individual"
         },
         {
          "Clinic": "LFM",
          "Date": "2018-01-29",
          "Metric": "Smoker Pneumovax",
          "Name": "John Hiemstra",
          "Percentage": 0.5369,
          "Type": "Individual"
         },
         {
          "Clinic": "SFM",
          "Date": "2018-01-29",
          "Metric": "Smoker Pneumovax",
          "Name": "Heather Honey",
          "Percentage": 0.4262,
          "Type": "Individual"
         },
         {
          "Clinic": "FHA",
          "Date": "2018-01-29",
          "Metric": "Smoker Pneumovax",
          "Name": "Ryan Honey",
          "Percentage": 0.3,
          "Type": "Individual"
         },
         {
          "Clinic": "BellB",
          "Date": "2018-01-29",
          "Metric": "Smoker Pneumovax",
          "Name": "Jim Hopper",
          "Percentage": 0.4583,
          "Type": "Individual"
         },
         {
          "Clinic": "FFMC",
          "Date": "2018-01-29",
          "Metric": "Smoker Pneumovax",
          "Name": "John Hruby",
          "Percentage": 0.4701,
          "Type": "Individual"
         },
         {
          "Clinic": "FHA",
          "Date": "2018-01-29",
          "Metric": "Smoker Pneumovax",
          "Name": "Kellie Jacobs",
          "Percentage": 0.4255,
          "Type": "Individual"
         },
         {
          "Clinic": "IFP",
          "Date": "2018-01-29",
          "Metric": "Smoker Pneumovax",
          "Name": "Michael James",
          "Percentage": 0.2,
          "Type": "Individual"
         },
         {
          "Clinic": "FHA",
          "Date": "2018-01-29",
          "Metric": "Smoker Pneumovax",
          "Name": "Sharon Kerlin",
          "Percentage": null,
          "Type": "Individual"
         },
         {
          "Clinic": "BBFM",
          "Date": "2018-01-29",
          "Metric": "Smoker Pneumovax",
          "Name": "Jessica Klassen",
          "Percentage": 0.2373,
          "Type": "Individual"
         },
         {
          "Clinic": "FHA",
          "Date": "2018-01-29",
          "Metric": "Smoker Pneumovax",
          "Name": "Meghan Lelonek",
          "Percentage": 0.3647,
          "Type": "Individual"
         },
         {
          "Clinic": "FFMC",
          "Date": "2018-01-29",
          "Metric": "Smoker Pneumovax",
          "Name": "Stephen Lewis",
          "Percentage": 0.4573,
          "Type": "Individual"
         },
         {
          "Clinic": "FFMC",
          "Date": "2018-01-29",
          "Metric": "Smoker Pneumovax",
          "Name": "Erin Maloney",
          "Percentage": null,
          "Type": "Individual"
         },
         {
          "Clinic": "NCFP",
          "Date": "2018-01-29",
          "Metric": "Smoker Pneumovax",
          "Name": "Ross McConahey",
          "Percentage": null,
          "Type": "Individual"
         },
         {
          "Clinic": "NSFM",
          "Date": "2018-01-29",
          "Metric": "Smoker Pneumovax",
          "Name": "Patrick McLaughlin",
          "Percentage": 0.3974,
          "Type": "Individual"
         },
         {
          "Clinic": "NCFP",
          "Date": "2018-01-29",
          "Metric": "Smoker Pneumovax",
          "Name": "Sally McPherson",
          "Percentage": 0.349,
          "Type": "Individual"
         },
         {
          "Clinic": "NCFP",
          "Date": "2018-01-29",
          "Metric": "Smoker Pneumovax",
          "Name": "Lucia Muller",
          "Percentage": 0.4894,
          "Type": "Individual"
         },
         {
          "Clinic": "BellB",
          "Date": "2018-01-29",
          "Metric": "Smoker Pneumovax",
          "Name": "Karen O’Keefe",
          "Percentage": 0.3095,
          "Type": "Individual"
         },
         {
          "Clinic": "SFM",
          "Date": "2018-01-29",
          "Metric": "Smoker Pneumovax",
          "Name": "Lillian Pavlik",
          "Percentage": null,
          "Type": "Individual"
         },
         {
          "Clinic": "LFM",
          "Date": "2018-01-29",
          "Metric": "Smoker Pneumovax",
          "Name": "Patricia Payne-Zajac",
          "Percentage": 0.4107,
          "Type": "Individual"
         },
         {
          "Clinic": "NCFP",
          "Date": "2018-01-29",
          "Metric": "Smoker Pneumovax",
          "Name": "Jonathan Ploudre",
          "Percentage": 0.5273,
          "Type": "Individual"
         },
         {
          "Clinic": "BBFM",
          "Date": "2018-01-29",
          "Metric": "Smoker Pneumovax",
          "Name": "Teresa Regier",
          "Percentage": 0.2349,
          "Type": "Individual"
         },
         {
          "Clinic": "FFMC",
          "Date": "2018-01-29",
          "Metric": "Smoker Pneumovax",
          "Name": "Claudia Rey",
          "Percentage": 0.5046,
          "Type": "Individual"
         },
         {
          "Clinic": "IFP",
          "Date": "2018-01-29",
          "Metric": "Smoker Pneumovax",
          "Name": "Robert Rieger",
          "Percentage": 0.5714,
          "Type": "Individual"
         },
         {
          "Clinic": "SFM",
          "Date": "2018-01-29",
          "Metric": "Smoker Pneumovax",
          "Name": "Deborah Roessler",
          "Percentage": 0.5761,
          "Type": "Individual"
         },
         {
          "Clinic": "FFMC",
          "Date": "2018-01-29",
          "Metric": "Smoker Pneumovax",
          "Name": "Berdi Sanford",
          "Percentage": 0.7407,
          "Type": "Individual"
         },
         {
          "Clinic": "NCFP",
          "Date": "2018-01-29",
          "Metric": "Smoker Pneumovax",
          "Name": "Lauren Sauve",
          "Percentage": 0.3309,
          "Type": "Individual"
         },
         {
          "Clinic": "BellB",
          "Date": "2018-01-29",
          "Metric": "Smoker Pneumovax",
          "Name": "Melana Schimke",
          "Percentage": 0.2308,
          "Type": "Individual"
         },
         {
          "Clinic": "FHA",
          "Date": "2018-01-29",
          "Metric": "Smoker Pneumovax",
          "Name": "Miriam Shapiro",
          "Percentage": 0.5526,
          "Type": "Individual"
         },
         {
          "Clinic": "NSFM",
          "Date": "2018-01-29",
          "Metric": "Smoker Pneumovax",
          "Name": "Jason Short",
          "Percentage": 0.4356,
          "Type": "Individual"
         },
         {
          "Clinic": "NSFM",
          "Date": "2018-01-29",
          "Metric": "Smoker Pneumovax",
          "Name": "Vicki Short",
          "Percentage": 0.5238,
          "Type": "Individual"
         },
         {
          "Clinic": "LFM",
          "Date": "2018-01-29",
          "Metric": "Smoker Pneumovax",
          "Name": "Ashley Snyder",
          "Percentage": 0.4638,
          "Type": "Individual"
         },
         {
          "Clinic": "FFMC",
          "Date": "2018-01-29",
          "Metric": "Smoker Pneumovax",
          "Name": "Kalani Synder",
          "Percentage": 0.2,
          "Type": "Individual"
         },
         {
          "Clinic": "NSFM",
          "Date": "2018-01-29",
          "Metric": "Smoker Pneumovax",
          "Name": "Mary Swanson",
          "Percentage": 0.4516,
          "Type": "Individual"
         },
         {
          "Clinic": "IFP",
          "Date": "2018-01-29",
          "Metric": "Smoker Pneumovax",
          "Name": "Magaret Sweeney",
          "Percentage": 0.4286,
          "Type": "Individual"
         },
         {
          "Clinic": "WFM",
          "Date": "2018-01-29",
          "Metric": "Smoker Pneumovax",
          "Name": "Heather Thomson",
          "Percentage": 0.25,
          "Type": "Individual"
         },
         {
          "Clinic": "BellB",
          "Date": "2018-01-29",
          "Metric": "Smoker Pneumovax",
          "Name": "Lisa Van Hofwegen",
          "Percentage": 0.3704,
          "Type": "Individual"
         },
         {
          "Clinic": "NSFM",
          "Date": "2018-01-29",
          "Metric": "Smoker Pneumovax",
          "Name": "April Wakefield-Pagels",
          "Percentage": 0.5435,
          "Type": "Individual"
         },
         {
          "Clinic": "SFM",
          "Date": "2018-01-29",
          "Metric": "Smoker Pneumovax",
          "Name": "Joy Welty",
          "Percentage": 0.4583,
          "Type": "Individual"
         },
         {
          "Clinic": "SFM",
          "Date": "2018-01-29",
          "Metric": "Smoker Pneumovax",
          "Name": "Matt Werner",
          "Percentage": 0.6341,
          "Type": "Individual"
         },
         {
          "Clinic": "NCFP",
          "Date": "2018-01-29",
          "Metric": "Smoker Pneumovax",
          "Name": "Sloane Winkes",
          "Percentage": 0.5676,
          "Type": "Individual"
         },
         {
          "Clinic": "NSFM",
          "Date": "2018-01-29",
          "Metric": "Smoker Pneumovax",
          "Name": "Ying Wu",
          "Percentage": 0.5667,
          "Type": "Individual"
         },
         {
          "Clinic": "FHA",
          "Date": "2018-01-29",
          "Metric": "Smoker Pneumovax",
          "Name": "Ashley Yoder",
          "Percentage": 0.3333,
          "Type": "Individual"
         },
         {
          "Clinic": "LFM",
          "Date": "2017-12-18",
          "Metric": "Smoker Pneumovax",
          "Name": "Steven Alexander",
          "Percentage": 0.6479,
          "Type": "Individual"
         },
         {
          "Clinic": "BellB",
          "Date": "2017-12-18",
          "Metric": "Smoker Pneumovax",
          "Name": "Greg Anderson",
          "Percentage": 0.4157,
          "Type": "Individual"
         },
         {
          "Clinic": "FHA",
          "Date": "2017-12-18",
          "Metric": "Smoker Pneumovax",
          "Name": "Rodney Anderson",
          "Percentage": 0.6182,
          "Type": "Individual"
         },
         {
          "Clinic": "FFMC",
          "Date": "2017-12-18",
          "Metric": "Smoker Pneumovax",
          "Name": "Jennifer Bates",
          "Percentage": 0.5692,
          "Type": "Individual"
         },
         {
          "Clinic": "WFM",
          "Date": "2017-12-18",
          "Metric": "Smoker Pneumovax",
          "Name": "Shannon Billau",
          "Percentage": 0.4,
          "Type": "Individual"
         },
         {
          "Clinic": "WFM",
          "Date": "2017-12-18",
          "Metric": "Smoker Pneumovax",
          "Name": "Richard Binder",
          "Percentage": 0.6444,
          "Type": "Individual"
         },
         {
          "Clinic": "IFP",
          "Date": "2017-12-18",
          "Metric": "Smoker Pneumovax",
          "Name": "Franklin Bjorseth",
          "Percentage": 0.4132,
          "Type": "Individual"
         },
         {
          "Clinic": "FHA",
          "Date": "2017-12-18",
          "Metric": "Smoker Pneumovax",
          "Name": "Edward Bloom",
          "Percentage": 0.4417,
          "Type": "Individual"
         },
         {
          "Clinic": "FHA",
          "Date": "2017-12-18",
          "Metric": "Smoker Pneumovax",
          "Name": "Jessica Bloom",
          "Percentage": 0.2778,
          "Type": "Individual"
         },
         {
          "Clinic": "WFM",
          "Date": "2017-12-18",
          "Metric": "Smoker Pneumovax",
          "Name": "Steven Bloom",
          "Percentage": 0.4149,
          "Type": "Individual"
         },
         {
          "Clinic": "BellB",
          "Date": "2017-12-18",
          "Metric": "Smoker Pneumovax",
          "Name": "Ian Bonner",
          "Percentage": 0.3566,
          "Type": "Individual"
         },
         {
          "Clinic": "BellB",
          "Date": "2017-12-18",
          "Metric": "Smoker Pneumovax",
          "Name": "Sara Bowling",
          "Percentage": 0.3023,
          "Type": "Individual"
         },
         {
          "Clinic": "NSFM",
          "Date": "2017-12-18",
          "Metric": "Smoker Pneumovax",
          "Name": "Rory Bradt",
          "Percentage": 0.3704,
          "Type": "Individual"
         },
         {
          "Clinic": "FFMC",
          "Date": "2017-12-18",
          "Metric": "Smoker Pneumovax",
          "Name": "Rebecca Brejcha",
          "Percentage": null,
          "Type": "Individual"
         },
         {
          "Clinic": "NSFM",
          "Date": "2017-12-18",
          "Metric": "Smoker Pneumovax",
          "Name": "Lisa Brodsky",
          "Percentage": 0.25,
          "Type": "Individual"
         },
         {
          "Clinic": "LFM",
          "Date": "2017-12-18",
          "Metric": "Smoker Pneumovax",
          "Name": "Margaret Burden",
          "Percentage": 0.3947,
          "Type": "Individual"
         },
         {
          "Clinic": "NCFP",
          "Date": "2017-12-18",
          "Metric": "Smoker Pneumovax",
          "Name": "Erik Bylund",
          "Percentage": 0.2889,
          "Type": "Individual"
         },
         {
          "Clinic": "LFM",
          "Date": "2017-12-18",
          "Metric": "Smoker Pneumovax",
          "Name": "Robin Caldwell",
          "Percentage": 0.4356,
          "Type": "Individual"
         },
         {
          "Clinic": "NSFM",
          "Date": "2017-12-18",
          "Metric": "Smoker Pneumovax",
          "Name": "William Eiford",
          "Percentage": null,
          "Type": "Individual"
         },
         {
          "Clinic": "NCFP",
          "Date": "2017-12-18",
          "Metric": "Smoker Pneumovax",
          "Name": "Roger Estep",
          "Percentage": 0.2083,
          "Type": "Individual"
         },
         {
          "Clinic": "LFM",
          "Date": "2017-12-18",
          "Metric": "Smoker Pneumovax",
          "Name": "Michael Fleming",
          "Percentage": 0.3019,
          "Type": "Individual"
         },
         {
          "Clinic": "NSFM",
          "Date": "2017-12-18",
          "Metric": "Smoker Pneumovax",
          "Name": "Anneliese Floyd",
          "Percentage": 0.525,
          "Type": "Individual"
         },
         {
          "Clinic": "BellB",
          "Date": "2017-12-18",
          "Metric": "Smoker Pneumovax",
          "Name": "Laura Fox",
          "Percentage": 0.4468,
          "Type": "Individual"
         },
         {
          "Clinic": "FFMC",
          "Date": "2017-12-18",
          "Metric": "Smoker Pneumovax",
          "Name": "Renay Fredette",
          "Percentage": 0.5373,
          "Type": "Individual"
         },
         {
          "Clinic": "NCFP",
          "Date": "2017-12-18",
          "Metric": "Smoker Pneumovax",
          "Name": "Kay-Kay Gambs",
          "Percentage": 0.1917,
          "Type": "Individual"
         },
         {
          "Clinic": "NCFP",
          "Date": "2017-12-18",
          "Metric": "Smoker Pneumovax",
          "Name": "Jonathan Gamson",
          "Percentage": 0.2857,
          "Type": "Individual"
         },
         {
          "Clinic": "NSFM",
          "Date": "2017-12-18",
          "Metric": "Smoker Pneumovax",
          "Name": "Elizabeth Gaylord",
          "Percentage": 0.4667,
          "Type": "Individual"
         },
         {
          "Clinic": "IFP",
          "Date": "2017-12-18",
          "Metric": "Smoker Pneumovax",
          "Name": "Karen Goodman",
          "Percentage": 0.2973,
          "Type": "Individual"
         },
         {
          "Clinic": "FHA",
          "Date": "2017-12-18",
          "Metric": "Smoker Pneumovax",
          "Name": "Deborah Hall",
          "Percentage": 0.5641,
          "Type": "Individual"
         },
         {
          "Clinic": "NCFP",
          "Date": "2017-12-18",
          "Metric": "Smoker Pneumovax",
          "Name": "Janet Hansom",
          "Percentage": 0.5517,
          "Type": "Individual"
         },
         {
          "Clinic": "LFM",
          "Date": "2017-12-18",
          "Metric": "Smoker Pneumovax",
          "Name": "Larry Hartwell",
          "Percentage": 0.5,
          "Type": "Individual"
         },
         {
          "Clinic": "SFM",
          "Date": "2017-12-18",
          "Metric": "Smoker Pneumovax",
          "Name": "Shelby Hein",
          "Percentage": 0.4918,
          "Type": "Individual"
         },
         {
          "Clinic": "SFM",
          "Date": "2017-12-18",
          "Metric": "Smoker Pneumovax",
          "Name": "Harry Herdman",
          "Percentage": 0.6081,
          "Type": "Individual"
         },
         {
          "Clinic": "NSFM",
          "Date": "2017-12-18",
          "Metric": "Smoker Pneumovax",
          "Name": "Sarah Herman",
          "Percentage": null,
          "Type": "Individual"
         },
         {
          "Clinic": "LFM",
          "Date": "2017-12-18",
          "Metric": "Smoker Pneumovax",
          "Name": "John Hiemstra",
          "Percentage": 0.5306,
          "Type": "Individual"
         },
         {
          "Clinic": "SFM",
          "Date": "2017-12-18",
          "Metric": "Smoker Pneumovax",
          "Name": "Heather Honey",
          "Percentage": 0.4262,
          "Type": "Individual"
         },
         {
          "Clinic": "FHA",
          "Date": "2017-12-18",
          "Metric": "Smoker Pneumovax",
          "Name": "Ryan Honey",
          "Percentage": 0.1379,
          "Type": "Individual"
         },
         {
          "Clinic": "BellB",
          "Date": "2017-12-18",
          "Metric": "Smoker Pneumovax",
          "Name": "Jim Hopper",
          "Percentage": 0.4583,
          "Type": "Individual"
         },
         {
          "Clinic": "FFMC",
          "Date": "2017-12-18",
          "Metric": "Smoker Pneumovax",
          "Name": "John Hruby",
          "Percentage": 0.453,
          "Type": "Individual"
         },
         {
          "Clinic": "FHA",
          "Date": "2017-12-18",
          "Metric": "Smoker Pneumovax",
          "Name": "Kellie Jacobs",
          "Percentage": 0.4348,
          "Type": "Individual"
         },
         {
          "Clinic": "IFP",
          "Date": "2017-12-18",
          "Metric": "Smoker Pneumovax",
          "Name": "Michael James",
          "Percentage": 0.1915,
          "Type": "Individual"
         },
         {
          "Clinic": "FHA",
          "Date": "2017-12-18",
          "Metric": "Smoker Pneumovax",
          "Name": "Sharon Kerlin",
          "Percentage": null,
          "Type": "Individual"
         },
         {
          "Clinic": "BBFM",
          "Date": "2017-12-18",
          "Metric": "Smoker Pneumovax",
          "Name": "Jessica Klassen",
          "Percentage": 0.2105,
          "Type": "Individual"
         },
         {
          "Clinic": "FHA",
          "Date": "2017-12-18",
          "Metric": "Smoker Pneumovax",
          "Name": "Meghan Lelonek",
          "Percentage": 0.3333,
          "Type": "Individual"
         },
         {
          "Clinic": "FFMC",
          "Date": "2017-12-18",
          "Metric": "Smoker Pneumovax",
          "Name": "Stephen Lewis",
          "Percentage": 0.4398,
          "Type": "Individual"
         },
         {
          "Clinic": "FFMC",
          "Date": "2017-12-18",
          "Metric": "Smoker Pneumovax",
          "Name": "Erin Maloney",
          "Percentage": null,
          "Type": "Individual"
         },
         {
          "Clinic": "NCFP",
          "Date": "2017-12-18",
          "Metric": "Smoker Pneumovax",
          "Name": "Ross McConahey",
          "Percentage": null,
          "Type": "Individual"
         },
         {
          "Clinic": "NSFM",
          "Date": "2017-12-18",
          "Metric": "Smoker Pneumovax",
          "Name": "Patrick McLaughlin",
          "Percentage": 0.3611,
          "Type": "Individual"
         },
         {
          "Clinic": "NCFP",
          "Date": "2017-12-18",
          "Metric": "Smoker Pneumovax",
          "Name": "Sally McPherson",
          "Percentage": 0.3659,
          "Type": "Individual"
         },
         {
          "Clinic": "NCFP",
          "Date": "2017-12-18",
          "Metric": "Smoker Pneumovax",
          "Name": "Lucia Muller",
          "Percentage": 0.5,
          "Type": "Individual"
         },
         {
          "Clinic": "BellB",
          "Date": "2017-12-18",
          "Metric": "Smoker Pneumovax",
          "Name": "Karen O’Keefe",
          "Percentage": 0.2857,
          "Type": "Individual"
         },
         {
          "Clinic": "SFM",
          "Date": "2017-12-18",
          "Metric": "Smoker Pneumovax",
          "Name": "Lillian Pavlik",
          "Percentage": null,
          "Type": "Individual"
         },
         {
          "Clinic": "LFM",
          "Date": "2017-12-18",
          "Metric": "Smoker Pneumovax",
          "Name": "Patricia Payne-Zajac",
          "Percentage": 0.3182,
          "Type": "Individual"
         },
         {
          "Clinic": "NCFP",
          "Date": "2017-12-18",
          "Metric": "Smoker Pneumovax",
          "Name": "Jonathan Ploudre",
          "Percentage": 0.5093,
          "Type": "Individual"
         },
         {
          "Clinic": "NSFM",
          "Date": "2017-12-18",
          "Metric": "Smoker Pneumovax",
          "Name": "John Raduege",
          "Percentage": 0.4947,
          "Type": "Individual"
         },
         {
          "Clinic": "BBFM",
          "Date": "2017-12-18",
          "Metric": "Smoker Pneumovax",
          "Name": "Teresa Regier",
          "Percentage": 0.2361,
          "Type": "Individual"
         },
         {
          "Clinic": "FFMC",
          "Date": "2017-12-18",
          "Metric": "Smoker Pneumovax",
          "Name": "Claudia Rey",
          "Percentage": 0.5,
          "Type": "Individual"
         },
         {
          "Clinic": "IFP",
          "Date": "2017-12-18",
          "Metric": "Smoker Pneumovax",
          "Name": "Robert Rieger",
          "Percentage": 0.525,
          "Type": "Individual"
         },
         {
          "Clinic": "SFM",
          "Date": "2017-12-18",
          "Metric": "Smoker Pneumovax",
          "Name": "Deborah Roessler",
          "Percentage": 0.5579,
          "Type": "Individual"
         },
         {
          "Clinic": "FFMC",
          "Date": "2017-12-18",
          "Metric": "Smoker Pneumovax",
          "Name": "Berdi Sanford",
          "Percentage": 0.7284,
          "Type": "Individual"
         },
         {
          "Clinic": "NCFP",
          "Date": "2017-12-18",
          "Metric": "Smoker Pneumovax",
          "Name": "Lauren Sauve",
          "Percentage": 0.3423,
          "Type": "Individual"
         },
         {
          "Clinic": "BellB",
          "Date": "2017-12-18",
          "Metric": "Smoker Pneumovax",
          "Name": "Melana Schimke",
          "Percentage": 0.1791,
          "Type": "Individual"
         },
         {
          "Clinic": "FHA",
          "Date": "2017-12-18",
          "Metric": "Smoker Pneumovax",
          "Name": "Miriam Shapiro",
          "Percentage": 0.5556,
          "Type": "Individual"
         },
         {
          "Clinic": "NSFM",
          "Date": "2017-12-18",
          "Metric": "Smoker Pneumovax",
          "Name": "Jason Short",
          "Percentage": 0.3936,
          "Type": "Individual"
         },
         {
          "Clinic": "NSFM",
          "Date": "2017-12-18",
          "Metric": "Smoker Pneumovax",
          "Name": "Vicki Short",
          "Percentage": 0.5059,
          "Type": "Individual"
         },
         {
          "Clinic": "LFM",
          "Date": "2017-12-18",
          "Metric": "Smoker Pneumovax",
          "Name": "Ashley Snyder",
          "Percentage": 0.463,
          "Type": "Individual"
         },
         {
          "Clinic": "FFMC",
          "Date": "2017-12-18",
          "Metric": "Smoker Pneumovax",
          "Name": "Kalani Synder",
          "Percentage": 0.2198,
          "Type": "Individual"
         },
         {
          "Clinic": "NSFM",
          "Date": "2017-12-18",
          "Metric": "Smoker Pneumovax",
          "Name": "Mary Swanson",
          "Percentage": 0.4375,
          "Type": "Individual"
         },
         {
          "Clinic": "IFP",
          "Date": "2017-12-18",
          "Metric": "Smoker Pneumovax",
          "Name": "Magaret Sweeney",
          "Percentage": 0.3256,
          "Type": "Individual"
         },
         {
          "Clinic": "WFM",
          "Date": "2017-12-18",
          "Metric": "Smoker Pneumovax",
          "Name": "Heather Thomson",
          "Percentage": 0.2308,
          "Type": "Individual"
         },
         {
          "Clinic": "BellB",
          "Date": "2017-12-18",
          "Metric": "Smoker Pneumovax",
          "Name": "Lisa Van Hofwegen",
          "Percentage": 0.3929,
          "Type": "Individual"
         },
         {
          "Clinic": "NSFM",
          "Date": "2017-12-18",
          "Metric": "Smoker Pneumovax",
          "Name": "April Wakefield-Pagels",
          "Percentage": 0.5319,
          "Type": "Individual"
         },
         {
          "Clinic": "SFM",
          "Date": "2017-12-18",
          "Metric": "Smoker Pneumovax",
          "Name": "Joy Welty",
          "Percentage": 0.4286,
          "Type": "Individual"
         },
         {
          "Clinic": "SFM",
          "Date": "2017-12-18",
          "Metric": "Smoker Pneumovax",
          "Name": "Matt Werner",
          "Percentage": 0.622,
          "Type": "Individual"
         },
         {
          "Clinic": "NCFP",
          "Date": "2017-12-18",
          "Metric": "Smoker Pneumovax",
          "Name": "Sloane Winkes",
          "Percentage": 0.5676,
          "Type": "Individual"
         },
         {
          "Clinic": "NSFM",
          "Date": "2017-12-18",
          "Metric": "Smoker Pneumovax",
          "Name": "Ying Wu",
          "Percentage": 0.4848,
          "Type": "Individual"
         },
         {
          "Clinic": "LFM",
          "Date": "2018-03-19",
          "Metric": "Smoker Pneumovax",
          "Name": "Steven Alexander",
          "Percentage": 0.6667,
          "Type": "Individual"
         },
         {
          "Clinic": "BellB",
          "Date": "2018-03-19",
          "Metric": "Smoker Pneumovax",
          "Name": "Greg Anderson",
          "Percentage": 0.4556,
          "Type": "Individual"
         },
         {
          "Clinic": "FHA",
          "Date": "2018-03-19",
          "Metric": "Smoker Pneumovax",
          "Name": "Rodney Anderson",
          "Percentage": 0.6957,
          "Type": "Individual"
         },
         {
          "Clinic": "FFMC",
          "Date": "2018-03-19",
          "Metric": "Smoker Pneumovax",
          "Name": "Jennifer Bates",
          "Percentage": 0.5714,
          "Type": "Individual"
         },
         {
          "Clinic": "WFM",
          "Date": "2018-03-19",
          "Metric": "Smoker Pneumovax",
          "Name": "Shannon Billau",
          "Percentage": 0.4098,
          "Type": "Individual"
         },
         {
          "Clinic": "WFM",
          "Date": "2018-03-19",
          "Metric": "Smoker Pneumovax",
          "Name": "Richard Binder",
          "Percentage": 0.6522,
          "Type": "Individual"
         },
         {
          "Clinic": "IFP",
          "Date": "2018-03-19",
          "Metric": "Smoker Pneumovax",
          "Name": "Franklin Bjorseth",
          "Percentage": 0.4661,
          "Type": "Individual"
         },
         {
          "Clinic": "FHA",
          "Date": "2018-03-19",
          "Metric": "Smoker Pneumovax",
          "Name": "Edward Bloom",
          "Percentage": 0.4397,
          "Type": "Individual"
         },
         {
          "Clinic": "FHA",
          "Date": "2018-03-19",
          "Metric": "Smoker Pneumovax",
          "Name": "Jessica Bloom",
          "Percentage": 0.25,
          "Type": "Individual"
         },
         {
          "Clinic": "WFM",
          "Date": "2018-03-19",
          "Metric": "Smoker Pneumovax",
          "Name": "Steven Bloom",
          "Percentage": 0.4388,
          "Type": "Individual"
         },
         {
          "Clinic": "BellB",
          "Date": "2018-03-19",
          "Metric": "Smoker Pneumovax",
          "Name": "Ian Bonner",
          "Percentage": 0.3788,
          "Type": "Individual"
         },
         {
          "Clinic": "BellB",
          "Date": "2018-03-19",
          "Metric": "Smoker Pneumovax",
          "Name": "Sara Bowling",
          "Percentage": 0.3452,
          "Type": "Individual"
         },
         {
          "Clinic": "NSFM",
          "Date": "2018-03-19",
          "Metric": "Smoker Pneumovax",
          "Name": "Rory Bradt",
          "Percentage": 0.4154,
          "Type": "Individual"
         },
         {
          "Clinic": "FFMC",
          "Date": "2018-03-19",
          "Metric": "Smoker Pneumovax",
          "Name": "Rebecca Brejcha",
          "Percentage": null,
          "Type": "Individual"
         },
         {
          "Clinic": "LFM",
          "Date": "2018-03-19",
          "Metric": "Smoker Pneumovax",
          "Name": "Margaret Burden",
          "Percentage": 0.4054,
          "Type": "Individual"
         },
         {
          "Clinic": "NCFP",
          "Date": "2018-03-19",
          "Metric": "Smoker Pneumovax",
          "Name": "Erik Bylund",
          "Percentage": 0.3154,
          "Type": "Individual"
         },
         {
          "Clinic": "LFM",
          "Date": "2018-03-19",
          "Metric": "Smoker Pneumovax",
          "Name": "Robin Caldwell",
          "Percentage": 0.475,
          "Type": "Individual"
         },
         {
          "Clinic": "NSFM",
          "Date": "2018-03-19",
          "Metric": "Smoker Pneumovax",
          "Name": "William Eiford",
          "Percentage": null,
          "Type": "Individual"
         },
         {
          "Clinic": "NCFP",
          "Date": "2018-03-19",
          "Metric": "Smoker Pneumovax",
          "Name": "Roger Estep",
          "Percentage": 0.3171,
          "Type": "Individual"
         },
         {
          "Clinic": "LFM",
          "Date": "2018-03-19",
          "Metric": "Smoker Pneumovax",
          "Name": "Michael Fleming",
          "Percentage": 0.3544,
          "Type": "Individual"
         },
         {
          "Clinic": "NSFM",
          "Date": "2018-03-19",
          "Metric": "Smoker Pneumovax",
          "Name": "Anneliese Floyd",
          "Percentage": 0.525,
          "Type": "Individual"
         },
         {
          "Clinic": "BellB",
          "Date": "2018-03-19",
          "Metric": "Smoker Pneumovax",
          "Name": "Laura Fox",
          "Percentage": 0.5,
          "Type": "Individual"
         },
         {
          "Clinic": "FFMC",
          "Date": "2018-03-19",
          "Metric": "Smoker Pneumovax",
          "Name": "Renay Fredette",
          "Percentage": 0.5085,
          "Type": "Individual"
         },
         {
          "Clinic": "NCFP",
          "Date": "2018-03-19",
          "Metric": "Smoker Pneumovax",
          "Name": "Kay-Kay Gambs",
          "Percentage": 0.2,
          "Type": "Individual"
         },
         {
          "Clinic": "NCFP",
          "Date": "2018-03-19",
          "Metric": "Smoker Pneumovax",
          "Name": "Jonathan Gamson",
          "Percentage": 0.3308,
          "Type": "Individual"
         },
         {
          "Clinic": "NSFM",
          "Date": "2018-03-19",
          "Metric": "Smoker Pneumovax",
          "Name": "Elizabeth Gaylord",
          "Percentage": 0.5,
          "Type": "Individual"
         },
         {
          "Clinic": "IFP",
          "Date": "2018-03-19",
          "Metric": "Smoker Pneumovax",
          "Name": "Karen Goodman",
          "Percentage": 0.3,
          "Type": "Individual"
         },
         {
          "Clinic": "FHA",
          "Date": "2018-03-19",
          "Metric": "Smoker Pneumovax",
          "Name": "Deborah Hall",
          "Percentage": 0.5789,
          "Type": "Individual"
         },
         {
          "Clinic": "NCFP",
          "Date": "2018-03-19",
          "Metric": "Smoker Pneumovax",
          "Name": "Janet Hansom",
          "Percentage": 0.5862,
          "Type": "Individual"
         },
         {
          "Clinic": "LFM",
          "Date": "2018-03-19",
          "Metric": "Smoker Pneumovax",
          "Name": "Larry Hartwell",
          "Percentage": 0.5185,
          "Type": "Individual"
         },
         {
          "Clinic": "SFM",
          "Date": "2018-03-19",
          "Metric": "Smoker Pneumovax",
          "Name": "Shelby Hein",
          "Percentage": 0.4737,
          "Type": "Individual"
         },
         {
          "Clinic": "SFM",
          "Date": "2018-03-19",
          "Metric": "Smoker Pneumovax",
          "Name": "Harry Herdman",
          "Percentage": 0.625,
          "Type": "Individual"
         },
         {
          "Clinic": "NSFM",
          "Date": "2018-03-19",
          "Metric": "Smoker Pneumovax",
          "Name": "Sarah Herman",
          "Percentage": null,
          "Type": "Individual"
         },
         {
          "Clinic": "LFM",
          "Date": "2018-03-19",
          "Metric": "Smoker Pneumovax",
          "Name": "John Hiemstra",
          "Percentage": 0.5306,
          "Type": "Individual"
         },
         {
          "Clinic": "SFM",
          "Date": "2018-03-19",
          "Metric": "Smoker Pneumovax",
          "Name": "Heather Honey",
          "Percentage": 0.4091,
          "Type": "Individual"
         },
         {
          "Clinic": "FHA",
          "Date": "2018-03-19",
          "Metric": "Smoker Pneumovax",
          "Name": "Ryan Honey",
          "Percentage": 0.3043,
          "Type": "Individual"
         },
         {
          "Clinic": "BellB",
          "Date": "2018-03-19",
          "Metric": "Smoker Pneumovax",
          "Name": "Jim Hopper",
          "Percentage": 0.4348,
          "Type": "Individual"
         },
         {
          "Clinic": "FFMC",
          "Date": "2018-03-19",
          "Metric": "Smoker Pneumovax",
          "Name": "John Hruby",
          "Percentage": 0.4701,
          "Type": "Individual"
         },
         {
          "Clinic": "FHA",
          "Date": "2018-03-19",
          "Metric": "Smoker Pneumovax",
          "Name": "Kellie Jacobs",
          "Percentage": 0.4348,
          "Type": "Individual"
         },
         {
          "Clinic": "IFP",
          "Date": "2018-03-19",
          "Metric": "Smoker Pneumovax",
          "Name": "Michael James",
          "Percentage": 0.2526,
          "Type": "Individual"
         },
         {
          "Clinic": "FHA",
          "Date": "2018-03-19",
          "Metric": "Smoker Pneumovax",
          "Name": "Sharon Kerlin",
          "Percentage": null,
          "Type": "Individual"
         },
         {
          "Clinic": "BBFM",
          "Date": "2018-03-19",
          "Metric": "Smoker Pneumovax",
          "Name": "Jessica Klassen",
          "Percentage": 0.2353,
          "Type": "Individual"
         },
         {
          "Clinic": "FHA",
          "Date": "2018-03-19",
          "Metric": "Smoker Pneumovax",
          "Name": "Meghan Lelonek",
          "Percentage": 0.4337,
          "Type": "Individual"
         },
         {
          "Clinic": "FFMC",
          "Date": "2018-03-19",
          "Metric": "Smoker Pneumovax",
          "Name": "Stephen Lewis",
          "Percentage": 0.4696,
          "Type": "Individual"
         },
         {
          "Clinic": "FFMC",
          "Date": "2018-03-19",
          "Metric": "Smoker Pneumovax",
          "Name": "Erin Maloney",
          "Percentage": null,
          "Type": "Individual"
         },
         {
          "Clinic": "NCFP",
          "Date": "2018-03-19",
          "Metric": "Smoker Pneumovax",
          "Name": "Ross McConahey",
          "Percentage": null,
          "Type": "Individual"
         },
         {
          "Clinic": "NSFM",
          "Date": "2018-03-19",
          "Metric": "Smoker Pneumovax",
          "Name": "Patrick McLaughlin",
          "Percentage": 0.4267,
          "Type": "Individual"
         },
         {
          "Clinic": "NCFP",
          "Date": "2018-03-19",
          "Metric": "Smoker Pneumovax",
          "Name": "Sally McPherson",
          "Percentage": 0.3974,
          "Type": "Individual"
         },
         {
          "Clinic": "NCFP",
          "Date": "2018-03-19",
          "Metric": "Smoker Pneumovax",
          "Name": "Lucia Muller",
          "Percentage": 0.5319,
          "Type": "Individual"
         },
         {
          "Clinic": "BellB",
          "Date": "2018-03-19",
          "Metric": "Smoker Pneumovax",
          "Name": "Karen O’Keefe",
          "Percentage": 0.3095,
          "Type": "Individual"
         },
         {
          "Clinic": "SFM",
          "Date": "2018-03-19",
          "Metric": "Smoker Pneumovax",
          "Name": "Lillian Pavlik",
          "Percentage": null,
          "Type": "Individual"
         },
         {
          "Clinic": "LFM",
          "Date": "2018-03-19",
          "Metric": "Smoker Pneumovax",
          "Name": "Patricia Payne-Zajac",
          "Percentage": 0.4561,
          "Type": "Individual"
         },
         {
          "Clinic": "NCFP",
          "Date": "2018-03-19",
          "Metric": "Smoker Pneumovax",
          "Name": "Jonathan Ploudre",
          "Percentage": 0.5505,
          "Type": "Individual"
         },
         {
          "Clinic": "NSFM",
          "Date": "2018-03-19",
          "Metric": "Smoker Pneumovax",
          "Name": "John Raduege",
          "Percentage": 0.5208,
          "Type": "Individual"
         },
         {
          "Clinic": "BBFM",
          "Date": "2018-03-19",
          "Metric": "Smoker Pneumovax",
          "Name": "Teresa Regier",
          "Percentage": 0.2288,
          "Type": "Individual"
         },
         {
          "Clinic": "FFMC",
          "Date": "2018-03-19",
          "Metric": "Smoker Pneumovax",
          "Name": "Claudia Rey",
          "Percentage": 0.5,
          "Type": "Individual"
         },
         {
          "Clinic": "IFP",
          "Date": "2018-03-19",
          "Metric": "Smoker Pneumovax",
          "Name": "Robert Rieger",
          "Percentage": 0.56,
          "Type": "Individual"
         },
         {
          "Clinic": "SFM",
          "Date": "2018-03-19",
          "Metric": "Smoker Pneumovax",
          "Name": "Deborah Roessler",
          "Percentage": 0.6024,
          "Type": "Individual"
         },
         {
          "Clinic": "FFMC",
          "Date": "2018-03-19",
          "Metric": "Smoker Pneumovax",
          "Name": "Berdi Sanford",
          "Percentage": 0.7595,
          "Type": "Individual"
         },
         {
          "Clinic": "NCFP",
          "Date": "2018-03-19",
          "Metric": "Smoker Pneumovax",
          "Name": "Lauren Sauve",
          "Percentage": 0.3636,
          "Type": "Individual"
         },
         {
          "Clinic": "BellB",
          "Date": "2018-03-19",
          "Metric": "Smoker Pneumovax",
          "Name": "Melana Schimke",
          "Percentage": 0.2273,
          "Type": "Individual"
         },
         {
          "Clinic": "FHA",
          "Date": "2018-03-19",
          "Metric": "Smoker Pneumovax",
          "Name": "Miriam Shapiro",
          "Percentage": 0.5676,
          "Type": "Individual"
         },
         {
          "Clinic": "NSFM",
          "Date": "2018-03-19",
          "Metric": "Smoker Pneumovax",
          "Name": "Jason Short",
          "Percentage": 0.4272,
          "Type": "Individual"
         },
         {
          "Clinic": "NSFM",
          "Date": "2018-03-19",
          "Metric": "Smoker Pneumovax",
          "Name": "Vicki Short",
          "Percentage": 0.5181,
          "Type": "Individual"
         },
         {
          "Clinic": "LFM",
          "Date": "2018-03-19",
          "Metric": "Smoker Pneumovax",
          "Name": "Ashley Snyder",
          "Percentage": 0.4507,
          "Type": "Individual"
         },
         {
          "Clinic": "FFMC",
          "Date": "2018-03-19",
          "Metric": "Smoker Pneumovax",
          "Name": "Kalani Synder",
          "Percentage": 0.2,
          "Type": "Individual"
         },
         {
          "Clinic": "NSFM",
          "Date": "2018-03-19",
          "Metric": "Smoker Pneumovax",
          "Name": "Mary Swanson",
          "Percentage": 0.4688,
          "Type": "Individual"
         },
         {
          "Clinic": "IFP",
          "Date": "2018-03-19",
          "Metric": "Smoker Pneumovax",
          "Name": "Magaret Sweeney",
          "Percentage": 0.5116,
          "Type": "Individual"
         },
         {
          "Clinic": "WFM",
          "Date": "2018-03-19",
          "Metric": "Smoker Pneumovax",
          "Name": "Heather Thomson",
          "Percentage": 0.2941,
          "Type": "Individual"
         },
         {
          "Clinic": "BellB",
          "Date": "2018-03-19",
          "Metric": "Smoker Pneumovax",
          "Name": "Lisa Van Hofwegen",
          "Percentage": 0.3846,
          "Type": "Individual"
         },
         {
          "Clinic": "NSFM",
          "Date": "2018-03-19",
          "Metric": "Smoker Pneumovax",
          "Name": "April Wakefield-Pagels",
          "Percentage": 0.6047,
          "Type": "Individual"
         },
         {
          "Clinic": "SFM",
          "Date": "2018-03-19",
          "Metric": "Smoker Pneumovax",
          "Name": "Joy Welty",
          "Percentage": 0.5,
          "Type": "Individual"
         },
         {
          "Clinic": "SFM",
          "Date": "2018-03-19",
          "Metric": "Smoker Pneumovax",
          "Name": "Matt Werner",
          "Percentage": 0.6329,
          "Type": "Individual"
         },
         {
          "Clinic": "NCFP",
          "Date": "2018-03-19",
          "Metric": "Smoker Pneumovax",
          "Name": "Sloane Winkes",
          "Percentage": 0.6286,
          "Type": "Individual"
         },
         {
          "Clinic": "NSFM",
          "Date": "2018-03-19",
          "Metric": "Smoker Pneumovax",
          "Name": "Ying Wu",
          "Percentage": 0.5517,
          "Type": "Individual"
         },
         {
          "Clinic": "FHA",
          "Date": "2018-03-19",
          "Metric": "Smoker Pneumovax",
          "Name": "Ashley Yoder",
          "Percentage": 0.2667,
          "Type": "Individual"
         },
         {
          "Clinic": "LFM",
          "Date": "2018-04-02",
          "Metric": "Smoker Pneumovax",
          "Name": "Steven Alexander",
          "Percentage": 0.6667,
          "Type": "Individual"
         },
         {
          "Clinic": "BellB",
          "Date": "2018-04-02",
          "Metric": "Smoker Pneumovax",
          "Name": "Greg Anderson",
          "Percentage": 0.4556,
          "Type": "Individual"
         },
         {
          "Clinic": "FHA",
          "Date": "2018-04-02",
          "Metric": "Smoker Pneumovax",
          "Name": "Rodney Anderson",
          "Percentage": 0.7045,
          "Type": "Individual"
         },
         {
          "Clinic": "FFMC",
          "Date": "2018-04-02",
          "Metric": "Smoker Pneumovax",
          "Name": "Jennifer Bates",
          "Percentage": 0.5806,
          "Type": "Individual"
         },
         {
          "Clinic": "WFM",
          "Date": "2018-04-02",
          "Metric": "Smoker Pneumovax",
          "Name": "Shannon Billau",
          "Percentage": 0.4098,
          "Type": "Individual"
         },
         {
          "Clinic": "WFM",
          "Date": "2018-04-02",
          "Metric": "Smoker Pneumovax",
          "Name": "Richard Binder",
          "Percentage": 0.6522,
          "Type": "Individual"
         },
         {
          "Clinic": "IFP",
          "Date": "2018-04-02",
          "Metric": "Smoker Pneumovax",
          "Name": "Franklin Bjorseth",
          "Percentage": 0.4915,
          "Type": "Individual"
         },
         {
          "Clinic": "FHA",
          "Date": "2018-04-02",
          "Metric": "Smoker Pneumovax",
          "Name": "Edward Bloom",
          "Percentage": 0.4397,
          "Type": "Individual"
         },
         {
          "Clinic": "FHA",
          "Date": "2018-04-02",
          "Metric": "Smoker Pneumovax",
          "Name": "Jessica Bloom",
          "Percentage": 0.2632,
          "Type": "Individual"
         },
         {
          "Clinic": "WFM",
          "Date": "2018-04-02",
          "Metric": "Smoker Pneumovax",
          "Name": "Steven Bloom",
          "Percentage": 0.4433,
          "Type": "Individual"
         },
         {
          "Clinic": "BellB",
          "Date": "2018-04-02",
          "Metric": "Smoker Pneumovax",
          "Name": "Ian Bonner",
          "Percentage": 0.374,
          "Type": "Individual"
         },
         {
          "Clinic": "BellB",
          "Date": "2018-04-02",
          "Metric": "Smoker Pneumovax",
          "Name": "Sara Bowling",
          "Percentage": 0.3452,
          "Type": "Individual"
         },
         {
          "Clinic": "NSFM",
          "Date": "2018-04-02",
          "Metric": "Smoker Pneumovax",
          "Name": "Rory Bradt",
          "Percentage": 0.4275,
          "Type": "Individual"
         },
         {
          "Clinic": "FFMC",
          "Date": "2018-04-02",
          "Metric": "Smoker Pneumovax",
          "Name": "Rebecca Brejcha",
          "Percentage": null,
          "Type": "Individual"
         },
         {
          "Clinic": "NSFM",
          "Date": "2018-04-02",
          "Metric": "Smoker Pneumovax",
          "Name": "Lisa Brodsky",
          "Percentage": 0.3143,
          "Type": "Individual"
         },
         {
          "Clinic": "LFM",
          "Date": "2018-04-02",
          "Metric": "Smoker Pneumovax",
          "Name": "Margaret Burden",
          "Percentage": 0.4054,
          "Type": "Individual"
         },
         {
          "Clinic": "NCFP",
          "Date": "2018-04-02",
          "Metric": "Smoker Pneumovax",
          "Name": "Erik Bylund",
          "Percentage": 0.313,
          "Type": "Individual"
         },
         {
          "Clinic": "LFM",
          "Date": "2018-04-02",
          "Metric": "Smoker Pneumovax",
          "Name": "Robin Caldwell",
          "Percentage": 0.481,
          "Type": "Individual"
         },
         {
          "Clinic": "NSFM",
          "Date": "2018-04-02",
          "Metric": "Smoker Pneumovax",
          "Name": "William Eiford",
          "Percentage": null,
          "Type": "Individual"
         },
         {
          "Clinic": "NCFP",
          "Date": "2018-04-02",
          "Metric": "Smoker Pneumovax",
          "Name": "Roger Estep",
          "Percentage": 0.3171,
          "Type": "Individual"
         },
         {
          "Clinic": "LFM",
          "Date": "2018-04-02",
          "Metric": "Smoker Pneumovax",
          "Name": "Michael Fleming",
          "Percentage": 0.3375,
          "Type": "Individual"
         },
         {
          "Clinic": "NSFM",
          "Date": "2018-04-02",
          "Metric": "Smoker Pneumovax",
          "Name": "Anneliese Floyd",
          "Percentage": 0.5385,
          "Type": "Individual"
         },
         {
          "Clinic": "BellB",
          "Date": "2018-04-02",
          "Metric": "Smoker Pneumovax",
          "Name": "Laura Fox",
          "Percentage": 0.5,
          "Type": "Individual"
         },
         {
          "Clinic": "FFMC",
          "Date": "2018-04-02",
          "Metric": "Smoker Pneumovax",
          "Name": "Renay Fredette",
          "Percentage": 0.5167,
          "Type": "Individual"
         },
         {
          "Clinic": "NCFP",
          "Date": "2018-04-02",
          "Metric": "Smoker Pneumovax",
          "Name": "Kay-Kay Gambs",
          "Percentage": 0.2212,
          "Type": "Individual"
         },
         {
          "Clinic": "NCFP",
          "Date": "2018-04-02",
          "Metric": "Smoker Pneumovax",
          "Name": "Jonathan Gamson",
          "Percentage": 0.3358,
          "Type": "Individual"
         },
         {
          "Clinic": "NSFM",
          "Date": "2018-04-02",
          "Metric": "Smoker Pneumovax",
          "Name": "Elizabeth Gaylord",
          "Percentage": 0.5,
          "Type": "Individual"
         },
         {
          "Clinic": "IFP",
          "Date": "2018-04-02",
          "Metric": "Smoker Pneumovax",
          "Name": "Karen Goodman",
          "Percentage": 0.3,
          "Type": "Individual"
         },
         {
          "Clinic": "FHA",
          "Date": "2018-04-02",
          "Metric": "Smoker Pneumovax",
          "Name": "Deborah Hall",
          "Percentage": 0.589,
          "Type": "Individual"
         },
         {
          "Clinic": "NCFP",
          "Date": "2018-04-02",
          "Metric": "Smoker Pneumovax",
          "Name": "Janet Hansom",
          "Percentage": 0.5862,
          "Type": "Individual"
         },
         {
          "Clinic": "LFM",
          "Date": "2018-04-02",
          "Metric": "Smoker Pneumovax",
          "Name": "Larry Hartwell",
          "Percentage": 0.5278,
          "Type": "Individual"
         },
         {
          "Clinic": "SFM",
          "Date": "2018-04-02",
          "Metric": "Smoker Pneumovax",
          "Name": "Shelby Hein",
          "Percentage": 0.5263,
          "Type": "Individual"
         },
         {
          "Clinic": "SFM",
          "Date": "2018-04-02",
          "Metric": "Smoker Pneumovax",
          "Name": "Harry Herdman",
          "Percentage": 0.6667,
          "Type": "Individual"
         },
         {
          "Clinic": "NSFM",
          "Date": "2018-04-02",
          "Metric": "Smoker Pneumovax",
          "Name": "Sarah Herman",
          "Percentage": null,
          "Type": "Individual"
         },
         {
          "Clinic": "LFM",
          "Date": "2018-04-02",
          "Metric": "Smoker Pneumovax",
          "Name": "John Hiemstra",
          "Percentage": 0.5347,
          "Type": "Individual"
         },
         {
          "Clinic": "SFM",
          "Date": "2018-04-02",
          "Metric": "Smoker Pneumovax",
          "Name": "Heather Honey",
          "Percentage": 0.3971,
          "Type": "Individual"
         },
         {
          "Clinic": "FHA",
          "Date": "2018-04-02",
          "Metric": "Smoker Pneumovax",
          "Name": "Ryan Honey",
          "Percentage": 0.3043,
          "Type": "Individual"
         },
         {
          "Clinic": "BellB",
          "Date": "2018-04-02",
          "Metric": "Smoker Pneumovax",
          "Name": "Jim Hopper",
          "Percentage": 0.4318,
          "Type": "Individual"
         },
         {
          "Clinic": "FFMC",
          "Date": "2018-04-02",
          "Metric": "Smoker Pneumovax",
          "Name": "John Hruby",
          "Percentage": 0.4615,
          "Type": "Individual"
         },
         {
          "Clinic": "FHA",
          "Date": "2018-04-02",
          "Metric": "Smoker Pneumovax",
          "Name": "Kellie Jacobs",
          "Percentage": 0.4348,
          "Type": "Individual"
         },
         {
          "Clinic": "IFP",
          "Date": "2018-04-02",
          "Metric": "Smoker Pneumovax",
          "Name": "Michael James",
          "Percentage": 0.25,
          "Type": "Individual"
         },
         {
          "Clinic": "FHA",
          "Date": "2018-04-02",
          "Metric": "Smoker Pneumovax",
          "Name": "Sharon Kerlin",
          "Percentage": null,
          "Type": "Individual"
         },
         {
          "Clinic": "BBFM",
          "Date": "2018-04-02",
          "Metric": "Smoker Pneumovax",
          "Name": "Jessica Klassen",
          "Percentage": 0.2466,
          "Type": "Individual"
         },
         {
          "Clinic": "FHA",
          "Date": "2018-04-02",
          "Metric": "Smoker Pneumovax",
          "Name": "Meghan Lelonek",
          "Percentage": 0.4405,
          "Type": "Individual"
         },
         {
          "Clinic": "FFMC",
          "Date": "2018-04-02",
          "Metric": "Smoker Pneumovax",
          "Name": "Stephen Lewis",
          "Percentage": 0.4693,
          "Type": "Individual"
         },
         {
          "Clinic": "FFMC",
          "Date": "2018-04-02",
          "Metric": "Smoker Pneumovax",
          "Name": "Erin Maloney",
          "Percentage": null,
          "Type": "Individual"
         },
         {
          "Clinic": "NCFP",
          "Date": "2018-04-02",
          "Metric": "Smoker Pneumovax",
          "Name": "Ross McConahey",
          "Percentage": null,
          "Type": "Individual"
         },
         {
          "Clinic": "NSFM",
          "Date": "2018-04-02",
          "Metric": "Smoker Pneumovax",
          "Name": "Patrick McLaughlin",
          "Percentage": 0.4324,
          "Type": "Individual"
         },
         {
          "Clinic": "NCFP",
          "Date": "2018-04-02",
          "Metric": "Smoker Pneumovax",
          "Name": "Sally McPherson",
          "Percentage": 0.3974,
          "Type": "Individual"
         },
         {
          "Clinic": "NCFP",
          "Date": "2018-04-02",
          "Metric": "Smoker Pneumovax",
          "Name": "Lucia Muller",
          "Percentage": 0.5532,
          "Type": "Individual"
         },
         {
          "Clinic": "BellB",
          "Date": "2018-04-02",
          "Metric": "Smoker Pneumovax",
          "Name": "Karen O’Keefe",
          "Percentage": 0.3256,
          "Type": "Individual"
         },
         {
          "Clinic": "SFM",
          "Date": "2018-04-02",
          "Metric": "Smoker Pneumovax",
          "Name": "Lillian Pavlik",
          "Percentage": null,
          "Type": "Individual"
         },
         {
          "Clinic": "LFM",
          "Date": "2018-04-02",
          "Metric": "Smoker Pneumovax",
          "Name": "Patricia Payne-Zajac",
          "Percentage": 0.4333,
          "Type": "Individual"
         },
         {
          "Clinic": "NCFP",
          "Date": "2018-04-02",
          "Metric": "Smoker Pneumovax",
          "Name": "Jonathan Ploudre",
          "Percentage": 0.5648,
          "Type": "Individual"
         },
         {
          "Clinic": "NSFM",
          "Date": "2018-04-02",
          "Metric": "Smoker Pneumovax",
          "Name": "John Raduege",
          "Percentage": 0.5208,
          "Type": "Individual"
         },
         {
          "Clinic": "BBFM",
          "Date": "2018-04-02",
          "Metric": "Smoker Pneumovax",
          "Name": "Teresa Regier",
          "Percentage": 0.2368,
          "Type": "Individual"
         },
         {
          "Clinic": "FFMC",
          "Date": "2018-04-02",
          "Metric": "Smoker Pneumovax",
          "Name": "Claudia Rey",
          "Percentage": 0.5248,
          "Type": "Individual"
         },
         {
          "Clinic": "IFP",
          "Date": "2018-04-02",
          "Metric": "Smoker Pneumovax",
          "Name": "Robert Rieger",
          "Percentage": 0.5513,
          "Type": "Individual"
         },
         {
          "Clinic": "SFM",
          "Date": "2018-04-02",
          "Metric": "Smoker Pneumovax",
          "Name": "Deborah Roessler",
          "Percentage": 0.6024,
          "Type": "Individual"
         },
         {
          "Clinic": "FFMC",
          "Date": "2018-04-02",
          "Metric": "Smoker Pneumovax",
          "Name": "Berdi Sanford",
          "Percentage": 0.7564,
          "Type": "Individual"
         },
         {
          "Clinic": "NCFP",
          "Date": "2018-04-02",
          "Metric": "Smoker Pneumovax",
          "Name": "Lauren Sauve",
          "Percentage": 0.3636,
          "Type": "Individual"
         },
         {
          "Clinic": "BellB",
          "Date": "2018-04-02",
          "Metric": "Smoker Pneumovax",
          "Name": "Melana Schimke",
          "Percentage": 0.2154,
          "Type": "Individual"
         },
         {
          "Clinic": "FHA",
          "Date": "2018-04-02",
          "Metric": "Smoker Pneumovax",
          "Name": "Miriam Shapiro",
          "Percentage": 0.5676,
          "Type": "Individual"
         },
         {
          "Clinic": "NSFM",
          "Date": "2018-04-02",
          "Metric": "Smoker Pneumovax",
          "Name": "Jason Short",
          "Percentage": 0.4175,
          "Type": "Individual"
         },
         {
          "Clinic": "NSFM",
          "Date": "2018-04-02",
          "Metric": "Smoker Pneumovax",
          "Name": "Vicki Short",
          "Percentage": 0.5238,
          "Type": "Individual"
         },
         {
          "Clinic": "LFM",
          "Date": "2018-04-02",
          "Metric": "Smoker Pneumovax",
          "Name": "Ashley Snyder",
          "Percentage": 0.4648,
          "Type": "Individual"
         },
         {
          "Clinic": "FFMC",
          "Date": "2018-04-02",
          "Metric": "Smoker Pneumovax",
          "Name": "Kalani Synder",
          "Percentage": 0.1933,
          "Type": "Individual"
         },
         {
          "Clinic": "NSFM",
          "Date": "2018-04-02",
          "Metric": "Smoker Pneumovax",
          "Name": "Mary Swanson",
          "Percentage": 0.4688,
          "Type": "Individual"
         },
         {
          "Clinic": "IFP",
          "Date": "2018-04-02",
          "Metric": "Smoker Pneumovax",
          "Name": "Magaret Sweeney",
          "Percentage": 0.4884,
          "Type": "Individual"
         },
         {
          "Clinic": "WFM",
          "Date": "2018-04-02",
          "Metric": "Smoker Pneumovax",
          "Name": "Heather Thomson",
          "Percentage": 0.3125,
          "Type": "Individual"
         },
         {
          "Clinic": "BellB",
          "Date": "2018-04-02",
          "Metric": "Smoker Pneumovax",
          "Name": "Lisa Van Hofwegen",
          "Percentage": 0.3704,
          "Type": "Individual"
         },
         {
          "Clinic": "NSFM",
          "Date": "2018-04-02",
          "Metric": "Smoker Pneumovax",
          "Name": "April Wakefield-Pagels",
          "Percentage": 0.6136,
          "Type": "Individual"
         },
         {
          "Clinic": "SFM",
          "Date": "2018-04-02",
          "Metric": "Smoker Pneumovax",
          "Name": "Joy Welty",
          "Percentage": 0.4583,
          "Type": "Individual"
         },
         {
          "Clinic": "SFM",
          "Date": "2018-04-02",
          "Metric": "Smoker Pneumovax",
          "Name": "Matt Werner",
          "Percentage": 0.6329,
          "Type": "Individual"
         },
         {
          "Clinic": "NCFP",
          "Date": "2018-04-02",
          "Metric": "Smoker Pneumovax",
          "Name": "Sloane Winkes",
          "Percentage": 0.6286,
          "Type": "Individual"
         },
         {
          "Clinic": "NSFM",
          "Date": "2018-04-02",
          "Metric": "Smoker Pneumovax",
          "Name": "Ying Wu",
          "Percentage": 0.5517,
          "Type": "Individual"
         },
         {
          "Clinic": "FHA",
          "Date": "2018-04-02",
          "Metric": "Smoker Pneumovax",
          "Name": "Ashley Yoder",
          "Percentage": 0.381,
          "Type": "Individual"
         },
         {
          "Clinic": "LFM",
          "Date": "2017-10-09",
          "Metric": "Smoker Pneumovax",
          "Name": "Steven Alexander",
          "Percentage": 0.6216,
          "Type": "Individual"
         },
         {
          "Clinic": "BellB",
          "Date": "2017-10-09",
          "Metric": "Smoker Pneumovax",
          "Name": "Greg Anderson",
          "Percentage": 0.3913,
          "Type": "Individual"
         },
         {
          "Clinic": "FHA",
          "Date": "2017-10-09",
          "Metric": "Smoker Pneumovax",
          "Name": "Rodney Anderson",
          "Percentage": 0.6207,
          "Type": "Individual"
         },
         {
          "Clinic": "FFMC",
          "Date": "2017-10-09",
          "Metric": "Smoker Pneumovax",
          "Name": "Jennifer Bates",
          "Percentage": 0.5753,
          "Type": "Individual"
         },
         {
          "Clinic": "WFM",
          "Date": "2017-10-09",
          "Metric": "Smoker Pneumovax",
          "Name": "Shannon Billau",
          "Percentage": 0.4,
          "Type": "Individual"
         },
         {
          "Clinic": "WFM",
          "Date": "2017-10-09",
          "Metric": "Smoker Pneumovax",
          "Name": "Richard Binder",
          "Percentage": 0.6667,
          "Type": "Individual"
         },
         {
          "Clinic": "IFP",
          "Date": "2017-10-09",
          "Metric": "Smoker Pneumovax",
          "Name": "Franklin Bjorseth",
          "Percentage": 0.4118,
          "Type": "Individual"
         },
         {
          "Clinic": "FHA",
          "Date": "2017-10-09",
          "Metric": "Smoker Pneumovax",
          "Name": "Edward Bloom",
          "Percentage": 0.416,
          "Type": "Individual"
         },
         {
          "Clinic": "FHA",
          "Date": "2017-10-09",
          "Metric": "Smoker Pneumovax",
          "Name": "Jessica Bloom",
          "Percentage": 0.2941,
          "Type": "Individual"
         },
         {
          "Clinic": "WFM",
          "Date": "2017-10-09",
          "Metric": "Smoker Pneumovax",
          "Name": "Steven Bloom",
          "Percentage": 0.4255,
          "Type": "Individual"
         },
         {
          "Clinic": "BellB",
          "Date": "2017-10-09",
          "Metric": "Smoker Pneumovax",
          "Name": "Ian Bonner",
          "Percentage": 0.3233,
          "Type": "Individual"
         },
         {
          "Clinic": "BellB",
          "Date": "2017-10-09",
          "Metric": "Smoker Pneumovax",
          "Name": "Sara Bowling",
          "Percentage": 0.2471,
          "Type": "Individual"
         },
         {
          "Clinic": "NSFM",
          "Date": "2017-10-09",
          "Metric": "Smoker Pneumovax",
          "Name": "Rory Bradt",
          "Percentage": 0.3546,
          "Type": "Individual"
         },
         {
          "Clinic": "FFMC",
          "Date": "2017-10-09",
          "Metric": "Smoker Pneumovax",
          "Name": "Rebecca Brejcha",
          "Percentage": null,
          "Type": "Individual"
         },
         {
          "Clinic": "NSFM",
          "Date": "2017-10-09",
          "Metric": "Smoker Pneumovax",
          "Name": "Lisa Brodsky",
          "Percentage": 0.2581,
          "Type": "Individual"
         },
         {
          "Clinic": "LFM",
          "Date": "2017-10-09",
          "Metric": "Smoker Pneumovax",
          "Name": "Margaret Burden",
          "Percentage": 0.4103,
          "Type": "Individual"
         },
         {
          "Clinic": "NCFP",
          "Date": "2017-10-09",
          "Metric": "Smoker Pneumovax",
          "Name": "Erik Bylund",
          "Percentage": 0.2615,
          "Type": "Individual"
         },
         {
          "Clinic": "LFM",
          "Date": "2017-10-09",
          "Metric": "Smoker Pneumovax",
          "Name": "Robin Caldwell",
          "Percentage": 0.4464,
          "Type": "Individual"
         },
         {
          "Clinic": "NSFM",
          "Date": "2017-10-09",
          "Metric": "Smoker Pneumovax",
          "Name": "William Eiford",
          "Percentage": null,
          "Type": "Individual"
         },
         {
          "Clinic": "NCFP",
          "Date": "2017-10-09",
          "Metric": "Smoker Pneumovax",
          "Name": "Roger Estep",
          "Percentage": 0.1875,
          "Type": "Individual"
         },
         {
          "Clinic": "LFM",
          "Date": "2017-10-09",
          "Metric": "Smoker Pneumovax",
          "Name": "Michael Fleming",
          "Percentage": 0.2979,
          "Type": "Individual"
         },
         {
          "Clinic": "NSFM",
          "Date": "2017-10-09",
          "Metric": "Smoker Pneumovax",
          "Name": "Anneliese Floyd",
          "Percentage": 0.525,
          "Type": "Individual"
         },
         {
          "Clinic": "BellB",
          "Date": "2017-10-09",
          "Metric": "Smoker Pneumovax",
          "Name": "Laura Fox",
          "Percentage": 0.4091,
          "Type": "Individual"
         },
         {
          "Clinic": "FFMC",
          "Date": "2017-10-09",
          "Metric": "Smoker Pneumovax",
          "Name": "Renay Fredette",
          "Percentage": 0.5441,
          "Type": "Individual"
         },
         {
          "Clinic": "NCFP",
          "Date": "2017-10-09",
          "Metric": "Smoker Pneumovax",
          "Name": "Kay-Kay Gambs",
          "Percentage": 0.1583,
          "Type": "Individual"
         },
         {
          "Clinic": "NCFP",
          "Date": "2017-10-09",
          "Metric": "Smoker Pneumovax",
          "Name": "Jonathan Gamson",
          "Percentage": 0.2538,
          "Type": "Individual"
         },
         {
          "Clinic": "NSFM",
          "Date": "2017-10-09",
          "Metric": "Smoker Pneumovax",
          "Name": "Elizabeth Gaylord",
          "Percentage": 0.4545,
          "Type": "Individual"
         },
         {
          "Clinic": "IFP",
          "Date": "2017-10-09",
          "Metric": "Smoker Pneumovax",
          "Name": "Karen Goodman",
          "Percentage": 0.3494,
          "Type": "Individual"
         },
         {
          "Clinic": "FHA",
          "Date": "2017-10-09",
          "Metric": "Smoker Pneumovax",
          "Name": "Deborah Hall",
          "Percentage": 0.557,
          "Type": "Individual"
         },
         {
          "Clinic": "NCFP",
          "Date": "2017-10-09",
          "Metric": "Smoker Pneumovax",
          "Name": "Janet Hansom",
          "Percentage": 0.5333,
          "Type": "Individual"
         },
         {
          "Clinic": "LFM",
          "Date": "2017-10-09",
          "Metric": "Smoker Pneumovax",
          "Name": "Larry Hartwell",
          "Percentage": 0.5046,
          "Type": "Individual"
         },
         {
          "Clinic": "SFM",
          "Date": "2017-10-09",
          "Metric": "Smoker Pneumovax",
          "Name": "Shelby Hein",
          "Percentage": 0.4754,
          "Type": "Individual"
         },
         {
          "Clinic": "SFM",
          "Date": "2017-10-09",
          "Metric": "Smoker Pneumovax",
          "Name": "Harry Herdman",
          "Percentage": 0.5753,
          "Type": "Individual"
         },
         {
          "Clinic": "NSFM",
          "Date": "2017-10-09",
          "Metric": "Smoker Pneumovax",
          "Name": "Sarah Herman",
          "Percentage": null,
          "Type": "Individual"
         },
         {
          "Clinic": "LFM",
          "Date": "2017-10-09",
          "Metric": "Smoker Pneumovax",
          "Name": "John Hiemstra",
          "Percentage": 0.5197,
          "Type": "Individual"
         },
         {
          "Clinic": "SFM",
          "Date": "2017-10-09",
          "Metric": "Smoker Pneumovax",
          "Name": "Heather Honey",
          "Percentage": 0.4035,
          "Type": "Individual"
         },
         {
          "Clinic": "FHA",
          "Date": "2017-10-09",
          "Metric": "Smoker Pneumovax",
          "Name": "Ryan Honey",
          "Percentage": 0.1667,
          "Type": "Individual"
         },
         {
          "Clinic": "BellB",
          "Date": "2017-10-09",
          "Metric": "Smoker Pneumovax",
          "Name": "Jim Hopper",
          "Percentage": 0.4286,
          "Type": "Individual"
         },
         {
          "Clinic": "FFMC",
          "Date": "2017-10-09",
          "Metric": "Smoker Pneumovax",
          "Name": "John Hruby",
          "Percentage": 0.4463,
          "Type": "Individual"
         },
         {
          "Clinic": "FHA",
          "Date": "2017-10-09",
          "Metric": "Smoker Pneumovax",
          "Name": "Kellie Jacobs",
          "Percentage": 0.449,
          "Type": "Individual"
         },
         {
          "Clinic": "IFP",
          "Date": "2017-10-09",
          "Metric": "Smoker Pneumovax",
          "Name": "Michael James",
          "Percentage": 0.1778,
          "Type": "Individual"
         },
         {
          "Clinic": "FHA",
          "Date": "2017-10-09",
          "Metric": "Smoker Pneumovax",
          "Name": "Sharon Kerlin",
          "Percentage": null,
          "Type": "Individual"
         },
         {
          "Clinic": "FHA",
          "Date": "2017-10-09",
          "Metric": "Smoker Pneumovax",
          "Name": "Meghan Lelonek",
          "Percentage": 0.3294,
          "Type": "Individual"
         },
         {
          "Clinic": "FFMC",
          "Date": "2017-10-09",
          "Metric": "Smoker Pneumovax",
          "Name": "Stephen Lewis",
          "Percentage": 0.44,
          "Type": "Individual"
         },
         {
          "Clinic": "FFMC",
          "Date": "2017-10-09",
          "Metric": "Smoker Pneumovax",
          "Name": "Erin Maloney",
          "Percentage": null,
          "Type": "Individual"
         },
         {
          "Clinic": "NCFP",
          "Date": "2017-10-09",
          "Metric": "Smoker Pneumovax",
          "Name": "Ross McConahey",
          "Percentage": null,
          "Type": "Individual"
         },
         {
          "Clinic": "NSFM",
          "Date": "2017-10-09",
          "Metric": "Smoker Pneumovax",
          "Name": "Patrick McLaughlin",
          "Percentage": 0.3768,
          "Type": "Individual"
         },
         {
          "Clinic": "NCFP",
          "Date": "2017-10-09",
          "Metric": "Smoker Pneumovax",
          "Name": "Sally McPherson",
          "Percentage": 0.3107,
          "Type": "Individual"
         },
         {
          "Clinic": "NCFP",
          "Date": "2017-10-09",
          "Metric": "Smoker Pneumovax",
          "Name": "Lucia Muller",
          "Percentage": 0.4091,
          "Type": "Individual"
         },
         {
          "Clinic": "BellB",
          "Date": "2017-10-09",
          "Metric": "Smoker Pneumovax",
          "Name": "Karen O’Keefe",
          "Percentage": 0.2326,
          "Type": "Individual"
         },
         {
          "Clinic": "SFM",
          "Date": "2017-10-09",
          "Metric": "Smoker Pneumovax",
          "Name": "Lillian Pavlik",
          "Percentage": null,
          "Type": "Individual"
         },
         {
          "Clinic": "LFM",
          "Date": "2017-10-09",
          "Metric": "Smoker Pneumovax",
          "Name": "Patricia Payne-Zajac",
          "Percentage": 0.1667,
          "Type": "Individual"
         },
         {
          "Clinic": "NCFP",
          "Date": "2017-10-09",
          "Metric": "Smoker Pneumovax",
          "Name": "Jonathan Ploudre",
          "Percentage": 0.4259,
          "Type": "Individual"
         },
         {
          "Clinic": "NSFM",
          "Date": "2017-10-09",
          "Metric": "Smoker Pneumovax",
          "Name": "John Raduege",
          "Percentage": 0.4646,
          "Type": "Individual"
         },
         {
          "Clinic": "BBFM",
          "Date": "2017-10-09",
          "Metric": "Smoker Pneumovax",
          "Name": "Teresa Regier",
          "Percentage": 0.2353,
          "Type": "Individual"
         },
         {
          "Clinic": "FFMC",
          "Date": "2017-10-09",
          "Metric": "Smoker Pneumovax",
          "Name": "Claudia Rey",
          "Percentage": 0.4646,
          "Type": "Individual"
         },
         {
          "Clinic": "IFP",
          "Date": "2017-10-09",
          "Metric": "Smoker Pneumovax",
          "Name": "Robert Rieger",
          "Percentage": 0.4545,
          "Type": "Individual"
         },
         {
          "Clinic": "SFM",
          "Date": "2017-10-09",
          "Metric": "Smoker Pneumovax",
          "Name": "Deborah Roessler",
          "Percentage": 0.5152,
          "Type": "Individual"
         },
         {
          "Clinic": "FFMC",
          "Date": "2017-10-09",
          "Metric": "Smoker Pneumovax",
          "Name": "Berdi Sanford",
          "Percentage": 0.6941,
          "Type": "Individual"
         },
         {
          "Clinic": "NCFP",
          "Date": "2017-10-09",
          "Metric": "Smoker Pneumovax",
          "Name": "Lauren Sauve",
          "Percentage": 0.3396,
          "Type": "Individual"
         },
         {
          "Clinic": "BellB",
          "Date": "2017-10-09",
          "Metric": "Smoker Pneumovax",
          "Name": "Melana Schimke",
          "Percentage": 0.1304,
          "Type": "Individual"
         },
         {
          "Clinic": "FHA",
          "Date": "2017-10-09",
          "Metric": "Smoker Pneumovax",
          "Name": "Miriam Shapiro",
          "Percentage": 0.4444,
          "Type": "Individual"
         },
         {
          "Clinic": "NSFM",
          "Date": "2017-10-09",
          "Metric": "Smoker Pneumovax",
          "Name": "Jason Short",
          "Percentage": 0.396,
          "Type": "Individual"
         },
         {
          "Clinic": "NSFM",
          "Date": "2017-10-09",
          "Metric": "Smoker Pneumovax",
          "Name": "Vicki Short",
          "Percentage": 0.5,
          "Type": "Individual"
         },
         {
          "Clinic": "LFM",
          "Date": "2017-10-09",
          "Metric": "Smoker Pneumovax",
          "Name": "Ashley Snyder",
          "Percentage": 0.6667,
          "Type": "Individual"
         },
         {
          "Clinic": "NSFM",
          "Date": "2017-10-09",
          "Metric": "Smoker Pneumovax",
          "Name": "Mary Swanson",
          "Percentage": 0.4,
          "Type": "Individual"
         },
         {
          "Clinic": "IFP",
          "Date": "2017-10-09",
          "Metric": "Smoker Pneumovax",
          "Name": "Magaret Sweeney",
          "Percentage": 0.2857,
          "Type": "Individual"
         },
         {
          "Clinic": "BellB",
          "Date": "2017-10-09",
          "Metric": "Smoker Pneumovax",
          "Name": "Lisa Van Hofwegen",
          "Percentage": 0.3667,
          "Type": "Individual"
         },
         {
          "Clinic": "NSFM",
          "Date": "2017-10-09",
          "Metric": "Smoker Pneumovax",
          "Name": "April Wakefield-Pagels",
          "Percentage": 0.5319,
          "Type": "Individual"
         },
         {
          "Clinic": "SFM",
          "Date": "2017-10-09",
          "Metric": "Smoker Pneumovax",
          "Name": "Joy Welty",
          "Percentage": null,
          "Type": "Individual"
         },
         {
          "Clinic": "SFM",
          "Date": "2017-10-09",
          "Metric": "Smoker Pneumovax",
          "Name": "Matt Werner",
          "Percentage": 0.5618,
          "Type": "Individual"
         },
         {
          "Clinic": "NCFP",
          "Date": "2017-10-09",
          "Metric": "Smoker Pneumovax",
          "Name": "Sloane Winkes",
          "Percentage": 0.5676,
          "Type": "Individual"
         },
         {
          "Clinic": "NSFM",
          "Date": "2017-10-09",
          "Metric": "Smoker Pneumovax",
          "Name": "Ying Wu",
          "Percentage": 0.4865,
          "Type": "Individual"
         },
         {
          "Clinic": "LFM",
          "Date": "2018-02-19",
          "Metric": "Smoker Pneumovax",
          "Name": "Steven Alexander",
          "Percentage": 0.6567,
          "Type": "Individual"
         },
         {
          "Clinic": "BellB",
          "Date": "2018-02-19",
          "Metric": "Smoker Pneumovax",
          "Name": "Greg Anderson",
          "Percentage": 0.4607,
          "Type": "Individual"
         },
         {
          "Clinic": "FHA",
          "Date": "2018-02-19",
          "Metric": "Smoker Pneumovax",
          "Name": "Rodney Anderson",
          "Percentage": 0.6739,
          "Type": "Individual"
         },
         {
          "Clinic": "FFMC",
          "Date": "2018-02-19",
          "Metric": "Smoker Pneumovax",
          "Name": "Jennifer Bates",
          "Percentage": 0.5692,
          "Type": "Individual"
         },
         {
          "Clinic": "WFM",
          "Date": "2018-02-19",
          "Metric": "Smoker Pneumovax",
          "Name": "Shannon Billau",
          "Percentage": 0.4167,
          "Type": "Individual"
         },
         {
          "Clinic": "WFM",
          "Date": "2018-02-19",
          "Metric": "Smoker Pneumovax",
          "Name": "Richard Binder",
          "Percentage": 0.6444,
          "Type": "Individual"
         },
         {
          "Clinic": "IFP",
          "Date": "2018-02-19",
          "Metric": "Smoker Pneumovax",
          "Name": "Franklin Bjorseth",
          "Percentage": 0.4333,
          "Type": "Individual"
         },
         {
          "Clinic": "FHA",
          "Date": "2018-02-19",
          "Metric": "Smoker Pneumovax",
          "Name": "Edward Bloom",
          "Percentage": 0.4322,
          "Type": "Individual"
         },
         {
          "Clinic": "FHA",
          "Date": "2018-02-19",
          "Metric": "Smoker Pneumovax",
          "Name": "Jessica Bloom",
          "Percentage": 0.2632,
          "Type": "Individual"
         },
         {
          "Clinic": "WFM",
          "Date": "2018-02-19",
          "Metric": "Smoker Pneumovax",
          "Name": "Steven Bloom",
          "Percentage": 0.4536,
          "Type": "Individual"
         },
         {
          "Clinic": "BellB",
          "Date": "2018-02-19",
          "Metric": "Smoker Pneumovax",
          "Name": "Ian Bonner",
          "Percentage": 0.3858,
          "Type": "Individual"
         },
         {
          "Clinic": "BellB",
          "Date": "2018-02-19",
          "Metric": "Smoker Pneumovax",
          "Name": "Sara Bowling",
          "Percentage": 0.3176,
          "Type": "Individual"
         },
         {
          "Clinic": "NSFM",
          "Date": "2018-02-19",
          "Metric": "Smoker Pneumovax",
          "Name": "Rory Bradt",
          "Percentage": 0.406,
          "Type": "Individual"
         },
         {
          "Clinic": "FFMC",
          "Date": "2018-02-19",
          "Metric": "Smoker Pneumovax",
          "Name": "Rebecca Brejcha",
          "Percentage": null,
          "Type": "Individual"
         },
         {
          "Clinic": "NSFM",
          "Date": "2018-02-19",
          "Metric": "Smoker Pneumovax",
          "Name": "Lisa Brodsky",
          "Percentage": 0.3235,
          "Type": "Individual"
         },
         {
          "Clinic": "LFM",
          "Date": "2018-02-19",
          "Metric": "Smoker Pneumovax",
          "Name": "Margaret Burden",
          "Percentage": 0.4054,
          "Type": "Individual"
         },
         {
          "Clinic": "NCFP",
          "Date": "2018-02-19",
          "Metric": "Smoker Pneumovax",
          "Name": "Erik Bylund",
          "Percentage": 0.2879,
          "Type": "Individual"
         },
         {
          "Clinic": "LFM",
          "Date": "2018-02-19",
          "Metric": "Smoker Pneumovax",
          "Name": "Robin Caldwell",
          "Percentage": 0.4534,
          "Type": "Individual"
         },
         {
          "Clinic": "NSFM",
          "Date": "2018-02-19",
          "Metric": "Smoker Pneumovax",
          "Name": "William Eiford",
          "Percentage": null,
          "Type": "Individual"
         },
         {
          "Clinic": "NCFP",
          "Date": "2018-02-19",
          "Metric": "Smoker Pneumovax",
          "Name": "Roger Estep",
          "Percentage": 0.3023,
          "Type": "Individual"
         },
         {
          "Clinic": "LFM",
          "Date": "2018-02-19",
          "Metric": "Smoker Pneumovax",
          "Name": "Michael Fleming",
          "Percentage": 0.3433,
          "Type": "Individual"
         },
         {
          "Clinic": "NSFM",
          "Date": "2018-02-19",
          "Metric": "Smoker Pneumovax",
          "Name": "Anneliese Floyd",
          "Percentage": 0.525,
          "Type": "Individual"
         },
         {
          "Clinic": "BellB",
          "Date": "2018-02-19",
          "Metric": "Smoker Pneumovax",
          "Name": "Laura Fox",
          "Percentage": 0.4468,
          "Type": "Individual"
         },
         {
          "Clinic": "FFMC",
          "Date": "2018-02-19",
          "Metric": "Smoker Pneumovax",
          "Name": "Renay Fredette",
          "Percentage": 0.5333,
          "Type": "Individual"
         },
         {
          "Clinic": "NCFP",
          "Date": "2018-02-19",
          "Metric": "Smoker Pneumovax",
          "Name": "Kay-Kay Gambs",
          "Percentage": 0.1913,
          "Type": "Individual"
         },
         {
          "Clinic": "NCFP",
          "Date": "2018-02-19",
          "Metric": "Smoker Pneumovax",
          "Name": "Jonathan Gamson",
          "Percentage": 0.3053,
          "Type": "Individual"
         },
         {
          "Clinic": "NSFM",
          "Date": "2018-02-19",
          "Metric": "Smoker Pneumovax",
          "Name": "Elizabeth Gaylord",
          "Percentage": 0.5,
          "Type": "Individual"
         },
         {
          "Clinic": "IFP",
          "Date": "2018-02-19",
          "Metric": "Smoker Pneumovax",
          "Name": "Karen Goodman",
          "Percentage": 0.2895,
          "Type": "Individual"
         },
         {
          "Clinic": "FHA",
          "Date": "2018-02-19",
          "Metric": "Smoker Pneumovax",
          "Name": "Deborah Hall",
          "Percentage": 0.5658,
          "Type": "Individual"
         },
         {
          "Clinic": "NCFP",
          "Date": "2018-02-19",
          "Metric": "Smoker Pneumovax",
          "Name": "Janet Hansom",
          "Percentage": 0.5862,
          "Type": "Individual"
         },
         {
          "Clinic": "LFM",
          "Date": "2018-02-19",
          "Metric": "Smoker Pneumovax",
          "Name": "Larry Hartwell",
          "Percentage": 0.5047,
          "Type": "Individual"
         },
         {
          "Clinic": "SFM",
          "Date": "2018-02-19",
          "Metric": "Smoker Pneumovax",
          "Name": "Shelby Hein",
          "Percentage": 0.4737,
          "Type": "Individual"
         },
         {
          "Clinic": "SFM",
          "Date": "2018-02-19",
          "Metric": "Smoker Pneumovax",
          "Name": "Harry Herdman",
          "Percentage": 0.6164,
          "Type": "Individual"
         },
         {
          "Clinic": "NSFM",
          "Date": "2018-02-19",
          "Metric": "Smoker Pneumovax",
          "Name": "Sarah Herman",
          "Percentage": null,
          "Type": "Individual"
         },
         {
          "Clinic": "LFM",
          "Date": "2018-02-19",
          "Metric": "Smoker Pneumovax",
          "Name": "John Hiemstra",
          "Percentage": 0.5411,
          "Type": "Individual"
         },
         {
          "Clinic": "SFM",
          "Date": "2018-02-19",
          "Metric": "Smoker Pneumovax",
          "Name": "Heather Honey",
          "Percentage": 0.4516,
          "Type": "Individual"
         },
         {
          "Clinic": "FHA",
          "Date": "2018-02-19",
          "Metric": "Smoker Pneumovax",
          "Name": "Ryan Honey",
          "Percentage": 0.2936,
          "Type": "Individual"
         },
         {
          "Clinic": "BellB",
          "Date": "2018-02-19",
          "Metric": "Smoker Pneumovax",
          "Name": "Jim Hopper",
          "Percentage": 0.4583,
          "Type": "Individual"
         },
         {
          "Clinic": "FFMC",
          "Date": "2018-02-19",
          "Metric": "Smoker Pneumovax",
          "Name": "John Hruby",
          "Percentage": 0.4622,
          "Type": "Individual"
         },
         {
          "Clinic": "FHA",
          "Date": "2018-02-19",
          "Metric": "Smoker Pneumovax",
          "Name": "Kellie Jacobs",
          "Percentage": 0.4255,
          "Type": "Individual"
         },
         {
          "Clinic": "IFP",
          "Date": "2018-02-19",
          "Metric": "Smoker Pneumovax",
          "Name": "Michael James",
          "Percentage": 0.2188,
          "Type": "Individual"
         },
         {
          "Clinic": "FHA",
          "Date": "2018-02-19",
          "Metric": "Smoker Pneumovax",
          "Name": "Sharon Kerlin",
          "Percentage": null,
          "Type": "Individual"
         },
         {
          "Clinic": "BBFM",
          "Date": "2018-02-19",
          "Metric": "Smoker Pneumovax",
          "Name": "Jessica Klassen",
          "Percentage": 0.25,
          "Type": "Individual"
         },
         {
          "Clinic": "FHA",
          "Date": "2018-02-19",
          "Metric": "Smoker Pneumovax",
          "Name": "Meghan Lelonek",
          "Percentage": 0.4,
          "Type": "Individual"
         },
         {
          "Clinic": "FFMC",
          "Date": "2018-02-19",
          "Metric": "Smoker Pneumovax",
          "Name": "Stephen Lewis",
          "Percentage": 0.4655,
          "Type": "Individual"
         },
         {
          "Clinic": "FFMC",
          "Date": "2018-02-19",
          "Metric": "Smoker Pneumovax",
          "Name": "Erin Maloney",
          "Percentage": null,
          "Type": "Individual"
         },
         {
          "Clinic": "NCFP",
          "Date": "2018-02-19",
          "Metric": "Smoker Pneumovax",
          "Name": "Ross McConahey",
          "Percentage": null,
          "Type": "Individual"
         },
         {
          "Clinic": "NSFM",
          "Date": "2018-02-19",
          "Metric": "Smoker Pneumovax",
          "Name": "Patrick McLaughlin",
          "Percentage": 0.4156,
          "Type": "Individual"
         },
         {
          "Clinic": "NCFP",
          "Date": "2018-02-19",
          "Metric": "Smoker Pneumovax",
          "Name": "Sally McPherson",
          "Percentage": 0.375,
          "Type": "Individual"
         },
         {
          "Clinic": "NCFP",
          "Date": "2018-02-19",
          "Metric": "Smoker Pneumovax",
          "Name": "Lucia Muller",
          "Percentage": 0.5,
          "Type": "Individual"
         },
         {
          "Clinic": "BellB",
          "Date": "2018-02-19",
          "Metric": "Smoker Pneumovax",
          "Name": "Karen O’Keefe",
          "Percentage": 0.3095,
          "Type": "Individual"
         },
         {
          "Clinic": "SFM",
          "Date": "2018-02-19",
          "Metric": "Smoker Pneumovax",
          "Name": "Lillian Pavlik",
          "Percentage": null,
          "Type": "Individual"
         },
         {
          "Clinic": "LFM",
          "Date": "2018-02-19",
          "Metric": "Smoker Pneumovax",
          "Name": "Patricia Payne-Zajac",
          "Percentage": 0.4211,
          "Type": "Individual"
         },
         {
          "Clinic": "NCFP",
          "Date": "2018-02-19",
          "Metric": "Smoker Pneumovax",
          "Name": "Jonathan Ploudre",
          "Percentage": 0.5225,
          "Type": "Individual"
         },
         {
          "Clinic": "NSFM",
          "Date": "2018-02-19",
          "Metric": "Smoker Pneumovax",
          "Name": "John Raduege",
          "Percentage": 0.5,
          "Type": "Individual"
         },
         {
          "Clinic": "BBFM",
          "Date": "2018-02-19",
          "Metric": "Smoker Pneumovax",
          "Name": "Teresa Regier",
          "Percentage": 0.2208,
          "Type": "Individual"
         },
         {
          "Clinic": "FFMC",
          "Date": "2018-02-19",
          "Metric": "Smoker Pneumovax",
          "Name": "Claudia Rey",
          "Percentage": 0.5,
          "Type": "Individual"
         },
         {
          "Clinic": "IFP",
          "Date": "2018-02-19",
          "Metric": "Smoker Pneumovax",
          "Name": "Robert Rieger",
          "Percentage": 0.5844,
          "Type": "Individual"
         },
         {
          "Clinic": "SFM",
          "Date": "2018-02-19",
          "Metric": "Smoker Pneumovax",
          "Name": "Deborah Roessler",
          "Percentage": 0.6047,
          "Type": "Individual"
         },
         {
          "Clinic": "FFMC",
          "Date": "2018-02-19",
          "Metric": "Smoker Pneumovax",
          "Name": "Berdi Sanford",
          "Percentage": 0.7439,
          "Type": "Individual"
         },
         {
          "Clinic": "NCFP",
          "Date": "2018-02-19",
          "Metric": "Smoker Pneumovax",
          "Name": "Lauren Sauve",
          "Percentage": 0.3333,
          "Type": "Individual"
         },
         {
          "Clinic": "BellB",
          "Date": "2018-02-19",
          "Metric": "Smoker Pneumovax",
          "Name": "Melana Schimke",
          "Percentage": 0.2308,
          "Type": "Individual"
         },
         {
          "Clinic": "FHA",
          "Date": "2018-02-19",
          "Metric": "Smoker Pneumovax",
          "Name": "Miriam Shapiro",
          "Percentage": 0.5789,
          "Type": "Individual"
         },
         {
          "Clinic": "NSFM",
          "Date": "2018-02-19",
          "Metric": "Smoker Pneumovax",
          "Name": "Jason Short",
          "Percentage": 0.4356,
          "Type": "Individual"
         },
         {
          "Clinic": "NSFM",
          "Date": "2018-02-19",
          "Metric": "Smoker Pneumovax",
          "Name": "Vicki Short",
          "Percentage": 0.5238,
          "Type": "Individual"
         },
         {
          "Clinic": "LFM",
          "Date": "2018-02-19",
          "Metric": "Smoker Pneumovax",
          "Name": "Ashley Snyder",
          "Percentage": 0.4583,
          "Type": "Individual"
         },
         {
          "Clinic": "FFMC",
          "Date": "2018-02-19",
          "Metric": "Smoker Pneumovax",
          "Name": "Kalani Synder",
          "Percentage": 0.2037,
          "Type": "Individual"
         },
         {
          "Clinic": "NSFM",
          "Date": "2018-02-19",
          "Metric": "Smoker Pneumovax",
          "Name": "Mary Swanson",
          "Percentage": 0.4667,
          "Type": "Individual"
         },
         {
          "Clinic": "IFP",
          "Date": "2018-02-19",
          "Metric": "Smoker Pneumovax",
          "Name": "Magaret Sweeney",
          "Percentage": 0.4524,
          "Type": "Individual"
         },
         {
          "Clinic": "WFM",
          "Date": "2018-02-19",
          "Metric": "Smoker Pneumovax",
          "Name": "Heather Thomson",
          "Percentage": 0.25,
          "Type": "Individual"
         },
         {
          "Clinic": "BellB",
          "Date": "2018-02-19",
          "Metric": "Smoker Pneumovax",
          "Name": "Lisa Van Hofwegen",
          "Percentage": 0.3704,
          "Type": "Individual"
         },
         {
          "Clinic": "NSFM",
          "Date": "2018-02-19",
          "Metric": "Smoker Pneumovax",
          "Name": "April Wakefield-Pagels",
          "Percentage": 0.6,
          "Type": "Individual"
         },
         {
          "Clinic": "SFM",
          "Date": "2018-02-19",
          "Metric": "Smoker Pneumovax",
          "Name": "Joy Welty",
          "Percentage": 0.44,
          "Type": "Individual"
         },
         {
          "Clinic": "SFM",
          "Date": "2018-02-19",
          "Metric": "Smoker Pneumovax",
          "Name": "Matt Werner",
          "Percentage": 0.6341,
          "Type": "Individual"
         },
         {
          "Clinic": "NCFP",
          "Date": "2018-02-19",
          "Metric": "Smoker Pneumovax",
          "Name": "Sloane Winkes",
          "Percentage": 0.6111,
          "Type": "Individual"
         },
         {
          "Clinic": "NSFM",
          "Date": "2018-02-19",
          "Metric": "Smoker Pneumovax",
          "Name": "Ying Wu",
          "Percentage": 0.5667,
          "Type": "Individual"
         },
         {
          "Clinic": "FHA",
          "Date": "2018-02-19",
          "Metric": "Smoker Pneumovax",
          "Name": "Ashley Yoder",
          "Percentage": 0.3333,
          "Type": "Individual"
         },
         {
          "Clinic": "LFM",
          "Date": "2018-01-08",
          "Metric": "Smoker Pneumovax",
          "Name": "Steven Alexander",
          "Percentage": 0.6479,
          "Type": "Individual"
         },
         {
          "Clinic": "BellB",
          "Date": "2018-01-08",
          "Metric": "Smoker Pneumovax",
          "Name": "Greg Anderson",
          "Percentage": 0.4222,
          "Type": "Individual"
         },
         {
          "Clinic": "FHA",
          "Date": "2018-01-08",
          "Metric": "Smoker Pneumovax",
          "Name": "Rodney Anderson",
          "Percentage": 0.6346,
          "Type": "Individual"
         },
         {
          "Clinic": "FFMC",
          "Date": "2018-01-08",
          "Metric": "Smoker Pneumovax",
          "Name": "Jennifer Bates",
          "Percentage": 0.5692,
          "Type": "Individual"
         },
         {
          "Clinic": "WFM",
          "Date": "2018-01-08",
          "Metric": "Smoker Pneumovax",
          "Name": "Shannon Billau",
          "Percentage": 0.4,
          "Type": "Individual"
         },
         {
          "Clinic": "WFM",
          "Date": "2018-01-08",
          "Metric": "Smoker Pneumovax",
          "Name": "Richard Binder",
          "Percentage": 0.6444,
          "Type": "Individual"
         },
         {
          "Clinic": "IFP",
          "Date": "2018-01-08",
          "Metric": "Smoker Pneumovax",
          "Name": "Franklin Bjorseth",
          "Percentage": 0.4286,
          "Type": "Individual"
         },
         {
          "Clinic": "FHA",
          "Date": "2018-01-08",
          "Metric": "Smoker Pneumovax",
          "Name": "Edward Bloom",
          "Percentage": 0.4454,
          "Type": "Individual"
         },
         {
          "Clinic": "FHA",
          "Date": "2018-01-08",
          "Metric": "Smoker Pneumovax",
          "Name": "Jessica Bloom",
          "Percentage": 0.2778,
          "Type": "Individual"
         },
         {
          "Clinic": "WFM",
          "Date": "2018-01-08",
          "Metric": "Smoker Pneumovax",
          "Name": "Steven Bloom",
          "Percentage": 0.4255,
          "Type": "Individual"
         },
         {
          "Clinic": "BellB",
          "Date": "2018-01-08",
          "Metric": "Smoker Pneumovax",
          "Name": "Ian Bonner",
          "Percentage": 0.3672,
          "Type": "Individual"
         },
         {
          "Clinic": "BellB",
          "Date": "2018-01-08",
          "Metric": "Smoker Pneumovax",
          "Name": "Sara Bowling",
          "Percentage": 0.3256,
          "Type": "Individual"
         },
         {
          "Clinic": "NSFM",
          "Date": "2018-01-08",
          "Metric": "Smoker Pneumovax",
          "Name": "Rory Bradt",
          "Percentage": 0.391,
          "Type": "Individual"
         },
         {
          "Clinic": "FFMC",
          "Date": "2018-01-08",
          "Metric": "Smoker Pneumovax",
          "Name": "Rebecca Brejcha",
          "Percentage": null,
          "Type": "Individual"
         },
         {
          "Clinic": "NSFM",
          "Date": "2018-01-08",
          "Metric": "Smoker Pneumovax",
          "Name": "Lisa Brodsky",
          "Percentage": 0.2258,
          "Type": "Individual"
         },
         {
          "Clinic": "LFM",
          "Date": "2018-01-08",
          "Metric": "Smoker Pneumovax",
          "Name": "Margaret Burden",
          "Percentage": 0.3784,
          "Type": "Individual"
         },
         {
          "Clinic": "NCFP",
          "Date": "2018-01-08",
          "Metric": "Smoker Pneumovax",
          "Name": "Erik Bylund",
          "Percentage": 0.2963,
          "Type": "Individual"
         },
         {
          "Clinic": "LFM",
          "Date": "2018-01-08",
          "Metric": "Smoker Pneumovax",
          "Name": "Robin Caldwell",
          "Percentage": 0.4444,
          "Type": "Individual"
         },
         {
          "Clinic": "NSFM",
          "Date": "2018-01-08",
          "Metric": "Smoker Pneumovax",
          "Name": "William Eiford",
          "Percentage": null,
          "Type": "Individual"
         },
         {
          "Clinic": "NCFP",
          "Date": "2018-01-08",
          "Metric": "Smoker Pneumovax",
          "Name": "Roger Estep",
          "Percentage": 0.2083,
          "Type": "Individual"
         },
         {
          "Clinic": "LFM",
          "Date": "2018-01-08",
          "Metric": "Smoker Pneumovax",
          "Name": "Michael Fleming",
          "Percentage": 0.3279,
          "Type": "Individual"
         },
         {
          "Clinic": "NSFM",
          "Date": "2018-01-08",
          "Metric": "Smoker Pneumovax",
          "Name": "Anneliese Floyd",
          "Percentage": 0.5128,
          "Type": "Individual"
         },
         {
          "Clinic": "BellB",
          "Date": "2018-01-08",
          "Metric": "Smoker Pneumovax",
          "Name": "Laura Fox",
          "Percentage": 0.4583,
          "Type": "Individual"
         },
         {
          "Clinic": "FFMC",
          "Date": "2018-01-08",
          "Metric": "Smoker Pneumovax",
          "Name": "Renay Fredette",
          "Percentage": 0.5312,
          "Type": "Individual"
         },
         {
          "Clinic": "NCFP",
          "Date": "2018-01-08",
          "Metric": "Smoker Pneumovax",
          "Name": "Kay-Kay Gambs",
          "Percentage": 0.1933,
          "Type": "Individual"
         },
         {
          "Clinic": "NCFP",
          "Date": "2018-01-08",
          "Metric": "Smoker Pneumovax",
          "Name": "Jonathan Gamson",
          "Percentage": 0.2901,
          "Type": "Individual"
         },
         {
          "Clinic": "NSFM",
          "Date": "2018-01-08",
          "Metric": "Smoker Pneumovax",
          "Name": "Elizabeth Gaylord",
          "Percentage": 0.4643,
          "Type": "Individual"
         },
         {
          "Clinic": "IFP",
          "Date": "2018-01-08",
          "Metric": "Smoker Pneumovax",
          "Name": "Karen Goodman",
          "Percentage": 0.2895,
          "Type": "Individual"
         },
         {
          "Clinic": "FHA",
          "Date": "2018-01-08",
          "Metric": "Smoker Pneumovax",
          "Name": "Deborah Hall",
          "Percentage": 0.5789,
          "Type": "Individual"
         },
         {
          "Clinic": "NCFP",
          "Date": "2018-01-08",
          "Metric": "Smoker Pneumovax",
          "Name": "Janet Hansom",
          "Percentage": 0.5517,
          "Type": "Individual"
         },
         {
          "Clinic": "LFM",
          "Date": "2018-01-08",
          "Metric": "Smoker Pneumovax",
          "Name": "Larry Hartwell",
          "Percentage": 0.5,
          "Type": "Individual"
         },
         {
          "Clinic": "SFM",
          "Date": "2018-01-08",
          "Metric": "Smoker Pneumovax",
          "Name": "Shelby Hein",
          "Percentage": 0.4918,
          "Type": "Individual"
         },
         {
          "Clinic": "SFM",
          "Date": "2018-01-08",
          "Metric": "Smoker Pneumovax",
          "Name": "Harry Herdman",
          "Percentage": 0.6081,
          "Type": "Individual"
         },
         {
          "Clinic": "NSFM",
          "Date": "2018-01-08",
          "Metric": "Smoker Pneumovax",
          "Name": "Sarah Herman",
          "Percentage": null,
          "Type": "Individual"
         },
         {
          "Clinic": "LFM",
          "Date": "2018-01-08",
          "Metric": "Smoker Pneumovax",
          "Name": "John Hiemstra",
          "Percentage": 0.5369,
          "Type": "Individual"
         },
         {
          "Clinic": "SFM",
          "Date": "2018-01-08",
          "Metric": "Smoker Pneumovax",
          "Name": "Heather Honey",
          "Percentage": 0.4,
          "Type": "Individual"
         },
         {
          "Clinic": "FHA",
          "Date": "2018-01-08",
          "Metric": "Smoker Pneumovax",
          "Name": "Ryan Honey",
          "Percentage": 0.2616,
          "Type": "Individual"
         },
         {
          "Clinic": "BellB",
          "Date": "2018-01-08",
          "Metric": "Smoker Pneumovax",
          "Name": "Jim Hopper",
          "Percentage": 0.449,
          "Type": "Individual"
         },
         {
          "Clinic": "FFMC",
          "Date": "2018-01-08",
          "Metric": "Smoker Pneumovax",
          "Name": "John Hruby",
          "Percentage": 0.4622,
          "Type": "Individual"
         },
         {
          "Clinic": "FHA",
          "Date": "2018-01-08",
          "Metric": "Smoker Pneumovax",
          "Name": "Kellie Jacobs",
          "Percentage": 0.4348,
          "Type": "Individual"
         },
         {
          "Clinic": "IFP",
          "Date": "2018-01-08",
          "Metric": "Smoker Pneumovax",
          "Name": "Michael James",
          "Percentage": 0.2021,
          "Type": "Individual"
         },
         {
          "Clinic": "FHA",
          "Date": "2018-01-08",
          "Metric": "Smoker Pneumovax",
          "Name": "Sharon Kerlin",
          "Percentage": null,
          "Type": "Individual"
         },
         {
          "Clinic": "BBFM",
          "Date": "2018-01-08",
          "Metric": "Smoker Pneumovax",
          "Name": "Jessica Klassen",
          "Percentage": 0.24,
          "Type": "Individual"
         },
         {
          "Clinic": "FHA",
          "Date": "2018-01-08",
          "Metric": "Smoker Pneumovax",
          "Name": "Meghan Lelonek",
          "Percentage": 0.3412,
          "Type": "Individual"
         },
         {
          "Clinic": "FFMC",
          "Date": "2018-01-08",
          "Metric": "Smoker Pneumovax",
          "Name": "Stephen Lewis",
          "Percentage": 0.4487,
          "Type": "Individual"
         },
         {
          "Clinic": "FFMC",
          "Date": "2018-01-08",
          "Metric": "Smoker Pneumovax",
          "Name": "Erin Maloney",
          "Percentage": null,
          "Type": "Individual"
         },
         {
          "Clinic": "NCFP",
          "Date": "2018-01-08",
          "Metric": "Smoker Pneumovax",
          "Name": "Ross McConahey",
          "Percentage": null,
          "Type": "Individual"
         },
         {
          "Clinic": "NSFM",
          "Date": "2018-01-08",
          "Metric": "Smoker Pneumovax",
          "Name": "Patrick McLaughlin",
          "Percentage": 0.36,
          "Type": "Individual"
         },
         {
          "Clinic": "NCFP",
          "Date": "2018-01-08",
          "Metric": "Smoker Pneumovax",
          "Name": "Sally McPherson",
          "Percentage": 0.35,
          "Type": "Individual"
         },
         {
          "Clinic": "NCFP",
          "Date": "2018-01-08",
          "Metric": "Smoker Pneumovax",
          "Name": "Lucia Muller",
          "Percentage": 0.5,
          "Type": "Individual"
         },
         {
          "Clinic": "BellB",
          "Date": "2018-01-08",
          "Metric": "Smoker Pneumovax",
          "Name": "Karen O’Keefe",
          "Percentage": 0.3095,
          "Type": "Individual"
         },
         {
          "Clinic": "SFM",
          "Date": "2018-01-08",
          "Metric": "Smoker Pneumovax",
          "Name": "Lillian Pavlik",
          "Percentage": null,
          "Type": "Individual"
         },
         {
          "Clinic": "LFM",
          "Date": "2018-01-08",
          "Metric": "Smoker Pneumovax",
          "Name": "Patricia Payne-Zajac",
          "Percentage": 0.3636,
          "Type": "Individual"
         },
         {
          "Clinic": "NCFP",
          "Date": "2018-01-08",
          "Metric": "Smoker Pneumovax",
          "Name": "Jonathan Ploudre",
          "Percentage": 0.5046,
          "Type": "Individual"
         },
         {
          "Clinic": "NSFM",
          "Date": "2018-01-08",
          "Metric": "Smoker Pneumovax",
          "Name": "John Raduege",
          "Percentage": 0.4947,
          "Type": "Individual"
         },
         {
          "Clinic": "BBFM",
          "Date": "2018-01-08",
          "Metric": "Smoker Pneumovax",
          "Name": "Teresa Regier",
          "Percentage": 0.2378,
          "Type": "Individual"
         },
         {
          "Clinic": "FFMC",
          "Date": "2018-01-08",
          "Metric": "Smoker Pneumovax",
          "Name": "Claudia Rey",
          "Percentage": 0.514,
          "Type": "Individual"
         },
         {
          "Clinic": "IFP",
          "Date": "2018-01-08",
          "Metric": "Smoker Pneumovax",
          "Name": "Robert Rieger",
          "Percentage": 0.5641,
          "Type": "Individual"
         },
         {
          "Clinic": "SFM",
          "Date": "2018-01-08",
          "Metric": "Smoker Pneumovax",
          "Name": "Deborah Roessler",
          "Percentage": 0.5745,
          "Type": "Individual"
         },
         {
          "Clinic": "FFMC",
          "Date": "2018-01-08",
          "Metric": "Smoker Pneumovax",
          "Name": "Berdi Sanford",
          "Percentage": 0.7375,
          "Type": "Individual"
         },
         {
          "Clinic": "NCFP",
          "Date": "2018-01-08",
          "Metric": "Smoker Pneumovax",
          "Name": "Lauren Sauve",
          "Percentage": 0.3333,
          "Type": "Individual"
         },
         {
          "Clinic": "BellB",
          "Date": "2018-01-08",
          "Metric": "Smoker Pneumovax",
          "Name": "Melana Schimke",
          "Percentage": 0.1667,
          "Type": "Individual"
         },
         {
          "Clinic": "FHA",
          "Date": "2018-01-08",
          "Metric": "Smoker Pneumovax",
          "Name": "Miriam Shapiro",
          "Percentage": 0.5556,
          "Type": "Individual"
         },
         {
          "Clinic": "NSFM",
          "Date": "2018-01-08",
          "Metric": "Smoker Pneumovax",
          "Name": "Jason Short",
          "Percentage": 0.3878,
          "Type": "Individual"
         },
         {
          "Clinic": "NSFM",
          "Date": "2018-01-08",
          "Metric": "Smoker Pneumovax",
          "Name": "Vicki Short",
          "Percentage": 0.5244,
          "Type": "Individual"
         },
         {
          "Clinic": "LFM",
          "Date": "2018-01-08",
          "Metric": "Smoker Pneumovax",
          "Name": "Ashley Snyder",
          "Percentage": 0.4918,
          "Type": "Individual"
         },
         {
          "Clinic": "FFMC",
          "Date": "2018-01-08",
          "Metric": "Smoker Pneumovax",
          "Name": "Kalani Synder",
          "Percentage": 0.2128,
          "Type": "Individual"
         },
         {
          "Clinic": "NSFM",
          "Date": "2018-01-08",
          "Metric": "Smoker Pneumovax",
          "Name": "Mary Swanson",
          "Percentage": 0.4375,
          "Type": "Individual"
         },
         {
          "Clinic": "IFP",
          "Date": "2018-01-08",
          "Metric": "Smoker Pneumovax",
          "Name": "Magaret Sweeney",
          "Percentage": 0.3488,
          "Type": "Individual"
         },
         {
          "Clinic": "WFM",
          "Date": "2018-01-08",
          "Metric": "Smoker Pneumovax",
          "Name": "Heather Thomson",
          "Percentage": 0.25,
          "Type": "Individual"
         },
         {
          "Clinic": "BellB",
          "Date": "2018-01-08",
          "Metric": "Smoker Pneumovax",
          "Name": "Lisa Van Hofwegen",
          "Percentage": 0.4074,
          "Type": "Individual"
         },
         {
          "Clinic": "NSFM",
          "Date": "2018-01-08",
          "Metric": "Smoker Pneumovax",
          "Name": "April Wakefield-Pagels",
          "Percentage": 0.5319,
          "Type": "Individual"
         },
         {
          "Clinic": "SFM",
          "Date": "2018-01-08",
          "Metric": "Smoker Pneumovax",
          "Name": "Joy Welty",
          "Percentage": 0.4167,
          "Type": "Individual"
         },
         {
          "Clinic": "SFM",
          "Date": "2018-01-08",
          "Metric": "Smoker Pneumovax",
          "Name": "Matt Werner",
          "Percentage": 0.6296,
          "Type": "Individual"
         },
         {
          "Clinic": "NCFP",
          "Date": "2018-01-08",
          "Metric": "Smoker Pneumovax",
          "Name": "Sloane Winkes",
          "Percentage": 0.5676,
          "Type": "Individual"
         },
         {
          "Clinic": "NSFM",
          "Date": "2018-01-08",
          "Metric": "Smoker Pneumovax",
          "Name": "Ying Wu",
          "Percentage": 0.5152,
          "Type": "Individual"
         },
         {
          "Clinic": "FHA",
          "Date": "2018-01-08",
          "Metric": "Smoker Pneumovax",
          "Name": "Ashley Yoder",
          "Percentage": null,
          "Type": "Individual"
         },
         {
          "Clinic": "LFM",
          "Date": "2018-01-22",
          "Metric": "Smoker Pneumovax",
          "Name": "Steven Alexander",
          "Percentage": 0.6667,
          "Type": "Individual"
         },
         {
          "Clinic": "BellB",
          "Date": "2018-01-22",
          "Metric": "Smoker Pneumovax",
          "Name": "Greg Anderson",
          "Percentage": 0.4556,
          "Type": "Individual"
         },
         {
          "Clinic": "FHA",
          "Date": "2018-01-22",
          "Metric": "Smoker Pneumovax",
          "Name": "Rodney Anderson",
          "Percentage": 0.6735,
          "Type": "Individual"
         },
         {
          "Clinic": "FFMC",
          "Date": "2018-01-22",
          "Metric": "Smoker Pneumovax",
          "Name": "Jennifer Bates",
          "Percentage": 0.5692,
          "Type": "Individual"
         },
         {
          "Clinic": "WFM",
          "Date": "2018-01-22",
          "Metric": "Smoker Pneumovax",
          "Name": "Shannon Billau",
          "Percentage": 0.4098,
          "Type": "Individual"
         },
         {
          "Clinic": "WFM",
          "Date": "2018-01-22",
          "Metric": "Smoker Pneumovax",
          "Name": "Richard Binder",
          "Percentage": 0.6444,
          "Type": "Individual"
         },
         {
          "Clinic": "IFP",
          "Date": "2018-01-22",
          "Metric": "Smoker Pneumovax",
          "Name": "Franklin Bjorseth",
          "Percentage": 0.437,
          "Type": "Individual"
         },
         {
          "Clinic": "FHA",
          "Date": "2018-01-22",
          "Metric": "Smoker Pneumovax",
          "Name": "Edward Bloom",
          "Percentage": 0.4492,
          "Type": "Individual"
         },
         {
          "Clinic": "FHA",
          "Date": "2018-01-22",
          "Metric": "Smoker Pneumovax",
          "Name": "Jessica Bloom",
          "Percentage": 0.2778,
          "Type": "Individual"
         },
         {
          "Clinic": "WFM",
          "Date": "2018-01-22",
          "Metric": "Smoker Pneumovax",
          "Name": "Steven Bloom",
          "Percentage": 0.4286,
          "Type": "Individual"
         },
         {
          "Clinic": "BellB",
          "Date": "2018-01-22",
          "Metric": "Smoker Pneumovax",
          "Name": "Ian Bonner",
          "Percentage": 0.375,
          "Type": "Individual"
         },
         {
          "Clinic": "BellB",
          "Date": "2018-01-22",
          "Metric": "Smoker Pneumovax",
          "Name": "Sara Bowling",
          "Percentage": 0.3176,
          "Type": "Individual"
         },
         {
          "Clinic": "NSFM",
          "Date": "2018-01-22",
          "Metric": "Smoker Pneumovax",
          "Name": "Rory Bradt",
          "Percentage": 0.3893,
          "Type": "Individual"
         },
         {
          "Clinic": "FFMC",
          "Date": "2018-01-22",
          "Metric": "Smoker Pneumovax",
          "Name": "Rebecca Brejcha",
          "Percentage": null,
          "Type": "Individual"
         },
         {
          "Clinic": "NSFM",
          "Date": "2018-01-22",
          "Metric": "Smoker Pneumovax",
          "Name": "Lisa Brodsky",
          "Percentage": 0.2581,
          "Type": "Individual"
         },
         {
          "Clinic": "LFM",
          "Date": "2018-01-22",
          "Metric": "Smoker Pneumovax",
          "Name": "Margaret Burden",
          "Percentage": 0.3684,
          "Type": "Individual"
         },
         {
          "Clinic": "NCFP",
          "Date": "2018-01-22",
          "Metric": "Smoker Pneumovax",
          "Name": "Erik Bylund",
          "Percentage": 0.2889,
          "Type": "Individual"
         },
         {
          "Clinic": "LFM",
          "Date": "2018-01-22",
          "Metric": "Smoker Pneumovax",
          "Name": "Robin Caldwell",
          "Percentage": 0.4451,
          "Type": "Individual"
         },
         {
          "Clinic": "NSFM",
          "Date": "2018-01-22",
          "Metric": "Smoker Pneumovax",
          "Name": "William Eiford",
          "Percentage": null,
          "Type": "Individual"
         },
         {
          "Clinic": "NCFP",
          "Date": "2018-01-22",
          "Metric": "Smoker Pneumovax",
          "Name": "Roger Estep",
          "Percentage": 0.2391,
          "Type": "Individual"
         },
         {
          "Clinic": "LFM",
          "Date": "2018-01-22",
          "Metric": "Smoker Pneumovax",
          "Name": "Michael Fleming",
          "Percentage": 0.3226,
          "Type": "Individual"
         },
         {
          "Clinic": "NSFM",
          "Date": "2018-01-22",
          "Metric": "Smoker Pneumovax",
          "Name": "Anneliese Floyd",
          "Percentage": 0.5128,
          "Type": "Individual"
         },
         {
          "Clinic": "BellB",
          "Date": "2018-01-22",
          "Metric": "Smoker Pneumovax",
          "Name": "Laura Fox",
          "Percentage": 0.4468,
          "Type": "Individual"
         },
         {
          "Clinic": "FFMC",
          "Date": "2018-01-22",
          "Metric": "Smoker Pneumovax",
          "Name": "Renay Fredette",
          "Percentage": 0.5323,
          "Type": "Individual"
         },
         {
          "Clinic": "NCFP",
          "Date": "2018-01-22",
          "Metric": "Smoker Pneumovax",
          "Name": "Kay-Kay Gambs",
          "Percentage": 0.188,
          "Type": "Individual"
         },
         {
          "Clinic": "NCFP",
          "Date": "2018-01-22",
          "Metric": "Smoker Pneumovax",
          "Name": "Jonathan Gamson",
          "Percentage": 0.3,
          "Type": "Individual"
         },
         {
          "Clinic": "NSFM",
          "Date": "2018-01-22",
          "Metric": "Smoker Pneumovax",
          "Name": "Elizabeth Gaylord",
          "Percentage": 0.5,
          "Type": "Individual"
         },
         {
          "Clinic": "IFP",
          "Date": "2018-01-22",
          "Metric": "Smoker Pneumovax",
          "Name": "Karen Goodman",
          "Percentage": 0.2895,
          "Type": "Individual"
         },
         {
          "Clinic": "FHA",
          "Date": "2018-01-22",
          "Metric": "Smoker Pneumovax",
          "Name": "Deborah Hall",
          "Percentage": 0.5733,
          "Type": "Individual"
         },
         {
          "Clinic": "NCFP",
          "Date": "2018-01-22",
          "Metric": "Smoker Pneumovax",
          "Name": "Janet Hansom",
          "Percentage": 0.5667,
          "Type": "Individual"
         },
         {
          "Clinic": "LFM",
          "Date": "2018-01-22",
          "Metric": "Smoker Pneumovax",
          "Name": "Larry Hartwell",
          "Percentage": 0.5,
          "Type": "Individual"
         },
         {
          "Clinic": "SFM",
          "Date": "2018-01-22",
          "Metric": "Smoker Pneumovax",
          "Name": "Shelby Hein",
          "Percentage": 0.4746,
          "Type": "Individual"
         },
         {
          "Clinic": "SFM",
          "Date": "2018-01-22",
          "Metric": "Smoker Pneumovax",
          "Name": "Harry Herdman",
          "Percentage": 0.6164,
          "Type": "Individual"
         },
         {
          "Clinic": "NSFM",
          "Date": "2018-01-22",
          "Metric": "Smoker Pneumovax",
          "Name": "Sarah Herman",
          "Percentage": null,
          "Type": "Individual"
         },
         {
          "Clinic": "LFM",
          "Date": "2018-01-22",
          "Metric": "Smoker Pneumovax",
          "Name": "John Hiemstra",
          "Percentage": 0.5338,
          "Type": "Individual"
         },
         {
          "Clinic": "SFM",
          "Date": "2018-01-22",
          "Metric": "Smoker Pneumovax",
          "Name": "Heather Honey",
          "Percentage": 0.4262,
          "Type": "Individual"
         },
         {
          "Clinic": "FHA",
          "Date": "2018-01-22",
          "Metric": "Smoker Pneumovax",
          "Name": "Ryan Honey",
          "Percentage": 0.2978,
          "Type": "Individual"
         },
         {
          "Clinic": "BellB",
          "Date": "2018-01-22",
          "Metric": "Smoker Pneumovax",
          "Name": "Jim Hopper",
          "Percentage": 0.449,
          "Type": "Individual"
         },
         {
          "Clinic": "FFMC",
          "Date": "2018-01-22",
          "Metric": "Smoker Pneumovax",
          "Name": "John Hruby",
          "Percentage": 0.4661,
          "Type": "Individual"
         },
         {
          "Clinic": "FHA",
          "Date": "2018-01-22",
          "Metric": "Smoker Pneumovax",
          "Name": "Kellie Jacobs",
          "Percentage": 0.4255,
          "Type": "Individual"
         },
         {
          "Clinic": "IFP",
          "Date": "2018-01-22",
          "Metric": "Smoker Pneumovax",
          "Name": "Michael James",
          "Percentage": 0.2021,
          "Type": "Individual"
         },
         {
          "Clinic": "FHA",
          "Date": "2018-01-22",
          "Metric": "Smoker Pneumovax",
          "Name": "Sharon Kerlin",
          "Percentage": null,
          "Type": "Individual"
         },
         {
          "Clinic": "BBFM",
          "Date": "2018-01-22",
          "Metric": "Smoker Pneumovax",
          "Name": "Jessica Klassen",
          "Percentage": 0.2131,
          "Type": "Individual"
         },
         {
          "Clinic": "FHA",
          "Date": "2018-01-22",
          "Metric": "Smoker Pneumovax",
          "Name": "Meghan Lelonek",
          "Percentage": 0.3647,
          "Type": "Individual"
         },
         {
          "Clinic": "FFMC",
          "Date": "2018-01-22",
          "Metric": "Smoker Pneumovax",
          "Name": "Stephen Lewis",
          "Percentage": 0.4534,
          "Type": "Individual"
         },
         {
          "Clinic": "FFMC",
          "Date": "2018-01-22",
          "Metric": "Smoker Pneumovax",
          "Name": "Erin Maloney",
          "Percentage": null,
          "Type": "Individual"
         },
         {
          "Clinic": "NCFP",
          "Date": "2018-01-22",
          "Metric": "Smoker Pneumovax",
          "Name": "Ross McConahey",
          "Percentage": null,
          "Type": "Individual"
         },
         {
          "Clinic": "NSFM",
          "Date": "2018-01-22",
          "Metric": "Smoker Pneumovax",
          "Name": "Patrick McLaughlin",
          "Percentage": 0.3974,
          "Type": "Individual"
         },
         {
          "Clinic": "NCFP",
          "Date": "2018-01-22",
          "Metric": "Smoker Pneumovax",
          "Name": "Sally McPherson",
          "Percentage": 0.3467,
          "Type": "Individual"
         },
         {
          "Clinic": "NCFP",
          "Date": "2018-01-22",
          "Metric": "Smoker Pneumovax",
          "Name": "Lucia Muller",
          "Percentage": 0.5,
          "Type": "Individual"
         },
         {
          "Clinic": "BellB",
          "Date": "2018-01-22",
          "Metric": "Smoker Pneumovax",
          "Name": "Karen O’Keefe",
          "Percentage": 0.3095,
          "Type": "Individual"
         },
         {
          "Clinic": "SFM",
          "Date": "2018-01-22",
          "Metric": "Smoker Pneumovax",
          "Name": "Lillian Pavlik",
          "Percentage": null,
          "Type": "Individual"
         },
         {
          "Clinic": "LFM",
          "Date": "2018-01-22",
          "Metric": "Smoker Pneumovax",
          "Name": "Patricia Payne-Zajac",
          "Percentage": 0.4082,
          "Type": "Individual"
         },
         {
          "Clinic": "NCFP",
          "Date": "2018-01-22",
          "Metric": "Smoker Pneumovax",
          "Name": "Jonathan Ploudre",
          "Percentage": 0.5044,
          "Type": "Individual"
         },
         {
          "Clinic": "NSFM",
          "Date": "2018-01-22",
          "Metric": "Smoker Pneumovax",
          "Name": "John Raduege",
          "Percentage": 0.5,
          "Type": "Individual"
         },
         {
          "Clinic": "BBFM",
          "Date": "2018-01-22",
          "Metric": "Smoker Pneumovax",
          "Name": "Teresa Regier",
          "Percentage": 0.2349,
          "Type": "Individual"
         },
         {
          "Clinic": "FFMC",
          "Date": "2018-01-22",
          "Metric": "Smoker Pneumovax",
          "Name": "Claudia Rey",
          "Percentage": 0.5046,
          "Type": "Individual"
         },
         {
          "Clinic": "IFP",
          "Date": "2018-01-22",
          "Metric": "Smoker Pneumovax",
          "Name": "Robert Rieger",
          "Percentage": 0.5714,
          "Type": "Individual"
         },
         {
          "Clinic": "SFM",
          "Date": "2018-01-22",
          "Metric": "Smoker Pneumovax",
          "Name": "Deborah Roessler",
          "Percentage": 0.5806,
          "Type": "Individual"
         },
         {
          "Clinic": "FFMC",
          "Date": "2018-01-22",
          "Metric": "Smoker Pneumovax",
          "Name": "Berdi Sanford",
          "Percentage": 0.7407,
          "Type": "Individual"
         },
         {
          "Clinic": "NCFP",
          "Date": "2018-01-22",
          "Metric": "Smoker Pneumovax",
          "Name": "Lauren Sauve",
          "Percentage": 0.3239,
          "Type": "Individual"
         },
         {
          "Clinic": "BellB",
          "Date": "2018-01-22",
          "Metric": "Smoker Pneumovax",
          "Name": "Melana Schimke",
          "Percentage": 0.2154,
          "Type": "Individual"
         },
         {
          "Clinic": "FHA",
          "Date": "2018-01-22",
          "Metric": "Smoker Pneumovax",
          "Name": "Miriam Shapiro",
          "Percentage": 0.5405,
          "Type": "Individual"
         },
         {
          "Clinic": "NSFM",
          "Date": "2018-01-22",
          "Metric": "Smoker Pneumovax",
          "Name": "Jason Short",
          "Percentage": 0.4257,
          "Type": "Individual"
         },
         {
          "Clinic": "NSFM",
          "Date": "2018-01-22",
          "Metric": "Smoker Pneumovax",
          "Name": "Vicki Short",
          "Percentage": 0.5238,
          "Type": "Individual"
         },
         {
          "Clinic": "LFM",
          "Date": "2018-01-22",
          "Metric": "Smoker Pneumovax",
          "Name": "Ashley Snyder",
          "Percentage": 0.4697,
          "Type": "Individual"
         },
         {
          "Clinic": "FFMC",
          "Date": "2018-01-22",
          "Metric": "Smoker Pneumovax",
          "Name": "Kalani Synder",
          "Percentage": 0.2059,
          "Type": "Individual"
         },
         {
          "Clinic": "NSFM",
          "Date": "2018-01-22",
          "Metric": "Smoker Pneumovax",
          "Name": "Mary Swanson",
          "Percentage": 0.4375,
          "Type": "Individual"
         },
         {
          "Clinic": "IFP",
          "Date": "2018-01-22",
          "Metric": "Smoker Pneumovax",
          "Name": "Magaret Sweeney",
          "Percentage": 0.4286,
          "Type": "Individual"
         },
         {
          "Clinic": "WFM",
          "Date": "2018-01-22",
          "Metric": "Smoker Pneumovax",
          "Name": "Heather Thomson",
          "Percentage": 0.25,
          "Type": "Individual"
         },
         {
          "Clinic": "BellB",
          "Date": "2018-01-22",
          "Metric": "Smoker Pneumovax",
          "Name": "Lisa Van Hofwegen",
          "Percentage": 0.4074,
          "Type": "Individual"
         },
         {
          "Clinic": "NSFM",
          "Date": "2018-01-22",
          "Metric": "Smoker Pneumovax",
          "Name": "April Wakefield-Pagels",
          "Percentage": 0.5435,
          "Type": "Individual"
         },
         {
          "Clinic": "SFM",
          "Date": "2018-01-22",
          "Metric": "Smoker Pneumovax",
          "Name": "Joy Welty",
          "Percentage": 0.4583,
          "Type": "Individual"
         },
         {
          "Clinic": "SFM",
          "Date": "2018-01-22",
          "Metric": "Smoker Pneumovax",
          "Name": "Matt Werner",
          "Percentage": 0.6296,
          "Type": "Individual"
         },
         {
          "Clinic": "NCFP",
          "Date": "2018-01-22",
          "Metric": "Smoker Pneumovax",
          "Name": "Sloane Winkes",
          "Percentage": 0.5676,
          "Type": "Individual"
         },
         {
          "Clinic": "NSFM",
          "Date": "2018-01-22",
          "Metric": "Smoker Pneumovax",
          "Name": "Ying Wu",
          "Percentage": 0.5484,
          "Type": "Individual"
         },
         {
          "Clinic": "FHA",
          "Date": "2018-01-22",
          "Metric": "Smoker Pneumovax",
          "Name": "Ashley Yoder",
          "Percentage": 0.4,
          "Type": "Individual"
         },
         {
          "Clinic": "LFM",
          "Date": "2017-10-23",
          "Metric": "Smoker Pneumovax",
          "Name": "Steven Alexander",
          "Percentage": 0.6164,
          "Type": "Individual"
         },
         {
          "Clinic": "BellB",
          "Date": "2017-10-23",
          "Metric": "Smoker Pneumovax",
          "Name": "Greg Anderson",
          "Percentage": 0.4,
          "Type": "Individual"
         },
         {
          "Clinic": "FHA",
          "Date": "2017-10-23",
          "Metric": "Smoker Pneumovax",
          "Name": "Rodney Anderson",
          "Percentage": 0.6207,
          "Type": "Individual"
         },
         {
          "Clinic": "FFMC",
          "Date": "2017-10-23",
          "Metric": "Smoker Pneumovax",
          "Name": "Jennifer Bates",
          "Percentage": 0.5867,
          "Type": "Individual"
         },
         {
          "Clinic": "WFM",
          "Date": "2017-10-23",
          "Metric": "Smoker Pneumovax",
          "Name": "Shannon Billau",
          "Percentage": 0.4,
          "Type": "Individual"
         },
         {
          "Clinic": "WFM",
          "Date": "2017-10-23",
          "Metric": "Smoker Pneumovax",
          "Name": "Richard Binder",
          "Percentage": 0.6667,
          "Type": "Individual"
         },
         {
          "Clinic": "IFP",
          "Date": "2017-10-23",
          "Metric": "Smoker Pneumovax",
          "Name": "Franklin Bjorseth",
          "Percentage": 0.4118,
          "Type": "Individual"
         },
         {
          "Clinic": "FHA",
          "Date": "2017-10-23",
          "Metric": "Smoker Pneumovax",
          "Name": "Edward Bloom",
          "Percentage": 0.4113,
          "Type": "Individual"
         },
         {
          "Clinic": "FHA",
          "Date": "2017-10-23",
          "Metric": "Smoker Pneumovax",
          "Name": "Jessica Bloom",
          "Percentage": 0.2941,
          "Type": "Individual"
         },
         {
          "Clinic": "WFM",
          "Date": "2017-10-23",
          "Metric": "Smoker Pneumovax",
          "Name": "Steven Bloom",
          "Percentage": 0.4124,
          "Type": "Individual"
         },
         {
          "Clinic": "BellB",
          "Date": "2017-10-23",
          "Metric": "Smoker Pneumovax",
          "Name": "Ian Bonner",
          "Percentage": 0.3308,
          "Type": "Individual"
         },
         {
          "Clinic": "BellB",
          "Date": "2017-10-23",
          "Metric": "Smoker Pneumovax",
          "Name": "Sara Bowling",
          "Percentage": 0.2706,
          "Type": "Individual"
         },
         {
          "Clinic": "NSFM",
          "Date": "2017-10-23",
          "Metric": "Smoker Pneumovax",
          "Name": "Rory Bradt",
          "Percentage": 0.3571,
          "Type": "Individual"
         },
         {
          "Clinic": "FFMC",
          "Date": "2017-10-23",
          "Metric": "Smoker Pneumovax",
          "Name": "Rebecca Brejcha",
          "Percentage": null,
          "Type": "Individual"
         },
         {
          "Clinic": "NSFM",
          "Date": "2017-10-23",
          "Metric": "Smoker Pneumovax",
          "Name": "Lisa Brodsky",
          "Percentage": 0.2581,
          "Type": "Individual"
         },
         {
          "Clinic": "LFM",
          "Date": "2017-10-23",
          "Metric": "Smoker Pneumovax",
          "Name": "Margaret Burden",
          "Percentage": 0.4103,
          "Type": "Individual"
         },
         {
          "Clinic": "NCFP",
          "Date": "2017-10-23",
          "Metric": "Smoker Pneumovax",
          "Name": "Erik Bylund",
          "Percentage": 0.2672,
          "Type": "Individual"
         },
         {
          "Clinic": "LFM",
          "Date": "2017-10-23",
          "Metric": "Smoker Pneumovax",
          "Name": "Robin Caldwell",
          "Percentage": 0.4491,
          "Type": "Individual"
         },
         {
          "Clinic": "NSFM",
          "Date": "2017-10-23",
          "Metric": "Smoker Pneumovax",
          "Name": "William Eiford",
          "Percentage": null,
          "Type": "Individual"
         },
         {
          "Clinic": "NCFP",
          "Date": "2017-10-23",
          "Metric": "Smoker Pneumovax",
          "Name": "Roger Estep",
          "Percentage": 0.1875,
          "Type": "Individual"
         },
         {
          "Clinic": "LFM",
          "Date": "2017-10-23",
          "Metric": "Smoker Pneumovax",
          "Name": "Michael Fleming",
          "Percentage": 0.2979,
          "Type": "Individual"
         },
         {
          "Clinic": "NSFM",
          "Date": "2017-10-23",
          "Metric": "Smoker Pneumovax",
          "Name": "Anneliese Floyd",
          "Percentage": 0.525,
          "Type": "Individual"
         },
         {
          "Clinic": "BellB",
          "Date": "2017-10-23",
          "Metric": "Smoker Pneumovax",
          "Name": "Laura Fox",
          "Percentage": 0.4318,
          "Type": "Individual"
         },
         {
          "Clinic": "FFMC",
          "Date": "2017-10-23",
          "Metric": "Smoker Pneumovax",
          "Name": "Renay Fredette",
          "Percentage": 0.5373,
          "Type": "Individual"
         },
         {
          "Clinic": "NCFP",
          "Date": "2017-10-23",
          "Metric": "Smoker Pneumovax",
          "Name": "Kay-Kay Gambs",
          "Percentage": 0.157,
          "Type": "Individual"
         },
         {
          "Clinic": "NCFP",
          "Date": "2017-10-23",
          "Metric": "Smoker Pneumovax",
          "Name": "Jonathan Gamson",
          "Percentage": 0.2538,
          "Type": "Individual"
         },
         {
          "Clinic": "NSFM",
          "Date": "2017-10-23",
          "Metric": "Smoker Pneumovax",
          "Name": "Elizabeth Gaylord",
          "Percentage": 0.4545,
          "Type": "Individual"
         },
         {
          "Clinic": "IFP",
          "Date": "2017-10-23",
          "Metric": "Smoker Pneumovax",
          "Name": "Karen Goodman",
          "Percentage": 0.358,
          "Type": "Individual"
         },
         {
          "Clinic": "FHA",
          "Date": "2017-10-23",
          "Metric": "Smoker Pneumovax",
          "Name": "Deborah Hall",
          "Percentage": 0.5584,
          "Type": "Individual"
         },
         {
          "Clinic": "NCFP",
          "Date": "2017-10-23",
          "Metric": "Smoker Pneumovax",
          "Name": "Janet Hansom",
          "Percentage": 0.5667,
          "Type": "Individual"
         },
         {
          "Clinic": "LFM",
          "Date": "2017-10-23",
          "Metric": "Smoker Pneumovax",
          "Name": "Larry Hartwell",
          "Percentage": 0.5135,
          "Type": "Individual"
         },
         {
          "Clinic": "SFM",
          "Date": "2017-10-23",
          "Metric": "Smoker Pneumovax",
          "Name": "Shelby Hein",
          "Percentage": 0.4754,
          "Type": "Individual"
         },
         {
          "Clinic": "SFM",
          "Date": "2017-10-23",
          "Metric": "Smoker Pneumovax",
          "Name": "Harry Herdman",
          "Percentage": 0.5753,
          "Type": "Individual"
         },
         {
          "Clinic": "NSFM",
          "Date": "2017-10-23",
          "Metric": "Smoker Pneumovax",
          "Name": "Sarah Herman",
          "Percentage": null,
          "Type": "Individual"
         },
         {
          "Clinic": "LFM",
          "Date": "2017-10-23",
          "Metric": "Smoker Pneumovax",
          "Name": "John Hiemstra",
          "Percentage": 0.5229,
          "Type": "Individual"
         },
         {
          "Clinic": "SFM",
          "Date": "2017-10-23",
          "Metric": "Smoker Pneumovax",
          "Name": "Heather Honey",
          "Percentage": 0.4098,
          "Type": "Individual"
         },
         {
          "Clinic": "FHA",
          "Date": "2017-10-23",
          "Metric": "Smoker Pneumovax",
          "Name": "Ryan Honey",
          "Percentage": 0.1,
          "Type": "Individual"
         },
         {
          "Clinic": "BellB",
          "Date": "2017-10-23",
          "Metric": "Smoker Pneumovax",
          "Name": "Jim Hopper",
          "Percentage": 0.4583,
          "Type": "Individual"
         },
         {
          "Clinic": "FFMC",
          "Date": "2017-10-23",
          "Metric": "Smoker Pneumovax",
          "Name": "John Hruby",
          "Percentage": 0.4472,
          "Type": "Individual"
         },
         {
          "Clinic": "FHA",
          "Date": "2017-10-23",
          "Metric": "Smoker Pneumovax",
          "Name": "Kellie Jacobs",
          "Percentage": 0.449,
          "Type": "Individual"
         },
         {
          "Clinic": "IFP",
          "Date": "2017-10-23",
          "Metric": "Smoker Pneumovax",
          "Name": "Michael James",
          "Percentage": 0.1758,
          "Type": "Individual"
         },
         {
          "Clinic": "FHA",
          "Date": "2017-10-23",
          "Metric": "Smoker Pneumovax",
          "Name": "Sharon Kerlin",
          "Percentage": null,
          "Type": "Individual"
         },
         {
          "Clinic": "BBFM",
          "Date": "2017-10-23",
          "Metric": "Smoker Pneumovax",
          "Name": "Jessica Klassen",
          "Percentage": 0.087,
          "Type": "Individual"
         },
         {
          "Clinic": "FHA",
          "Date": "2017-10-23",
          "Metric": "Smoker Pneumovax",
          "Name": "Meghan Lelonek",
          "Percentage": 0.3333,
          "Type": "Individual"
         },
         {
          "Clinic": "FFMC",
          "Date": "2017-10-23",
          "Metric": "Smoker Pneumovax",
          "Name": "Stephen Lewis",
          "Percentage": 0.4418,
          "Type": "Individual"
         },
         {
          "Clinic": "FFMC",
          "Date": "2017-10-23",
          "Metric": "Smoker Pneumovax",
          "Name": "Erin Maloney",
          "Percentage": null,
          "Type": "Individual"
         },
         {
          "Clinic": "NCFP",
          "Date": "2017-10-23",
          "Metric": "Smoker Pneumovax",
          "Name": "Ross McConahey",
          "Percentage": null,
          "Type": "Individual"
         },
         {
          "Clinic": "NSFM",
          "Date": "2017-10-23",
          "Metric": "Smoker Pneumovax",
          "Name": "Patrick McLaughlin",
          "Percentage": 0.3714,
          "Type": "Individual"
         },
         {
          "Clinic": "NCFP",
          "Date": "2017-10-23",
          "Metric": "Smoker Pneumovax",
          "Name": "Sally McPherson",
          "Percentage": 0.3208,
          "Type": "Individual"
         },
         {
          "Clinic": "NCFP",
          "Date": "2017-10-23",
          "Metric": "Smoker Pneumovax",
          "Name": "Lucia Muller",
          "Percentage": 0.4444,
          "Type": "Individual"
         },
         {
          "Clinic": "BellB",
          "Date": "2017-10-23",
          "Metric": "Smoker Pneumovax",
          "Name": "Karen O’Keefe",
          "Percentage": 0.2326,
          "Type": "Individual"
         },
         {
          "Clinic": "SFM",
          "Date": "2017-10-23",
          "Metric": "Smoker Pneumovax",
          "Name": "Lillian Pavlik",
          "Percentage": null,
          "Type": "Individual"
         },
         {
          "Clinic": "LFM",
          "Date": "2017-10-23",
          "Metric": "Smoker Pneumovax",
          "Name": "Patricia Payne-Zajac",
          "Percentage": 0.1429,
          "Type": "Individual"
         },
         {
          "Clinic": "NCFP",
          "Date": "2017-10-23",
          "Metric": "Smoker Pneumovax",
          "Name": "Jonathan Ploudre",
          "Percentage": 0.4404,
          "Type": "Individual"
         },
         {
          "Clinic": "NSFM",
          "Date": "2017-10-23",
          "Metric": "Smoker Pneumovax",
          "Name": "John Raduege",
          "Percentage": 0.4646,
          "Type": "Individual"
         },
         {
          "Clinic": "BBFM",
          "Date": "2017-10-23",
          "Metric": "Smoker Pneumovax",
          "Name": "Teresa Regier",
          "Percentage": 0.2384,
          "Type": "Individual"
         },
         {
          "Clinic": "FFMC",
          "Date": "2017-10-23",
          "Metric": "Smoker Pneumovax",
          "Name": "Claudia Rey",
          "Percentage": 0.4553,
          "Type": "Individual"
         },
         {
          "Clinic": "IFP",
          "Date": "2017-10-23",
          "Metric": "Smoker Pneumovax",
          "Name": "Robert Rieger",
          "Percentage": 0.4872,
          "Type": "Individual"
         },
         {
          "Clinic": "SFM",
          "Date": "2017-10-23",
          "Metric": "Smoker Pneumovax",
          "Name": "Deborah Roessler",
          "Percentage": 0.5208,
          "Type": "Individual"
         },
         {
          "Clinic": "FFMC",
          "Date": "2017-10-23",
          "Metric": "Smoker Pneumovax",
          "Name": "Berdi Sanford",
          "Percentage": 0.7024,
          "Type": "Individual"
         },
         {
          "Clinic": "NCFP",
          "Date": "2017-10-23",
          "Metric": "Smoker Pneumovax",
          "Name": "Lauren Sauve",
          "Percentage": 0.3302,
          "Type": "Individual"
         },
         {
          "Clinic": "BellB",
          "Date": "2017-10-23",
          "Metric": "Smoker Pneumovax",
          "Name": "Melana Schimke",
          "Percentage": 0.1324,
          "Type": "Individual"
         },
         {
          "Clinic": "FHA",
          "Date": "2017-10-23",
          "Metric": "Smoker Pneumovax",
          "Name": "Miriam Shapiro",
          "Percentage": 0.4571,
          "Type": "Individual"
         },
         {
          "Clinic": "NSFM",
          "Date": "2017-10-23",
          "Metric": "Smoker Pneumovax",
          "Name": "Jason Short",
          "Percentage": 0.4082,
          "Type": "Individual"
         },
         {
          "Clinic": "NSFM",
          "Date": "2017-10-23",
          "Metric": "Smoker Pneumovax",
          "Name": "Vicki Short",
          "Percentage": 0.5,
          "Type": "Individual"
         },
         {
          "Clinic": "LFM",
          "Date": "2017-10-23",
          "Metric": "Smoker Pneumovax",
          "Name": "Ashley Snyder",
          "Percentage": 0.375,
          "Type": "Individual"
         },
         {
          "Clinic": "FFMC",
          "Date": "2017-10-23",
          "Metric": "Smoker Pneumovax",
          "Name": "Kalani Synder",
          "Percentage": 0.0714,
          "Type": "Individual"
         },
         {
          "Clinic": "NSFM",
          "Date": "2017-10-23",
          "Metric": "Smoker Pneumovax",
          "Name": "Mary Swanson",
          "Percentage": 0.4118,
          "Type": "Individual"
         },
         {
          "Clinic": "IFP",
          "Date": "2017-10-23",
          "Metric": "Smoker Pneumovax",
          "Name": "Magaret Sweeney",
          "Percentage": 0.3333,
          "Type": "Individual"
         },
         {
          "Clinic": "WFM",
          "Date": "2017-10-23",
          "Metric": "Smoker Pneumovax",
          "Name": "Heather Thomson",
          "Percentage": 0.125,
          "Type": "Individual"
         },
         {
          "Clinic": "BellB",
          "Date": "2017-10-23",
          "Metric": "Smoker Pneumovax",
          "Name": "Lisa Van Hofwegen",
          "Percentage": 0.3667,
          "Type": "Individual"
         },
         {
          "Clinic": "NSFM",
          "Date": "2017-10-23",
          "Metric": "Smoker Pneumovax",
          "Name": "April Wakefield-Pagels",
          "Percentage": 0.5319,
          "Type": "Individual"
         },
         {
          "Clinic": "SFM",
          "Date": "2017-10-23",
          "Metric": "Smoker Pneumovax",
          "Name": "Joy Welty",
          "Percentage": 0.25,
          "Type": "Individual"
         },
         {
          "Clinic": "SFM",
          "Date": "2017-10-23",
          "Metric": "Smoker Pneumovax",
          "Name": "Matt Werner",
          "Percentage": 0.5862,
          "Type": "Individual"
         },
         {
          "Clinic": "NCFP",
          "Date": "2017-10-23",
          "Metric": "Smoker Pneumovax",
          "Name": "Sloane Winkes",
          "Percentage": 0.5833,
          "Type": "Individual"
         },
         {
          "Clinic": "NSFM",
          "Date": "2017-10-23",
          "Metric": "Smoker Pneumovax",
          "Name": "Ying Wu",
          "Percentage": 0.5,
          "Type": "Individual"
         },
         {
          "Clinic": "LFM",
          "Date": "2017-09-11",
          "Metric": "Smoker Pneumovax",
          "Name": "Steven Alexander",
          "Percentage": 0.6316,
          "Type": "Individual"
         },
         {
          "Clinic": "BellB",
          "Date": "2017-09-11",
          "Metric": "Smoker Pneumovax",
          "Name": "Greg Anderson",
          "Percentage": 0.3956,
          "Type": "Individual"
         },
         {
          "Clinic": "FHA",
          "Date": "2017-09-11",
          "Metric": "Smoker Pneumovax",
          "Name": "Rodney Anderson",
          "Percentage": 0.5968,
          "Type": "Individual"
         },
         {
          "Clinic": "FFMC",
          "Date": "2017-09-11",
          "Metric": "Smoker Pneumovax",
          "Name": "Jennifer Bates",
          "Percentage": 0.5857,
          "Type": "Individual"
         },
         {
          "Clinic": "WFM",
          "Date": "2017-09-11",
          "Metric": "Smoker Pneumovax",
          "Name": "Shannon Billau",
          "Percentage": 0.4,
          "Type": "Individual"
         },
         {
          "Clinic": "WFM",
          "Date": "2017-09-11",
          "Metric": "Smoker Pneumovax",
          "Name": "Richard Binder",
          "Percentage": 0.6809,
          "Type": "Individual"
         },
         {
          "Clinic": "IFP",
          "Date": "2017-09-11",
          "Metric": "Smoker Pneumovax",
          "Name": "Franklin Bjorseth",
          "Percentage": 0.395,
          "Type": "Individual"
         },
         {
          "Clinic": "FHA",
          "Date": "2017-09-11",
          "Metric": "Smoker Pneumovax",
          "Name": "Edward Bloom",
          "Percentage": 0.4048,
          "Type": "Individual"
         },
         {
          "Clinic": "FHA",
          "Date": "2017-09-11",
          "Metric": "Smoker Pneumovax",
          "Name": "Jessica Bloom",
          "Percentage": 0.2778,
          "Type": "Individual"
         },
         {
          "Clinic": "WFM",
          "Date": "2017-09-11",
          "Metric": "Smoker Pneumovax",
          "Name": "Steven Bloom",
          "Percentage": 0.4194,
          "Type": "Individual"
         },
         {
          "Clinic": "BellB",
          "Date": "2017-09-11",
          "Metric": "Smoker Pneumovax",
          "Name": "Ian Bonner",
          "Percentage": 0.3008,
          "Type": "Individual"
         },
         {
          "Clinic": "BellB",
          "Date": "2017-09-11",
          "Metric": "Smoker Pneumovax",
          "Name": "Sara Bowling",
          "Percentage": 0.2235,
          "Type": "Individual"
         },
         {
          "Clinic": "NSFM",
          "Date": "2017-09-11",
          "Metric": "Smoker Pneumovax",
          "Name": "Rory Bradt",
          "Percentage": 0.3404,
          "Type": "Individual"
         },
         {
          "Clinic": "FFMC",
          "Date": "2017-09-11",
          "Metric": "Smoker Pneumovax",
          "Name": "Rebecca Brejcha",
          "Percentage": 0.5918,
          "Type": "Individual"
         },
         {
          "Clinic": "NSFM",
          "Date": "2017-09-11",
          "Metric": "Smoker Pneumovax",
          "Name": "Lisa Brodsky",
          "Percentage": 0.5538,
          "Type": "Individual"
         },
         {
          "Clinic": "LFM",
          "Date": "2017-09-11",
          "Metric": "Smoker Pneumovax",
          "Name": "Margaret Burden",
          "Percentage": 0.381,
          "Type": "Individual"
         },
         {
          "Clinic": "NCFP",
          "Date": "2017-09-11",
          "Metric": "Smoker Pneumovax",
          "Name": "Erik Bylund",
          "Percentage": 0.2366,
          "Type": "Individual"
         },
         {
          "Clinic": "LFM",
          "Date": "2017-09-11",
          "Metric": "Smoker Pneumovax",
          "Name": "Robin Caldwell",
          "Percentage": 0.4379,
          "Type": "Individual"
         },
         {
          "Clinic": "NSFM",
          "Date": "2017-09-11",
          "Metric": "Smoker Pneumovax",
          "Name": "William Eiford",
          "Percentage": 0.4746,
          "Type": "Individual"
         },
         {
          "Clinic": "NCFP",
          "Date": "2017-09-11",
          "Metric": "Smoker Pneumovax",
          "Name": "Roger Estep",
          "Percentage": 0.1875,
          "Type": "Individual"
         },
         {
          "Clinic": "LFM",
          "Date": "2017-09-11",
          "Metric": "Smoker Pneumovax",
          "Name": "Michael Fleming",
          "Percentage": 0.2619,
          "Type": "Individual"
         },
         {
          "Clinic": "NSFM",
          "Date": "2017-09-11",
          "Metric": "Smoker Pneumovax",
          "Name": "Anneliese Floyd",
          "Percentage": 0.5385,
          "Type": "Individual"
         },
         {
          "Clinic": "BellB",
          "Date": "2017-09-11",
          "Metric": "Smoker Pneumovax",
          "Name": "Laura Fox",
          "Percentage": 0.3864,
          "Type": "Individual"
         },
         {
          "Clinic": "FFMC",
          "Date": "2017-09-11",
          "Metric": "Smoker Pneumovax",
          "Name": "Renay Fredette",
          "Percentage": 0.5522,
          "Type": "Individual"
         },
         {
          "Clinic": "NCFP",
          "Date": "2017-09-11",
          "Metric": "Smoker Pneumovax",
          "Name": "Kay-Kay Gambs",
          "Percentage": 0.1565,
          "Type": "Individual"
         },
         {
          "Clinic": "NCFP",
          "Date": "2017-09-11",
          "Metric": "Smoker Pneumovax",
          "Name": "Jonathan Gamson",
          "Percentage": 0.2406,
          "Type": "Individual"
         },
         {
          "Clinic": "NSFM",
          "Date": "2017-09-11",
          "Metric": "Smoker Pneumovax",
          "Name": "Elizabeth Gaylord",
          "Percentage": 0.4118,
          "Type": "Individual"
         },
         {
          "Clinic": "IFP",
          "Date": "2017-09-11",
          "Metric": "Smoker Pneumovax",
          "Name": "Karen Goodman",
          "Percentage": 0.3636,
          "Type": "Individual"
         },
         {
          "Clinic": "FHA",
          "Date": "2017-09-11",
          "Metric": "Smoker Pneumovax",
          "Name": "Deborah Hall",
          "Percentage": 0.55,
          "Type": "Individual"
         },
         {
          "Clinic": "NCFP",
          "Date": "2017-09-11",
          "Metric": "Smoker Pneumovax",
          "Name": "Janet Hansom",
          "Percentage": 0.5,
          "Type": "Individual"
         },
         {
          "Clinic": "LFM",
          "Date": "2017-09-11",
          "Metric": "Smoker Pneumovax",
          "Name": "Larry Hartwell",
          "Percentage": 0.5,
          "Type": "Individual"
         },
         {
          "Clinic": "SFM",
          "Date": "2017-09-11",
          "Metric": "Smoker Pneumovax",
          "Name": "Shelby Hein",
          "Percentage": 0.4667,
          "Type": "Individual"
         },
         {
          "Clinic": "SFM",
          "Date": "2017-09-11",
          "Metric": "Smoker Pneumovax",
          "Name": "Harry Herdman",
          "Percentage": 0.5541,
          "Type": "Individual"
         },
         {
          "Clinic": "NSFM",
          "Date": "2017-09-11",
          "Metric": "Smoker Pneumovax",
          "Name": "Sarah Herman",
          "Percentage": 0.3868,
          "Type": "Individual"
         },
         {
          "Clinic": "LFM",
          "Date": "2017-09-11",
          "Metric": "Smoker Pneumovax",
          "Name": "John Hiemstra",
          "Percentage": 0.5133,
          "Type": "Individual"
         },
         {
          "Clinic": "SFM",
          "Date": "2017-09-11",
          "Metric": "Smoker Pneumovax",
          "Name": "Heather Honey",
          "Percentage": 0.4035,
          "Type": "Individual"
         },
         {
          "Clinic": "FHA",
          "Date": "2017-09-11",
          "Metric": "Smoker Pneumovax",
          "Name": "Ryan Honey",
          "Percentage": 0,
          "Type": "Individual"
         },
         {
          "Clinic": "BellB",
          "Date": "2017-09-11",
          "Metric": "Smoker Pneumovax",
          "Name": "Jim Hopper",
          "Percentage": 0.42,
          "Type": "Individual"
         },
         {
          "Clinic": "FFMC",
          "Date": "2017-09-11",
          "Metric": "Smoker Pneumovax",
          "Name": "John Hruby",
          "Percentage": 0.4492,
          "Type": "Individual"
         },
         {
          "Clinic": "FHA",
          "Date": "2017-09-11",
          "Metric": "Smoker Pneumovax",
          "Name": "Kellie Jacobs",
          "Percentage": 0.4375,
          "Type": "Individual"
         },
         {
          "Clinic": "IFP",
          "Date": "2017-09-11",
          "Metric": "Smoker Pneumovax",
          "Name": "Michael James",
          "Percentage": 0.1667,
          "Type": "Individual"
         },
         {
          "Clinic": "FHA",
          "Date": "2017-09-11",
          "Metric": "Smoker Pneumovax",
          "Name": "Sharon Kerlin",
          "Percentage": 0.5375,
          "Type": "Individual"
         },
         {
          "Clinic": "FHA",
          "Date": "2017-09-11",
          "Metric": "Smoker Pneumovax",
          "Name": "Meghan Lelonek",
          "Percentage": 0.3182,
          "Type": "Individual"
         },
         {
          "Clinic": "FFMC",
          "Date": "2017-09-11",
          "Metric": "Smoker Pneumovax",
          "Name": "Stephen Lewis",
          "Percentage": 0.44,
          "Type": "Individual"
         },
         {
          "Clinic": "FFMC",
          "Date": "2017-09-11",
          "Metric": "Smoker Pneumovax",
          "Name": "Erin Maloney",
          "Percentage": 0.5478,
          "Type": "Individual"
         },
         {
          "Clinic": "NCFP",
          "Date": "2017-09-11",
          "Metric": "Smoker Pneumovax",
          "Name": "Ross McConahey",
          "Percentage": 0.4086,
          "Type": "Individual"
         },
         {
          "Clinic": "NSFM",
          "Date": "2017-09-11",
          "Metric": "Smoker Pneumovax",
          "Name": "Patrick McLaughlin",
          "Percentage": 0.3913,
          "Type": "Individual"
         },
         {
          "Clinic": "NCFP",
          "Date": "2017-09-11",
          "Metric": "Smoker Pneumovax",
          "Name": "Sally McPherson",
          "Percentage": 0.4037,
          "Type": "Individual"
         },
         {
          "Clinic": "NCFP",
          "Date": "2017-09-11",
          "Metric": "Smoker Pneumovax",
          "Name": "Lucia Muller",
          "Percentage": 0.4186,
          "Type": "Individual"
         },
         {
          "Clinic": "BellB",
          "Date": "2017-09-11",
          "Metric": "Smoker Pneumovax",
          "Name": "Karen O’Keefe",
          "Percentage": 0.2558,
          "Type": "Individual"
         },
         {
          "Clinic": "SFM",
          "Date": "2017-09-11",
          "Metric": "Smoker Pneumovax",
          "Name": "Lillian Pavlik",
          "Percentage": 0.6552,
          "Type": "Individual"
         },
         {
          "Clinic": "LFM",
          "Date": "2017-09-11",
          "Metric": "Smoker Pneumovax",
          "Name": "Patricia Payne-Zajac",
          "Percentage": 0.4512,
          "Type": "Individual"
         },
         {
          "Clinic": "NCFP",
          "Date": "2017-09-11",
          "Metric": "Smoker Pneumovax",
          "Name": "Jonathan Ploudre",
          "Percentage": 0.3909,
          "Type": "Individual"
         },
         {
          "Clinic": "NSFM",
          "Date": "2017-09-11",
          "Metric": "Smoker Pneumovax",
          "Name": "John Raduege",
          "Percentage": 0.4583,
          "Type": "Individual"
         },
         {
          "Clinic": "BBFM",
          "Date": "2017-09-11",
          "Metric": "Smoker Pneumovax",
          "Name": "Teresa Regier",
          "Percentage": 0.2282,
          "Type": "Individual"
         },
         {
          "Clinic": "FFMC",
          "Date": "2017-09-11",
          "Metric": "Smoker Pneumovax",
          "Name": "Claudia Rey",
          "Percentage": 0.448,
          "Type": "Individual"
         },
         {
          "Clinic": "IFP",
          "Date": "2017-09-11",
          "Metric": "Smoker Pneumovax",
          "Name": "Robert Rieger",
          "Percentage": 0.4487,
          "Type": "Individual"
         },
         {
          "Clinic": "SFM",
          "Date": "2017-09-11",
          "Metric": "Smoker Pneumovax",
          "Name": "Deborah Roessler",
          "Percentage": 0.5051,
          "Type": "Individual"
         },
         {
          "Clinic": "FFMC",
          "Date": "2017-09-11",
          "Metric": "Smoker Pneumovax",
          "Name": "Berdi Sanford",
          "Percentage": 0.7011,
          "Type": "Individual"
         },
         {
          "Clinic": "NCFP",
          "Date": "2017-09-11",
          "Metric": "Smoker Pneumovax",
          "Name": "Lauren Sauve",
          "Percentage": 0.4,
          "Type": "Individual"
         },
         {
          "Clinic": "BellB",
          "Date": "2017-09-11",
          "Metric": "Smoker Pneumovax",
          "Name": "Melana Schimke",
          "Percentage": 0.1159,
          "Type": "Individual"
         },
         {
          "Clinic": "FHA",
          "Date": "2017-09-11",
          "Metric": "Smoker Pneumovax",
          "Name": "Miriam Shapiro",
          "Percentage": 0.4444,
          "Type": "Individual"
         },
         {
          "Clinic": "NSFM",
          "Date": "2017-09-11",
          "Metric": "Smoker Pneumovax",
          "Name": "Jason Short",
          "Percentage": 0.4038,
          "Type": "Individual"
         },
         {
          "Clinic": "NSFM",
          "Date": "2017-09-11",
          "Metric": "Smoker Pneumovax",
          "Name": "Vicki Short",
          "Percentage": 0.494,
          "Type": "Individual"
         },
         {
          "Clinic": "LFM",
          "Date": "2017-09-11",
          "Metric": "Smoker Pneumovax",
          "Name": "Ashley Snyder",
          "Percentage": null,
          "Type": "Individual"
         },
         {
          "Clinic": "NSFM",
          "Date": "2017-09-11",
          "Metric": "Smoker Pneumovax",
          "Name": "Mary Swanson",
          "Percentage": 0.4,
          "Type": "Individual"
         },
         {
          "Clinic": "IFP",
          "Date": "2017-09-11",
          "Metric": "Smoker Pneumovax",
          "Name": "Magaret Sweeney",
          "Percentage": 0.2927,
          "Type": "Individual"
         },
         {
          "Clinic": "BellB",
          "Date": "2017-09-11",
          "Metric": "Smoker Pneumovax",
          "Name": "Lisa Van Hofwegen",
          "Percentage": 0.3548,
          "Type": "Individual"
         },
         {
          "Clinic": "NSFM",
          "Date": "2017-09-11",
          "Metric": "Smoker Pneumovax",
          "Name": "April Wakefield-Pagels",
          "Percentage": 0.5417,
          "Type": "Individual"
         },
         {
          "Clinic": "SFM",
          "Date": "2017-09-11",
          "Metric": "Smoker Pneumovax",
          "Name": "Joy Welty",
          "Percentage": null,
          "Type": "Individual"
         },
         {
          "Clinic": "SFM",
          "Date": "2017-09-11",
          "Metric": "Smoker Pneumovax",
          "Name": "Matt Werner",
          "Percentage": 0.5618,
          "Type": "Individual"
         },
         {
          "Clinic": "NCFP",
          "Date": "2017-09-11",
          "Metric": "Smoker Pneumovax",
          "Name": "Sloane Winkes",
          "Percentage": 0.5526,
          "Type": "Individual"
         },
         {
          "Clinic": "NSFM",
          "Date": "2017-09-11",
          "Metric": "Smoker Pneumovax",
          "Name": "Ying Wu",
          "Percentage": 0.4615,
          "Type": "Individual"
         },
         {
          "Clinic": "LFM",
          "Date": "2018-01-15",
          "Metric": "Smoker Pneumovax",
          "Name": "Steven Alexander",
          "Percentage": 0.6571,
          "Type": "Individual"
         },
         {
          "Clinic": "BellB",
          "Date": "2018-01-15",
          "Metric": "Smoker Pneumovax",
          "Name": "Greg Anderson",
          "Percentage": 0.4333,
          "Type": "Individual"
         },
         {
          "Clinic": "FHA",
          "Date": "2018-01-15",
          "Metric": "Smoker Pneumovax",
          "Name": "Rodney Anderson",
          "Percentage": 0.66,
          "Type": "Individual"
         },
         {
          "Clinic": "FFMC",
          "Date": "2018-01-15",
          "Metric": "Smoker Pneumovax",
          "Name": "Jennifer Bates",
          "Percentage": 0.5692,
          "Type": "Individual"
         },
         {
          "Clinic": "WFM",
          "Date": "2018-01-15",
          "Metric": "Smoker Pneumovax",
          "Name": "Shannon Billau",
          "Percentage": 0.4,
          "Type": "Individual"
         },
         {
          "Clinic": "WFM",
          "Date": "2018-01-15",
          "Metric": "Smoker Pneumovax",
          "Name": "Richard Binder",
          "Percentage": 0.6444,
          "Type": "Individual"
         },
         {
          "Clinic": "IFP",
          "Date": "2018-01-15",
          "Metric": "Smoker Pneumovax",
          "Name": "Franklin Bjorseth",
          "Percentage": 0.4322,
          "Type": "Individual"
         },
         {
          "Clinic": "FHA",
          "Date": "2018-01-15",
          "Metric": "Smoker Pneumovax",
          "Name": "Edward Bloom",
          "Percentage": 0.4492,
          "Type": "Individual"
         },
         {
          "Clinic": "FHA",
          "Date": "2018-01-15",
          "Metric": "Smoker Pneumovax",
          "Name": "Jessica Bloom",
          "Percentage": 0.2778,
          "Type": "Individual"
         },
         {
          "Clinic": "WFM",
          "Date": "2018-01-15",
          "Metric": "Smoker Pneumovax",
          "Name": "Steven Bloom",
          "Percentage": 0.4227,
          "Type": "Individual"
         },
         {
          "Clinic": "BellB",
          "Date": "2018-01-15",
          "Metric": "Smoker Pneumovax",
          "Name": "Ian Bonner",
          "Percentage": 0.378,
          "Type": "Individual"
         },
         {
          "Clinic": "BellB",
          "Date": "2018-01-15",
          "Metric": "Smoker Pneumovax",
          "Name": "Sara Bowling",
          "Percentage": 0.3176,
          "Type": "Individual"
         },
         {
          "Clinic": "NSFM",
          "Date": "2018-01-15",
          "Metric": "Smoker Pneumovax",
          "Name": "Rory Bradt",
          "Percentage": 0.391,
          "Type": "Individual"
         },
         {
          "Clinic": "FFMC",
          "Date": "2018-01-15",
          "Metric": "Smoker Pneumovax",
          "Name": "Rebecca Brejcha",
          "Percentage": null,
          "Type": "Individual"
         },
         {
          "Clinic": "NSFM",
          "Date": "2018-01-15",
          "Metric": "Smoker Pneumovax",
          "Name": "Lisa Brodsky",
          "Percentage": 0.2258,
          "Type": "Individual"
         },
         {
          "Clinic": "LFM",
          "Date": "2018-01-15",
          "Metric": "Smoker Pneumovax",
          "Name": "Margaret Burden",
          "Percentage": 0.3784,
          "Type": "Individual"
         },
         {
          "Clinic": "NCFP",
          "Date": "2018-01-15",
          "Metric": "Smoker Pneumovax",
          "Name": "Erik Bylund",
          "Percentage": 0.2932,
          "Type": "Individual"
         },
         {
          "Clinic": "LFM",
          "Date": "2018-01-15",
          "Metric": "Smoker Pneumovax",
          "Name": "Robin Caldwell",
          "Percentage": 0.4417,
          "Type": "Individual"
         },
         {
          "Clinic": "NSFM",
          "Date": "2018-01-15",
          "Metric": "Smoker Pneumovax",
          "Name": "William Eiford",
          "Percentage": null,
          "Type": "Individual"
         },
         {
          "Clinic": "NCFP",
          "Date": "2018-01-15",
          "Metric": "Smoker Pneumovax",
          "Name": "Roger Estep",
          "Percentage": 0.234,
          "Type": "Individual"
         },
         {
          "Clinic": "LFM",
          "Date": "2018-01-15",
          "Metric": "Smoker Pneumovax",
          "Name": "Michael Fleming",
          "Percentage": 0.3279,
          "Type": "Individual"
         },
         {
          "Clinic": "NSFM",
          "Date": "2018-01-15",
          "Metric": "Smoker Pneumovax",
          "Name": "Anneliese Floyd",
          "Percentage": 0.5128,
          "Type": "Individual"
         },
         {
          "Clinic": "BellB",
          "Date": "2018-01-15",
          "Metric": "Smoker Pneumovax",
          "Name": "Laura Fox",
          "Percentage": 0.4468,
          "Type": "Individual"
         },
         {
          "Clinic": "FFMC",
          "Date": "2018-01-15",
          "Metric": "Smoker Pneumovax",
          "Name": "Renay Fredette",
          "Percentage": 0.5323,
          "Type": "Individual"
         },
         {
          "Clinic": "NCFP",
          "Date": "2018-01-15",
          "Metric": "Smoker Pneumovax",
          "Name": "Kay-Kay Gambs",
          "Percentage": 0.1864,
          "Type": "Individual"
         },
         {
          "Clinic": "NCFP",
          "Date": "2018-01-15",
          "Metric": "Smoker Pneumovax",
          "Name": "Jonathan Gamson",
          "Percentage": 0.2923,
          "Type": "Individual"
         },
         {
          "Clinic": "NSFM",
          "Date": "2018-01-15",
          "Metric": "Smoker Pneumovax",
          "Name": "Elizabeth Gaylord",
          "Percentage": 0.4643,
          "Type": "Individual"
         },
         {
          "Clinic": "IFP",
          "Date": "2018-01-15",
          "Metric": "Smoker Pneumovax",
          "Name": "Karen Goodman",
          "Percentage": 0.2895,
          "Type": "Individual"
         },
         {
          "Clinic": "FHA",
          "Date": "2018-01-15",
          "Metric": "Smoker Pneumovax",
          "Name": "Deborah Hall",
          "Percentage": 0.5789,
          "Type": "Individual"
         },
         {
          "Clinic": "NCFP",
          "Date": "2018-01-15",
          "Metric": "Smoker Pneumovax",
          "Name": "Janet Hansom",
          "Percentage": 0.5667,
          "Type": "Individual"
         },
         {
          "Clinic": "LFM",
          "Date": "2018-01-15",
          "Metric": "Smoker Pneumovax",
          "Name": "Larry Hartwell",
          "Percentage": 0.5,
          "Type": "Individual"
         },
         {
          "Clinic": "SFM",
          "Date": "2018-01-15",
          "Metric": "Smoker Pneumovax",
          "Name": "Shelby Hein",
          "Percentage": 0.4918,
          "Type": "Individual"
         },
         {
          "Clinic": "SFM",
          "Date": "2018-01-15",
          "Metric": "Smoker Pneumovax",
          "Name": "Harry Herdman",
          "Percentage": 0.6164,
          "Type": "Individual"
         },
         {
          "Clinic": "NSFM",
          "Date": "2018-01-15",
          "Metric": "Smoker Pneumovax",
          "Name": "Sarah Herman",
          "Percentage": null,
          "Type": "Individual"
         },
         {
          "Clinic": "LFM",
          "Date": "2018-01-15",
          "Metric": "Smoker Pneumovax",
          "Name": "John Hiemstra",
          "Percentage": 0.5302,
          "Type": "Individual"
         },
         {
          "Clinic": "SFM",
          "Date": "2018-01-15",
          "Metric": "Smoker Pneumovax",
          "Name": "Heather Honey",
          "Percentage": 0.4194,
          "Type": "Individual"
         },
         {
          "Clinic": "FHA",
          "Date": "2018-01-15",
          "Metric": "Smoker Pneumovax",
          "Name": "Ryan Honey",
          "Percentage": 0.2898,
          "Type": "Individual"
         },
         {
          "Clinic": "BellB",
          "Date": "2018-01-15",
          "Metric": "Smoker Pneumovax",
          "Name": "Jim Hopper",
          "Percentage": 0.449,
          "Type": "Individual"
         },
         {
          "Clinic": "FFMC",
          "Date": "2018-01-15",
          "Metric": "Smoker Pneumovax",
          "Name": "John Hruby",
          "Percentage": 0.4622,
          "Type": "Individual"
         },
         {
          "Clinic": "FHA",
          "Date": "2018-01-15",
          "Metric": "Smoker Pneumovax",
          "Name": "Kellie Jacobs",
          "Percentage": 0.4255,
          "Type": "Individual"
         },
         {
          "Clinic": "IFP",
          "Date": "2018-01-15",
          "Metric": "Smoker Pneumovax",
          "Name": "Michael James",
          "Percentage": 0.2021,
          "Type": "Individual"
         },
         {
          "Clinic": "FHA",
          "Date": "2018-01-15",
          "Metric": "Smoker Pneumovax",
          "Name": "Sharon Kerlin",
          "Percentage": null,
          "Type": "Individual"
         },
         {
          "Clinic": "BBFM",
          "Date": "2018-01-15",
          "Metric": "Smoker Pneumovax",
          "Name": "Jessica Klassen",
          "Percentage": 0.2373,
          "Type": "Individual"
         },
         {
          "Clinic": "FHA",
          "Date": "2018-01-15",
          "Metric": "Smoker Pneumovax",
          "Name": "Meghan Lelonek",
          "Percentage": 0.3647,
          "Type": "Individual"
         },
         {
          "Clinic": "FFMC",
          "Date": "2018-01-15",
          "Metric": "Smoker Pneumovax",
          "Name": "Stephen Lewis",
          "Percentage": 0.4468,
          "Type": "Individual"
         },
         {
          "Clinic": "FFMC",
          "Date": "2018-01-15",
          "Metric": "Smoker Pneumovax",
          "Name": "Erin Maloney",
          "Percentage": null,
          "Type": "Individual"
         },
         {
          "Clinic": "NCFP",
          "Date": "2018-01-15",
          "Metric": "Smoker Pneumovax",
          "Name": "Ross McConahey",
          "Percentage": null,
          "Type": "Individual"
         },
         {
          "Clinic": "NSFM",
          "Date": "2018-01-15",
          "Metric": "Smoker Pneumovax",
          "Name": "Patrick McLaughlin",
          "Percentage": 0.36,
          "Type": "Individual"
         },
         {
          "Clinic": "NCFP",
          "Date": "2018-01-15",
          "Metric": "Smoker Pneumovax",
          "Name": "Sally McPherson",
          "Percentage": 0.3421,
          "Type": "Individual"
         },
         {
          "Clinic": "NCFP",
          "Date": "2018-01-15",
          "Metric": "Smoker Pneumovax",
          "Name": "Lucia Muller",
          "Percentage": 0.5,
          "Type": "Individual"
         },
         {
          "Clinic": "BellB",
          "Date": "2018-01-15",
          "Metric": "Smoker Pneumovax",
          "Name": "Karen O’Keefe",
          "Percentage": 0.3095,
          "Type": "Individual"
         },
         {
          "Clinic": "SFM",
          "Date": "2018-01-15",
          "Metric": "Smoker Pneumovax",
          "Name": "Lillian Pavlik",
          "Percentage": null,
          "Type": "Individual"
         },
         {
          "Clinic": "LFM",
          "Date": "2018-01-15",
          "Metric": "Smoker Pneumovax",
          "Name": "Patricia Payne-Zajac",
          "Percentage": 0.3953,
          "Type": "Individual"
         },
         {
          "Clinic": "NCFP",
          "Date": "2018-01-15",
          "Metric": "Smoker Pneumovax",
          "Name": "Jonathan Ploudre",
          "Percentage": 0.5,
          "Type": "Individual"
         },
         {
          "Clinic": "NSFM",
          "Date": "2018-01-15",
          "Metric": "Smoker Pneumovax",
          "Name": "John Raduege",
          "Percentage": 0.5053,
          "Type": "Individual"
         },
         {
          "Clinic": "BBFM",
          "Date": "2018-01-15",
          "Metric": "Smoker Pneumovax",
          "Name": "Teresa Regier",
          "Percentage": 0.2345,
          "Type": "Individual"
         },
         {
          "Clinic": "FFMC",
          "Date": "2018-01-15",
          "Metric": "Smoker Pneumovax",
          "Name": "Claudia Rey",
          "Percentage": 0.5093,
          "Type": "Individual"
         },
         {
          "Clinic": "IFP",
          "Date": "2018-01-15",
          "Metric": "Smoker Pneumovax",
          "Name": "Robert Rieger",
          "Percentage": 0.5714,
          "Type": "Individual"
         },
         {
          "Clinic": "SFM",
          "Date": "2018-01-15",
          "Metric": "Smoker Pneumovax",
          "Name": "Deborah Roessler",
          "Percentage": 0.5745,
          "Type": "Individual"
         },
         {
          "Clinic": "FFMC",
          "Date": "2018-01-15",
          "Metric": "Smoker Pneumovax",
          "Name": "Berdi Sanford",
          "Percentage": 0.7375,
          "Type": "Individual"
         },
         {
          "Clinic": "NCFP",
          "Date": "2018-01-15",
          "Metric": "Smoker Pneumovax",
          "Name": "Lauren Sauve",
          "Percentage": 0.3239,
          "Type": "Individual"
         },
         {
          "Clinic": "BellB",
          "Date": "2018-01-15",
          "Metric": "Smoker Pneumovax",
          "Name": "Melana Schimke",
          "Percentage": 0.1692,
          "Type": "Individual"
         },
         {
          "Clinic": "FHA",
          "Date": "2018-01-15",
          "Metric": "Smoker Pneumovax",
          "Name": "Miriam Shapiro",
          "Percentage": 0.5405,
          "Type": "Individual"
         },
         {
          "Clinic": "NSFM",
          "Date": "2018-01-15",
          "Metric": "Smoker Pneumovax",
          "Name": "Jason Short",
          "Percentage": 0.41,
          "Type": "Individual"
         },
         {
          "Clinic": "NSFM",
          "Date": "2018-01-15",
          "Metric": "Smoker Pneumovax",
          "Name": "Vicki Short",
          "Percentage": 0.5301,
          "Type": "Individual"
         },
         {
          "Clinic": "LFM",
          "Date": "2018-01-15",
          "Metric": "Smoker Pneumovax",
          "Name": "Ashley Snyder",
          "Percentage": 0.4615,
          "Type": "Individual"
         },
         {
          "Clinic": "FFMC",
          "Date": "2018-01-15",
          "Metric": "Smoker Pneumovax",
          "Name": "Kalani Synder",
          "Percentage": 0.2079,
          "Type": "Individual"
         },
         {
          "Clinic": "NSFM",
          "Date": "2018-01-15",
          "Metric": "Smoker Pneumovax",
          "Name": "Mary Swanson",
          "Percentage": 0.4375,
          "Type": "Individual"
         },
         {
          "Clinic": "IFP",
          "Date": "2018-01-15",
          "Metric": "Smoker Pneumovax",
          "Name": "Magaret Sweeney",
          "Percentage": 0.4186,
          "Type": "Individual"
         },
         {
          "Clinic": "WFM",
          "Date": "2018-01-15",
          "Metric": "Smoker Pneumovax",
          "Name": "Heather Thomson",
          "Percentage": 0.25,
          "Type": "Individual"
         },
         {
          "Clinic": "BellB",
          "Date": "2018-01-15",
          "Metric": "Smoker Pneumovax",
          "Name": "Lisa Van Hofwegen",
          "Percentage": 0.4074,
          "Type": "Individual"
         },
         {
          "Clinic": "NSFM",
          "Date": "2018-01-15",
          "Metric": "Smoker Pneumovax",
          "Name": "April Wakefield-Pagels",
          "Percentage": 0.5435,
          "Type": "Individual"
         },
         {
          "Clinic": "SFM",
          "Date": "2018-01-15",
          "Metric": "Smoker Pneumovax",
          "Name": "Joy Welty",
          "Percentage": 0.44,
          "Type": "Individual"
         },
         {
          "Clinic": "SFM",
          "Date": "2018-01-15",
          "Metric": "Smoker Pneumovax",
          "Name": "Matt Werner",
          "Percentage": 0.6296,
          "Type": "Individual"
         },
         {
          "Clinic": "NCFP",
          "Date": "2018-01-15",
          "Metric": "Smoker Pneumovax",
          "Name": "Sloane Winkes",
          "Percentage": 0.5676,
          "Type": "Individual"
         },
         {
          "Clinic": "NSFM",
          "Date": "2018-01-15",
          "Metric": "Smoker Pneumovax",
          "Name": "Ying Wu",
          "Percentage": 0.5152,
          "Type": "Individual"
         },
         {
          "Clinic": "FHA",
          "Date": "2018-01-15",
          "Metric": "Smoker Pneumovax",
          "Name": "Ashley Yoder",
          "Percentage": 0.3333,
          "Type": "Individual"
         },
         {
          "Clinic": "LFM",
          "Date": "2017-11-13",
          "Metric": "Smoker Pneumovax",
          "Name": "Steven Alexander",
          "Percentage": 0.6351,
          "Type": "Individual"
         },
         {
          "Clinic": "BellB",
          "Date": "2017-11-13",
          "Metric": "Smoker Pneumovax",
          "Name": "Greg Anderson",
          "Percentage": 0.413,
          "Type": "Individual"
         },
         {
          "Clinic": "FHA",
          "Date": "2017-11-13",
          "Metric": "Smoker Pneumovax",
          "Name": "Rodney Anderson",
          "Percentage": 0.614,
          "Type": "Individual"
         },
         {
          "Clinic": "FFMC",
          "Date": "2017-11-13",
          "Metric": "Smoker Pneumovax",
          "Name": "Jennifer Bates",
          "Percentage": 0.5909,
          "Type": "Individual"
         },
         {
          "Clinic": "WFM",
          "Date": "2017-11-13",
          "Metric": "Smoker Pneumovax",
          "Name": "Shannon Billau",
          "Percentage": 0.4,
          "Type": "Individual"
         },
         {
          "Clinic": "WFM",
          "Date": "2017-11-13",
          "Metric": "Smoker Pneumovax",
          "Name": "Richard Binder",
          "Percentage": 0.6522,
          "Type": "Individual"
         },
         {
          "Clinic": "IFP",
          "Date": "2017-11-13",
          "Metric": "Smoker Pneumovax",
          "Name": "Franklin Bjorseth",
          "Percentage": 0.4,
          "Type": "Individual"
         },
         {
          "Clinic": "FHA",
          "Date": "2017-11-13",
          "Metric": "Smoker Pneumovax",
          "Name": "Edward Bloom",
          "Percentage": 0.4146,
          "Type": "Individual"
         },
         {
          "Clinic": "FHA",
          "Date": "2017-11-13",
          "Metric": "Smoker Pneumovax",
          "Name": "Jessica Bloom",
          "Percentage": 0.2941,
          "Type": "Individual"
         },
         {
          "Clinic": "WFM",
          "Date": "2017-11-13",
          "Metric": "Smoker Pneumovax",
          "Name": "Steven Bloom",
          "Percentage": 0.4105,
          "Type": "Individual"
         },
         {
          "Clinic": "BellB",
          "Date": "2017-11-13",
          "Metric": "Smoker Pneumovax",
          "Name": "Ian Bonner",
          "Percentage": 0.3435,
          "Type": "Individual"
         },
         {
          "Clinic": "BellB",
          "Date": "2017-11-13",
          "Metric": "Smoker Pneumovax",
          "Name": "Sara Bowling",
          "Percentage": 0.2857,
          "Type": "Individual"
         },
         {
          "Clinic": "NSFM",
          "Date": "2017-11-13",
          "Metric": "Smoker Pneumovax",
          "Name": "Rory Bradt",
          "Percentage": 0.3768,
          "Type": "Individual"
         },
         {
          "Clinic": "FFMC",
          "Date": "2017-11-13",
          "Metric": "Smoker Pneumovax",
          "Name": "Rebecca Brejcha",
          "Percentage": null,
          "Type": "Individual"
         },
         {
          "Clinic": "NSFM",
          "Date": "2017-11-13",
          "Metric": "Smoker Pneumovax",
          "Name": "Lisa Brodsky",
          "Percentage": 0.25,
          "Type": "Individual"
         },
         {
          "Clinic": "LFM",
          "Date": "2017-11-13",
          "Metric": "Smoker Pneumovax",
          "Name": "Margaret Burden",
          "Percentage": 0.4103,
          "Type": "Individual"
         },
         {
          "Clinic": "NCFP",
          "Date": "2017-11-13",
          "Metric": "Smoker Pneumovax",
          "Name": "Erik Bylund",
          "Percentage": 0.2794,
          "Type": "Individual"
         },
         {
          "Clinic": "LFM",
          "Date": "2017-11-13",
          "Metric": "Smoker Pneumovax",
          "Name": "Robin Caldwell",
          "Percentage": 0.4364,
          "Type": "Individual"
         },
         {
          "Clinic": "NSFM",
          "Date": "2017-11-13",
          "Metric": "Smoker Pneumovax",
          "Name": "William Eiford",
          "Percentage": null,
          "Type": "Individual"
         },
         {
          "Clinic": "NCFP",
          "Date": "2017-11-13",
          "Metric": "Smoker Pneumovax",
          "Name": "Roger Estep",
          "Percentage": 0.2041,
          "Type": "Individual"
         },
         {
          "Clinic": "LFM",
          "Date": "2017-11-13",
          "Metric": "Smoker Pneumovax",
          "Name": "Michael Fleming",
          "Percentage": 0.2745,
          "Type": "Individual"
         },
         {
          "Clinic": "NSFM",
          "Date": "2017-11-13",
          "Metric": "Smoker Pneumovax",
          "Name": "Anneliese Floyd",
          "Percentage": 0.525,
          "Type": "Individual"
         },
         {
          "Clinic": "BellB",
          "Date": "2017-11-13",
          "Metric": "Smoker Pneumovax",
          "Name": "Laura Fox",
          "Percentage": 0.4444,
          "Type": "Individual"
         },
         {
          "Clinic": "FFMC",
          "Date": "2017-11-13",
          "Metric": "Smoker Pneumovax",
          "Name": "Renay Fredette",
          "Percentage": 0.5469,
          "Type": "Individual"
         },
         {
          "Clinic": "NCFP",
          "Date": "2017-11-13",
          "Metric": "Smoker Pneumovax",
          "Name": "Kay-Kay Gambs",
          "Percentage": 0.1653,
          "Type": "Individual"
         },
         {
          "Clinic": "NCFP",
          "Date": "2017-11-13",
          "Metric": "Smoker Pneumovax",
          "Name": "Jonathan Gamson",
          "Percentage": 0.2692,
          "Type": "Individual"
         },
         {
          "Clinic": "NSFM",
          "Date": "2017-11-13",
          "Metric": "Smoker Pneumovax",
          "Name": "Elizabeth Gaylord",
          "Percentage": 0.4516,
          "Type": "Individual"
         },
         {
          "Clinic": "IFP",
          "Date": "2017-11-13",
          "Metric": "Smoker Pneumovax",
          "Name": "Karen Goodman",
          "Percentage": 0.2439,
          "Type": "Individual"
         },
         {
          "Clinic": "FHA",
          "Date": "2017-11-13",
          "Metric": "Smoker Pneumovax",
          "Name": "Deborah Hall",
          "Percentage": 0.5584,
          "Type": "Individual"
         },
         {
          "Clinic": "NCFP",
          "Date": "2017-11-13",
          "Metric": "Smoker Pneumovax",
          "Name": "Janet Hansom",
          "Percentage": 0.5517,
          "Type": "Individual"
         },
         {
          "Clinic": "LFM",
          "Date": "2017-11-13",
          "Metric": "Smoker Pneumovax",
          "Name": "Larry Hartwell",
          "Percentage": 0.5091,
          "Type": "Individual"
         },
         {
          "Clinic": "SFM",
          "Date": "2017-11-13",
          "Metric": "Smoker Pneumovax",
          "Name": "Shelby Hein",
          "Percentage": 0.4839,
          "Type": "Individual"
         },
         {
          "Clinic": "SFM",
          "Date": "2017-11-13",
          "Metric": "Smoker Pneumovax",
          "Name": "Harry Herdman",
          "Percentage": 0.6,
          "Type": "Individual"
         },
         {
          "Clinic": "NSFM",
          "Date": "2017-11-13",
          "Metric": "Smoker Pneumovax",
          "Name": "Sarah Herman",
          "Percentage": null,
          "Type": "Individual"
         },
         {
          "Clinic": "LFM",
          "Date": "2017-11-13",
          "Metric": "Smoker Pneumovax",
          "Name": "John Hiemstra",
          "Percentage": 0.5232,
          "Type": "Individual"
         },
         {
          "Clinic": "SFM",
          "Date": "2017-11-13",
          "Metric": "Smoker Pneumovax",
          "Name": "Heather Honey",
          "Percentage": 0.4,
          "Type": "Individual"
         },
         {
          "Clinic": "FHA",
          "Date": "2017-11-13",
          "Metric": "Smoker Pneumovax",
          "Name": "Ryan Honey",
          "Percentage": 0.1765,
          "Type": "Individual"
         },
         {
          "Clinic": "BellB",
          "Date": "2017-11-13",
          "Metric": "Smoker Pneumovax",
          "Name": "Jim Hopper",
          "Percentage": 0.4583,
          "Type": "Individual"
         },
         {
          "Clinic": "FFMC",
          "Date": "2017-11-13",
          "Metric": "Smoker Pneumovax",
          "Name": "John Hruby",
          "Percentage": 0.4444,
          "Type": "Individual"
         },
         {
          "Clinic": "FHA",
          "Date": "2017-11-13",
          "Metric": "Smoker Pneumovax",
          "Name": "Kellie Jacobs",
          "Percentage": 0.4375,
          "Type": "Individual"
         },
         {
          "Clinic": "IFP",
          "Date": "2017-11-13",
          "Metric": "Smoker Pneumovax",
          "Name": "Michael James",
          "Percentage": 0.1848,
          "Type": "Individual"
         },
         {
          "Clinic": "FHA",
          "Date": "2017-11-13",
          "Metric": "Smoker Pneumovax",
          "Name": "Sharon Kerlin",
          "Percentage": null,
          "Type": "Individual"
         },
         {
          "Clinic": "BBFM",
          "Date": "2017-11-13",
          "Metric": "Smoker Pneumovax",
          "Name": "Jessica Klassen",
          "Percentage": 0.0769,
          "Type": "Individual"
         },
         {
          "Clinic": "FHA",
          "Date": "2017-11-13",
          "Metric": "Smoker Pneumovax",
          "Name": "Meghan Lelonek",
          "Percentage": 0.3373,
          "Type": "Individual"
         },
         {
          "Clinic": "FFMC",
          "Date": "2017-11-13",
          "Metric": "Smoker Pneumovax",
          "Name": "Stephen Lewis",
          "Percentage": 0.4385,
          "Type": "Individual"
         },
         {
          "Clinic": "FFMC",
          "Date": "2017-11-13",
          "Metric": "Smoker Pneumovax",
          "Name": "Erin Maloney",
          "Percentage": null,
          "Type": "Individual"
         },
         {
          "Clinic": "NCFP",
          "Date": "2017-11-13",
          "Metric": "Smoker Pneumovax",
          "Name": "Ross McConahey",
          "Percentage": null,
          "Type": "Individual"
         },
         {
          "Clinic": "NSFM",
          "Date": "2017-11-13",
          "Metric": "Smoker Pneumovax",
          "Name": "Patrick McLaughlin",
          "Percentage": 0.3425,
          "Type": "Individual"
         },
         {
          "Clinic": "NCFP",
          "Date": "2017-11-13",
          "Metric": "Smoker Pneumovax",
          "Name": "Sally McPherson",
          "Percentage": 0.3246,
          "Type": "Individual"
         },
         {
          "Clinic": "NCFP",
          "Date": "2017-11-13",
          "Metric": "Smoker Pneumovax",
          "Name": "Lucia Muller",
          "Percentage": 0.4773,
          "Type": "Individual"
         },
         {
          "Clinic": "BellB",
          "Date": "2017-11-13",
          "Metric": "Smoker Pneumovax",
          "Name": "Karen O’Keefe",
          "Percentage": 0.2381,
          "Type": "Individual"
         },
         {
          "Clinic": "SFM",
          "Date": "2017-11-13",
          "Metric": "Smoker Pneumovax",
          "Name": "Lillian Pavlik",
          "Percentage": null,
          "Type": "Individual"
         },
         {
          "Clinic": "LFM",
          "Date": "2017-11-13",
          "Metric": "Smoker Pneumovax",
          "Name": "Patricia Payne-Zajac",
          "Percentage": 0.25,
          "Type": "Individual"
         },
         {
          "Clinic": "NCFP",
          "Date": "2017-11-13",
          "Metric": "Smoker Pneumovax",
          "Name": "Jonathan Ploudre",
          "Percentage": 0.4953,
          "Type": "Individual"
         },
         {
          "Clinic": "NSFM",
          "Date": "2017-11-13",
          "Metric": "Smoker Pneumovax",
          "Name": "John Raduege",
          "Percentage": 0.4896,
          "Type": "Individual"
         },
         {
          "Clinic": "BBFM",
          "Date": "2017-11-13",
          "Metric": "Smoker Pneumovax",
          "Name": "Teresa Regier",
          "Percentage": 0.2397,
          "Type": "Individual"
         },
         {
          "Clinic": "FFMC",
          "Date": "2017-11-13",
          "Metric": "Smoker Pneumovax",
          "Name": "Claudia Rey",
          "Percentage": 0.4783,
          "Type": "Individual"
         },
         {
          "Clinic": "IFP",
          "Date": "2017-11-13",
          "Metric": "Smoker Pneumovax",
          "Name": "Robert Rieger",
          "Percentage": 0.5256,
          "Type": "Individual"
         },
         {
          "Clinic": "SFM",
          "Date": "2017-11-13",
          "Metric": "Smoker Pneumovax",
          "Name": "Deborah Roessler",
          "Percentage": 0.5319,
          "Type": "Individual"
         },
         {
          "Clinic": "FFMC",
          "Date": "2017-11-13",
          "Metric": "Smoker Pneumovax",
          "Name": "Berdi Sanford",
          "Percentage": 0.7229,
          "Type": "Individual"
         },
         {
          "Clinic": "NCFP",
          "Date": "2017-11-13",
          "Metric": "Smoker Pneumovax",
          "Name": "Lauren Sauve",
          "Percentage": 0.3333,
          "Type": "Individual"
         },
         {
          "Clinic": "BellB",
          "Date": "2017-11-13",
          "Metric": "Smoker Pneumovax",
          "Name": "Melana Schimke",
          "Percentage": 0.1493,
          "Type": "Individual"
         },
         {
          "Clinic": "FHA",
          "Date": "2017-11-13",
          "Metric": "Smoker Pneumovax",
          "Name": "Miriam Shapiro",
          "Percentage": 0.5143,
          "Type": "Individual"
         },
         {
          "Clinic": "NSFM",
          "Date": "2017-11-13",
          "Metric": "Smoker Pneumovax",
          "Name": "Jason Short",
          "Percentage": 0.398,
          "Type": "Individual"
         },
         {
          "Clinic": "NSFM",
          "Date": "2017-11-13",
          "Metric": "Smoker Pneumovax",
          "Name": "Vicki Short",
          "Percentage": 0.4941,
          "Type": "Individual"
         },
         {
          "Clinic": "LFM",
          "Date": "2017-11-13",
          "Metric": "Smoker Pneumovax",
          "Name": "Ashley Snyder",
          "Percentage": 0.4706,
          "Type": "Individual"
         },
         {
          "Clinic": "FFMC",
          "Date": "2017-11-13",
          "Metric": "Smoker Pneumovax",
          "Name": "Kalani Synder",
          "Percentage": 0.2429,
          "Type": "Individual"
         },
         {
          "Clinic": "NSFM",
          "Date": "2017-11-13",
          "Metric": "Smoker Pneumovax",
          "Name": "Mary Swanson",
          "Percentage": 0.3939,
          "Type": "Individual"
         },
         {
          "Clinic": "IFP",
          "Date": "2017-11-13",
          "Metric": "Smoker Pneumovax",
          "Name": "Magaret Sweeney",
          "Percentage": 0.3333,
          "Type": "Individual"
         },
         {
          "Clinic": "WFM",
          "Date": "2017-11-13",
          "Metric": "Smoker Pneumovax",
          "Name": "Heather Thomson",
          "Percentage": 0.2,
          "Type": "Individual"
         },
         {
          "Clinic": "BellB",
          "Date": "2017-11-13",
          "Metric": "Smoker Pneumovax",
          "Name": "Lisa Van Hofwegen",
          "Percentage": 0.3667,
          "Type": "Individual"
         },
         {
          "Clinic": "NSFM",
          "Date": "2017-11-13",
          "Metric": "Smoker Pneumovax",
          "Name": "April Wakefield-Pagels",
          "Percentage": 0.5217,
          "Type": "Individual"
         },
         {
          "Clinic": "SFM",
          "Date": "2017-11-13",
          "Metric": "Smoker Pneumovax",
          "Name": "Joy Welty",
          "Percentage": 0.4375,
          "Type": "Individual"
         },
         {
          "Clinic": "SFM",
          "Date": "2017-11-13",
          "Metric": "Smoker Pneumovax",
          "Name": "Matt Werner",
          "Percentage": 0.6,
          "Type": "Individual"
         },
         {
          "Clinic": "NCFP",
          "Date": "2017-11-13",
          "Metric": "Smoker Pneumovax",
          "Name": "Sloane Winkes",
          "Percentage": 0.5676,
          "Type": "Individual"
         },
         {
          "Clinic": "NSFM",
          "Date": "2017-11-13",
          "Metric": "Smoker Pneumovax",
          "Name": "Ying Wu",
          "Percentage": 0.5143,
          "Type": "Individual"
         },
         {
          "Clinic": "LFM",
          "Date": "2017-08-21",
          "Metric": "Smoker Pneumovax",
          "Name": "Steven Alexander",
          "Percentage": 0.6076,
          "Type": "Individual"
         },
         {
          "Clinic": "BellB",
          "Date": "2017-08-21",
          "Metric": "Smoker Pneumovax",
          "Name": "Greg Anderson",
          "Percentage": 0.3804,
          "Type": "Individual"
         },
         {
          "Clinic": "FHA",
          "Date": "2017-08-21",
          "Metric": "Smoker Pneumovax",
          "Name": "Rodney Anderson",
          "Percentage": 0.6,
          "Type": "Individual"
         },
         {
          "Clinic": "FFMC",
          "Date": "2017-08-21",
          "Metric": "Smoker Pneumovax",
          "Name": "Jennifer Bates",
          "Percentage": 0.5775,
          "Type": "Individual"
         },
         {
          "Clinic": "WFM",
          "Date": "2017-08-21",
          "Metric": "Smoker Pneumovax",
          "Name": "Shannon Billau",
          "Percentage": 0.4,
          "Type": "Individual"
         },
         {
          "Clinic": "WFM",
          "Date": "2017-08-21",
          "Metric": "Smoker Pneumovax",
          "Name": "Richard Binder",
          "Percentage": 0.6889,
          "Type": "Individual"
         },
         {
          "Clinic": "IFP",
          "Date": "2017-08-21",
          "Metric": "Smoker Pneumovax",
          "Name": "Franklin Bjorseth",
          "Percentage": 0.3761,
          "Type": "Individual"
         },
         {
          "Clinic": "FHA",
          "Date": "2017-08-21",
          "Metric": "Smoker Pneumovax",
          "Name": "Edward Bloom",
          "Percentage": 0.3984,
          "Type": "Individual"
         },
         {
          "Clinic": "FHA",
          "Date": "2017-08-21",
          "Metric": "Smoker Pneumovax",
          "Name": "Jessica Bloom",
          "Percentage": 0.2941,
          "Type": "Individual"
         },
         {
          "Clinic": "WFM",
          "Date": "2017-08-21",
          "Metric": "Smoker Pneumovax",
          "Name": "Steven Bloom",
          "Percentage": 0.413,
          "Type": "Individual"
         },
         {
          "Clinic": "BellB",
          "Date": "2017-08-21",
          "Metric": "Smoker Pneumovax",
          "Name": "Ian Bonner",
          "Percentage": 0.2955,
          "Type": "Individual"
         },
         {
          "Clinic": "BellB",
          "Date": "2017-08-21",
          "Metric": "Smoker Pneumovax",
          "Name": "Sara Bowling",
          "Percentage": 0.2093,
          "Type": "Individual"
         },
         {
          "Clinic": "NSFM",
          "Date": "2017-08-21",
          "Metric": "Smoker Pneumovax",
          "Name": "Rory Bradt",
          "Percentage": 0.3451,
          "Type": "Individual"
         },
         {
          "Clinic": "FFMC",
          "Date": "2017-08-21",
          "Metric": "Smoker Pneumovax",
          "Name": "Rebecca Brejcha",
          "Percentage": null,
          "Type": "Individual"
         },
         {
          "Clinic": "NSFM",
          "Date": "2017-08-21",
          "Metric": "Smoker Pneumovax",
          "Name": "Lisa Brodsky",
          "Percentage": 0.2258,
          "Type": "Individual"
         },
         {
          "Clinic": "LFM",
          "Date": "2017-08-21",
          "Metric": "Smoker Pneumovax",
          "Name": "Margaret Burden",
          "Percentage": 0.3721,
          "Type": "Individual"
         },
         {
          "Clinic": "NCFP",
          "Date": "2017-08-21",
          "Metric": "Smoker Pneumovax",
          "Name": "Erik Bylund",
          "Percentage": 0.2248,
          "Type": "Individual"
         },
         {
          "Clinic": "LFM",
          "Date": "2017-08-21",
          "Metric": "Smoker Pneumovax",
          "Name": "Robin Caldwell",
          "Percentage": 0.4244,
          "Type": "Individual"
         },
         {
          "Clinic": "NSFM",
          "Date": "2017-08-21",
          "Metric": "Smoker Pneumovax",
          "Name": "William Eiford",
          "Percentage": null,
          "Type": "Individual"
         },
         {
          "Clinic": "NCFP",
          "Date": "2017-08-21",
          "Metric": "Smoker Pneumovax",
          "Name": "Roger Estep",
          "Percentage": 0.1702,
          "Type": "Individual"
         },
         {
          "Clinic": "LFM",
          "Date": "2017-08-21",
          "Metric": "Smoker Pneumovax",
          "Name": "Michael Fleming",
          "Percentage": 0.2821,
          "Type": "Individual"
         },
         {
          "Clinic": "NSFM",
          "Date": "2017-08-21",
          "Metric": "Smoker Pneumovax",
          "Name": "Anneliese Floyd",
          "Percentage": 0.5385,
          "Type": "Individual"
         },
         {
          "Clinic": "BellB",
          "Date": "2017-08-21",
          "Metric": "Smoker Pneumovax",
          "Name": "Laura Fox",
          "Percentage": 0.3864,
          "Type": "Individual"
         },
         {
          "Clinic": "FFMC",
          "Date": "2017-08-21",
          "Metric": "Smoker Pneumovax",
          "Name": "Renay Fredette",
          "Percentage": 0.5455,
          "Type": "Individual"
         },
         {
          "Clinic": "NCFP",
          "Date": "2017-08-21",
          "Metric": "Smoker Pneumovax",
          "Name": "Kay-Kay Gambs",
          "Percentage": 0.1579,
          "Type": "Individual"
         },
         {
          "Clinic": "NCFP",
          "Date": "2017-08-21",
          "Metric": "Smoker Pneumovax",
          "Name": "Jonathan Gamson",
          "Percentage": 0.2279,
          "Type": "Individual"
         },
         {
          "Clinic": "NSFM",
          "Date": "2017-08-21",
          "Metric": "Smoker Pneumovax",
          "Name": "Elizabeth Gaylord",
          "Percentage": 0.3939,
          "Type": "Individual"
         },
         {
          "Clinic": "IFP",
          "Date": "2017-08-21",
          "Metric": "Smoker Pneumovax",
          "Name": "Karen Goodman",
          "Percentage": 0.3708,
          "Type": "Individual"
         },
         {
          "Clinic": "FHA",
          "Date": "2017-08-21",
          "Metric": "Smoker Pneumovax",
          "Name": "Deborah Hall",
          "Percentage": 0.5301,
          "Type": "Individual"
         },
         {
          "Clinic": "NCFP",
          "Date": "2017-08-21",
          "Metric": "Smoker Pneumovax",
          "Name": "Janet Hansom",
          "Percentage": 0.4839,
          "Type": "Individual"
         },
         {
          "Clinic": "LFM",
          "Date": "2017-08-21",
          "Metric": "Smoker Pneumovax",
          "Name": "Larry Hartwell",
          "Percentage": 0.5094,
          "Type": "Individual"
         },
         {
          "Clinic": "SFM",
          "Date": "2017-08-21",
          "Metric": "Smoker Pneumovax",
          "Name": "Shelby Hein",
          "Percentage": 0.459,
          "Type": "Individual"
         },
         {
          "Clinic": "SFM",
          "Date": "2017-08-21",
          "Metric": "Smoker Pneumovax",
          "Name": "Harry Herdman",
          "Percentage": 0.5753,
          "Type": "Individual"
         },
         {
          "Clinic": "NSFM",
          "Date": "2017-08-21",
          "Metric": "Smoker Pneumovax",
          "Name": "Sarah Herman",
          "Percentage": null,
          "Type": "Individual"
         },
         {
          "Clinic": "LFM",
          "Date": "2017-08-21",
          "Metric": "Smoker Pneumovax",
          "Name": "John Hiemstra",
          "Percentage": 0.5163,
          "Type": "Individual"
         },
         {
          "Clinic": "BellB",
          "Date": "2017-08-21",
          "Metric": "Smoker Pneumovax",
          "Name": "Jim Hopper",
          "Percentage": 0.38,
          "Type": "Individual"
         },
         {
          "Clinic": "FFMC",
          "Date": "2017-08-21",
          "Metric": "Smoker Pneumovax",
          "Name": "John Hruby",
          "Percentage": 0.459,
          "Type": "Individual"
         },
         {
          "Clinic": "FHA",
          "Date": "2017-08-21",
          "Metric": "Smoker Pneumovax",
          "Name": "Kellie Jacobs",
          "Percentage": 0.4286,
          "Type": "Individual"
         },
         {
          "Clinic": "IFP",
          "Date": "2017-08-21",
          "Metric": "Smoker Pneumovax",
          "Name": "Michael James",
          "Percentage": 0.1667,
          "Type": "Individual"
         },
         {
          "Clinic": "FHA",
          "Date": "2017-08-21",
          "Metric": "Smoker Pneumovax",
          "Name": "Meghan Lelonek",
          "Percentage": 0.3146,
          "Type": "Individual"
         },
         {
          "Clinic": "FFMC",
          "Date": "2017-08-21",
          "Metric": "Smoker Pneumovax",
          "Name": "Stephen Lewis",
          "Percentage": 0.4405,
          "Type": "Individual"
         },
         {
          "Clinic": "FFMC",
          "Date": "2017-08-21",
          "Metric": "Smoker Pneumovax",
          "Name": "Erin Maloney",
          "Percentage": null,
          "Type": "Individual"
         },
         {
          "Clinic": "NCFP",
          "Date": "2017-08-21",
          "Metric": "Smoker Pneumovax",
          "Name": "Ross McConahey",
          "Percentage": null,
          "Type": "Individual"
         },
         {
          "Clinic": "NSFM",
          "Date": "2017-08-21",
          "Metric": "Smoker Pneumovax",
          "Name": "Patrick McLaughlin",
          "Percentage": 0.3768,
          "Type": "Individual"
         },
         {
          "Clinic": "NCFP",
          "Date": "2017-08-21",
          "Metric": "Smoker Pneumovax",
          "Name": "Sally McPherson",
          "Percentage": 0.301,
          "Type": "Individual"
         },
         {
          "Clinic": "NCFP",
          "Date": "2017-08-21",
          "Metric": "Smoker Pneumovax",
          "Name": "Lucia Muller",
          "Percentage": 0.4186,
          "Type": "Individual"
         },
         {
          "Clinic": "BellB",
          "Date": "2017-08-21",
          "Metric": "Smoker Pneumovax",
          "Name": "Karen O’Keefe",
          "Percentage": 0.2381,
          "Type": "Individual"
         },
         {
          "Clinic": "SFM",
          "Date": "2017-08-21",
          "Metric": "Smoker Pneumovax",
          "Name": "Lillian Pavlik",
          "Percentage": null,
          "Type": "Individual"
         },
         {
          "Clinic": "LFM",
          "Date": "2017-08-21",
          "Metric": "Smoker Pneumovax",
          "Name": "Patricia Payne-Zajac",
          "Percentage": null,
          "Type": "Individual"
         },
         {
          "Clinic": "NCFP",
          "Date": "2017-08-21",
          "Metric": "Smoker Pneumovax",
          "Name": "Jonathan Ploudre",
          "Percentage": 0.3717,
          "Type": "Individual"
         },
         {
          "Clinic": "NSFM",
          "Date": "2017-08-21",
          "Metric": "Smoker Pneumovax",
          "Name": "John Raduege",
          "Percentage": 0.4583,
          "Type": "Individual"
         },
         {
          "Clinic": "BBFM",
          "Date": "2017-08-21",
          "Metric": "Smoker Pneumovax",
          "Name": "Teresa Regier",
          "Percentage": 0.2303,
          "Type": "Individual"
         },
         {
          "Clinic": "FFMC",
          "Date": "2017-08-21",
          "Metric": "Smoker Pneumovax",
          "Name": "Claudia Rey",
          "Percentage": 0.4351,
          "Type": "Individual"
         },
         {
          "Clinic": "IFP",
          "Date": "2017-08-21",
          "Metric": "Smoker Pneumovax",
          "Name": "Robert Rieger",
          "Percentage": 0.4545,
          "Type": "Individual"
         },
         {
          "Clinic": "SFM",
          "Date": "2017-08-21",
          "Metric": "Smoker Pneumovax",
          "Name": "Deborah Roessler",
          "Percentage": 0.49,
          "Type": "Individual"
         },
         {
          "Clinic": "FFMC",
          "Date": "2017-08-21",
          "Metric": "Smoker Pneumovax",
          "Name": "Berdi Sanford",
          "Percentage": 0.6932,
          "Type": "Individual"
         },
         {
          "Clinic": "NCFP",
          "Date": "2017-08-21",
          "Metric": "Smoker Pneumovax",
          "Name": "Lauren Sauve",
          "Percentage": 0.3238,
          "Type": "Individual"
         },
         {
          "Clinic": "BellB",
          "Date": "2017-08-21",
          "Metric": "Smoker Pneumovax",
          "Name": "Melana Schimke",
          "Percentage": 0.1176,
          "Type": "Individual"
         },
         {
          "Clinic": "FHA",
          "Date": "2017-08-21",
          "Metric": "Smoker Pneumovax",
          "Name": "Miriam Shapiro",
          "Percentage": 0.4054,
          "Type": "Individual"
         },
         {
          "Clinic": "NSFM",
          "Date": "2017-08-21",
          "Metric": "Smoker Pneumovax",
          "Name": "Jason Short",
          "Percentage": 0.4,
          "Type": "Individual"
         },
         {
          "Clinic": "NSFM",
          "Date": "2017-08-21",
          "Metric": "Smoker Pneumovax",
          "Name": "Vicki Short",
          "Percentage": 0.4938,
          "Type": "Individual"
         },
         {
          "Clinic": "NSFM",
          "Date": "2017-08-21",
          "Metric": "Smoker Pneumovax",
          "Name": "Mary Swanson",
          "Percentage": 0.4,
          "Type": "Individual"
         },
         {
          "Clinic": "IFP",
          "Date": "2017-08-21",
          "Metric": "Smoker Pneumovax",
          "Name": "Magaret Sweeney",
          "Percentage": 0.2927,
          "Type": "Individual"
         },
         {
          "Clinic": "BellB",
          "Date": "2017-08-21",
          "Metric": "Smoker Pneumovax",
          "Name": "Lisa Van Hofwegen",
          "Percentage": 0.375,
          "Type": "Individual"
         },
         {
          "Clinic": "NSFM",
          "Date": "2017-08-21",
          "Metric": "Smoker Pneumovax",
          "Name": "April Wakefield-Pagels",
          "Percentage": 0.5102,
          "Type": "Individual"
         },
         {
          "Clinic": "SFM",
          "Date": "2017-08-21",
          "Metric": "Smoker Pneumovax",
          "Name": "Matt Werner",
          "Percentage": 0.5714,
          "Type": "Individual"
         },
         {
          "Clinic": "NCFP",
          "Date": "2017-08-21",
          "Metric": "Smoker Pneumovax",
          "Name": "Sloane Winkes",
          "Percentage": 0.5405,
          "Type": "Individual"
         },
         {
          "Clinic": "NSFM",
          "Date": "2017-08-21",
          "Metric": "Smoker Pneumovax",
          "Name": "Ying Wu",
          "Percentage": 0.475,
          "Type": "Individual"
         },
         {
          "Clinic": "LFM",
          "Date": "2017-10-02",
          "Metric": "Smoker Pneumovax",
          "Name": "Steven Alexander",
          "Percentage": 0.6216,
          "Type": "Individual"
         },
         {
          "Clinic": "BellB",
          "Date": "2017-10-02",
          "Metric": "Smoker Pneumovax",
          "Name": "Greg Anderson",
          "Percentage": 0.3913,
          "Type": "Individual"
         },
         {
          "Clinic": "FHA",
          "Date": "2017-10-02",
          "Metric": "Smoker Pneumovax",
          "Name": "Rodney Anderson",
          "Percentage": 0.6333,
          "Type": "Individual"
         },
         {
          "Clinic": "FFMC",
          "Date": "2017-10-02",
          "Metric": "Smoker Pneumovax",
          "Name": "Jennifer Bates",
          "Percentage": 0.5753,
          "Type": "Individual"
         },
         {
          "Clinic": "WFM",
          "Date": "2017-10-02",
          "Metric": "Smoker Pneumovax",
          "Name": "Shannon Billau",
          "Percentage": 0.3934,
          "Type": "Individual"
         },
         {
          "Clinic": "WFM",
          "Date": "2017-10-02",
          "Metric": "Smoker Pneumovax",
          "Name": "Richard Binder",
          "Percentage": 0.6667,
          "Type": "Individual"
         },
         {
          "Clinic": "IFP",
          "Date": "2017-10-02",
          "Metric": "Smoker Pneumovax",
          "Name": "Franklin Bjorseth",
          "Percentage": 0.4118,
          "Type": "Individual"
         },
         {
          "Clinic": "FHA",
          "Date": "2017-10-02",
          "Metric": "Smoker Pneumovax",
          "Name": "Edward Bloom",
          "Percentage": 0.416,
          "Type": "Individual"
         },
         {
          "Clinic": "FHA",
          "Date": "2017-10-02",
          "Metric": "Smoker Pneumovax",
          "Name": "Jessica Bloom",
          "Percentage": 0.2941,
          "Type": "Individual"
         },
         {
          "Clinic": "WFM",
          "Date": "2017-10-02",
          "Metric": "Smoker Pneumovax",
          "Name": "Steven Bloom",
          "Percentage": 0.4255,
          "Type": "Individual"
         },
         {
          "Clinic": "BellB",
          "Date": "2017-10-02",
          "Metric": "Smoker Pneumovax",
          "Name": "Ian Bonner",
          "Percentage": 0.3158,
          "Type": "Individual"
         },
         {
          "Clinic": "BellB",
          "Date": "2017-10-02",
          "Metric": "Smoker Pneumovax",
          "Name": "Sara Bowling",
          "Percentage": 0.2381,
          "Type": "Individual"
         },
         {
          "Clinic": "NSFM",
          "Date": "2017-10-02",
          "Metric": "Smoker Pneumovax",
          "Name": "Rory Bradt",
          "Percentage": 0.338,
          "Type": "Individual"
         },
         {
          "Clinic": "FFMC",
          "Date": "2017-10-02",
          "Metric": "Smoker Pneumovax",
          "Name": "Rebecca Brejcha",
          "Percentage": null,
          "Type": "Individual"
         },
         {
          "Clinic": "NSFM",
          "Date": "2017-10-02",
          "Metric": "Smoker Pneumovax",
          "Name": "Lisa Brodsky",
          "Percentage": 0.2581,
          "Type": "Individual"
         },
         {
          "Clinic": "LFM",
          "Date": "2017-10-02",
          "Metric": "Smoker Pneumovax",
          "Name": "Margaret Burden",
          "Percentage": 0.4103,
          "Type": "Individual"
         },
         {
          "Clinic": "NCFP",
          "Date": "2017-10-02",
          "Metric": "Smoker Pneumovax",
          "Name": "Erik Bylund",
          "Percentage": 0.2462,
          "Type": "Individual"
         },
         {
          "Clinic": "LFM",
          "Date": "2017-10-02",
          "Metric": "Smoker Pneumovax",
          "Name": "Robin Caldwell",
          "Percentage": 0.4464,
          "Type": "Individual"
         },
         {
          "Clinic": "NSFM",
          "Date": "2017-10-02",
          "Metric": "Smoker Pneumovax",
          "Name": "William Eiford",
          "Percentage": null,
          "Type": "Individual"
         },
         {
          "Clinic": "NCFP",
          "Date": "2017-10-02",
          "Metric": "Smoker Pneumovax",
          "Name": "Roger Estep",
          "Percentage": 0.1875,
          "Type": "Individual"
         },
         {
          "Clinic": "LFM",
          "Date": "2017-10-02",
          "Metric": "Smoker Pneumovax",
          "Name": "Michael Fleming",
          "Percentage": 0.2889,
          "Type": "Individual"
         },
         {
          "Clinic": "NSFM",
          "Date": "2017-10-02",
          "Metric": "Smoker Pneumovax",
          "Name": "Anneliese Floyd",
          "Percentage": 0.525,
          "Type": "Individual"
         },
         {
          "Clinic": "BellB",
          "Date": "2017-10-02",
          "Metric": "Smoker Pneumovax",
          "Name": "Laura Fox",
          "Percentage": 0.3864,
          "Type": "Individual"
         },
         {
          "Clinic": "FFMC",
          "Date": "2017-10-02",
          "Metric": "Smoker Pneumovax",
          "Name": "Renay Fredette",
          "Percentage": 0.5455,
          "Type": "Individual"
         },
         {
          "Clinic": "NCFP",
          "Date": "2017-10-02",
          "Metric": "Smoker Pneumovax",
          "Name": "Kay-Kay Gambs",
          "Percentage": 0.1597,
          "Type": "Individual"
         },
         {
          "Clinic": "NCFP",
          "Date": "2017-10-02",
          "Metric": "Smoker Pneumovax",
          "Name": "Jonathan Gamson",
          "Percentage": 0.2576,
          "Type": "Individual"
         },
         {
          "Clinic": "NSFM",
          "Date": "2017-10-02",
          "Metric": "Smoker Pneumovax",
          "Name": "Elizabeth Gaylord",
          "Percentage": 0.4412,
          "Type": "Individual"
         },
         {
          "Clinic": "IFP",
          "Date": "2017-10-02",
          "Metric": "Smoker Pneumovax",
          "Name": "Karen Goodman",
          "Percentage": 0.3571,
          "Type": "Individual"
         },
         {
          "Clinic": "FHA",
          "Date": "2017-10-02",
          "Metric": "Smoker Pneumovax",
          "Name": "Deborah Hall",
          "Percentage": 0.55,
          "Type": "Individual"
         },
         {
          "Clinic": "NCFP",
          "Date": "2017-10-02",
          "Metric": "Smoker Pneumovax",
          "Name": "Janet Hansom",
          "Percentage": 0.5,
          "Type": "Individual"
         },
         {
          "Clinic": "LFM",
          "Date": "2017-10-02",
          "Metric": "Smoker Pneumovax",
          "Name": "Larry Hartwell",
          "Percentage": 0.5046,
          "Type": "Individual"
         },
         {
          "Clinic": "SFM",
          "Date": "2017-10-02",
          "Metric": "Smoker Pneumovax",
          "Name": "Shelby Hein",
          "Percentage": 0.4754,
          "Type": "Individual"
         },
         {
          "Clinic": "SFM",
          "Date": "2017-10-02",
          "Metric": "Smoker Pneumovax",
          "Name": "Harry Herdman",
          "Percentage": 0.5676,
          "Type": "Individual"
         },
         {
          "Clinic": "NSFM",
          "Date": "2017-10-02",
          "Metric": "Smoker Pneumovax",
          "Name": "Sarah Herman",
          "Percentage": null,
          "Type": "Individual"
         },
         {
          "Clinic": "LFM",
          "Date": "2017-10-02",
          "Metric": "Smoker Pneumovax",
          "Name": "John Hiemstra",
          "Percentage": 0.5197,
          "Type": "Individual"
         },
         {
          "Clinic": "SFM",
          "Date": "2017-10-02",
          "Metric": "Smoker Pneumovax",
          "Name": "Heather Honey",
          "Percentage": 0.4107,
          "Type": "Individual"
         },
         {
          "Clinic": "FHA",
          "Date": "2017-10-02",
          "Metric": "Smoker Pneumovax",
          "Name": "Ryan Honey",
          "Percentage": 0.1667,
          "Type": "Individual"
         },
         {
          "Clinic": "BellB",
          "Date": "2017-10-02",
          "Metric": "Smoker Pneumovax",
          "Name": "Jim Hopper",
          "Percentage": 0.4286,
          "Type": "Individual"
         },
         {
          "Clinic": "FFMC",
          "Date": "2017-10-02",
          "Metric": "Smoker Pneumovax",
          "Name": "John Hruby",
          "Percentage": 0.45,
          "Type": "Individual"
         },
         {
          "Clinic": "FHA",
          "Date": "2017-10-02",
          "Metric": "Smoker Pneumovax",
          "Name": "Kellie Jacobs",
          "Percentage": 0.4375,
          "Type": "Individual"
         },
         {
          "Clinic": "IFP",
          "Date": "2017-10-02",
          "Metric": "Smoker Pneumovax",
          "Name": "Michael James",
          "Percentage": 0.1758,
          "Type": "Individual"
         },
         {
          "Clinic": "FHA",
          "Date": "2017-10-02",
          "Metric": "Smoker Pneumovax",
          "Name": "Sharon Kerlin",
          "Percentage": null,
          "Type": "Individual"
         },
         {
          "Clinic": "FHA",
          "Date": "2017-10-02",
          "Metric": "Smoker Pneumovax",
          "Name": "Meghan Lelonek",
          "Percentage": 0.3294,
          "Type": "Individual"
         },
         {
          "Clinic": "FFMC",
          "Date": "2017-10-02",
          "Metric": "Smoker Pneumovax",
          "Name": "Stephen Lewis",
          "Percentage": 0.4387,
          "Type": "Individual"
         },
         {
          "Clinic": "FFMC",
          "Date": "2017-10-02",
          "Metric": "Smoker Pneumovax",
          "Name": "Erin Maloney",
          "Percentage": null,
          "Type": "Individual"
         },
         {
          "Clinic": "NCFP",
          "Date": "2017-10-02",
          "Metric": "Smoker Pneumovax",
          "Name": "Ross McConahey",
          "Percentage": null,
          "Type": "Individual"
         },
         {
          "Clinic": "NSFM",
          "Date": "2017-10-02",
          "Metric": "Smoker Pneumovax",
          "Name": "Patrick McLaughlin",
          "Percentage": 0.3857,
          "Type": "Individual"
         },
         {
          "Clinic": "NCFP",
          "Date": "2017-10-02",
          "Metric": "Smoker Pneumovax",
          "Name": "Sally McPherson",
          "Percentage": 0.3107,
          "Type": "Individual"
         },
         {
          "Clinic": "NCFP",
          "Date": "2017-10-02",
          "Metric": "Smoker Pneumovax",
          "Name": "Lucia Muller",
          "Percentage": 0.4091,
          "Type": "Individual"
         },
         {
          "Clinic": "BellB",
          "Date": "2017-10-02",
          "Metric": "Smoker Pneumovax",
          "Name": "Karen O’Keefe",
          "Percentage": 0.2381,
          "Type": "Individual"
         },
         {
          "Clinic": "SFM",
          "Date": "2017-10-02",
          "Metric": "Smoker Pneumovax",
          "Name": "Lillian Pavlik",
          "Percentage": null,
          "Type": "Individual"
         },
         {
          "Clinic": "LFM",
          "Date": "2017-10-02",
          "Metric": "Smoker Pneumovax",
          "Name": "Patricia Payne-Zajac",
          "Percentage": 0.1818,
          "Type": "Individual"
         },
         {
          "Clinic": "NCFP",
          "Date": "2017-10-02",
          "Metric": "Smoker Pneumovax",
          "Name": "Jonathan Ploudre",
          "Percentage": 0.4128,
          "Type": "Individual"
         },
         {
          "Clinic": "NSFM",
          "Date": "2017-10-02",
          "Metric": "Smoker Pneumovax",
          "Name": "John Raduege",
          "Percentage": 0.4694,
          "Type": "Individual"
         },
         {
          "Clinic": "BBFM",
          "Date": "2017-10-02",
          "Metric": "Smoker Pneumovax",
          "Name": "Teresa Regier",
          "Percentage": 0.2353,
          "Type": "Individual"
         },
         {
          "Clinic": "FFMC",
          "Date": "2017-10-02",
          "Metric": "Smoker Pneumovax",
          "Name": "Claudia Rey",
          "Percentage": 0.4646,
          "Type": "Individual"
         },
         {
          "Clinic": "IFP",
          "Date": "2017-10-02",
          "Metric": "Smoker Pneumovax",
          "Name": "Robert Rieger",
          "Percentage": 0.4545,
          "Type": "Individual"
         },
         {
          "Clinic": "SFM",
          "Date": "2017-10-02",
          "Metric": "Smoker Pneumovax",
          "Name": "Deborah Roessler",
          "Percentage": 0.5102,
          "Type": "Individual"
         },
         {
          "Clinic": "FFMC",
          "Date": "2017-10-02",
          "Metric": "Smoker Pneumovax",
          "Name": "Berdi Sanford",
          "Percentage": 0.6977,
          "Type": "Individual"
         },
         {
          "Clinic": "NCFP",
          "Date": "2017-10-02",
          "Metric": "Smoker Pneumovax",
          "Name": "Lauren Sauve",
          "Percentage": 0.3333,
          "Type": "Individual"
         },
         {
          "Clinic": "BellB",
          "Date": "2017-10-02",
          "Metric": "Smoker Pneumovax",
          "Name": "Melana Schimke",
          "Percentage": 0.1159,
          "Type": "Individual"
         },
         {
          "Clinic": "FHA",
          "Date": "2017-10-02",
          "Metric": "Smoker Pneumovax",
          "Name": "Miriam Shapiro",
          "Percentage": 0.4444,
          "Type": "Individual"
         },
         {
          "Clinic": "NSFM",
          "Date": "2017-10-02",
          "Metric": "Smoker Pneumovax",
          "Name": "Jason Short",
          "Percentage": 0.396,
          "Type": "Individual"
         },
         {
          "Clinic": "NSFM",
          "Date": "2017-10-02",
          "Metric": "Smoker Pneumovax",
          "Name": "Vicki Short",
          "Percentage": 0.5062,
          "Type": "Individual"
         },
         {
          "Clinic": "LFM",
          "Date": "2017-10-02",
          "Metric": "Smoker Pneumovax",
          "Name": "Ashley Snyder",
          "Percentage": 0.6667,
          "Type": "Individual"
         },
         {
          "Clinic": "NSFM",
          "Date": "2017-10-02",
          "Metric": "Smoker Pneumovax",
          "Name": "Mary Swanson",
          "Percentage": 0.4,
          "Type": "Individual"
         },
         {
          "Clinic": "IFP",
          "Date": "2017-10-02",
          "Metric": "Smoker Pneumovax",
          "Name": "Magaret Sweeney",
          "Percentage": 0.2927,
          "Type": "Individual"
         },
         {
          "Clinic": "BellB",
          "Date": "2017-10-02",
          "Metric": "Smoker Pneumovax",
          "Name": "Lisa Van Hofwegen",
          "Percentage": 0.3667,
          "Type": "Individual"
         },
         {
          "Clinic": "NSFM",
          "Date": "2017-10-02",
          "Metric": "Smoker Pneumovax",
          "Name": "April Wakefield-Pagels",
          "Percentage": 0.5319,
          "Type": "Individual"
         },
         {
          "Clinic": "SFM",
          "Date": "2017-10-02",
          "Metric": "Smoker Pneumovax",
          "Name": "Joy Welty",
          "Percentage": null,
          "Type": "Individual"
         },
         {
          "Clinic": "SFM",
          "Date": "2017-10-02",
          "Metric": "Smoker Pneumovax",
          "Name": "Matt Werner",
          "Percentage": 0.5618,
          "Type": "Individual"
         },
         {
          "Clinic": "NCFP",
          "Date": "2017-10-02",
          "Metric": "Smoker Pneumovax",
          "Name": "Sloane Winkes",
          "Percentage": 0.5676,
          "Type": "Individual"
         },
         {
          "Clinic": "NSFM",
          "Date": "2017-10-02",
          "Metric": "Smoker Pneumovax",
          "Name": "Ying Wu",
          "Percentage": 0.4865,
          "Type": "Individual"
         },
         {
          "Clinic": "LFM",
          "Date": "2018-02-12",
          "Metric": "Smoker Pneumovax",
          "Name": "Steven Alexander",
          "Percentage": 0.6667,
          "Type": "Individual"
         },
         {
          "Clinic": "BellB",
          "Date": "2018-02-12",
          "Metric": "Smoker Pneumovax",
          "Name": "Greg Anderson",
          "Percentage": 0.4607,
          "Type": "Individual"
         },
         {
          "Clinic": "FHA",
          "Date": "2018-02-12",
          "Metric": "Smoker Pneumovax",
          "Name": "Rodney Anderson",
          "Percentage": 0.6739,
          "Type": "Individual"
         },
         {
          "Clinic": "FFMC",
          "Date": "2018-02-12",
          "Metric": "Smoker Pneumovax",
          "Name": "Jennifer Bates",
          "Percentage": 0.5781,
          "Type": "Individual"
         },
         {
          "Clinic": "WFM",
          "Date": "2018-02-12",
          "Metric": "Smoker Pneumovax",
          "Name": "Shannon Billau",
          "Percentage": 0.4098,
          "Type": "Individual"
         },
         {
          "Clinic": "WFM",
          "Date": "2018-02-12",
          "Metric": "Smoker Pneumovax",
          "Name": "Richard Binder",
          "Percentage": 0.6444,
          "Type": "Individual"
         },
         {
          "Clinic": "IFP",
          "Date": "2018-02-12",
          "Metric": "Smoker Pneumovax",
          "Name": "Franklin Bjorseth",
          "Percentage": 0.4333,
          "Type": "Individual"
         },
         {
          "Clinic": "FHA",
          "Date": "2018-02-12",
          "Metric": "Smoker Pneumovax",
          "Name": "Edward Bloom",
          "Percentage": 0.4407,
          "Type": "Individual"
         },
         {
          "Clinic": "FHA",
          "Date": "2018-02-12",
          "Metric": "Smoker Pneumovax",
          "Name": "Jessica Bloom",
          "Percentage": 0.2632,
          "Type": "Individual"
         },
         {
          "Clinic": "WFM",
          "Date": "2018-02-12",
          "Metric": "Smoker Pneumovax",
          "Name": "Steven Bloom",
          "Percentage": 0.4545,
          "Type": "Individual"
         },
         {
          "Clinic": "BellB",
          "Date": "2018-02-12",
          "Metric": "Smoker Pneumovax",
          "Name": "Ian Bonner",
          "Percentage": 0.3858,
          "Type": "Individual"
         },
         {
          "Clinic": "BellB",
          "Date": "2018-02-12",
          "Metric": "Smoker Pneumovax",
          "Name": "Sara Bowling",
          "Percentage": 0.3176,
          "Type": "Individual"
         },
         {
          "Clinic": "NSFM",
          "Date": "2018-02-12",
          "Metric": "Smoker Pneumovax",
          "Name": "Rory Bradt",
          "Percentage": 0.3969,
          "Type": "Individual"
         },
         {
          "Clinic": "FFMC",
          "Date": "2018-02-12",
          "Metric": "Smoker Pneumovax",
          "Name": "Rebecca Brejcha",
          "Percentage": null,
          "Type": "Individual"
         },
         {
          "Clinic": "NSFM",
          "Date": "2018-02-12",
          "Metric": "Smoker Pneumovax",
          "Name": "Lisa Brodsky",
          "Percentage": 0.303,
          "Type": "Individual"
         },
         {
          "Clinic": "LFM",
          "Date": "2018-02-12",
          "Metric": "Smoker Pneumovax",
          "Name": "Margaret Burden",
          "Percentage": 0.4054,
          "Type": "Individual"
         },
         {
          "Clinic": "NCFP",
          "Date": "2018-02-12",
          "Metric": "Smoker Pneumovax",
          "Name": "Erik Bylund",
          "Percentage": 0.2803,
          "Type": "Individual"
         },
         {
          "Clinic": "LFM",
          "Date": "2018-02-12",
          "Metric": "Smoker Pneumovax",
          "Name": "Robin Caldwell",
          "Percentage": 0.4534,
          "Type": "Individual"
         },
         {
          "Clinic": "NSFM",
          "Date": "2018-02-12",
          "Metric": "Smoker Pneumovax",
          "Name": "William Eiford",
          "Percentage": null,
          "Type": "Individual"
         },
         {
          "Clinic": "NCFP",
          "Date": "2018-02-12",
          "Metric": "Smoker Pneumovax",
          "Name": "Roger Estep",
          "Percentage": 0.3023,
          "Type": "Individual"
         },
         {
          "Clinic": "LFM",
          "Date": "2018-02-12",
          "Metric": "Smoker Pneumovax",
          "Name": "Michael Fleming",
          "Percentage": 0.3433,
          "Type": "Individual"
         },
         {
          "Clinic": "NSFM",
          "Date": "2018-02-12",
          "Metric": "Smoker Pneumovax",
          "Name": "Anneliese Floyd",
          "Percentage": 0.5366,
          "Type": "Individual"
         },
         {
          "Clinic": "BellB",
          "Date": "2018-02-12",
          "Metric": "Smoker Pneumovax",
          "Name": "Laura Fox",
          "Percentage": 0.4468,
          "Type": "Individual"
         },
         {
          "Clinic": "FFMC",
          "Date": "2018-02-12",
          "Metric": "Smoker Pneumovax",
          "Name": "Renay Fredette",
          "Percentage": 0.5246,
          "Type": "Individual"
         },
         {
          "Clinic": "NCFP",
          "Date": "2018-02-12",
          "Metric": "Smoker Pneumovax",
          "Name": "Kay-Kay Gambs",
          "Percentage": 0.1983,
          "Type": "Individual"
         },
         {
          "Clinic": "NCFP",
          "Date": "2018-02-12",
          "Metric": "Smoker Pneumovax",
          "Name": "Jonathan Gamson",
          "Percentage": 0.3101,
          "Type": "Individual"
         },
         {
          "Clinic": "NSFM",
          "Date": "2018-02-12",
          "Metric": "Smoker Pneumovax",
          "Name": "Elizabeth Gaylord",
          "Percentage": 0.52,
          "Type": "Individual"
         },
         {
          "Clinic": "IFP",
          "Date": "2018-02-12",
          "Metric": "Smoker Pneumovax",
          "Name": "Karen Goodman",
          "Percentage": 0.2973,
          "Type": "Individual"
         },
         {
          "Clinic": "FHA",
          "Date": "2018-02-12",
          "Metric": "Smoker Pneumovax",
          "Name": "Deborah Hall",
          "Percentage": 0.5658,
          "Type": "Individual"
         },
         {
          "Clinic": "NCFP",
          "Date": "2018-02-12",
          "Metric": "Smoker Pneumovax",
          "Name": "Janet Hansom",
          "Percentage": 0.5862,
          "Type": "Individual"
         },
         {
          "Clinic": "LFM",
          "Date": "2018-02-12",
          "Metric": "Smoker Pneumovax",
          "Name": "Larry Hartwell",
          "Percentage": 0.5047,
          "Type": "Individual"
         },
         {
          "Clinic": "SFM",
          "Date": "2018-02-12",
          "Metric": "Smoker Pneumovax",
          "Name": "Shelby Hein",
          "Percentage": 0.4737,
          "Type": "Individual"
         },
         {
          "Clinic": "SFM",
          "Date": "2018-02-12",
          "Metric": "Smoker Pneumovax",
          "Name": "Harry Herdman",
          "Percentage": 0.6164,
          "Type": "Individual"
         },
         {
          "Clinic": "NSFM",
          "Date": "2018-02-12",
          "Metric": "Smoker Pneumovax",
          "Name": "Sarah Herman",
          "Percentage": null,
          "Type": "Individual"
         },
         {
          "Clinic": "LFM",
          "Date": "2018-02-12",
          "Metric": "Smoker Pneumovax",
          "Name": "John Hiemstra",
          "Percentage": 0.5411,
          "Type": "Individual"
         },
         {
          "Clinic": "SFM",
          "Date": "2018-02-12",
          "Metric": "Smoker Pneumovax",
          "Name": "Heather Honey",
          "Percentage": 0.4375,
          "Type": "Individual"
         },
         {
          "Clinic": "FHA",
          "Date": "2018-02-12",
          "Metric": "Smoker Pneumovax",
          "Name": "Ryan Honey",
          "Percentage": 0.2958,
          "Type": "Individual"
         },
         {
          "Clinic": "BellB",
          "Date": "2018-02-12",
          "Metric": "Smoker Pneumovax",
          "Name": "Jim Hopper",
          "Percentage": 0.4583,
          "Type": "Individual"
         },
         {
          "Clinic": "FFMC",
          "Date": "2018-02-12",
          "Metric": "Smoker Pneumovax",
          "Name": "John Hruby",
          "Percentage": 0.4661,
          "Type": "Individual"
         },
         {
          "Clinic": "FHA",
          "Date": "2018-02-12",
          "Metric": "Smoker Pneumovax",
          "Name": "Kellie Jacobs",
          "Percentage": 0.4255,
          "Type": "Individual"
         },
         {
          "Clinic": "IFP",
          "Date": "2018-02-12",
          "Metric": "Smoker Pneumovax",
          "Name": "Michael James",
          "Percentage": 0.2105,
          "Type": "Individual"
         },
         {
          "Clinic": "FHA",
          "Date": "2018-02-12",
          "Metric": "Smoker Pneumovax",
          "Name": "Sharon Kerlin",
          "Percentage": null,
          "Type": "Individual"
         },
         {
          "Clinic": "BBFM",
          "Date": "2018-02-12",
          "Metric": "Smoker Pneumovax",
          "Name": "Jessica Klassen",
          "Percentage": 0.2373,
          "Type": "Individual"
         },
         {
          "Clinic": "FHA",
          "Date": "2018-02-12",
          "Metric": "Smoker Pneumovax",
          "Name": "Meghan Lelonek",
          "Percentage": 0.3765,
          "Type": "Individual"
         },
         {
          "Clinic": "FFMC",
          "Date": "2018-02-12",
          "Metric": "Smoker Pneumovax",
          "Name": "Stephen Lewis",
          "Percentage": 0.4615,
          "Type": "Individual"
         },
         {
          "Clinic": "FFMC",
          "Date": "2018-02-12",
          "Metric": "Smoker Pneumovax",
          "Name": "Erin Maloney",
          "Percentage": null,
          "Type": "Individual"
         },
         {
          "Clinic": "NCFP",
          "Date": "2018-02-12",
          "Metric": "Smoker Pneumovax",
          "Name": "Ross McConahey",
          "Percentage": null,
          "Type": "Individual"
         },
         {
          "Clinic": "NSFM",
          "Date": "2018-02-12",
          "Metric": "Smoker Pneumovax",
          "Name": "Patrick McLaughlin",
          "Percentage": 0.4026,
          "Type": "Individual"
         },
         {
          "Clinic": "NCFP",
          "Date": "2018-02-12",
          "Metric": "Smoker Pneumovax",
          "Name": "Sally McPherson",
          "Percentage": 0.38,
          "Type": "Individual"
         },
         {
          "Clinic": "NCFP",
          "Date": "2018-02-12",
          "Metric": "Smoker Pneumovax",
          "Name": "Lucia Muller",
          "Percentage": 0.4792,
          "Type": "Individual"
         },
         {
          "Clinic": "BellB",
          "Date": "2018-02-12",
          "Metric": "Smoker Pneumovax",
          "Name": "Karen O’Keefe",
          "Percentage": 0.3095,
          "Type": "Individual"
         },
         {
          "Clinic": "SFM",
          "Date": "2018-02-12",
          "Metric": "Smoker Pneumovax",
          "Name": "Lillian Pavlik",
          "Percentage": null,
          "Type": "Individual"
         },
         {
          "Clinic": "LFM",
          "Date": "2018-02-12",
          "Metric": "Smoker Pneumovax",
          "Name": "Patricia Payne-Zajac",
          "Percentage": 0.4211,
          "Type": "Individual"
         },
         {
          "Clinic": "NCFP",
          "Date": "2018-02-12",
          "Metric": "Smoker Pneumovax",
          "Name": "Jonathan Ploudre",
          "Percentage": 0.5135,
          "Type": "Individual"
         },
         {
          "Clinic": "NSFM",
          "Date": "2018-02-12",
          "Metric": "Smoker Pneumovax",
          "Name": "John Raduege",
          "Percentage": 0.4946,
          "Type": "Individual"
         },
         {
          "Clinic": "BBFM",
          "Date": "2018-02-12",
          "Metric": "Smoker Pneumovax",
          "Name": "Teresa Regier",
          "Percentage": 0.2303,
          "Type": "Individual"
         },
         {
          "Clinic": "FFMC",
          "Date": "2018-02-12",
          "Metric": "Smoker Pneumovax",
          "Name": "Claudia Rey",
          "Percentage": 0.5094,
          "Type": "Individual"
         },
         {
          "Clinic": "IFP",
          "Date": "2018-02-12",
          "Metric": "Smoker Pneumovax",
          "Name": "Robert Rieger",
          "Percentage": 0.5714,
          "Type": "Individual"
         },
         {
          "Clinic": "SFM",
          "Date": "2018-02-12",
          "Metric": "Smoker Pneumovax",
          "Name": "Deborah Roessler",
          "Percentage": 0.5824,
          "Type": "Individual"
         },
         {
          "Clinic": "FFMC",
          "Date": "2018-02-12",
          "Metric": "Smoker Pneumovax",
          "Name": "Berdi Sanford",
          "Percentage": 0.7439,
          "Type": "Individual"
         },
         {
          "Clinic": "NCFP",
          "Date": "2018-02-12",
          "Metric": "Smoker Pneumovax",
          "Name": "Lauren Sauve",
          "Percentage": 0.3285,
          "Type": "Individual"
         },
         {
          "Clinic": "BellB",
          "Date": "2018-02-12",
          "Metric": "Smoker Pneumovax",
          "Name": "Melana Schimke",
          "Percentage": 0.2308,
          "Type": "Individual"
         },
         {
          "Clinic": "FHA",
          "Date": "2018-02-12",
          "Metric": "Smoker Pneumovax",
          "Name": "Miriam Shapiro",
          "Percentage": 0.5676,
          "Type": "Individual"
         },
         {
          "Clinic": "NSFM",
          "Date": "2018-02-12",
          "Metric": "Smoker Pneumovax",
          "Name": "Jason Short",
          "Percentage": 0.4356,
          "Type": "Individual"
         },
         {
          "Clinic": "NSFM",
          "Date": "2018-02-12",
          "Metric": "Smoker Pneumovax",
          "Name": "Vicki Short",
          "Percentage": 0.5238,
          "Type": "Individual"
         },
         {
          "Clinic": "LFM",
          "Date": "2018-02-12",
          "Metric": "Smoker Pneumovax",
          "Name": "Ashley Snyder",
          "Percentage": 0.4648,
          "Type": "Individual"
         },
         {
          "Clinic": "FFMC",
          "Date": "2018-02-12",
          "Metric": "Smoker Pneumovax",
          "Name": "Kalani Synder",
          "Percentage": 0.2056,
          "Type": "Individual"
         },
         {
          "Clinic": "NSFM",
          "Date": "2018-02-12",
          "Metric": "Smoker Pneumovax",
          "Name": "Mary Swanson",
          "Percentage": 0.4516,
          "Type": "Individual"
         },
         {
          "Clinic": "IFP",
          "Date": "2018-02-12",
          "Metric": "Smoker Pneumovax",
          "Name": "Magaret Sweeney",
          "Percentage": 0.4524,
          "Type": "Individual"
         },
         {
          "Clinic": "WFM",
          "Date": "2018-02-12",
          "Metric": "Smoker Pneumovax",
          "Name": "Heather Thomson",
          "Percentage": 0.25,
          "Type": "Individual"
         },
         {
          "Clinic": "BellB",
          "Date": "2018-02-12",
          "Metric": "Smoker Pneumovax",
          "Name": "Lisa Van Hofwegen",
          "Percentage": 0.3704,
          "Type": "Individual"
         },
         {
          "Clinic": "NSFM",
          "Date": "2018-02-12",
          "Metric": "Smoker Pneumovax",
          "Name": "April Wakefield-Pagels",
          "Percentage": 0.5435,
          "Type": "Individual"
         },
         {
          "Clinic": "SFM",
          "Date": "2018-02-12",
          "Metric": "Smoker Pneumovax",
          "Name": "Joy Welty",
          "Percentage": 0.4348,
          "Type": "Individual"
         },
         {
          "Clinic": "SFM",
          "Date": "2018-02-12",
          "Metric": "Smoker Pneumovax",
          "Name": "Matt Werner",
          "Percentage": 0.6341,
          "Type": "Individual"
         },
         {
          "Clinic": "NCFP",
          "Date": "2018-02-12",
          "Metric": "Smoker Pneumovax",
          "Name": "Sloane Winkes",
          "Percentage": 0.5946,
          "Type": "Individual"
         },
         {
          "Clinic": "NSFM",
          "Date": "2018-02-12",
          "Metric": "Smoker Pneumovax",
          "Name": "Ying Wu",
          "Percentage": 0.5667,
          "Type": "Individual"
         },
         {
          "Clinic": "FHA",
          "Date": "2018-02-12",
          "Metric": "Smoker Pneumovax",
          "Name": "Ashley Yoder",
          "Percentage": 0.2857,
          "Type": "Individual"
         },
         {
          "Clinic": "LFM",
          "Date": "2018-02-05",
          "Metric": "Smoker Pneumovax",
          "Name": "Steven Alexander",
          "Percentage": 0.6667,
          "Type": "Individual"
         },
         {
          "Clinic": "BellB",
          "Date": "2018-02-05",
          "Metric": "Smoker Pneumovax",
          "Name": "Greg Anderson",
          "Percentage": 0.4659,
          "Type": "Individual"
         },
         {
          "Clinic": "FHA",
          "Date": "2018-02-05",
          "Metric": "Smoker Pneumovax",
          "Name": "Rodney Anderson",
          "Percentage": 0.6739,
          "Type": "Individual"
         },
         {
          "Clinic": "FFMC",
          "Date": "2018-02-05",
          "Metric": "Smoker Pneumovax",
          "Name": "Jennifer Bates",
          "Percentage": 0.5692,
          "Type": "Individual"
         },
         {
          "Clinic": "WFM",
          "Date": "2018-02-05",
          "Metric": "Smoker Pneumovax",
          "Name": "Shannon Billau",
          "Percentage": 0.4098,
          "Type": "Individual"
         },
         {
          "Clinic": "WFM",
          "Date": "2018-02-05",
          "Metric": "Smoker Pneumovax",
          "Name": "Richard Binder",
          "Percentage": 0.6444,
          "Type": "Individual"
         },
         {
          "Clinic": "IFP",
          "Date": "2018-02-05",
          "Metric": "Smoker Pneumovax",
          "Name": "Franklin Bjorseth",
          "Percentage": 0.425,
          "Type": "Individual"
         },
         {
          "Clinic": "FHA",
          "Date": "2018-02-05",
          "Metric": "Smoker Pneumovax",
          "Name": "Edward Bloom",
          "Percentage": 0.4407,
          "Type": "Individual"
         },
         {
          "Clinic": "FHA",
          "Date": "2018-02-05",
          "Metric": "Smoker Pneumovax",
          "Name": "Jessica Bloom",
          "Percentage": 0.2778,
          "Type": "Individual"
         },
         {
          "Clinic": "WFM",
          "Date": "2018-02-05",
          "Metric": "Smoker Pneumovax",
          "Name": "Steven Bloom",
          "Percentage": 0.4343,
          "Type": "Individual"
         },
         {
          "Clinic": "BellB",
          "Date": "2018-02-05",
          "Metric": "Smoker Pneumovax",
          "Name": "Ian Bonner",
          "Percentage": 0.3858,
          "Type": "Individual"
         },
         {
          "Clinic": "BellB",
          "Date": "2018-02-05",
          "Metric": "Smoker Pneumovax",
          "Name": "Sara Bowling",
          "Percentage": 0.3256,
          "Type": "Individual"
         },
         {
          "Clinic": "NSFM",
          "Date": "2018-02-05",
          "Metric": "Smoker Pneumovax",
          "Name": "Rory Bradt",
          "Percentage": 0.3969,
          "Type": "Individual"
         },
         {
          "Clinic": "FFMC",
          "Date": "2018-02-05",
          "Metric": "Smoker Pneumovax",
          "Name": "Rebecca Brejcha",
          "Percentage": null,
          "Type": "Individual"
         },
         {
          "Clinic": "NSFM",
          "Date": "2018-02-05",
          "Metric": "Smoker Pneumovax",
          "Name": "Lisa Brodsky",
          "Percentage": 0.303,
          "Type": "Individual"
         },
         {
          "Clinic": "LFM",
          "Date": "2018-02-05",
          "Metric": "Smoker Pneumovax",
          "Name": "Margaret Burden",
          "Percentage": 0.3947,
          "Type": "Individual"
         },
         {
          "Clinic": "NCFP",
          "Date": "2018-02-05",
          "Metric": "Smoker Pneumovax",
          "Name": "Erik Bylund",
          "Percentage": 0.2824,
          "Type": "Individual"
         },
         {
          "Clinic": "LFM",
          "Date": "2018-02-05",
          "Metric": "Smoker Pneumovax",
          "Name": "Robin Caldwell",
          "Percentage": 0.4506,
          "Type": "Individual"
         },
         {
          "Clinic": "NSFM",
          "Date": "2018-02-05",
          "Metric": "Smoker Pneumovax",
          "Name": "William Eiford",
          "Percentage": null,
          "Type": "Individual"
         },
         {
          "Clinic": "NCFP",
          "Date": "2018-02-05",
          "Metric": "Smoker Pneumovax",
          "Name": "Roger Estep",
          "Percentage": 0.2791,
          "Type": "Individual"
         },
         {
          "Clinic": "LFM",
          "Date": "2018-02-05",
          "Metric": "Smoker Pneumovax",
          "Name": "Michael Fleming",
          "Percentage": 0.3333,
          "Type": "Individual"
         },
         {
          "Clinic": "NSFM",
          "Date": "2018-02-05",
          "Metric": "Smoker Pneumovax",
          "Name": "Anneliese Floyd",
          "Percentage": 0.55,
          "Type": "Individual"
         },
         {
          "Clinic": "BellB",
          "Date": "2018-02-05",
          "Metric": "Smoker Pneumovax",
          "Name": "Laura Fox",
          "Percentage": 0.4468,
          "Type": "Individual"
         },
         {
          "Clinic": "FFMC",
          "Date": "2018-02-05",
          "Metric": "Smoker Pneumovax",
          "Name": "Renay Fredette",
          "Percentage": 0.5246,
          "Type": "Individual"
         },
         {
          "Clinic": "NCFP",
          "Date": "2018-02-05",
          "Metric": "Smoker Pneumovax",
          "Name": "Kay-Kay Gambs",
          "Percentage": 0.188,
          "Type": "Individual"
         },
         {
          "Clinic": "NCFP",
          "Date": "2018-02-05",
          "Metric": "Smoker Pneumovax",
          "Name": "Jonathan Gamson",
          "Percentage": 0.3101,
          "Type": "Individual"
         },
         {
          "Clinic": "NSFM",
          "Date": "2018-02-05",
          "Metric": "Smoker Pneumovax",
          "Name": "Elizabeth Gaylord",
          "Percentage": 0.52,
          "Type": "Individual"
         },
         {
          "Clinic": "IFP",
          "Date": "2018-02-05",
          "Metric": "Smoker Pneumovax",
          "Name": "Karen Goodman",
          "Percentage": 0.2973,
          "Type": "Individual"
         },
         {
          "Clinic": "FHA",
          "Date": "2018-02-05",
          "Metric": "Smoker Pneumovax",
          "Name": "Deborah Hall",
          "Percentage": 0.5658,
          "Type": "Individual"
         },
         {
          "Clinic": "NCFP",
          "Date": "2018-02-05",
          "Metric": "Smoker Pneumovax",
          "Name": "Janet Hansom",
          "Percentage": 0.5667,
          "Type": "Individual"
         },
         {
          "Clinic": "LFM",
          "Date": "2018-02-05",
          "Metric": "Smoker Pneumovax",
          "Name": "Larry Hartwell",
          "Percentage": 0.5047,
          "Type": "Individual"
         },
         {
          "Clinic": "SFM",
          "Date": "2018-02-05",
          "Metric": "Smoker Pneumovax",
          "Name": "Shelby Hein",
          "Percentage": 0.4561,
          "Type": "Individual"
         },
         {
          "Clinic": "SFM",
          "Date": "2018-02-05",
          "Metric": "Smoker Pneumovax",
          "Name": "Harry Herdman",
          "Percentage": 0.6164,
          "Type": "Individual"
         },
         {
          "Clinic": "NSFM",
          "Date": "2018-02-05",
          "Metric": "Smoker Pneumovax",
          "Name": "Sarah Herman",
          "Percentage": null,
          "Type": "Individual"
         },
         {
          "Clinic": "LFM",
          "Date": "2018-02-05",
          "Metric": "Smoker Pneumovax",
          "Name": "John Hiemstra",
          "Percentage": 0.5405,
          "Type": "Individual"
         },
         {
          "Clinic": "SFM",
          "Date": "2018-02-05",
          "Metric": "Smoker Pneumovax",
          "Name": "Heather Honey",
          "Percentage": 0.4262,
          "Type": "Individual"
         },
         {
          "Clinic": "FHA",
          "Date": "2018-02-05",
          "Metric": "Smoker Pneumovax",
          "Name": "Ryan Honey",
          "Percentage": 0.302,
          "Type": "Individual"
         },
         {
          "Clinic": "BellB",
          "Date": "2018-02-05",
          "Metric": "Smoker Pneumovax",
          "Name": "Jim Hopper",
          "Percentage": 0.4681,
          "Type": "Individual"
         },
         {
          "Clinic": "FFMC",
          "Date": "2018-02-05",
          "Metric": "Smoker Pneumovax",
          "Name": "John Hruby",
          "Percentage": 0.4622,
          "Type": "Individual"
         },
         {
          "Clinic": "FHA",
          "Date": "2018-02-05",
          "Metric": "Smoker Pneumovax",
          "Name": "Kellie Jacobs",
          "Percentage": 0.4255,
          "Type": "Individual"
         },
         {
          "Clinic": "IFP",
          "Date": "2018-02-05",
          "Metric": "Smoker Pneumovax",
          "Name": "Michael James",
          "Percentage": 0.2105,
          "Type": "Individual"
         },
         {
          "Clinic": "FHA",
          "Date": "2018-02-05",
          "Metric": "Smoker Pneumovax",
          "Name": "Sharon Kerlin",
          "Percentage": null,
          "Type": "Individual"
         },
         {
          "Clinic": "BBFM",
          "Date": "2018-02-05",
          "Metric": "Smoker Pneumovax",
          "Name": "Jessica Klassen",
          "Percentage": 0.2373,
          "Type": "Individual"
         },
         {
          "Clinic": "FHA",
          "Date": "2018-02-05",
          "Metric": "Smoker Pneumovax",
          "Name": "Meghan Lelonek",
          "Percentage": 0.3647,
          "Type": "Individual"
         },
         {
          "Clinic": "FFMC",
          "Date": "2018-02-05",
          "Metric": "Smoker Pneumovax",
          "Name": "Stephen Lewis",
          "Percentage": 0.4592,
          "Type": "Individual"
         },
         {
          "Clinic": "FFMC",
          "Date": "2018-02-05",
          "Metric": "Smoker Pneumovax",
          "Name": "Erin Maloney",
          "Percentage": null,
          "Type": "Individual"
         },
         {
          "Clinic": "NCFP",
          "Date": "2018-02-05",
          "Metric": "Smoker Pneumovax",
          "Name": "Ross McConahey",
          "Percentage": null,
          "Type": "Individual"
         },
         {
          "Clinic": "NSFM",
          "Date": "2018-02-05",
          "Metric": "Smoker Pneumovax",
          "Name": "Patrick McLaughlin",
          "Percentage": 0.3896,
          "Type": "Individual"
         },
         {
          "Clinic": "NCFP",
          "Date": "2018-02-05",
          "Metric": "Smoker Pneumovax",
          "Name": "Sally McPherson",
          "Percentage": 0.36,
          "Type": "Individual"
         },
         {
          "Clinic": "NCFP",
          "Date": "2018-02-05",
          "Metric": "Smoker Pneumovax",
          "Name": "Lucia Muller",
          "Percentage": 0.4894,
          "Type": "Individual"
         },
         {
          "Clinic": "BellB",
          "Date": "2018-02-05",
          "Metric": "Smoker Pneumovax",
          "Name": "Karen O’Keefe",
          "Percentage": 0.3095,
          "Type": "Individual"
         },
         {
          "Clinic": "SFM",
          "Date": "2018-02-05",
          "Metric": "Smoker Pneumovax",
          "Name": "Lillian Pavlik",
          "Percentage": null,
          "Type": "Individual"
         },
         {
          "Clinic": "LFM",
          "Date": "2018-02-05",
          "Metric": "Smoker Pneumovax",
          "Name": "Patricia Payne-Zajac",
          "Percentage": 0.4286,
          "Type": "Individual"
         },
         {
          "Clinic": "NCFP",
          "Date": "2018-02-05",
          "Metric": "Smoker Pneumovax",
          "Name": "Jonathan Ploudre",
          "Percentage": 0.5135,
          "Type": "Individual"
         },
         {
          "Clinic": "NSFM",
          "Date": "2018-02-05",
          "Metric": "Smoker Pneumovax",
          "Name": "John Raduege",
          "Percentage": 0.5,
          "Type": "Individual"
         },
         {
          "Clinic": "BBFM",
          "Date": "2018-02-05",
          "Metric": "Smoker Pneumovax",
          "Name": "Teresa Regier",
          "Percentage": 0.2333,
          "Type": "Individual"
         },
         {
          "Clinic": "FFMC",
          "Date": "2018-02-05",
          "Metric": "Smoker Pneumovax",
          "Name": "Claudia Rey",
          "Percentage": 0.514,
          "Type": "Individual"
         },
         {
          "Clinic": "IFP",
          "Date": "2018-02-05",
          "Metric": "Smoker Pneumovax",
          "Name": "Robert Rieger",
          "Percentage": 0.5714,
          "Type": "Individual"
         },
         {
          "Clinic": "SFM",
          "Date": "2018-02-05",
          "Metric": "Smoker Pneumovax",
          "Name": "Deborah Roessler",
          "Percentage": 0.5761,
          "Type": "Individual"
         },
         {
          "Clinic": "FFMC",
          "Date": "2018-02-05",
          "Metric": "Smoker Pneumovax",
          "Name": "Berdi Sanford",
          "Percentage": 0.7439,
          "Type": "Individual"
         },
         {
          "Clinic": "NCFP",
          "Date": "2018-02-05",
          "Metric": "Smoker Pneumovax",
          "Name": "Lauren Sauve",
          "Percentage": 0.3285,
          "Type": "Individual"
         },
         {
          "Clinic": "BellB",
          "Date": "2018-02-05",
          "Metric": "Smoker Pneumovax",
          "Name": "Melana Schimke",
          "Percentage": 0.2308,
          "Type": "Individual"
         },
         {
          "Clinic": "FHA",
          "Date": "2018-02-05",
          "Metric": "Smoker Pneumovax",
          "Name": "Miriam Shapiro",
          "Percentage": 0.5676,
          "Type": "Individual"
         },
         {
          "Clinic": "NSFM",
          "Date": "2018-02-05",
          "Metric": "Smoker Pneumovax",
          "Name": "Jason Short",
          "Percentage": 0.4356,
          "Type": "Individual"
         },
         {
          "Clinic": "NSFM",
          "Date": "2018-02-05",
          "Metric": "Smoker Pneumovax",
          "Name": "Vicki Short",
          "Percentage": 0.5176,
          "Type": "Individual"
         },
         {
          "Clinic": "LFM",
          "Date": "2018-02-05",
          "Metric": "Smoker Pneumovax",
          "Name": "Ashley Snyder",
          "Percentage": 0.4571,
          "Type": "Individual"
         },
         {
          "Clinic": "FFMC",
          "Date": "2018-02-05",
          "Metric": "Smoker Pneumovax",
          "Name": "Kalani Synder",
          "Percentage": 0.1981,
          "Type": "Individual"
         },
         {
          "Clinic": "NSFM",
          "Date": "2018-02-05",
          "Metric": "Smoker Pneumovax",
          "Name": "Mary Swanson",
          "Percentage": 0.4516,
          "Type": "Individual"
         },
         {
          "Clinic": "IFP",
          "Date": "2018-02-05",
          "Metric": "Smoker Pneumovax",
          "Name": "Magaret Sweeney",
          "Percentage": 0.4286,
          "Type": "Individual"
         },
         {
          "Clinic": "WFM",
          "Date": "2018-02-05",
          "Metric": "Smoker Pneumovax",
          "Name": "Heather Thomson",
          "Percentage": 0.2667,
          "Type": "Individual"
         },
         {
          "Clinic": "BellB",
          "Date": "2018-02-05",
          "Metric": "Smoker Pneumovax",
          "Name": "Lisa Van Hofwegen",
          "Percentage": 0.3704,
          "Type": "Individual"
         },
         {
          "Clinic": "NSFM",
          "Date": "2018-02-05",
          "Metric": "Smoker Pneumovax",
          "Name": "April Wakefield-Pagels",
          "Percentage": 0.5435,
          "Type": "Individual"
         },
         {
          "Clinic": "SFM",
          "Date": "2018-02-05",
          "Metric": "Smoker Pneumovax",
          "Name": "Joy Welty",
          "Percentage": 0.4583,
          "Type": "Individual"
         },
         {
          "Clinic": "SFM",
          "Date": "2018-02-05",
          "Metric": "Smoker Pneumovax",
          "Name": "Matt Werner",
          "Percentage": 0.6341,
          "Type": "Individual"
         },
         {
          "Clinic": "NCFP",
          "Date": "2018-02-05",
          "Metric": "Smoker Pneumovax",
          "Name": "Sloane Winkes",
          "Percentage": 0.5676,
          "Type": "Individual"
         },
         {
          "Clinic": "NSFM",
          "Date": "2018-02-05",
          "Metric": "Smoker Pneumovax",
          "Name": "Ying Wu",
          "Percentage": 0.5667,
          "Type": "Individual"
         },
         {
          "Clinic": "FHA",
          "Date": "2018-02-05",
          "Metric": "Smoker Pneumovax",
          "Name": "Ashley Yoder",
          "Percentage": 0.3333,
          "Type": "Individual"
         },
         {
          "Clinic": "LFM",
          "Date": "2018-03-12",
          "Metric": "Smoker Pneumovax",
          "Name": "Steven Alexander",
          "Percentage": 0.6667,
          "Type": "Individual"
         },
         {
          "Clinic": "BellB",
          "Date": "2018-03-12",
          "Metric": "Smoker Pneumovax",
          "Name": "Greg Anderson",
          "Percentage": 0.4556,
          "Type": "Individual"
         },
         {
          "Clinic": "FHA",
          "Date": "2018-03-12",
          "Metric": "Smoker Pneumovax",
          "Name": "Rodney Anderson",
          "Percentage": 0.6809,
          "Type": "Individual"
         },
         {
          "Clinic": "FFMC",
          "Date": "2018-03-12",
          "Metric": "Smoker Pneumovax",
          "Name": "Jennifer Bates",
          "Percentage": 0.5781,
          "Type": "Individual"
         },
         {
          "Clinic": "WFM",
          "Date": "2018-03-12",
          "Metric": "Smoker Pneumovax",
          "Name": "Shannon Billau",
          "Percentage": 0.4098,
          "Type": "Individual"
         },
         {
          "Clinic": "WFM",
          "Date": "2018-03-12",
          "Metric": "Smoker Pneumovax",
          "Name": "Richard Binder",
          "Percentage": 0.6444,
          "Type": "Individual"
         },
         {
          "Clinic": "IFP",
          "Date": "2018-03-12",
          "Metric": "Smoker Pneumovax",
          "Name": "Franklin Bjorseth",
          "Percentage": 0.4583,
          "Type": "Individual"
         },
         {
          "Clinic": "FHA",
          "Date": "2018-03-12",
          "Metric": "Smoker Pneumovax",
          "Name": "Edward Bloom",
          "Percentage": 0.4397,
          "Type": "Individual"
         },
         {
          "Clinic": "FHA",
          "Date": "2018-03-12",
          "Metric": "Smoker Pneumovax",
          "Name": "Jessica Bloom",
          "Percentage": 0.25,
          "Type": "Individual"
         },
         {
          "Clinic": "WFM",
          "Date": "2018-03-12",
          "Metric": "Smoker Pneumovax",
          "Name": "Steven Bloom",
          "Percentage": 0.4388,
          "Type": "Individual"
         },
         {
          "Clinic": "BellB",
          "Date": "2018-03-12",
          "Metric": "Smoker Pneumovax",
          "Name": "Ian Bonner",
          "Percentage": 0.3798,
          "Type": "Individual"
         },
         {
          "Clinic": "BellB",
          "Date": "2018-03-12",
          "Metric": "Smoker Pneumovax",
          "Name": "Sara Bowling",
          "Percentage": 0.3333,
          "Type": "Individual"
         },
         {
          "Clinic": "NSFM",
          "Date": "2018-03-12",
          "Metric": "Smoker Pneumovax",
          "Name": "Rory Bradt",
          "Percentage": 0.4154,
          "Type": "Individual"
         },
         {
          "Clinic": "FFMC",
          "Date": "2018-03-12",
          "Metric": "Smoker Pneumovax",
          "Name": "Rebecca Brejcha",
          "Percentage": null,
          "Type": "Individual"
         },
         {
          "Clinic": "NSFM",
          "Date": "2018-03-12",
          "Metric": "Smoker Pneumovax",
          "Name": "Lisa Brodsky",
          "Percentage": 0.3143,
          "Type": "Individual"
         },
         {
          "Clinic": "LFM",
          "Date": "2018-03-12",
          "Metric": "Smoker Pneumovax",
          "Name": "Margaret Burden",
          "Percentage": 0.4054,
          "Type": "Individual"
         },
         {
          "Clinic": "NCFP",
          "Date": "2018-03-12",
          "Metric": "Smoker Pneumovax",
          "Name": "Erik Bylund",
          "Percentage": 0.3154,
          "Type": "Individual"
         },
         {
          "Clinic": "LFM",
          "Date": "2018-03-12",
          "Metric": "Smoker Pneumovax",
          "Name": "Robin Caldwell",
          "Percentage": 0.475,
          "Type": "Individual"
         },
         {
          "Clinic": "NSFM",
          "Date": "2018-03-12",
          "Metric": "Smoker Pneumovax",
          "Name": "William Eiford",
          "Percentage": null,
          "Type": "Individual"
         },
         {
          "Clinic": "NCFP",
          "Date": "2018-03-12",
          "Metric": "Smoker Pneumovax",
          "Name": "Roger Estep",
          "Percentage": 0.3171,
          "Type": "Individual"
         },
         {
          "Clinic": "LFM",
          "Date": "2018-03-12",
          "Metric": "Smoker Pneumovax",
          "Name": "Michael Fleming",
          "Percentage": 0.3506,
          "Type": "Individual"
         },
         {
          "Clinic": "NSFM",
          "Date": "2018-03-12",
          "Metric": "Smoker Pneumovax",
          "Name": "Anneliese Floyd",
          "Percentage": 0.525,
          "Type": "Individual"
         },
         {
          "Clinic": "BellB",
          "Date": "2018-03-12",
          "Metric": "Smoker Pneumovax",
          "Name": "Laura Fox",
          "Percentage": 0.5,
          "Type": "Individual"
         },
         {
          "Clinic": "FFMC",
          "Date": "2018-03-12",
          "Metric": "Smoker Pneumovax",
          "Name": "Renay Fredette",
          "Percentage": 0.5167,
          "Type": "Individual"
         },
         {
          "Clinic": "NCFP",
          "Date": "2018-03-12",
          "Metric": "Smoker Pneumovax",
          "Name": "Kay-Kay Gambs",
          "Percentage": 0.1913,
          "Type": "Individual"
         },
         {
          "Clinic": "NCFP",
          "Date": "2018-03-12",
          "Metric": "Smoker Pneumovax",
          "Name": "Jonathan Gamson",
          "Percentage": 0.3185,
          "Type": "Individual"
         },
         {
          "Clinic": "NSFM",
          "Date": "2018-03-12",
          "Metric": "Smoker Pneumovax",
          "Name": "Elizabeth Gaylord",
          "Percentage": 0.5,
          "Type": "Individual"
         },
         {
          "Clinic": "IFP",
          "Date": "2018-03-12",
          "Metric": "Smoker Pneumovax",
          "Name": "Karen Goodman",
          "Percentage": 0.2821,
          "Type": "Individual"
         },
         {
          "Clinic": "FHA",
          "Date": "2018-03-12",
          "Metric": "Smoker Pneumovax",
          "Name": "Deborah Hall",
          "Percentage": 0.5844,
          "Type": "Individual"
         },
         {
          "Clinic": "NCFP",
          "Date": "2018-03-12",
          "Metric": "Smoker Pneumovax",
          "Name": "Janet Hansom",
          "Percentage": 0.5862,
          "Type": "Individual"
         },
         {
          "Clinic": "LFM",
          "Date": "2018-03-12",
          "Metric": "Smoker Pneumovax",
          "Name": "Larry Hartwell",
          "Percentage": 0.5185,
          "Type": "Individual"
         },
         {
          "Clinic": "SFM",
          "Date": "2018-03-12",
          "Metric": "Smoker Pneumovax",
          "Name": "Shelby Hein",
          "Percentage": 0.4737,
          "Type": "Individual"
         },
         {
          "Clinic": "SFM",
          "Date": "2018-03-12",
          "Metric": "Smoker Pneumovax",
          "Name": "Harry Herdman",
          "Percentage": 0.625,
          "Type": "Individual"
         },
         {
          "Clinic": "NSFM",
          "Date": "2018-03-12",
          "Metric": "Smoker Pneumovax",
          "Name": "Sarah Herman",
          "Percentage": null,
          "Type": "Individual"
         },
         {
          "Clinic": "LFM",
          "Date": "2018-03-12",
          "Metric": "Smoker Pneumovax",
          "Name": "John Hiemstra",
          "Percentage": 0.5306,
          "Type": "Individual"
         },
         {
          "Clinic": "SFM",
          "Date": "2018-03-12",
          "Metric": "Smoker Pneumovax",
          "Name": "Heather Honey",
          "Percentage": 0.4219,
          "Type": "Individual"
         },
         {
          "Clinic": "FHA",
          "Date": "2018-03-12",
          "Metric": "Smoker Pneumovax",
          "Name": "Ryan Honey",
          "Percentage": 0.2969,
          "Type": "Individual"
         },
         {
          "Clinic": "BellB",
          "Date": "2018-03-12",
          "Metric": "Smoker Pneumovax",
          "Name": "Jim Hopper",
          "Percentage": 0.4348,
          "Type": "Individual"
         },
         {
          "Clinic": "FFMC",
          "Date": "2018-03-12",
          "Metric": "Smoker Pneumovax",
          "Name": "John Hruby",
          "Percentage": 0.4701,
          "Type": "Individual"
         },
         {
          "Clinic": "FHA",
          "Date": "2018-03-12",
          "Metric": "Smoker Pneumovax",
          "Name": "Kellie Jacobs",
          "Percentage": 0.4348,
          "Type": "Individual"
         },
         {
          "Clinic": "IFP",
          "Date": "2018-03-12",
          "Metric": "Smoker Pneumovax",
          "Name": "Michael James",
          "Percentage": 0.2526,
          "Type": "Individual"
         },
         {
          "Clinic": "FHA",
          "Date": "2018-03-12",
          "Metric": "Smoker Pneumovax",
          "Name": "Sharon Kerlin",
          "Percentage": null,
          "Type": "Individual"
         },
         {
          "Clinic": "BBFM",
          "Date": "2018-03-12",
          "Metric": "Smoker Pneumovax",
          "Name": "Jessica Klassen",
          "Percentage": 0.2308,
          "Type": "Individual"
         },
         {
          "Clinic": "FHA",
          "Date": "2018-03-12",
          "Metric": "Smoker Pneumovax",
          "Name": "Meghan Lelonek",
          "Percentage": 0.4337,
          "Type": "Individual"
         },
         {
          "Clinic": "FFMC",
          "Date": "2018-03-12",
          "Metric": "Smoker Pneumovax",
          "Name": "Stephen Lewis",
          "Percentage": 0.4696,
          "Type": "Individual"
         },
         {
          "Clinic": "FFMC",
          "Date": "2018-03-12",
          "Metric": "Smoker Pneumovax",
          "Name": "Erin Maloney",
          "Percentage": null,
          "Type": "Individual"
         },
         {
          "Clinic": "NCFP",
          "Date": "2018-03-12",
          "Metric": "Smoker Pneumovax",
          "Name": "Ross McConahey",
          "Percentage": null,
          "Type": "Individual"
         },
         {
          "Clinic": "NSFM",
          "Date": "2018-03-12",
          "Metric": "Smoker Pneumovax",
          "Name": "Patrick McLaughlin",
          "Percentage": 0.4267,
          "Type": "Individual"
         },
         {
          "Clinic": "NCFP",
          "Date": "2018-03-12",
          "Metric": "Smoker Pneumovax",
          "Name": "Sally McPherson",
          "Percentage": 0.3882,
          "Type": "Individual"
         },
         {
          "Clinic": "NCFP",
          "Date": "2018-03-12",
          "Metric": "Smoker Pneumovax",
          "Name": "Lucia Muller",
          "Percentage": 0.5306,
          "Type": "Individual"
         },
         {
          "Clinic": "BellB",
          "Date": "2018-03-12",
          "Metric": "Smoker Pneumovax",
          "Name": "Karen O’Keefe",
          "Percentage": 0.3095,
          "Type": "Individual"
         },
         {
          "Clinic": "SFM",
          "Date": "2018-03-12",
          "Metric": "Smoker Pneumovax",
          "Name": "Lillian Pavlik",
          "Percentage": null,
          "Type": "Individual"
         },
         {
          "Clinic": "LFM",
          "Date": "2018-03-12",
          "Metric": "Smoker Pneumovax",
          "Name": "Patricia Payne-Zajac",
          "Percentage": 0.4286,
          "Type": "Individual"
         },
         {
          "Clinic": "NCFP",
          "Date": "2018-03-12",
          "Metric": "Smoker Pneumovax",
          "Name": "Jonathan Ploudre",
          "Percentage": 0.5413,
          "Type": "Individual"
         },
         {
          "Clinic": "NSFM",
          "Date": "2018-03-12",
          "Metric": "Smoker Pneumovax",
          "Name": "John Raduege",
          "Percentage": 0.5104,
          "Type": "Individual"
         },
         {
          "Clinic": "BBFM",
          "Date": "2018-03-12",
          "Metric": "Smoker Pneumovax",
          "Name": "Teresa Regier",
          "Percentage": 0.2258,
          "Type": "Individual"
         },
         {
          "Clinic": "FFMC",
          "Date": "2018-03-12",
          "Metric": "Smoker Pneumovax",
          "Name": "Claudia Rey",
          "Percentage": 0.5049,
          "Type": "Individual"
         },
         {
          "Clinic": "IFP",
          "Date": "2018-03-12",
          "Metric": "Smoker Pneumovax",
          "Name": "Robert Rieger",
          "Percentage": 0.5658,
          "Type": "Individual"
         },
         {
          "Clinic": "SFM",
          "Date": "2018-03-12",
          "Metric": "Smoker Pneumovax",
          "Name": "Deborah Roessler",
          "Percentage": 0.6098,
          "Type": "Individual"
         },
         {
          "Clinic": "FFMC",
          "Date": "2018-03-12",
          "Metric": "Smoker Pneumovax",
          "Name": "Berdi Sanford",
          "Percentage": 0.7595,
          "Type": "Individual"
         },
         {
          "Clinic": "NCFP",
          "Date": "2018-03-12",
          "Metric": "Smoker Pneumovax",
          "Name": "Lauren Sauve",
          "Percentage": 0.3566,
          "Type": "Individual"
         },
         {
          "Clinic": "BellB",
          "Date": "2018-03-12",
          "Metric": "Smoker Pneumovax",
          "Name": "Melana Schimke",
          "Percentage": 0.2273,
          "Type": "Individual"
         },
         {
          "Clinic": "FHA",
          "Date": "2018-03-12",
          "Metric": "Smoker Pneumovax",
          "Name": "Miriam Shapiro",
          "Percentage": 0.5676,
          "Type": "Individual"
         },
         {
          "Clinic": "NSFM",
          "Date": "2018-03-12",
          "Metric": "Smoker Pneumovax",
          "Name": "Jason Short",
          "Percentage": 0.4356,
          "Type": "Individual"
         },
         {
          "Clinic": "NSFM",
          "Date": "2018-03-12",
          "Metric": "Smoker Pneumovax",
          "Name": "Vicki Short",
          "Percentage": 0.5181,
          "Type": "Individual"
         },
         {
          "Clinic": "LFM",
          "Date": "2018-03-12",
          "Metric": "Smoker Pneumovax",
          "Name": "Ashley Snyder",
          "Percentage": 0.4444,
          "Type": "Individual"
         },
         {
          "Clinic": "FFMC",
          "Date": "2018-03-12",
          "Metric": "Smoker Pneumovax",
          "Name": "Kalani Synder",
          "Percentage": 0.1913,
          "Type": "Individual"
         },
         {
          "Clinic": "NSFM",
          "Date": "2018-03-12",
          "Metric": "Smoker Pneumovax",
          "Name": "Mary Swanson",
          "Percentage": 0.4688,
          "Type": "Individual"
         },
         {
          "Clinic": "IFP",
          "Date": "2018-03-12",
          "Metric": "Smoker Pneumovax",
          "Name": "Magaret Sweeney",
          "Percentage": 0.5116,
          "Type": "Individual"
         },
         {
          "Clinic": "WFM",
          "Date": "2018-03-12",
          "Metric": "Smoker Pneumovax",
          "Name": "Heather Thomson",
          "Percentage": 0.2941,
          "Type": "Individual"
         },
         {
          "Clinic": "BellB",
          "Date": "2018-03-12",
          "Metric": "Smoker Pneumovax",
          "Name": "Lisa Van Hofwegen",
          "Percentage": 0.3846,
          "Type": "Individual"
         },
         {
          "Clinic": "NSFM",
          "Date": "2018-03-12",
          "Metric": "Smoker Pneumovax",
          "Name": "April Wakefield-Pagels",
          "Percentage": 0.5909,
          "Type": "Individual"
         },
         {
          "Clinic": "SFM",
          "Date": "2018-03-12",
          "Metric": "Smoker Pneumovax",
          "Name": "Joy Welty",
          "Percentage": 0.44,
          "Type": "Individual"
         },
         {
          "Clinic": "SFM",
          "Date": "2018-03-12",
          "Metric": "Smoker Pneumovax",
          "Name": "Matt Werner",
          "Percentage": 0.6329,
          "Type": "Individual"
         },
         {
          "Clinic": "NCFP",
          "Date": "2018-03-12",
          "Metric": "Smoker Pneumovax",
          "Name": "Sloane Winkes",
          "Percentage": 0.6286,
          "Type": "Individual"
         },
         {
          "Clinic": "NSFM",
          "Date": "2018-03-12",
          "Metric": "Smoker Pneumovax",
          "Name": "Ying Wu",
          "Percentage": 0.5517,
          "Type": "Individual"
         },
         {
          "Clinic": "FHA",
          "Date": "2018-03-12",
          "Metric": "Smoker Pneumovax",
          "Name": "Ashley Yoder",
          "Percentage": 0.25,
          "Type": "Individual"
         },
         {
          "Clinic": "LFM",
          "Date": "2018-03-05",
          "Metric": "Smoker Pneumovax",
          "Name": "Steven Alexander",
          "Percentage": 0.6667,
          "Type": "Individual"
         },
         {
          "Clinic": "BellB",
          "Date": "2018-03-05",
          "Metric": "Smoker Pneumovax",
          "Name": "Greg Anderson",
          "Percentage": 0.4607,
          "Type": "Individual"
         },
         {
          "Clinic": "FHA",
          "Date": "2018-03-05",
          "Metric": "Smoker Pneumovax",
          "Name": "Rodney Anderson",
          "Percentage": 0.6809,
          "Type": "Individual"
         },
         {
          "Clinic": "FFMC",
          "Date": "2018-03-05",
          "Metric": "Smoker Pneumovax",
          "Name": "Jennifer Bates",
          "Percentage": 0.5781,
          "Type": "Individual"
         },
         {
          "Clinic": "WFM",
          "Date": "2018-03-05",
          "Metric": "Smoker Pneumovax",
          "Name": "Shannon Billau",
          "Percentage": 0.4167,
          "Type": "Individual"
         },
         {
          "Clinic": "WFM",
          "Date": "2018-03-05",
          "Metric": "Smoker Pneumovax",
          "Name": "Richard Binder",
          "Percentage": 0.6444,
          "Type": "Individual"
         },
         {
          "Clinic": "IFP",
          "Date": "2018-03-05",
          "Metric": "Smoker Pneumovax",
          "Name": "Franklin Bjorseth",
          "Percentage": 0.438,
          "Type": "Individual"
         },
         {
          "Clinic": "FHA",
          "Date": "2018-03-05",
          "Metric": "Smoker Pneumovax",
          "Name": "Edward Bloom",
          "Percentage": 0.4348,
          "Type": "Individual"
         },
         {
          "Clinic": "FHA",
          "Date": "2018-03-05",
          "Metric": "Smoker Pneumovax",
          "Name": "Jessica Bloom",
          "Percentage": 0.25,
          "Type": "Individual"
         },
         {
          "Clinic": "WFM",
          "Date": "2018-03-05",
          "Metric": "Smoker Pneumovax",
          "Name": "Steven Bloom",
          "Percentage": 0.4388,
          "Type": "Individual"
         },
         {
          "Clinic": "BellB",
          "Date": "2018-03-05",
          "Metric": "Smoker Pneumovax",
          "Name": "Ian Bonner",
          "Percentage": 0.3828,
          "Type": "Individual"
         },
         {
          "Clinic": "BellB",
          "Date": "2018-03-05",
          "Metric": "Smoker Pneumovax",
          "Name": "Sara Bowling",
          "Percentage": 0.3214,
          "Type": "Individual"
         },
         {
          "Clinic": "NSFM",
          "Date": "2018-03-05",
          "Metric": "Smoker Pneumovax",
          "Name": "Rory Bradt",
          "Percentage": 0.4135,
          "Type": "Individual"
         },
         {
          "Clinic": "FFMC",
          "Date": "2018-03-05",
          "Metric": "Smoker Pneumovax",
          "Name": "Rebecca Brejcha",
          "Percentage": null,
          "Type": "Individual"
         },
         {
          "Clinic": "NSFM",
          "Date": "2018-03-05",
          "Metric": "Smoker Pneumovax",
          "Name": "Lisa Brodsky",
          "Percentage": 0.3143,
          "Type": "Individual"
         },
         {
          "Clinic": "LFM",
          "Date": "2018-03-05",
          "Metric": "Smoker Pneumovax",
          "Name": "Margaret Burden",
          "Percentage": 0.4054,
          "Type": "Individual"
         },
         {
          "Clinic": "NCFP",
          "Date": "2018-03-05",
          "Metric": "Smoker Pneumovax",
          "Name": "Erik Bylund",
          "Percentage": 0.3,
          "Type": "Individual"
         },
         {
          "Clinic": "LFM",
          "Date": "2018-03-05",
          "Metric": "Smoker Pneumovax",
          "Name": "Robin Caldwell",
          "Percentage": 0.4688,
          "Type": "Individual"
         },
         {
          "Clinic": "NSFM",
          "Date": "2018-03-05",
          "Metric": "Smoker Pneumovax",
          "Name": "William Eiford",
          "Percentage": null,
          "Type": "Individual"
         },
         {
          "Clinic": "NCFP",
          "Date": "2018-03-05",
          "Metric": "Smoker Pneumovax",
          "Name": "Roger Estep",
          "Percentage": 0.3095,
          "Type": "Individual"
         },
         {
          "Clinic": "LFM",
          "Date": "2018-03-05",
          "Metric": "Smoker Pneumovax",
          "Name": "Michael Fleming",
          "Percentage": 0.3649,
          "Type": "Individual"
         },
         {
          "Clinic": "NSFM",
          "Date": "2018-03-05",
          "Metric": "Smoker Pneumovax",
          "Name": "Anneliese Floyd",
          "Percentage": 0.5238,
          "Type": "Individual"
         },
         {
          "Clinic": "BellB",
          "Date": "2018-03-05",
          "Metric": "Smoker Pneumovax",
          "Name": "Laura Fox",
          "Percentage": 0.5,
          "Type": "Individual"
         },
         {
          "Clinic": "FFMC",
          "Date": "2018-03-05",
          "Metric": "Smoker Pneumovax",
          "Name": "Renay Fredette",
          "Percentage": 0.5246,
          "Type": "Individual"
         },
         {
          "Clinic": "NCFP",
          "Date": "2018-03-05",
          "Metric": "Smoker Pneumovax",
          "Name": "Kay-Kay Gambs",
          "Percentage": 0.1913,
          "Type": "Individual"
         },
         {
          "Clinic": "NCFP",
          "Date": "2018-03-05",
          "Metric": "Smoker Pneumovax",
          "Name": "Jonathan Gamson",
          "Percentage": 0.306,
          "Type": "Individual"
         },
         {
          "Clinic": "NSFM",
          "Date": "2018-03-05",
          "Metric": "Smoker Pneumovax",
          "Name": "Elizabeth Gaylord",
          "Percentage": 0.5,
          "Type": "Individual"
         },
         {
          "Clinic": "IFP",
          "Date": "2018-03-05",
          "Metric": "Smoker Pneumovax",
          "Name": "Karen Goodman",
          "Percentage": 0.2821,
          "Type": "Individual"
         },
         {
          "Clinic": "FHA",
          "Date": "2018-03-05",
          "Metric": "Smoker Pneumovax",
          "Name": "Deborah Hall",
          "Percentage": 0.5844,
          "Type": "Individual"
         },
         {
          "Clinic": "NCFP",
          "Date": "2018-03-05",
          "Metric": "Smoker Pneumovax",
          "Name": "Janet Hansom",
          "Percentage": 0.5862,
          "Type": "Individual"
         },
         {
          "Clinic": "LFM",
          "Date": "2018-03-05",
          "Metric": "Smoker Pneumovax",
          "Name": "Larry Hartwell",
          "Percentage": 0.5047,
          "Type": "Individual"
         },
         {
          "Clinic": "SFM",
          "Date": "2018-03-05",
          "Metric": "Smoker Pneumovax",
          "Name": "Shelby Hein",
          "Percentage": 0.4737,
          "Type": "Individual"
         },
         {
          "Clinic": "SFM",
          "Date": "2018-03-05",
          "Metric": "Smoker Pneumovax",
          "Name": "Harry Herdman",
          "Percentage": 0.625,
          "Type": "Individual"
         },
         {
          "Clinic": "NSFM",
          "Date": "2018-03-05",
          "Metric": "Smoker Pneumovax",
          "Name": "Sarah Herman",
          "Percentage": null,
          "Type": "Individual"
         },
         {
          "Clinic": "LFM",
          "Date": "2018-03-05",
          "Metric": "Smoker Pneumovax",
          "Name": "John Hiemstra",
          "Percentage": 0.5374,
          "Type": "Individual"
         },
         {
          "Clinic": "SFM",
          "Date": "2018-03-05",
          "Metric": "Smoker Pneumovax",
          "Name": "Heather Honey",
          "Percentage": 0.4375,
          "Type": "Individual"
         },
         {
          "Clinic": "FHA",
          "Date": "2018-03-05",
          "Metric": "Smoker Pneumovax",
          "Name": "Ryan Honey",
          "Percentage": 0.2913,
          "Type": "Individual"
         },
         {
          "Clinic": "BellB",
          "Date": "2018-03-05",
          "Metric": "Smoker Pneumovax",
          "Name": "Jim Hopper",
          "Percentage": 0.4468,
          "Type": "Individual"
         },
         {
          "Clinic": "FFMC",
          "Date": "2018-03-05",
          "Metric": "Smoker Pneumovax",
          "Name": "John Hruby",
          "Percentage": 0.4661,
          "Type": "Individual"
         },
         {
          "Clinic": "FHA",
          "Date": "2018-03-05",
          "Metric": "Smoker Pneumovax",
          "Name": "Kellie Jacobs",
          "Percentage": 0.4348,
          "Type": "Individual"
         },
         {
          "Clinic": "IFP",
          "Date": "2018-03-05",
          "Metric": "Smoker Pneumovax",
          "Name": "Michael James",
          "Percentage": 0.2421,
          "Type": "Individual"
         },
         {
          "Clinic": "FHA",
          "Date": "2018-03-05",
          "Metric": "Smoker Pneumovax",
          "Name": "Sharon Kerlin",
          "Percentage": null,
          "Type": "Individual"
         },
         {
          "Clinic": "BBFM",
          "Date": "2018-03-05",
          "Metric": "Smoker Pneumovax",
          "Name": "Jessica Klassen",
          "Percentage": 0.2576,
          "Type": "Individual"
         },
         {
          "Clinic": "FHA",
          "Date": "2018-03-05",
          "Metric": "Smoker Pneumovax",
          "Name": "Meghan Lelonek",
          "Percentage": 0.4337,
          "Type": "Individual"
         },
         {
          "Clinic": "FFMC",
          "Date": "2018-03-05",
          "Metric": "Smoker Pneumovax",
          "Name": "Stephen Lewis",
          "Percentage": 0.4675,
          "Type": "Individual"
         },
         {
          "Clinic": "FFMC",
          "Date": "2018-03-05",
          "Metric": "Smoker Pneumovax",
          "Name": "Erin Maloney",
          "Percentage": null,
          "Type": "Individual"
         },
         {
          "Clinic": "NCFP",
          "Date": "2018-03-05",
          "Metric": "Smoker Pneumovax",
          "Name": "Ross McConahey",
          "Percentage": null,
          "Type": "Individual"
         },
         {
          "Clinic": "NSFM",
          "Date": "2018-03-05",
          "Metric": "Smoker Pneumovax",
          "Name": "Patrick McLaughlin",
          "Percentage": 0.4211,
          "Type": "Individual"
         },
         {
          "Clinic": "NCFP",
          "Date": "2018-03-05",
          "Metric": "Smoker Pneumovax",
          "Name": "Sally McPherson",
          "Percentage": 0.3882,
          "Type": "Individual"
         },
         {
          "Clinic": "NCFP",
          "Date": "2018-03-05",
          "Metric": "Smoker Pneumovax",
          "Name": "Lucia Muller",
          "Percentage": 0.5306,
          "Type": "Individual"
         },
         {
          "Clinic": "BellB",
          "Date": "2018-03-05",
          "Metric": "Smoker Pneumovax",
          "Name": "Karen O’Keefe",
          "Percentage": 0.3095,
          "Type": "Individual"
         },
         {
          "Clinic": "SFM",
          "Date": "2018-03-05",
          "Metric": "Smoker Pneumovax",
          "Name": "Lillian Pavlik",
          "Percentage": null,
          "Type": "Individual"
         },
         {
          "Clinic": "LFM",
          "Date": "2018-03-05",
          "Metric": "Smoker Pneumovax",
          "Name": "Patricia Payne-Zajac",
          "Percentage": 0.4182,
          "Type": "Individual"
         },
         {
          "Clinic": "NCFP",
          "Date": "2018-03-05",
          "Metric": "Smoker Pneumovax",
          "Name": "Jonathan Ploudre",
          "Percentage": 0.5315,
          "Type": "Individual"
         },
         {
          "Clinic": "NSFM",
          "Date": "2018-03-05",
          "Metric": "Smoker Pneumovax",
          "Name": "John Raduege",
          "Percentage": 0.5053,
          "Type": "Individual"
         },
         {
          "Clinic": "BBFM",
          "Date": "2018-03-05",
          "Metric": "Smoker Pneumovax",
          "Name": "Teresa Regier",
          "Percentage": 0.2208,
          "Type": "Individual"
         },
         {
          "Clinic": "FFMC",
          "Date": "2018-03-05",
          "Metric": "Smoker Pneumovax",
          "Name": "Claudia Rey",
          "Percentage": 0.5048,
          "Type": "Individual"
         },
         {
          "Clinic": "IFP",
          "Date": "2018-03-05",
          "Metric": "Smoker Pneumovax",
          "Name": "Robert Rieger",
          "Percentage": 0.5789,
          "Type": "Individual"
         },
         {
          "Clinic": "SFM",
          "Date": "2018-03-05",
          "Metric": "Smoker Pneumovax",
          "Name": "Deborah Roessler",
          "Percentage": 0.5952,
          "Type": "Individual"
         },
         {
          "Clinic": "FFMC",
          "Date": "2018-03-05",
          "Metric": "Smoker Pneumovax",
          "Name": "Berdi Sanford",
          "Percentage": 0.7531,
          "Type": "Individual"
         },
         {
          "Clinic": "NCFP",
          "Date": "2018-03-05",
          "Metric": "Smoker Pneumovax",
          "Name": "Lauren Sauve",
          "Percentage": 0.35,
          "Type": "Individual"
         },
         {
          "Clinic": "BellB",
          "Date": "2018-03-05",
          "Metric": "Smoker Pneumovax",
          "Name": "Melana Schimke",
          "Percentage": 0.2273,
          "Type": "Individual"
         },
         {
          "Clinic": "FHA",
          "Date": "2018-03-05",
          "Metric": "Smoker Pneumovax",
          "Name": "Miriam Shapiro",
          "Percentage": 0.5676,
          "Type": "Individual"
         },
         {
          "Clinic": "NSFM",
          "Date": "2018-03-05",
          "Metric": "Smoker Pneumovax",
          "Name": "Jason Short",
          "Percentage": 0.4356,
          "Type": "Individual"
         },
         {
          "Clinic": "NSFM",
          "Date": "2018-03-05",
          "Metric": "Smoker Pneumovax",
          "Name": "Vicki Short",
          "Percentage": 0.5181,
          "Type": "Individual"
         },
         {
          "Clinic": "LFM",
          "Date": "2018-03-05",
          "Metric": "Smoker Pneumovax",
          "Name": "Ashley Snyder",
          "Percentage": 0.4521,
          "Type": "Individual"
         },
         {
          "Clinic": "FFMC",
          "Date": "2018-03-05",
          "Metric": "Smoker Pneumovax",
          "Name": "Kalani Synder",
          "Percentage": 0.2,
          "Type": "Individual"
         },
         {
          "Clinic": "NSFM",
          "Date": "2018-03-05",
          "Metric": "Smoker Pneumovax",
          "Name": "Mary Swanson",
          "Percentage": 0.4688,
          "Type": "Individual"
         },
         {
          "Clinic": "IFP",
          "Date": "2018-03-05",
          "Metric": "Smoker Pneumovax",
          "Name": "Magaret Sweeney",
          "Percentage": 0.5,
          "Type": "Individual"
         },
         {
          "Clinic": "WFM",
          "Date": "2018-03-05",
          "Metric": "Smoker Pneumovax",
          "Name": "Heather Thomson",
          "Percentage": 0.2941,
          "Type": "Individual"
         },
         {
          "Clinic": "BellB",
          "Date": "2018-03-05",
          "Metric": "Smoker Pneumovax",
          "Name": "Lisa Van Hofwegen",
          "Percentage": 0.3846,
          "Type": "Individual"
         },
         {
          "Clinic": "NSFM",
          "Date": "2018-03-05",
          "Metric": "Smoker Pneumovax",
          "Name": "April Wakefield-Pagels",
          "Percentage": 0.5909,
          "Type": "Individual"
         },
         {
          "Clinic": "SFM",
          "Date": "2018-03-05",
          "Metric": "Smoker Pneumovax",
          "Name": "Joy Welty",
          "Percentage": 0.44,
          "Type": "Individual"
         },
         {
          "Clinic": "SFM",
          "Date": "2018-03-05",
          "Metric": "Smoker Pneumovax",
          "Name": "Matt Werner",
          "Percentage": 0.6375,
          "Type": "Individual"
         },
         {
          "Clinic": "NCFP",
          "Date": "2018-03-05",
          "Metric": "Smoker Pneumovax",
          "Name": "Sloane Winkes",
          "Percentage": 0.6111,
          "Type": "Individual"
         },
         {
          "Clinic": "NSFM",
          "Date": "2018-03-05",
          "Metric": "Smoker Pneumovax",
          "Name": "Ying Wu",
          "Percentage": 0.5517,
          "Type": "Individual"
         },
         {
          "Clinic": "FHA",
          "Date": "2018-03-05",
          "Metric": "Smoker Pneumovax",
          "Name": "Ashley Yoder",
          "Percentage": 0.2727,
          "Type": "Individual"
         },
         {
          "Clinic": "LFM",
          "Date": "2018-04-09",
          "Metric": "Smoker Pneumovax",
          "Name": "Steven Alexander",
          "Percentage": 0.6667,
          "Type": "Individual"
         },
         {
          "Clinic": "BellB",
          "Date": "2018-04-09",
          "Metric": "Smoker Pneumovax",
          "Name": "Greg Anderson",
          "Percentage": 0.4556,
          "Type": "Individual"
         },
         {
          "Clinic": "FHA",
          "Date": "2018-04-09",
          "Metric": "Smoker Pneumovax",
          "Name": "Rodney Anderson",
          "Percentage": 0.7045,
          "Type": "Individual"
         },
         {
          "Clinic": "FFMC",
          "Date": "2018-04-09",
          "Metric": "Smoker Pneumovax",
          "Name": "Jennifer Bates",
          "Percentage": 0.5873,
          "Type": "Individual"
         },
         {
          "Clinic": "WFM",
          "Date": "2018-04-09",
          "Metric": "Smoker Pneumovax",
          "Name": "Shannon Billau",
          "Percentage": 0.4098,
          "Type": "Individual"
         },
         {
          "Clinic": "WFM",
          "Date": "2018-04-09",
          "Metric": "Smoker Pneumovax",
          "Name": "Richard Binder",
          "Percentage": 0.6522,
          "Type": "Individual"
         },
         {
          "Clinic": "IFP",
          "Date": "2018-04-09",
          "Metric": "Smoker Pneumovax",
          "Name": "Franklin Bjorseth",
          "Percentage": 0.5,
          "Type": "Individual"
         },
         {
          "Clinic": "FHA",
          "Date": "2018-04-09",
          "Metric": "Smoker Pneumovax",
          "Name": "Edward Bloom",
          "Percentage": 0.4397,
          "Type": "Individual"
         },
         {
          "Clinic": "FHA",
          "Date": "2018-04-09",
          "Metric": "Smoker Pneumovax",
          "Name": "Jessica Bloom",
          "Percentage": 0.2632,
          "Type": "Individual"
         },
         {
          "Clinic": "WFM",
          "Date": "2018-04-09",
          "Metric": "Smoker Pneumovax",
          "Name": "Steven Bloom",
          "Percentage": 0.449,
          "Type": "Individual"
         },
         {
          "Clinic": "BellB",
          "Date": "2018-04-09",
          "Metric": "Smoker Pneumovax",
          "Name": "Ian Bonner",
          "Percentage": 0.3672,
          "Type": "Individual"
         },
         {
          "Clinic": "BellB",
          "Date": "2018-04-09",
          "Metric": "Smoker Pneumovax",
          "Name": "Sara Bowling",
          "Percentage": 0.3412,
          "Type": "Individual"
         },
         {
          "Clinic": "NSFM",
          "Date": "2018-04-09",
          "Metric": "Smoker Pneumovax",
          "Name": "Rory Bradt",
          "Percentage": 0.4231,
          "Type": "Individual"
         },
         {
          "Clinic": "FFMC",
          "Date": "2018-04-09",
          "Metric": "Smoker Pneumovax",
          "Name": "Rebecca Brejcha",
          "Percentage": null,
          "Type": "Individual"
         },
         {
          "Clinic": "NSFM",
          "Date": "2018-04-09",
          "Metric": "Smoker Pneumovax",
          "Name": "Lisa Brodsky",
          "Percentage": 0.3143,
          "Type": "Individual"
         },
         {
          "Clinic": "LFM",
          "Date": "2018-04-09",
          "Metric": "Smoker Pneumovax",
          "Name": "Margaret Burden",
          "Percentage": 0.4054,
          "Type": "Individual"
         },
         {
          "Clinic": "NCFP",
          "Date": "2018-04-09",
          "Metric": "Smoker Pneumovax",
          "Name": "Erik Bylund",
          "Percentage": 0.313,
          "Type": "Individual"
         },
         {
          "Clinic": "LFM",
          "Date": "2018-04-09",
          "Metric": "Smoker Pneumovax",
          "Name": "Robin Caldwell",
          "Percentage": 0.4872,
          "Type": "Individual"
         },
         {
          "Clinic": "NSFM",
          "Date": "2018-04-09",
          "Metric": "Smoker Pneumovax",
          "Name": "William Eiford",
          "Percentage": null,
          "Type": "Individual"
         },
         {
          "Clinic": "NCFP",
          "Date": "2018-04-09",
          "Metric": "Smoker Pneumovax",
          "Name": "Roger Estep",
          "Percentage": 0.3171,
          "Type": "Individual"
         },
         {
          "Clinic": "LFM",
          "Date": "2018-04-09",
          "Metric": "Smoker Pneumovax",
          "Name": "Michael Fleming",
          "Percentage": 0.3375,
          "Type": "Individual"
         },
         {
          "Clinic": "NSFM",
          "Date": "2018-04-09",
          "Metric": "Smoker Pneumovax",
          "Name": "Anneliese Floyd",
          "Percentage": 0.5385,
          "Type": "Individual"
         },
         {
          "Clinic": "BellB",
          "Date": "2018-04-09",
          "Metric": "Smoker Pneumovax",
          "Name": "Laura Fox",
          "Percentage": 0.5106,
          "Type": "Individual"
         },
         {
          "Clinic": "FFMC",
          "Date": "2018-04-09",
          "Metric": "Smoker Pneumovax",
          "Name": "Renay Fredette",
          "Percentage": 0.5167,
          "Type": "Individual"
         },
         {
          "Clinic": "NCFP",
          "Date": "2018-04-09",
          "Metric": "Smoker Pneumovax",
          "Name": "Kay-Kay Gambs",
          "Percentage": 0.2301,
          "Type": "Individual"
         },
         {
          "Clinic": "NCFP",
          "Date": "2018-04-09",
          "Metric": "Smoker Pneumovax",
          "Name": "Jonathan Gamson",
          "Percentage": 0.3358,
          "Type": "Individual"
         },
         {
          "Clinic": "NSFM",
          "Date": "2018-04-09",
          "Metric": "Smoker Pneumovax",
          "Name": "Elizabeth Gaylord",
          "Percentage": 0.5,
          "Type": "Individual"
         },
         {
          "Clinic": "IFP",
          "Date": "2018-04-09",
          "Metric": "Smoker Pneumovax",
          "Name": "Karen Goodman",
          "Percentage": 0.3,
          "Type": "Individual"
         },
         {
          "Clinic": "FHA",
          "Date": "2018-04-09",
          "Metric": "Smoker Pneumovax",
          "Name": "Deborah Hall",
          "Percentage": 0.589,
          "Type": "Individual"
         },
         {
          "Clinic": "NCFP",
          "Date": "2018-04-09",
          "Metric": "Smoker Pneumovax",
          "Name": "Janet Hansom",
          "Percentage": 0.5862,
          "Type": "Individual"
         },
         {
          "Clinic": "LFM",
          "Date": "2018-04-09",
          "Metric": "Smoker Pneumovax",
          "Name": "Larry Hartwell",
          "Percentage": 0.5278,
          "Type": "Individual"
         },
         {
          "Clinic": "SFM",
          "Date": "2018-04-09",
          "Metric": "Smoker Pneumovax",
          "Name": "Shelby Hein",
          "Percentage": 0.5263,
          "Type": "Individual"
         },
         {
          "Clinic": "SFM",
          "Date": "2018-04-09",
          "Metric": "Smoker Pneumovax",
          "Name": "Harry Herdman",
          "Percentage": 0.6667,
          "Type": "Individual"
         },
         {
          "Clinic": "NSFM",
          "Date": "2018-04-09",
          "Metric": "Smoker Pneumovax",
          "Name": "Sarah Herman",
          "Percentage": null,
          "Type": "Individual"
         },
         {
          "Clinic": "LFM",
          "Date": "2018-04-09",
          "Metric": "Smoker Pneumovax",
          "Name": "John Hiemstra",
          "Percentage": 0.5347,
          "Type": "Individual"
         },
         {
          "Clinic": "SFM",
          "Date": "2018-04-09",
          "Metric": "Smoker Pneumovax",
          "Name": "Heather Honey",
          "Percentage": 0.3971,
          "Type": "Individual"
         },
         {
          "Clinic": "FHA",
          "Date": "2018-04-09",
          "Metric": "Smoker Pneumovax",
          "Name": "Ryan Honey",
          "Percentage": 0.3205,
          "Type": "Individual"
         },
         {
          "Clinic": "BellB",
          "Date": "2018-04-09",
          "Metric": "Smoker Pneumovax",
          "Name": "Jim Hopper",
          "Percentage": 0.4186,
          "Type": "Individual"
         },
         {
          "Clinic": "FFMC",
          "Date": "2018-04-09",
          "Metric": "Smoker Pneumovax",
          "Name": "John Hruby",
          "Percentage": 0.4615,
          "Type": "Individual"
         },
         {
          "Clinic": "FHA",
          "Date": "2018-04-09",
          "Metric": "Smoker Pneumovax",
          "Name": "Kellie Jacobs",
          "Percentage": 0.4255,
          "Type": "Individual"
         },
         {
          "Clinic": "IFP",
          "Date": "2018-04-09",
          "Metric": "Smoker Pneumovax",
          "Name": "Michael James",
          "Percentage": 0.2474,
          "Type": "Individual"
         },
         {
          "Clinic": "FHA",
          "Date": "2018-04-09",
          "Metric": "Smoker Pneumovax",
          "Name": "Sharon Kerlin",
          "Percentage": null,
          "Type": "Individual"
         },
         {
          "Clinic": "BBFM",
          "Date": "2018-04-09",
          "Metric": "Smoker Pneumovax",
          "Name": "Jessica Klassen",
          "Percentage": 0.25,
          "Type": "Individual"
         },
         {
          "Clinic": "FHA",
          "Date": "2018-04-09",
          "Metric": "Smoker Pneumovax",
          "Name": "Meghan Lelonek",
          "Percentage": 0.4239,
          "Type": "Individual"
         },
         {
          "Clinic": "FFMC",
          "Date": "2018-04-09",
          "Metric": "Smoker Pneumovax",
          "Name": "Stephen Lewis",
          "Percentage": 0.4693,
          "Type": "Individual"
         },
         {
          "Clinic": "FFMC",
          "Date": "2018-04-09",
          "Metric": "Smoker Pneumovax",
          "Name": "Erin Maloney",
          "Percentage": null,
          "Type": "Individual"
         },
         {
          "Clinic": "NCFP",
          "Date": "2018-04-09",
          "Metric": "Smoker Pneumovax",
          "Name": "Ross McConahey",
          "Percentage": null,
          "Type": "Individual"
         },
         {
          "Clinic": "NSFM",
          "Date": "2018-04-09",
          "Metric": "Smoker Pneumovax",
          "Name": "Patrick McLaughlin",
          "Percentage": 0.4324,
          "Type": "Individual"
         },
         {
          "Clinic": "NCFP",
          "Date": "2018-04-09",
          "Metric": "Smoker Pneumovax",
          "Name": "Sally McPherson",
          "Percentage": 0.4,
          "Type": "Individual"
         },
         {
          "Clinic": "NCFP",
          "Date": "2018-04-09",
          "Metric": "Smoker Pneumovax",
          "Name": "Lucia Muller",
          "Percentage": 0.5435,
          "Type": "Individual"
         },
         {
          "Clinic": "BellB",
          "Date": "2018-04-09",
          "Metric": "Smoker Pneumovax",
          "Name": "Karen O’Keefe",
          "Percentage": 0.3256,
          "Type": "Individual"
         },
         {
          "Clinic": "SFM",
          "Date": "2018-04-09",
          "Metric": "Smoker Pneumovax",
          "Name": "Lillian Pavlik",
          "Percentage": null,
          "Type": "Individual"
         },
         {
          "Clinic": "LFM",
          "Date": "2018-04-09",
          "Metric": "Smoker Pneumovax",
          "Name": "Patricia Payne-Zajac",
          "Percentage": 0.4262,
          "Type": "Individual"
         },
         {
          "Clinic": "NCFP",
          "Date": "2018-04-09",
          "Metric": "Smoker Pneumovax",
          "Name": "Jonathan Ploudre",
          "Percentage": 0.5648,
          "Type": "Individual"
         },
         {
          "Clinic": "NSFM",
          "Date": "2018-04-09",
          "Metric": "Smoker Pneumovax",
          "Name": "John Raduege",
          "Percentage": 0.5263,
          "Type": "Individual"
         },
         {
          "Clinic": "BBFM",
          "Date": "2018-04-09",
          "Metric": "Smoker Pneumovax",
          "Name": "Teresa Regier",
          "Percentage": 0.2387,
          "Type": "Individual"
         },
         {
          "Clinic": "FFMC",
          "Date": "2018-04-09",
          "Metric": "Smoker Pneumovax",
          "Name": "Claudia Rey",
          "Percentage": 0.5253,
          "Type": "Individual"
         },
         {
          "Clinic": "IFP",
          "Date": "2018-04-09",
          "Metric": "Smoker Pneumovax",
          "Name": "Robert Rieger",
          "Percentage": 0.6027,
          "Type": "Individual"
         },
         {
          "Clinic": "SFM",
          "Date": "2018-04-09",
          "Metric": "Smoker Pneumovax",
          "Name": "Deborah Roessler",
          "Percentage": 0.6071,
          "Type": "Individual"
         },
         {
          "Clinic": "FFMC",
          "Date": "2018-04-09",
          "Metric": "Smoker Pneumovax",
          "Name": "Berdi Sanford",
          "Percentage": 0.7564,
          "Type": "Individual"
         },
         {
          "Clinic": "NCFP",
          "Date": "2018-04-09",
          "Metric": "Smoker Pneumovax",
          "Name": "Lauren Sauve",
          "Percentage": 0.3636,
          "Type": "Individual"
         },
         {
          "Clinic": "BellB",
          "Date": "2018-04-09",
          "Metric": "Smoker Pneumovax",
          "Name": "Melana Schimke",
          "Percentage": 0.2154,
          "Type": "Individual"
         },
         {
          "Clinic": "FHA",
          "Date": "2018-04-09",
          "Metric": "Smoker Pneumovax",
          "Name": "Miriam Shapiro",
          "Percentage": 0.5946,
          "Type": "Individual"
         },
         {
          "Clinic": "NSFM",
          "Date": "2018-04-09",
          "Metric": "Smoker Pneumovax",
          "Name": "Jason Short",
          "Percentage": 0.4175,
          "Type": "Individual"
         },
         {
          "Clinic": "NSFM",
          "Date": "2018-04-09",
          "Metric": "Smoker Pneumovax",
          "Name": "Vicki Short",
          "Percentage": 0.5238,
          "Type": "Individual"
         },
         {
          "Clinic": "LFM",
          "Date": "2018-04-09",
          "Metric": "Smoker Pneumovax",
          "Name": "Ashley Snyder",
          "Percentage": 0.4444,
          "Type": "Individual"
         },
         {
          "Clinic": "FFMC",
          "Date": "2018-04-09",
          "Metric": "Smoker Pneumovax",
          "Name": "Kalani Synder",
          "Percentage": 0.1849,
          "Type": "Individual"
         },
         {
          "Clinic": "NSFM",
          "Date": "2018-04-09",
          "Metric": "Smoker Pneumovax",
          "Name": "Mary Swanson",
          "Percentage": 0.4516,
          "Type": "Individual"
         },
         {
          "Clinic": "IFP",
          "Date": "2018-04-09",
          "Metric": "Smoker Pneumovax",
          "Name": "Magaret Sweeney",
          "Percentage": 0.4762,
          "Type": "Individual"
         },
         {
          "Clinic": "WFM",
          "Date": "2018-04-09",
          "Metric": "Smoker Pneumovax",
          "Name": "Heather Thomson",
          "Percentage": 0.3125,
          "Type": "Individual"
         },
         {
          "Clinic": "BellB",
          "Date": "2018-04-09",
          "Metric": "Smoker Pneumovax",
          "Name": "Lisa Van Hofwegen",
          "Percentage": 0.3704,
          "Type": "Individual"
         },
         {
          "Clinic": "NSFM",
          "Date": "2018-04-09",
          "Metric": "Smoker Pneumovax",
          "Name": "April Wakefield-Pagels",
          "Percentage": 0.6047,
          "Type": "Individual"
         },
         {
          "Clinic": "SFM",
          "Date": "2018-04-09",
          "Metric": "Smoker Pneumovax",
          "Name": "Joy Welty",
          "Percentage": 0.4583,
          "Type": "Individual"
         },
         {
          "Clinic": "SFM",
          "Date": "2018-04-09",
          "Metric": "Smoker Pneumovax",
          "Name": "Matt Werner",
          "Percentage": 0.6329,
          "Type": "Individual"
         },
         {
          "Clinic": "NCFP",
          "Date": "2018-04-09",
          "Metric": "Smoker Pneumovax",
          "Name": "Sloane Winkes",
          "Percentage": 0.6286,
          "Type": "Individual"
         },
         {
          "Clinic": "NSFM",
          "Date": "2018-04-09",
          "Metric": "Smoker Pneumovax",
          "Name": "Ying Wu",
          "Percentage": 0.5517,
          "Type": "Individual"
         },
         {
          "Clinic": "FHA",
          "Date": "2018-04-09",
          "Metric": "Smoker Pneumovax",
          "Name": "Ashley Yoder",
          "Percentage": 0.4091,
          "Type": "Individual"
         },
         {
          "Clinic": "LFM",
          "Date": "2017-12-04",
          "Metric": "Smoker Pneumovax",
          "Name": "Steven Alexander",
          "Percentage": 0.6438,
          "Type": "Individual"
         },
         {
          "Clinic": "BellB",
          "Date": "2017-12-04",
          "Metric": "Smoker Pneumovax",
          "Name": "Greg Anderson",
          "Percentage": 0.4157,
          "Type": "Individual"
         },
         {
          "Clinic": "FHA",
          "Date": "2017-12-04",
          "Metric": "Smoker Pneumovax",
          "Name": "Rodney Anderson",
          "Percentage": 0.6071,
          "Type": "Individual"
         },
         {
          "Clinic": "FFMC",
          "Date": "2017-12-04",
          "Metric": "Smoker Pneumovax",
          "Name": "Jennifer Bates",
          "Percentage": 0.5781,
          "Type": "Individual"
         },
         {
          "Clinic": "WFM",
          "Date": "2017-12-04",
          "Metric": "Smoker Pneumovax",
          "Name": "Shannon Billau",
          "Percentage": 0.3966,
          "Type": "Individual"
         },
         {
          "Clinic": "WFM",
          "Date": "2017-12-04",
          "Metric": "Smoker Pneumovax",
          "Name": "Richard Binder",
          "Percentage": 0.6444,
          "Type": "Individual"
         },
         {
          "Clinic": "IFP",
          "Date": "2017-12-04",
          "Metric": "Smoker Pneumovax",
          "Name": "Franklin Bjorseth",
          "Percentage": 0.4132,
          "Type": "Individual"
         },
         {
          "Clinic": "FHA",
          "Date": "2017-12-04",
          "Metric": "Smoker Pneumovax",
          "Name": "Edward Bloom",
          "Percentage": 0.4228,
          "Type": "Individual"
         },
         {
          "Clinic": "FHA",
          "Date": "2017-12-04",
          "Metric": "Smoker Pneumovax",
          "Name": "Jessica Bloom",
          "Percentage": 0.2778,
          "Type": "Individual"
         },
         {
          "Clinic": "WFM",
          "Date": "2017-12-04",
          "Metric": "Smoker Pneumovax",
          "Name": "Steven Bloom",
          "Percentage": 0.4105,
          "Type": "Individual"
         },
         {
          "Clinic": "BellB",
          "Date": "2017-12-04",
          "Metric": "Smoker Pneumovax",
          "Name": "Ian Bonner",
          "Percentage": 0.3622,
          "Type": "Individual"
         },
         {
          "Clinic": "BellB",
          "Date": "2017-12-04",
          "Metric": "Smoker Pneumovax",
          "Name": "Sara Bowling",
          "Percentage": 0.2976,
          "Type": "Individual"
         },
         {
          "Clinic": "NSFM",
          "Date": "2017-12-04",
          "Metric": "Smoker Pneumovax",
          "Name": "Rory Bradt",
          "Percentage": 0.3824,
          "Type": "Individual"
         },
         {
          "Clinic": "FFMC",
          "Date": "2017-12-04",
          "Metric": "Smoker Pneumovax",
          "Name": "Rebecca Brejcha",
          "Percentage": null,
          "Type": "Individual"
         },
         {
          "Clinic": "NSFM",
          "Date": "2017-12-04",
          "Metric": "Smoker Pneumovax",
          "Name": "Lisa Brodsky",
          "Percentage": 0.25,
          "Type": "Individual"
         },
         {
          "Clinic": "LFM",
          "Date": "2017-12-04",
          "Metric": "Smoker Pneumovax",
          "Name": "Margaret Burden",
          "Percentage": 0.3947,
          "Type": "Individual"
         },
         {
          "Clinic": "NCFP",
          "Date": "2017-12-04",
          "Metric": "Smoker Pneumovax",
          "Name": "Erik Bylund",
          "Percentage": 0.291,
          "Type": "Individual"
         },
         {
          "Clinic": "LFM",
          "Date": "2017-12-04",
          "Metric": "Smoker Pneumovax",
          "Name": "Robin Caldwell",
          "Percentage": 0.4383,
          "Type": "Individual"
         },
         {
          "Clinic": "NSFM",
          "Date": "2017-12-04",
          "Metric": "Smoker Pneumovax",
          "Name": "William Eiford",
          "Percentage": null,
          "Type": "Individual"
         },
         {
          "Clinic": "NCFP",
          "Date": "2017-12-04",
          "Metric": "Smoker Pneumovax",
          "Name": "Roger Estep",
          "Percentage": 0.2041,
          "Type": "Individual"
         },
         {
          "Clinic": "LFM",
          "Date": "2017-12-04",
          "Metric": "Smoker Pneumovax",
          "Name": "Michael Fleming",
          "Percentage": 0.2885,
          "Type": "Individual"
         },
         {
          "Clinic": "NSFM",
          "Date": "2017-12-04",
          "Metric": "Smoker Pneumovax",
          "Name": "Anneliese Floyd",
          "Percentage": 0.525,
          "Type": "Individual"
         },
         {
          "Clinic": "BellB",
          "Date": "2017-12-04",
          "Metric": "Smoker Pneumovax",
          "Name": "Laura Fox",
          "Percentage": 0.4468,
          "Type": "Individual"
         },
         {
          "Clinic": "FFMC",
          "Date": "2017-12-04",
          "Metric": "Smoker Pneumovax",
          "Name": "Renay Fredette",
          "Percentage": 0.5455,
          "Type": "Individual"
         },
         {
          "Clinic": "NCFP",
          "Date": "2017-12-04",
          "Metric": "Smoker Pneumovax",
          "Name": "Kay-Kay Gambs",
          "Percentage": 0.1721,
          "Type": "Individual"
         },
         {
          "Clinic": "NCFP",
          "Date": "2017-12-04",
          "Metric": "Smoker Pneumovax",
          "Name": "Jonathan Gamson",
          "Percentage": 0.2803,
          "Type": "Individual"
         },
         {
          "Clinic": "NSFM",
          "Date": "2017-12-04",
          "Metric": "Smoker Pneumovax",
          "Name": "Elizabeth Gaylord",
          "Percentage": 0.4516,
          "Type": "Individual"
         },
         {
          "Clinic": "IFP",
          "Date": "2017-12-04",
          "Metric": "Smoker Pneumovax",
          "Name": "Karen Goodman",
          "Percentage": 0.2564,
          "Type": "Individual"
         },
         {
          "Clinic": "FHA",
          "Date": "2017-12-04",
          "Metric": "Smoker Pneumovax",
          "Name": "Deborah Hall",
          "Percentage": 0.5526,
          "Type": "Individual"
         },
         {
          "Clinic": "NCFP",
          "Date": "2017-12-04",
          "Metric": "Smoker Pneumovax",
          "Name": "Janet Hansom",
          "Percentage": 0.5517,
          "Type": "Individual"
         },
         {
          "Clinic": "LFM",
          "Date": "2017-12-04",
          "Metric": "Smoker Pneumovax",
          "Name": "Larry Hartwell",
          "Percentage": 0.5046,
          "Type": "Individual"
         },
         {
          "Clinic": "SFM",
          "Date": "2017-12-04",
          "Metric": "Smoker Pneumovax",
          "Name": "Shelby Hein",
          "Percentage": 0.4754,
          "Type": "Individual"
         },
         {
          "Clinic": "SFM",
          "Date": "2017-12-04",
          "Metric": "Smoker Pneumovax",
          "Name": "Harry Herdman",
          "Percentage": 0.5867,
          "Type": "Individual"
         },
         {
          "Clinic": "NSFM",
          "Date": "2017-12-04",
          "Metric": "Smoker Pneumovax",
          "Name": "Sarah Herman",
          "Percentage": null,
          "Type": "Individual"
         },
         {
          "Clinic": "LFM",
          "Date": "2017-12-04",
          "Metric": "Smoker Pneumovax",
          "Name": "John Hiemstra",
          "Percentage": 0.5302,
          "Type": "Individual"
         },
         {
          "Clinic": "SFM",
          "Date": "2017-12-04",
          "Metric": "Smoker Pneumovax",
          "Name": "Heather Honey",
          "Percentage": 0.4167,
          "Type": "Individual"
         },
         {
          "Clinic": "FHA",
          "Date": "2017-12-04",
          "Metric": "Smoker Pneumovax",
          "Name": "Ryan Honey",
          "Percentage": 0.1364,
          "Type": "Individual"
         },
         {
          "Clinic": "BellB",
          "Date": "2017-12-04",
          "Metric": "Smoker Pneumovax",
          "Name": "Jim Hopper",
          "Percentage": 0.4583,
          "Type": "Individual"
         },
         {
          "Clinic": "FFMC",
          "Date": "2017-12-04",
          "Metric": "Smoker Pneumovax",
          "Name": "John Hruby",
          "Percentage": 0.4522,
          "Type": "Individual"
         },
         {
          "Clinic": "FHA",
          "Date": "2017-12-04",
          "Metric": "Smoker Pneumovax",
          "Name": "Kellie Jacobs",
          "Percentage": 0.4348,
          "Type": "Individual"
         },
         {
          "Clinic": "IFP",
          "Date": "2017-12-04",
          "Metric": "Smoker Pneumovax",
          "Name": "Michael James",
          "Percentage": 0.1828,
          "Type": "Individual"
         },
         {
          "Clinic": "FHA",
          "Date": "2017-12-04",
          "Metric": "Smoker Pneumovax",
          "Name": "Sharon Kerlin",
          "Percentage": null,
          "Type": "Individual"
         },
         {
          "Clinic": "BBFM",
          "Date": "2017-12-04",
          "Metric": "Smoker Pneumovax",
          "Name": "Jessica Klassen",
          "Percentage": 0.1667,
          "Type": "Individual"
         },
         {
          "Clinic": "FHA",
          "Date": "2017-12-04",
          "Metric": "Smoker Pneumovax",
          "Name": "Meghan Lelonek",
          "Percentage": 0.3415,
          "Type": "Individual"
         },
         {
          "Clinic": "FFMC",
          "Date": "2017-12-04",
          "Metric": "Smoker Pneumovax",
          "Name": "Stephen Lewis",
          "Percentage": 0.4403,
          "Type": "Individual"
         },
         {
          "Clinic": "FFMC",
          "Date": "2017-12-04",
          "Metric": "Smoker Pneumovax",
          "Name": "Erin Maloney",
          "Percentage": null,
          "Type": "Individual"
         },
         {
          "Clinic": "NCFP",
          "Date": "2017-12-04",
          "Metric": "Smoker Pneumovax",
          "Name": "Ross McConahey",
          "Percentage": null,
          "Type": "Individual"
         },
         {
          "Clinic": "NSFM",
          "Date": "2017-12-04",
          "Metric": "Smoker Pneumovax",
          "Name": "Patrick McLaughlin",
          "Percentage": 0.3562,
          "Type": "Individual"
         },
         {
          "Clinic": "NCFP",
          "Date": "2017-12-04",
          "Metric": "Smoker Pneumovax",
          "Name": "Sally McPherson",
          "Percentage": 0.3445,
          "Type": "Individual"
         },
         {
          "Clinic": "NCFP",
          "Date": "2017-12-04",
          "Metric": "Smoker Pneumovax",
          "Name": "Lucia Muller",
          "Percentage": 0.4651,
          "Type": "Individual"
         },
         {
          "Clinic": "BellB",
          "Date": "2017-12-04",
          "Metric": "Smoker Pneumovax",
          "Name": "Karen O’Keefe",
          "Percentage": 0.2381,
          "Type": "Individual"
         },
         {
          "Clinic": "SFM",
          "Date": "2017-12-04",
          "Metric": "Smoker Pneumovax",
          "Name": "Lillian Pavlik",
          "Percentage": null,
          "Type": "Individual"
         },
         {
          "Clinic": "LFM",
          "Date": "2017-12-04",
          "Metric": "Smoker Pneumovax",
          "Name": "Patricia Payne-Zajac",
          "Percentage": 0.3182,
          "Type": "Individual"
         },
         {
          "Clinic": "NCFP",
          "Date": "2017-12-04",
          "Metric": "Smoker Pneumovax",
          "Name": "Jonathan Ploudre",
          "Percentage": 0.5047,
          "Type": "Individual"
         },
         {
          "Clinic": "NSFM",
          "Date": "2017-12-04",
          "Metric": "Smoker Pneumovax",
          "Name": "John Raduege",
          "Percentage": 0.4947,
          "Type": "Individual"
         },
         {
          "Clinic": "BBFM",
          "Date": "2017-12-04",
          "Metric": "Smoker Pneumovax",
          "Name": "Teresa Regier",
          "Percentage": 0.2345,
          "Type": "Individual"
         },
         {
          "Clinic": "FFMC",
          "Date": "2017-12-04",
          "Metric": "Smoker Pneumovax",
          "Name": "Claudia Rey",
          "Percentage": 0.4825,
          "Type": "Individual"
         },
         {
          "Clinic": "IFP",
          "Date": "2017-12-04",
          "Metric": "Smoker Pneumovax",
          "Name": "Robert Rieger",
          "Percentage": 0.5316,
          "Type": "Individual"
         },
         {
          "Clinic": "SFM",
          "Date": "2017-12-04",
          "Metric": "Smoker Pneumovax",
          "Name": "Deborah Roessler",
          "Percentage": 0.5312,
          "Type": "Individual"
         },
         {
          "Clinic": "FFMC",
          "Date": "2017-12-04",
          "Metric": "Smoker Pneumovax",
          "Name": "Berdi Sanford",
          "Percentage": 0.725,
          "Type": "Individual"
         },
         {
          "Clinic": "NCFP",
          "Date": "2017-12-04",
          "Metric": "Smoker Pneumovax",
          "Name": "Lauren Sauve",
          "Percentage": 0.3458,
          "Type": "Individual"
         },
         {
          "Clinic": "BellB",
          "Date": "2017-12-04",
          "Metric": "Smoker Pneumovax",
          "Name": "Melana Schimke",
          "Percentage": 0.1791,
          "Type": "Individual"
         },
         {
          "Clinic": "FHA",
          "Date": "2017-12-04",
          "Metric": "Smoker Pneumovax",
          "Name": "Miriam Shapiro",
          "Percentage": 0.5278,
          "Type": "Individual"
         },
         {
          "Clinic": "NSFM",
          "Date": "2017-12-04",
          "Metric": "Smoker Pneumovax",
          "Name": "Jason Short",
          "Percentage": 0.3918,
          "Type": "Individual"
         },
         {
          "Clinic": "NSFM",
          "Date": "2017-12-04",
          "Metric": "Smoker Pneumovax",
          "Name": "Vicki Short",
          "Percentage": 0.4941,
          "Type": "Individual"
         },
         {
          "Clinic": "LFM",
          "Date": "2017-12-04",
          "Metric": "Smoker Pneumovax",
          "Name": "Ashley Snyder",
          "Percentage": 0.4727,
          "Type": "Individual"
         },
         {
          "Clinic": "FFMC",
          "Date": "2017-12-04",
          "Metric": "Smoker Pneumovax",
          "Name": "Kalani Synder",
          "Percentage": 0.2222,
          "Type": "Individual"
         },
         {
          "Clinic": "NSFM",
          "Date": "2017-12-04",
          "Metric": "Smoker Pneumovax",
          "Name": "Mary Swanson",
          "Percentage": 0.4375,
          "Type": "Individual"
         },
         {
          "Clinic": "IFP",
          "Date": "2017-12-04",
          "Metric": "Smoker Pneumovax",
          "Name": "Magaret Sweeney",
          "Percentage": 0.3333,
          "Type": "Individual"
         },
         {
          "Clinic": "WFM",
          "Date": "2017-12-04",
          "Metric": "Smoker Pneumovax",
          "Name": "Heather Thomson",
          "Percentage": 0.25,
          "Type": "Individual"
         },
         {
          "Clinic": "BellB",
          "Date": "2017-12-04",
          "Metric": "Smoker Pneumovax",
          "Name": "Lisa Van Hofwegen",
          "Percentage": 0.3929,
          "Type": "Individual"
         },
         {
          "Clinic": "NSFM",
          "Date": "2017-12-04",
          "Metric": "Smoker Pneumovax",
          "Name": "April Wakefield-Pagels",
          "Percentage": 0.5319,
          "Type": "Individual"
         },
         {
          "Clinic": "SFM",
          "Date": "2017-12-04",
          "Metric": "Smoker Pneumovax",
          "Name": "Joy Welty",
          "Percentage": 0.4444,
          "Type": "Individual"
         },
         {
          "Clinic": "SFM",
          "Date": "2017-12-04",
          "Metric": "Smoker Pneumovax",
          "Name": "Matt Werner",
          "Percentage": 0.6071,
          "Type": "Individual"
         },
         {
          "Clinic": "NCFP",
          "Date": "2017-12-04",
          "Metric": "Smoker Pneumovax",
          "Name": "Sloane Winkes",
          "Percentage": 0.5676,
          "Type": "Individual"
         },
         {
          "Clinic": "NSFM",
          "Date": "2017-12-04",
          "Metric": "Smoker Pneumovax",
          "Name": "Ying Wu",
          "Percentage": 0.5143,
          "Type": "Individual"
         },
         {
          "Clinic": "LFM",
          "Date": "2017-10-30",
          "Metric": "Smoker Pneumovax",
          "Name": "Steven Alexander",
          "Percentage": 0.6164,
          "Type": "Individual"
         },
         {
          "Clinic": "BellB",
          "Date": "2017-10-30",
          "Metric": "Smoker Pneumovax",
          "Name": "Greg Anderson",
          "Percentage": 0.4,
          "Type": "Individual"
         },
         {
          "Clinic": "FHA",
          "Date": "2017-10-30",
          "Metric": "Smoker Pneumovax",
          "Name": "Rodney Anderson",
          "Percentage": 0.6207,
          "Type": "Individual"
         },
         {
          "Clinic": "FFMC",
          "Date": "2017-10-30",
          "Metric": "Smoker Pneumovax",
          "Name": "Jennifer Bates",
          "Percentage": 0.5909,
          "Type": "Individual"
         },
         {
          "Clinic": "WFM",
          "Date": "2017-10-30",
          "Metric": "Smoker Pneumovax",
          "Name": "Shannon Billau",
          "Percentage": 0.4,
          "Type": "Individual"
         },
         {
          "Clinic": "WFM",
          "Date": "2017-10-30",
          "Metric": "Smoker Pneumovax",
          "Name": "Richard Binder",
          "Percentage": 0.6596,
          "Type": "Individual"
         },
         {
          "Clinic": "IFP",
          "Date": "2017-10-30",
          "Metric": "Smoker Pneumovax",
          "Name": "Franklin Bjorseth",
          "Percentage": 0.4118,
          "Type": "Individual"
         },
         {
          "Clinic": "FHA",
          "Date": "2017-10-30",
          "Metric": "Smoker Pneumovax",
          "Name": "Edward Bloom",
          "Percentage": 0.4113,
          "Type": "Individual"
         },
         {
          "Clinic": "FHA",
          "Date": "2017-10-30",
          "Metric": "Smoker Pneumovax",
          "Name": "Jessica Bloom",
          "Percentage": 0.2941,
          "Type": "Individual"
         },
         {
          "Clinic": "WFM",
          "Date": "2017-10-30",
          "Metric": "Smoker Pneumovax",
          "Name": "Steven Bloom",
          "Percentage": 0.4021,
          "Type": "Individual"
         },
         {
          "Clinic": "BellB",
          "Date": "2017-10-30",
          "Metric": "Smoker Pneumovax",
          "Name": "Ian Bonner",
          "Percentage": 0.3233,
          "Type": "Individual"
         },
         {
          "Clinic": "BellB",
          "Date": "2017-10-30",
          "Metric": "Smoker Pneumovax",
          "Name": "Sara Bowling",
          "Percentage": 0.2738,
          "Type": "Individual"
         },
         {
          "Clinic": "NSFM",
          "Date": "2017-10-30",
          "Metric": "Smoker Pneumovax",
          "Name": "Rory Bradt",
          "Percentage": 0.3669,
          "Type": "Individual"
         },
         {
          "Clinic": "FFMC",
          "Date": "2017-10-30",
          "Metric": "Smoker Pneumovax",
          "Name": "Rebecca Brejcha",
          "Percentage": null,
          "Type": "Individual"
         },
         {
          "Clinic": "NSFM",
          "Date": "2017-10-30",
          "Metric": "Smoker Pneumovax",
          "Name": "Lisa Brodsky",
          "Percentage": 0.2812,
          "Type": "Individual"
         },
         {
          "Clinic": "LFM",
          "Date": "2017-10-30",
          "Metric": "Smoker Pneumovax",
          "Name": "Margaret Burden",
          "Percentage": 0.4103,
          "Type": "Individual"
         },
         {
          "Clinic": "NCFP",
          "Date": "2017-10-30",
          "Metric": "Smoker Pneumovax",
          "Name": "Erik Bylund",
          "Percentage": 0.2782,
          "Type": "Individual"
         },
         {
          "Clinic": "LFM",
          "Date": "2017-10-30",
          "Metric": "Smoker Pneumovax",
          "Name": "Robin Caldwell",
          "Percentage": 0.4431,
          "Type": "Individual"
         },
         {
          "Clinic": "NSFM",
          "Date": "2017-10-30",
          "Metric": "Smoker Pneumovax",
          "Name": "William Eiford",
          "Percentage": null,
          "Type": "Individual"
         },
         {
          "Clinic": "NCFP",
          "Date": "2017-10-30",
          "Metric": "Smoker Pneumovax",
          "Name": "Roger Estep",
          "Percentage": 0.1875,
          "Type": "Individual"
         },
         {
          "Clinic": "LFM",
          "Date": "2017-10-30",
          "Metric": "Smoker Pneumovax",
          "Name": "Michael Fleming",
          "Percentage": 0.2917,
          "Type": "Individual"
         },
         {
          "Clinic": "NSFM",
          "Date": "2017-10-30",
          "Metric": "Smoker Pneumovax",
          "Name": "Anneliese Floyd",
          "Percentage": 0.525,
          "Type": "Individual"
         },
         {
          "Clinic": "BellB",
          "Date": "2017-10-30",
          "Metric": "Smoker Pneumovax",
          "Name": "Laura Fox",
          "Percentage": 0.4318,
          "Type": "Individual"
         },
         {
          "Clinic": "FFMC",
          "Date": "2017-10-30",
          "Metric": "Smoker Pneumovax",
          "Name": "Renay Fredette",
          "Percentage": 0.5556,
          "Type": "Individual"
         },
         {
          "Clinic": "NCFP",
          "Date": "2017-10-30",
          "Metric": "Smoker Pneumovax",
          "Name": "Kay-Kay Gambs",
          "Percentage": 0.1583,
          "Type": "Individual"
         },
         {
          "Clinic": "NCFP",
          "Date": "2017-10-30",
          "Metric": "Smoker Pneumovax",
          "Name": "Jonathan Gamson",
          "Percentage": 0.2615,
          "Type": "Individual"
         },
         {
          "Clinic": "NSFM",
          "Date": "2017-10-30",
          "Metric": "Smoker Pneumovax",
          "Name": "Elizabeth Gaylord",
          "Percentage": 0.4375,
          "Type": "Individual"
         },
         {
          "Clinic": "IFP",
          "Date": "2017-10-30",
          "Metric": "Smoker Pneumovax",
          "Name": "Karen Goodman",
          "Percentage": 0.225,
          "Type": "Individual"
         },
         {
          "Clinic": "FHA",
          "Date": "2017-10-30",
          "Metric": "Smoker Pneumovax",
          "Name": "Deborah Hall",
          "Percentage": 0.5641,
          "Type": "Individual"
         },
         {
          "Clinic": "NCFP",
          "Date": "2017-10-30",
          "Metric": "Smoker Pneumovax",
          "Name": "Janet Hansom",
          "Percentage": 0.5667,
          "Type": "Individual"
         },
         {
          "Clinic": "LFM",
          "Date": "2017-10-30",
          "Metric": "Smoker Pneumovax",
          "Name": "Larry Hartwell",
          "Percentage": 0.5045,
          "Type": "Individual"
         },
         {
          "Clinic": "SFM",
          "Date": "2017-10-30",
          "Metric": "Smoker Pneumovax",
          "Name": "Shelby Hein",
          "Percentage": 0.4754,
          "Type": "Individual"
         },
         {
          "Clinic": "SFM",
          "Date": "2017-10-30",
          "Metric": "Smoker Pneumovax",
          "Name": "Harry Herdman",
          "Percentage": 0.5811,
          "Type": "Individual"
         },
         {
          "Clinic": "NSFM",
          "Date": "2017-10-30",
          "Metric": "Smoker Pneumovax",
          "Name": "Sarah Herman",
          "Percentage": null,
          "Type": "Individual"
         },
         {
          "Clinic": "LFM",
          "Date": "2017-10-30",
          "Metric": "Smoker Pneumovax",
          "Name": "John Hiemstra",
          "Percentage": 0.5229,
          "Type": "Individual"
         },
         {
          "Clinic": "SFM",
          "Date": "2017-10-30",
          "Metric": "Smoker Pneumovax",
          "Name": "Heather Honey",
          "Percentage": 0.3934,
          "Type": "Individual"
         },
         {
          "Clinic": "FHA",
          "Date": "2017-10-30",
          "Metric": "Smoker Pneumovax",
          "Name": "Ryan Honey",
          "Percentage": 0.1538,
          "Type": "Individual"
         },
         {
          "Clinic": "BellB",
          "Date": "2017-10-30",
          "Metric": "Smoker Pneumovax",
          "Name": "Jim Hopper",
          "Percentage": 0.4792,
          "Type": "Individual"
         },
         {
          "Clinic": "FFMC",
          "Date": "2017-10-30",
          "Metric": "Smoker Pneumovax",
          "Name": "John Hruby",
          "Percentage": 0.4483,
          "Type": "Individual"
         },
         {
          "Clinic": "FHA",
          "Date": "2017-10-30",
          "Metric": "Smoker Pneumovax",
          "Name": "Kellie Jacobs",
          "Percentage": 0.4375,
          "Type": "Individual"
         },
         {
          "Clinic": "IFP",
          "Date": "2017-10-30",
          "Metric": "Smoker Pneumovax",
          "Name": "Michael James",
          "Percentage": 0.1848,
          "Type": "Individual"
         },
         {
          "Clinic": "FHA",
          "Date": "2017-10-30",
          "Metric": "Smoker Pneumovax",
          "Name": "Sharon Kerlin",
          "Percentage": null,
          "Type": "Individual"
         },
         {
          "Clinic": "BBFM",
          "Date": "2017-10-30",
          "Metric": "Smoker Pneumovax",
          "Name": "Jessica Klassen",
          "Percentage": 0.0833,
          "Type": "Individual"
         },
         {
          "Clinic": "FHA",
          "Date": "2017-10-30",
          "Metric": "Smoker Pneumovax",
          "Name": "Meghan Lelonek",
          "Percentage": 0.3333,
          "Type": "Individual"
         },
         {
          "Clinic": "FFMC",
          "Date": "2017-10-30",
          "Metric": "Smoker Pneumovax",
          "Name": "Stephen Lewis",
          "Percentage": 0.4431,
          "Type": "Individual"
         },
         {
          "Clinic": "FFMC",
          "Date": "2017-10-30",
          "Metric": "Smoker Pneumovax",
          "Name": "Erin Maloney",
          "Percentage": null,
          "Type": "Individual"
         },
         {
          "Clinic": "NCFP",
          "Date": "2017-10-30",
          "Metric": "Smoker Pneumovax",
          "Name": "Ross McConahey",
          "Percentage": null,
          "Type": "Individual"
         },
         {
          "Clinic": "NSFM",
          "Date": "2017-10-30",
          "Metric": "Smoker Pneumovax",
          "Name": "Patrick McLaughlin",
          "Percentage": 0.3571,
          "Type": "Individual"
         },
         {
          "Clinic": "NCFP",
          "Date": "2017-10-30",
          "Metric": "Smoker Pneumovax",
          "Name": "Sally McPherson",
          "Percentage": 0.3243,
          "Type": "Individual"
         },
         {
          "Clinic": "NCFP",
          "Date": "2017-10-30",
          "Metric": "Smoker Pneumovax",
          "Name": "Lucia Muller",
          "Percentage": 0.4444,
          "Type": "Individual"
         },
         {
          "Clinic": "BellB",
          "Date": "2017-10-30",
          "Metric": "Smoker Pneumovax",
          "Name": "Karen O’Keefe",
          "Percentage": 0.2326,
          "Type": "Individual"
         },
         {
          "Clinic": "SFM",
          "Date": "2017-10-30",
          "Metric": "Smoker Pneumovax",
          "Name": "Lillian Pavlik",
          "Percentage": null,
          "Type": "Individual"
         },
         {
          "Clinic": "LFM",
          "Date": "2017-10-30",
          "Metric": "Smoker Pneumovax",
          "Name": "Patricia Payne-Zajac",
          "Percentage": 0.1875,
          "Type": "Individual"
         },
         {
          "Clinic": "NCFP",
          "Date": "2017-10-30",
          "Metric": "Smoker Pneumovax",
          "Name": "Jonathan Ploudre",
          "Percentage": 0.4722,
          "Type": "Individual"
         },
         {
          "Clinic": "NSFM",
          "Date": "2017-10-30",
          "Metric": "Smoker Pneumovax",
          "Name": "John Raduege",
          "Percentage": 0.4694,
          "Type": "Individual"
         },
         {
          "Clinic": "BBFM",
          "Date": "2017-10-30",
          "Metric": "Smoker Pneumovax",
          "Name": "Teresa Regier",
          "Percentage": 0.2384,
          "Type": "Individual"
         },
         {
          "Clinic": "FFMC",
          "Date": "2017-10-30",
          "Metric": "Smoker Pneumovax",
          "Name": "Claudia Rey",
          "Percentage": 0.4828,
          "Type": "Individual"
         },
         {
          "Clinic": "IFP",
          "Date": "2017-10-30",
          "Metric": "Smoker Pneumovax",
          "Name": "Robert Rieger",
          "Percentage": 0.5256,
          "Type": "Individual"
         },
         {
          "Clinic": "SFM",
          "Date": "2017-10-30",
          "Metric": "Smoker Pneumovax",
          "Name": "Deborah Roessler",
          "Percentage": 0.5312,
          "Type": "Individual"
         },
         {
          "Clinic": "FFMC",
          "Date": "2017-10-30",
          "Metric": "Smoker Pneumovax",
          "Name": "Berdi Sanford",
          "Percentage": 0.7229,
          "Type": "Individual"
         },
         {
          "Clinic": "NCFP",
          "Date": "2017-10-30",
          "Metric": "Smoker Pneumovax",
          "Name": "Lauren Sauve",
          "Percentage": 0.3302,
          "Type": "Individual"
         },
         {
          "Clinic": "BellB",
          "Date": "2017-10-30",
          "Metric": "Smoker Pneumovax",
          "Name": "Melana Schimke",
          "Percentage": 0.1343,
          "Type": "Individual"
         },
         {
          "Clinic": "FHA",
          "Date": "2017-10-30",
          "Metric": "Smoker Pneumovax",
          "Name": "Miriam Shapiro",
          "Percentage": 0.4571,
          "Type": "Individual"
         },
         {
          "Clinic": "NSFM",
          "Date": "2017-10-30",
          "Metric": "Smoker Pneumovax",
          "Name": "Jason Short",
          "Percentage": 0.4124,
          "Type": "Individual"
         },
         {
          "Clinic": "NSFM",
          "Date": "2017-10-30",
          "Metric": "Smoker Pneumovax",
          "Name": "Vicki Short",
          "Percentage": 0.4941,
          "Type": "Individual"
         },
         {
          "Clinic": "LFM",
          "Date": "2017-10-30",
          "Metric": "Smoker Pneumovax",
          "Name": "Ashley Snyder",
          "Percentage": 0.4681,
          "Type": "Individual"
         },
         {
          "Clinic": "FFMC",
          "Date": "2017-10-30",
          "Metric": "Smoker Pneumovax",
          "Name": "Kalani Synder",
          "Percentage": 0.2258,
          "Type": "Individual"
         },
         {
          "Clinic": "NSFM",
          "Date": "2017-10-30",
          "Metric": "Smoker Pneumovax",
          "Name": "Mary Swanson",
          "Percentage": 0.4118,
          "Type": "Individual"
         },
         {
          "Clinic": "IFP",
          "Date": "2017-10-30",
          "Metric": "Smoker Pneumovax",
          "Name": "Magaret Sweeney",
          "Percentage": 0.3415,
          "Type": "Individual"
         },
         {
          "Clinic": "WFM",
          "Date": "2017-10-30",
          "Metric": "Smoker Pneumovax",
          "Name": "Heather Thomson",
          "Percentage": 0.2222,
          "Type": "Individual"
         },
         {
          "Clinic": "BellB",
          "Date": "2017-10-30",
          "Metric": "Smoker Pneumovax",
          "Name": "Lisa Van Hofwegen",
          "Percentage": 0.3667,
          "Type": "Individual"
         },
         {
          "Clinic": "NSFM",
          "Date": "2017-10-30",
          "Metric": "Smoker Pneumovax",
          "Name": "April Wakefield-Pagels",
          "Percentage": 0.5319,
          "Type": "Individual"
         },
         {
          "Clinic": "SFM",
          "Date": "2017-10-30",
          "Metric": "Smoker Pneumovax",
          "Name": "Joy Welty",
          "Percentage": 0.4375,
          "Type": "Individual"
         },
         {
          "Clinic": "SFM",
          "Date": "2017-10-30",
          "Metric": "Smoker Pneumovax",
          "Name": "Matt Werner",
          "Percentage": 0.593,
          "Type": "Individual"
         },
         {
          "Clinic": "NCFP",
          "Date": "2017-10-30",
          "Metric": "Smoker Pneumovax",
          "Name": "Sloane Winkes",
          "Percentage": 0.5833,
          "Type": "Individual"
         },
         {
          "Clinic": "NSFM",
          "Date": "2017-10-30",
          "Metric": "Smoker Pneumovax",
          "Name": "Ying Wu",
          "Percentage": 0.5,
          "Type": "Individual"
         },
         {
          "Clinic": "LFM",
          "Date": "2018-01-01",
          "Metric": "Smoker Pneumovax",
          "Name": "Steven Alexander",
          "Percentage": 0.6389,
          "Type": "Individual"
         },
         {
          "Clinic": "BellB",
          "Date": "2018-01-01",
          "Metric": "Smoker Pneumovax",
          "Name": "Greg Anderson",
          "Percentage": 0.4222,
          "Type": "Individual"
         },
         {
          "Clinic": "FHA",
          "Date": "2018-01-01",
          "Metric": "Smoker Pneumovax",
          "Name": "Rodney Anderson",
          "Percentage": 0.6296,
          "Type": "Individual"
         },
         {
          "Clinic": "FFMC",
          "Date": "2018-01-01",
          "Metric": "Smoker Pneumovax",
          "Name": "Jennifer Bates",
          "Percentage": 0.5692,
          "Type": "Individual"
         },
         {
          "Clinic": "WFM",
          "Date": "2018-01-01",
          "Metric": "Smoker Pneumovax",
          "Name": "Shannon Billau",
          "Percentage": 0.4,
          "Type": "Individual"
         },
         {
          "Clinic": "WFM",
          "Date": "2018-01-01",
          "Metric": "Smoker Pneumovax",
          "Name": "Richard Binder",
          "Percentage": 0.6444,
          "Type": "Individual"
         },
         {
          "Clinic": "IFP",
          "Date": "2018-01-01",
          "Metric": "Smoker Pneumovax",
          "Name": "Franklin Bjorseth",
          "Percentage": 0.4167,
          "Type": "Individual"
         },
         {
          "Clinic": "FHA",
          "Date": "2018-01-01",
          "Metric": "Smoker Pneumovax",
          "Name": "Edward Bloom",
          "Percentage": 0.4454,
          "Type": "Individual"
         },
         {
          "Clinic": "FHA",
          "Date": "2018-01-01",
          "Metric": "Smoker Pneumovax",
          "Name": "Jessica Bloom",
          "Percentage": 0.2778,
          "Type": "Individual"
         },
         {
          "Clinic": "WFM",
          "Date": "2018-01-01",
          "Metric": "Smoker Pneumovax",
          "Name": "Steven Bloom",
          "Percentage": 0.4149,
          "Type": "Individual"
         },
         {
          "Clinic": "BellB",
          "Date": "2018-01-01",
          "Metric": "Smoker Pneumovax",
          "Name": "Ian Bonner",
          "Percentage": 0.3672,
          "Type": "Individual"
         },
         {
          "Clinic": "BellB",
          "Date": "2018-01-01",
          "Metric": "Smoker Pneumovax",
          "Name": "Sara Bowling",
          "Percentage": 0.3256,
          "Type": "Individual"
         },
         {
          "Clinic": "NSFM",
          "Date": "2018-01-01",
          "Metric": "Smoker Pneumovax",
          "Name": "Rory Bradt",
          "Percentage": 0.3731,
          "Type": "Individual"
         },
         {
          "Clinic": "FFMC",
          "Date": "2018-01-01",
          "Metric": "Smoker Pneumovax",
          "Name": "Rebecca Brejcha",
          "Percentage": null,
          "Type": "Individual"
         },
         {
          "Clinic": "NSFM",
          "Date": "2018-01-01",
          "Metric": "Smoker Pneumovax",
          "Name": "Lisa Brodsky",
          "Percentage": 0.2258,
          "Type": "Individual"
         },
         {
          "Clinic": "LFM",
          "Date": "2018-01-01",
          "Metric": "Smoker Pneumovax",
          "Name": "Margaret Burden",
          "Percentage": 0.3947,
          "Type": "Individual"
         },
         {
          "Clinic": "NCFP",
          "Date": "2018-01-01",
          "Metric": "Smoker Pneumovax",
          "Name": "Erik Bylund",
          "Percentage": 0.2889,
          "Type": "Individual"
         },
         {
          "Clinic": "LFM",
          "Date": "2018-01-01",
          "Metric": "Smoker Pneumovax",
          "Name": "Robin Caldwell",
          "Percentage": 0.4356,
          "Type": "Individual"
         },
         {
          "Clinic": "NSFM",
          "Date": "2018-01-01",
          "Metric": "Smoker Pneumovax",
          "Name": "William Eiford",
          "Percentage": null,
          "Type": "Individual"
         },
         {
          "Clinic": "NCFP",
          "Date": "2018-01-01",
          "Metric": "Smoker Pneumovax",
          "Name": "Roger Estep",
          "Percentage": 0.2083,
          "Type": "Individual"
         },
         {
          "Clinic": "LFM",
          "Date": "2018-01-01",
          "Metric": "Smoker Pneumovax",
          "Name": "Michael Fleming",
          "Percentage": 0.3276,
          "Type": "Individual"
         },
         {
          "Clinic": "NSFM",
          "Date": "2018-01-01",
          "Metric": "Smoker Pneumovax",
          "Name": "Anneliese Floyd",
          "Percentage": 0.525,
          "Type": "Individual"
         },
         {
          "Clinic": "BellB",
          "Date": "2018-01-01",
          "Metric": "Smoker Pneumovax",
          "Name": "Laura Fox",
          "Percentage": 0.4583,
          "Type": "Individual"
         },
         {
          "Clinic": "FFMC",
          "Date": "2018-01-01",
          "Metric": "Smoker Pneumovax",
          "Name": "Renay Fredette",
          "Percentage": 0.5312,
          "Type": "Individual"
         },
         {
          "Clinic": "NCFP",
          "Date": "2018-01-01",
          "Metric": "Smoker Pneumovax",
          "Name": "Kay-Kay Gambs",
          "Percentage": 0.1983,
          "Type": "Individual"
         },
         {
          "Clinic": "NCFP",
          "Date": "2018-01-01",
          "Metric": "Smoker Pneumovax",
          "Name": "Jonathan Gamson",
          "Percentage": 0.2782,
          "Type": "Individual"
         },
         {
          "Clinic": "NSFM",
          "Date": "2018-01-01",
          "Metric": "Smoker Pneumovax",
          "Name": "Elizabeth Gaylord",
          "Percentage": 0.4643,
          "Type": "Individual"
         },
         {
          "Clinic": "IFP",
          "Date": "2018-01-01",
          "Metric": "Smoker Pneumovax",
          "Name": "Karen Goodman",
          "Percentage": 0.2973,
          "Type": "Individual"
         },
         {
          "Clinic": "FHA",
          "Date": "2018-01-01",
          "Metric": "Smoker Pneumovax",
          "Name": "Deborah Hall",
          "Percentage": 0.5714,
          "Type": "Individual"
         },
         {
          "Clinic": "NCFP",
          "Date": "2018-01-01",
          "Metric": "Smoker Pneumovax",
          "Name": "Janet Hansom",
          "Percentage": 0.5517,
          "Type": "Individual"
         },
         {
          "Clinic": "LFM",
          "Date": "2018-01-01",
          "Metric": "Smoker Pneumovax",
          "Name": "Larry Hartwell",
          "Percentage": 0.4954,
          "Type": "Individual"
         },
         {
          "Clinic": "SFM",
          "Date": "2018-01-01",
          "Metric": "Smoker Pneumovax",
          "Name": "Shelby Hein",
          "Percentage": 0.4918,
          "Type": "Individual"
         },
         {
          "Clinic": "SFM",
          "Date": "2018-01-01",
          "Metric": "Smoker Pneumovax",
          "Name": "Harry Herdman",
          "Percentage": 0.6164,
          "Type": "Individual"
         },
         {
          "Clinic": "NSFM",
          "Date": "2018-01-01",
          "Metric": "Smoker Pneumovax",
          "Name": "Sarah Herman",
          "Percentage": null,
          "Type": "Individual"
         },
         {
          "Clinic": "LFM",
          "Date": "2018-01-01",
          "Metric": "Smoker Pneumovax",
          "Name": "John Hiemstra",
          "Percentage": 0.5369,
          "Type": "Individual"
         },
         {
          "Clinic": "SFM",
          "Date": "2018-01-01",
          "Metric": "Smoker Pneumovax",
          "Name": "Heather Honey",
          "Percentage": 0.4098,
          "Type": "Individual"
         },
         {
          "Clinic": "FHA",
          "Date": "2018-01-01",
          "Metric": "Smoker Pneumovax",
          "Name": "Ryan Honey",
          "Percentage": 0.2468,
          "Type": "Individual"
         },
         {
          "Clinic": "BellB",
          "Date": "2018-01-01",
          "Metric": "Smoker Pneumovax",
          "Name": "Jim Hopper",
          "Percentage": 0.449,
          "Type": "Individual"
         },
         {
          "Clinic": "FFMC",
          "Date": "2018-01-01",
          "Metric": "Smoker Pneumovax",
          "Name": "John Hruby",
          "Percentage": 0.4622,
          "Type": "Individual"
         },
         {
          "Clinic": "FHA",
          "Date": "2018-01-01",
          "Metric": "Smoker Pneumovax",
          "Name": "Kellie Jacobs",
          "Percentage": 0.4348,
          "Type": "Individual"
         },
         {
          "Clinic": "IFP",
          "Date": "2018-01-01",
          "Metric": "Smoker Pneumovax",
          "Name": "Michael James",
          "Percentage": 0.2021,
          "Type": "Individual"
         },
         {
          "Clinic": "FHA",
          "Date": "2018-01-01",
          "Metric": "Smoker Pneumovax",
          "Name": "Sharon Kerlin",
          "Percentage": null,
          "Type": "Individual"
         },
         {
          "Clinic": "BBFM",
          "Date": "2018-01-01",
          "Metric": "Smoker Pneumovax",
          "Name": "Jessica Klassen",
          "Percentage": 0.2391,
          "Type": "Individual"
         },
         {
          "Clinic": "FHA",
          "Date": "2018-01-01",
          "Metric": "Smoker Pneumovax",
          "Name": "Meghan Lelonek",
          "Percentage": 0.3412,
          "Type": "Individual"
         },
         {
          "Clinic": "FFMC",
          "Date": "2018-01-01",
          "Metric": "Smoker Pneumovax",
          "Name": "Stephen Lewis",
          "Percentage": 0.444,
          "Type": "Individual"
         },
         {
          "Clinic": "FFMC",
          "Date": "2018-01-01",
          "Metric": "Smoker Pneumovax",
          "Name": "Erin Maloney",
          "Percentage": null,
          "Type": "Individual"
         },
         {
          "Clinic": "NCFP",
          "Date": "2018-01-01",
          "Metric": "Smoker Pneumovax",
          "Name": "Ross McConahey",
          "Percentage": null,
          "Type": "Individual"
         },
         {
          "Clinic": "NSFM",
          "Date": "2018-01-01",
          "Metric": "Smoker Pneumovax",
          "Name": "Patrick McLaughlin",
          "Percentage": 0.3553,
          "Type": "Individual"
         },
         {
          "Clinic": "NCFP",
          "Date": "2018-01-01",
          "Metric": "Smoker Pneumovax",
          "Name": "Sally McPherson",
          "Percentage": 0.374,
          "Type": "Individual"
         },
         {
          "Clinic": "NCFP",
          "Date": "2018-01-01",
          "Metric": "Smoker Pneumovax",
          "Name": "Lucia Muller",
          "Percentage": 0.5,
          "Type": "Individual"
         },
         {
          "Clinic": "BellB",
          "Date": "2018-01-01",
          "Metric": "Smoker Pneumovax",
          "Name": "Karen O’Keefe",
          "Percentage": 0.3095,
          "Type": "Individual"
         },
         {
          "Clinic": "SFM",
          "Date": "2018-01-01",
          "Metric": "Smoker Pneumovax",
          "Name": "Lillian Pavlik",
          "Percentage": null,
          "Type": "Individual"
         },
         {
          "Clinic": "LFM",
          "Date": "2018-01-01",
          "Metric": "Smoker Pneumovax",
          "Name": "Patricia Payne-Zajac",
          "Percentage": 0.3704,
          "Type": "Individual"
         },
         {
          "Clinic": "NCFP",
          "Date": "2018-01-01",
          "Metric": "Smoker Pneumovax",
          "Name": "Jonathan Ploudre",
          "Percentage": 0.5093,
          "Type": "Individual"
         },
         {
          "Clinic": "NSFM",
          "Date": "2018-01-01",
          "Metric": "Smoker Pneumovax",
          "Name": "John Raduege",
          "Percentage": 0.4947,
          "Type": "Individual"
         },
         {
          "Clinic": "BBFM",
          "Date": "2018-01-01",
          "Metric": "Smoker Pneumovax",
          "Name": "Teresa Regier",
          "Percentage": 0.2345,
          "Type": "Individual"
         },
         {
          "Clinic": "FFMC",
          "Date": "2018-01-01",
          "Metric": "Smoker Pneumovax",
          "Name": "Claudia Rey",
          "Percentage": 0.5047,
          "Type": "Individual"
         },
         {
          "Clinic": "IFP",
          "Date": "2018-01-01",
          "Metric": "Smoker Pneumovax",
          "Name": "Robert Rieger",
          "Percentage": 0.5375,
          "Type": "Individual"
         },
         {
          "Clinic": "SFM",
          "Date": "2018-01-01",
          "Metric": "Smoker Pneumovax",
          "Name": "Deborah Roessler",
          "Percentage": 0.5806,
          "Type": "Individual"
         },
         {
          "Clinic": "FFMC",
          "Date": "2018-01-01",
          "Metric": "Smoker Pneumovax",
          "Name": "Berdi Sanford",
          "Percentage": 0.7284,
          "Type": "Individual"
         },
         {
          "Clinic": "NCFP",
          "Date": "2018-01-01",
          "Metric": "Smoker Pneumovax",
          "Name": "Lauren Sauve",
          "Percentage": 0.3421,
          "Type": "Individual"
         },
         {
          "Clinic": "BellB",
          "Date": "2018-01-01",
          "Metric": "Smoker Pneumovax",
          "Name": "Melana Schimke",
          "Percentage": 0.1791,
          "Type": "Individual"
         },
         {
          "Clinic": "FHA",
          "Date": "2018-01-01",
          "Metric": "Smoker Pneumovax",
          "Name": "Miriam Shapiro",
          "Percentage": 0.5556,
          "Type": "Individual"
         },
         {
          "Clinic": "NSFM",
          "Date": "2018-01-01",
          "Metric": "Smoker Pneumovax",
          "Name": "Jason Short",
          "Percentage": 0.3958,
          "Type": "Individual"
         },
         {
          "Clinic": "NSFM",
          "Date": "2018-01-01",
          "Metric": "Smoker Pneumovax",
          "Name": "Vicki Short",
          "Percentage": 0.5181,
          "Type": "Individual"
         },
         {
          "Clinic": "LFM",
          "Date": "2018-01-01",
          "Metric": "Smoker Pneumovax",
          "Name": "Ashley Snyder",
          "Percentage": 0.4576,
          "Type": "Individual"
         },
         {
          "Clinic": "FFMC",
          "Date": "2018-01-01",
          "Metric": "Smoker Pneumovax",
          "Name": "Kalani Synder",
          "Percentage": 0.2198,
          "Type": "Individual"
         },
         {
          "Clinic": "NSFM",
          "Date": "2018-01-01",
          "Metric": "Smoker Pneumovax",
          "Name": "Mary Swanson",
          "Percentage": 0.4375,
          "Type": "Individual"
         },
         {
          "Clinic": "IFP",
          "Date": "2018-01-01",
          "Metric": "Smoker Pneumovax",
          "Name": "Magaret Sweeney",
          "Percentage": 0.3488,
          "Type": "Individual"
         },
         {
          "Clinic": "WFM",
          "Date": "2018-01-01",
          "Metric": "Smoker Pneumovax",
          "Name": "Heather Thomson",
          "Percentage": 0.2143,
          "Type": "Individual"
         },
         {
          "Clinic": "BellB",
          "Date": "2018-01-01",
          "Metric": "Smoker Pneumovax",
          "Name": "Lisa Van Hofwegen",
          "Percentage": 0.4074,
          "Type": "Individual"
         },
         {
          "Clinic": "NSFM",
          "Date": "2018-01-01",
          "Metric": "Smoker Pneumovax",
          "Name": "April Wakefield-Pagels",
          "Percentage": 0.5319,
          "Type": "Individual"
         },
         {
          "Clinic": "SFM",
          "Date": "2018-01-01",
          "Metric": "Smoker Pneumovax",
          "Name": "Joy Welty",
          "Percentage": 0.4167,
          "Type": "Individual"
         },
         {
          "Clinic": "SFM",
          "Date": "2018-01-01",
          "Metric": "Smoker Pneumovax",
          "Name": "Matt Werner",
          "Percentage": 0.622,
          "Type": "Individual"
         },
         {
          "Clinic": "NCFP",
          "Date": "2018-01-01",
          "Metric": "Smoker Pneumovax",
          "Name": "Sloane Winkes",
          "Percentage": 0.5676,
          "Type": "Individual"
         },
         {
          "Clinic": "NSFM",
          "Date": "2018-01-01",
          "Metric": "Smoker Pneumovax",
          "Name": "Ying Wu",
          "Percentage": 0.5152,
          "Type": "Individual"
         },
         {
          "Clinic": "LFM",
          "Date": "2017-09-25",
          "Metric": "Smoker Pneumovax",
          "Name": "Steven Alexander",
          "Percentage": 0.6216,
          "Type": "Individual"
         },
         {
          "Clinic": "BellB",
          "Date": "2017-09-25",
          "Metric": "Smoker Pneumovax",
          "Name": "Greg Anderson",
          "Percentage": 0.4066,
          "Type": "Individual"
         },
         {
          "Clinic": "FHA",
          "Date": "2017-09-25",
          "Metric": "Smoker Pneumovax",
          "Name": "Rodney Anderson",
          "Percentage": 0.6129,
          "Type": "Individual"
         },
         {
          "Clinic": "FFMC",
          "Date": "2017-09-25",
          "Metric": "Smoker Pneumovax",
          "Name": "Jennifer Bates",
          "Percentage": 0.5833,
          "Type": "Individual"
         },
         {
          "Clinic": "WFM",
          "Date": "2017-09-25",
          "Metric": "Smoker Pneumovax",
          "Name": "Shannon Billau",
          "Percentage": 0.3871,
          "Type": "Individual"
         },
         {
          "Clinic": "WFM",
          "Date": "2017-09-25",
          "Metric": "Smoker Pneumovax",
          "Name": "Richard Binder",
          "Percentage": 0.6667,
          "Type": "Individual"
         },
         {
          "Clinic": "IFP",
          "Date": "2017-09-25",
          "Metric": "Smoker Pneumovax",
          "Name": "Franklin Bjorseth",
          "Percentage": 0.4034,
          "Type": "Individual"
         },
         {
          "Clinic": "FHA",
          "Date": "2017-09-25",
          "Metric": "Smoker Pneumovax",
          "Name": "Edward Bloom",
          "Percentage": 0.4127,
          "Type": "Individual"
         },
         {
          "Clinic": "FHA",
          "Date": "2017-09-25",
          "Metric": "Smoker Pneumovax",
          "Name": "Jessica Bloom",
          "Percentage": 0.2778,
          "Type": "Individual"
         },
         {
          "Clinic": "WFM",
          "Date": "2017-09-25",
          "Metric": "Smoker Pneumovax",
          "Name": "Steven Bloom",
          "Percentage": 0.4239,
          "Type": "Individual"
         },
         {
          "Clinic": "BellB",
          "Date": "2017-09-25",
          "Metric": "Smoker Pneumovax",
          "Name": "Ian Bonner",
          "Percentage": 0.3111,
          "Type": "Individual"
         },
         {
          "Clinic": "BellB",
          "Date": "2017-09-25",
          "Metric": "Smoker Pneumovax",
          "Name": "Sara Bowling",
          "Percentage": 0.2353,
          "Type": "Individual"
         },
         {
          "Clinic": "NSFM",
          "Date": "2017-09-25",
          "Metric": "Smoker Pneumovax",
          "Name": "Rory Bradt",
          "Percentage": 0.338,
          "Type": "Individual"
         },
         {
          "Clinic": "FFMC",
          "Date": "2017-09-25",
          "Metric": "Smoker Pneumovax",
          "Name": "Rebecca Brejcha",
          "Percentage": null,
          "Type": "Individual"
         },
         {
          "Clinic": "NSFM",
          "Date": "2017-09-25",
          "Metric": "Smoker Pneumovax",
          "Name": "Lisa Brodsky",
          "Percentage": 0.2581,
          "Type": "Individual"
         },
         {
          "Clinic": "LFM",
          "Date": "2017-09-25",
          "Metric": "Smoker Pneumovax",
          "Name": "Margaret Burden",
          "Percentage": 0.4,
          "Type": "Individual"
         },
         {
          "Clinic": "NCFP",
          "Date": "2017-09-25",
          "Metric": "Smoker Pneumovax",
          "Name": "Erik Bylund",
          "Percentage": 0.2385,
          "Type": "Individual"
         },
         {
          "Clinic": "LFM",
          "Date": "2017-09-25",
          "Metric": "Smoker Pneumovax",
          "Name": "Robin Caldwell",
          "Percentage": 0.4464,
          "Type": "Individual"
         },
         {
          "Clinic": "NSFM",
          "Date": "2017-09-25",
          "Metric": "Smoker Pneumovax",
          "Name": "William Eiford",
          "Percentage": null,
          "Type": "Individual"
         },
         {
          "Clinic": "NCFP",
          "Date": "2017-09-25",
          "Metric": "Smoker Pneumovax",
          "Name": "Roger Estep",
          "Percentage": 0.1875,
          "Type": "Individual"
         },
         {
          "Clinic": "LFM",
          "Date": "2017-09-25",
          "Metric": "Smoker Pneumovax",
          "Name": "Michael Fleming",
          "Percentage": 0.2727,
          "Type": "Individual"
         },
         {
          "Clinic": "NSFM",
          "Date": "2017-09-25",
          "Metric": "Smoker Pneumovax",
          "Name": "Anneliese Floyd",
          "Percentage": 0.5385,
          "Type": "Individual"
         },
         {
          "Clinic": "BellB",
          "Date": "2017-09-25",
          "Metric": "Smoker Pneumovax",
          "Name": "Laura Fox",
          "Percentage": 0.3864,
          "Type": "Individual"
         },
         {
          "Clinic": "FFMC",
          "Date": "2017-09-25",
          "Metric": "Smoker Pneumovax",
          "Name": "Renay Fredette",
          "Percentage": 0.5538,
          "Type": "Individual"
         },
         {
          "Clinic": "NCFP",
          "Date": "2017-09-25",
          "Metric": "Smoker Pneumovax",
          "Name": "Kay-Kay Gambs",
          "Percentage": 0.161,
          "Type": "Individual"
         },
         {
          "Clinic": "NCFP",
          "Date": "2017-09-25",
          "Metric": "Smoker Pneumovax",
          "Name": "Jonathan Gamson",
          "Percentage": 0.2593,
          "Type": "Individual"
         },
         {
          "Clinic": "NSFM",
          "Date": "2017-09-25",
          "Metric": "Smoker Pneumovax",
          "Name": "Elizabeth Gaylord",
          "Percentage": 0.4412,
          "Type": "Individual"
         },
         {
          "Clinic": "IFP",
          "Date": "2017-09-25",
          "Metric": "Smoker Pneumovax",
          "Name": "Karen Goodman",
          "Percentage": 0.3837,
          "Type": "Individual"
         },
         {
          "Clinic": "FHA",
          "Date": "2017-09-25",
          "Metric": "Smoker Pneumovax",
          "Name": "Deborah Hall",
          "Percentage": 0.55,
          "Type": "Individual"
         },
         {
          "Clinic": "NCFP",
          "Date": "2017-09-25",
          "Metric": "Smoker Pneumovax",
          "Name": "Janet Hansom",
          "Percentage": 0.5,
          "Type": "Individual"
         },
         {
          "Clinic": "LFM",
          "Date": "2017-09-25",
          "Metric": "Smoker Pneumovax",
          "Name": "Larry Hartwell",
          "Percentage": 0.5047,
          "Type": "Individual"
         },
         {
          "Clinic": "SFM",
          "Date": "2017-09-25",
          "Metric": "Smoker Pneumovax",
          "Name": "Shelby Hein",
          "Percentage": 0.4677,
          "Type": "Individual"
         },
         {
          "Clinic": "SFM",
          "Date": "2017-09-25",
          "Metric": "Smoker Pneumovax",
          "Name": "Harry Herdman",
          "Percentage": 0.5676,
          "Type": "Individual"
         },
         {
          "Clinic": "NSFM",
          "Date": "2017-09-25",
          "Metric": "Smoker Pneumovax",
          "Name": "Sarah Herman",
          "Percentage": null,
          "Type": "Individual"
         },
         {
          "Clinic": "LFM",
          "Date": "2017-09-25",
          "Metric": "Smoker Pneumovax",
          "Name": "John Hiemstra",
          "Percentage": 0.5197,
          "Type": "Individual"
         },
         {
          "Clinic": "SFM",
          "Date": "2017-09-25",
          "Metric": "Smoker Pneumovax",
          "Name": "Heather Honey",
          "Percentage": 0.4107,
          "Type": "Individual"
         },
         {
          "Clinic": "FHA",
          "Date": "2017-09-25",
          "Metric": "Smoker Pneumovax",
          "Name": "Ryan Honey",
          "Percentage": null,
          "Type": "Individual"
         },
         {
          "Clinic": "BellB",
          "Date": "2017-09-25",
          "Metric": "Smoker Pneumovax",
          "Name": "Jim Hopper",
          "Percentage": 0.42,
          "Type": "Individual"
         },
         {
          "Clinic": "FFMC",
          "Date": "2017-09-25",
          "Metric": "Smoker Pneumovax",
          "Name": "John Hruby",
          "Percentage": 0.4576,
          "Type": "Individual"
         },
         {
          "Clinic": "FHA",
          "Date": "2017-09-25",
          "Metric": "Smoker Pneumovax",
          "Name": "Kellie Jacobs",
          "Percentage": 0.4375,
          "Type": "Individual"
         },
         {
          "Clinic": "IFP",
          "Date": "2017-09-25",
          "Metric": "Smoker Pneumovax",
          "Name": "Michael James",
          "Percentage": 0.1778,
          "Type": "Individual"
         },
         {
          "Clinic": "FHA",
          "Date": "2017-09-25",
          "Metric": "Smoker Pneumovax",
          "Name": "Sharon Kerlin",
          "Percentage": null,
          "Type": "Individual"
         },
         {
          "Clinic": "FHA",
          "Date": "2017-09-25",
          "Metric": "Smoker Pneumovax",
          "Name": "Meghan Lelonek",
          "Percentage": 0.3218,
          "Type": "Individual"
         },
         {
          "Clinic": "FFMC",
          "Date": "2017-09-25",
          "Metric": "Smoker Pneumovax",
          "Name": "Stephen Lewis",
          "Percentage": 0.4382,
          "Type": "Individual"
         },
         {
          "Clinic": "FFMC",
          "Date": "2017-09-25",
          "Metric": "Smoker Pneumovax",
          "Name": "Erin Maloney",
          "Percentage": null,
          "Type": "Individual"
         },
         {
          "Clinic": "NCFP",
          "Date": "2017-09-25",
          "Metric": "Smoker Pneumovax",
          "Name": "Ross McConahey",
          "Percentage": null,
          "Type": "Individual"
         },
         {
          "Clinic": "NSFM",
          "Date": "2017-09-25",
          "Metric": "Smoker Pneumovax",
          "Name": "Patrick McLaughlin",
          "Percentage": 0.3824,
          "Type": "Individual"
         },
         {
          "Clinic": "NCFP",
          "Date": "2017-09-25",
          "Metric": "Smoker Pneumovax",
          "Name": "Sally McPherson",
          "Percentage": 0.3039,
          "Type": "Individual"
         },
         {
          "Clinic": "NCFP",
          "Date": "2017-09-25",
          "Metric": "Smoker Pneumovax",
          "Name": "Lucia Muller",
          "Percentage": 0.4186,
          "Type": "Individual"
         },
         {
          "Clinic": "BellB",
          "Date": "2017-09-25",
          "Metric": "Smoker Pneumovax",
          "Name": "Karen O’Keefe",
          "Percentage": 0.25,
          "Type": "Individual"
         },
         {
          "Clinic": "SFM",
          "Date": "2017-09-25",
          "Metric": "Smoker Pneumovax",
          "Name": "Lillian Pavlik",
          "Percentage": null,
          "Type": "Individual"
         },
         {
          "Clinic": "LFM",
          "Date": "2017-09-25",
          "Metric": "Smoker Pneumovax",
          "Name": "Patricia Payne-Zajac",
          "Percentage": null,
          "Type": "Individual"
         },
         {
          "Clinic": "NCFP",
          "Date": "2017-09-25",
          "Metric": "Smoker Pneumovax",
          "Name": "Jonathan Ploudre",
          "Percentage": 0.4112,
          "Type": "Individual"
         },
         {
          "Clinic": "NSFM",
          "Date": "2017-09-25",
          "Metric": "Smoker Pneumovax",
          "Name": "John Raduege",
          "Percentage": 0.4639,
          "Type": "Individual"
         },
         {
          "Clinic": "BBFM",
          "Date": "2017-09-25",
          "Metric": "Smoker Pneumovax",
          "Name": "Teresa Regier",
          "Percentage": 0.2333,
          "Type": "Individual"
         },
         {
          "Clinic": "FFMC",
          "Date": "2017-09-25",
          "Metric": "Smoker Pneumovax",
          "Name": "Claudia Rey",
          "Percentage": 0.4646,
          "Type": "Individual"
         },
         {
          "Clinic": "IFP",
          "Date": "2017-09-25",
          "Metric": "Smoker Pneumovax",
          "Name": "Robert Rieger",
          "Percentage": 0.4545,
          "Type": "Individual"
         },
         {
          "Clinic": "SFM",
          "Date": "2017-09-25",
          "Metric": "Smoker Pneumovax",
          "Name": "Deborah Roessler",
          "Percentage": 0.5102,
          "Type": "Individual"
         },
         {
          "Clinic": "FFMC",
          "Date": "2017-09-25",
          "Metric": "Smoker Pneumovax",
          "Name": "Berdi Sanford",
          "Percentage": 0.6977,
          "Type": "Individual"
         },
         {
          "Clinic": "NCFP",
          "Date": "2017-09-25",
          "Metric": "Smoker Pneumovax",
          "Name": "Lauren Sauve",
          "Percentage": 0.3271,
          "Type": "Individual"
         },
         {
          "Clinic": "BellB",
          "Date": "2017-09-25",
          "Metric": "Smoker Pneumovax",
          "Name": "Melana Schimke",
          "Percentage": 0.1159,
          "Type": "Individual"
         },
         {
          "Clinic": "FHA",
          "Date": "2017-09-25",
          "Metric": "Smoker Pneumovax",
          "Name": "Miriam Shapiro",
          "Percentage": 0.4571,
          "Type": "Individual"
         },
         {
          "Clinic": "NSFM",
          "Date": "2017-09-25",
          "Metric": "Smoker Pneumovax",
          "Name": "Jason Short",
          "Percentage": 0.3981,
          "Type": "Individual"
         },
         {
          "Clinic": "NSFM",
          "Date": "2017-09-25",
          "Metric": "Smoker Pneumovax",
          "Name": "Vicki Short",
          "Percentage": 0.5,
          "Type": "Individual"
         },
         {
          "Clinic": "LFM",
          "Date": "2017-09-25",
          "Metric": "Smoker Pneumovax",
          "Name": "Ashley Snyder",
          "Percentage": 0.6667,
          "Type": "Individual"
         },
         {
          "Clinic": "NSFM",
          "Date": "2017-09-25",
          "Metric": "Smoker Pneumovax",
          "Name": "Mary Swanson",
          "Percentage": 0.4,
          "Type": "Individual"
         },
         {
          "Clinic": "IFP",
          "Date": "2017-09-25",
          "Metric": "Smoker Pneumovax",
          "Name": "Magaret Sweeney",
          "Percentage": 0.2927,
          "Type": "Individual"
         },
         {
          "Clinic": "BellB",
          "Date": "2017-09-25",
          "Metric": "Smoker Pneumovax",
          "Name": "Lisa Van Hofwegen",
          "Percentage": 0.3548,
          "Type": "Individual"
         },
         {
          "Clinic": "NSFM",
          "Date": "2017-09-25",
          "Metric": "Smoker Pneumovax",
          "Name": "April Wakefield-Pagels",
          "Percentage": 0.5417,
          "Type": "Individual"
         },
         {
          "Clinic": "SFM",
          "Date": "2017-09-25",
          "Metric": "Smoker Pneumovax",
          "Name": "Joy Welty",
          "Percentage": null,
          "Type": "Individual"
         },
         {
          "Clinic": "SFM",
          "Date": "2017-09-25",
          "Metric": "Smoker Pneumovax",
          "Name": "Matt Werner",
          "Percentage": 0.5667,
          "Type": "Individual"
         },
         {
          "Clinic": "NCFP",
          "Date": "2017-09-25",
          "Metric": "Smoker Pneumovax",
          "Name": "Sloane Winkes",
          "Percentage": 0.5676,
          "Type": "Individual"
         },
         {
          "Clinic": "NSFM",
          "Date": "2017-09-25",
          "Metric": "Smoker Pneumovax",
          "Name": "Ying Wu",
          "Percentage": 0.4737,
          "Type": "Individual"
         },
         {
          "Clinic": "LFM",
          "Date": "2018-04-16",
          "Metric": "Smoker Pneumovax",
          "Name": "Steven Alexander",
          "Percentage": 0.6667,
          "Type": "Individual"
         },
         {
          "Clinic": "BellB",
          "Date": "2018-04-16",
          "Metric": "Smoker Pneumovax",
          "Name": "Greg Anderson",
          "Percentage": 0.4556,
          "Type": "Individual"
         },
         {
          "Clinic": "FHA",
          "Date": "2018-04-16",
          "Metric": "Smoker Pneumovax",
          "Name": "Rodney Anderson",
          "Percentage": 0.7045,
          "Type": "Individual"
         },
         {
          "Clinic": "FFMC",
          "Date": "2018-04-16",
          "Metric": "Smoker Pneumovax",
          "Name": "Jennifer Bates",
          "Percentage": 0.5873,
          "Type": "Individual"
         },
         {
          "Clinic": "WFM",
          "Date": "2018-04-16",
          "Metric": "Smoker Pneumovax",
          "Name": "Shannon Billau",
          "Percentage": 0.4262,
          "Type": "Individual"
         },
         {
          "Clinic": "WFM",
          "Date": "2018-04-16",
          "Metric": "Smoker Pneumovax",
          "Name": "Richard Binder",
          "Percentage": 0.6522,
          "Type": "Individual"
         },
         {
          "Clinic": "IFP",
          "Date": "2018-04-16",
          "Metric": "Smoker Pneumovax",
          "Name": "Franklin Bjorseth",
          "Percentage": 0.5,
          "Type": "Individual"
         },
         {
          "Clinic": "FHA",
          "Date": "2018-04-16",
          "Metric": "Smoker Pneumovax",
          "Name": "Edward Bloom",
          "Percentage": 0.4336,
          "Type": "Individual"
         },
         {
          "Clinic": "FHA",
          "Date": "2018-04-16",
          "Metric": "Smoker Pneumovax",
          "Name": "Jessica Bloom",
          "Percentage": 0.2778,
          "Type": "Individual"
         },
         {
          "Clinic": "WFM",
          "Date": "2018-04-16",
          "Metric": "Smoker Pneumovax",
          "Name": "Steven Bloom",
          "Percentage": 0.4444,
          "Type": "Individual"
         },
         {
          "Clinic": "BellB",
          "Date": "2018-04-16",
          "Metric": "Smoker Pneumovax",
          "Name": "Ian Bonner",
          "Percentage": 0.374,
          "Type": "Individual"
         },
         {
          "Clinic": "BellB",
          "Date": "2018-04-16",
          "Metric": "Smoker Pneumovax",
          "Name": "Sara Bowling",
          "Percentage": 0.3214,
          "Type": "Individual"
         },
         {
          "Clinic": "NSFM",
          "Date": "2018-04-16",
          "Metric": "Smoker Pneumovax",
          "Name": "Rory Bradt",
          "Percentage": 0.4297,
          "Type": "Individual"
         },
         {
          "Clinic": "FFMC",
          "Date": "2018-04-16",
          "Metric": "Smoker Pneumovax",
          "Name": "Rebecca Brejcha",
          "Percentage": null,
          "Type": "Individual"
         },
         {
          "Clinic": "NSFM",
          "Date": "2018-04-16",
          "Metric": "Smoker Pneumovax",
          "Name": "Lisa Brodsky",
          "Percentage": 0.3056,
          "Type": "Individual"
         },
         {
          "Clinic": "LFM",
          "Date": "2018-04-16",
          "Metric": "Smoker Pneumovax",
          "Name": "Margaret Burden",
          "Percentage": 0.4054,
          "Type": "Individual"
         },
         {
          "Clinic": "NCFP",
          "Date": "2018-04-16",
          "Metric": "Smoker Pneumovax",
          "Name": "Erik Bylund",
          "Percentage": 0.3231,
          "Type": "Individual"
         },
         {
          "Clinic": "LFM",
          "Date": "2018-04-16",
          "Metric": "Smoker Pneumovax",
          "Name": "Robin Caldwell",
          "Percentage": 0.487,
          "Type": "Individual"
         },
         {
          "Clinic": "NSFM",
          "Date": "2018-04-16",
          "Metric": "Smoker Pneumovax",
          "Name": "William Eiford",
          "Percentage": null,
          "Type": "Individual"
         },
         {
          "Clinic": "NCFP",
          "Date": "2018-04-16",
          "Metric": "Smoker Pneumovax",
          "Name": "Roger Estep",
          "Percentage": 0.3095,
          "Type": "Individual"
         },
         {
          "Clinic": "LFM",
          "Date": "2018-04-16",
          "Metric": "Smoker Pneumovax",
          "Name": "Michael Fleming",
          "Percentage": 0.3375,
          "Type": "Individual"
         },
         {
          "Clinic": "NSFM",
          "Date": "2018-04-16",
          "Metric": "Smoker Pneumovax",
          "Name": "Anneliese Floyd",
          "Percentage": 0.5385,
          "Type": "Individual"
         },
         {
          "Clinic": "BellB",
          "Date": "2018-04-16",
          "Metric": "Smoker Pneumovax",
          "Name": "Laura Fox",
          "Percentage": 0.5319,
          "Type": "Individual"
         },
         {
          "Clinic": "FFMC",
          "Date": "2018-04-16",
          "Metric": "Smoker Pneumovax",
          "Name": "Renay Fredette",
          "Percentage": 0.5161,
          "Type": "Individual"
         },
         {
          "Clinic": "NCFP",
          "Date": "2018-04-16",
          "Metric": "Smoker Pneumovax",
          "Name": "Kay-Kay Gambs",
          "Percentage": 0.2301,
          "Type": "Individual"
         },
         {
          "Clinic": "NCFP",
          "Date": "2018-04-16",
          "Metric": "Smoker Pneumovax",
          "Name": "Jonathan Gamson",
          "Percentage": 0.3507,
          "Type": "Individual"
         },
         {
          "Clinic": "NSFM",
          "Date": "2018-04-16",
          "Metric": "Smoker Pneumovax",
          "Name": "Elizabeth Gaylord",
          "Percentage": 0.4545,
          "Type": "Individual"
         },
         {
          "Clinic": "IFP",
          "Date": "2018-04-16",
          "Metric": "Smoker Pneumovax",
          "Name": "Karen Goodman",
          "Percentage": 0.3077,
          "Type": "Individual"
         },
         {
          "Clinic": "FHA",
          "Date": "2018-04-16",
          "Metric": "Smoker Pneumovax",
          "Name": "Deborah Hall",
          "Percentage": 0.589,
          "Type": "Individual"
         },
         {
          "Clinic": "NCFP",
          "Date": "2018-04-16",
          "Metric": "Smoker Pneumovax",
          "Name": "Janet Hansom",
          "Percentage": 0.6,
          "Type": "Individual"
         },
         {
          "Clinic": "LFM",
          "Date": "2018-04-16",
          "Metric": "Smoker Pneumovax",
          "Name": "Larry Hartwell",
          "Percentage": 0.5278,
          "Type": "Individual"
         },
         {
          "Clinic": "SFM",
          "Date": "2018-04-16",
          "Metric": "Smoker Pneumovax",
          "Name": "Shelby Hein",
          "Percentage": 0.5179,
          "Type": "Individual"
         },
         {
          "Clinic": "SFM",
          "Date": "2018-04-16",
          "Metric": "Smoker Pneumovax",
          "Name": "Harry Herdman",
          "Percentage": 0.6761,
          "Type": "Individual"
         },
         {
          "Clinic": "NSFM",
          "Date": "2018-04-16",
          "Metric": "Smoker Pneumovax",
          "Name": "Sarah Herman",
          "Percentage": null,
          "Type": "Individual"
         },
         {
          "Clinic": "LFM",
          "Date": "2018-04-16",
          "Metric": "Smoker Pneumovax",
          "Name": "John Hiemstra",
          "Percentage": 0.5282,
          "Type": "Individual"
         },
         {
          "Clinic": "SFM",
          "Date": "2018-04-16",
          "Metric": "Smoker Pneumovax",
          "Name": "Heather Honey",
          "Percentage": 0.3971,
          "Type": "Individual"
         },
         {
          "Clinic": "FHA",
          "Date": "2018-04-16",
          "Metric": "Smoker Pneumovax",
          "Name": "Ryan Honey",
          "Percentage": 0.3219,
          "Type": "Individual"
         },
         {
          "Clinic": "BellB",
          "Date": "2018-04-16",
          "Metric": "Smoker Pneumovax",
          "Name": "Jim Hopper",
          "Percentage": 0.4091,
          "Type": "Individual"
         },
         {
          "Clinic": "FFMC",
          "Date": "2018-04-16",
          "Metric": "Smoker Pneumovax",
          "Name": "John Hruby",
          "Percentage": 0.4696,
          "Type": "Individual"
         },
         {
          "Clinic": "FHA",
          "Date": "2018-04-16",
          "Metric": "Smoker Pneumovax",
          "Name": "Kellie Jacobs",
          "Percentage": 0.4255,
          "Type": "Individual"
         },
         {
          "Clinic": "IFP",
          "Date": "2018-04-16",
          "Metric": "Smoker Pneumovax",
          "Name": "Michael James",
          "Percentage": 0.2474,
          "Type": "Individual"
         },
         {
          "Clinic": "FHA",
          "Date": "2018-04-16",
          "Metric": "Smoker Pneumovax",
          "Name": "Sharon Kerlin",
          "Percentage": null,
          "Type": "Individual"
         },
         {
          "Clinic": "BBFM",
          "Date": "2018-04-16",
          "Metric": "Smoker Pneumovax",
          "Name": "Jessica Klassen",
          "Percentage": 0.2632,
          "Type": "Individual"
         },
         {
          "Clinic": "FHA",
          "Date": "2018-04-16",
          "Metric": "Smoker Pneumovax",
          "Name": "Meghan Lelonek",
          "Percentage": 0.4239,
          "Type": "Individual"
         },
         {
          "Clinic": "FFMC",
          "Date": "2018-04-16",
          "Metric": "Smoker Pneumovax",
          "Name": "Stephen Lewis",
          "Percentage": 0.4652,
          "Type": "Individual"
         },
         {
          "Clinic": "FFMC",
          "Date": "2018-04-16",
          "Metric": "Smoker Pneumovax",
          "Name": "Erin Maloney",
          "Percentage": null,
          "Type": "Individual"
         },
         {
          "Clinic": "NCFP",
          "Date": "2018-04-16",
          "Metric": "Smoker Pneumovax",
          "Name": "Ross McConahey",
          "Percentage": null,
          "Type": "Individual"
         },
         {
          "Clinic": "NSFM",
          "Date": "2018-04-16",
          "Metric": "Smoker Pneumovax",
          "Name": "Patrick McLaughlin",
          "Percentage": 0.4384,
          "Type": "Individual"
         },
         {
          "Clinic": "NCFP",
          "Date": "2018-04-16",
          "Metric": "Smoker Pneumovax",
          "Name": "Sally McPherson",
          "Percentage": 0.3949,
          "Type": "Individual"
         },
         {
          "Clinic": "NCFP",
          "Date": "2018-04-16",
          "Metric": "Smoker Pneumovax",
          "Name": "Lucia Muller",
          "Percentage": 0.5435,
          "Type": "Individual"
         },
         {
          "Clinic": "BellB",
          "Date": "2018-04-16",
          "Metric": "Smoker Pneumovax",
          "Name": "Karen O’Keefe",
          "Percentage": 0.3333,
          "Type": "Individual"
         },
         {
          "Clinic": "SFM",
          "Date": "2018-04-16",
          "Metric": "Smoker Pneumovax",
          "Name": "Lillian Pavlik",
          "Percentage": null,
          "Type": "Individual"
         },
         {
          "Clinic": "LFM",
          "Date": "2018-04-16",
          "Metric": "Smoker Pneumovax",
          "Name": "Patricia Payne-Zajac",
          "Percentage": 0.4262,
          "Type": "Individual"
         },
         {
          "Clinic": "NCFP",
          "Date": "2018-04-16",
          "Metric": "Smoker Pneumovax",
          "Name": "Jonathan Ploudre",
          "Percentage": 0.5741,
          "Type": "Individual"
         },
         {
          "Clinic": "NSFM",
          "Date": "2018-04-16",
          "Metric": "Smoker Pneumovax",
          "Name": "John Raduege",
          "Percentage": 0.5213,
          "Type": "Individual"
         },
         {
          "Clinic": "BBFM",
          "Date": "2018-04-16",
          "Metric": "Smoker Pneumovax",
          "Name": "Teresa Regier",
          "Percentage": 0.2338,
          "Type": "Individual"
         },
         {
          "Clinic": "FFMC",
          "Date": "2018-04-16",
          "Metric": "Smoker Pneumovax",
          "Name": "Claudia Rey",
          "Percentage": 0.5408,
          "Type": "Individual"
         },
         {
          "Clinic": "IFP",
          "Date": "2018-04-16",
          "Metric": "Smoker Pneumovax",
          "Name": "Robert Rieger",
          "Percentage": 0.6081,
          "Type": "Individual"
         },
         {
          "Clinic": "SFM",
          "Date": "2018-04-16",
          "Metric": "Smoker Pneumovax",
          "Name": "Deborah Roessler",
          "Percentage": 0.6145,
          "Type": "Individual"
         },
         {
          "Clinic": "FFMC",
          "Date": "2018-04-16",
          "Metric": "Smoker Pneumovax",
          "Name": "Berdi Sanford",
          "Percentage": 0.7595,
          "Type": "Individual"
         },
         {
          "Clinic": "NCFP",
          "Date": "2018-04-16",
          "Metric": "Smoker Pneumovax",
          "Name": "Lauren Sauve",
          "Percentage": 0.3586,
          "Type": "Individual"
         },
         {
          "Clinic": "BellB",
          "Date": "2018-04-16",
          "Metric": "Smoker Pneumovax",
          "Name": "Melana Schimke",
          "Percentage": 0.2222,
          "Type": "Individual"
         },
         {
          "Clinic": "FHA",
          "Date": "2018-04-16",
          "Metric": "Smoker Pneumovax",
          "Name": "Miriam Shapiro",
          "Percentage": 0.6111,
          "Type": "Individual"
         },
         {
          "Clinic": "NSFM",
          "Date": "2018-04-16",
          "Metric": "Smoker Pneumovax",
          "Name": "Jason Short",
          "Percentage": 0.4327,
          "Type": "Individual"
         },
         {
          "Clinic": "NSFM",
          "Date": "2018-04-16",
          "Metric": "Smoker Pneumovax",
          "Name": "Vicki Short",
          "Percentage": 0.5176,
          "Type": "Individual"
         },
         {
          "Clinic": "LFM",
          "Date": "2018-04-16",
          "Metric": "Smoker Pneumovax",
          "Name": "Ashley Snyder",
          "Percentage": 0.4366,
          "Type": "Individual"
         },
         {
          "Clinic": "FFMC",
          "Date": "2018-04-16",
          "Metric": "Smoker Pneumovax",
          "Name": "Kalani Synder",
          "Percentage": 0.1818,
          "Type": "Individual"
         },
         {
          "Clinic": "NSFM",
          "Date": "2018-04-16",
          "Metric": "Smoker Pneumovax",
          "Name": "Mary Swanson",
          "Percentage": 0.4516,
          "Type": "Individual"
         },
         {
          "Clinic": "IFP",
          "Date": "2018-04-16",
          "Metric": "Smoker Pneumovax",
          "Name": "Magaret Sweeney",
          "Percentage": 0.4773,
          "Type": "Individual"
         },
         {
          "Clinic": "WFM",
          "Date": "2018-04-16",
          "Metric": "Smoker Pneumovax",
          "Name": "Heather Thomson",
          "Percentage": 0.3125,
          "Type": "Individual"
         },
         {
          "Clinic": "BellB",
          "Date": "2018-04-16",
          "Metric": "Smoker Pneumovax",
          "Name": "Lisa Van Hofwegen",
          "Percentage": 0.3846,
          "Type": "Individual"
         },
         {
          "Clinic": "NSFM",
          "Date": "2018-04-16",
          "Metric": "Smoker Pneumovax",
          "Name": "April Wakefield-Pagels",
          "Percentage": 0.625,
          "Type": "Individual"
         },
         {
          "Clinic": "SFM",
          "Date": "2018-04-16",
          "Metric": "Smoker Pneumovax",
          "Name": "Joy Welty",
          "Percentage": 0.4583,
          "Type": "Individual"
         },
         {
          "Clinic": "SFM",
          "Date": "2018-04-16",
          "Metric": "Smoker Pneumovax",
          "Name": "Matt Werner",
          "Percentage": 0.6329,
          "Type": "Individual"
         },
         {
          "Clinic": "NCFP",
          "Date": "2018-04-16",
          "Metric": "Smoker Pneumovax",
          "Name": "Sloane Winkes",
          "Percentage": 0.6286,
          "Type": "Individual"
         },
         {
          "Clinic": "NSFM",
          "Date": "2018-04-16",
          "Metric": "Smoker Pneumovax",
          "Name": "Ying Wu",
          "Percentage": 0.5517,
          "Type": "Individual"
         },
         {
          "Clinic": "FHA",
          "Date": "2018-04-16",
          "Metric": "Smoker Pneumovax",
          "Name": "Ashley Yoder",
          "Percentage": 0.4,
          "Type": "Individual"
         },
         {
          "Clinic": "LFM",
          "Date": "2017-12-26",
          "Metric": "Smoker Pneumovax",
          "Name": "Steven Alexander",
          "Percentage": 0.6438,
          "Type": "Individual"
         },
         {
          "Clinic": "BellB",
          "Date": "2017-12-26",
          "Metric": "Smoker Pneumovax",
          "Name": "Greg Anderson",
          "Percentage": 0.4157,
          "Type": "Individual"
         },
         {
          "Clinic": "FHA",
          "Date": "2017-12-26",
          "Metric": "Smoker Pneumovax",
          "Name": "Rodney Anderson",
          "Percentage": 0.6296,
          "Type": "Individual"
         },
         {
          "Clinic": "FFMC",
          "Date": "2017-12-26",
          "Metric": "Smoker Pneumovax",
          "Name": "Jennifer Bates",
          "Percentage": 0.5692,
          "Type": "Individual"
         },
         {
          "Clinic": "WFM",
          "Date": "2017-12-26",
          "Metric": "Smoker Pneumovax",
          "Name": "Shannon Billau",
          "Percentage": 0.4,
          "Type": "Individual"
         },
         {
          "Clinic": "WFM",
          "Date": "2017-12-26",
          "Metric": "Smoker Pneumovax",
          "Name": "Richard Binder",
          "Percentage": 0.6444,
          "Type": "Individual"
         },
         {
          "Clinic": "IFP",
          "Date": "2017-12-26",
          "Metric": "Smoker Pneumovax",
          "Name": "Franklin Bjorseth",
          "Percentage": 0.4167,
          "Type": "Individual"
         },
         {
          "Clinic": "FHA",
          "Date": "2017-12-26",
          "Metric": "Smoker Pneumovax",
          "Name": "Edward Bloom",
          "Percentage": 0.45,
          "Type": "Individual"
         },
         {
          "Clinic": "FHA",
          "Date": "2017-12-26",
          "Metric": "Smoker Pneumovax",
          "Name": "Jessica Bloom",
          "Percentage": 0.2778,
          "Type": "Individual"
         },
         {
          "Clinic": "WFM",
          "Date": "2017-12-26",
          "Metric": "Smoker Pneumovax",
          "Name": "Steven Bloom",
          "Percentage": 0.4149,
          "Type": "Individual"
         },
         {
          "Clinic": "BellB",
          "Date": "2017-12-26",
          "Metric": "Smoker Pneumovax",
          "Name": "Ian Bonner",
          "Percentage": 0.3516,
          "Type": "Individual"
         },
         {
          "Clinic": "BellB",
          "Date": "2017-12-26",
          "Metric": "Smoker Pneumovax",
          "Name": "Sara Bowling",
          "Percentage": 0.314,
          "Type": "Individual"
         },
         {
          "Clinic": "NSFM",
          "Date": "2017-12-26",
          "Metric": "Smoker Pneumovax",
          "Name": "Rory Bradt",
          "Percentage": 0.3731,
          "Type": "Individual"
         },
         {
          "Clinic": "FFMC",
          "Date": "2017-12-26",
          "Metric": "Smoker Pneumovax",
          "Name": "Rebecca Brejcha",
          "Percentage": null,
          "Type": "Individual"
         },
         {
          "Clinic": "NSFM",
          "Date": "2017-12-26",
          "Metric": "Smoker Pneumovax",
          "Name": "Lisa Brodsky",
          "Percentage": 0.25,
          "Type": "Individual"
         },
         {
          "Clinic": "LFM",
          "Date": "2017-12-26",
          "Metric": "Smoker Pneumovax",
          "Name": "Margaret Burden",
          "Percentage": 0.3947,
          "Type": "Individual"
         },
         {
          "Clinic": "NCFP",
          "Date": "2017-12-26",
          "Metric": "Smoker Pneumovax",
          "Name": "Erik Bylund",
          "Percentage": 0.2889,
          "Type": "Individual"
         },
         {
          "Clinic": "LFM",
          "Date": "2017-12-26",
          "Metric": "Smoker Pneumovax",
          "Name": "Robin Caldwell",
          "Percentage": 0.4356,
          "Type": "Individual"
         },
         {
          "Clinic": "NSFM",
          "Date": "2017-12-26",
          "Metric": "Smoker Pneumovax",
          "Name": "William Eiford",
          "Percentage": null,
          "Type": "Individual"
         },
         {
          "Clinic": "NCFP",
          "Date": "2017-12-26",
          "Metric": "Smoker Pneumovax",
          "Name": "Roger Estep",
          "Percentage": 0.2083,
          "Type": "Individual"
         },
         {
          "Clinic": "LFM",
          "Date": "2017-12-26",
          "Metric": "Smoker Pneumovax",
          "Name": "Michael Fleming",
          "Percentage": 0.2963,
          "Type": "Individual"
         },
         {
          "Clinic": "NSFM",
          "Date": "2017-12-26",
          "Metric": "Smoker Pneumovax",
          "Name": "Anneliese Floyd",
          "Percentage": 0.525,
          "Type": "Individual"
         },
         {
          "Clinic": "BellB",
          "Date": "2017-12-26",
          "Metric": "Smoker Pneumovax",
          "Name": "Laura Fox",
          "Percentage": 0.4375,
          "Type": "Individual"
         },
         {
          "Clinic": "FFMC",
          "Date": "2017-12-26",
          "Metric": "Smoker Pneumovax",
          "Name": "Renay Fredette",
          "Percentage": 0.5385,
          "Type": "Individual"
         },
         {
          "Clinic": "NCFP",
          "Date": "2017-12-26",
          "Metric": "Smoker Pneumovax",
          "Name": "Kay-Kay Gambs",
          "Percentage": 0.1983,
          "Type": "Individual"
         },
         {
          "Clinic": "NCFP",
          "Date": "2017-12-26",
          "Metric": "Smoker Pneumovax",
          "Name": "Jonathan Gamson",
          "Percentage": 0.2836,
          "Type": "Individual"
         },
         {
          "Clinic": "NSFM",
          "Date": "2017-12-26",
          "Metric": "Smoker Pneumovax",
          "Name": "Elizabeth Gaylord",
          "Percentage": 0.4667,
          "Type": "Individual"
         },
         {
          "Clinic": "IFP",
          "Date": "2017-12-26",
          "Metric": "Smoker Pneumovax",
          "Name": "Karen Goodman",
          "Percentage": 0.2973,
          "Type": "Individual"
         },
         {
          "Clinic": "FHA",
          "Date": "2017-12-26",
          "Metric": "Smoker Pneumovax",
          "Name": "Deborah Hall",
          "Percentage": 0.5769,
          "Type": "Individual"
         },
         {
          "Clinic": "NCFP",
          "Date": "2017-12-26",
          "Metric": "Smoker Pneumovax",
          "Name": "Janet Hansom",
          "Percentage": 0.5517,
          "Type": "Individual"
         },
         {
          "Clinic": "LFM",
          "Date": "2017-12-26",
          "Metric": "Smoker Pneumovax",
          "Name": "Larry Hartwell",
          "Percentage": 0.4954,
          "Type": "Individual"
         },
         {
          "Clinic": "SFM",
          "Date": "2017-12-26",
          "Metric": "Smoker Pneumovax",
          "Name": "Shelby Hein",
          "Percentage": 0.4918,
          "Type": "Individual"
         },
         {
          "Clinic": "SFM",
          "Date": "2017-12-26",
          "Metric": "Smoker Pneumovax",
          "Name": "Harry Herdman",
          "Percentage": 0.6164,
          "Type": "Individual"
         },
         {
          "Clinic": "NSFM",
          "Date": "2017-12-26",
          "Metric": "Smoker Pneumovax",
          "Name": "Sarah Herman",
          "Percentage": null,
          "Type": "Individual"
         },
         {
          "Clinic": "LFM",
          "Date": "2017-12-26",
          "Metric": "Smoker Pneumovax",
          "Name": "John Hiemstra",
          "Percentage": 0.5306,
          "Type": "Individual"
         },
         {
          "Clinic": "SFM",
          "Date": "2017-12-26",
          "Metric": "Smoker Pneumovax",
          "Name": "Heather Honey",
          "Percentage": 0.4194,
          "Type": "Individual"
         },
         {
          "Clinic": "FHA",
          "Date": "2017-12-26",
          "Metric": "Smoker Pneumovax",
          "Name": "Ryan Honey",
          "Percentage": 0.1379,
          "Type": "Individual"
         },
         {
          "Clinic": "BellB",
          "Date": "2017-12-26",
          "Metric": "Smoker Pneumovax",
          "Name": "Jim Hopper",
          "Percentage": 0.4681,
          "Type": "Individual"
         },
         {
          "Clinic": "FFMC",
          "Date": "2017-12-26",
          "Metric": "Smoker Pneumovax",
          "Name": "John Hruby",
          "Percentage": 0.4576,
          "Type": "Individual"
         },
         {
          "Clinic": "FHA",
          "Date": "2017-12-26",
          "Metric": "Smoker Pneumovax",
          "Name": "Kellie Jacobs",
          "Percentage": 0.4348,
          "Type": "Individual"
         },
         {
          "Clinic": "IFP",
          "Date": "2017-12-26",
          "Metric": "Smoker Pneumovax",
          "Name": "Michael James",
          "Percentage": 0.2021,
          "Type": "Individual"
         },
         {
          "Clinic": "FHA",
          "Date": "2017-12-26",
          "Metric": "Smoker Pneumovax",
          "Name": "Sharon Kerlin",
          "Percentage": null,
          "Type": "Individual"
         },
         {
          "Clinic": "BBFM",
          "Date": "2017-12-26",
          "Metric": "Smoker Pneumovax",
          "Name": "Jessica Klassen",
          "Percentage": 0.1951,
          "Type": "Individual"
         },
         {
          "Clinic": "FHA",
          "Date": "2017-12-26",
          "Metric": "Smoker Pneumovax",
          "Name": "Meghan Lelonek",
          "Percentage": 0.3412,
          "Type": "Individual"
         },
         {
          "Clinic": "FFMC",
          "Date": "2017-12-26",
          "Metric": "Smoker Pneumovax",
          "Name": "Stephen Lewis",
          "Percentage": 0.4417,
          "Type": "Individual"
         },
         {
          "Clinic": "FFMC",
          "Date": "2017-12-26",
          "Metric": "Smoker Pneumovax",
          "Name": "Erin Maloney",
          "Percentage": null,
          "Type": "Individual"
         },
         {
          "Clinic": "NCFP",
          "Date": "2017-12-26",
          "Metric": "Smoker Pneumovax",
          "Name": "Ross McConahey",
          "Percentage": null,
          "Type": "Individual"
         },
         {
          "Clinic": "NSFM",
          "Date": "2017-12-26",
          "Metric": "Smoker Pneumovax",
          "Name": "Patrick McLaughlin",
          "Percentage": 0.3514,
          "Type": "Individual"
         },
         {
          "Clinic": "NCFP",
          "Date": "2017-12-26",
          "Metric": "Smoker Pneumovax",
          "Name": "Sally McPherson",
          "Percentage": 0.3689,
          "Type": "Individual"
         },
         {
          "Clinic": "NCFP",
          "Date": "2017-12-26",
          "Metric": "Smoker Pneumovax",
          "Name": "Lucia Muller",
          "Percentage": 0.5,
          "Type": "Individual"
         },
         {
          "Clinic": "BellB",
          "Date": "2017-12-26",
          "Metric": "Smoker Pneumovax",
          "Name": "Karen O’Keefe",
          "Percentage": 0.3095,
          "Type": "Individual"
         },
         {
          "Clinic": "SFM",
          "Date": "2017-12-26",
          "Metric": "Smoker Pneumovax",
          "Name": "Lillian Pavlik",
          "Percentage": null,
          "Type": "Individual"
         },
         {
          "Clinic": "LFM",
          "Date": "2017-12-26",
          "Metric": "Smoker Pneumovax",
          "Name": "Patricia Payne-Zajac",
          "Percentage": 0.3043,
          "Type": "Individual"
         },
         {
          "Clinic": "NCFP",
          "Date": "2017-12-26",
          "Metric": "Smoker Pneumovax",
          "Name": "Jonathan Ploudre",
          "Percentage": 0.5046,
          "Type": "Individual"
         },
         {
          "Clinic": "NSFM",
          "Date": "2017-12-26",
          "Metric": "Smoker Pneumovax",
          "Name": "John Raduege",
          "Percentage": 0.4947,
          "Type": "Individual"
         },
         {
          "Clinic": "BBFM",
          "Date": "2017-12-26",
          "Metric": "Smoker Pneumovax",
          "Name": "Teresa Regier",
          "Percentage": 0.2361,
          "Type": "Individual"
         },
         {
          "Clinic": "FFMC",
          "Date": "2017-12-26",
          "Metric": "Smoker Pneumovax",
          "Name": "Claudia Rey",
          "Percentage": 0.5,
          "Type": "Individual"
         },
         {
          "Clinic": "IFP",
          "Date": "2017-12-26",
          "Metric": "Smoker Pneumovax",
          "Name": "Robert Rieger",
          "Percentage": 0.525,
          "Type": "Individual"
         },
         {
          "Clinic": "SFM",
          "Date": "2017-12-26",
          "Metric": "Smoker Pneumovax",
          "Name": "Deborah Roessler",
          "Percentage": 0.5638,
          "Type": "Individual"
         },
         {
          "Clinic": "FFMC",
          "Date": "2017-12-26",
          "Metric": "Smoker Pneumovax",
          "Name": "Berdi Sanford",
          "Percentage": 0.7284,
          "Type": "Individual"
         },
         {
          "Clinic": "NCFP",
          "Date": "2017-12-26",
          "Metric": "Smoker Pneumovax",
          "Name": "Lauren Sauve",
          "Percentage": 0.3423,
          "Type": "Individual"
         },
         {
          "Clinic": "BellB",
          "Date": "2017-12-26",
          "Metric": "Smoker Pneumovax",
          "Name": "Melana Schimke",
          "Percentage": 0.1791,
          "Type": "Individual"
         },
         {
          "Clinic": "FHA",
          "Date": "2017-12-26",
          "Metric": "Smoker Pneumovax",
          "Name": "Miriam Shapiro",
          "Percentage": 0.5556,
          "Type": "Individual"
         },
         {
          "Clinic": "NSFM",
          "Date": "2017-12-26",
          "Metric": "Smoker Pneumovax",
          "Name": "Jason Short",
          "Percentage": 0.3958,
          "Type": "Individual"
         },
         {
          "Clinic": "NSFM",
          "Date": "2017-12-26",
          "Metric": "Smoker Pneumovax",
          "Name": "Vicki Short",
          "Percentage": 0.5119,
          "Type": "Individual"
         },
         {
          "Clinic": "LFM",
          "Date": "2017-12-26",
          "Metric": "Smoker Pneumovax",
          "Name": "Ashley Snyder",
          "Percentage": 0.463,
          "Type": "Individual"
         },
         {
          "Clinic": "FFMC",
          "Date": "2017-12-26",
          "Metric": "Smoker Pneumovax",
          "Name": "Kalani Synder",
          "Percentage": 0.2198,
          "Type": "Individual"
         },
         {
          "Clinic": "NSFM",
          "Date": "2017-12-26",
          "Metric": "Smoker Pneumovax",
          "Name": "Mary Swanson",
          "Percentage": 0.4375,
          "Type": "Individual"
         },
         {
          "Clinic": "IFP",
          "Date": "2017-12-26",
          "Metric": "Smoker Pneumovax",
          "Name": "Magaret Sweeney",
          "Percentage": 0.3256,
          "Type": "Individual"
         },
         {
          "Clinic": "WFM",
          "Date": "2017-12-26",
          "Metric": "Smoker Pneumovax",
          "Name": "Heather Thomson",
          "Percentage": 0.2143,
          "Type": "Individual"
         },
         {
          "Clinic": "BellB",
          "Date": "2017-12-26",
          "Metric": "Smoker Pneumovax",
          "Name": "Lisa Van Hofwegen",
          "Percentage": 0.4074,
          "Type": "Individual"
         },
         {
          "Clinic": "NSFM",
          "Date": "2017-12-26",
          "Metric": "Smoker Pneumovax",
          "Name": "April Wakefield-Pagels",
          "Percentage": 0.5319,
          "Type": "Individual"
         },
         {
          "Clinic": "SFM",
          "Date": "2017-12-26",
          "Metric": "Smoker Pneumovax",
          "Name": "Joy Welty",
          "Percentage": 0.4091,
          "Type": "Individual"
         },
         {
          "Clinic": "SFM",
          "Date": "2017-12-26",
          "Metric": "Smoker Pneumovax",
          "Name": "Matt Werner",
          "Percentage": 0.622,
          "Type": "Individual"
         },
         {
          "Clinic": "NCFP",
          "Date": "2017-12-26",
          "Metric": "Smoker Pneumovax",
          "Name": "Sloane Winkes",
          "Percentage": 0.5676,
          "Type": "Individual"
         },
         {
          "Clinic": "NSFM",
          "Date": "2017-12-26",
          "Metric": "Smoker Pneumovax",
          "Name": "Ying Wu",
          "Percentage": 0.5152,
          "Type": "Individual"
         },
         {
          "Clinic": "LFM",
          "Date": "2017-12-11",
          "Metric": "Smoker Pneumovax",
          "Name": "Steven Alexander",
          "Percentage": 0.6479,
          "Type": "Individual"
         },
         {
          "Clinic": "BellB",
          "Date": "2017-12-11",
          "Metric": "Smoker Pneumovax",
          "Name": "Greg Anderson",
          "Percentage": 0.4157,
          "Type": "Individual"
         },
         {
          "Clinic": "FHA",
          "Date": "2017-12-11",
          "Metric": "Smoker Pneumovax",
          "Name": "Rodney Anderson",
          "Percentage": 0.6071,
          "Type": "Individual"
         },
         {
          "Clinic": "FFMC",
          "Date": "2017-12-11",
          "Metric": "Smoker Pneumovax",
          "Name": "Jennifer Bates",
          "Percentage": 0.5692,
          "Type": "Individual"
         },
         {
          "Clinic": "WFM",
          "Date": "2017-12-11",
          "Metric": "Smoker Pneumovax",
          "Name": "Shannon Billau",
          "Percentage": 0.3898,
          "Type": "Individual"
         },
         {
          "Clinic": "WFM",
          "Date": "2017-12-11",
          "Metric": "Smoker Pneumovax",
          "Name": "Richard Binder",
          "Percentage": 0.6444,
          "Type": "Individual"
         },
         {
          "Clinic": "IFP",
          "Date": "2017-12-11",
          "Metric": "Smoker Pneumovax",
          "Name": "Franklin Bjorseth",
          "Percentage": 0.4132,
          "Type": "Individual"
         },
         {
          "Clinic": "FHA",
          "Date": "2017-12-11",
          "Metric": "Smoker Pneumovax",
          "Name": "Edward Bloom",
          "Percentage": 0.4262,
          "Type": "Individual"
         },
         {
          "Clinic": "FHA",
          "Date": "2017-12-11",
          "Metric": "Smoker Pneumovax",
          "Name": "Jessica Bloom",
          "Percentage": 0.2778,
          "Type": "Individual"
         },
         {
          "Clinic": "WFM",
          "Date": "2017-12-11",
          "Metric": "Smoker Pneumovax",
          "Name": "Steven Bloom",
          "Percentage": 0.4105,
          "Type": "Individual"
         },
         {
          "Clinic": "BellB",
          "Date": "2017-12-11",
          "Metric": "Smoker Pneumovax",
          "Name": "Ian Bonner",
          "Percentage": 0.3622,
          "Type": "Individual"
         },
         {
          "Clinic": "BellB",
          "Date": "2017-12-11",
          "Metric": "Smoker Pneumovax",
          "Name": "Sara Bowling",
          "Percentage": 0.2907,
          "Type": "Individual"
         },
         {
          "Clinic": "NSFM",
          "Date": "2017-12-11",
          "Metric": "Smoker Pneumovax",
          "Name": "Rory Bradt",
          "Percentage": 0.3778,
          "Type": "Individual"
         },
         {
          "Clinic": "FFMC",
          "Date": "2017-12-11",
          "Metric": "Smoker Pneumovax",
          "Name": "Rebecca Brejcha",
          "Percentage": null,
          "Type": "Individual"
         },
         {
          "Clinic": "NSFM",
          "Date": "2017-12-11",
          "Metric": "Smoker Pneumovax",
          "Name": "Lisa Brodsky",
          "Percentage": 0.25,
          "Type": "Individual"
         },
         {
          "Clinic": "LFM",
          "Date": "2017-12-11",
          "Metric": "Smoker Pneumovax",
          "Name": "Margaret Burden",
          "Percentage": 0.3947,
          "Type": "Individual"
         },
         {
          "Clinic": "NCFP",
          "Date": "2017-12-11",
          "Metric": "Smoker Pneumovax",
          "Name": "Erik Bylund",
          "Percentage": 0.291,
          "Type": "Individual"
         },
         {
          "Clinic": "LFM",
          "Date": "2017-12-11",
          "Metric": "Smoker Pneumovax",
          "Name": "Robin Caldwell",
          "Percentage": 0.4383,
          "Type": "Individual"
         },
         {
          "Clinic": "NSFM",
          "Date": "2017-12-11",
          "Metric": "Smoker Pneumovax",
          "Name": "William Eiford",
          "Percentage": null,
          "Type": "Individual"
         },
         {
          "Clinic": "NCFP",
          "Date": "2017-12-11",
          "Metric": "Smoker Pneumovax",
          "Name": "Roger Estep",
          "Percentage": 0.2041,
          "Type": "Individual"
         },
         {
          "Clinic": "LFM",
          "Date": "2017-12-11",
          "Metric": "Smoker Pneumovax",
          "Name": "Michael Fleming",
          "Percentage": 0.2885,
          "Type": "Individual"
         },
         {
          "Clinic": "NSFM",
          "Date": "2017-12-11",
          "Metric": "Smoker Pneumovax",
          "Name": "Anneliese Floyd",
          "Percentage": 0.525,
          "Type": "Individual"
         },
         {
          "Clinic": "BellB",
          "Date": "2017-12-11",
          "Metric": "Smoker Pneumovax",
          "Name": "Laura Fox",
          "Percentage": 0.4468,
          "Type": "Individual"
         },
         {
          "Clinic": "FFMC",
          "Date": "2017-12-11",
          "Metric": "Smoker Pneumovax",
          "Name": "Renay Fredette",
          "Percentage": 0.5385,
          "Type": "Individual"
         },
         {
          "Clinic": "NCFP",
          "Date": "2017-12-11",
          "Metric": "Smoker Pneumovax",
          "Name": "Kay-Kay Gambs",
          "Percentage": 0.1917,
          "Type": "Individual"
         },
         {
          "Clinic": "NCFP",
          "Date": "2017-12-11",
          "Metric": "Smoker Pneumovax",
          "Name": "Jonathan Gamson",
          "Percentage": 0.2836,
          "Type": "Individual"
         },
         {
          "Clinic": "NSFM",
          "Date": "2017-12-11",
          "Metric": "Smoker Pneumovax",
          "Name": "Elizabeth Gaylord",
          "Percentage": 0.4516,
          "Type": "Individual"
         },
         {
          "Clinic": "IFP",
          "Date": "2017-12-11",
          "Metric": "Smoker Pneumovax",
          "Name": "Karen Goodman",
          "Percentage": 0.2895,
          "Type": "Individual"
         },
         {
          "Clinic": "FHA",
          "Date": "2017-12-11",
          "Metric": "Smoker Pneumovax",
          "Name": "Deborah Hall",
          "Percentage": 0.5584,
          "Type": "Individual"
         },
         {
          "Clinic": "NCFP",
          "Date": "2017-12-11",
          "Metric": "Smoker Pneumovax",
          "Name": "Janet Hansom",
          "Percentage": 0.5517,
          "Type": "Individual"
         },
         {
          "Clinic": "LFM",
          "Date": "2017-12-11",
          "Metric": "Smoker Pneumovax",
          "Name": "Larry Hartwell",
          "Percentage": 0.5,
          "Type": "Individual"
         },
         {
          "Clinic": "SFM",
          "Date": "2017-12-11",
          "Metric": "Smoker Pneumovax",
          "Name": "Shelby Hein",
          "Percentage": 0.4754,
          "Type": "Individual"
         },
         {
          "Clinic": "SFM",
          "Date": "2017-12-11",
          "Metric": "Smoker Pneumovax",
          "Name": "Harry Herdman",
          "Percentage": 0.6,
          "Type": "Individual"
         },
         {
          "Clinic": "NSFM",
          "Date": "2017-12-11",
          "Metric": "Smoker Pneumovax",
          "Name": "Sarah Herman",
          "Percentage": null,
          "Type": "Individual"
         },
         {
          "Clinic": "LFM",
          "Date": "2017-12-11",
          "Metric": "Smoker Pneumovax",
          "Name": "John Hiemstra",
          "Percentage": 0.5306,
          "Type": "Individual"
         },
         {
          "Clinic": "SFM",
          "Date": "2017-12-11",
          "Metric": "Smoker Pneumovax",
          "Name": "Heather Honey",
          "Percentage": 0.4167,
          "Type": "Individual"
         },
         {
          "Clinic": "FHA",
          "Date": "2017-12-11",
          "Metric": "Smoker Pneumovax",
          "Name": "Ryan Honey",
          "Percentage": 0.125,
          "Type": "Individual"
         },
         {
          "Clinic": "BellB",
          "Date": "2017-12-11",
          "Metric": "Smoker Pneumovax",
          "Name": "Jim Hopper",
          "Percentage": 0.4583,
          "Type": "Individual"
         },
         {
          "Clinic": "FFMC",
          "Date": "2017-12-11",
          "Metric": "Smoker Pneumovax",
          "Name": "John Hruby",
          "Percentage": 0.4444,
          "Type": "Individual"
         },
         {
          "Clinic": "FHA",
          "Date": "2017-12-11",
          "Metric": "Smoker Pneumovax",
          "Name": "Kellie Jacobs",
          "Percentage": 0.4348,
          "Type": "Individual"
         },
         {
          "Clinic": "IFP",
          "Date": "2017-12-11",
          "Metric": "Smoker Pneumovax",
          "Name": "Michael James",
          "Percentage": 0.1915,
          "Type": "Individual"
         },
         {
          "Clinic": "FHA",
          "Date": "2017-12-11",
          "Metric": "Smoker Pneumovax",
          "Name": "Sharon Kerlin",
          "Percentage": null,
          "Type": "Individual"
         },
         {
          "Clinic": "BBFM",
          "Date": "2017-12-11",
          "Metric": "Smoker Pneumovax",
          "Name": "Jessica Klassen",
          "Percentage": 0.1515,
          "Type": "Individual"
         },
         {
          "Clinic": "FHA",
          "Date": "2017-12-11",
          "Metric": "Smoker Pneumovax",
          "Name": "Meghan Lelonek",
          "Percentage": 0.3373,
          "Type": "Individual"
         },
         {
          "Clinic": "FFMC",
          "Date": "2017-12-11",
          "Metric": "Smoker Pneumovax",
          "Name": "Stephen Lewis",
          "Percentage": 0.438,
          "Type": "Individual"
         },
         {
          "Clinic": "FFMC",
          "Date": "2017-12-11",
          "Metric": "Smoker Pneumovax",
          "Name": "Erin Maloney",
          "Percentage": null,
          "Type": "Individual"
         },
         {
          "Clinic": "NCFP",
          "Date": "2017-12-11",
          "Metric": "Smoker Pneumovax",
          "Name": "Ross McConahey",
          "Percentage": null,
          "Type": "Individual"
         },
         {
          "Clinic": "NSFM",
          "Date": "2017-12-11",
          "Metric": "Smoker Pneumovax",
          "Name": "Patrick McLaughlin",
          "Percentage": 0.3562,
          "Type": "Individual"
         },
         {
          "Clinic": "NCFP",
          "Date": "2017-12-11",
          "Metric": "Smoker Pneumovax",
          "Name": "Sally McPherson",
          "Percentage": 0.375,
          "Type": "Individual"
         },
         {
          "Clinic": "NCFP",
          "Date": "2017-12-11",
          "Metric": "Smoker Pneumovax",
          "Name": "Lucia Muller",
          "Percentage": 0.5,
          "Type": "Individual"
         },
         {
          "Clinic": "BellB",
          "Date": "2017-12-11",
          "Metric": "Smoker Pneumovax",
          "Name": "Karen O’Keefe",
          "Percentage": 0.2619,
          "Type": "Individual"
         },
         {
          "Clinic": "SFM",
          "Date": "2017-12-11",
          "Metric": "Smoker Pneumovax",
          "Name": "Lillian Pavlik",
          "Percentage": null,
          "Type": "Individual"
         },
         {
          "Clinic": "LFM",
          "Date": "2017-12-11",
          "Metric": "Smoker Pneumovax",
          "Name": "Patricia Payne-Zajac",
          "Percentage": 0.3182,
          "Type": "Individual"
         },
         {
          "Clinic": "NCFP",
          "Date": "2017-12-11",
          "Metric": "Smoker Pneumovax",
          "Name": "Jonathan Ploudre",
          "Percentage": 0.5,
          "Type": "Individual"
         },
         {
          "Clinic": "NSFM",
          "Date": "2017-12-11",
          "Metric": "Smoker Pneumovax",
          "Name": "John Raduege",
          "Percentage": 0.4947,
          "Type": "Individual"
         },
         {
          "Clinic": "BBFM",
          "Date": "2017-12-11",
          "Metric": "Smoker Pneumovax",
          "Name": "Teresa Regier",
          "Percentage": 0.2361,
          "Type": "Individual"
         },
         {
          "Clinic": "FFMC",
          "Date": "2017-12-11",
          "Metric": "Smoker Pneumovax",
          "Name": "Claudia Rey",
          "Percentage": 0.4867,
          "Type": "Individual"
         },
         {
          "Clinic": "IFP",
          "Date": "2017-12-11",
          "Metric": "Smoker Pneumovax",
          "Name": "Robert Rieger",
          "Percentage": 0.525,
          "Type": "Individual"
         },
         {
          "Clinic": "SFM",
          "Date": "2017-12-11",
          "Metric": "Smoker Pneumovax",
          "Name": "Deborah Roessler",
          "Percentage": 0.5361,
          "Type": "Individual"
         },
         {
          "Clinic": "FFMC",
          "Date": "2017-12-11",
          "Metric": "Smoker Pneumovax",
          "Name": "Berdi Sanford",
          "Percentage": 0.725,
          "Type": "Individual"
         },
         {
          "Clinic": "NCFP",
          "Date": "2017-12-11",
          "Metric": "Smoker Pneumovax",
          "Name": "Lauren Sauve",
          "Percentage": 0.3519,
          "Type": "Individual"
         },
         {
          "Clinic": "BellB",
          "Date": "2017-12-11",
          "Metric": "Smoker Pneumovax",
          "Name": "Melana Schimke",
          "Percentage": 0.1791,
          "Type": "Individual"
         },
         {
          "Clinic": "FHA",
          "Date": "2017-12-11",
          "Metric": "Smoker Pneumovax",
          "Name": "Miriam Shapiro",
          "Percentage": 0.5278,
          "Type": "Individual"
         },
         {
          "Clinic": "NSFM",
          "Date": "2017-12-11",
          "Metric": "Smoker Pneumovax",
          "Name": "Jason Short",
          "Percentage": 0.3895,
          "Type": "Individual"
         },
         {
          "Clinic": "NSFM",
          "Date": "2017-12-11",
          "Metric": "Smoker Pneumovax",
          "Name": "Vicki Short",
          "Percentage": 0.5059,
          "Type": "Individual"
         },
         {
          "Clinic": "LFM",
          "Date": "2017-12-11",
          "Metric": "Smoker Pneumovax",
          "Name": "Ashley Snyder",
          "Percentage": 0.463,
          "Type": "Individual"
         },
         {
          "Clinic": "FFMC",
          "Date": "2017-12-11",
          "Metric": "Smoker Pneumovax",
          "Name": "Kalani Synder",
          "Percentage": 0.2093,
          "Type": "Individual"
         },
         {
          "Clinic": "NSFM",
          "Date": "2017-12-11",
          "Metric": "Smoker Pneumovax",
          "Name": "Mary Swanson",
          "Percentage": 0.4375,
          "Type": "Individual"
         },
         {
          "Clinic": "IFP",
          "Date": "2017-12-11",
          "Metric": "Smoker Pneumovax",
          "Name": "Magaret Sweeney",
          "Percentage": 0.3256,
          "Type": "Individual"
         },
         {
          "Clinic": "WFM",
          "Date": "2017-12-11",
          "Metric": "Smoker Pneumovax",
          "Name": "Heather Thomson",
          "Percentage": 0.2308,
          "Type": "Individual"
         },
         {
          "Clinic": "BellB",
          "Date": "2017-12-11",
          "Metric": "Smoker Pneumovax",
          "Name": "Lisa Van Hofwegen",
          "Percentage": 0.4074,
          "Type": "Individual"
         },
         {
          "Clinic": "NSFM",
          "Date": "2017-12-11",
          "Metric": "Smoker Pneumovax",
          "Name": "April Wakefield-Pagels",
          "Percentage": 0.5319,
          "Type": "Individual"
         },
         {
          "Clinic": "SFM",
          "Date": "2017-12-11",
          "Metric": "Smoker Pneumovax",
          "Name": "Joy Welty",
          "Percentage": 0.4286,
          "Type": "Individual"
         },
         {
          "Clinic": "SFM",
          "Date": "2017-12-11",
          "Metric": "Smoker Pneumovax",
          "Name": "Matt Werner",
          "Percentage": 0.6145,
          "Type": "Individual"
         },
         {
          "Clinic": "NCFP",
          "Date": "2017-12-11",
          "Metric": "Smoker Pneumovax",
          "Name": "Sloane Winkes",
          "Percentage": 0.5676,
          "Type": "Individual"
         },
         {
          "Clinic": "NSFM",
          "Date": "2017-12-11",
          "Metric": "Smoker Pneumovax",
          "Name": "Ying Wu",
          "Percentage": 0.5143,
          "Type": "Individual"
         },
         {
          "Clinic": "LFM",
          "Date": "2017-10-16",
          "Metric": "Smoker Pneumovax",
          "Name": "Steven Alexander",
          "Percentage": 0.6216,
          "Type": "Individual"
         },
         {
          "Clinic": "BellB",
          "Date": "2017-10-16",
          "Metric": "Smoker Pneumovax",
          "Name": "Greg Anderson",
          "Percentage": 0.3913,
          "Type": "Individual"
         },
         {
          "Clinic": "FHA",
          "Date": "2017-10-16",
          "Metric": "Smoker Pneumovax",
          "Name": "Rodney Anderson",
          "Percentage": 0.6207,
          "Type": "Individual"
         },
         {
          "Clinic": "FFMC",
          "Date": "2017-10-16",
          "Metric": "Smoker Pneumovax",
          "Name": "Jennifer Bates",
          "Percentage": 0.5753,
          "Type": "Individual"
         },
         {
          "Clinic": "WFM",
          "Date": "2017-10-16",
          "Metric": "Smoker Pneumovax",
          "Name": "Shannon Billau",
          "Percentage": 0.4,
          "Type": "Individual"
         },
         {
          "Clinic": "WFM",
          "Date": "2017-10-16",
          "Metric": "Smoker Pneumovax",
          "Name": "Richard Binder",
          "Percentage": 0.6667,
          "Type": "Individual"
         },
         {
          "Clinic": "IFP",
          "Date": "2017-10-16",
          "Metric": "Smoker Pneumovax",
          "Name": "Franklin Bjorseth",
          "Percentage": 0.4202,
          "Type": "Individual"
         },
         {
          "Clinic": "FHA",
          "Date": "2017-10-16",
          "Metric": "Smoker Pneumovax",
          "Name": "Edward Bloom",
          "Percentage": 0.4194,
          "Type": "Individual"
         },
         {
          "Clinic": "FHA",
          "Date": "2017-10-16",
          "Metric": "Smoker Pneumovax",
          "Name": "Jessica Bloom",
          "Percentage": 0.2941,
          "Type": "Individual"
         },
         {
          "Clinic": "WFM",
          "Date": "2017-10-16",
          "Metric": "Smoker Pneumovax",
          "Name": "Steven Bloom",
          "Percentage": 0.4149,
          "Type": "Individual"
         },
         {
          "Clinic": "BellB",
          "Date": "2017-10-16",
          "Metric": "Smoker Pneumovax",
          "Name": "Ian Bonner",
          "Percentage": 0.3308,
          "Type": "Individual"
         },
         {
          "Clinic": "BellB",
          "Date": "2017-10-16",
          "Metric": "Smoker Pneumovax",
          "Name": "Sara Bowling",
          "Percentage": 0.2674,
          "Type": "Individual"
         },
         {
          "Clinic": "NSFM",
          "Date": "2017-10-16",
          "Metric": "Smoker Pneumovax",
          "Name": "Rory Bradt",
          "Percentage": 0.3546,
          "Type": "Individual"
         },
         {
          "Clinic": "FFMC",
          "Date": "2017-10-16",
          "Metric": "Smoker Pneumovax",
          "Name": "Rebecca Brejcha",
          "Percentage": null,
          "Type": "Individual"
         },
         {
          "Clinic": "NSFM",
          "Date": "2017-10-16",
          "Metric": "Smoker Pneumovax",
          "Name": "Lisa Brodsky",
          "Percentage": 0.2581,
          "Type": "Individual"
         },
         {
          "Clinic": "LFM",
          "Date": "2017-10-16",
          "Metric": "Smoker Pneumovax",
          "Name": "Margaret Burden",
          "Percentage": 0.4103,
          "Type": "Individual"
         },
         {
          "Clinic": "NCFP",
          "Date": "2017-10-16",
          "Metric": "Smoker Pneumovax",
          "Name": "Erik Bylund",
          "Percentage": 0.2615,
          "Type": "Individual"
         },
         {
          "Clinic": "LFM",
          "Date": "2017-10-16",
          "Metric": "Smoker Pneumovax",
          "Name": "Robin Caldwell",
          "Percentage": 0.4431,
          "Type": "Individual"
         },
         {
          "Clinic": "NSFM",
          "Date": "2017-10-16",
          "Metric": "Smoker Pneumovax",
          "Name": "William Eiford",
          "Percentage": null,
          "Type": "Individual"
         },
         {
          "Clinic": "NCFP",
          "Date": "2017-10-16",
          "Metric": "Smoker Pneumovax",
          "Name": "Roger Estep",
          "Percentage": 0.1875,
          "Type": "Individual"
         },
         {
          "Clinic": "LFM",
          "Date": "2017-10-16",
          "Metric": "Smoker Pneumovax",
          "Name": "Michael Fleming",
          "Percentage": 0.2979,
          "Type": "Individual"
         },
         {
          "Clinic": "NSFM",
          "Date": "2017-10-16",
          "Metric": "Smoker Pneumovax",
          "Name": "Anneliese Floyd",
          "Percentage": 0.525,
          "Type": "Individual"
         },
         {
          "Clinic": "BellB",
          "Date": "2017-10-16",
          "Metric": "Smoker Pneumovax",
          "Name": "Laura Fox",
          "Percentage": 0.4318,
          "Type": "Individual"
         },
         {
          "Clinic": "FFMC",
          "Date": "2017-10-16",
          "Metric": "Smoker Pneumovax",
          "Name": "Renay Fredette",
          "Percentage": 0.5373,
          "Type": "Individual"
         },
         {
          "Clinic": "NCFP",
          "Date": "2017-10-16",
          "Metric": "Smoker Pneumovax",
          "Name": "Kay-Kay Gambs",
          "Percentage": 0.1583,
          "Type": "Individual"
         },
         {
          "Clinic": "NCFP",
          "Date": "2017-10-16",
          "Metric": "Smoker Pneumovax",
          "Name": "Jonathan Gamson",
          "Percentage": 0.2538,
          "Type": "Individual"
         },
         {
          "Clinic": "NSFM",
          "Date": "2017-10-16",
          "Metric": "Smoker Pneumovax",
          "Name": "Elizabeth Gaylord",
          "Percentage": 0.4545,
          "Type": "Individual"
         },
         {
          "Clinic": "IFP",
          "Date": "2017-10-16",
          "Metric": "Smoker Pneumovax",
          "Name": "Karen Goodman",
          "Percentage": 0.3537,
          "Type": "Individual"
         },
         {
          "Clinic": "FHA",
          "Date": "2017-10-16",
          "Metric": "Smoker Pneumovax",
          "Name": "Deborah Hall",
          "Percentage": 0.5641,
          "Type": "Individual"
         },
         {
          "Clinic": "NCFP",
          "Date": "2017-10-16",
          "Metric": "Smoker Pneumovax",
          "Name": "Janet Hansom",
          "Percentage": 0.5333,
          "Type": "Individual"
         },
         {
          "Clinic": "LFM",
          "Date": "2017-10-16",
          "Metric": "Smoker Pneumovax",
          "Name": "Larry Hartwell",
          "Percentage": 0.5046,
          "Type": "Individual"
         },
         {
          "Clinic": "SFM",
          "Date": "2017-10-16",
          "Metric": "Smoker Pneumovax",
          "Name": "Shelby Hein",
          "Percentage": 0.4754,
          "Type": "Individual"
         },
         {
          "Clinic": "SFM",
          "Date": "2017-10-16",
          "Metric": "Smoker Pneumovax",
          "Name": "Harry Herdman",
          "Percentage": 0.5676,
          "Type": "Individual"
         },
         {
          "Clinic": "NSFM",
          "Date": "2017-10-16",
          "Metric": "Smoker Pneumovax",
          "Name": "Sarah Herman",
          "Percentage": null,
          "Type": "Individual"
         },
         {
          "Clinic": "LFM",
          "Date": "2017-10-16",
          "Metric": "Smoker Pneumovax",
          "Name": "John Hiemstra",
          "Percentage": 0.5197,
          "Type": "Individual"
         },
         {
          "Clinic": "SFM",
          "Date": "2017-10-16",
          "Metric": "Smoker Pneumovax",
          "Name": "Heather Honey",
          "Percentage": 0.4138,
          "Type": "Individual"
         },
         {
          "Clinic": "FHA",
          "Date": "2017-10-16",
          "Metric": "Smoker Pneumovax",
          "Name": "Ryan Honey",
          "Percentage": 0.1111,
          "Type": "Individual"
         },
         {
          "Clinic": "BellB",
          "Date": "2017-10-16",
          "Metric": "Smoker Pneumovax",
          "Name": "Jim Hopper",
          "Percentage": 0.4375,
          "Type": "Individual"
         },
         {
          "Clinic": "FFMC",
          "Date": "2017-10-16",
          "Metric": "Smoker Pneumovax",
          "Name": "John Hruby",
          "Percentage": 0.4472,
          "Type": "Individual"
         },
         {
          "Clinic": "FHA",
          "Date": "2017-10-16",
          "Metric": "Smoker Pneumovax",
          "Name": "Kellie Jacobs",
          "Percentage": 0.449,
          "Type": "Individual"
         },
         {
          "Clinic": "IFP",
          "Date": "2017-10-16",
          "Metric": "Smoker Pneumovax",
          "Name": "Michael James",
          "Percentage": 0.1758,
          "Type": "Individual"
         },
         {
          "Clinic": "FHA",
          "Date": "2017-10-16",
          "Metric": "Smoker Pneumovax",
          "Name": "Sharon Kerlin",
          "Percentage": null,
          "Type": "Individual"
         },
         {
          "Clinic": "FHA",
          "Date": "2017-10-16",
          "Metric": "Smoker Pneumovax",
          "Name": "Meghan Lelonek",
          "Percentage": 0.3373,
          "Type": "Individual"
         },
         {
          "Clinic": "FFMC",
          "Date": "2017-10-16",
          "Metric": "Smoker Pneumovax",
          "Name": "Stephen Lewis",
          "Percentage": 0.4462,
          "Type": "Individual"
         },
         {
          "Clinic": "FFMC",
          "Date": "2017-10-16",
          "Metric": "Smoker Pneumovax",
          "Name": "Erin Maloney",
          "Percentage": null,
          "Type": "Individual"
         },
         {
          "Clinic": "NCFP",
          "Date": "2017-10-16",
          "Metric": "Smoker Pneumovax",
          "Name": "Ross McConahey",
          "Percentage": null,
          "Type": "Individual"
         },
         {
          "Clinic": "NSFM",
          "Date": "2017-10-16",
          "Metric": "Smoker Pneumovax",
          "Name": "Patrick McLaughlin",
          "Percentage": 0.3857,
          "Type": "Individual"
         },
         {
          "Clinic": "NCFP",
          "Date": "2017-10-16",
          "Metric": "Smoker Pneumovax",
          "Name": "Sally McPherson",
          "Percentage": 0.3173,
          "Type": "Individual"
         },
         {
          "Clinic": "NCFP",
          "Date": "2017-10-16",
          "Metric": "Smoker Pneumovax",
          "Name": "Lucia Muller",
          "Percentage": 0.4348,
          "Type": "Individual"
         },
         {
          "Clinic": "BellB",
          "Date": "2017-10-16",
          "Metric": "Smoker Pneumovax",
          "Name": "Karen O’Keefe",
          "Percentage": 0.2326,
          "Type": "Individual"
         },
         {
          "Clinic": "SFM",
          "Date": "2017-10-16",
          "Metric": "Smoker Pneumovax",
          "Name": "Lillian Pavlik",
          "Percentage": null,
          "Type": "Individual"
         },
         {
          "Clinic": "LFM",
          "Date": "2017-10-16",
          "Metric": "Smoker Pneumovax",
          "Name": "Patricia Payne-Zajac",
          "Percentage": 0.1538,
          "Type": "Individual"
         },
         {
          "Clinic": "NCFP",
          "Date": "2017-10-16",
          "Metric": "Smoker Pneumovax",
          "Name": "Jonathan Ploudre",
          "Percentage": 0.4455,
          "Type": "Individual"
         },
         {
          "Clinic": "NSFM",
          "Date": "2017-10-16",
          "Metric": "Smoker Pneumovax",
          "Name": "John Raduege",
          "Percentage": 0.4646,
          "Type": "Individual"
         },
         {
          "Clinic": "BBFM",
          "Date": "2017-10-16",
          "Metric": "Smoker Pneumovax",
          "Name": "Teresa Regier",
          "Percentage": 0.2353,
          "Type": "Individual"
         },
         {
          "Clinic": "FFMC",
          "Date": "2017-10-16",
          "Metric": "Smoker Pneumovax",
          "Name": "Claudia Rey",
          "Percentage": 0.4683,
          "Type": "Individual"
         },
         {
          "Clinic": "IFP",
          "Date": "2017-10-16",
          "Metric": "Smoker Pneumovax",
          "Name": "Robert Rieger",
          "Percentage": 0.4615,
          "Type": "Individual"
         },
         {
          "Clinic": "SFM",
          "Date": "2017-10-16",
          "Metric": "Smoker Pneumovax",
          "Name": "Deborah Roessler",
          "Percentage": 0.5253,
          "Type": "Individual"
         },
         {
          "Clinic": "FFMC",
          "Date": "2017-10-16",
          "Metric": "Smoker Pneumovax",
          "Name": "Berdi Sanford",
          "Percentage": 0.7024,
          "Type": "Individual"
         },
         {
          "Clinic": "NCFP",
          "Date": "2017-10-16",
          "Metric": "Smoker Pneumovax",
          "Name": "Lauren Sauve",
          "Percentage": 0.3396,
          "Type": "Individual"
         },
         {
          "Clinic": "BellB",
          "Date": "2017-10-16",
          "Metric": "Smoker Pneumovax",
          "Name": "Melana Schimke",
          "Percentage": 0.1304,
          "Type": "Individual"
         },
         {
          "Clinic": "FHA",
          "Date": "2017-10-16",
          "Metric": "Smoker Pneumovax",
          "Name": "Miriam Shapiro",
          "Percentage": 0.4571,
          "Type": "Individual"
         },
         {
          "Clinic": "NSFM",
          "Date": "2017-10-16",
          "Metric": "Smoker Pneumovax",
          "Name": "Jason Short",
          "Percentage": 0.4,
          "Type": "Individual"
         },
         {
          "Clinic": "NSFM",
          "Date": "2017-10-16",
          "Metric": "Smoker Pneumovax",
          "Name": "Vicki Short",
          "Percentage": 0.506,
          "Type": "Individual"
         },
         {
          "Clinic": "LFM",
          "Date": "2017-10-16",
          "Metric": "Smoker Pneumovax",
          "Name": "Ashley Snyder",
          "Percentage": 0.5,
          "Type": "Individual"
         },
         {
          "Clinic": "NSFM",
          "Date": "2017-10-16",
          "Metric": "Smoker Pneumovax",
          "Name": "Mary Swanson",
          "Percentage": 0.4,
          "Type": "Individual"
         },
         {
          "Clinic": "IFP",
          "Date": "2017-10-16",
          "Metric": "Smoker Pneumovax",
          "Name": "Magaret Sweeney",
          "Percentage": 0.2857,
          "Type": "Individual"
         },
         {
          "Clinic": "BellB",
          "Date": "2017-10-16",
          "Metric": "Smoker Pneumovax",
          "Name": "Lisa Van Hofwegen",
          "Percentage": 0.3667,
          "Type": "Individual"
         },
         {
          "Clinic": "NSFM",
          "Date": "2017-10-16",
          "Metric": "Smoker Pneumovax",
          "Name": "April Wakefield-Pagels",
          "Percentage": 0.5319,
          "Type": "Individual"
         },
         {
          "Clinic": "SFM",
          "Date": "2017-10-16",
          "Metric": "Smoker Pneumovax",
          "Name": "Joy Welty",
          "Percentage": null,
          "Type": "Individual"
         },
         {
          "Clinic": "SFM",
          "Date": "2017-10-16",
          "Metric": "Smoker Pneumovax",
          "Name": "Matt Werner",
          "Percentage": 0.5795,
          "Type": "Individual"
         },
         {
          "Clinic": "NCFP",
          "Date": "2017-10-16",
          "Metric": "Smoker Pneumovax",
          "Name": "Sloane Winkes",
          "Percentage": 0.5676,
          "Type": "Individual"
         },
         {
          "Clinic": "NSFM",
          "Date": "2017-10-16",
          "Metric": "Smoker Pneumovax",
          "Name": "Ying Wu",
          "Percentage": 0.4865,
          "Type": "Individual"
         },
         {
          "Clinic": "LFM",
          "Date": "2018-02-26",
          "Metric": "Smoker Pneumovax",
          "Name": "Steven Alexander",
          "Percentage": 0.6667,
          "Type": "Individual"
         },
         {
          "Clinic": "BellB",
          "Date": "2018-02-26",
          "Metric": "Smoker Pneumovax",
          "Name": "Greg Anderson",
          "Percentage": 0.4607,
          "Type": "Individual"
         },
         {
          "Clinic": "FHA",
          "Date": "2018-02-26",
          "Metric": "Smoker Pneumovax",
          "Name": "Rodney Anderson",
          "Percentage": 0.6809,
          "Type": "Individual"
         },
         {
          "Clinic": "FFMC",
          "Date": "2018-02-26",
          "Metric": "Smoker Pneumovax",
          "Name": "Jennifer Bates",
          "Percentage": 0.5781,
          "Type": "Individual"
         },
         {
          "Clinic": "WFM",
          "Date": "2018-02-26",
          "Metric": "Smoker Pneumovax",
          "Name": "Shannon Billau",
          "Percentage": 0.4167,
          "Type": "Individual"
         },
         {
          "Clinic": "WFM",
          "Date": "2018-02-26",
          "Metric": "Smoker Pneumovax",
          "Name": "Richard Binder",
          "Percentage": 0.6444,
          "Type": "Individual"
         },
         {
          "Clinic": "IFP",
          "Date": "2018-02-26",
          "Metric": "Smoker Pneumovax",
          "Name": "Franklin Bjorseth",
          "Percentage": 0.438,
          "Type": "Individual"
         },
         {
          "Clinic": "FHA",
          "Date": "2018-02-26",
          "Metric": "Smoker Pneumovax",
          "Name": "Edward Bloom",
          "Percentage": 0.4359,
          "Type": "Individual"
         },
         {
          "Clinic": "FHA",
          "Date": "2018-02-26",
          "Metric": "Smoker Pneumovax",
          "Name": "Jessica Bloom",
          "Percentage": 0.2632,
          "Type": "Individual"
         },
         {
          "Clinic": "WFM",
          "Date": "2018-02-26",
          "Metric": "Smoker Pneumovax",
          "Name": "Steven Bloom",
          "Percentage": 0.449,
          "Type": "Individual"
         },
         {
          "Clinic": "BellB",
          "Date": "2018-02-26",
          "Metric": "Smoker Pneumovax",
          "Name": "Ian Bonner",
          "Percentage": 0.3858,
          "Type": "Individual"
         },
         {
          "Clinic": "BellB",
          "Date": "2018-02-26",
          "Metric": "Smoker Pneumovax",
          "Name": "Sara Bowling",
          "Percentage": 0.3176,
          "Type": "Individual"
         },
         {
          "Clinic": "NSFM",
          "Date": "2018-02-26",
          "Metric": "Smoker Pneumovax",
          "Name": "Rory Bradt",
          "Percentage": 0.406,
          "Type": "Individual"
         },
         {
          "Clinic": "FFMC",
          "Date": "2018-02-26",
          "Metric": "Smoker Pneumovax",
          "Name": "Rebecca Brejcha",
          "Percentage": null,
          "Type": "Individual"
         },
         {
          "Clinic": "NSFM",
          "Date": "2018-02-26",
          "Metric": "Smoker Pneumovax",
          "Name": "Lisa Brodsky",
          "Percentage": 0.3235,
          "Type": "Individual"
         },
         {
          "Clinic": "LFM",
          "Date": "2018-02-26",
          "Metric": "Smoker Pneumovax",
          "Name": "Margaret Burden",
          "Percentage": 0.4054,
          "Type": "Individual"
         },
         {
          "Clinic": "NCFP",
          "Date": "2018-02-26",
          "Metric": "Smoker Pneumovax",
          "Name": "Erik Bylund",
          "Percentage": 0.3053,
          "Type": "Individual"
         },
         {
          "Clinic": "LFM",
          "Date": "2018-02-26",
          "Metric": "Smoker Pneumovax",
          "Name": "Robin Caldwell",
          "Percentage": 0.4591,
          "Type": "Individual"
         },
         {
          "Clinic": "NSFM",
          "Date": "2018-02-26",
          "Metric": "Smoker Pneumovax",
          "Name": "William Eiford",
          "Percentage": null,
          "Type": "Individual"
         },
         {
          "Clinic": "NCFP",
          "Date": "2018-02-26",
          "Metric": "Smoker Pneumovax",
          "Name": "Roger Estep",
          "Percentage": 0.3095,
          "Type": "Individual"
         },
         {
          "Clinic": "LFM",
          "Date": "2018-02-26",
          "Metric": "Smoker Pneumovax",
          "Name": "Michael Fleming",
          "Percentage": 0.3429,
          "Type": "Individual"
         },
         {
          "Clinic": "NSFM",
          "Date": "2018-02-26",
          "Metric": "Smoker Pneumovax",
          "Name": "Anneliese Floyd",
          "Percentage": 0.5122,
          "Type": "Individual"
         },
         {
          "Clinic": "BellB",
          "Date": "2018-02-26",
          "Metric": "Smoker Pneumovax",
          "Name": "Laura Fox",
          "Percentage": 0.4894,
          "Type": "Individual"
         },
         {
          "Clinic": "FFMC",
          "Date": "2018-02-26",
          "Metric": "Smoker Pneumovax",
          "Name": "Renay Fredette",
          "Percentage": 0.5246,
          "Type": "Individual"
         },
         {
          "Clinic": "NCFP",
          "Date": "2018-02-26",
          "Metric": "Smoker Pneumovax",
          "Name": "Kay-Kay Gambs",
          "Percentage": 0.1913,
          "Type": "Individual"
         },
         {
          "Clinic": "NCFP",
          "Date": "2018-02-26",
          "Metric": "Smoker Pneumovax",
          "Name": "Jonathan Gamson",
          "Percentage": 0.303,
          "Type": "Individual"
         },
         {
          "Clinic": "NSFM",
          "Date": "2018-02-26",
          "Metric": "Smoker Pneumovax",
          "Name": "Elizabeth Gaylord",
          "Percentage": 0.5,
          "Type": "Individual"
         },
         {
          "Clinic": "IFP",
          "Date": "2018-02-26",
          "Metric": "Smoker Pneumovax",
          "Name": "Karen Goodman",
          "Percentage": 0.2895,
          "Type": "Individual"
         },
         {
          "Clinic": "FHA",
          "Date": "2018-02-26",
          "Metric": "Smoker Pneumovax",
          "Name": "Deborah Hall",
          "Percentage": 0.5733,
          "Type": "Individual"
         },
         {
          "Clinic": "NCFP",
          "Date": "2018-02-26",
          "Metric": "Smoker Pneumovax",
          "Name": "Janet Hansom",
          "Percentage": 0.5862,
          "Type": "Individual"
         },
         {
          "Clinic": "LFM",
          "Date": "2018-02-26",
          "Metric": "Smoker Pneumovax",
          "Name": "Larry Hartwell",
          "Percentage": 0.5047,
          "Type": "Individual"
         },
         {
          "Clinic": "SFM",
          "Date": "2018-02-26",
          "Metric": "Smoker Pneumovax",
          "Name": "Shelby Hein",
          "Percentage": 0.4737,
          "Type": "Individual"
         },
         {
          "Clinic": "SFM",
          "Date": "2018-02-26",
          "Metric": "Smoker Pneumovax",
          "Name": "Harry Herdman",
          "Percentage": 0.625,
          "Type": "Individual"
         },
         {
          "Clinic": "NSFM",
          "Date": "2018-02-26",
          "Metric": "Smoker Pneumovax",
          "Name": "Sarah Herman",
          "Percentage": null,
          "Type": "Individual"
         },
         {
          "Clinic": "LFM",
          "Date": "2018-02-26",
          "Metric": "Smoker Pneumovax",
          "Name": "John Hiemstra",
          "Percentage": 0.5411,
          "Type": "Individual"
         },
         {
          "Clinic": "SFM",
          "Date": "2018-02-26",
          "Metric": "Smoker Pneumovax",
          "Name": "Heather Honey",
          "Percentage": 0.4444,
          "Type": "Individual"
         },
         {
          "Clinic": "FHA",
          "Date": "2018-02-26",
          "Metric": "Smoker Pneumovax",
          "Name": "Ryan Honey",
          "Percentage": 0.2918,
          "Type": "Individual"
         },
         {
          "Clinic": "BellB",
          "Date": "2018-02-26",
          "Metric": "Smoker Pneumovax",
          "Name": "Jim Hopper",
          "Percentage": 0.4583,
          "Type": "Individual"
         },
         {
          "Clinic": "FFMC",
          "Date": "2018-02-26",
          "Metric": "Smoker Pneumovax",
          "Name": "John Hruby",
          "Percentage": 0.4746,
          "Type": "Individual"
         },
         {
          "Clinic": "FHA",
          "Date": "2018-02-26",
          "Metric": "Smoker Pneumovax",
          "Name": "Kellie Jacobs",
          "Percentage": 0.4255,
          "Type": "Individual"
         },
         {
          "Clinic": "IFP",
          "Date": "2018-02-26",
          "Metric": "Smoker Pneumovax",
          "Name": "Michael James",
          "Percentage": 0.2083,
          "Type": "Individual"
         },
         {
          "Clinic": "FHA",
          "Date": "2018-02-26",
          "Metric": "Smoker Pneumovax",
          "Name": "Sharon Kerlin",
          "Percentage": null,
          "Type": "Individual"
         },
         {
          "Clinic": "BBFM",
          "Date": "2018-02-26",
          "Metric": "Smoker Pneumovax",
          "Name": "Jessica Klassen",
          "Percentage": 0.2419,
          "Type": "Individual"
         },
         {
          "Clinic": "FHA",
          "Date": "2018-02-26",
          "Metric": "Smoker Pneumovax",
          "Name": "Meghan Lelonek",
          "Percentage": 0.4167,
          "Type": "Individual"
         },
         {
          "Clinic": "FFMC",
          "Date": "2018-02-26",
          "Metric": "Smoker Pneumovax",
          "Name": "Stephen Lewis",
          "Percentage": 0.4675,
          "Type": "Individual"
         },
         {
          "Clinic": "FFMC",
          "Date": "2018-02-26",
          "Metric": "Smoker Pneumovax",
          "Name": "Erin Maloney",
          "Percentage": null,
          "Type": "Individual"
         },
         {
          "Clinic": "NCFP",
          "Date": "2018-02-26",
          "Metric": "Smoker Pneumovax",
          "Name": "Ross McConahey",
          "Percentage": null,
          "Type": "Individual"
         },
         {
          "Clinic": "NSFM",
          "Date": "2018-02-26",
          "Metric": "Smoker Pneumovax",
          "Name": "Patrick McLaughlin",
          "Percentage": 0.4211,
          "Type": "Individual"
         },
         {
          "Clinic": "NCFP",
          "Date": "2018-02-26",
          "Metric": "Smoker Pneumovax",
          "Name": "Sally McPherson",
          "Percentage": 0.3816,
          "Type": "Individual"
         },
         {
          "Clinic": "NCFP",
          "Date": "2018-02-26",
          "Metric": "Smoker Pneumovax",
          "Name": "Lucia Muller",
          "Percentage": 0.5102,
          "Type": "Individual"
         },
         {
          "Clinic": "BellB",
          "Date": "2018-02-26",
          "Metric": "Smoker Pneumovax",
          "Name": "Karen O’Keefe",
          "Percentage": 0.3095,
          "Type": "Individual"
         },
         {
          "Clinic": "SFM",
          "Date": "2018-02-26",
          "Metric": "Smoker Pneumovax",
          "Name": "Lillian Pavlik",
          "Percentage": null,
          "Type": "Individual"
         },
         {
          "Clinic": "LFM",
          "Date": "2018-02-26",
          "Metric": "Smoker Pneumovax",
          "Name": "Patricia Payne-Zajac",
          "Percentage": 0.4464,
          "Type": "Individual"
         },
         {
          "Clinic": "NCFP",
          "Date": "2018-02-26",
          "Metric": "Smoker Pneumovax",
          "Name": "Jonathan Ploudre",
          "Percentage": 0.5225,
          "Type": "Individual"
         },
         {
          "Clinic": "NSFM",
          "Date": "2018-02-26",
          "Metric": "Smoker Pneumovax",
          "Name": "John Raduege",
          "Percentage": 0.4947,
          "Type": "Individual"
         },
         {
          "Clinic": "BBFM",
          "Date": "2018-02-26",
          "Metric": "Smoker Pneumovax",
          "Name": "Teresa Regier",
          "Percentage": 0.2222,
          "Type": "Individual"
         },
         {
          "Clinic": "FFMC",
          "Date": "2018-02-26",
          "Metric": "Smoker Pneumovax",
          "Name": "Claudia Rey",
          "Percentage": 0.5048,
          "Type": "Individual"
         },
         {
          "Clinic": "IFP",
          "Date": "2018-02-26",
          "Metric": "Smoker Pneumovax",
          "Name": "Robert Rieger",
          "Percentage": 0.5789,
          "Type": "Individual"
         },
         {
          "Clinic": "SFM",
          "Date": "2018-02-26",
          "Metric": "Smoker Pneumovax",
          "Name": "Deborah Roessler",
          "Percentage": 0.5952,
          "Type": "Individual"
         },
         {
          "Clinic": "FFMC",
          "Date": "2018-02-26",
          "Metric": "Smoker Pneumovax",
          "Name": "Berdi Sanford",
          "Percentage": 0.7531,
          "Type": "Individual"
         },
         {
          "Clinic": "NCFP",
          "Date": "2018-02-26",
          "Metric": "Smoker Pneumovax",
          "Name": "Lauren Sauve",
          "Percentage": 0.3429,
          "Type": "Individual"
         },
         {
          "Clinic": "BellB",
          "Date": "2018-02-26",
          "Metric": "Smoker Pneumovax",
          "Name": "Melana Schimke",
          "Percentage": 0.2273,
          "Type": "Individual"
         },
         {
          "Clinic": "FHA",
          "Date": "2018-02-26",
          "Metric": "Smoker Pneumovax",
          "Name": "Miriam Shapiro",
          "Percentage": 0.5789,
          "Type": "Individual"
         },
         {
          "Clinic": "NSFM",
          "Date": "2018-02-26",
          "Metric": "Smoker Pneumovax",
          "Name": "Jason Short",
          "Percentage": 0.4356,
          "Type": "Individual"
         },
         {
          "Clinic": "NSFM",
          "Date": "2018-02-26",
          "Metric": "Smoker Pneumovax",
          "Name": "Vicki Short",
          "Percentage": 0.5181,
          "Type": "Individual"
         },
         {
          "Clinic": "LFM",
          "Date": "2018-02-26",
          "Metric": "Smoker Pneumovax",
          "Name": "Ashley Snyder",
          "Percentage": 0.4521,
          "Type": "Individual"
         },
         {
          "Clinic": "FFMC",
          "Date": "2018-02-26",
          "Metric": "Smoker Pneumovax",
          "Name": "Kalani Synder",
          "Percentage": 0.1982,
          "Type": "Individual"
         },
         {
          "Clinic": "NSFM",
          "Date": "2018-02-26",
          "Metric": "Smoker Pneumovax",
          "Name": "Mary Swanson",
          "Percentage": 0.4688,
          "Type": "Individual"
         },
         {
          "Clinic": "IFP",
          "Date": "2018-02-26",
          "Metric": "Smoker Pneumovax",
          "Name": "Magaret Sweeney",
          "Percentage": 0.4762,
          "Type": "Individual"
         },
         {
          "Clinic": "WFM",
          "Date": "2018-02-26",
          "Metric": "Smoker Pneumovax",
          "Name": "Heather Thomson",
          "Percentage": 0.25,
          "Type": "Individual"
         },
         {
          "Clinic": "BellB",
          "Date": "2018-02-26",
          "Metric": "Smoker Pneumovax",
          "Name": "Lisa Van Hofwegen",
          "Percentage": 0.3704,
          "Type": "Individual"
         },
         {
          "Clinic": "NSFM",
          "Date": "2018-02-26",
          "Metric": "Smoker Pneumovax",
          "Name": "April Wakefield-Pagels",
          "Percentage": 0.5909,
          "Type": "Individual"
         },
         {
          "Clinic": "SFM",
          "Date": "2018-02-26",
          "Metric": "Smoker Pneumovax",
          "Name": "Joy Welty",
          "Percentage": 0.44,
          "Type": "Individual"
         },
         {
          "Clinic": "SFM",
          "Date": "2018-02-26",
          "Metric": "Smoker Pneumovax",
          "Name": "Matt Werner",
          "Percentage": 0.642,
          "Type": "Individual"
         },
         {
          "Clinic": "NCFP",
          "Date": "2018-02-26",
          "Metric": "Smoker Pneumovax",
          "Name": "Sloane Winkes",
          "Percentage": 0.6111,
          "Type": "Individual"
         },
         {
          "Clinic": "NSFM",
          "Date": "2018-02-26",
          "Metric": "Smoker Pneumovax",
          "Name": "Ying Wu",
          "Percentage": 0.5667,
          "Type": "Individual"
         },
         {
          "Clinic": "FHA",
          "Date": "2018-02-26",
          "Metric": "Smoker Pneumovax",
          "Name": "Ashley Yoder",
          "Percentage": 0.3333,
          "Type": "Individual"
         },
         {
          "Clinic": "LFM",
          "Date": "2017-09-04",
          "Metric": "Smoker Pneumovax",
          "Name": "Steven Alexander",
          "Percentage": 0.6184,
          "Type": "Individual"
         },
         {
          "Clinic": "BellB",
          "Date": "2017-09-04",
          "Metric": "Smoker Pneumovax",
          "Name": "Greg Anderson",
          "Percentage": 0.3846,
          "Type": "Individual"
         },
         {
          "Clinic": "FHA",
          "Date": "2017-09-04",
          "Metric": "Smoker Pneumovax",
          "Name": "Rodney Anderson",
          "Percentage": 0.6066,
          "Type": "Individual"
         },
         {
          "Clinic": "FFMC",
          "Date": "2017-09-04",
          "Metric": "Smoker Pneumovax",
          "Name": "Jennifer Bates",
          "Percentage": 0.5775,
          "Type": "Individual"
         },
         {
          "Clinic": "WFM",
          "Date": "2017-09-04",
          "Metric": "Smoker Pneumovax",
          "Name": "Shannon Billau",
          "Percentage": 0.4,
          "Type": "Individual"
         },
         {
          "Clinic": "WFM",
          "Date": "2017-09-04",
          "Metric": "Smoker Pneumovax",
          "Name": "Richard Binder",
          "Percentage": 0.6809,
          "Type": "Individual"
         },
         {
          "Clinic": "IFP",
          "Date": "2017-09-04",
          "Metric": "Smoker Pneumovax",
          "Name": "Franklin Bjorseth",
          "Percentage": 0.3866,
          "Type": "Individual"
         },
         {
          "Clinic": "FHA",
          "Date": "2017-09-04",
          "Metric": "Smoker Pneumovax",
          "Name": "Edward Bloom",
          "Percentage": 0.4048,
          "Type": "Individual"
         },
         {
          "Clinic": "FHA",
          "Date": "2017-09-04",
          "Metric": "Smoker Pneumovax",
          "Name": "Jessica Bloom",
          "Percentage": 0.2941,
          "Type": "Individual"
         },
         {
          "Clinic": "WFM",
          "Date": "2017-09-04",
          "Metric": "Smoker Pneumovax",
          "Name": "Steven Bloom",
          "Percentage": 0.4239,
          "Type": "Individual"
         },
         {
          "Clinic": "BellB",
          "Date": "2017-09-04",
          "Metric": "Smoker Pneumovax",
          "Name": "Ian Bonner",
          "Percentage": 0.2955,
          "Type": "Individual"
         },
         {
          "Clinic": "BellB",
          "Date": "2017-09-04",
          "Metric": "Smoker Pneumovax",
          "Name": "Sara Bowling",
          "Percentage": 0.2235,
          "Type": "Individual"
         },
         {
          "Clinic": "NSFM",
          "Date": "2017-09-04",
          "Metric": "Smoker Pneumovax",
          "Name": "Rory Bradt",
          "Percentage": 0.3429,
          "Type": "Individual"
         },
         {
          "Clinic": "FFMC",
          "Date": "2017-09-04",
          "Metric": "Smoker Pneumovax",
          "Name": "Rebecca Brejcha",
          "Percentage": null,
          "Type": "Individual"
         },
         {
          "Clinic": "NSFM",
          "Date": "2017-09-04",
          "Metric": "Smoker Pneumovax",
          "Name": "Lisa Brodsky",
          "Percentage": 0.2258,
          "Type": "Individual"
         },
         {
          "Clinic": "LFM",
          "Date": "2017-09-04",
          "Metric": "Smoker Pneumovax",
          "Name": "Margaret Burden",
          "Percentage": 0.381,
          "Type": "Individual"
         },
         {
          "Clinic": "NCFP",
          "Date": "2017-09-04",
          "Metric": "Smoker Pneumovax",
          "Name": "Erik Bylund",
          "Percentage": 0.2308,
          "Type": "Individual"
         },
         {
          "Clinic": "LFM",
          "Date": "2017-09-04",
          "Metric": "Smoker Pneumovax",
          "Name": "Robin Caldwell",
          "Percentage": 0.4294,
          "Type": "Individual"
         },
         {
          "Clinic": "NSFM",
          "Date": "2017-09-04",
          "Metric": "Smoker Pneumovax",
          "Name": "William Eiford",
          "Percentage": null,
          "Type": "Individual"
         },
         {
          "Clinic": "NCFP",
          "Date": "2017-09-04",
          "Metric": "Smoker Pneumovax",
          "Name": "Roger Estep",
          "Percentage": 0.1702,
          "Type": "Individual"
         },
         {
          "Clinic": "LFM",
          "Date": "2017-09-04",
          "Metric": "Smoker Pneumovax",
          "Name": "Michael Fleming",
          "Percentage": 0.2683,
          "Type": "Individual"
         },
         {
          "Clinic": "NSFM",
          "Date": "2017-09-04",
          "Metric": "Smoker Pneumovax",
          "Name": "Anneliese Floyd",
          "Percentage": 0.5385,
          "Type": "Individual"
         },
         {
          "Clinic": "BellB",
          "Date": "2017-09-04",
          "Metric": "Smoker Pneumovax",
          "Name": "Laura Fox",
          "Percentage": 0.3864,
          "Type": "Individual"
         },
         {
          "Clinic": "FFMC",
          "Date": "2017-09-04",
          "Metric": "Smoker Pneumovax",
          "Name": "Renay Fredette",
          "Percentage": 0.5522,
          "Type": "Individual"
         },
         {
          "Clinic": "NCFP",
          "Date": "2017-09-04",
          "Metric": "Smoker Pneumovax",
          "Name": "Kay-Kay Gambs",
          "Percentage": 0.1552,
          "Type": "Individual"
         },
         {
          "Clinic": "NCFP",
          "Date": "2017-09-04",
          "Metric": "Smoker Pneumovax",
          "Name": "Jonathan Gamson",
          "Percentage": 0.2388,
          "Type": "Individual"
         },
         {
          "Clinic": "NSFM",
          "Date": "2017-09-04",
          "Metric": "Smoker Pneumovax",
          "Name": "Elizabeth Gaylord",
          "Percentage": 0.3824,
          "Type": "Individual"
         },
         {
          "Clinic": "IFP",
          "Date": "2017-09-04",
          "Metric": "Smoker Pneumovax",
          "Name": "Karen Goodman",
          "Percentage": 0.3778,
          "Type": "Individual"
         },
         {
          "Clinic": "FHA",
          "Date": "2017-09-04",
          "Metric": "Smoker Pneumovax",
          "Name": "Deborah Hall",
          "Percentage": 0.5366,
          "Type": "Individual"
         },
         {
          "Clinic": "NCFP",
          "Date": "2017-09-04",
          "Metric": "Smoker Pneumovax",
          "Name": "Janet Hansom",
          "Percentage": 0.5,
          "Type": "Individual"
         },
         {
          "Clinic": "LFM",
          "Date": "2017-09-04",
          "Metric": "Smoker Pneumovax",
          "Name": "Larry Hartwell",
          "Percentage": 0.4953,
          "Type": "Individual"
         },
         {
          "Clinic": "SFM",
          "Date": "2017-09-04",
          "Metric": "Smoker Pneumovax",
          "Name": "Shelby Hein",
          "Percentage": 0.4754,
          "Type": "Individual"
         },
         {
          "Clinic": "SFM",
          "Date": "2017-09-04",
          "Metric": "Smoker Pneumovax",
          "Name": "Harry Herdman",
          "Percentage": 0.5526,
          "Type": "Individual"
         },
         {
          "Clinic": "NSFM",
          "Date": "2017-09-04",
          "Metric": "Smoker Pneumovax",
          "Name": "Sarah Herman",
          "Percentage": null,
          "Type": "Individual"
         },
         {
          "Clinic": "LFM",
          "Date": "2017-09-04",
          "Metric": "Smoker Pneumovax",
          "Name": "John Hiemstra",
          "Percentage": 0.5132,
          "Type": "Individual"
         },
         {
          "Clinic": "BellB",
          "Date": "2017-09-04",
          "Metric": "Smoker Pneumovax",
          "Name": "Jim Hopper",
          "Percentage": 0.3922,
          "Type": "Individual"
         },
         {
          "Clinic": "FFMC",
          "Date": "2017-09-04",
          "Metric": "Smoker Pneumovax",
          "Name": "John Hruby",
          "Percentage": 0.4583,
          "Type": "Individual"
         },
         {
          "Clinic": "FHA",
          "Date": "2017-09-04",
          "Metric": "Smoker Pneumovax",
          "Name": "Kellie Jacobs",
          "Percentage": 0.4286,
          "Type": "Individual"
         },
         {
          "Clinic": "IFP",
          "Date": "2017-09-04",
          "Metric": "Smoker Pneumovax",
          "Name": "Michael James",
          "Percentage": 0.1648,
          "Type": "Individual"
         },
         {
          "Clinic": "FHA",
          "Date": "2017-09-04",
          "Metric": "Smoker Pneumovax",
          "Name": "Meghan Lelonek",
          "Percentage": 0.3146,
          "Type": "Individual"
         },
         {
          "Clinic": "FFMC",
          "Date": "2017-09-04",
          "Metric": "Smoker Pneumovax",
          "Name": "Stephen Lewis",
          "Percentage": 0.44,
          "Type": "Individual"
         },
         {
          "Clinic": "FFMC",
          "Date": "2017-09-04",
          "Metric": "Smoker Pneumovax",
          "Name": "Erin Maloney",
          "Percentage": null,
          "Type": "Individual"
         },
         {
          "Clinic": "NCFP",
          "Date": "2017-09-04",
          "Metric": "Smoker Pneumovax",
          "Name": "Ross McConahey",
          "Percentage": null,
          "Type": "Individual"
         },
         {
          "Clinic": "NSFM",
          "Date": "2017-09-04",
          "Metric": "Smoker Pneumovax",
          "Name": "Patrick McLaughlin",
          "Percentage": 0.3913,
          "Type": "Individual"
         },
         {
          "Clinic": "NCFP",
          "Date": "2017-09-04",
          "Metric": "Smoker Pneumovax",
          "Name": "Sally McPherson",
          "Percentage": 0.2913,
          "Type": "Individual"
         },
         {
          "Clinic": "NCFP",
          "Date": "2017-09-04",
          "Metric": "Smoker Pneumovax",
          "Name": "Lucia Muller",
          "Percentage": 0.4186,
          "Type": "Individual"
         },
         {
          "Clinic": "BellB",
          "Date": "2017-09-04",
          "Metric": "Smoker Pneumovax",
          "Name": "Karen O’Keefe",
          "Percentage": 0.2558,
          "Type": "Individual"
         },
         {
          "Clinic": "SFM",
          "Date": "2017-09-04",
          "Metric": "Smoker Pneumovax",
          "Name": "Lillian Pavlik",
          "Percentage": null,
          "Type": "Individual"
         },
         {
          "Clinic": "LFM",
          "Date": "2017-09-04",
          "Metric": "Smoker Pneumovax",
          "Name": "Patricia Payne-Zajac",
          "Percentage": null,
          "Type": "Individual"
         },
         {
          "Clinic": "NCFP",
          "Date": "2017-09-04",
          "Metric": "Smoker Pneumovax",
          "Name": "Jonathan Ploudre",
          "Percentage": 0.3874,
          "Type": "Individual"
         },
         {
          "Clinic": "NSFM",
          "Date": "2017-09-04",
          "Metric": "Smoker Pneumovax",
          "Name": "John Raduege",
          "Percentage": 0.4583,
          "Type": "Individual"
         },
         {
          "Clinic": "BBFM",
          "Date": "2017-09-04",
          "Metric": "Smoker Pneumovax",
          "Name": "Teresa Regier",
          "Percentage": 0.2267,
          "Type": "Individual"
         },
         {
          "Clinic": "FFMC",
          "Date": "2017-09-04",
          "Metric": "Smoker Pneumovax",
          "Name": "Claudia Rey",
          "Percentage": 0.44,
          "Type": "Individual"
         },
         {
          "Clinic": "IFP",
          "Date": "2017-09-04",
          "Metric": "Smoker Pneumovax",
          "Name": "Robert Rieger",
          "Percentage": 0.4545,
          "Type": "Individual"
         },
         {
          "Clinic": "SFM",
          "Date": "2017-09-04",
          "Metric": "Smoker Pneumovax",
          "Name": "Deborah Roessler",
          "Percentage": 0.4851,
          "Type": "Individual"
         },
         {
          "Clinic": "FFMC",
          "Date": "2017-09-04",
          "Metric": "Smoker Pneumovax",
          "Name": "Berdi Sanford",
          "Percentage": 0.7011,
          "Type": "Individual"
         },
         {
          "Clinic": "NCFP",
          "Date": "2017-09-04",
          "Metric": "Smoker Pneumovax",
          "Name": "Lauren Sauve",
          "Percentage": 0.3178,
          "Type": "Individual"
         },
         {
          "Clinic": "BellB",
          "Date": "2017-09-04",
          "Metric": "Smoker Pneumovax",
          "Name": "Melana Schimke",
          "Percentage": 0.1176,
          "Type": "Individual"
         },
         {
          "Clinic": "FHA",
          "Date": "2017-09-04",
          "Metric": "Smoker Pneumovax",
          "Name": "Miriam Shapiro",
          "Percentage": 0.4167,
          "Type": "Individual"
         },
         {
          "Clinic": "NSFM",
          "Date": "2017-09-04",
          "Metric": "Smoker Pneumovax",
          "Name": "Jason Short",
          "Percentage": 0.4038,
          "Type": "Individual"
         },
         {
          "Clinic": "NSFM",
          "Date": "2017-09-04",
          "Metric": "Smoker Pneumovax",
          "Name": "Vicki Short",
          "Percentage": 0.5125,
          "Type": "Individual"
         },
         {
          "Clinic": "NSFM",
          "Date": "2017-09-04",
          "Metric": "Smoker Pneumovax",
          "Name": "Mary Swanson",
          "Percentage": 0.4,
          "Type": "Individual"
         },
         {
          "Clinic": "IFP",
          "Date": "2017-09-04",
          "Metric": "Smoker Pneumovax",
          "Name": "Magaret Sweeney",
          "Percentage": 0.3,
          "Type": "Individual"
         },
         {
          "Clinic": "BellB",
          "Date": "2017-09-04",
          "Metric": "Smoker Pneumovax",
          "Name": "Lisa Van Hofwegen",
          "Percentage": 0.3871,
          "Type": "Individual"
         },
         {
          "Clinic": "NSFM",
          "Date": "2017-09-04",
          "Metric": "Smoker Pneumovax",
          "Name": "April Wakefield-Pagels",
          "Percentage": 0.5306,
          "Type": "Individual"
         },
         {
          "Clinic": "SFM",
          "Date": "2017-09-04",
          "Metric": "Smoker Pneumovax",
          "Name": "Matt Werner",
          "Percentage": 0.5604,
          "Type": "Individual"
         },
         {
          "Clinic": "NCFP",
          "Date": "2017-09-04",
          "Metric": "Smoker Pneumovax",
          "Name": "Sloane Winkes",
          "Percentage": 0.5676,
          "Type": "Individual"
         },
         {
          "Clinic": "NSFM",
          "Date": "2017-09-04",
          "Metric": "Smoker Pneumovax",
          "Name": "Ying Wu",
          "Percentage": 0.4615,
          "Type": "Individual"
         },
         {
          "Clinic": "LFM",
          "Date": "2018-03-26",
          "Metric": "Smoker Pneumovax",
          "Name": "Steven Alexander",
          "Percentage": 0.6667,
          "Type": "Individual"
         },
         {
          "Clinic": "BellB",
          "Date": "2018-03-26",
          "Metric": "Smoker Pneumovax",
          "Name": "Greg Anderson",
          "Percentage": 0.4505,
          "Type": "Individual"
         },
         {
          "Clinic": "FHA",
          "Date": "2018-03-26",
          "Metric": "Smoker Pneumovax",
          "Name": "Rodney Anderson",
          "Percentage": 0.6889,
          "Type": "Individual"
         },
         {
          "Clinic": "FFMC",
          "Date": "2018-03-26",
          "Metric": "Smoker Pneumovax",
          "Name": "Jennifer Bates",
          "Percentage": 0.5806,
          "Type": "Individual"
         },
         {
          "Clinic": "WFM",
          "Date": "2018-03-26",
          "Metric": "Smoker Pneumovax",
          "Name": "Shannon Billau",
          "Percentage": 0.4098,
          "Type": "Individual"
         },
         {
          "Clinic": "WFM",
          "Date": "2018-03-26",
          "Metric": "Smoker Pneumovax",
          "Name": "Richard Binder",
          "Percentage": 0.6522,
          "Type": "Individual"
         },
         {
          "Clinic": "IFP",
          "Date": "2018-03-26",
          "Metric": "Smoker Pneumovax",
          "Name": "Franklin Bjorseth",
          "Percentage": 0.4746,
          "Type": "Individual"
         },
         {
          "Clinic": "FHA",
          "Date": "2018-03-26",
          "Metric": "Smoker Pneumovax",
          "Name": "Edward Bloom",
          "Percentage": 0.4435,
          "Type": "Individual"
         },
         {
          "Clinic": "FHA",
          "Date": "2018-03-26",
          "Metric": "Smoker Pneumovax",
          "Name": "Jessica Bloom",
          "Percentage": 0.25,
          "Type": "Individual"
         },
         {
          "Clinic": "WFM",
          "Date": "2018-03-26",
          "Metric": "Smoker Pneumovax",
          "Name": "Steven Bloom",
          "Percentage": 0.4433,
          "Type": "Individual"
         },
         {
          "Clinic": "BellB",
          "Date": "2018-03-26",
          "Metric": "Smoker Pneumovax",
          "Name": "Ian Bonner",
          "Percentage": 0.3835,
          "Type": "Individual"
         },
         {
          "Clinic": "BellB",
          "Date": "2018-03-26",
          "Metric": "Smoker Pneumovax",
          "Name": "Sara Bowling",
          "Percentage": 0.3494,
          "Type": "Individual"
         },
         {
          "Clinic": "NSFM",
          "Date": "2018-03-26",
          "Metric": "Smoker Pneumovax",
          "Name": "Rory Bradt",
          "Percentage": 0.4198,
          "Type": "Individual"
         },
         {
          "Clinic": "FFMC",
          "Date": "2018-03-26",
          "Metric": "Smoker Pneumovax",
          "Name": "Rebecca Brejcha",
          "Percentage": null,
          "Type": "Individual"
         },
         {
          "Clinic": "NSFM",
          "Date": "2018-03-26",
          "Metric": "Smoker Pneumovax",
          "Name": "Lisa Brodsky",
          "Percentage": 0.3143,
          "Type": "Individual"
         },
         {
          "Clinic": "LFM",
          "Date": "2018-03-26",
          "Metric": "Smoker Pneumovax",
          "Name": "Margaret Burden",
          "Percentage": 0.4054,
          "Type": "Individual"
         },
         {
          "Clinic": "NCFP",
          "Date": "2018-03-26",
          "Metric": "Smoker Pneumovax",
          "Name": "Erik Bylund",
          "Percentage": 0.313,
          "Type": "Individual"
         },
         {
          "Clinic": "LFM",
          "Date": "2018-03-26",
          "Metric": "Smoker Pneumovax",
          "Name": "Robin Caldwell",
          "Percentage": 0.478,
          "Type": "Individual"
         },
         {
          "Clinic": "NSFM",
          "Date": "2018-03-26",
          "Metric": "Smoker Pneumovax",
          "Name": "William Eiford",
          "Percentage": null,
          "Type": "Individual"
         },
         {
          "Clinic": "NCFP",
          "Date": "2018-03-26",
          "Metric": "Smoker Pneumovax",
          "Name": "Roger Estep",
          "Percentage": 0.3171,
          "Type": "Individual"
         },
         {
          "Clinic": "LFM",
          "Date": "2018-03-26",
          "Metric": "Smoker Pneumovax",
          "Name": "Michael Fleming",
          "Percentage": 0.3462,
          "Type": "Individual"
         },
         {
          "Clinic": "NSFM",
          "Date": "2018-03-26",
          "Metric": "Smoker Pneumovax",
          "Name": "Anneliese Floyd",
          "Percentage": 0.525,
          "Type": "Individual"
         },
         {
          "Clinic": "BellB",
          "Date": "2018-03-26",
          "Metric": "Smoker Pneumovax",
          "Name": "Laura Fox",
          "Percentage": 0.5,
          "Type": "Individual"
         },
         {
          "Clinic": "FFMC",
          "Date": "2018-03-26",
          "Metric": "Smoker Pneumovax",
          "Name": "Renay Fredette",
          "Percentage": 0.5254,
          "Type": "Individual"
         },
         {
          "Clinic": "NCFP",
          "Date": "2018-03-26",
          "Metric": "Smoker Pneumovax",
          "Name": "Kay-Kay Gambs",
          "Percentage": 0.2,
          "Type": "Individual"
         },
         {
          "Clinic": "NCFP",
          "Date": "2018-03-26",
          "Metric": "Smoker Pneumovax",
          "Name": "Jonathan Gamson",
          "Percentage": 0.3333,
          "Type": "Individual"
         },
         {
          "Clinic": "NSFM",
          "Date": "2018-03-26",
          "Metric": "Smoker Pneumovax",
          "Name": "Elizabeth Gaylord",
          "Percentage": 0.5,
          "Type": "Individual"
         },
         {
          "Clinic": "IFP",
          "Date": "2018-03-26",
          "Metric": "Smoker Pneumovax",
          "Name": "Karen Goodman",
          "Percentage": 0.3,
          "Type": "Individual"
         },
         {
          "Clinic": "FHA",
          "Date": "2018-03-26",
          "Metric": "Smoker Pneumovax",
          "Name": "Deborah Hall",
          "Percentage": 0.5867,
          "Type": "Individual"
         },
         {
          "Clinic": "NCFP",
          "Date": "2018-03-26",
          "Metric": "Smoker Pneumovax",
          "Name": "Janet Hansom",
          "Percentage": 0.5862,
          "Type": "Individual"
         },
         {
          "Clinic": "LFM",
          "Date": "2018-03-26",
          "Metric": "Smoker Pneumovax",
          "Name": "Larry Hartwell",
          "Percentage": 0.5278,
          "Type": "Individual"
         },
         {
          "Clinic": "SFM",
          "Date": "2018-03-26",
          "Metric": "Smoker Pneumovax",
          "Name": "Shelby Hein",
          "Percentage": 0.4912,
          "Type": "Individual"
         },
         {
          "Clinic": "SFM",
          "Date": "2018-03-26",
          "Metric": "Smoker Pneumovax",
          "Name": "Harry Herdman",
          "Percentage": 0.6528,
          "Type": "Individual"
         },
         {
          "Clinic": "NSFM",
          "Date": "2018-03-26",
          "Metric": "Smoker Pneumovax",
          "Name": "Sarah Herman",
          "Percentage": null,
          "Type": "Individual"
         },
         {
          "Clinic": "LFM",
          "Date": "2018-03-26",
          "Metric": "Smoker Pneumovax",
          "Name": "John Hiemstra",
          "Percentage": 0.5306,
          "Type": "Individual"
         },
         {
          "Clinic": "SFM",
          "Date": "2018-03-26",
          "Metric": "Smoker Pneumovax",
          "Name": "Heather Honey",
          "Percentage": 0.3971,
          "Type": "Individual"
         },
         {
          "Clinic": "FHA",
          "Date": "2018-03-26",
          "Metric": "Smoker Pneumovax",
          "Name": "Ryan Honey",
          "Percentage": 0.2957,
          "Type": "Individual"
         },
         {
          "Clinic": "BellB",
          "Date": "2018-03-26",
          "Metric": "Smoker Pneumovax",
          "Name": "Jim Hopper",
          "Percentage": 0.4348,
          "Type": "Individual"
         },
         {
          "Clinic": "FFMC",
          "Date": "2018-03-26",
          "Metric": "Smoker Pneumovax",
          "Name": "John Hruby",
          "Percentage": 0.4615,
          "Type": "Individual"
         },
         {
          "Clinic": "FHA",
          "Date": "2018-03-26",
          "Metric": "Smoker Pneumovax",
          "Name": "Kellie Jacobs",
          "Percentage": 0.4348,
          "Type": "Individual"
         },
         {
          "Clinic": "IFP",
          "Date": "2018-03-26",
          "Metric": "Smoker Pneumovax",
          "Name": "Michael James",
          "Percentage": 0.25,
          "Type": "Individual"
         },
         {
          "Clinic": "FHA",
          "Date": "2018-03-26",
          "Metric": "Smoker Pneumovax",
          "Name": "Sharon Kerlin",
          "Percentage": null,
          "Type": "Individual"
         },
         {
          "Clinic": "BBFM",
          "Date": "2018-03-26",
          "Metric": "Smoker Pneumovax",
          "Name": "Jessica Klassen",
          "Percentage": 0.2464,
          "Type": "Individual"
         },
         {
          "Clinic": "FHA",
          "Date": "2018-03-26",
          "Metric": "Smoker Pneumovax",
          "Name": "Meghan Lelonek",
          "Percentage": 0.439,
          "Type": "Individual"
         },
         {
          "Clinic": "FFMC",
          "Date": "2018-03-26",
          "Metric": "Smoker Pneumovax",
          "Name": "Stephen Lewis",
          "Percentage": 0.4716,
          "Type": "Individual"
         },
         {
          "Clinic": "FFMC",
          "Date": "2018-03-26",
          "Metric": "Smoker Pneumovax",
          "Name": "Erin Maloney",
          "Percentage": null,
          "Type": "Individual"
         },
         {
          "Clinic": "NCFP",
          "Date": "2018-03-26",
          "Metric": "Smoker Pneumovax",
          "Name": "Ross McConahey",
          "Percentage": null,
          "Type": "Individual"
         },
         {
          "Clinic": "NSFM",
          "Date": "2018-03-26",
          "Metric": "Smoker Pneumovax",
          "Name": "Patrick McLaughlin",
          "Percentage": 0.44,
          "Type": "Individual"
         },
         {
          "Clinic": "NCFP",
          "Date": "2018-03-26",
          "Metric": "Smoker Pneumovax",
          "Name": "Sally McPherson",
          "Percentage": 0.4013,
          "Type": "Individual"
         },
         {
          "Clinic": "NCFP",
          "Date": "2018-03-26",
          "Metric": "Smoker Pneumovax",
          "Name": "Lucia Muller",
          "Percentage": 0.5532,
          "Type": "Individual"
         },
         {
          "Clinic": "BellB",
          "Date": "2018-03-26",
          "Metric": "Smoker Pneumovax",
          "Name": "Karen O’Keefe",
          "Percentage": 0.3256,
          "Type": "Individual"
         },
         {
          "Clinic": "SFM",
          "Date": "2018-03-26",
          "Metric": "Smoker Pneumovax",
          "Name": "Lillian Pavlik",
          "Percentage": null,
          "Type": "Individual"
         },
         {
          "Clinic": "LFM",
          "Date": "2018-03-26",
          "Metric": "Smoker Pneumovax",
          "Name": "Patricia Payne-Zajac",
          "Percentage": 0.4407,
          "Type": "Individual"
         },
         {
          "Clinic": "NCFP",
          "Date": "2018-03-26",
          "Metric": "Smoker Pneumovax",
          "Name": "Jonathan Ploudre",
          "Percentage": 0.5596,
          "Type": "Individual"
         },
         {
          "Clinic": "NSFM",
          "Date": "2018-03-26",
          "Metric": "Smoker Pneumovax",
          "Name": "John Raduege",
          "Percentage": 0.5312,
          "Type": "Individual"
         },
         {
          "Clinic": "BBFM",
          "Date": "2018-03-26",
          "Metric": "Smoker Pneumovax",
          "Name": "Teresa Regier",
          "Percentage": 0.2353,
          "Type": "Individual"
         },
         {
          "Clinic": "FFMC",
          "Date": "2018-03-26",
          "Metric": "Smoker Pneumovax",
          "Name": "Claudia Rey",
          "Percentage": 0.5,
          "Type": "Individual"
         },
         {
          "Clinic": "IFP",
          "Date": "2018-03-26",
          "Metric": "Smoker Pneumovax",
          "Name": "Robert Rieger",
          "Percentage": 0.56,
          "Type": "Individual"
         },
         {
          "Clinic": "SFM",
          "Date": "2018-03-26",
          "Metric": "Smoker Pneumovax",
          "Name": "Deborah Roessler",
          "Percentage": 0.6024,
          "Type": "Individual"
         },
         {
          "Clinic": "FFMC",
          "Date": "2018-03-26",
          "Metric": "Smoker Pneumovax",
          "Name": "Berdi Sanford",
          "Percentage": 0.7595,
          "Type": "Individual"
         },
         {
          "Clinic": "NCFP",
          "Date": "2018-03-26",
          "Metric": "Smoker Pneumovax",
          "Name": "Lauren Sauve",
          "Percentage": 0.3611,
          "Type": "Individual"
         },
         {
          "Clinic": "BellB",
          "Date": "2018-03-26",
          "Metric": "Smoker Pneumovax",
          "Name": "Melana Schimke",
          "Percentage": 0.2273,
          "Type": "Individual"
         },
         {
          "Clinic": "FHA",
          "Date": "2018-03-26",
          "Metric": "Smoker Pneumovax",
          "Name": "Miriam Shapiro",
          "Percentage": 0.5676,
          "Type": "Individual"
         },
         {
          "Clinic": "NSFM",
          "Date": "2018-03-26",
          "Metric": "Smoker Pneumovax",
          "Name": "Jason Short",
          "Percentage": 0.4175,
          "Type": "Individual"
         },
         {
          "Clinic": "NSFM",
          "Date": "2018-03-26",
          "Metric": "Smoker Pneumovax",
          "Name": "Vicki Short",
          "Percentage": 0.5238,
          "Type": "Individual"
         },
         {
          "Clinic": "LFM",
          "Date": "2018-03-26",
          "Metric": "Smoker Pneumovax",
          "Name": "Ashley Snyder",
          "Percentage": 0.4507,
          "Type": "Individual"
         },
         {
          "Clinic": "FFMC",
          "Date": "2018-03-26",
          "Metric": "Smoker Pneumovax",
          "Name": "Kalani Synder",
          "Percentage": 0.1933,
          "Type": "Individual"
         },
         {
          "Clinic": "NSFM",
          "Date": "2018-03-26",
          "Metric": "Smoker Pneumovax",
          "Name": "Mary Swanson",
          "Percentage": 0.4688,
          "Type": "Individual"
         },
         {
          "Clinic": "IFP",
          "Date": "2018-03-26",
          "Metric": "Smoker Pneumovax",
          "Name": "Magaret Sweeney",
          "Percentage": 0.5,
          "Type": "Individual"
         },
         {
          "Clinic": "WFM",
          "Date": "2018-03-26",
          "Metric": "Smoker Pneumovax",
          "Name": "Heather Thomson",
          "Percentage": 0.2941,
          "Type": "Individual"
         },
         {
          "Clinic": "BellB",
          "Date": "2018-03-26",
          "Metric": "Smoker Pneumovax",
          "Name": "Lisa Van Hofwegen",
          "Percentage": 0.3846,
          "Type": "Individual"
         },
         {
          "Clinic": "NSFM",
          "Date": "2018-03-26",
          "Metric": "Smoker Pneumovax",
          "Name": "April Wakefield-Pagels",
          "Percentage": 0.6136,
          "Type": "Individual"
         },
         {
          "Clinic": "SFM",
          "Date": "2018-03-26",
          "Metric": "Smoker Pneumovax",
          "Name": "Joy Welty",
          "Percentage": 0.5,
          "Type": "Individual"
         },
         {
          "Clinic": "SFM",
          "Date": "2018-03-26",
          "Metric": "Smoker Pneumovax",
          "Name": "Matt Werner",
          "Percentage": 0.6329,
          "Type": "Individual"
         },
         {
          "Clinic": "NCFP",
          "Date": "2018-03-26",
          "Metric": "Smoker Pneumovax",
          "Name": "Sloane Winkes",
          "Percentage": 0.6286,
          "Type": "Individual"
         },
         {
          "Clinic": "NSFM",
          "Date": "2018-03-26",
          "Metric": "Smoker Pneumovax",
          "Name": "Ying Wu",
          "Percentage": 0.5517,
          "Type": "Individual"
         },
         {
          "Clinic": "FHA",
          "Date": "2018-03-26",
          "Metric": "Smoker Pneumovax",
          "Name": "Ashley Yoder",
          "Percentage": 0.3684,
          "Type": "Individual"
         },
         {
          "Clinic": "LFM",
          "Date": "2017-11-06",
          "Metric": "Smoker Pneumovax",
          "Name": "Steven Alexander",
          "Percentage": 0.6301,
          "Type": "Individual"
         },
         {
          "Clinic": "BellB",
          "Date": "2017-11-06",
          "Metric": "Smoker Pneumovax",
          "Name": "Greg Anderson",
          "Percentage": 0.413,
          "Type": "Individual"
         },
         {
          "Clinic": "FHA",
          "Date": "2017-11-06",
          "Metric": "Smoker Pneumovax",
          "Name": "Rodney Anderson",
          "Percentage": 0.6207,
          "Type": "Individual"
         },
         {
          "Clinic": "FFMC",
          "Date": "2017-11-06",
          "Metric": "Smoker Pneumovax",
          "Name": "Jennifer Bates",
          "Percentage": 0.6,
          "Type": "Individual"
         },
         {
          "Clinic": "WFM",
          "Date": "2017-11-06",
          "Metric": "Smoker Pneumovax",
          "Name": "Shannon Billau",
          "Percentage": 0.4,
          "Type": "Individual"
         },
         {
          "Clinic": "WFM",
          "Date": "2017-11-06",
          "Metric": "Smoker Pneumovax",
          "Name": "Richard Binder",
          "Percentage": 0.6596,
          "Type": "Individual"
         },
         {
          "Clinic": "IFP",
          "Date": "2017-11-06",
          "Metric": "Smoker Pneumovax",
          "Name": "Franklin Bjorseth",
          "Percentage": 0.405,
          "Type": "Individual"
         },
         {
          "Clinic": "FHA",
          "Date": "2017-11-06",
          "Metric": "Smoker Pneumovax",
          "Name": "Edward Bloom",
          "Percentage": 0.4113,
          "Type": "Individual"
         },
         {
          "Clinic": "FHA",
          "Date": "2017-11-06",
          "Metric": "Smoker Pneumovax",
          "Name": "Jessica Bloom",
          "Percentage": 0.2941,
          "Type": "Individual"
         },
         {
          "Clinic": "WFM",
          "Date": "2017-11-06",
          "Metric": "Smoker Pneumovax",
          "Name": "Steven Bloom",
          "Percentage": 0.4105,
          "Type": "Individual"
         },
         {
          "Clinic": "BellB",
          "Date": "2017-11-06",
          "Metric": "Smoker Pneumovax",
          "Name": "Ian Bonner",
          "Percentage": 0.3333,
          "Type": "Individual"
         },
         {
          "Clinic": "BellB",
          "Date": "2017-11-06",
          "Metric": "Smoker Pneumovax",
          "Name": "Sara Bowling",
          "Percentage": 0.2857,
          "Type": "Individual"
         },
         {
          "Clinic": "NSFM",
          "Date": "2017-11-06",
          "Metric": "Smoker Pneumovax",
          "Name": "Rory Bradt",
          "Percentage": 0.3669,
          "Type": "Individual"
         },
         {
          "Clinic": "FFMC",
          "Date": "2017-11-06",
          "Metric": "Smoker Pneumovax",
          "Name": "Rebecca Brejcha",
          "Percentage": null,
          "Type": "Individual"
         },
         {
          "Clinic": "NSFM",
          "Date": "2017-11-06",
          "Metric": "Smoker Pneumovax",
          "Name": "Lisa Brodsky",
          "Percentage": 0.25,
          "Type": "Individual"
         },
         {
          "Clinic": "LFM",
          "Date": "2017-11-06",
          "Metric": "Smoker Pneumovax",
          "Name": "Margaret Burden",
          "Percentage": 0.4103,
          "Type": "Individual"
         },
         {
          "Clinic": "NCFP",
          "Date": "2017-11-06",
          "Metric": "Smoker Pneumovax",
          "Name": "Erik Bylund",
          "Percentage": 0.2761,
          "Type": "Individual"
         },
         {
          "Clinic": "LFM",
          "Date": "2017-11-06",
          "Metric": "Smoker Pneumovax",
          "Name": "Robin Caldwell",
          "Percentage": 0.4431,
          "Type": "Individual"
         },
         {
          "Clinic": "NSFM",
          "Date": "2017-11-06",
          "Metric": "Smoker Pneumovax",
          "Name": "William Eiford",
          "Percentage": null,
          "Type": "Individual"
         },
         {
          "Clinic": "NCFP",
          "Date": "2017-11-06",
          "Metric": "Smoker Pneumovax",
          "Name": "Roger Estep",
          "Percentage": 0.1837,
          "Type": "Individual"
         },
         {
          "Clinic": "LFM",
          "Date": "2017-11-06",
          "Metric": "Smoker Pneumovax",
          "Name": "Michael Fleming",
          "Percentage": 0.2745,
          "Type": "Individual"
         },
         {
          "Clinic": "NSFM",
          "Date": "2017-11-06",
          "Metric": "Smoker Pneumovax",
          "Name": "Anneliese Floyd",
          "Percentage": 0.525,
          "Type": "Individual"
         },
         {
          "Clinic": "BellB",
          "Date": "2017-11-06",
          "Metric": "Smoker Pneumovax",
          "Name": "Laura Fox",
          "Percentage": 0.4444,
          "Type": "Individual"
         },
         {
          "Clinic": "FFMC",
          "Date": "2017-11-06",
          "Metric": "Smoker Pneumovax",
          "Name": "Renay Fredette",
          "Percentage": 0.5469,
          "Type": "Individual"
         },
         {
          "Clinic": "NCFP",
          "Date": "2017-11-06",
          "Metric": "Smoker Pneumovax",
          "Name": "Kay-Kay Gambs",
          "Percentage": 0.1681,
          "Type": "Individual"
         },
         {
          "Clinic": "NCFP",
          "Date": "2017-11-06",
          "Metric": "Smoker Pneumovax",
          "Name": "Jonathan Gamson",
          "Percentage": 0.2615,
          "Type": "Individual"
         },
         {
          "Clinic": "NSFM",
          "Date": "2017-11-06",
          "Metric": "Smoker Pneumovax",
          "Name": "Elizabeth Gaylord",
          "Percentage": 0.4516,
          "Type": "Individual"
         },
         {
          "Clinic": "IFP",
          "Date": "2017-11-06",
          "Metric": "Smoker Pneumovax",
          "Name": "Karen Goodman",
          "Percentage": 0.2381,
          "Type": "Individual"
         },
         {
          "Clinic": "FHA",
          "Date": "2017-11-06",
          "Metric": "Smoker Pneumovax",
          "Name": "Deborah Hall",
          "Percentage": 0.5641,
          "Type": "Individual"
         },
         {
          "Clinic": "NCFP",
          "Date": "2017-11-06",
          "Metric": "Smoker Pneumovax",
          "Name": "Janet Hansom",
          "Percentage": 0.5517,
          "Type": "Individual"
         },
         {
          "Clinic": "LFM",
          "Date": "2017-11-06",
          "Metric": "Smoker Pneumovax",
          "Name": "Larry Hartwell",
          "Percentage": 0.5135,
          "Type": "Individual"
         },
         {
          "Clinic": "SFM",
          "Date": "2017-11-06",
          "Metric": "Smoker Pneumovax",
          "Name": "Shelby Hein",
          "Percentage": 0.4667,
          "Type": "Individual"
         },
         {
          "Clinic": "SFM",
          "Date": "2017-11-06",
          "Metric": "Smoker Pneumovax",
          "Name": "Harry Herdman",
          "Percentage": 0.5946,
          "Type": "Individual"
         },
         {
          "Clinic": "NSFM",
          "Date": "2017-11-06",
          "Metric": "Smoker Pneumovax",
          "Name": "Sarah Herman",
          "Percentage": null,
          "Type": "Individual"
         },
         {
          "Clinic": "LFM",
          "Date": "2017-11-06",
          "Metric": "Smoker Pneumovax",
          "Name": "John Hiemstra",
          "Percentage": 0.526,
          "Type": "Individual"
         },
         {
          "Clinic": "SFM",
          "Date": "2017-11-06",
          "Metric": "Smoker Pneumovax",
          "Name": "Heather Honey",
          "Percentage": 0.3934,
          "Type": "Individual"
         },
         {
          "Clinic": "FHA",
          "Date": "2017-11-06",
          "Metric": "Smoker Pneumovax",
          "Name": "Ryan Honey",
          "Percentage": 0.125,
          "Type": "Individual"
         },
         {
          "Clinic": "BellB",
          "Date": "2017-11-06",
          "Metric": "Smoker Pneumovax",
          "Name": "Jim Hopper",
          "Percentage": 0.4694,
          "Type": "Individual"
         },
         {
          "Clinic": "FFMC",
          "Date": "2017-11-06",
          "Metric": "Smoker Pneumovax",
          "Name": "John Hruby",
          "Percentage": 0.4444,
          "Type": "Individual"
         },
         {
          "Clinic": "FHA",
          "Date": "2017-11-06",
          "Metric": "Smoker Pneumovax",
          "Name": "Kellie Jacobs",
          "Percentage": 0.4375,
          "Type": "Individual"
         },
         {
          "Clinic": "IFP",
          "Date": "2017-11-06",
          "Metric": "Smoker Pneumovax",
          "Name": "Michael James",
          "Percentage": 0.1848,
          "Type": "Individual"
         },
         {
          "Clinic": "FHA",
          "Date": "2017-11-06",
          "Metric": "Smoker Pneumovax",
          "Name": "Sharon Kerlin",
          "Percentage": null,
          "Type": "Individual"
         },
         {
          "Clinic": "BBFM",
          "Date": "2017-11-06",
          "Metric": "Smoker Pneumovax",
          "Name": "Jessica Klassen",
          "Percentage": 0.08,
          "Type": "Individual"
         },
         {
          "Clinic": "FHA",
          "Date": "2017-11-06",
          "Metric": "Smoker Pneumovax",
          "Name": "Meghan Lelonek",
          "Percentage": 0.3373,
          "Type": "Individual"
         },
         {
          "Clinic": "FFMC",
          "Date": "2017-11-06",
          "Metric": "Smoker Pneumovax",
          "Name": "Stephen Lewis",
          "Percentage": 0.4408,
          "Type": "Individual"
         },
         {
          "Clinic": "FFMC",
          "Date": "2017-11-06",
          "Metric": "Smoker Pneumovax",
          "Name": "Erin Maloney",
          "Percentage": null,
          "Type": "Individual"
         },
         {
          "Clinic": "NCFP",
          "Date": "2017-11-06",
          "Metric": "Smoker Pneumovax",
          "Name": "Ross McConahey",
          "Percentage": null,
          "Type": "Individual"
         },
         {
          "Clinic": "NSFM",
          "Date": "2017-11-06",
          "Metric": "Smoker Pneumovax",
          "Name": "Patrick McLaughlin",
          "Percentage": 0.3472,
          "Type": "Individual"
         },
         {
          "Clinic": "NCFP",
          "Date": "2017-11-06",
          "Metric": "Smoker Pneumovax",
          "Name": "Sally McPherson",
          "Percentage": 0.3274,
          "Type": "Individual"
         },
         {
          "Clinic": "NCFP",
          "Date": "2017-11-06",
          "Metric": "Smoker Pneumovax",
          "Name": "Lucia Muller",
          "Percentage": 0.4667,
          "Type": "Individual"
         },
         {
          "Clinic": "BellB",
          "Date": "2017-11-06",
          "Metric": "Smoker Pneumovax",
          "Name": "Karen O’Keefe",
          "Percentage": 0.2326,
          "Type": "Individual"
         },
         {
          "Clinic": "SFM",
          "Date": "2017-11-06",
          "Metric": "Smoker Pneumovax",
          "Name": "Lillian Pavlik",
          "Percentage": null,
          "Type": "Individual"
         },
         {
          "Clinic": "LFM",
          "Date": "2017-11-06",
          "Metric": "Smoker Pneumovax",
          "Name": "Patricia Payne-Zajac",
          "Percentage": 0.2105,
          "Type": "Individual"
         },
         {
          "Clinic": "NCFP",
          "Date": "2017-11-06",
          "Metric": "Smoker Pneumovax",
          "Name": "Jonathan Ploudre",
          "Percentage": 0.4811,
          "Type": "Individual"
         },
         {
          "Clinic": "NSFM",
          "Date": "2017-11-06",
          "Metric": "Smoker Pneumovax",
          "Name": "John Raduege",
          "Percentage": 0.4694,
          "Type": "Individual"
         },
         {
          "Clinic": "BBFM",
          "Date": "2017-11-06",
          "Metric": "Smoker Pneumovax",
          "Name": "Teresa Regier",
          "Percentage": 0.2384,
          "Type": "Individual"
         },
         {
          "Clinic": "FFMC",
          "Date": "2017-11-06",
          "Metric": "Smoker Pneumovax",
          "Name": "Claudia Rey",
          "Percentage": 0.4825,
          "Type": "Individual"
         },
         {
          "Clinic": "IFP",
          "Date": "2017-11-06",
          "Metric": "Smoker Pneumovax",
          "Name": "Robert Rieger",
          "Percentage": 0.5256,
          "Type": "Individual"
         },
         {
          "Clinic": "SFM",
          "Date": "2017-11-06",
          "Metric": "Smoker Pneumovax",
          "Name": "Deborah Roessler",
          "Percentage": 0.5263,
          "Type": "Individual"
         },
         {
          "Clinic": "FFMC",
          "Date": "2017-11-06",
          "Metric": "Smoker Pneumovax",
          "Name": "Berdi Sanford",
          "Percentage": 0.7229,
          "Type": "Individual"
         },
         {
          "Clinic": "NCFP",
          "Date": "2017-11-06",
          "Metric": "Smoker Pneumovax",
          "Name": "Lauren Sauve",
          "Percentage": 0.3364,
          "Type": "Individual"
         },
         {
          "Clinic": "BellB",
          "Date": "2017-11-06",
          "Metric": "Smoker Pneumovax",
          "Name": "Melana Schimke",
          "Percentage": 0.1343,
          "Type": "Individual"
         },
         {
          "Clinic": "FHA",
          "Date": "2017-11-06",
          "Metric": "Smoker Pneumovax",
          "Name": "Miriam Shapiro",
          "Percentage": 0.4571,
          "Type": "Individual"
         },
         {
          "Clinic": "NSFM",
          "Date": "2017-11-06",
          "Metric": "Smoker Pneumovax",
          "Name": "Jason Short",
          "Percentage": 0.4124,
          "Type": "Individual"
         },
         {
          "Clinic": "NSFM",
          "Date": "2017-11-06",
          "Metric": "Smoker Pneumovax",
          "Name": "Vicki Short",
          "Percentage": 0.4941,
          "Type": "Individual"
         },
         {
          "Clinic": "LFM",
          "Date": "2017-11-06",
          "Metric": "Smoker Pneumovax",
          "Name": "Ashley Snyder",
          "Percentage": 0.48,
          "Type": "Individual"
         },
         {
          "Clinic": "FFMC",
          "Date": "2017-11-06",
          "Metric": "Smoker Pneumovax",
          "Name": "Kalani Synder",
          "Percentage": 0.2239,
          "Type": "Individual"
         },
         {
          "Clinic": "NSFM",
          "Date": "2017-11-06",
          "Metric": "Smoker Pneumovax",
          "Name": "Mary Swanson",
          "Percentage": 0.4118,
          "Type": "Individual"
         },
         {
          "Clinic": "IFP",
          "Date": "2017-11-06",
          "Metric": "Smoker Pneumovax",
          "Name": "Magaret Sweeney",
          "Percentage": 0.3415,
          "Type": "Individual"
         },
         {
          "Clinic": "WFM",
          "Date": "2017-11-06",
          "Metric": "Smoker Pneumovax",
          "Name": "Heather Thomson",
          "Percentage": 0.2222,
          "Type": "Individual"
         },
         {
          "Clinic": "BellB",
          "Date": "2017-11-06",
          "Metric": "Smoker Pneumovax",
          "Name": "Lisa Van Hofwegen",
          "Percentage": 0.3667,
          "Type": "Individual"
         },
         {
          "Clinic": "NSFM",
          "Date": "2017-11-06",
          "Metric": "Smoker Pneumovax",
          "Name": "April Wakefield-Pagels",
          "Percentage": 0.5217,
          "Type": "Individual"
         },
         {
          "Clinic": "SFM",
          "Date": "2017-11-06",
          "Metric": "Smoker Pneumovax",
          "Name": "Joy Welty",
          "Percentage": 0.4375,
          "Type": "Individual"
         },
         {
          "Clinic": "SFM",
          "Date": "2017-11-06",
          "Metric": "Smoker Pneumovax",
          "Name": "Matt Werner",
          "Percentage": 0.593,
          "Type": "Individual"
         },
         {
          "Clinic": "NCFP",
          "Date": "2017-11-06",
          "Metric": "Smoker Pneumovax",
          "Name": "Sloane Winkes",
          "Percentage": 0.5833,
          "Type": "Individual"
         },
         {
          "Clinic": "NSFM",
          "Date": "2017-11-06",
          "Metric": "Smoker Pneumovax",
          "Name": "Ying Wu",
          "Percentage": 0.5143,
          "Type": "Individual"
         },
         {
          "Clinic": "LFM",
          "Date": "2018-04-30",
          "Metric": "Smoker Pneumovax",
          "Name": "Steven Alexander",
          "Percentage": 0.6812,
          "Type": "Individual"
         },
         {
          "Clinic": "BellB",
          "Date": "2018-04-30",
          "Metric": "Smoker Pneumovax",
          "Name": "Greg Anderson",
          "Percentage": 0.4831,
          "Type": "Individual"
         },
         {
          "Clinic": "FHA",
          "Date": "2018-04-30",
          "Metric": "Smoker Pneumovax",
          "Name": "Rodney Anderson",
          "Percentage": 0.6889,
          "Type": "Individual"
         },
         {
          "Clinic": "FFMC",
          "Date": "2018-04-30",
          "Metric": "Smoker Pneumovax",
          "Name": "Jennifer Bates",
          "Percentage": 0.5873,
          "Type": "Individual"
         },
         {
          "Clinic": "WFM",
          "Date": "2018-04-30",
          "Metric": "Smoker Pneumovax",
          "Name": "Shannon Billau",
          "Percentage": 0.4262,
          "Type": "Individual"
         },
         {
          "Clinic": "WFM",
          "Date": "2018-04-30",
          "Metric": "Smoker Pneumovax",
          "Name": "Richard Binder",
          "Percentage": 0.6522,
          "Type": "Individual"
         },
         {
          "Clinic": "IFP",
          "Date": "2018-04-30",
          "Metric": "Smoker Pneumovax",
          "Name": "Franklin Bjorseth",
          "Percentage": 0.5,
          "Type": "Individual"
         },
         {
          "Clinic": "FHA",
          "Date": "2018-04-30",
          "Metric": "Smoker Pneumovax",
          "Name": "Edward Bloom",
          "Percentage": 0.4425,
          "Type": "Individual"
         },
         {
          "Clinic": "FHA",
          "Date": "2018-04-30",
          "Metric": "Smoker Pneumovax",
          "Name": "Jessica Bloom",
          "Percentage": 0.3158,
          "Type": "Individual"
         },
         {
          "Clinic": "WFM",
          "Date": "2018-04-30",
          "Metric": "Smoker Pneumovax",
          "Name": "Steven Bloom",
          "Percentage": 0.4444,
          "Type": "Individual"
         },
         {
          "Clinic": "BellB",
          "Date": "2018-04-30",
          "Metric": "Smoker Pneumovax",
          "Name": "Ian Bonner",
          "Percentage": 0.374,
          "Type": "Individual"
         },
         {
          "Clinic": "BellB",
          "Date": "2018-04-30",
          "Metric": "Smoker Pneumovax",
          "Name": "Sara Bowling",
          "Percentage": 0.3333,
          "Type": "Individual"
         },
         {
          "Clinic": "NSFM",
          "Date": "2018-04-30",
          "Metric": "Smoker Pneumovax",
          "Name": "Rory Bradt",
          "Percentage": 0.4252,
          "Type": "Individual"
         },
         {
          "Clinic": "FFMC",
          "Date": "2018-04-30",
          "Metric": "Smoker Pneumovax",
          "Name": "Rebecca Brejcha",
          "Percentage": null,
          "Type": "Individual"
         },
         {
          "Clinic": "NSFM",
          "Date": "2018-04-30",
          "Metric": "Smoker Pneumovax",
          "Name": "Lisa Brodsky",
          "Percentage": 0.3056,
          "Type": "Individual"
         },
         {
          "Clinic": "LFM",
          "Date": "2018-04-30",
          "Metric": "Smoker Pneumovax",
          "Name": "Margaret Burden",
          "Percentage": 0.4286,
          "Type": "Individual"
         },
         {
          "Clinic": "NCFP",
          "Date": "2018-04-30",
          "Metric": "Smoker Pneumovax",
          "Name": "Erik Bylund",
          "Percentage": 0.3308,
          "Type": "Individual"
         },
         {
          "Clinic": "LFM",
          "Date": "2018-04-30",
          "Metric": "Smoker Pneumovax",
          "Name": "Robin Caldwell",
          "Percentage": 0.4774,
          "Type": "Individual"
         },
         {
          "Clinic": "NSFM",
          "Date": "2018-04-30",
          "Metric": "Smoker Pneumovax",
          "Name": "William Eiford",
          "Percentage": null,
          "Type": "Individual"
         },
         {
          "Clinic": "NCFP",
          "Date": "2018-04-30",
          "Metric": "Smoker Pneumovax",
          "Name": "Roger Estep",
          "Percentage": 0.3095,
          "Type": "Individual"
         },
         {
          "Clinic": "LFM",
          "Date": "2018-04-30",
          "Metric": "Smoker Pneumovax",
          "Name": "Michael Fleming",
          "Percentage": 0.3375,
          "Type": "Individual"
         },
         {
          "Clinic": "NSFM",
          "Date": "2018-04-30",
          "Metric": "Smoker Pneumovax",
          "Name": "Anneliese Floyd",
          "Percentage": 0.5385,
          "Type": "Individual"
         },
         {
          "Clinic": "BellB",
          "Date": "2018-04-30",
          "Metric": "Smoker Pneumovax",
          "Name": "Laura Fox",
          "Percentage": 0.5319,
          "Type": "Individual"
         },
         {
          "Clinic": "FFMC",
          "Date": "2018-04-30",
          "Metric": "Smoker Pneumovax",
          "Name": "Renay Fredette",
          "Percentage": 0.5161,
          "Type": "Individual"
         },
         {
          "Clinic": "NCFP",
          "Date": "2018-04-30",
          "Metric": "Smoker Pneumovax",
          "Name": "Kay-Kay Gambs",
          "Percentage": 0.2252,
          "Type": "Individual"
         },
         {
          "Clinic": "NCFP",
          "Date": "2018-04-30",
          "Metric": "Smoker Pneumovax",
          "Name": "Jonathan Gamson",
          "Percentage": 0.3577,
          "Type": "Individual"
         },
         {
          "Clinic": "NSFM",
          "Date": "2018-04-30",
          "Metric": "Smoker Pneumovax",
          "Name": "Elizabeth Gaylord",
          "Percentage": 0.4545,
          "Type": "Individual"
         },
         {
          "Clinic": "IFP",
          "Date": "2018-04-30",
          "Metric": "Smoker Pneumovax",
          "Name": "Karen Goodman",
          "Percentage": 0.3077,
          "Type": "Individual"
         },
         {
          "Clinic": "FHA",
          "Date": "2018-04-30",
          "Metric": "Smoker Pneumovax",
          "Name": "Deborah Hall",
          "Percentage": 0.5811,
          "Type": "Individual"
         },
         {
          "Clinic": "NCFP",
          "Date": "2018-04-30",
          "Metric": "Smoker Pneumovax",
          "Name": "Janet Hansom",
          "Percentage": 0.6,
          "Type": "Individual"
         },
         {
          "Clinic": "LFM",
          "Date": "2018-04-30",
          "Metric": "Smoker Pneumovax",
          "Name": "Larry Hartwell",
          "Percentage": 0.5229,
          "Type": "Individual"
         },
         {
          "Clinic": "SFM",
          "Date": "2018-04-30",
          "Metric": "Smoker Pneumovax",
          "Name": "Shelby Hein",
          "Percentage": 0.537,
          "Type": "Individual"
         },
         {
          "Clinic": "SFM",
          "Date": "2018-04-30",
          "Metric": "Smoker Pneumovax",
          "Name": "Harry Herdman",
          "Percentage": 0.6714,
          "Type": "Individual"
         },
         {
          "Clinic": "NSFM",
          "Date": "2018-04-30",
          "Metric": "Smoker Pneumovax",
          "Name": "Sarah Herman",
          "Percentage": null,
          "Type": "Individual"
         },
         {
          "Clinic": "LFM",
          "Date": "2018-04-30",
          "Metric": "Smoker Pneumovax",
          "Name": "John Hiemstra",
          "Percentage": 0.539,
          "Type": "Individual"
         },
         {
          "Clinic": "SFM",
          "Date": "2018-04-30",
          "Metric": "Smoker Pneumovax",
          "Name": "Heather Honey",
          "Percentage": 0.4,
          "Type": "Individual"
         },
         {
          "Clinic": "FHA",
          "Date": "2018-04-30",
          "Metric": "Smoker Pneumovax",
          "Name": "Ryan Honey",
          "Percentage": 0.3276,
          "Type": "Individual"
         },
         {
          "Clinic": "BellB",
          "Date": "2018-04-30",
          "Metric": "Smoker Pneumovax",
          "Name": "Jim Hopper",
          "Percentage": 0.4186,
          "Type": "Individual"
         },
         {
          "Clinic": "FFMC",
          "Date": "2018-04-30",
          "Metric": "Smoker Pneumovax",
          "Name": "John Hruby",
          "Percentage": 0.4701,
          "Type": "Individual"
         },
         {
          "Clinic": "FHA",
          "Date": "2018-04-30",
          "Metric": "Smoker Pneumovax",
          "Name": "Kellie Jacobs",
          "Percentage": 0.4255,
          "Type": "Individual"
         },
         {
          "Clinic": "IFP",
          "Date": "2018-04-30",
          "Metric": "Smoker Pneumovax",
          "Name": "Michael James",
          "Percentage": 0.268,
          "Type": "Individual"
         },
         {
          "Clinic": "FHA",
          "Date": "2018-04-30",
          "Metric": "Smoker Pneumovax",
          "Name": "Sharon Kerlin",
          "Percentage": null,
          "Type": "Individual"
         },
         {
          "Clinic": "BBFM",
          "Date": "2018-04-30",
          "Metric": "Smoker Pneumovax",
          "Name": "Jessica Klassen",
          "Percentage": 0.2824,
          "Type": "Individual"
         },
         {
          "Clinic": "FHA",
          "Date": "2018-04-30",
          "Metric": "Smoker Pneumovax",
          "Name": "Meghan Lelonek",
          "Percentage": 0.4194,
          "Type": "Individual"
         },
         {
          "Clinic": "FFMC",
          "Date": "2018-04-30",
          "Metric": "Smoker Pneumovax",
          "Name": "Stephen Lewis",
          "Percentage": 0.4655,
          "Type": "Individual"
         },
         {
          "Clinic": "FFMC",
          "Date": "2018-04-30",
          "Metric": "Smoker Pneumovax",
          "Name": "Erin Maloney",
          "Percentage": null,
          "Type": "Individual"
         },
         {
          "Clinic": "NCFP",
          "Date": "2018-04-30",
          "Metric": "Smoker Pneumovax",
          "Name": "Ross McConahey",
          "Percentage": null,
          "Type": "Individual"
         },
         {
          "Clinic": "NSFM",
          "Date": "2018-04-30",
          "Metric": "Smoker Pneumovax",
          "Name": "Patrick McLaughlin",
          "Percentage": 0.4306,
          "Type": "Individual"
         },
         {
          "Clinic": "NCFP",
          "Date": "2018-04-30",
          "Metric": "Smoker Pneumovax",
          "Name": "Sally McPherson",
          "Percentage": 0.3885,
          "Type": "Individual"
         },
         {
          "Clinic": "NCFP",
          "Date": "2018-04-30",
          "Metric": "Smoker Pneumovax",
          "Name": "Lucia Muller",
          "Percentage": 0.5435,
          "Type": "Individual"
         },
         {
          "Clinic": "BellB",
          "Date": "2018-04-30",
          "Metric": "Smoker Pneumovax",
          "Name": "Karen O’Keefe",
          "Percentage": 0.3333,
          "Type": "Individual"
         },
         {
          "Clinic": "SFM",
          "Date": "2018-04-30",
          "Metric": "Smoker Pneumovax",
          "Name": "Lillian Pavlik",
          "Percentage": null,
          "Type": "Individual"
         },
         {
          "Clinic": "LFM",
          "Date": "2018-04-30",
          "Metric": "Smoker Pneumovax",
          "Name": "Patricia Payne-Zajac",
          "Percentage": 0.4426,
          "Type": "Individual"
         },
         {
          "Clinic": "NCFP",
          "Date": "2018-04-30",
          "Metric": "Smoker Pneumovax",
          "Name": "Jonathan Ploudre",
          "Percentage": 0.6075,
          "Type": "Individual"
         },
         {
          "Clinic": "NSFM",
          "Date": "2018-04-30",
          "Metric": "Smoker Pneumovax",
          "Name": "John Raduege",
          "Percentage": 0.5263,
          "Type": "Individual"
         },
         {
          "Clinic": "BBFM",
          "Date": "2018-04-30",
          "Metric": "Smoker Pneumovax",
          "Name": "Teresa Regier",
          "Percentage": 0.242,
          "Type": "Individual"
         },
         {
          "Clinic": "FFMC",
          "Date": "2018-04-30",
          "Metric": "Smoker Pneumovax",
          "Name": "Claudia Rey",
          "Percentage": 0.5361,
          "Type": "Individual"
         },
         {
          "Clinic": "IFP",
          "Date": "2018-04-30",
          "Metric": "Smoker Pneumovax",
          "Name": "Robert Rieger",
          "Percentage": 0.6164,
          "Type": "Individual"
         },
         {
          "Clinic": "SFM",
          "Date": "2018-04-30",
          "Metric": "Smoker Pneumovax",
          "Name": "Deborah Roessler",
          "Percentage": 0.6296,
          "Type": "Individual"
         },
         {
          "Clinic": "FFMC",
          "Date": "2018-04-30",
          "Metric": "Smoker Pneumovax",
          "Name": "Berdi Sanford",
          "Percentage": 0.7564,
          "Type": "Individual"
         },
         {
          "Clinic": "NCFP",
          "Date": "2018-04-30",
          "Metric": "Smoker Pneumovax",
          "Name": "Lauren Sauve",
          "Percentage": 0.3475,
          "Type": "Individual"
         },
         {
          "Clinic": "BellB",
          "Date": "2018-04-30",
          "Metric": "Smoker Pneumovax",
          "Name": "Melana Schimke",
          "Percentage": 0.2222,
          "Type": "Individual"
         },
         {
          "Clinic": "FHA",
          "Date": "2018-04-30",
          "Metric": "Smoker Pneumovax",
          "Name": "Miriam Shapiro",
          "Percentage": 0.6111,
          "Type": "Individual"
         },
         {
          "Clinic": "NSFM",
          "Date": "2018-04-30",
          "Metric": "Smoker Pneumovax",
          "Name": "Jason Short",
          "Percentage": 0.4608,
          "Type": "Individual"
         },
         {
          "Clinic": "NSFM",
          "Date": "2018-04-30",
          "Metric": "Smoker Pneumovax",
          "Name": "Vicki Short",
          "Percentage": 0.5238,
          "Type": "Individual"
         },
         {
          "Clinic": "LFM",
          "Date": "2018-04-30",
          "Metric": "Smoker Pneumovax",
          "Name": "Ashley Snyder",
          "Percentage": 0.4444,
          "Type": "Individual"
         },
         {
          "Clinic": "FFMC",
          "Date": "2018-04-30",
          "Metric": "Smoker Pneumovax",
          "Name": "Kalani Synder",
          "Percentage": 0.2063,
          "Type": "Individual"
         },
         {
          "Clinic": "NSFM",
          "Date": "2018-04-30",
          "Metric": "Smoker Pneumovax",
          "Name": "Mary Swanson",
          "Percentage": 0.5172,
          "Type": "Individual"
         },
         {
          "Clinic": "IFP",
          "Date": "2018-04-30",
          "Metric": "Smoker Pneumovax",
          "Name": "Magaret Sweeney",
          "Percentage": 0.5,
          "Type": "Individual"
         },
         {
          "Clinic": "WFM",
          "Date": "2018-04-30",
          "Metric": "Smoker Pneumovax",
          "Name": "Heather Thomson",
          "Percentage": 0.3125,
          "Type": "Individual"
         },
         {
          "Clinic": "BellB",
          "Date": "2018-04-30",
          "Metric": "Smoker Pneumovax",
          "Name": "Lisa Van Hofwegen",
          "Percentage": 0.44,
          "Type": "Individual"
         },
         {
          "Clinic": "NSFM",
          "Date": "2018-04-30",
          "Metric": "Smoker Pneumovax",
          "Name": "April Wakefield-Pagels",
          "Percentage": 0.6429,
          "Type": "Individual"
         },
         {
          "Clinic": "SFM",
          "Date": "2018-04-30",
          "Metric": "Smoker Pneumovax",
          "Name": "Joy Welty",
          "Percentage": 0.4583,
          "Type": "Individual"
         },
         {
          "Clinic": "SFM",
          "Date": "2018-04-30",
          "Metric": "Smoker Pneumovax",
          "Name": "Matt Werner",
          "Percentage": 0.6456,
          "Type": "Individual"
         },
         {
          "Clinic": "NCFP",
          "Date": "2018-04-30",
          "Metric": "Smoker Pneumovax",
          "Name": "Sloane Winkes",
          "Percentage": 0.6286,
          "Type": "Individual"
         },
         {
          "Clinic": "NSFM",
          "Date": "2018-04-30",
          "Metric": "Smoker Pneumovax",
          "Name": "Ying Wu",
          "Percentage": 0.5333,
          "Type": "Individual"
         },
         {
          "Clinic": "FHA",
          "Date": "2018-04-30",
          "Metric": "Smoker Pneumovax",
          "Name": "Ashley Yoder",
          "Percentage": 0.3953,
          "Type": "Individual"
         },
         {
          "Clinic": "LFM",
          "Date": "2017-08-28",
          "Metric": "Smoker Pneumovax",
          "Name": "Steven Alexander",
          "Percentage": 0.6234,
          "Type": "Individual"
         },
         {
          "Clinic": "BellB",
          "Date": "2017-08-28",
          "Metric": "Smoker Pneumovax",
          "Name": "Greg Anderson",
          "Percentage": 0.3846,
          "Type": "Individual"
         },
         {
          "Clinic": "FHA",
          "Date": "2017-08-28",
          "Metric": "Smoker Pneumovax",
          "Name": "Rodney Anderson",
          "Percentage": 0.6066,
          "Type": "Individual"
         },
         {
          "Clinic": "FFMC",
          "Date": "2017-08-28",
          "Metric": "Smoker Pneumovax",
          "Name": "Jennifer Bates",
          "Percentage": 0.5775,
          "Type": "Individual"
         },
         {
          "Clinic": "WFM",
          "Date": "2017-08-28",
          "Metric": "Smoker Pneumovax",
          "Name": "Shannon Billau",
          "Percentage": 0.4,
          "Type": "Individual"
         },
         {
          "Clinic": "WFM",
          "Date": "2017-08-28",
          "Metric": "Smoker Pneumovax",
          "Name": "Richard Binder",
          "Percentage": 0.6809,
          "Type": "Individual"
         },
         {
          "Clinic": "IFP",
          "Date": "2017-08-28",
          "Metric": "Smoker Pneumovax",
          "Name": "Franklin Bjorseth",
          "Percentage": 0.3866,
          "Type": "Individual"
         },
         {
          "Clinic": "FHA",
          "Date": "2017-08-28",
          "Metric": "Smoker Pneumovax",
          "Name": "Edward Bloom",
          "Percentage": 0.4048,
          "Type": "Individual"
         },
         {
          "Clinic": "FHA",
          "Date": "2017-08-28",
          "Metric": "Smoker Pneumovax",
          "Name": "Jessica Bloom",
          "Percentage": 0.2941,
          "Type": "Individual"
         },
         {
          "Clinic": "WFM",
          "Date": "2017-08-28",
          "Metric": "Smoker Pneumovax",
          "Name": "Steven Bloom",
          "Percentage": 0.413,
          "Type": "Individual"
         },
         {
          "Clinic": "BellB",
          "Date": "2017-08-28",
          "Metric": "Smoker Pneumovax",
          "Name": "Ian Bonner",
          "Percentage": 0.2955,
          "Type": "Individual"
         },
         {
          "Clinic": "BellB",
          "Date": "2017-08-28",
          "Metric": "Smoker Pneumovax",
          "Name": "Sara Bowling",
          "Percentage": 0.2209,
          "Type": "Individual"
         },
         {
          "Clinic": "NSFM",
          "Date": "2017-08-28",
          "Metric": "Smoker Pneumovax",
          "Name": "Rory Bradt",
          "Percentage": 0.3453,
          "Type": "Individual"
         },
         {
          "Clinic": "FFMC",
          "Date": "2017-08-28",
          "Metric": "Smoker Pneumovax",
          "Name": "Rebecca Brejcha",
          "Percentage": null,
          "Type": "Individual"
         },
         {
          "Clinic": "NSFM",
          "Date": "2017-08-28",
          "Metric": "Smoker Pneumovax",
          "Name": "Lisa Brodsky",
          "Percentage": 0.2258,
          "Type": "Individual"
         },
         {
          "Clinic": "LFM",
          "Date": "2017-08-28",
          "Metric": "Smoker Pneumovax",
          "Name": "Margaret Burden",
          "Percentage": 0.3721,
          "Type": "Individual"
         },
         {
          "Clinic": "NCFP",
          "Date": "2017-08-28",
          "Metric": "Smoker Pneumovax",
          "Name": "Erik Bylund",
          "Percentage": 0.2231,
          "Type": "Individual"
         },
         {
          "Clinic": "LFM",
          "Date": "2017-08-28",
          "Metric": "Smoker Pneumovax",
          "Name": "Robin Caldwell",
          "Percentage": 0.4244,
          "Type": "Individual"
         },
         {
          "Clinic": "NSFM",
          "Date": "2017-08-28",
          "Metric": "Smoker Pneumovax",
          "Name": "William Eiford",
          "Percentage": null,
          "Type": "Individual"
         },
         {
          "Clinic": "NCFP",
          "Date": "2017-08-28",
          "Metric": "Smoker Pneumovax",
          "Name": "Roger Estep",
          "Percentage": 0.1702,
          "Type": "Individual"
         },
         {
          "Clinic": "LFM",
          "Date": "2017-08-28",
          "Metric": "Smoker Pneumovax",
          "Name": "Michael Fleming",
          "Percentage": 0.275,
          "Type": "Individual"
         },
         {
          "Clinic": "NSFM",
          "Date": "2017-08-28",
          "Metric": "Smoker Pneumovax",
          "Name": "Anneliese Floyd",
          "Percentage": 0.5385,
          "Type": "Individual"
         },
         {
          "Clinic": "BellB",
          "Date": "2017-08-28",
          "Metric": "Smoker Pneumovax",
          "Name": "Laura Fox",
          "Percentage": 0.3864,
          "Type": "Individual"
         },
         {
          "Clinic": "FFMC",
          "Date": "2017-08-28",
          "Metric": "Smoker Pneumovax",
          "Name": "Renay Fredette",
          "Percentage": 0.5522,
          "Type": "Individual"
         },
         {
          "Clinic": "NCFP",
          "Date": "2017-08-28",
          "Metric": "Smoker Pneumovax",
          "Name": "Kay-Kay Gambs",
          "Percentage": 0.1552,
          "Type": "Individual"
         },
         {
          "Clinic": "NCFP",
          "Date": "2017-08-28",
          "Metric": "Smoker Pneumovax",
          "Name": "Jonathan Gamson",
          "Percentage": 0.2296,
          "Type": "Individual"
         },
         {
          "Clinic": "NSFM",
          "Date": "2017-08-28",
          "Metric": "Smoker Pneumovax",
          "Name": "Elizabeth Gaylord",
          "Percentage": 0.3824,
          "Type": "Individual"
         },
         {
          "Clinic": "IFP",
          "Date": "2017-08-28",
          "Metric": "Smoker Pneumovax",
          "Name": "Karen Goodman",
          "Percentage": 0.3667,
          "Type": "Individual"
         },
         {
          "Clinic": "FHA",
          "Date": "2017-08-28",
          "Metric": "Smoker Pneumovax",
          "Name": "Deborah Hall",
          "Percentage": 0.5301,
          "Type": "Individual"
         },
         {
          "Clinic": "NCFP",
          "Date": "2017-08-28",
          "Metric": "Smoker Pneumovax",
          "Name": "Janet Hansom",
          "Percentage": 0.5,
          "Type": "Individual"
         },
         {
          "Clinic": "LFM",
          "Date": "2017-08-28",
          "Metric": "Smoker Pneumovax",
          "Name": "Larry Hartwell",
          "Percentage": 0.5047,
          "Type": "Individual"
         },
         {
          "Clinic": "SFM",
          "Date": "2017-08-28",
          "Metric": "Smoker Pneumovax",
          "Name": "Shelby Hein",
          "Percentage": 0.459,
          "Type": "Individual"
         },
         {
          "Clinic": "SFM",
          "Date": "2017-08-28",
          "Metric": "Smoker Pneumovax",
          "Name": "Harry Herdman",
          "Percentage": 0.56,
          "Type": "Individual"
         },
         {
          "Clinic": "NSFM",
          "Date": "2017-08-28",
          "Metric": "Smoker Pneumovax",
          "Name": "Sarah Herman",
          "Percentage": null,
          "Type": "Individual"
         },
         {
          "Clinic": "LFM",
          "Date": "2017-08-28",
          "Metric": "Smoker Pneumovax",
          "Name": "John Hiemstra",
          "Percentage": 0.513,
          "Type": "Individual"
         },
         {
          "Clinic": "BellB",
          "Date": "2017-08-28",
          "Metric": "Smoker Pneumovax",
          "Name": "Jim Hopper",
          "Percentage": 0.38,
          "Type": "Individual"
         },
         {
          "Clinic": "FFMC",
          "Date": "2017-08-28",
          "Metric": "Smoker Pneumovax",
          "Name": "John Hruby",
          "Percentage": 0.4628,
          "Type": "Individual"
         },
         {
          "Clinic": "FHA",
          "Date": "2017-08-28",
          "Metric": "Smoker Pneumovax",
          "Name": "Kellie Jacobs",
          "Percentage": 0.4286,
          "Type": "Individual"
         },
         {
          "Clinic": "IFP",
          "Date": "2017-08-28",
          "Metric": "Smoker Pneumovax",
          "Name": "Michael James",
          "Percentage": 0.163,
          "Type": "Individual"
         },
         {
          "Clinic": "FHA",
          "Date": "2017-08-28",
          "Metric": "Smoker Pneumovax",
          "Name": "Meghan Lelonek",
          "Percentage": 0.3146,
          "Type": "Individual"
         },
         {
          "Clinic": "FFMC",
          "Date": "2017-08-28",
          "Metric": "Smoker Pneumovax",
          "Name": "Stephen Lewis",
          "Percentage": 0.4405,
          "Type": "Individual"
         },
         {
          "Clinic": "FFMC",
          "Date": "2017-08-28",
          "Metric": "Smoker Pneumovax",
          "Name": "Erin Maloney",
          "Percentage": null,
          "Type": "Individual"
         },
         {
          "Clinic": "NCFP",
          "Date": "2017-08-28",
          "Metric": "Smoker Pneumovax",
          "Name": "Ross McConahey",
          "Percentage": null,
          "Type": "Individual"
         },
         {
          "Clinic": "NSFM",
          "Date": "2017-08-28",
          "Metric": "Smoker Pneumovax",
          "Name": "Patrick McLaughlin",
          "Percentage": 0.3913,
          "Type": "Individual"
         },
         {
          "Clinic": "NCFP",
          "Date": "2017-08-28",
          "Metric": "Smoker Pneumovax",
          "Name": "Sally McPherson",
          "Percentage": 0.301,
          "Type": "Individual"
         },
         {
          "Clinic": "NCFP",
          "Date": "2017-08-28",
          "Metric": "Smoker Pneumovax",
          "Name": "Lucia Muller",
          "Percentage": 0.4186,
          "Type": "Individual"
         },
         {
          "Clinic": "BellB",
          "Date": "2017-08-28",
          "Metric": "Smoker Pneumovax",
          "Name": "Karen O’Keefe",
          "Percentage": 0.2381,
          "Type": "Individual"
         },
         {
          "Clinic": "SFM",
          "Date": "2017-08-28",
          "Metric": "Smoker Pneumovax",
          "Name": "Lillian Pavlik",
          "Percentage": null,
          "Type": "Individual"
         },
         {
          "Clinic": "LFM",
          "Date": "2017-08-28",
          "Metric": "Smoker Pneumovax",
          "Name": "Patricia Payne-Zajac",
          "Percentage": null,
          "Type": "Individual"
         },
         {
          "Clinic": "NCFP",
          "Date": "2017-08-28",
          "Metric": "Smoker Pneumovax",
          "Name": "Jonathan Ploudre",
          "Percentage": 0.3839,
          "Type": "Individual"
         },
         {
          "Clinic": "NSFM",
          "Date": "2017-08-28",
          "Metric": "Smoker Pneumovax",
          "Name": "John Raduege",
          "Percentage": 0.4583,
          "Type": "Individual"
         },
         {
          "Clinic": "BBFM",
          "Date": "2017-08-28",
          "Metric": "Smoker Pneumovax",
          "Name": "Teresa Regier",
          "Percentage": 0.2333,
          "Type": "Individual"
         },
         {
          "Clinic": "FFMC",
          "Date": "2017-08-28",
          "Metric": "Smoker Pneumovax",
          "Name": "Claudia Rey",
          "Percentage": 0.4297,
          "Type": "Individual"
         },
         {
          "Clinic": "IFP",
          "Date": "2017-08-28",
          "Metric": "Smoker Pneumovax",
          "Name": "Robert Rieger",
          "Percentage": 0.4487,
          "Type": "Individual"
         },
         {
          "Clinic": "SFM",
          "Date": "2017-08-28",
          "Metric": "Smoker Pneumovax",
          "Name": "Deborah Roessler",
          "Percentage": 0.49,
          "Type": "Individual"
         },
         {
          "Clinic": "FFMC",
          "Date": "2017-08-28",
          "Metric": "Smoker Pneumovax",
          "Name": "Berdi Sanford",
          "Percentage": 0.6932,
          "Type": "Individual"
         },
         {
          "Clinic": "NCFP",
          "Date": "2017-08-28",
          "Metric": "Smoker Pneumovax",
          "Name": "Lauren Sauve",
          "Percentage": 0.3208,
          "Type": "Individual"
         },
         {
          "Clinic": "BellB",
          "Date": "2017-08-28",
          "Metric": "Smoker Pneumovax",
          "Name": "Melana Schimke",
          "Percentage": 0.1194,
          "Type": "Individual"
         },
         {
          "Clinic": "FHA",
          "Date": "2017-08-28",
          "Metric": "Smoker Pneumovax",
          "Name": "Miriam Shapiro",
          "Percentage": 0.4167,
          "Type": "Individual"
         },
         {
          "Clinic": "NSFM",
          "Date": "2017-08-28",
          "Metric": "Smoker Pneumovax",
          "Name": "Jason Short",
          "Percentage": 0.4,
          "Type": "Individual"
         },
         {
          "Clinic": "NSFM",
          "Date": "2017-08-28",
          "Metric": "Smoker Pneumovax",
          "Name": "Vicki Short",
          "Percentage": 0.5,
          "Type": "Individual"
         },
         {
          "Clinic": "NSFM",
          "Date": "2017-08-28",
          "Metric": "Smoker Pneumovax",
          "Name": "Mary Swanson",
          "Percentage": 0.4,
          "Type": "Individual"
         },
         {
          "Clinic": "IFP",
          "Date": "2017-08-28",
          "Metric": "Smoker Pneumovax",
          "Name": "Magaret Sweeney",
          "Percentage": 0.3,
          "Type": "Individual"
         },
         {
          "Clinic": "BellB",
          "Date": "2017-08-28",
          "Metric": "Smoker Pneumovax",
          "Name": "Lisa Van Hofwegen",
          "Percentage": 0.3871,
          "Type": "Individual"
         },
         {
          "Clinic": "NSFM",
          "Date": "2017-08-28",
          "Metric": "Smoker Pneumovax",
          "Name": "April Wakefield-Pagels",
          "Percentage": 0.5208,
          "Type": "Individual"
         },
         {
          "Clinic": "SFM",
          "Date": "2017-08-28",
          "Metric": "Smoker Pneumovax",
          "Name": "Matt Werner",
          "Percentage": 0.5652,
          "Type": "Individual"
         },
         {
          "Clinic": "NCFP",
          "Date": "2017-08-28",
          "Metric": "Smoker Pneumovax",
          "Name": "Sloane Winkes",
          "Percentage": 0.5405,
          "Type": "Individual"
         },
         {
          "Clinic": "NSFM",
          "Date": "2017-08-28",
          "Metric": "Smoker Pneumovax",
          "Name": "Ying Wu",
          "Percentage": 0.4615,
          "Type": "Individual"
         },
         {
          "Clinic": "LFM",
          "Date": "2017-09-18",
          "Metric": "Smoker Pneumovax",
          "Name": "Steven Alexander",
          "Percentage": 0.6316,
          "Type": "Individual"
         },
         {
          "Clinic": "BellB",
          "Date": "2017-09-18",
          "Metric": "Smoker Pneumovax",
          "Name": "Greg Anderson",
          "Percentage": 0.3956,
          "Type": "Individual"
         },
         {
          "Clinic": "FHA",
          "Date": "2017-09-18",
          "Metric": "Smoker Pneumovax",
          "Name": "Rodney Anderson",
          "Percentage": 0.5968,
          "Type": "Individual"
         },
         {
          "Clinic": "FFMC",
          "Date": "2017-09-18",
          "Metric": "Smoker Pneumovax",
          "Name": "Jennifer Bates",
          "Percentage": 0.5857,
          "Type": "Individual"
         },
         {
          "Clinic": "WFM",
          "Date": "2017-09-18",
          "Metric": "Smoker Pneumovax",
          "Name": "Shannon Billau",
          "Percentage": 0.3871,
          "Type": "Individual"
         },
         {
          "Clinic": "WFM",
          "Date": "2017-09-18",
          "Metric": "Smoker Pneumovax",
          "Name": "Richard Binder",
          "Percentage": 0.6667,
          "Type": "Individual"
         },
         {
          "Clinic": "IFP",
          "Date": "2017-09-18",
          "Metric": "Smoker Pneumovax",
          "Name": "Franklin Bjorseth",
          "Percentage": 0.3932,
          "Type": "Individual"
         },
         {
          "Clinic": "FHA",
          "Date": "2017-09-18",
          "Metric": "Smoker Pneumovax",
          "Name": "Edward Bloom",
          "Percentage": 0.4127,
          "Type": "Individual"
         },
         {
          "Clinic": "FHA",
          "Date": "2017-09-18",
          "Metric": "Smoker Pneumovax",
          "Name": "Jessica Bloom",
          "Percentage": 0.2778,
          "Type": "Individual"
         },
         {
          "Clinic": "WFM",
          "Date": "2017-09-18",
          "Metric": "Smoker Pneumovax",
          "Name": "Steven Bloom",
          "Percentage": 0.4239,
          "Type": "Individual"
         },
         {
          "Clinic": "BellB",
          "Date": "2017-09-18",
          "Metric": "Smoker Pneumovax",
          "Name": "Ian Bonner",
          "Percentage": 0.3111,
          "Type": "Individual"
         },
         {
          "Clinic": "BellB",
          "Date": "2017-09-18",
          "Metric": "Smoker Pneumovax",
          "Name": "Sara Bowling",
          "Percentage": 0.2235,
          "Type": "Individual"
         },
         {
          "Clinic": "NSFM",
          "Date": "2017-09-18",
          "Metric": "Smoker Pneumovax",
          "Name": "Rory Bradt",
          "Percentage": 0.338,
          "Type": "Individual"
         },
         {
          "Clinic": "FFMC",
          "Date": "2017-09-18",
          "Metric": "Smoker Pneumovax",
          "Name": "Rebecca Brejcha",
          "Percentage": null,
          "Type": "Individual"
         },
         {
          "Clinic": "NSFM",
          "Date": "2017-09-18",
          "Metric": "Smoker Pneumovax",
          "Name": "Lisa Brodsky",
          "Percentage": 0.2581,
          "Type": "Individual"
         },
         {
          "Clinic": "LFM",
          "Date": "2017-09-18",
          "Metric": "Smoker Pneumovax",
          "Name": "Margaret Burden",
          "Percentage": 0.3902,
          "Type": "Individual"
         },
         {
          "Clinic": "NCFP",
          "Date": "2017-09-18",
          "Metric": "Smoker Pneumovax",
          "Name": "Erik Bylund",
          "Percentage": 0.2366,
          "Type": "Individual"
         },
         {
          "Clinic": "LFM",
          "Date": "2017-09-18",
          "Metric": "Smoker Pneumovax",
          "Name": "Robin Caldwell",
          "Percentage": 0.4379,
          "Type": "Individual"
         },
         {
          "Clinic": "NSFM",
          "Date": "2017-09-18",
          "Metric": "Smoker Pneumovax",
          "Name": "William Eiford",
          "Percentage": null,
          "Type": "Individual"
         },
         {
          "Clinic": "NCFP",
          "Date": "2017-09-18",
          "Metric": "Smoker Pneumovax",
          "Name": "Roger Estep",
          "Percentage": 0.1875,
          "Type": "Individual"
         },
         {
          "Clinic": "LFM",
          "Date": "2017-09-18",
          "Metric": "Smoker Pneumovax",
          "Name": "Michael Fleming",
          "Percentage": 0.2727,
          "Type": "Individual"
         },
         {
          "Clinic": "NSFM",
          "Date": "2017-09-18",
          "Metric": "Smoker Pneumovax",
          "Name": "Anneliese Floyd",
          "Percentage": 0.5385,
          "Type": "Individual"
         },
         {
          "Clinic": "BellB",
          "Date": "2017-09-18",
          "Metric": "Smoker Pneumovax",
          "Name": "Laura Fox",
          "Percentage": 0.3864,
          "Type": "Individual"
         },
         {
          "Clinic": "FFMC",
          "Date": "2017-09-18",
          "Metric": "Smoker Pneumovax",
          "Name": "Renay Fredette",
          "Percentage": 0.5455,
          "Type": "Individual"
         },
         {
          "Clinic": "NCFP",
          "Date": "2017-09-18",
          "Metric": "Smoker Pneumovax",
          "Name": "Kay-Kay Gambs",
          "Percentage": 0.1652,
          "Type": "Individual"
         },
         {
          "Clinic": "NCFP",
          "Date": "2017-09-18",
          "Metric": "Smoker Pneumovax",
          "Name": "Jonathan Gamson",
          "Percentage": 0.2463,
          "Type": "Individual"
         },
         {
          "Clinic": "NSFM",
          "Date": "2017-09-18",
          "Metric": "Smoker Pneumovax",
          "Name": "Elizabeth Gaylord",
          "Percentage": 0.4118,
          "Type": "Individual"
         },
         {
          "Clinic": "IFP",
          "Date": "2017-09-18",
          "Metric": "Smoker Pneumovax",
          "Name": "Karen Goodman",
          "Percentage": 0.3636,
          "Type": "Individual"
         },
         {
          "Clinic": "FHA",
          "Date": "2017-09-18",
          "Metric": "Smoker Pneumovax",
          "Name": "Deborah Hall",
          "Percentage": 0.55,
          "Type": "Individual"
         },
         {
          "Clinic": "NCFP",
          "Date": "2017-09-18",
          "Metric": "Smoker Pneumovax",
          "Name": "Janet Hansom",
          "Percentage": 0.5,
          "Type": "Individual"
         },
         {
          "Clinic": "LFM",
          "Date": "2017-09-18",
          "Metric": "Smoker Pneumovax",
          "Name": "Larry Hartwell",
          "Percentage": 0.5047,
          "Type": "Individual"
         },
         {
          "Clinic": "SFM",
          "Date": "2017-09-18",
          "Metric": "Smoker Pneumovax",
          "Name": "Shelby Hein",
          "Percentage": 0.4754,
          "Type": "Individual"
         },
         {
          "Clinic": "SFM",
          "Date": "2017-09-18",
          "Metric": "Smoker Pneumovax",
          "Name": "Harry Herdman",
          "Percentage": 0.5541,
          "Type": "Individual"
         },
         {
          "Clinic": "NSFM",
          "Date": "2017-09-18",
          "Metric": "Smoker Pneumovax",
          "Name": "Sarah Herman",
          "Percentage": null,
          "Type": "Individual"
         },
         {
          "Clinic": "LFM",
          "Date": "2017-09-18",
          "Metric": "Smoker Pneumovax",
          "Name": "John Hiemstra",
          "Percentage": 0.5133,
          "Type": "Individual"
         },
         {
          "Clinic": "SFM",
          "Date": "2017-09-18",
          "Metric": "Smoker Pneumovax",
          "Name": "Heather Honey",
          "Percentage": 0.4035,
          "Type": "Individual"
         },
         {
          "Clinic": "FHA",
          "Date": "2017-09-18",
          "Metric": "Smoker Pneumovax",
          "Name": "Ryan Honey",
          "Percentage": null,
          "Type": "Individual"
         },
         {
          "Clinic": "BellB",
          "Date": "2017-09-18",
          "Metric": "Smoker Pneumovax",
          "Name": "Jim Hopper",
          "Percentage": 0.42,
          "Type": "Individual"
         },
         {
          "Clinic": "FFMC",
          "Date": "2017-09-18",
          "Metric": "Smoker Pneumovax",
          "Name": "John Hruby",
          "Percentage": 0.4492,
          "Type": "Individual"
         },
         {
          "Clinic": "FHA",
          "Date": "2017-09-18",
          "Metric": "Smoker Pneumovax",
          "Name": "Kellie Jacobs",
          "Percentage": 0.4375,
          "Type": "Individual"
         },
         {
          "Clinic": "IFP",
          "Date": "2017-09-18",
          "Metric": "Smoker Pneumovax",
          "Name": "Michael James",
          "Percentage": 0.1667,
          "Type": "Individual"
         },
         {
          "Clinic": "FHA",
          "Date": "2017-09-18",
          "Metric": "Smoker Pneumovax",
          "Name": "Sharon Kerlin",
          "Percentage": null,
          "Type": "Individual"
         },
         {
          "Clinic": "FHA",
          "Date": "2017-09-18",
          "Metric": "Smoker Pneumovax",
          "Name": "Meghan Lelonek",
          "Percentage": 0.3182,
          "Type": "Individual"
         },
         {
          "Clinic": "FFMC",
          "Date": "2017-09-18",
          "Metric": "Smoker Pneumovax",
          "Name": "Stephen Lewis",
          "Percentage": 0.4382,
          "Type": "Individual"
         },
         {
          "Clinic": "FFMC",
          "Date": "2017-09-18",
          "Metric": "Smoker Pneumovax",
          "Name": "Erin Maloney",
          "Percentage": null,
          "Type": "Individual"
         },
         {
          "Clinic": "NCFP",
          "Date": "2017-09-18",
          "Metric": "Smoker Pneumovax",
          "Name": "Ross McConahey",
          "Percentage": null,
          "Type": "Individual"
         },
         {
          "Clinic": "NSFM",
          "Date": "2017-09-18",
          "Metric": "Smoker Pneumovax",
          "Name": "Patrick McLaughlin",
          "Percentage": 0.3913,
          "Type": "Individual"
         },
         {
          "Clinic": "NCFP",
          "Date": "2017-09-18",
          "Metric": "Smoker Pneumovax",
          "Name": "Sally McPherson",
          "Percentage": 0.2816,
          "Type": "Individual"
         },
         {
          "Clinic": "NCFP",
          "Date": "2017-09-18",
          "Metric": "Smoker Pneumovax",
          "Name": "Lucia Muller",
          "Percentage": 0.4186,
          "Type": "Individual"
         },
         {
          "Clinic": "BellB",
          "Date": "2017-09-18",
          "Metric": "Smoker Pneumovax",
          "Name": "Karen O’Keefe",
          "Percentage": 0.25,
          "Type": "Individual"
         },
         {
          "Clinic": "SFM",
          "Date": "2017-09-18",
          "Metric": "Smoker Pneumovax",
          "Name": "Lillian Pavlik",
          "Percentage": null,
          "Type": "Individual"
         },
         {
          "Clinic": "LFM",
          "Date": "2017-09-18",
          "Metric": "Smoker Pneumovax",
          "Name": "Patricia Payne-Zajac",
          "Percentage": null,
          "Type": "Individual"
         },
         {
          "Clinic": "NCFP",
          "Date": "2017-09-18",
          "Metric": "Smoker Pneumovax",
          "Name": "Jonathan Ploudre",
          "Percentage": 0.4037,
          "Type": "Individual"
         },
         {
          "Clinic": "NSFM",
          "Date": "2017-09-18",
          "Metric": "Smoker Pneumovax",
          "Name": "John Raduege",
          "Percentage": 0.4583,
          "Type": "Individual"
         },
         {
          "Clinic": "BBFM",
          "Date": "2017-09-18",
          "Metric": "Smoker Pneumovax",
          "Name": "Teresa Regier",
          "Percentage": 0.2282,
          "Type": "Individual"
         },
         {
          "Clinic": "FFMC",
          "Date": "2017-09-18",
          "Metric": "Smoker Pneumovax",
          "Name": "Claudia Rey",
          "Percentage": 0.4646,
          "Type": "Individual"
         },
         {
          "Clinic": "IFP",
          "Date": "2017-09-18",
          "Metric": "Smoker Pneumovax",
          "Name": "Robert Rieger",
          "Percentage": 0.4487,
          "Type": "Individual"
         },
         {
          "Clinic": "SFM",
          "Date": "2017-09-18",
          "Metric": "Smoker Pneumovax",
          "Name": "Deborah Roessler",
          "Percentage": 0.5102,
          "Type": "Individual"
         },
         {
          "Clinic": "FFMC",
          "Date": "2017-09-18",
          "Metric": "Smoker Pneumovax",
          "Name": "Berdi Sanford",
          "Percentage": 0.6977,
          "Type": "Individual"
         },
         {
          "Clinic": "NCFP",
          "Date": "2017-09-18",
          "Metric": "Smoker Pneumovax",
          "Name": "Lauren Sauve",
          "Percentage": 0.3148,
          "Type": "Individual"
         },
         {
          "Clinic": "BellB",
          "Date": "2017-09-18",
          "Metric": "Smoker Pneumovax",
          "Name": "Melana Schimke",
          "Percentage": 0.1159,
          "Type": "Individual"
         },
         {
          "Clinic": "FHA",
          "Date": "2017-09-18",
          "Metric": "Smoker Pneumovax",
          "Name": "Miriam Shapiro",
          "Percentage": 0.4444,
          "Type": "Individual"
         },
         {
          "Clinic": "NSFM",
          "Date": "2017-09-18",
          "Metric": "Smoker Pneumovax",
          "Name": "Jason Short",
          "Percentage": 0.4038,
          "Type": "Individual"
         },
         {
          "Clinic": "NSFM",
          "Date": "2017-09-18",
          "Metric": "Smoker Pneumovax",
          "Name": "Vicki Short",
          "Percentage": 0.5,
          "Type": "Individual"
         },
         {
          "Clinic": "LFM",
          "Date": "2017-09-18",
          "Metric": "Smoker Pneumovax",
          "Name": "Ashley Snyder",
          "Percentage": 1,
          "Type": "Individual"
         },
         {
          "Clinic": "NSFM",
          "Date": "2017-09-18",
          "Metric": "Smoker Pneumovax",
          "Name": "Mary Swanson",
          "Percentage": 0.4,
          "Type": "Individual"
         },
         {
          "Clinic": "IFP",
          "Date": "2017-09-18",
          "Metric": "Smoker Pneumovax",
          "Name": "Magaret Sweeney",
          "Percentage": 0.2927,
          "Type": "Individual"
         },
         {
          "Clinic": "BellB",
          "Date": "2017-09-18",
          "Metric": "Smoker Pneumovax",
          "Name": "Lisa Van Hofwegen",
          "Percentage": 0.3548,
          "Type": "Individual"
         },
         {
          "Clinic": "NSFM",
          "Date": "2017-09-18",
          "Metric": "Smoker Pneumovax",
          "Name": "April Wakefield-Pagels",
          "Percentage": 0.5306,
          "Type": "Individual"
         },
         {
          "Clinic": "SFM",
          "Date": "2017-09-18",
          "Metric": "Smoker Pneumovax",
          "Name": "Joy Welty",
          "Percentage": null,
          "Type": "Individual"
         },
         {
          "Clinic": "SFM",
          "Date": "2017-09-18",
          "Metric": "Smoker Pneumovax",
          "Name": "Matt Werner",
          "Percentage": 0.5667,
          "Type": "Individual"
         },
         {
          "Clinic": "NCFP",
          "Date": "2017-09-18",
          "Metric": "Smoker Pneumovax",
          "Name": "Sloane Winkes",
          "Percentage": 0.5676,
          "Type": "Individual"
         },
         {
          "Clinic": "NSFM",
          "Date": "2017-09-18",
          "Metric": "Smoker Pneumovax",
          "Name": "Ying Wu",
          "Percentage": 0.4615,
          "Type": "Individual"
         }
        ]
       },
       "facet": {
        "column": {
         "field": "Clinic",
         "type": "nominal"
        }
       },
       "spec": {
        "encoding": {
         "color": {
          "field": "Name",
          "legend": null,
          "type": "nominal"
         },
         "tooltip": {
          "field": "Name",
          "type": "nominal"
         },
         "x": {
          "field": "Date",
          "title": "",
          "type": "temporal"
         },
         "y": {
          "axis": {
           "format": "%"
          },
          "field": "Percentage",
          "type": "quantitative"
         }
        },
        "mark": "line",
        "title": "Smoker Pneumovax at NCFP"
       }
      },
      "image/png": "[encoded data removed]",
      "text/plain": [
       "<VegaLite 2 object>\n",
       "\n",
       "If you see this message, it means the renderer has not been properly enabled\n",
       "for the frontend that you are using. For more information, see\n",
       "https://altair-viz.github.io/user_guide/troubleshooting.html\n"
      ]
     },
     "execution_count": 13,
     "metadata": {},
     "output_type": "execute_result"
    }
   ],
   "source": [
    "def core_clinic_charts(metric, clinic):\n",
    "    chart = alt.Chart(df[(df['Metric']==metric) & (df['Type']=='Individual')]).mark_line().encode(\n",
    "        alt.X('Date:T', title=\"\"),\n",
    "        alt.Y('Percentage:Q', axis=alt.Axis(format=\"%\")),\n",
    "        color=alt.Color('Name:N', legend=None),\n",
    "        tooltip='Name:N',\n",
    "    ).properties(\n",
    "        title=str(metric) + ' at ' + clinic,\n",
    "    ).facet(\n",
    "        column=\"Clinic:N\",\n",
    "    )\n",
    "    return chart\n",
    "\n",
    "#  & (df['Clinic']==clinic)\n",
    "#for metric in df.Metric.unique():\n",
    "#    chart = core_clinic_charts(metric, \"NCFP\")\n",
    "    \n",
    "core_clinic_charts(\"Smoker Pneumovax\", \"NCFP\")"
   ]
  },
  {
   "cell_type": "markdown",
   "metadata": {},
   "source": [
    "# Matplotlib Graphs\n",
    "\n",
    "These graphs are a first attempt to make individual folders. Roughly 1200 pictures from dataframe. \n",
    "\n",
    "Creates ./output/ folder with SVG files and an index.html file. "
   ]
  },
  {
   "cell_type": "code",
   "execution_count": 23,
   "metadata": {},
   "outputs": [
    {
     "name": "stderr",
     "output_type": "stream",
     "text": [
      "/Users/jonathan/anaconda/lib/python3.6/site-packages/ipykernel_launcher.py:18: SettingWithCopyWarning: \n",
      "A value is trying to be set on a copy of a slice from a DataFrame\n",
      "\n",
      "See the caveats in the documentation: http://pandas.pydata.org/pandas-docs/stable/indexing.html#indexing-view-versus-copy\n",
      "/Users/jonathan/anaconda/lib/python3.6/site-packages/ipykernel_launcher.py:18: SettingWithCopyWarning: \n",
      "A value is trying to be set on a copy of a slice from a DataFrame\n",
      "\n",
      "See the caveats in the documentation: http://pandas.pydata.org/pandas-docs/stable/indexing.html#indexing-view-versus-copy\n"
     ]
    },
    {
     "ename": "FileNotFoundError",
     "evalue": "[Errno 2] No such file or directory: './output/BellB/index.html'",
     "output_type": "error",
     "traceback": [
      "\u001b[0;31m---------------------------------------------------------------------------\u001b[0m",
      "\u001b[0;31mFileNotFoundError\u001b[0m                         Traceback (most recent call last)",
      "\u001b[0;32m<ipython-input-23-bccb30852a6c>\u001b[0m in \u001b[0;36m<module>\u001b[0;34m()\u001b[0m\n\u001b[1;32m     38\u001b[0m         \u001b[0mplt\u001b[0m\u001b[0;34m.\u001b[0m\u001b[0mclose\u001b[0m\u001b[0;34m(\u001b[0m\u001b[0mfig\u001b[0m\u001b[0;34m)\u001b[0m\u001b[0;34m\u001b[0m\u001b[0m\n\u001b[1;32m     39\u001b[0m \u001b[0;34m\u001b[0m\u001b[0m\n\u001b[0;32m---> 40\u001b[0;31m     \u001b[0mshutil\u001b[0m\u001b[0;34m.\u001b[0m\u001b[0mcopyfile\u001b[0m\u001b[0;34m(\u001b[0m\u001b[0;34m'./files/index.html'\u001b[0m\u001b[0;34m,\u001b[0m \u001b[0;34m'./output/'\u001b[0m \u001b[0;34m+\u001b[0m \u001b[0mfoldername\u001b[0m \u001b[0;34m+\u001b[0m \u001b[0;34m'/index.html'\u001b[0m\u001b[0;34m)\u001b[0m\u001b[0;34m\u001b[0m\u001b[0m\n\u001b[0m",
      "\u001b[0;32m~/anaconda/lib/python3.6/shutil.py\u001b[0m in \u001b[0;36mcopyfile\u001b[0;34m(src, dst, follow_symlinks)\u001b[0m\n\u001b[1;32m    119\u001b[0m     \u001b[0;32melse\u001b[0m\u001b[0;34m:\u001b[0m\u001b[0;34m\u001b[0m\u001b[0m\n\u001b[1;32m    120\u001b[0m         \u001b[0;32mwith\u001b[0m \u001b[0mopen\u001b[0m\u001b[0;34m(\u001b[0m\u001b[0msrc\u001b[0m\u001b[0;34m,\u001b[0m \u001b[0;34m'rb'\u001b[0m\u001b[0;34m)\u001b[0m \u001b[0;32mas\u001b[0m \u001b[0mfsrc\u001b[0m\u001b[0;34m:\u001b[0m\u001b[0;34m\u001b[0m\u001b[0m\n\u001b[0;32m--> 121\u001b[0;31m             \u001b[0;32mwith\u001b[0m \u001b[0mopen\u001b[0m\u001b[0;34m(\u001b[0m\u001b[0mdst\u001b[0m\u001b[0;34m,\u001b[0m \u001b[0;34m'wb'\u001b[0m\u001b[0;34m)\u001b[0m \u001b[0;32mas\u001b[0m \u001b[0mfdst\u001b[0m\u001b[0;34m:\u001b[0m\u001b[0;34m\u001b[0m\u001b[0m\n\u001b[0m\u001b[1;32m    122\u001b[0m                 \u001b[0mcopyfileobj\u001b[0m\u001b[0;34m(\u001b[0m\u001b[0mfsrc\u001b[0m\u001b[0;34m,\u001b[0m \u001b[0mfdst\u001b[0m\u001b[0;34m)\u001b[0m\u001b[0;34m\u001b[0m\u001b[0m\n\u001b[1;32m    123\u001b[0m     \u001b[0;32mreturn\u001b[0m \u001b[0mdst\u001b[0m\u001b[0;34m\u001b[0m\u001b[0m\n",
      "\u001b[0;31mFileNotFoundError\u001b[0m: [Errno 2] No such file or directory: './output/BellB/index.html'"
     ]
    }
   ],
   "source": [
    "import matplotlib.pyplot as plt\n",
    "import matplotlib.font_manager as font_manager\n",
    "\n",
    "# Matplotlib Specifics\n",
    "# %matplotlib inline\n",
    "plt.style.use('fivethirtyeight')\n",
    "plt.rcParams[\"svg.fonttype\"] = \"none\"\n",
    "plt.rcParams[\"font.family\"] = \"Bitstream Vera Sans\"\n",
    "plt.rcParams[\"figure.titleweight\"] = 'Bold'\n",
    "plt.rcParams['figure.titlesize'] = 'xx-large'\n",
    "\n",
    "for name in df.Name.unique():\n",
    "#name = 'NCFP'\n",
    "\n",
    "    foldername = name.replace(\" \", \"_\")\n",
    "\n",
    "    Provider = df[df['Name'] == name]\n",
    "    Provider.dropna(inplace=True)\n",
    "\n",
    "    for number, metric in enumerate(Provider.Metric.unique()):\n",
    "        ProviderMetric = Provider[Provider['Metric'] == metric]\n",
    "        ax = ProviderMetric.plot(x=\"Date\", y=\"Percentage\", legend=False, ylim=(0,100), figsize=(6,6))\n",
    "        ax.set_xlabel(\"\")\n",
    "\n",
    "        # Let's Do ever third tick mark (quarters)\n",
    "        ax.set_xticks(ax.get_xticks()[::3])\n",
    "        fig = ax.get_figure()\n",
    "        fig.patch.set_facecolor('none')\n",
    "        ax.patch.set_facecolor('white')\n",
    "        ax.patch.set_alpha(0.8)\n",
    "        fig.suptitle(metric, fontsize=20, fontweight='bold')\n",
    "        fig.tight_layout(pad=2)\n",
    "\n",
    "        metricfilename = metric.replace(\" \", \"_\")\n",
    "        if not os.path.exists(\"./output/\" + foldername):\n",
    "            os.makedirs(\"./output/\" + foldername)\n",
    "        fig.savefig(\"./output/\" + foldername + \"/\" + metricfilename + \".svg\", facecolor=fig.get_facecolor(), edgecolor='none')\n",
    "        plt.close(fig)\n",
    "\n",
    "    shutil.copyfile('./files/index.html', './output/' + foldername + '/index.html') \n"
   ]
  },
  {
   "cell_type": "code",
   "execution_count": null,
   "metadata": {},
   "outputs": [],
   "source": []
  }
 ],
 "metadata": {
  "kernelspec": {
   "display_name": "Python 3",
   "language": "python",
   "name": "python3"
  },
  "language_info": {
   "codemirror_mode": {
    "name": "ipython",
    "version": 3
   },
   "file_extension": ".py",
   "mimetype": "text/x-python",
   "name": "python",
   "nbconvert_exporter": "python",
   "pygments_lexer": "ipython3",
   "version": "3.6.4"
  }
 },
 "nbformat": 4,
 "nbformat_minor": 2
}
