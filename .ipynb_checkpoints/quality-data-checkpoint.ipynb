{
 "cells": [
  {
   "cell_type": "markdown",
   "metadata": {},
   "source": [
    "# Initial Imports & Setup"
   ]
  },
  {
   "cell_type": "code",
   "execution_count": 1,
   "metadata": {},
   "outputs": [],
   "source": [
    "# Data Science Modules\n",
    "import numpy as np\n",
    "import pandas as pd\n",
    "import altair as alt\n",
    "\n",
    "# Python Modules\n",
    "import glob as glob\n",
    "import os\n",
    "import datetime as datetime"
   ]
  },
  {
   "cell_type": "markdown",
   "metadata": {},
   "source": [
    "# Lookup Data\n",
    "\n",
    "* **./files/names.csv**: CSV File with Provider/Clinic Names, etc. Names is used to determine active providers/clinics. (So if there's no name, it wont get evaluated later -- say, for example, after Everson Closes.)\n",
    "* **./files/metrics.csv**: CSV File with Metrics information (Display Name, Category, Target, etc.)"
   ]
  },
  {
   "cell_type": "code",
   "execution_count": 2,
   "metadata": {},
   "outputs": [],
   "source": [
    "# Read Lookup files into dataframes for mapping\n",
    "names = pd.read_csv('./files/names.csv', index_col='MeridiosName')\n",
    "metrics = pd.read_csv('./files/metrics.csv', index_col='MeridiosMetric', dtype={'MeridiosMetric':object})"
   ]
  },
  {
   "cell_type": "markdown",
   "metadata": {},
   "source": [
    "# Import Data from /data folder.\n",
    "\n",
    "* **./data/(Zero-Padded Date at beginning of CSVs from Meridos).csv**: Files from Automatic weekly report from Meridios"
   ]
  },
  {
   "cell_type": "code",
   "execution_count": 3,
   "metadata": {},
   "outputs": [],
   "source": [
    "# The base dataframe, df, get's transformed into different data subsets. \n",
    "df = pd.DataFrame()\n",
    "\n",
    "# Read in all the data files and append to dataframe\n",
    "files = glob.glob('./data/*.csv')\n",
    "for file in files:\n",
    "    filedf = pd.read_csv(file,\n",
    "                        usecols=[\"NAME\",\"Metricname\",\"SeenNum\",\"SeenDenom\"])\n",
    "    # Prettier Names but we'll drop these eventually.\n",
    "    filedf = filedf.rename(columns={'NAME': 'MeridiosName',\n",
    "                                    'Metricname': 'MeridiosMetric',\n",
    "                                    'SeenNum': 'Numerator', \n",
    "                                    'SeenDenom': 'Denominator'})\n",
    "\n",
    "    # Add Lookup Columns.\n",
    "    filedf['Name'] = filedf.MeridiosName.map(names.Name)\n",
    "    filedf['Type'] = filedf.MeridiosName.map(names.Type)\n",
    "    filedf['Clinic'] = filedf.MeridiosName.map(names.Clinic)\n",
    "    filedf['Metric'] = filedf.MeridiosMetric.map(metrics.Metric)\n",
    "    \n",
    "    # Who are we kidding with precision? Round to Basis points\n",
    "    # Not actually percentage (but rather than * 100 leaving for formatting\n",
    "    # in visualization.)\n",
    "    filedf['Percentage'] = round(filedf['Numerator'] / filedf['Denominator'], 4)\n",
    "\n",
    "    # Zero Padded Dates with Dots. Like: \"03.15.2018\" We're using the filename\n",
    "    # as the source of the date column because Meridios exports haven't always \n",
    "    # had the date-time data correct. \n",
    "    filename_parts = file[7:-4].split(' ')\n",
    "    if (len(str(filename_parts[0])) is 10):\n",
    "        filedf['Date'] = datetime.datetime.strptime(filename_parts[0], \"%m.%d.%Y\")\n",
    "\n",
    "        # Now delete the 'raw' columns from import\n",
    "        filedf.drop([\"MeridiosName\",\"MeridiosMetric\",\"Numerator\",\"Denominator\"], axis=1, inplace=True)\n",
    "\n",
    "        # We're only appending data that had Zero Padded Date at \n",
    "        # beginning of filename.\n",
    "        df = df.append(filedf) \n",
    "    else:\n",
    "        print(\"CSV Data File doesn't have Zero-Padded Date at beginning.\")\n",
    "        \n",
    "# We can inspect dataframe different ways        \n",
    "#df.dtypes\n",
    "#df.info()\n",
    "#df.describe()\n",
    "#df.columns\n",
    "#df.Metric.unique()\n",
    "#df.head()\n",
    "#metrics.head()"
   ]
  },
  {
   "cell_type": "markdown",
   "metadata": {},
   "source": [
    "## Validations:\n",
    "\n",
    "* Do new CSV files include new MeridiosName, New Metric items? (Has the underlying report changed? Such as when edited provider name.)\n",
    "* Should we keep a list of already imported data and do some message to clarify after new data is available?\n",
    "* Percentages under 0% and over 100% are report errors\n",
    "\n",
    "Currently no validations. But probably should automate checks that new data from report is accurate. "
   ]
  },
  {
   "cell_type": "markdown",
   "metadata": {},
   "source": [
    "# Altair Graphs\n",
    "\n",
    "make_individual_metric_chart makes a layered chart with the individuals recent progress, their clinic's progress, and how it's currently distributed in FCN. Assumes that dataframes names & metrics exists.  "
   ]
  },
  {
   "cell_type": "code",
   "execution_count": 59,
   "metadata": {},
   "outputs": [],
   "source": [
    "def make_individual_metric_chart(metric, name):\n",
    "    # Data Transformations in Pandas for graphs.\n",
    "    # assumes dataframe 'df' that has data from CSVs\n",
    "    # assumes dataframes 'names' and 'metrics' for lookups\n",
    "    providerdf = df[(df['Metric']==metric) & \n",
    "                    (df['Type']=='Individual') &\n",
    "                    (df['Name']==name)]\n",
    "    \n",
    "    # Lookups\n",
    "    clinic_name = names[names.Name == name].iloc[0].Clinic\n",
    "    metric_target = metrics[metrics.Metric == metric].iloc[0].Target\n",
    "    \n",
    "    # If there's a target value, we'll make a rule on graph.\n",
    "    if(metric_target):\n",
    "        metricdf = pd.DataFrame([{\"TargetValue\": metric_target, \"Title\": \"Target\"}])\n",
    "    \n",
    "    clinicdf = df[(df['Metric']==metric) & \n",
    "                    (df['Name']==clinic_name)]\n",
    "\n",
    "    combodf = pd.concat([providerdf, clinicdf])\n",
    "\n",
    "    current_date = max(df['Date'])\n",
    "    current_metric = df[(df['Metric']==metric) & \n",
    "                        (df['Type']=='Individual') &\n",
    "                        (df['Date']==current_date)]\n",
    "\n",
    "    # Altair Graphs to combine.\n",
    "    provider_progress_line = alt.Chart(providerdf\n",
    "        ).mark_line(\n",
    "        ).encode(\n",
    "            alt.X('Date:T', title=\"\"),\n",
    "            alt.Y('Percentage:Q', axis=alt.Axis(format=\"%\", title=\"\"), \n",
    "                  scale=alt.Scale(domain=(0, 1))),\n",
    "            color=alt.Color('Name:N', legend=None,)\n",
    "        ).properties(\n",
    "            width=200,\n",
    "            height=200,\n",
    "        )\n",
    "    \n",
    "    #1f77b4 -- blue, #ff7f0e -- orange\n",
    "    \n",
    "    clinic_progress_line = alt.Chart(clinicdf\n",
    "        ).mark_line(\n",
    "\n",
    "        ).encode(\n",
    "        alt.X('Date:T', title=\"\"),\n",
    "        alt.Y('Percentage:Q', axis=alt.Axis(format=\"%\", title=\"\"), \n",
    "                  scale=alt.Scale(domain=(0, 1))),\n",
    "            color=alt.ColorValue('#ff7f0e'),\n",
    "        )\n",
    "     \n",
    "    if(metric_target):\n",
    "        metric_target_rule = alt.Chart(metricdf).mark_rule().encode(\n",
    "            y='TargetValue:Q', \n",
    "            color=alt.value('green'),\n",
    "            opacity=alt.value('0.5'),\n",
    "            )\n",
    "        metric_target_ruletext = alt.Chart(metricdf).mark_text(\n",
    "            align='right', dx=5, dy=-5, \n",
    "            ).encode(\n",
    "            alt.Y('TargetValue:Q'),\n",
    "            color=alt.value('green'),\n",
    "            opacity=alt.value('0.5'),\n",
    "            text=alt.value('Target'),\n",
    "            )\n",
    "\n",
    "    fcn_current_strip_chart = alt.Chart(current_metric\n",
    "        ).mark_tick(\n",
    "            color='#eee',\n",
    "        ).encode(\n",
    "            alt.Y('Percentage:Q', axis=alt.Axis(format=\"%\", title=\"\", labels=False,),\n",
    "                 scale=alt.Scale(domain=(0, 1))),\n",
    "        ).properties(\n",
    "            height=200,\n",
    "        )\n",
    "\n",
    "    provider_highlight_strip = alt.Chart(current_metric\n",
    "        ).mark_tick(\n",
    "        \n",
    "        ).encode(\n",
    "            alt.Y('Percentage:Q')\n",
    "        ).transform_filter(\n",
    "        alt.FieldEqualPredicate(field='Name', equal=name)\n",
    "        )\n",
    "\n",
    "    provider_percent = provider_highlight_strip.mark_text(\n",
    "        align='left',\n",
    "        baseline='middle',\n",
    "        dx=15,\n",
    "        size=20,\n",
    "        ).encode(\n",
    "            text=alt.Text('Percentage:Q', format='.2%')\n",
    "        ).transform_filter(\n",
    "        alt.FieldEqualPredicate(field='Name', equal=name)\n",
    "        )\n",
    "\n",
    "    # Rule not working \n",
    "    if(metric_target):\n",
    "        chart = provider_progress_line + clinic_progress_line + metric_target_rule + metric_target_ruletext | (fcn_current_strip_chart + provider_highlight_strip + provider_percent)\n",
    "        return chart\n",
    "    else:\n",
    "        chart = provider_progress_line + clinic_progress_line | (fcn_current_strip_chart + provider_highlight_strip + provider_percent)"
   ]
  },
  {
   "cell_type": "code",
   "execution_count": 122,
   "metadata": {},
   "outputs": [],
   "source": [
    "# Need to just do active individuals\n",
    "singleprovider = names[(names['Type']=='Individual')]\n",
    "for name in singleprovider.Name.unique():\n",
    "    for metric in df.Metric.unique( ):\n",
    "        chart = make_individual_metric_chart(metric, name) \n",
    "        foldername = str(name).replace(\" \", \"_\")\n",
    "        if not os.path.exists(\"./altair-output/\" + foldername):\n",
    "            os.makedirs(\"./altair-output/\" + foldername)\n",
    "        chart.save(\"./altair-output/\" + foldername + '/'+ str(metric).replace(\" \", \"_\") + \".json\")\n",
    "        \n",
    "    with open('./files/index.html', 'r') as file :\n",
    "        filedata = file.read()\n",
    "    filedata = filedata.replace('{{{Provider}}}', name)\n",
    "    with open('./altair-output/' + foldername + '/index.html', 'w+') as file:\n",
    "        file.write(filedata)"
   ]
  },
  {
   "cell_type": "code",
   "execution_count": 60,
   "metadata": {},
   "outputs": [
    {
     "data": {
      "application/vnd.vegalite.v2+json": {
       "$schema": "https://vega.github.io/schema/vega-lite/v2.4.1.json",
       "config": {
        "view": {
         "height": 300,
         "width": 400
        }
       },
       "hconcat": [
        {
         "layer": [
          {
           "data": {
            "values": [
             {
              "Clinic": "IFP",
              "Date": "2018-04-23",
              "Metric": "AAA",
              "Name": "Robert Rieger",
              "Percentage": 0.3158,
              "Type": "Individual"
             },
             {
              "Clinic": "IFP",
              "Date": "2018-01-29",
              "Metric": "AAA",
              "Name": "Robert Rieger",
              "Percentage": 0.2281,
              "Type": "Individual"
             },
             {
              "Clinic": "IFP",
              "Date": "2018-05-14",
              "Metric": "AAA",
              "Name": "Robert Rieger",
              "Percentage": 0.3103,
              "Type": "Individual"
             },
             {
              "Clinic": "IFP",
              "Date": "2017-12-18",
              "Metric": "AAA",
              "Name": "Robert Rieger",
              "Percentage": 0.1964,
              "Type": "Individual"
             },
             {
              "Clinic": "IFP",
              "Date": "2018-03-19",
              "Metric": "AAA",
              "Name": "Robert Rieger",
              "Percentage": 0.2679,
              "Type": "Individual"
             },
             {
              "Clinic": "IFP",
              "Date": "2018-04-02",
              "Metric": "AAA",
              "Name": "Robert Rieger",
              "Percentage": 0.2982,
              "Type": "Individual"
             },
             {
              "Clinic": "IFP",
              "Date": "2017-10-09",
              "Metric": "AAA",
              "Name": "Robert Rieger",
              "Percentage": 0.0702,
              "Type": "Individual"
             },
             {
              "Clinic": "IFP",
              "Date": "2018-02-19",
              "Metric": "AAA",
              "Name": "Robert Rieger",
              "Percentage": 0.2321,
              "Type": "Individual"
             },
             {
              "Clinic": "IFP",
              "Date": "2018-01-08",
              "Metric": "AAA",
              "Name": "Robert Rieger",
              "Percentage": 0.2,
              "Type": "Individual"
             },
             {
              "Clinic": "IFP",
              "Date": "2018-01-22",
              "Metric": "AAA",
              "Name": "Robert Rieger",
              "Percentage": 0.2143,
              "Type": "Individual"
             },
             {
              "Clinic": "IFP",
              "Date": "2017-10-23",
              "Metric": "AAA",
              "Name": "Robert Rieger",
              "Percentage": 0.0877,
              "Type": "Individual"
             },
             {
              "Clinic": "IFP",
              "Date": "2018-05-28",
              "Metric": "AAA",
              "Name": "Robert Rieger",
              "Percentage": 0.339,
              "Type": "Individual"
             },
             {
              "Clinic": "IFP",
              "Date": "2017-09-11",
              "Metric": "AAA",
              "Name": "Robert Rieger",
              "Percentage": 0,
              "Type": "Individual"
             },
             {
              "Clinic": "IFP",
              "Date": "2018-01-15",
              "Metric": "AAA",
              "Name": "Robert Rieger",
              "Percentage": 0.2182,
              "Type": "Individual"
             },
             {
              "Clinic": "IFP",
              "Date": "2017-11-13",
              "Metric": "AAA",
              "Name": "Robert Rieger",
              "Percentage": 0.1071,
              "Type": "Individual"
             },
             {
              "Clinic": "IFP",
              "Date": "2017-08-21",
              "Metric": "AAA",
              "Name": "Robert Rieger",
              "Percentage": null,
              "Type": "Individual"
             },
             {
              "Clinic": "IFP",
              "Date": "2017-10-02",
              "Metric": "AAA",
              "Name": "Robert Rieger",
              "Percentage": 0.0175,
              "Type": "Individual"
             },
             {
              "Clinic": "IFP",
              "Date": "2018-02-12",
              "Metric": "AAA",
              "Name": "Robert Rieger",
              "Percentage": 0.2281,
              "Type": "Individual"
             },
             {
              "Clinic": "IFP",
              "Date": "2018-02-05",
              "Metric": "AAA",
              "Name": "Robert Rieger",
              "Percentage": 0.2281,
              "Type": "Individual"
             },
             {
              "Clinic": "IFP",
              "Date": "2018-03-12",
              "Metric": "AAA",
              "Name": "Robert Rieger",
              "Percentage": 0.2807,
              "Type": "Individual"
             },
             {
              "Clinic": "IFP",
              "Date": "2018-03-05",
              "Metric": "AAA",
              "Name": "Robert Rieger",
              "Percentage": 0.2679,
              "Type": "Individual"
             },
             {
              "Clinic": "IFP",
              "Date": "2018-04-09",
              "Metric": "AAA",
              "Name": "Robert Rieger",
              "Percentage": 0.3158,
              "Type": "Individual"
             },
             {
              "Clinic": "IFP",
              "Date": "2017-12-04",
              "Metric": "AAA",
              "Name": "Robert Rieger",
              "Percentage": 0.1607,
              "Type": "Individual"
             },
             {
              "Clinic": "IFP",
              "Date": "2017-10-30",
              "Metric": "AAA",
              "Name": "Robert Rieger",
              "Percentage": 0.0877,
              "Type": "Individual"
             },
             {
              "Clinic": "IFP",
              "Date": "2018-01-01",
              "Metric": "AAA",
              "Name": "Robert Rieger",
              "Percentage": 0.1818,
              "Type": "Individual"
             },
             {
              "Clinic": "IFP",
              "Date": "2017-09-25",
              "Metric": "AAA",
              "Name": "Robert Rieger",
              "Percentage": 0.0175,
              "Type": "Individual"
             },
             {
              "Clinic": "IFP",
              "Date": "2018-04-16",
              "Metric": "AAA",
              "Name": "Robert Rieger",
              "Percentage": 0.3158,
              "Type": "Individual"
             },
             {
              "Clinic": "IFP",
              "Date": "2017-12-26",
              "Metric": "AAA",
              "Name": "Robert Rieger",
              "Percentage": 0.1964,
              "Type": "Individual"
             },
             {
              "Clinic": "IFP",
              "Date": "2017-12-11",
              "Metric": "AAA",
              "Name": "Robert Rieger",
              "Percentage": 0.1786,
              "Type": "Individual"
             },
             {
              "Clinic": "IFP",
              "Date": "2017-10-16",
              "Metric": "AAA",
              "Name": "Robert Rieger",
              "Percentage": 0.0702,
              "Type": "Individual"
             },
             {
              "Clinic": "IFP",
              "Date": "2018-02-26",
              "Metric": "AAA",
              "Name": "Robert Rieger",
              "Percentage": 0.25,
              "Type": "Individual"
             },
             {
              "Clinic": "IFP",
              "Date": "2017-09-04",
              "Metric": "AAA",
              "Name": "Robert Rieger",
              "Percentage": null,
              "Type": "Individual"
             },
             {
              "Clinic": "IFP",
              "Date": "2018-03-26",
              "Metric": "AAA",
              "Name": "Robert Rieger",
              "Percentage": 0.2857,
              "Type": "Individual"
             },
             {
              "Clinic": "IFP",
              "Date": "2017-11-06",
              "Metric": "AAA",
              "Name": "Robert Rieger",
              "Percentage": 0.1071,
              "Type": "Individual"
             },
             {
              "Clinic": "IFP",
              "Date": "2018-04-30",
              "Metric": "AAA",
              "Name": "Robert Rieger",
              "Percentage": 0.3158,
              "Type": "Individual"
             },
             {
              "Clinic": "IFP",
              "Date": "2018-05-07",
              "Metric": "AAA",
              "Name": "Robert Rieger",
              "Percentage": 0.3158,
              "Type": "Individual"
             },
             {
              "Clinic": "IFP",
              "Date": "2017-08-28",
              "Metric": "AAA",
              "Name": "Robert Rieger",
              "Percentage": null,
              "Type": "Individual"
             },
             {
              "Clinic": "IFP",
              "Date": "2018-05-21",
              "Metric": "AAA",
              "Name": "Robert Rieger",
              "Percentage": 0.3103,
              "Type": "Individual"
             },
             {
              "Clinic": "IFP",
              "Date": "2017-09-18",
              "Metric": "AAA",
              "Name": "Robert Rieger",
              "Percentage": null,
              "Type": "Individual"
             }
            ]
           },
           "encoding": {
            "color": {
             "field": "Name",
             "legend": null,
             "type": "nominal"
            },
            "x": {
             "field": "Date",
             "title": "",
             "type": "temporal"
            },
            "y": {
             "axis": {
              "format": "%",
              "title": ""
             },
             "field": "Percentage",
             "scale": {
              "domain": [
               0,
               1
              ]
             },
             "type": "quantitative"
            }
           },
           "height": 200,
           "mark": "line",
           "width": 200
          },
          {
           "data": {
            "values": [
             {
              "Clinic": "IFP",
              "Date": "2018-04-23",
              "Metric": "AAA",
              "Name": "IFP",
              "Percentage": 0.2892,
              "Type": "Clinic"
             },
             {
              "Clinic": "IFP",
              "Date": "2018-01-29",
              "Metric": "AAA",
              "Name": "IFP",
              "Percentage": 0.1912,
              "Type": "Clinic"
             },
             {
              "Clinic": "IFP",
              "Date": "2018-05-14",
              "Metric": "AAA",
              "Name": "IFP",
              "Percentage": 0.2863,
              "Type": "Clinic"
             },
             {
              "Clinic": "IFP",
              "Date": "2017-12-18",
              "Metric": "AAA",
              "Name": "IFP",
              "Percentage": 0.1573,
              "Type": "Clinic"
             },
             {
              "Clinic": "IFP",
              "Date": "2018-03-19",
              "Metric": "AAA",
              "Name": "IFP",
              "Percentage": 0.2227,
              "Type": "Clinic"
             },
             {
              "Clinic": "IFP",
              "Date": "2018-04-02",
              "Metric": "AAA",
              "Name": "IFP",
              "Percentage": 0.2389,
              "Type": "Clinic"
             },
             {
              "Clinic": "IFP",
              "Date": "2017-10-09",
              "Metric": "AAA",
              "Name": "IFP",
              "Percentage": 0.0465,
              "Type": "Clinic"
             },
             {
              "Clinic": "IFP",
              "Date": "2018-02-19",
              "Metric": "AAA",
              "Name": "IFP",
              "Percentage": 0.208,
              "Type": "Clinic"
             },
             {
              "Clinic": "IFP",
              "Date": "2018-01-08",
              "Metric": "AAA",
              "Name": "IFP",
              "Percentage": 0.1687,
              "Type": "Clinic"
             },
             {
              "Clinic": "IFP",
              "Date": "2018-01-22",
              "Metric": "AAA",
              "Name": "IFP",
              "Percentage": 0.18,
              "Type": "Clinic"
             },
             {
              "Clinic": "IFP",
              "Date": "2017-10-23",
              "Metric": "AAA",
              "Name": "IFP",
              "Percentage": 0.087,
              "Type": "Clinic"
             },
             {
              "Clinic": "IFP",
              "Date": "2018-05-28",
              "Metric": "AAA",
              "Name": "IFP",
              "Percentage": 0.3117,
              "Type": "Clinic"
             },
             {
              "Clinic": "IFP",
              "Date": "2017-09-11",
              "Metric": "AAA",
              "Name": "IFP",
              "Percentage": 0.0196,
              "Type": "Clinic"
             },
             {
              "Clinic": "IFP",
              "Date": "2018-01-15",
              "Metric": "AAA",
              "Name": "IFP",
              "Percentage": 0.176,
              "Type": "Clinic"
             },
             {
              "Clinic": "IFP",
              "Date": "2017-11-13",
              "Metric": "AAA",
              "Name": "IFP",
              "Percentage": 0.108,
              "Type": "Clinic"
             },
             {
              "Clinic": "IFP",
              "Date": "2017-08-21",
              "Metric": "AAA",
              "Name": "IFP",
              "Percentage": 0.0197,
              "Type": "Clinic"
             },
             {
              "Clinic": "IFP",
              "Date": "2017-10-02",
              "Metric": "AAA",
              "Name": "IFP",
              "Percentage": 0.0233,
              "Type": "Clinic"
             },
             {
              "Clinic": "IFP",
              "Date": "2018-02-12",
              "Metric": "AAA",
              "Name": "IFP",
              "Percentage": 0.1984,
              "Type": "Clinic"
             },
             {
              "Clinic": "IFP",
              "Date": "2018-02-05",
              "Metric": "AAA",
              "Name": "IFP",
              "Percentage": 0.1992,
              "Type": "Clinic"
             },
             {
              "Clinic": "IFP",
              "Date": "2018-03-12",
              "Metric": "AAA",
              "Name": "IFP",
              "Percentage": 0.2209,
              "Type": "Clinic"
             },
             {
              "Clinic": "IFP",
              "Date": "2018-03-05",
              "Metric": "AAA",
              "Name": "IFP",
              "Percentage": 0.2169,
              "Type": "Clinic"
             },
             {
              "Clinic": "IFP",
              "Date": "2018-04-09",
              "Metric": "AAA",
              "Name": "IFP",
              "Percentage": 0.2651,
              "Type": "Clinic"
             },
             {
              "Clinic": "IFP",
              "Date": "2017-12-04",
              "Metric": "AAA",
              "Name": "IFP",
              "Percentage": 0.1331,
              "Type": "Clinic"
             },
             {
              "Clinic": "IFP",
              "Date": "2017-10-30",
              "Metric": "AAA",
              "Name": "IFP",
              "Percentage": 0.092,
              "Type": "Clinic"
             },
             {
              "Clinic": "IFP",
              "Date": "2018-01-01",
              "Metric": "AAA",
              "Name": "IFP",
              "Percentage": 0.1653,
              "Type": "Clinic"
             },
             {
              "Clinic": "IFP",
              "Date": "2017-09-25",
              "Metric": "AAA",
              "Name": "IFP",
              "Percentage": 0.0235,
              "Type": "Clinic"
             },
             {
              "Clinic": "IFP",
              "Date": "2018-04-16",
              "Metric": "AAA",
              "Name": "IFP",
              "Percentage": 0.2851,
              "Type": "Clinic"
             },
             {
              "Clinic": "IFP",
              "Date": "2017-12-26",
              "Metric": "AAA",
              "Name": "IFP",
              "Percentage": 0.1613,
              "Type": "Clinic"
             },
             {
              "Clinic": "IFP",
              "Date": "2017-12-11",
              "Metric": "AAA",
              "Name": "IFP",
              "Percentage": 0.1411,
              "Type": "Clinic"
             },
             {
              "Clinic": "IFP",
              "Date": "2017-10-16",
              "Metric": "AAA",
              "Name": "IFP",
              "Percentage": 0.0787,
              "Type": "Clinic"
             },
             {
              "Clinic": "IFP",
              "Date": "2018-02-26",
              "Metric": "AAA",
              "Name": "IFP",
              "Percentage": 0.2097,
              "Type": "Clinic"
             },
             {
              "Clinic": "IFP",
              "Date": "2017-09-04",
              "Metric": "AAA",
              "Name": "IFP",
              "Percentage": 0.0196,
              "Type": "Clinic"
             },
             {
              "Clinic": "IFP",
              "Date": "2018-03-26",
              "Metric": "AAA",
              "Name": "IFP",
              "Percentage": 0.2317,
              "Type": "Clinic"
             },
             {
              "Clinic": "IFP",
              "Date": "2017-11-06",
              "Metric": "AAA",
              "Name": "IFP",
              "Percentage": 0.1036,
              "Type": "Clinic"
             },
             {
              "Clinic": "IFP",
              "Date": "2018-04-30",
              "Metric": "AAA",
              "Name": "IFP",
              "Percentage": 0.2874,
              "Type": "Clinic"
             },
             {
              "Clinic": "IFP",
              "Date": "2018-05-07",
              "Metric": "AAA",
              "Name": "IFP",
              "Percentage": 0.2863,
              "Type": "Clinic"
             },
             {
              "Clinic": "IFP",
              "Date": "2017-08-28",
              "Metric": "AAA",
              "Name": "IFP",
              "Percentage": 0.0198,
              "Type": "Clinic"
             },
             {
              "Clinic": "IFP",
              "Date": "2018-05-21",
              "Metric": "AAA",
              "Name": "IFP",
              "Percentage": 0.2972,
              "Type": "Clinic"
             },
             {
              "Clinic": "IFP",
              "Date": "2017-09-18",
              "Metric": "AAA",
              "Name": "IFP",
              "Percentage": 0.0196,
              "Type": "Clinic"
             }
            ]
           },
           "encoding": {
            "color": {
             "value": "#ff7f0e"
            },
            "x": {
             "field": "Date",
             "title": "",
             "type": "temporal"
            },
            "y": {
             "axis": {
              "format": "%",
              "title": ""
             },
             "field": "Percentage",
             "scale": {
              "domain": [
               0,
               1
              ]
             },
             "type": "quantitative"
            }
           },
           "mark": "line"
          },
          {
           "data": {
            "values": [
             {
              "TargetValue": 0.8,
              "Title": "Target"
             }
            ]
           },
           "encoding": {
            "color": {
             "value": "green"
            },
            "opacity": {
             "value": "0.5"
            },
            "y": {
             "field": "TargetValue",
             "type": "quantitative"
            }
           },
           "mark": "rule"
          },
          {
           "data": {
            "values": [
             {
              "TargetValue": 0.8,
              "Title": "Target"
             }
            ]
           },
           "encoding": {
            "color": {
             "value": "green"
            },
            "opacity": {
             "value": "0.5"
            },
            "text": {
             "value": "Target"
            },
            "y": {
             "field": "TargetValue",
             "type": "quantitative"
            }
           },
           "mark": {
            "align": "right",
            "dx": 5,
            "dy": -5,
            "type": "text"
           }
          }
         ]
        },
        {
         "layer": [
          {
           "data": {
            "values": [
             {
              "Clinic": "LFM",
              "Date": "2018-05-28",
              "Metric": "AAA",
              "Name": "Steven Alexander",
              "Percentage": 0.5484,
              "Type": "Individual"
             },
             {
              "Clinic": "BellB",
              "Date": "2018-05-28",
              "Metric": "AAA",
              "Name": "Greg Anderson",
              "Percentage": 0.7647,
              "Type": "Individual"
             },
             {
              "Clinic": "FHA",
              "Date": "2018-05-28",
              "Metric": "AAA",
              "Name": "Rodney Anderson",
              "Percentage": 0.7523,
              "Type": "Individual"
             },
             {
              "Clinic": "FFMC",
              "Date": "2018-05-28",
              "Metric": "AAA",
              "Name": "Jennifer Bates",
              "Percentage": 0.0909,
              "Type": "Individual"
             },
             {
              "Clinic": "WFM",
              "Date": "2018-05-28",
              "Metric": "AAA",
              "Name": "Shannon Billau",
              "Percentage": 0.0769,
              "Type": "Individual"
             },
             {
              "Clinic": "WFM",
              "Date": "2018-05-28",
              "Metric": "AAA",
              "Name": "Richard Binder",
              "Percentage": 0.7701,
              "Type": "Individual"
             },
             {
              "Clinic": "IFP",
              "Date": "2018-05-28",
              "Metric": "AAA",
              "Name": "Franklin Bjorseth",
              "Percentage": 0.4222,
              "Type": "Individual"
             },
             {
              "Clinic": "FHA",
              "Date": "2018-05-28",
              "Metric": "AAA",
              "Name": "Edward Bloom",
              "Percentage": 0.246,
              "Type": "Individual"
             },
             {
              "Clinic": "FHA",
              "Date": "2018-05-28",
              "Metric": "AAA",
              "Name": "Jessica Bloom",
              "Percentage": 0.5,
              "Type": "Individual"
             },
             {
              "Clinic": "WFM",
              "Date": "2018-05-28",
              "Metric": "AAA",
              "Name": "Steven Bloom",
              "Percentage": 0.0132,
              "Type": "Individual"
             },
             {
              "Clinic": "BellB",
              "Date": "2018-05-28",
              "Metric": "AAA",
              "Name": "Ian Bonner",
              "Percentage": 0.141,
              "Type": "Individual"
             },
             {
              "Clinic": "BellB",
              "Date": "2018-05-28",
              "Metric": "AAA",
              "Name": "Sara Bowling",
              "Percentage": 0.5172,
              "Type": "Individual"
             },
             {
              "Clinic": "NSFM",
              "Date": "2018-05-28",
              "Metric": "AAA",
              "Name": "Rory Bradt",
              "Percentage": 0.1688,
              "Type": "Individual"
             },
             {
              "Clinic": "FFMC",
              "Date": "2018-05-28",
              "Metric": "AAA",
              "Name": "Rebecca Brejcha",
              "Percentage": null,
              "Type": "Individual"
             },
             {
              "Clinic": "NSFM",
              "Date": "2018-05-28",
              "Metric": "AAA",
              "Name": "Lisa Brodsky",
              "Percentage": 0.1667,
              "Type": "Individual"
             },
             {
              "Clinic": "LFM",
              "Date": "2018-05-28",
              "Metric": "AAA",
              "Name": "Margaret Burden",
              "Percentage": 0.2,
              "Type": "Individual"
             },
             {
              "Clinic": "NCFP",
              "Date": "2018-05-28",
              "Metric": "AAA",
              "Name": "Erik Bylund",
              "Percentage": 0.7,
              "Type": "Individual"
             },
             {
              "Clinic": "LFM",
              "Date": "2018-05-28",
              "Metric": "AAA",
              "Name": "Robin Caldwell",
              "Percentage": 0.0746,
              "Type": "Individual"
             },
             {
              "Clinic": "NSFM",
              "Date": "2018-05-28",
              "Metric": "AAA",
              "Name": "William Eiford",
              "Percentage": null,
              "Type": "Individual"
             },
             {
              "Clinic": "NCFP",
              "Date": "2018-05-28",
              "Metric": "AAA",
              "Name": "Roger Estep",
              "Percentage": 0.2037,
              "Type": "Individual"
             },
             {
              "Clinic": "LFM",
              "Date": "2018-05-28",
              "Metric": "AAA",
              "Name": "Michael Fleming",
              "Percentage": 0.1707,
              "Type": "Individual"
             },
             {
              "Clinic": "NSFM",
              "Date": "2018-05-28",
              "Metric": "AAA",
              "Name": "Anneliese Floyd",
              "Percentage": 0.1538,
              "Type": "Individual"
             },
             {
              "Clinic": "BellB",
              "Date": "2018-05-28",
              "Metric": "AAA",
              "Name": "Laura Fox",
              "Percentage": 0.2632,
              "Type": "Individual"
             },
             {
              "Clinic": "FFMC",
              "Date": "2018-05-28",
              "Metric": "AAA",
              "Name": "Renay Fredette",
              "Percentage": 0.1538,
              "Type": "Individual"
             },
             {
              "Clinic": "NCFP",
              "Date": "2018-05-28",
              "Metric": "AAA",
              "Name": "Kay-Kay Gambs",
              "Percentage": 0.303,
              "Type": "Individual"
             },
             {
              "Clinic": "NCFP",
              "Date": "2018-05-28",
              "Metric": "AAA",
              "Name": "Jonathan Gamson",
              "Percentage": 0.4324,
              "Type": "Individual"
             },
             {
              "Clinic": "NSFM",
              "Date": "2018-05-28",
              "Metric": "AAA",
              "Name": "Elizabeth Gaylord",
              "Percentage": 0.5,
              "Type": "Individual"
             },
             {
              "Clinic": "IFP",
              "Date": "2018-05-28",
              "Metric": "AAA",
              "Name": "Karen Goodman",
              "Percentage": 0.3333,
              "Type": "Individual"
             },
             {
              "Clinic": "FHA",
              "Date": "2018-05-28",
              "Metric": "AAA",
              "Name": "Deborah Hall",
              "Percentage": 0.5556,
              "Type": "Individual"
             },
             {
              "Clinic": "NCFP",
              "Date": "2018-05-28",
              "Metric": "AAA",
              "Name": "Janet Hansom",
              "Percentage": 0.1176,
              "Type": "Individual"
             },
             {
              "Clinic": "LFM",
              "Date": "2018-05-28",
              "Metric": "AAA",
              "Name": "Larry Hartwell",
              "Percentage": 0.0556,
              "Type": "Individual"
             },
             {
              "Clinic": "SFM",
              "Date": "2018-05-28",
              "Metric": "AAA",
              "Name": "Shelby Hein",
              "Percentage": 0.1333,
              "Type": "Individual"
             },
             {
              "Clinic": "SFM",
              "Date": "2018-05-28",
              "Metric": "AAA",
              "Name": "Harry Herdman",
              "Percentage": 0.5227,
              "Type": "Individual"
             },
             {
              "Clinic": "NSFM",
              "Date": "2018-05-28",
              "Metric": "AAA",
              "Name": "Sarah Herman",
              "Percentage": null,
              "Type": "Individual"
             },
             {
              "Clinic": "LFM",
              "Date": "2018-05-28",
              "Metric": "AAA",
              "Name": "John Hiemstra",
              "Percentage": 0.2222,
              "Type": "Individual"
             },
             {
              "Clinic": "SFM",
              "Date": "2018-05-28",
              "Metric": "AAA",
              "Name": "Heather Honey",
              "Percentage": 0.3774,
              "Type": "Individual"
             },
             {
              "Clinic": "FHA",
              "Date": "2018-05-28",
              "Metric": "AAA",
              "Name": "Ryan Honey",
              "Percentage": 0.14,
              "Type": "Individual"
             },
             {
              "Clinic": "BellB",
              "Date": "2018-05-28",
              "Metric": "AAA",
              "Name": "Jim Hopper",
              "Percentage": 0.4355,
              "Type": "Individual"
             },
             {
              "Clinic": "FFMC",
              "Date": "2018-05-28",
              "Metric": "AAA",
              "Name": "John Hruby",
              "Percentage": 0.0875,
              "Type": "Individual"
             },
             {
              "Clinic": "FHA",
              "Date": "2018-05-28",
              "Metric": "AAA",
              "Name": "Kellie Jacobs",
              "Percentage": 0.0714,
              "Type": "Individual"
             },
             {
              "Clinic": "IFP",
              "Date": "2018-05-28",
              "Metric": "AAA",
              "Name": "Michael James",
              "Percentage": 0.1392,
              "Type": "Individual"
             },
             {
              "Clinic": "FHA",
              "Date": "2018-05-28",
              "Metric": "AAA",
              "Name": "Sharon Kerlin",
              "Percentage": null,
              "Type": "Individual"
             },
             {
              "Clinic": "BBFM",
              "Date": "2018-05-28",
              "Metric": "AAA",
              "Name": "Jessica Klassen",
              "Percentage": 0.193,
              "Type": "Individual"
             },
             {
              "Clinic": "FHA",
              "Date": "2018-05-28",
              "Metric": "AAA",
              "Name": "Meghan Lelonek",
              "Percentage": 0.2353,
              "Type": "Individual"
             },
             {
              "Clinic": "FFMC",
              "Date": "2018-05-28",
              "Metric": "AAA",
              "Name": "Stephen Lewis",
              "Percentage": 0.0496,
              "Type": "Individual"
             },
             {
              "Clinic": "FFMC",
              "Date": "2018-05-28",
              "Metric": "AAA",
              "Name": "Erin Maloney",
              "Percentage": null,
              "Type": "Individual"
             },
             {
              "Clinic": "NCFP",
              "Date": "2018-05-28",
              "Metric": "AAA",
              "Name": "Ross McConahey",
              "Percentage": null,
              "Type": "Individual"
             },
             {
              "Clinic": "NSFM",
              "Date": "2018-05-28",
              "Metric": "AAA",
              "Name": "Patrick McLaughlin",
              "Percentage": 0.3704,
              "Type": "Individual"
             },
             {
              "Clinic": "NCFP",
              "Date": "2018-05-28",
              "Metric": "AAA",
              "Name": "Sally McPherson",
              "Percentage": 0.3659,
              "Type": "Individual"
             },
             {
              "Clinic": "NCFP",
              "Date": "2018-05-28",
              "Metric": "AAA",
              "Name": "Lucia Muller",
              "Percentage": 0.6111,
              "Type": "Individual"
             },
             {
              "Clinic": "BellB",
              "Date": "2018-05-28",
              "Metric": "AAA",
              "Name": "Karen O’Keefe",
              "Percentage": 0.2,
              "Type": "Individual"
             },
             {
              "Clinic": "SFM",
              "Date": "2018-05-28",
              "Metric": "AAA",
              "Name": "Lillian Pavlik",
              "Percentage": null,
              "Type": "Individual"
             },
             {
              "Clinic": "LFM",
              "Date": "2018-05-28",
              "Metric": "AAA",
              "Name": "Patricia Payne-Zajac",
              "Percentage": 0.2381,
              "Type": "Individual"
             },
             {
              "Clinic": "NCFP",
              "Date": "2018-05-28",
              "Metric": "AAA",
              "Name": "Jonathan Ploudre",
              "Percentage": 0.4516,
              "Type": "Individual"
             },
             {
              "Clinic": "NSFM",
              "Date": "2018-05-28",
              "Metric": "AAA",
              "Name": "John Raduege",
              "Percentage": 0.5556,
              "Type": "Individual"
             },
             {
              "Clinic": "BBFM",
              "Date": "2018-05-28",
              "Metric": "AAA",
              "Name": "Teresa Regier",
              "Percentage": 0.1311,
              "Type": "Individual"
             },
             {
              "Clinic": "FFMC",
              "Date": "2018-05-28",
              "Metric": "AAA",
              "Name": "Claudia Rey",
              "Percentage": 0.125,
              "Type": "Individual"
             },
             {
              "Clinic": "IFP",
              "Date": "2018-05-28",
              "Metric": "AAA",
              "Name": "Robert Rieger",
              "Percentage": 0.339,
              "Type": "Individual"
             },
             {
              "Clinic": "SFM",
              "Date": "2018-05-28",
              "Metric": "AAA",
              "Name": "Deborah Roessler",
              "Percentage": 0.0435,
              "Type": "Individual"
             },
             {
              "Clinic": "FFMC",
              "Date": "2018-05-28",
              "Metric": "AAA",
              "Name": "Berdi Sanford",
              "Percentage": 0.2105,
              "Type": "Individual"
             },
             {
              "Clinic": "NCFP",
              "Date": "2018-05-28",
              "Metric": "AAA",
              "Name": "Lauren Sauve",
              "Percentage": 0.2727,
              "Type": "Individual"
             },
             {
              "Clinic": "BellB",
              "Date": "2018-05-28",
              "Metric": "AAA",
              "Name": "Melana Schimke",
              "Percentage": 0.2857,
              "Type": "Individual"
             },
             {
              "Clinic": "FHA",
              "Date": "2018-05-28",
              "Metric": "AAA",
              "Name": "Miriam Shapiro",
              "Percentage": 0.1875,
              "Type": "Individual"
             },
             {
              "Clinic": "NSFM",
              "Date": "2018-05-28",
              "Metric": "AAA",
              "Name": "Jason Short",
              "Percentage": 0.4476,
              "Type": "Individual"
             },
             {
              "Clinic": "NSFM",
              "Date": "2018-05-28",
              "Metric": "AAA",
              "Name": "Vicki Short",
              "Percentage": 0.3,
              "Type": "Individual"
             },
             {
              "Clinic": "LFM",
              "Date": "2018-05-28",
              "Metric": "AAA",
              "Name": "Ashley Snyder",
              "Percentage": 0.1538,
              "Type": "Individual"
             },
             {
              "Clinic": "FFMC",
              "Date": "2018-05-28",
              "Metric": "AAA",
              "Name": "Kalani Synder",
              "Percentage": 0.1167,
              "Type": "Individual"
             },
             {
              "Clinic": "NSFM",
              "Date": "2018-05-28",
              "Metric": "AAA",
              "Name": "Mary Swanson",
              "Percentage": 0.6923,
              "Type": "Individual"
             },
             {
              "Clinic": "IFP",
              "Date": "2018-05-28",
              "Metric": "AAA",
              "Name": "Magaret Sweeney",
              "Percentage": 0.4615,
              "Type": "Individual"
             },
             {
              "Clinic": "WFM",
              "Date": "2018-05-28",
              "Metric": "AAA",
              "Name": "Heather Thomson",
              "Percentage": 0.3333,
              "Type": "Individual"
             },
             {
              "Clinic": "BellB",
              "Date": "2018-05-28",
              "Metric": "AAA",
              "Name": "Lisa Van Hofwegen",
              "Percentage": 0.125,
              "Type": "Individual"
             },
             {
              "Clinic": "NSFM",
              "Date": "2018-05-28",
              "Metric": "AAA",
              "Name": "April Wakefield-Pagels",
              "Percentage": 0.5152,
              "Type": "Individual"
             },
             {
              "Clinic": "SFM",
              "Date": "2018-05-28",
              "Metric": "AAA",
              "Name": "Joy Welty",
              "Percentage": 0.2692,
              "Type": "Individual"
             },
             {
              "Clinic": "SFM",
              "Date": "2018-05-28",
              "Metric": "AAA",
              "Name": "Matt Werner",
              "Percentage": 0.3562,
              "Type": "Individual"
             },
             {
              "Clinic": "NCFP",
              "Date": "2018-05-28",
              "Metric": "AAA",
              "Name": "Sloane Winkes",
              "Percentage": 0.2,
              "Type": "Individual"
             },
             {
              "Clinic": "NSFM",
              "Date": "2018-05-28",
              "Metric": "AAA",
              "Name": "Ying Wu",
              "Percentage": 0.8072,
              "Type": "Individual"
             },
             {
              "Clinic": "FHA",
              "Date": "2018-05-28",
              "Metric": "AAA",
              "Name": "Ashley Yoder",
              "Percentage": null,
              "Type": "Individual"
             }
            ]
           },
           "encoding": {
            "y": {
             "axis": {
              "format": "%",
              "labels": false,
              "title": ""
             },
             "field": "Percentage",
             "scale": {
              "domain": [
               0,
               1
              ]
             },
             "type": "quantitative"
            }
           },
           "height": 200,
           "mark": {
            "color": "#eee",
            "type": "tick"
           }
          },
          {
           "data": {
            "values": [
             {
              "Clinic": "LFM",
              "Date": "2018-05-28",
              "Metric": "AAA",
              "Name": "Steven Alexander",
              "Percentage": 0.5484,
              "Type": "Individual"
             },
             {
              "Clinic": "BellB",
              "Date": "2018-05-28",
              "Metric": "AAA",
              "Name": "Greg Anderson",
              "Percentage": 0.7647,
              "Type": "Individual"
             },
             {
              "Clinic": "FHA",
              "Date": "2018-05-28",
              "Metric": "AAA",
              "Name": "Rodney Anderson",
              "Percentage": 0.7523,
              "Type": "Individual"
             },
             {
              "Clinic": "FFMC",
              "Date": "2018-05-28",
              "Metric": "AAA",
              "Name": "Jennifer Bates",
              "Percentage": 0.0909,
              "Type": "Individual"
             },
             {
              "Clinic": "WFM",
              "Date": "2018-05-28",
              "Metric": "AAA",
              "Name": "Shannon Billau",
              "Percentage": 0.0769,
              "Type": "Individual"
             },
             {
              "Clinic": "WFM",
              "Date": "2018-05-28",
              "Metric": "AAA",
              "Name": "Richard Binder",
              "Percentage": 0.7701,
              "Type": "Individual"
             },
             {
              "Clinic": "IFP",
              "Date": "2018-05-28",
              "Metric": "AAA",
              "Name": "Franklin Bjorseth",
              "Percentage": 0.4222,
              "Type": "Individual"
             },
             {
              "Clinic": "FHA",
              "Date": "2018-05-28",
              "Metric": "AAA",
              "Name": "Edward Bloom",
              "Percentage": 0.246,
              "Type": "Individual"
             },
             {
              "Clinic": "FHA",
              "Date": "2018-05-28",
              "Metric": "AAA",
              "Name": "Jessica Bloom",
              "Percentage": 0.5,
              "Type": "Individual"
             },
             {
              "Clinic": "WFM",
              "Date": "2018-05-28",
              "Metric": "AAA",
              "Name": "Steven Bloom",
              "Percentage": 0.0132,
              "Type": "Individual"
             },
             {
              "Clinic": "BellB",
              "Date": "2018-05-28",
              "Metric": "AAA",
              "Name": "Ian Bonner",
              "Percentage": 0.141,
              "Type": "Individual"
             },
             {
              "Clinic": "BellB",
              "Date": "2018-05-28",
              "Metric": "AAA",
              "Name": "Sara Bowling",
              "Percentage": 0.5172,
              "Type": "Individual"
             },
             {
              "Clinic": "NSFM",
              "Date": "2018-05-28",
              "Metric": "AAA",
              "Name": "Rory Bradt",
              "Percentage": 0.1688,
              "Type": "Individual"
             },
             {
              "Clinic": "FFMC",
              "Date": "2018-05-28",
              "Metric": "AAA",
              "Name": "Rebecca Brejcha",
              "Percentage": null,
              "Type": "Individual"
             },
             {
              "Clinic": "NSFM",
              "Date": "2018-05-28",
              "Metric": "AAA",
              "Name": "Lisa Brodsky",
              "Percentage": 0.1667,
              "Type": "Individual"
             },
             {
              "Clinic": "LFM",
              "Date": "2018-05-28",
              "Metric": "AAA",
              "Name": "Margaret Burden",
              "Percentage": 0.2,
              "Type": "Individual"
             },
             {
              "Clinic": "NCFP",
              "Date": "2018-05-28",
              "Metric": "AAA",
              "Name": "Erik Bylund",
              "Percentage": 0.7,
              "Type": "Individual"
             },
             {
              "Clinic": "LFM",
              "Date": "2018-05-28",
              "Metric": "AAA",
              "Name": "Robin Caldwell",
              "Percentage": 0.0746,
              "Type": "Individual"
             },
             {
              "Clinic": "NSFM",
              "Date": "2018-05-28",
              "Metric": "AAA",
              "Name": "William Eiford",
              "Percentage": null,
              "Type": "Individual"
             },
             {
              "Clinic": "NCFP",
              "Date": "2018-05-28",
              "Metric": "AAA",
              "Name": "Roger Estep",
              "Percentage": 0.2037,
              "Type": "Individual"
             },
             {
              "Clinic": "LFM",
              "Date": "2018-05-28",
              "Metric": "AAA",
              "Name": "Michael Fleming",
              "Percentage": 0.1707,
              "Type": "Individual"
             },
             {
              "Clinic": "NSFM",
              "Date": "2018-05-28",
              "Metric": "AAA",
              "Name": "Anneliese Floyd",
              "Percentage": 0.1538,
              "Type": "Individual"
             },
             {
              "Clinic": "BellB",
              "Date": "2018-05-28",
              "Metric": "AAA",
              "Name": "Laura Fox",
              "Percentage": 0.2632,
              "Type": "Individual"
             },
             {
              "Clinic": "FFMC",
              "Date": "2018-05-28",
              "Metric": "AAA",
              "Name": "Renay Fredette",
              "Percentage": 0.1538,
              "Type": "Individual"
             },
             {
              "Clinic": "NCFP",
              "Date": "2018-05-28",
              "Metric": "AAA",
              "Name": "Kay-Kay Gambs",
              "Percentage": 0.303,
              "Type": "Individual"
             },
             {
              "Clinic": "NCFP",
              "Date": "2018-05-28",
              "Metric": "AAA",
              "Name": "Jonathan Gamson",
              "Percentage": 0.4324,
              "Type": "Individual"
             },
             {
              "Clinic": "NSFM",
              "Date": "2018-05-28",
              "Metric": "AAA",
              "Name": "Elizabeth Gaylord",
              "Percentage": 0.5,
              "Type": "Individual"
             },
             {
              "Clinic": "IFP",
              "Date": "2018-05-28",
              "Metric": "AAA",
              "Name": "Karen Goodman",
              "Percentage": 0.3333,
              "Type": "Individual"
             },
             {
              "Clinic": "FHA",
              "Date": "2018-05-28",
              "Metric": "AAA",
              "Name": "Deborah Hall",
              "Percentage": 0.5556,
              "Type": "Individual"
             },
             {
              "Clinic": "NCFP",
              "Date": "2018-05-28",
              "Metric": "AAA",
              "Name": "Janet Hansom",
              "Percentage": 0.1176,
              "Type": "Individual"
             },
             {
              "Clinic": "LFM",
              "Date": "2018-05-28",
              "Metric": "AAA",
              "Name": "Larry Hartwell",
              "Percentage": 0.0556,
              "Type": "Individual"
             },
             {
              "Clinic": "SFM",
              "Date": "2018-05-28",
              "Metric": "AAA",
              "Name": "Shelby Hein",
              "Percentage": 0.1333,
              "Type": "Individual"
             },
             {
              "Clinic": "SFM",
              "Date": "2018-05-28",
              "Metric": "AAA",
              "Name": "Harry Herdman",
              "Percentage": 0.5227,
              "Type": "Individual"
             },
             {
              "Clinic": "NSFM",
              "Date": "2018-05-28",
              "Metric": "AAA",
              "Name": "Sarah Herman",
              "Percentage": null,
              "Type": "Individual"
             },
             {
              "Clinic": "LFM",
              "Date": "2018-05-28",
              "Metric": "AAA",
              "Name": "John Hiemstra",
              "Percentage": 0.2222,
              "Type": "Individual"
             },
             {
              "Clinic": "SFM",
              "Date": "2018-05-28",
              "Metric": "AAA",
              "Name": "Heather Honey",
              "Percentage": 0.3774,
              "Type": "Individual"
             },
             {
              "Clinic": "FHA",
              "Date": "2018-05-28",
              "Metric": "AAA",
              "Name": "Ryan Honey",
              "Percentage": 0.14,
              "Type": "Individual"
             },
             {
              "Clinic": "BellB",
              "Date": "2018-05-28",
              "Metric": "AAA",
              "Name": "Jim Hopper",
              "Percentage": 0.4355,
              "Type": "Individual"
             },
             {
              "Clinic": "FFMC",
              "Date": "2018-05-28",
              "Metric": "AAA",
              "Name": "John Hruby",
              "Percentage": 0.0875,
              "Type": "Individual"
             },
             {
              "Clinic": "FHA",
              "Date": "2018-05-28",
              "Metric": "AAA",
              "Name": "Kellie Jacobs",
              "Percentage": 0.0714,
              "Type": "Individual"
             },
             {
              "Clinic": "IFP",
              "Date": "2018-05-28",
              "Metric": "AAA",
              "Name": "Michael James",
              "Percentage": 0.1392,
              "Type": "Individual"
             },
             {
              "Clinic": "FHA",
              "Date": "2018-05-28",
              "Metric": "AAA",
              "Name": "Sharon Kerlin",
              "Percentage": null,
              "Type": "Individual"
             },
             {
              "Clinic": "BBFM",
              "Date": "2018-05-28",
              "Metric": "AAA",
              "Name": "Jessica Klassen",
              "Percentage": 0.193,
              "Type": "Individual"
             },
             {
              "Clinic": "FHA",
              "Date": "2018-05-28",
              "Metric": "AAA",
              "Name": "Meghan Lelonek",
              "Percentage": 0.2353,
              "Type": "Individual"
             },
             {
              "Clinic": "FFMC",
              "Date": "2018-05-28",
              "Metric": "AAA",
              "Name": "Stephen Lewis",
              "Percentage": 0.0496,
              "Type": "Individual"
             },
             {
              "Clinic": "FFMC",
              "Date": "2018-05-28",
              "Metric": "AAA",
              "Name": "Erin Maloney",
              "Percentage": null,
              "Type": "Individual"
             },
             {
              "Clinic": "NCFP",
              "Date": "2018-05-28",
              "Metric": "AAA",
              "Name": "Ross McConahey",
              "Percentage": null,
              "Type": "Individual"
             },
             {
              "Clinic": "NSFM",
              "Date": "2018-05-28",
              "Metric": "AAA",
              "Name": "Patrick McLaughlin",
              "Percentage": 0.3704,
              "Type": "Individual"
             },
             {
              "Clinic": "NCFP",
              "Date": "2018-05-28",
              "Metric": "AAA",
              "Name": "Sally McPherson",
              "Percentage": 0.3659,
              "Type": "Individual"
             },
             {
              "Clinic": "NCFP",
              "Date": "2018-05-28",
              "Metric": "AAA",
              "Name": "Lucia Muller",
              "Percentage": 0.6111,
              "Type": "Individual"
             },
             {
              "Clinic": "BellB",
              "Date": "2018-05-28",
              "Metric": "AAA",
              "Name": "Karen O’Keefe",
              "Percentage": 0.2,
              "Type": "Individual"
             },
             {
              "Clinic": "SFM",
              "Date": "2018-05-28",
              "Metric": "AAA",
              "Name": "Lillian Pavlik",
              "Percentage": null,
              "Type": "Individual"
             },
             {
              "Clinic": "LFM",
              "Date": "2018-05-28",
              "Metric": "AAA",
              "Name": "Patricia Payne-Zajac",
              "Percentage": 0.2381,
              "Type": "Individual"
             },
             {
              "Clinic": "NCFP",
              "Date": "2018-05-28",
              "Metric": "AAA",
              "Name": "Jonathan Ploudre",
              "Percentage": 0.4516,
              "Type": "Individual"
             },
             {
              "Clinic": "NSFM",
              "Date": "2018-05-28",
              "Metric": "AAA",
              "Name": "John Raduege",
              "Percentage": 0.5556,
              "Type": "Individual"
             },
             {
              "Clinic": "BBFM",
              "Date": "2018-05-28",
              "Metric": "AAA",
              "Name": "Teresa Regier",
              "Percentage": 0.1311,
              "Type": "Individual"
             },
             {
              "Clinic": "FFMC",
              "Date": "2018-05-28",
              "Metric": "AAA",
              "Name": "Claudia Rey",
              "Percentage": 0.125,
              "Type": "Individual"
             },
             {
              "Clinic": "IFP",
              "Date": "2018-05-28",
              "Metric": "AAA",
              "Name": "Robert Rieger",
              "Percentage": 0.339,
              "Type": "Individual"
             },
             {
              "Clinic": "SFM",
              "Date": "2018-05-28",
              "Metric": "AAA",
              "Name": "Deborah Roessler",
              "Percentage": 0.0435,
              "Type": "Individual"
             },
             {
              "Clinic": "FFMC",
              "Date": "2018-05-28",
              "Metric": "AAA",
              "Name": "Berdi Sanford",
              "Percentage": 0.2105,
              "Type": "Individual"
             },
             {
              "Clinic": "NCFP",
              "Date": "2018-05-28",
              "Metric": "AAA",
              "Name": "Lauren Sauve",
              "Percentage": 0.2727,
              "Type": "Individual"
             },
             {
              "Clinic": "BellB",
              "Date": "2018-05-28",
              "Metric": "AAA",
              "Name": "Melana Schimke",
              "Percentage": 0.2857,
              "Type": "Individual"
             },
             {
              "Clinic": "FHA",
              "Date": "2018-05-28",
              "Metric": "AAA",
              "Name": "Miriam Shapiro",
              "Percentage": 0.1875,
              "Type": "Individual"
             },
             {
              "Clinic": "NSFM",
              "Date": "2018-05-28",
              "Metric": "AAA",
              "Name": "Jason Short",
              "Percentage": 0.4476,
              "Type": "Individual"
             },
             {
              "Clinic": "NSFM",
              "Date": "2018-05-28",
              "Metric": "AAA",
              "Name": "Vicki Short",
              "Percentage": 0.3,
              "Type": "Individual"
             },
             {
              "Clinic": "LFM",
              "Date": "2018-05-28",
              "Metric": "AAA",
              "Name": "Ashley Snyder",
              "Percentage": 0.1538,
              "Type": "Individual"
             },
             {
              "Clinic": "FFMC",
              "Date": "2018-05-28",
              "Metric": "AAA",
              "Name": "Kalani Synder",
              "Percentage": 0.1167,
              "Type": "Individual"
             },
             {
              "Clinic": "NSFM",
              "Date": "2018-05-28",
              "Metric": "AAA",
              "Name": "Mary Swanson",
              "Percentage": 0.6923,
              "Type": "Individual"
             },
             {
              "Clinic": "IFP",
              "Date": "2018-05-28",
              "Metric": "AAA",
              "Name": "Magaret Sweeney",
              "Percentage": 0.4615,
              "Type": "Individual"
             },
             {
              "Clinic": "WFM",
              "Date": "2018-05-28",
              "Metric": "AAA",
              "Name": "Heather Thomson",
              "Percentage": 0.3333,
              "Type": "Individual"
             },
             {
              "Clinic": "BellB",
              "Date": "2018-05-28",
              "Metric": "AAA",
              "Name": "Lisa Van Hofwegen",
              "Percentage": 0.125,
              "Type": "Individual"
             },
             {
              "Clinic": "NSFM",
              "Date": "2018-05-28",
              "Metric": "AAA",
              "Name": "April Wakefield-Pagels",
              "Percentage": 0.5152,
              "Type": "Individual"
             },
             {
              "Clinic": "SFM",
              "Date": "2018-05-28",
              "Metric": "AAA",
              "Name": "Joy Welty",
              "Percentage": 0.2692,
              "Type": "Individual"
             },
             {
              "Clinic": "SFM",
              "Date": "2018-05-28",
              "Metric": "AAA",
              "Name": "Matt Werner",
              "Percentage": 0.3562,
              "Type": "Individual"
             },
             {
              "Clinic": "NCFP",
              "Date": "2018-05-28",
              "Metric": "AAA",
              "Name": "Sloane Winkes",
              "Percentage": 0.2,
              "Type": "Individual"
             },
             {
              "Clinic": "NSFM",
              "Date": "2018-05-28",
              "Metric": "AAA",
              "Name": "Ying Wu",
              "Percentage": 0.8072,
              "Type": "Individual"
             },
             {
              "Clinic": "FHA",
              "Date": "2018-05-28",
              "Metric": "AAA",
              "Name": "Ashley Yoder",
              "Percentage": null,
              "Type": "Individual"
             }
            ]
           },
           "encoding": {
            "y": {
             "field": "Percentage",
             "type": "quantitative"
            }
           },
           "mark": "tick",
           "transform": [
            {
             "filter": {
              "equal": "Robert Rieger",
              "field": "Name"
             }
            }
           ]
          },
          {
           "data": {
            "values": [
             {
              "Clinic": "LFM",
              "Date": "2018-05-28",
              "Metric": "AAA",
              "Name": "Steven Alexander",
              "Percentage": 0.5484,
              "Type": "Individual"
             },
             {
              "Clinic": "BellB",
              "Date": "2018-05-28",
              "Metric": "AAA",
              "Name": "Greg Anderson",
              "Percentage": 0.7647,
              "Type": "Individual"
             },
             {
              "Clinic": "FHA",
              "Date": "2018-05-28",
              "Metric": "AAA",
              "Name": "Rodney Anderson",
              "Percentage": 0.7523,
              "Type": "Individual"
             },
             {
              "Clinic": "FFMC",
              "Date": "2018-05-28",
              "Metric": "AAA",
              "Name": "Jennifer Bates",
              "Percentage": 0.0909,
              "Type": "Individual"
             },
             {
              "Clinic": "WFM",
              "Date": "2018-05-28",
              "Metric": "AAA",
              "Name": "Shannon Billau",
              "Percentage": 0.0769,
              "Type": "Individual"
             },
             {
              "Clinic": "WFM",
              "Date": "2018-05-28",
              "Metric": "AAA",
              "Name": "Richard Binder",
              "Percentage": 0.7701,
              "Type": "Individual"
             },
             {
              "Clinic": "IFP",
              "Date": "2018-05-28",
              "Metric": "AAA",
              "Name": "Franklin Bjorseth",
              "Percentage": 0.4222,
              "Type": "Individual"
             },
             {
              "Clinic": "FHA",
              "Date": "2018-05-28",
              "Metric": "AAA",
              "Name": "Edward Bloom",
              "Percentage": 0.246,
              "Type": "Individual"
             },
             {
              "Clinic": "FHA",
              "Date": "2018-05-28",
              "Metric": "AAA",
              "Name": "Jessica Bloom",
              "Percentage": 0.5,
              "Type": "Individual"
             },
             {
              "Clinic": "WFM",
              "Date": "2018-05-28",
              "Metric": "AAA",
              "Name": "Steven Bloom",
              "Percentage": 0.0132,
              "Type": "Individual"
             },
             {
              "Clinic": "BellB",
              "Date": "2018-05-28",
              "Metric": "AAA",
              "Name": "Ian Bonner",
              "Percentage": 0.141,
              "Type": "Individual"
             },
             {
              "Clinic": "BellB",
              "Date": "2018-05-28",
              "Metric": "AAA",
              "Name": "Sara Bowling",
              "Percentage": 0.5172,
              "Type": "Individual"
             },
             {
              "Clinic": "NSFM",
              "Date": "2018-05-28",
              "Metric": "AAA",
              "Name": "Rory Bradt",
              "Percentage": 0.1688,
              "Type": "Individual"
             },
             {
              "Clinic": "FFMC",
              "Date": "2018-05-28",
              "Metric": "AAA",
              "Name": "Rebecca Brejcha",
              "Percentage": null,
              "Type": "Individual"
             },
             {
              "Clinic": "NSFM",
              "Date": "2018-05-28",
              "Metric": "AAA",
              "Name": "Lisa Brodsky",
              "Percentage": 0.1667,
              "Type": "Individual"
             },
             {
              "Clinic": "LFM",
              "Date": "2018-05-28",
              "Metric": "AAA",
              "Name": "Margaret Burden",
              "Percentage": 0.2,
              "Type": "Individual"
             },
             {
              "Clinic": "NCFP",
              "Date": "2018-05-28",
              "Metric": "AAA",
              "Name": "Erik Bylund",
              "Percentage": 0.7,
              "Type": "Individual"
             },
             {
              "Clinic": "LFM",
              "Date": "2018-05-28",
              "Metric": "AAA",
              "Name": "Robin Caldwell",
              "Percentage": 0.0746,
              "Type": "Individual"
             },
             {
              "Clinic": "NSFM",
              "Date": "2018-05-28",
              "Metric": "AAA",
              "Name": "William Eiford",
              "Percentage": null,
              "Type": "Individual"
             },
             {
              "Clinic": "NCFP",
              "Date": "2018-05-28",
              "Metric": "AAA",
              "Name": "Roger Estep",
              "Percentage": 0.2037,
              "Type": "Individual"
             },
             {
              "Clinic": "LFM",
              "Date": "2018-05-28",
              "Metric": "AAA",
              "Name": "Michael Fleming",
              "Percentage": 0.1707,
              "Type": "Individual"
             },
             {
              "Clinic": "NSFM",
              "Date": "2018-05-28",
              "Metric": "AAA",
              "Name": "Anneliese Floyd",
              "Percentage": 0.1538,
              "Type": "Individual"
             },
             {
              "Clinic": "BellB",
              "Date": "2018-05-28",
              "Metric": "AAA",
              "Name": "Laura Fox",
              "Percentage": 0.2632,
              "Type": "Individual"
             },
             {
              "Clinic": "FFMC",
              "Date": "2018-05-28",
              "Metric": "AAA",
              "Name": "Renay Fredette",
              "Percentage": 0.1538,
              "Type": "Individual"
             },
             {
              "Clinic": "NCFP",
              "Date": "2018-05-28",
              "Metric": "AAA",
              "Name": "Kay-Kay Gambs",
              "Percentage": 0.303,
              "Type": "Individual"
             },
             {
              "Clinic": "NCFP",
              "Date": "2018-05-28",
              "Metric": "AAA",
              "Name": "Jonathan Gamson",
              "Percentage": 0.4324,
              "Type": "Individual"
             },
             {
              "Clinic": "NSFM",
              "Date": "2018-05-28",
              "Metric": "AAA",
              "Name": "Elizabeth Gaylord",
              "Percentage": 0.5,
              "Type": "Individual"
             },
             {
              "Clinic": "IFP",
              "Date": "2018-05-28",
              "Metric": "AAA",
              "Name": "Karen Goodman",
              "Percentage": 0.3333,
              "Type": "Individual"
             },
             {
              "Clinic": "FHA",
              "Date": "2018-05-28",
              "Metric": "AAA",
              "Name": "Deborah Hall",
              "Percentage": 0.5556,
              "Type": "Individual"
             },
             {
              "Clinic": "NCFP",
              "Date": "2018-05-28",
              "Metric": "AAA",
              "Name": "Janet Hansom",
              "Percentage": 0.1176,
              "Type": "Individual"
             },
             {
              "Clinic": "LFM",
              "Date": "2018-05-28",
              "Metric": "AAA",
              "Name": "Larry Hartwell",
              "Percentage": 0.0556,
              "Type": "Individual"
             },
             {
              "Clinic": "SFM",
              "Date": "2018-05-28",
              "Metric": "AAA",
              "Name": "Shelby Hein",
              "Percentage": 0.1333,
              "Type": "Individual"
             },
             {
              "Clinic": "SFM",
              "Date": "2018-05-28",
              "Metric": "AAA",
              "Name": "Harry Herdman",
              "Percentage": 0.5227,
              "Type": "Individual"
             },
             {
              "Clinic": "NSFM",
              "Date": "2018-05-28",
              "Metric": "AAA",
              "Name": "Sarah Herman",
              "Percentage": null,
              "Type": "Individual"
             },
             {
              "Clinic": "LFM",
              "Date": "2018-05-28",
              "Metric": "AAA",
              "Name": "John Hiemstra",
              "Percentage": 0.2222,
              "Type": "Individual"
             },
             {
              "Clinic": "SFM",
              "Date": "2018-05-28",
              "Metric": "AAA",
              "Name": "Heather Honey",
              "Percentage": 0.3774,
              "Type": "Individual"
             },
             {
              "Clinic": "FHA",
              "Date": "2018-05-28",
              "Metric": "AAA",
              "Name": "Ryan Honey",
              "Percentage": 0.14,
              "Type": "Individual"
             },
             {
              "Clinic": "BellB",
              "Date": "2018-05-28",
              "Metric": "AAA",
              "Name": "Jim Hopper",
              "Percentage": 0.4355,
              "Type": "Individual"
             },
             {
              "Clinic": "FFMC",
              "Date": "2018-05-28",
              "Metric": "AAA",
              "Name": "John Hruby",
              "Percentage": 0.0875,
              "Type": "Individual"
             },
             {
              "Clinic": "FHA",
              "Date": "2018-05-28",
              "Metric": "AAA",
              "Name": "Kellie Jacobs",
              "Percentage": 0.0714,
              "Type": "Individual"
             },
             {
              "Clinic": "IFP",
              "Date": "2018-05-28",
              "Metric": "AAA",
              "Name": "Michael James",
              "Percentage": 0.1392,
              "Type": "Individual"
             },
             {
              "Clinic": "FHA",
              "Date": "2018-05-28",
              "Metric": "AAA",
              "Name": "Sharon Kerlin",
              "Percentage": null,
              "Type": "Individual"
             },
             {
              "Clinic": "BBFM",
              "Date": "2018-05-28",
              "Metric": "AAA",
              "Name": "Jessica Klassen",
              "Percentage": 0.193,
              "Type": "Individual"
             },
             {
              "Clinic": "FHA",
              "Date": "2018-05-28",
              "Metric": "AAA",
              "Name": "Meghan Lelonek",
              "Percentage": 0.2353,
              "Type": "Individual"
             },
             {
              "Clinic": "FFMC",
              "Date": "2018-05-28",
              "Metric": "AAA",
              "Name": "Stephen Lewis",
              "Percentage": 0.0496,
              "Type": "Individual"
             },
             {
              "Clinic": "FFMC",
              "Date": "2018-05-28",
              "Metric": "AAA",
              "Name": "Erin Maloney",
              "Percentage": null,
              "Type": "Individual"
             },
             {
              "Clinic": "NCFP",
              "Date": "2018-05-28",
              "Metric": "AAA",
              "Name": "Ross McConahey",
              "Percentage": null,
              "Type": "Individual"
             },
             {
              "Clinic": "NSFM",
              "Date": "2018-05-28",
              "Metric": "AAA",
              "Name": "Patrick McLaughlin",
              "Percentage": 0.3704,
              "Type": "Individual"
             },
             {
              "Clinic": "NCFP",
              "Date": "2018-05-28",
              "Metric": "AAA",
              "Name": "Sally McPherson",
              "Percentage": 0.3659,
              "Type": "Individual"
             },
             {
              "Clinic": "NCFP",
              "Date": "2018-05-28",
              "Metric": "AAA",
              "Name": "Lucia Muller",
              "Percentage": 0.6111,
              "Type": "Individual"
             },
             {
              "Clinic": "BellB",
              "Date": "2018-05-28",
              "Metric": "AAA",
              "Name": "Karen O’Keefe",
              "Percentage": 0.2,
              "Type": "Individual"
             },
             {
              "Clinic": "SFM",
              "Date": "2018-05-28",
              "Metric": "AAA",
              "Name": "Lillian Pavlik",
              "Percentage": null,
              "Type": "Individual"
             },
             {
              "Clinic": "LFM",
              "Date": "2018-05-28",
              "Metric": "AAA",
              "Name": "Patricia Payne-Zajac",
              "Percentage": 0.2381,
              "Type": "Individual"
             },
             {
              "Clinic": "NCFP",
              "Date": "2018-05-28",
              "Metric": "AAA",
              "Name": "Jonathan Ploudre",
              "Percentage": 0.4516,
              "Type": "Individual"
             },
             {
              "Clinic": "NSFM",
              "Date": "2018-05-28",
              "Metric": "AAA",
              "Name": "John Raduege",
              "Percentage": 0.5556,
              "Type": "Individual"
             },
             {
              "Clinic": "BBFM",
              "Date": "2018-05-28",
              "Metric": "AAA",
              "Name": "Teresa Regier",
              "Percentage": 0.1311,
              "Type": "Individual"
             },
             {
              "Clinic": "FFMC",
              "Date": "2018-05-28",
              "Metric": "AAA",
              "Name": "Claudia Rey",
              "Percentage": 0.125,
              "Type": "Individual"
             },
             {
              "Clinic": "IFP",
              "Date": "2018-05-28",
              "Metric": "AAA",
              "Name": "Robert Rieger",
              "Percentage": 0.339,
              "Type": "Individual"
             },
             {
              "Clinic": "SFM",
              "Date": "2018-05-28",
              "Metric": "AAA",
              "Name": "Deborah Roessler",
              "Percentage": 0.0435,
              "Type": "Individual"
             },
             {
              "Clinic": "FFMC",
              "Date": "2018-05-28",
              "Metric": "AAA",
              "Name": "Berdi Sanford",
              "Percentage": 0.2105,
              "Type": "Individual"
             },
             {
              "Clinic": "NCFP",
              "Date": "2018-05-28",
              "Metric": "AAA",
              "Name": "Lauren Sauve",
              "Percentage": 0.2727,
              "Type": "Individual"
             },
             {
              "Clinic": "BellB",
              "Date": "2018-05-28",
              "Metric": "AAA",
              "Name": "Melana Schimke",
              "Percentage": 0.2857,
              "Type": "Individual"
             },
             {
              "Clinic": "FHA",
              "Date": "2018-05-28",
              "Metric": "AAA",
              "Name": "Miriam Shapiro",
              "Percentage": 0.1875,
              "Type": "Individual"
             },
             {
              "Clinic": "NSFM",
              "Date": "2018-05-28",
              "Metric": "AAA",
              "Name": "Jason Short",
              "Percentage": 0.4476,
              "Type": "Individual"
             },
             {
              "Clinic": "NSFM",
              "Date": "2018-05-28",
              "Metric": "AAA",
              "Name": "Vicki Short",
              "Percentage": 0.3,
              "Type": "Individual"
             },
             {
              "Clinic": "LFM",
              "Date": "2018-05-28",
              "Metric": "AAA",
              "Name": "Ashley Snyder",
              "Percentage": 0.1538,
              "Type": "Individual"
             },
             {
              "Clinic": "FFMC",
              "Date": "2018-05-28",
              "Metric": "AAA",
              "Name": "Kalani Synder",
              "Percentage": 0.1167,
              "Type": "Individual"
             },
             {
              "Clinic": "NSFM",
              "Date": "2018-05-28",
              "Metric": "AAA",
              "Name": "Mary Swanson",
              "Percentage": 0.6923,
              "Type": "Individual"
             },
             {
              "Clinic": "IFP",
              "Date": "2018-05-28",
              "Metric": "AAA",
              "Name": "Magaret Sweeney",
              "Percentage": 0.4615,
              "Type": "Individual"
             },
             {
              "Clinic": "WFM",
              "Date": "2018-05-28",
              "Metric": "AAA",
              "Name": "Heather Thomson",
              "Percentage": 0.3333,
              "Type": "Individual"
             },
             {
              "Clinic": "BellB",
              "Date": "2018-05-28",
              "Metric": "AAA",
              "Name": "Lisa Van Hofwegen",
              "Percentage": 0.125,
              "Type": "Individual"
             },
             {
              "Clinic": "NSFM",
              "Date": "2018-05-28",
              "Metric": "AAA",
              "Name": "April Wakefield-Pagels",
              "Percentage": 0.5152,
              "Type": "Individual"
             },
             {
              "Clinic": "SFM",
              "Date": "2018-05-28",
              "Metric": "AAA",
              "Name": "Joy Welty",
              "Percentage": 0.2692,
              "Type": "Individual"
             },
             {
              "Clinic": "SFM",
              "Date": "2018-05-28",
              "Metric": "AAA",
              "Name": "Matt Werner",
              "Percentage": 0.3562,
              "Type": "Individual"
             },
             {
              "Clinic": "NCFP",
              "Date": "2018-05-28",
              "Metric": "AAA",
              "Name": "Sloane Winkes",
              "Percentage": 0.2,
              "Type": "Individual"
             },
             {
              "Clinic": "NSFM",
              "Date": "2018-05-28",
              "Metric": "AAA",
              "Name": "Ying Wu",
              "Percentage": 0.8072,
              "Type": "Individual"
             },
             {
              "Clinic": "FHA",
              "Date": "2018-05-28",
              "Metric": "AAA",
              "Name": "Ashley Yoder",
              "Percentage": null,
              "Type": "Individual"
             }
            ]
           },
           "encoding": {
            "text": {
             "field": "Percentage",
             "format": ".2%",
             "type": "quantitative"
            },
            "y": {
             "field": "Percentage",
             "type": "quantitative"
            }
           },
           "mark": {
            "align": "left",
            "baseline": "middle",
            "dx": 15,
            "size": 20,
            "type": "text"
           },
           "transform": [
            {
             "filter": {
              "equal": "Robert Rieger",
              "field": "Name"
             }
            },
            {
             "filter": {
              "equal": "Robert Rieger",
              "field": "Name"
             }
            }
           ]
          }
         ]
        }
       ]
      },
      "image/png": "[encoded data removed]",
      "text/plain": [
       "<VegaLite 2 object>\n",
       "\n",
       "If you see this message, it means the renderer has not been properly enabled\n",
       "for the frontend that you are using. For more information, see\n",
       "https://altair-viz.github.io/user_guide/troubleshooting.html\n"
      ]
     },
     "execution_count": 60,
     "metadata": {},
     "output_type": "execute_result"
    }
   ],
   "source": [
    "metric = 'AAA'\n",
    "name = 'Robert Rieger'\n",
    "chart = make_individual_metric_chart(metric, name)\n",
    "chart"
   ]
  },
  {
   "cell_type": "code",
   "execution_count": null,
   "metadata": {},
   "outputs": [],
   "source": []
  }
 ],
 "metadata": {
  "kernelspec": {
   "display_name": "Python 3",
   "language": "python",
   "name": "python3"
  },
  "language_info": {
   "codemirror_mode": {
    "name": "ipython",
    "version": 3
   },
   "file_extension": ".py",
   "mimetype": "text/x-python",
   "name": "python",
   "nbconvert_exporter": "python",
   "pygments_lexer": "ipython3",
   "version": "3.6.4"
  }
 },
 "nbformat": 4,
 "nbformat_minor": 2
}
