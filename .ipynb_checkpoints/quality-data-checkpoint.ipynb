{
 "cells": [
  {
   "cell_type": "markdown",
   "metadata": {},
   "source": [
    "# Initial Imports & Setup"
   ]
  },
  {
   "cell_type": "code",
   "execution_count": 2,
   "metadata": {},
   "outputs": [],
   "source": [
    "# Data Science Modules\n",
    "import numpy as np\n",
    "import pandas as pd\n",
    "import altair as alt\n",
    "\n",
    "# Python Modules\n",
    "import glob as glob\n",
    "import shutil\n",
    "import os\n",
    "import datetime as datetime"
   ]
  },
  {
   "cell_type": "markdown",
   "metadata": {},
   "source": [
    "# Lookup Data\n",
    "\n",
    "* **./files/names.csv**: CSV File with Provider/Clinic Names, etc. Names is used to determine active providers/clinics. (So if there's no name, it wont get evaluated later -- say, for example, after Everson Closes.)\n",
    "* **./files/metrics.csv**: CSV File with Metrics information (Display Name, Category, Target, etc.)"
   ]
  },
  {
   "cell_type": "code",
   "execution_count": 4,
   "metadata": {},
   "outputs": [],
   "source": [
    "# Read Lookup files into dataframes for mapping\n",
    "names = pd.read_csv('./files/names.csv', index_col='MeridiosName')\n",
    "metrics = pd.read_csv('./files/metrics.csv', index_col='MeridiosMetric', dtype={'MeridiosMetric':object})"
   ]
  },
  {
   "cell_type": "markdown",
   "metadata": {},
   "source": [
    "# Import Data from /data folder.\n",
    "\n",
    "* **./data/(Zero-Padded Date at beginning of CSVs from Meridos).csv**: Files from Automatic weekly report from Meridios"
   ]
  },
  {
   "cell_type": "code",
   "execution_count": 5,
   "metadata": {},
   "outputs": [],
   "source": [
    "# The base dataframe, df, get's transformed into different data subsets. \n",
    "df = pd.DataFrame()\n",
    "\n",
    "# Read in all the data files and append to dataframe\n",
    "files = glob.glob('./data/*.csv')\n",
    "for file in files:\n",
    "    filedf = pd.read_csv(file,\n",
    "                        usecols=[\"NAME\",\"Metricname\",\"SeenNum\",\"SeenDenom\"])\n",
    "    # Prettier Names but we'll drop these eventually.\n",
    "    filedf = filedf.rename(columns={'NAME': 'MeridiosName',\n",
    "                                    'Metricname': 'MeridiosMetric',\n",
    "                                    'SeenNum': 'Numerator', \n",
    "                                    'SeenDenom': 'Denominator'})\n",
    "\n",
    "    # Add Lookup Columns.\n",
    "    filedf['Name'] = filedf.MeridiosName.map(names.Name)\n",
    "    filedf['Type'] = filedf.MeridiosName.map(names.Type)\n",
    "    filedf['Clinic'] = filedf.MeridiosName.map(names.Clinic)\n",
    "    filedf['Metric'] = filedf.MeridiosMetric.map(metrics.Metric)\n",
    "    \n",
    "    # Who are we kidding with precision? Round to Basis points\n",
    "    # Not actually percentage (but rather than * 100 leaving for formatting\n",
    "    # in visualization.)\n",
    "    filedf['Percentage'] = round(filedf['Numerator'] / filedf['Denominator'], 4)\n",
    "\n",
    "    # Zero Padded Dates with Dots. Like: \"03.15.2018\" We're using the filename\n",
    "    # as the source of the date column because Meridios exports haven't always \n",
    "    # had the date-time data correct. \n",
    "    filename_parts = file[7:-4].split(' ')\n",
    "    if (len(str(filename_parts[0])) is 10):\n",
    "        filedf['Date'] = datetime.datetime.strptime(filename_parts[0], \"%m.%d.%Y\")\n",
    "\n",
    "        # Now delete the 'raw' columns from import\n",
    "        filedf.drop([\"MeridiosName\",\"MeridiosMetric\",\"Numerator\",\"Denominator\"], axis=1, inplace=True)\n",
    "\n",
    "        # We're only appending data that had Zero Padded Date at \n",
    "        # beginning of filename.\n",
    "        df = df.append(filedf) \n",
    "    else:\n",
    "        print(\"CSV Data File doesn't have Zero-Padded Date at beginning.\")\n",
    "        \n",
    "# We can inspect dataframe different ways        \n",
    "#df.dtypes\n",
    "#df.info()\n",
    "#df.describe()\n",
    "#df.columns\n",
    "#df.Metric.unique()\n",
    "#df.head()\n",
    "#metrics.head()"
   ]
  },
  {
   "cell_type": "markdown",
   "metadata": {},
   "source": [
    "## Validations:\n",
    "\n",
    "* Do new CSV files include new MeridiosName, New Metric items? (Has the underlying report changed? Such as when edited provider name.)\n",
    "* Should we keep a list of already imported data and do some message to clarify after new data is available?\n",
    "* Percentages under 0% and over 100% are report errors\n",
    "\n",
    "Currently no validations. But probably should automate checks that new data from report is accurate. "
   ]
  },
  {
   "cell_type": "markdown",
   "metadata": {},
   "source": [
    "# Altair Graphs\n",
    "\n",
    "make_individual_metric_chart makes a layered chart with the individuals recent progress, their clinic's progress, and how it's currently distributed in FCN. Assumes that dataframes names & metrics exists.  "
   ]
  },
  {
   "cell_type": "code",
   "execution_count": 6,
   "metadata": {},
   "outputs": [],
   "source": [
    "def make_individual_metric_chart(metric, name):\n",
    "    # Data Transformations in Pandas for graphs.\n",
    "    # assumes dataframe 'df' that has data from CSVs\n",
    "    # assumes dataframes 'names' and 'metrics' for lookups\n",
    "    providerdf = df[(df['Metric']==metric) & \n",
    "                    (df['Type']=='Individual') &\n",
    "                    (df['Name']==name)]\n",
    "    \n",
    "    clinic_name = names[names.Name == name].iloc[0].Clinic\n",
    "\n",
    "    clinicdf = df[(df['Metric']==metric) & \n",
    "                    (df['Name']==clinic_name)]\n",
    "\n",
    "    combodf = pd.concat([providerdf, clinicdf])\n",
    "\n",
    "    current_date = max(df['Date'])\n",
    "    current_metric = df[(df['Metric']==metric) & \n",
    "                        (df['Type']=='Individual') &\n",
    "                        (df['Date']==current_date)]\n",
    "\n",
    "    # Altair Graphs to combine.\n",
    "    progress_line = alt.Chart(combodf\n",
    "        ).mark_line(\n",
    "        ).encode(\n",
    "            alt.X('Date:T', title=\"\"),\n",
    "            alt.Y('Percentage:Q', axis=alt.Axis(format=\"%\", title=\"\"), \n",
    "                  scale=alt.Scale(domain=(0, 1))),\n",
    "            alt.Color('Name:N', legend=alt.Legend(title=\"\", orient=\"bottom-left\"))\n",
    "        ).properties(\n",
    "            width=200,\n",
    "            height=200,\n",
    "        )\n",
    "\n",
    "    fcn_current_strip_chart = alt.Chart(current_metric\n",
    "        ).mark_tick(\n",
    "            color='#eee',\n",
    "        ).encode(\n",
    "            alt.Y('Percentage:Q', axis=alt.Axis(format=\"%\", title=\"\", labels=False,),\n",
    "                 scale=alt.Scale(domain=(0, 1))),\n",
    "        ).properties(\n",
    "            height=200,\n",
    "        )\n",
    "\n",
    "\n",
    "    provider_highlight_strip = alt.Chart(current_metric\n",
    "        ).mark_tick(\n",
    "        ).encode(\n",
    "            alt.Y('Percentage:Q')\n",
    "        ).transform_filter(\n",
    "        alt.FieldEqualPredicate(field='Name', equal=name)\n",
    "        )\n",
    "\n",
    "    provider_percent = provider_highlight_strip.mark_text(\n",
    "        align='left',\n",
    "        baseline='middle',\n",
    "        dx=15,\n",
    "        size=20,\n",
    "        ).encode(\n",
    "            text=alt.Text('Percentage:Q', format='.2%')\n",
    "        ).transform_filter(\n",
    "        alt.FieldEqualPredicate(field='Name', equal=name)\n",
    "        )\n",
    "\n",
    "    chart = progress_line | (fcn_current_strip_chart + provider_highlight_strip + provider_percent)\n",
    "    return chart"
   ]
  },
  {
   "cell_type": "code",
   "execution_count": null,
   "metadata": {},
   "outputs": [],
   "source": [
    "# Need to just do active individuals\n",
    "\n",
    "for name in df.Name.unique():\n",
    "    for metric in df.Metric.unique():\n",
    "        chart = make_individual_metric_chart(metric, name) \n",
    "        foldername = str(name).replace(\" \", \"_\")\n",
    "        if not os.path.exists(\"./altair-output/\" + foldername):\n",
    "            os.makedirs(\"./altair-output/\" + foldername)\n",
    "        chart.save(\"./altair-output/\" + foldername + '/'+ str(metric).replace(\" \", \"_\") + \".json\")\n",
    "        \n",
    "    with open('./files/index.html', 'r') as file :\n",
    "        filedata = file.read()\n",
    "    filedata = filedata.replace('{{{Provider}}}', name)\n",
    "    with open('./altair-output/' + foldername + '/index.html', 'w+') as file:\n",
    "        file.write(filedata)"
   ]
  },
  {
   "cell_type": "code",
   "execution_count": null,
   "metadata": {},
   "outputs": [],
   "source": []
  }
 ],
 "metadata": {
  "kernelspec": {
   "display_name": "Python 3",
   "language": "python",
   "name": "python3"
  },
  "language_info": {
   "codemirror_mode": {
    "name": "ipython",
    "version": 3
   },
   "file_extension": ".py",
   "mimetype": "text/x-python",
   "name": "python",
   "nbconvert_exporter": "python",
   "pygments_lexer": "ipython3",
   "version": "3.6.4"
  }
 },
 "nbformat": 4,
 "nbformat_minor": 2
}
