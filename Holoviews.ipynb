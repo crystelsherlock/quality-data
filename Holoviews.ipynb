{
 "cells": [
  {
   "cell_type": "markdown",
   "metadata": {},
   "source": [
    "# Initial Imports & Setup"
   ]
  },
  {
   "cell_type": "code",
   "execution_count": 33,
   "metadata": {},
   "outputs": [],
   "source": [
    "import pandas as pd\n",
    "import numpy as np\n",
    "import glob as glob\n",
    "import matplotlib.pyplot as plt\n",
    "import matplotlib.font_manager as font_manager\n",
    "import seaborn as sns\n",
    "import datetime as datetime\n",
    "\n",
    "# %matplotlib inline\n",
    "plt.style.use('fivethirtyeight')\n",
    "plt.rcParams[\"svg.fonttype\"] = \"none\"\n",
    "plt.rcParams[\"font.family\"] = \"Bitstream Vera Sans\"\n",
    "plt.rcParams[\"figure.titleweight\"] = 'bold'\n",
    "plt.rcParams['figure.titlesize'] = 'xx-large'"
   ]
  },
  {
   "cell_type": "markdown",
   "metadata": {},
   "source": [
    "# Importing Data into Dataframe\n",
    "\n",
    "Still working on whether to index or not. Maybe all columns should be data for now. "
   ]
  },
  {
   "cell_type": "code",
   "execution_count": 38,
   "metadata": {},
   "outputs": [],
   "source": [
    "files = glob.glob('./data/*.csv')\n",
    "\n",
    "df = pd.DataFrame()\n",
    "for file in files:\n",
    "    filedf = pd.read_csv(file,\n",
    "                        usecols=[\"NAME\",\"Metricname\",\"SeenNum\",\"SeenDenom\"])\n",
    "    # Prettier Names\n",
    "    filedf = filedf.rename(columns={'NAME': 'MeridiosName',\n",
    "                                    'Metricname': 'Metric',\n",
    "                                    'SeenNum': 'Numerator', \n",
    "                                    'SeenDenom': 'Denominator'})\n",
    "    filename_parts = file[7:-4].split(' ')\n",
    "    # 0 Padded Dates with Dots. 03.15.2018\n",
    "    if (len(str(filename_parts[0])) is 10):\n",
    "        filedf['Date'] = datetime.datetime.strptime(filename_parts[0], \"%m.%d.%Y\")\n",
    "        filedf['Percentage'] = filedf['Numerator'] / filedf['Denominator'] * 100\n",
    "        #Not sure how to handle data vs index\n",
    "        #filedf.set_index(['MeridiosName', 'Metric', 'Date'], inplace=True)\n",
    "        df = df.append(filedf) \n",
    "    else:\n",
    "        print(\"CSV Data File doesn't have Zero-Padded Date at beginning.\")\n",
    "#df.dtypes\n",
    "#df.head()\n",
    "#df.info()\n",
    "#df.describe()\n",
    "#df.columns\n",
    "#df.Metric.unique()\n",
    "\n",
    "# providergender = pd.read_csv('./current/provider-gender.csv', index_col='NAME')\n",
    "# currentdata['Provider-gender']=currentdata.NAME.map(providergender.GENDER)\n"
   ]
  },
  {
   "cell_type": "markdown",
   "metadata": {},
   "source": [
    "# Understanding the data\n",
    "\n",
    "Indexes need to be unique so a heirarchical index of Name, Metric and Date would be unique. \n",
    "\n",
    "Will need to use GroupBy function of Pandas\n",
    "\n",
    "### Lookups:\n",
    "\n",
    "* what clinic does a provider belong to? \n",
    "* Person vs Clinic\n",
    "* What's the Provider's 'Real Name' \n",
    "* What's a short name for the Metric?\n",
    "* What's a target percentage for a measure\n",
    "\n",
    "### Cleanups:\n",
    "\n",
    "* Percentage can be rounded to 2 decimal points (but why throw out the data on the import?)\n",
    "\n",
    "\n",
    "### Validations:\n",
    "\n",
    "* Does Data include new MeridiosName, New Metric items? (Has the underlying report changed?)\n",
    "\n"
   ]
  },
  {
   "cell_type": "code",
   "execution_count": 27,
   "metadata": {},
   "outputs": [],
   "source": [
    "Provider = df[df['MeridiosName'] == 'Ploudre MD, Jonathan']\n",
    "for number, metric in enumerate(Provider.Metric.unique()):\n",
    "    ProviderMetric = Provider[Provider['Metric'] == metric]\n",
    "    ax = ProviderMetric.plot(x=\"Date\", y=\"Percentage\", title=metric, legend=False, ylim=(0,100), figsize=(6,6))\n",
    "    ax.set_xlabel(\"\")\n",
    "    \n",
    "    # Let's Do ever third tick mark (quarters)\n",
    "    ax.set_xticks(ax.get_xticks()[::3])\n",
    "    fig = ax.get_figure()\n",
    "    fig.patch.set_facecolor('none')\n",
    "    ax.patch.set_facecolor('white')\n",
    "    ax.patch.set_alpha(0.8)\n",
    "    fig.tight_layout()\n",
    "    fig.savefig(str(number) + \".svg\", facecolor=fig.get_facecolor(), edgecolor='none')\n",
    "    plt.close(fig)\n",
    "    "
   ]
  },
  {
   "cell_type": "code",
   "execution_count": null,
   "metadata": {},
   "outputs": [],
   "source": []
  }
 ],
 "metadata": {
  "kernelspec": {
   "display_name": "Python 3",
   "language": "python",
   "name": "python3"
  },
  "language_info": {
   "codemirror_mode": {
    "name": "ipython",
    "version": 3
   },
   "file_extension": ".py",
   "mimetype": "text/x-python",
   "name": "python",
   "nbconvert_exporter": "python",
   "pygments_lexer": "ipython3",
   "version": "3.6.4"
  }
 },
 "nbformat": 4,
 "nbformat_minor": 2
}
