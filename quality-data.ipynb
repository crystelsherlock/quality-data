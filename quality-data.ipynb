{
 "cells": [
  {
   "cell_type": "markdown",
   "metadata": {},
   "source": [
    "# Initial Imports & Setup\n",
    "\n",
    "Use Python Data Analysis Libraries"
   ]
  },
  {
   "cell_type": "code",
   "execution_count": 1,
   "metadata": {},
   "outputs": [],
   "source": [
    "# Data Science Modules\n",
    "import numpy as np\n",
    "import pandas as pd\n",
    "import altair as alt\n",
    "from selenium import webdriver\n",
    "\n",
    "# Python Basics\n",
    "import glob as glob\n",
    "import shutil\n",
    "import os\n",
    "import datetime as datetime"
   ]
  },
  {
   "cell_type": "markdown",
   "metadata": {},
   "source": [
    "# Importing Data into Dataframe\n",
    "\n",
    "Create pandas dataframe from folder of CSV files.\n",
    "\n",
    "Maps columns to friendlier names and data for faceting.\n",
    "\n",
    "Assumes:\n",
    "\n",
    "* **./files/names.csv**: CSV File with Provider/Clinic Names, etc. Names is used to determine active providers/clinics. (So if there's no name, it wont get evaluated later -- say, for example, after Everson Closes.\n",
    "* **./files/metrics.csv**: CSV File with Metrics information (Display Name, Category, Target, etc.)\n",
    "* **./data/(Zero-Padded Date at beginning of CSVs from Meridos).csv**: Files from Automatic weekly report from Meridios"
   ]
  },
  {
   "cell_type": "code",
   "execution_count": 2,
   "metadata": {},
   "outputs": [
    {
     "data": {
      "text/plain": [
       "array(['AAA', nan, 'Chlamydia', 'Colorectal Screen', 'DM Care Gaps',\n",
       "       'DM with Statin', 'DM with ACE or ARB', 'DM Eye Exam',\n",
       "       'DM Foot Exam', 'HTN Age18 to 59 under 140 SBP',\n",
       "       'HTN over age 18 under 140 SBP', 'HTN over age 59 under 150 SBP',\n",
       "       'Mammogram', 'DM Nephropathy', 'Pap Smears', 'DM Pneumovax',\n",
       "       'Over age 65 Pneumovax', 'Smoker Pneumovax', 'Smoking Cessation',\n",
       "       'Statin with LDL', 'TD and TDAP', 'WCC 3y to 6y'], dtype=object)"
      ]
     },
     "execution_count": 2,
     "metadata": {},
     "output_type": "execute_result"
    }
   ],
   "source": [
    "# Read Lookup files into dataframes for mapping\n",
    "names = pd.read_csv('./files/names.csv', index_col='MeridiosName')\n",
    "metrics = pd.read_csv('./files/metrics.csv', index_col='MeridiosMetric', dtype={'MeridiosMetric':object})\n",
    "\n",
    "# Blank dataframe for eventual output.\n",
    "df = pd.DataFrame()\n",
    "\n",
    "# Read in all the data files and append to dataframe\n",
    "files = glob.glob('./data/*.csv')\n",
    "for file in files:\n",
    "    filedf = pd.read_csv(file,\n",
    "                        usecols=[\"NAME\",\"Metricname\",\"SeenNum\",\"SeenDenom\"])\n",
    "    # Prettier Names but we'll drop these eventually.\n",
    "    filedf = filedf.rename(columns={'NAME': 'MeridiosName',\n",
    "                                    'Metricname': 'MeridiosMetric',\n",
    "                                    'SeenNum': 'Numerator', \n",
    "                                    'SeenDenom': 'Denominator'})\n",
    "\n",
    "    # Add Lookup Columns.\n",
    "    filedf['Name'] = filedf.MeridiosName.map(names.Name)\n",
    "    filedf['Type'] = filedf.MeridiosName.map(names.Type)\n",
    "    filedf['Clinic'] = filedf.MeridiosName.map(names.Clinic)\n",
    "    filedf['Metric'] = filedf.MeridiosMetric.map(metrics.Metric)\n",
    "    \n",
    "    # Who are we kidding with precision? Round to Basis points\n",
    "    # Not actually percentage (but rather than * 100 leaving for formatting\n",
    "    # in visualization.)\n",
    "    filedf['Percentage'] = round(filedf['Numerator'] / filedf['Denominator'], 4)\n",
    "\n",
    "    # Zero Padded Dates with Dots. Like: \"03.15.2018\" We're using the filename\n",
    "    # as the source of the date column because exports haven't always \n",
    "    # had the date-time data correct. \n",
    "    filename_parts = file[7:-4].split(' ')\n",
    "    if (len(str(filename_parts[0])) is 10):\n",
    "        filedf['Date'] = datetime.datetime.strptime(filename_parts[0], \"%m.%d.%Y\")\n",
    "\n",
    "        # Now delete the 'raw' columns from import\n",
    "        filedf.drop(\"MeridiosName\", axis=1, inplace=True)\n",
    "        filedf.drop(\"MeridiosMetric\", axis=1, inplace=True)\n",
    "        filedf.drop(\"Numerator\", axis=1, inplace=True)\n",
    "        filedf.drop(\"Denominator\", axis=1, inplace=True)\n",
    "        \n",
    "        # We're only appending data that had Zero Padded Date at \n",
    "        # beginning of filename.\n",
    "        df = df.append(filedf) \n",
    "    else:\n",
    "        print(\"CSV Data File doesn't have Zero-Padded Date at beginning.\")\n",
    "        \n",
    "# We can inspect dataframe different ways        \n",
    "#df.dtypes\n",
    "#df.info()\n",
    "#df.describe()\n",
    "#df.columns\n",
    "df.Metric.unique()\n",
    "#df.head()\n",
    "#metrics.head()"
   ]
  },
  {
   "cell_type": "markdown",
   "metadata": {},
   "source": [
    "## Validations:\n",
    "\n",
    "* Do new CSV files include new MeridiosName, New Metric items? (Has the underlying report changed? Such as when edited provider name.)\n",
    "* Should we keep a list of already imported data and do some message to clarify after new data is available?\n",
    "* Percentages under 0% and over 100% are report errors\n",
    "\n",
    "Currently no validations. But probably should automate checks that new data from report is accurate. "
   ]
  },
  {
   "cell_type": "markdown",
   "metadata": {},
   "source": [
    "# Altair Graphs"
   ]
  },
  {
   "cell_type": "code",
   "execution_count": 14,
   "metadata": {},
   "outputs": [],
   "source": [
    "def core_clinic_charts(metric, type, clinic): # Removed name, \n",
    "    # Shows Individual Providers, a single metric, grouped by a clinic.\n",
    "    chart = alt.Chart(df[(df['Metric']==metric) & \n",
    "                         (df['Type']==type) &\n",
    "                         #(df['Name']==name) & \n",
    "                         (df['Clinic']==clinic)]\n",
    "    ).mark_line(\n",
    "    ).encode(\n",
    "        alt.X('Date:T', title=\"\"),\n",
    "        alt.Y('Percentage:Q', axis=alt.Axis(format=\"%\")),\n",
    "        color=alt.Color('Name:N'),\n",
    "        tooltip='Name:N',\n",
    "    ).properties(\n",
    "        title=str(metric) + ' at ' + str(clinic),\n",
    "    ).facet(\n",
    "        column=\"Clinic:N\",\n",
    "    )\n",
    "    return chart\n",
    "\n",
    "\n",
    "clinic = 'NCFP'\n",
    "type = 'Individual'\n",
    "#name = 'NCFP'\n",
    "#for clinic in df.Clinic.unique():\n",
    "for metric in df.Metric.unique():\n",
    "    chart = core_clinic_charts(metric, type, clinic) # Removed name,\n",
    "    foldername = str(name).replace(\" \", \"_\")\n",
    "    if not os.path.exists(\"./altair-output/\" + foldername):\n",
    "        os.makedirs(\"./altair-output/\" + foldername)\n",
    "    chart.save(\"./altair-output/\" + foldername + '/'+ str(metric).replace(\" \", \"_\") + \".json\")\n"
   ]
  },
  {
   "cell_type": "code",
   "execution_count": 9,
   "metadata": {},
   "outputs": [
    {
     "data": {
      "text/html": [
       "<div>\n",
       "<style scoped>\n",
       "    .dataframe tbody tr th:only-of-type {\n",
       "        vertical-align: middle;\n",
       "    }\n",
       "\n",
       "    .dataframe tbody tr th {\n",
       "        vertical-align: top;\n",
       "    }\n",
       "\n",
       "    .dataframe thead th {\n",
       "        text-align: right;\n",
       "    }\n",
       "</style>\n",
       "<table border=\"1\" class=\"dataframe\">\n",
       "  <thead>\n",
       "    <tr style=\"text-align: right;\">\n",
       "      <th></th>\n",
       "      <th>Name</th>\n",
       "      <th>Type</th>\n",
       "      <th>Clinic</th>\n",
       "      <th>Metric</th>\n",
       "      <th>Percentage</th>\n",
       "      <th>Date</th>\n",
       "    </tr>\n",
       "  </thead>\n",
       "  <tbody>\n",
       "  </tbody>\n",
       "</table>\n",
       "</div>"
      ],
      "text/plain": [
       "Empty DataFrame\n",
       "Columns: [Name, Type, Clinic, Metric, Percentage, Date]\n",
       "Index: []"
      ]
     },
     "execution_count": 9,
     "metadata": {},
     "output_type": "execute_result"
    }
   ],
   "source": [
    "newdf = df[(df['Metric']==metric) & \n",
    "                         (df['Type']==type) &\n",
    "                         (df['Name']==name) & \n",
    "                         (df['Clinic']==clinic)]\n",
    "\n",
    "newdf"
   ]
  },
  {
   "cell_type": "code",
   "execution_count": null,
   "metadata": {},
   "outputs": [],
   "source": []
  }
 ],
 "metadata": {
  "kernelspec": {
   "display_name": "Python 3",
   "language": "python",
   "name": "python3"
  },
  "language_info": {
   "codemirror_mode": {
    "name": "ipython",
    "version": 3
   },
   "file_extension": ".py",
   "mimetype": "text/x-python",
   "name": "python",
   "nbconvert_exporter": "python",
   "pygments_lexer": "ipython3",
   "version": "3.6.4"
  }
 },
 "nbformat": 4,
 "nbformat_minor": 2
}
