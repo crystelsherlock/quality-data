{
 "cells": [
  {
   "cell_type": "markdown",
   "metadata": {},
   "source": [
    "# Initial Imports & Setup\n",
    "\n",
    "Use Python Data Analysis Libraries"
   ]
  },
  {
   "cell_type": "code",
   "execution_count": 1,
   "metadata": {},
   "outputs": [],
   "source": [
    "# Data Science Modules\n",
    "import numpy as np\n",
    "import pandas as pd\n",
    "import altair as alt\n",
    "from selenium import webdriver\n",
    "\n",
    "# Python Basics\n",
    "import glob as glob\n",
    "import shutil\n",
    "import os\n",
    "import datetime as datetime"
   ]
  },
  {
   "cell_type": "markdown",
   "metadata": {},
   "source": [
    "# Importing Data into Dataframe\n",
    "\n",
    "Create pandas dataframe from folder of CSV files.\n",
    "\n",
    "Maps columns to friendlier names and data for faceting.\n",
    "\n",
    "Assumes:\n",
    "\n",
    "* **./files/names.csv**: CSV File with Provider/Clinic Names, etc. Names is used to determine active providers/clinics. (So if there's no name, it wont get evaluated later -- say, for example, after Everson Closes.\n",
    "* **./files/metrics.csv**: CSV File with Metrics information (Display Name, Category, Target, etc.)\n",
    "* **./data/(Zero-Padded Date at beginning of CSVs from Meridos).csv**: Files from Automatic weekly report from Meridios"
   ]
  },
  {
   "cell_type": "code",
   "execution_count": 2,
   "metadata": {},
   "outputs": [
    {
     "data": {
      "text/plain": [
       "array(['AAA', nan, 'Chlamydia', 'Colorectal Screen', 'DM Care Gaps',\n",
       "       'DM with Statin', 'DM with ACE or ARB', 'DM Eye Exam',\n",
       "       'DM Foot Exam', 'HTN Age18 to 59 under 140 SBP',\n",
       "       'HTN over age 18 under 140 SBP', 'HTN over age 59 under 150 SBP',\n",
       "       'Mammogram', 'DM Nephropathy', 'Pap Smears', 'DM Pneumovax',\n",
       "       'Over age 65 Pneumovax', 'Smoker Pneumovax', 'Smoking Cessation',\n",
       "       'Statin with LDL', 'TD and TDAP', 'WCC 3y to 6y'], dtype=object)"
      ]
     },
     "execution_count": 2,
     "metadata": {},
     "output_type": "execute_result"
    }
   ],
   "source": [
    "# Read Lookup files into dataframes for mapping\n",
    "names = pd.read_csv('./files/names.csv', index_col='MeridiosName')\n",
    "metrics = pd.read_csv('./files/metrics.csv', index_col='MeridiosMetric', dtype={'MeridiosMetric':object})\n",
    "\n",
    "# Blank dataframe for eventual output.\n",
    "df = pd.DataFrame()\n",
    "\n",
    "# Read in all the data files and append to dataframe\n",
    "files = glob.glob('./data/*.csv')\n",
    "for file in files:\n",
    "    filedf = pd.read_csv(file,\n",
    "                        usecols=[\"NAME\",\"Metricname\",\"SeenNum\",\"SeenDenom\"])\n",
    "    # Prettier Names but we'll drop these eventually.\n",
    "    filedf = filedf.rename(columns={'NAME': 'MeridiosName',\n",
    "                                    'Metricname': 'MeridiosMetric',\n",
    "                                    'SeenNum': 'Numerator', \n",
    "                                    'SeenDenom': 'Denominator'})\n",
    "\n",
    "    # Add Lookup Columns.\n",
    "    filedf['Name'] = filedf.MeridiosName.map(names.Name)\n",
    "    filedf['Type'] = filedf.MeridiosName.map(names.Type)\n",
    "    filedf['Clinic'] = filedf.MeridiosName.map(names.Clinic)\n",
    "    filedf['Metric'] = filedf.MeridiosMetric.map(metrics.Metric)\n",
    "    \n",
    "    # Who are we kidding with precision? Round to Basis points\n",
    "    # Not actually percentage (but rather than * 100 leaving for formatting\n",
    "    # in visualization.)\n",
    "    filedf['Percentage'] = round(filedf['Numerator'] / filedf['Denominator'], 4)\n",
    "\n",
    "    # Zero Padded Dates with Dots. Like: \"03.15.2018\" We're using the filename\n",
    "    # as the source of the date column because exports haven't always \n",
    "    # had the date-time data correct. \n",
    "    filename_parts = file[7:-4].split(' ')\n",
    "    if (len(str(filename_parts[0])) is 10):\n",
    "        filedf['Date'] = datetime.datetime.strptime(filename_parts[0], \"%m.%d.%Y\")\n",
    "\n",
    "        # Now delete the 'raw' columns from import\n",
    "        filedf.drop(\"MeridiosName\", axis=1, inplace=True)\n",
    "        filedf.drop(\"MeridiosMetric\", axis=1, inplace=True)\n",
    "        filedf.drop(\"Numerator\", axis=1, inplace=True)\n",
    "        filedf.drop(\"Denominator\", axis=1, inplace=True)\n",
    "        \n",
    "        # We're only appending data that had Zero Padded Date at \n",
    "        # beginning of filename.\n",
    "        df = df.append(filedf) \n",
    "    else:\n",
    "        print(\"CSV Data File doesn't have Zero-Padded Date at beginning.\")\n",
    "        \n",
    "# We can inspect dataframe different ways        \n",
    "#df.dtypes\n",
    "#df.info()\n",
    "#df.describe()\n",
    "#df.columns\n",
    "df.Metric.unique()\n",
    "#df.head()\n",
    "#metrics.head()"
   ]
  },
  {
   "cell_type": "markdown",
   "metadata": {},
   "source": [
    "## Validations:\n",
    "\n",
    "* Do new CSV files include new MeridiosName, New Metric items? (Has the underlying report changed? Such as when edited provider name.)\n",
    "* Should we keep a list of already imported data and do some message to clarify after new data is available?\n",
    "* Percentages under 0% and over 100% are report errors\n",
    "\n",
    "Currently no validations. But probably should automate checks that new data from report is accurate. "
   ]
  },
  {
   "cell_type": "markdown",
   "metadata": {},
   "source": [
    "# Altair Graphs"
   ]
  },
  {
   "cell_type": "code",
   "execution_count": 5,
   "metadata": {},
   "outputs": [],
   "source": [
    "def core_clinic_charts(metric, type, name, clinic): \n",
    "    # Shows Individual Providers, a single metric, grouped by a clinic.\n",
    "    chart = alt.Chart(df[(df['Metric']==metric) & \n",
    "                         (df['Type']==type) &\n",
    "                         (df['Name']==name) & \n",
    "                         (df['Clinic']==clinic)]\n",
    "    ).mark_line(\n",
    "    ).encode(\n",
    "        alt.X('Date:T', title=\"\"),\n",
    "        alt.Y('Percentage:Q', axis=alt.Axis(format=\"%\")),\n",
    "        color=alt.Color('Name:N'),\n",
    "        tooltip='Name:N',\n",
    "    ).properties(\n",
    "        title=str(metric) + ' at ' + str(clinic),\n",
    "    ).facet(\n",
    "        column=\"Clinic:N\",\n",
    "    )\n",
    "    return chart"
   ]
  },
  {
   "cell_type": "code",
   "execution_count": 5,
   "metadata": {},
   "outputs": [],
   "source": [
    "#clinic = 'NCFP'\n",
    "#type = 'Individual'\n",
    "#name = 'NCFP'\n",
    "#for clinic in df.Clinic.unique():\n",
    "#for metric in df.Metric.unique():\n",
    "#    chart = core_clinic_charts(metric, type, name, clinic) \n",
    "#    foldername = str(name).replace(\" \", \"_\")\n",
    "#    if not os.path.exists(\"./altair-output/\" + foldername):\n",
    "#        os.makedirs(\"./altair-output/\" + foldername)\n",
    "#    chart.save(\"./altair-output/\" + foldername + '/'+ str(metric).replace(\" \", \"_\") + \".json\")"
   ]
  },
  {
   "cell_type": "code",
   "execution_count": 8,
   "metadata": {},
   "outputs": [
    {
     "data": {
      "text/html": [
       "<div>\n",
       "<style scoped>\n",
       "    .dataframe tbody tr th:only-of-type {\n",
       "        vertical-align: middle;\n",
       "    }\n",
       "\n",
       "    .dataframe tbody tr th {\n",
       "        vertical-align: top;\n",
       "    }\n",
       "\n",
       "    .dataframe thead th {\n",
       "        text-align: right;\n",
       "    }\n",
       "</style>\n",
       "<table border=\"1\" class=\"dataframe\">\n",
       "  <thead>\n",
       "    <tr style=\"text-align: right;\">\n",
       "      <th></th>\n",
       "      <th>Name</th>\n",
       "      <th>Type</th>\n",
       "      <th>Clinic</th>\n",
       "      <th>Metric</th>\n",
       "      <th>Percentage</th>\n",
       "      <th>Date</th>\n",
       "    </tr>\n",
       "  </thead>\n",
       "  <tbody>\n",
       "    <tr>\n",
       "      <th>1586</th>\n",
       "      <td>Jonathan Ploudre</td>\n",
       "      <td>Individual</td>\n",
       "      <td>NCFP</td>\n",
       "      <td>AAA</td>\n",
       "      <td>0.2366</td>\n",
       "      <td>2018-04-23</td>\n",
       "    </tr>\n",
       "    <tr>\n",
       "      <th>1558</th>\n",
       "      <td>Jonathan Ploudre</td>\n",
       "      <td>Individual</td>\n",
       "      <td>NCFP</td>\n",
       "      <td>AAA</td>\n",
       "      <td>0.2128</td>\n",
       "      <td>2018-01-29</td>\n",
       "    </tr>\n",
       "    <tr>\n",
       "      <th>1651</th>\n",
       "      <td>Jonathan Ploudre</td>\n",
       "      <td>Individual</td>\n",
       "      <td>NCFP</td>\n",
       "      <td>AAA</td>\n",
       "      <td>0.1875</td>\n",
       "      <td>2017-12-18</td>\n",
       "    </tr>\n",
       "    <tr>\n",
       "      <th>1584</th>\n",
       "      <td>Jonathan Ploudre</td>\n",
       "      <td>Individual</td>\n",
       "      <td>NCFP</td>\n",
       "      <td>AAA</td>\n",
       "      <td>0.2128</td>\n",
       "      <td>2018-03-19</td>\n",
       "    </tr>\n",
       "    <tr>\n",
       "      <th>1586</th>\n",
       "      <td>Jonathan Ploudre</td>\n",
       "      <td>Individual</td>\n",
       "      <td>NCFP</td>\n",
       "      <td>AAA</td>\n",
       "      <td>0.2258</td>\n",
       "      <td>2018-04-02</td>\n",
       "    </tr>\n",
       "    <tr>\n",
       "      <th>1499</th>\n",
       "      <td>Jonathan Ploudre</td>\n",
       "      <td>Individual</td>\n",
       "      <td>NCFP</td>\n",
       "      <td>AAA</td>\n",
       "      <td>0.1720</td>\n",
       "      <td>2017-10-09</td>\n",
       "    </tr>\n",
       "    <tr>\n",
       "      <th>1628</th>\n",
       "      <td>Jonathan Ploudre</td>\n",
       "      <td>Individual</td>\n",
       "      <td>NCFP</td>\n",
       "      <td>AAA</td>\n",
       "      <td>0.2128</td>\n",
       "      <td>2018-02-19</td>\n",
       "    </tr>\n",
       "    <tr>\n",
       "      <th>1674</th>\n",
       "      <td>Jonathan Ploudre</td>\n",
       "      <td>Individual</td>\n",
       "      <td>NCFP</td>\n",
       "      <td>AAA</td>\n",
       "      <td>0.1915</td>\n",
       "      <td>2018-01-08</td>\n",
       "    </tr>\n",
       "    <tr>\n",
       "      <th>1581</th>\n",
       "      <td>Jonathan Ploudre</td>\n",
       "      <td>Individual</td>\n",
       "      <td>NCFP</td>\n",
       "      <td>AAA</td>\n",
       "      <td>0.2083</td>\n",
       "      <td>2018-01-22</td>\n",
       "    </tr>\n",
       "    <tr>\n",
       "      <th>1701</th>\n",
       "      <td>Jonathan Ploudre</td>\n",
       "      <td>Individual</td>\n",
       "      <td>NCFP</td>\n",
       "      <td>AAA</td>\n",
       "      <td>0.1739</td>\n",
       "      <td>2017-10-23</td>\n",
       "    </tr>\n",
       "    <tr>\n",
       "      <th>1650</th>\n",
       "      <td>Jonathan Ploudre</td>\n",
       "      <td>Individual</td>\n",
       "      <td>NCFP</td>\n",
       "      <td>AAA</td>\n",
       "      <td>0.1648</td>\n",
       "      <td>2017-09-11</td>\n",
       "    </tr>\n",
       "    <tr>\n",
       "      <th>1674</th>\n",
       "      <td>Jonathan Ploudre</td>\n",
       "      <td>Individual</td>\n",
       "      <td>NCFP</td>\n",
       "      <td>AAA</td>\n",
       "      <td>0.2083</td>\n",
       "      <td>2018-01-15</td>\n",
       "    </tr>\n",
       "    <tr>\n",
       "      <th>1651</th>\n",
       "      <td>Jonathan Ploudre</td>\n",
       "      <td>Individual</td>\n",
       "      <td>NCFP</td>\n",
       "      <td>AAA</td>\n",
       "      <td>0.1720</td>\n",
       "      <td>2017-11-13</td>\n",
       "    </tr>\n",
       "    <tr>\n",
       "      <th>1449</th>\n",
       "      <td>Jonathan Ploudre</td>\n",
       "      <td>Individual</td>\n",
       "      <td>NCFP</td>\n",
       "      <td>AAA</td>\n",
       "      <td>0.1648</td>\n",
       "      <td>2017-08-21</td>\n",
       "    </tr>\n",
       "    <tr>\n",
       "      <th>1499</th>\n",
       "      <td>Jonathan Ploudre</td>\n",
       "      <td>Individual</td>\n",
       "      <td>NCFP</td>\n",
       "      <td>AAA</td>\n",
       "      <td>0.1720</td>\n",
       "      <td>2017-10-02</td>\n",
       "    </tr>\n",
       "    <tr>\n",
       "      <th>1628</th>\n",
       "      <td>Jonathan Ploudre</td>\n",
       "      <td>Individual</td>\n",
       "      <td>NCFP</td>\n",
       "      <td>AAA</td>\n",
       "      <td>0.2128</td>\n",
       "      <td>2018-02-12</td>\n",
       "    </tr>\n",
       "    <tr>\n",
       "      <th>1581</th>\n",
       "      <td>Jonathan Ploudre</td>\n",
       "      <td>Individual</td>\n",
       "      <td>NCFP</td>\n",
       "      <td>AAA</td>\n",
       "      <td>0.2128</td>\n",
       "      <td>2018-02-05</td>\n",
       "    </tr>\n",
       "    <tr>\n",
       "      <th>1628</th>\n",
       "      <td>Jonathan Ploudre</td>\n",
       "      <td>Individual</td>\n",
       "      <td>NCFP</td>\n",
       "      <td>AAA</td>\n",
       "      <td>0.2234</td>\n",
       "      <td>2018-03-12</td>\n",
       "    </tr>\n",
       "    <tr>\n",
       "      <th>1628</th>\n",
       "      <td>Jonathan Ploudre</td>\n",
       "      <td>Individual</td>\n",
       "      <td>NCFP</td>\n",
       "      <td>AAA</td>\n",
       "      <td>0.2234</td>\n",
       "      <td>2018-03-05</td>\n",
       "    </tr>\n",
       "    <tr>\n",
       "      <th>1586</th>\n",
       "      <td>Jonathan Ploudre</td>\n",
       "      <td>Individual</td>\n",
       "      <td>NCFP</td>\n",
       "      <td>AAA</td>\n",
       "      <td>0.2258</td>\n",
       "      <td>2018-04-09</td>\n",
       "    </tr>\n",
       "    <tr>\n",
       "      <th>1651</th>\n",
       "      <td>Jonathan Ploudre</td>\n",
       "      <td>Individual</td>\n",
       "      <td>NCFP</td>\n",
       "      <td>AAA</td>\n",
       "      <td>0.1809</td>\n",
       "      <td>2017-12-04</td>\n",
       "    </tr>\n",
       "    <tr>\n",
       "      <th>1701</th>\n",
       "      <td>Jonathan Ploudre</td>\n",
       "      <td>Individual</td>\n",
       "      <td>NCFP</td>\n",
       "      <td>AAA</td>\n",
       "      <td>0.1739</td>\n",
       "      <td>2017-10-30</td>\n",
       "    </tr>\n",
       "    <tr>\n",
       "      <th>1651</th>\n",
       "      <td>Jonathan Ploudre</td>\n",
       "      <td>Individual</td>\n",
       "      <td>NCFP</td>\n",
       "      <td>AAA</td>\n",
       "      <td>0.1875</td>\n",
       "      <td>2018-01-01</td>\n",
       "    </tr>\n",
       "    <tr>\n",
       "      <th>1499</th>\n",
       "      <td>Jonathan Ploudre</td>\n",
       "      <td>Individual</td>\n",
       "      <td>NCFP</td>\n",
       "      <td>AAA</td>\n",
       "      <td>0.1630</td>\n",
       "      <td>2017-09-25</td>\n",
       "    </tr>\n",
       "    <tr>\n",
       "      <th>1586</th>\n",
       "      <td>Jonathan Ploudre</td>\n",
       "      <td>Individual</td>\n",
       "      <td>NCFP</td>\n",
       "      <td>AAA</td>\n",
       "      <td>0.2366</td>\n",
       "      <td>2018-04-16</td>\n",
       "    </tr>\n",
       "    <tr>\n",
       "      <th>1651</th>\n",
       "      <td>Jonathan Ploudre</td>\n",
       "      <td>Individual</td>\n",
       "      <td>NCFP</td>\n",
       "      <td>AAA</td>\n",
       "      <td>0.1875</td>\n",
       "      <td>2017-12-26</td>\n",
       "    </tr>\n",
       "    <tr>\n",
       "      <th>1651</th>\n",
       "      <td>Jonathan Ploudre</td>\n",
       "      <td>Individual</td>\n",
       "      <td>NCFP</td>\n",
       "      <td>AAA</td>\n",
       "      <td>0.1895</td>\n",
       "      <td>2017-12-11</td>\n",
       "    </tr>\n",
       "    <tr>\n",
       "      <th>1676</th>\n",
       "      <td>Jonathan Ploudre</td>\n",
       "      <td>Individual</td>\n",
       "      <td>NCFP</td>\n",
       "      <td>AAA</td>\n",
       "      <td>0.1720</td>\n",
       "      <td>2017-10-16</td>\n",
       "    </tr>\n",
       "    <tr>\n",
       "      <th>1628</th>\n",
       "      <td>Jonathan Ploudre</td>\n",
       "      <td>Individual</td>\n",
       "      <td>NCFP</td>\n",
       "      <td>AAA</td>\n",
       "      <td>0.2128</td>\n",
       "      <td>2018-02-26</td>\n",
       "    </tr>\n",
       "    <tr>\n",
       "      <th>1424</th>\n",
       "      <td>Jonathan Ploudre</td>\n",
       "      <td>Individual</td>\n",
       "      <td>NCFP</td>\n",
       "      <td>AAA</td>\n",
       "      <td>0.1648</td>\n",
       "      <td>2017-09-04</td>\n",
       "    </tr>\n",
       "    <tr>\n",
       "      <th>1634</th>\n",
       "      <td>Jonathan Ploudre</td>\n",
       "      <td>Individual</td>\n",
       "      <td>NCFP</td>\n",
       "      <td>AAA</td>\n",
       "      <td>0.2234</td>\n",
       "      <td>2018-03-26</td>\n",
       "    </tr>\n",
       "    <tr>\n",
       "      <th>1651</th>\n",
       "      <td>Jonathan Ploudre</td>\n",
       "      <td>Individual</td>\n",
       "      <td>NCFP</td>\n",
       "      <td>AAA</td>\n",
       "      <td>0.1720</td>\n",
       "      <td>2017-11-06</td>\n",
       "    </tr>\n",
       "    <tr>\n",
       "      <th>1586</th>\n",
       "      <td>Jonathan Ploudre</td>\n",
       "      <td>Individual</td>\n",
       "      <td>NCFP</td>\n",
       "      <td>AAA</td>\n",
       "      <td>0.3118</td>\n",
       "      <td>2018-04-30</td>\n",
       "    </tr>\n",
       "    <tr>\n",
       "      <th>1586</th>\n",
       "      <td>Jonathan Ploudre</td>\n",
       "      <td>Individual</td>\n",
       "      <td>NCFP</td>\n",
       "      <td>AAA</td>\n",
       "      <td>0.3118</td>\n",
       "      <td>2018-05-07</td>\n",
       "    </tr>\n",
       "    <tr>\n",
       "      <th>1424</th>\n",
       "      <td>Jonathan Ploudre</td>\n",
       "      <td>Individual</td>\n",
       "      <td>NCFP</td>\n",
       "      <td>AAA</td>\n",
       "      <td>0.1648</td>\n",
       "      <td>2017-08-28</td>\n",
       "    </tr>\n",
       "    <tr>\n",
       "      <th>1499</th>\n",
       "      <td>Jonathan Ploudre</td>\n",
       "      <td>Individual</td>\n",
       "      <td>NCFP</td>\n",
       "      <td>AAA</td>\n",
       "      <td>0.1648</td>\n",
       "      <td>2017-09-18</td>\n",
       "    </tr>\n",
       "  </tbody>\n",
       "</table>\n",
       "</div>"
      ],
      "text/plain": [
       "                  Name        Type Clinic Metric  Percentage       Date\n",
       "1586  Jonathan Ploudre  Individual   NCFP    AAA      0.2366 2018-04-23\n",
       "1558  Jonathan Ploudre  Individual   NCFP    AAA      0.2128 2018-01-29\n",
       "1651  Jonathan Ploudre  Individual   NCFP    AAA      0.1875 2017-12-18\n",
       "1584  Jonathan Ploudre  Individual   NCFP    AAA      0.2128 2018-03-19\n",
       "1586  Jonathan Ploudre  Individual   NCFP    AAA      0.2258 2018-04-02\n",
       "1499  Jonathan Ploudre  Individual   NCFP    AAA      0.1720 2017-10-09\n",
       "1628  Jonathan Ploudre  Individual   NCFP    AAA      0.2128 2018-02-19\n",
       "1674  Jonathan Ploudre  Individual   NCFP    AAA      0.1915 2018-01-08\n",
       "1581  Jonathan Ploudre  Individual   NCFP    AAA      0.2083 2018-01-22\n",
       "1701  Jonathan Ploudre  Individual   NCFP    AAA      0.1739 2017-10-23\n",
       "1650  Jonathan Ploudre  Individual   NCFP    AAA      0.1648 2017-09-11\n",
       "1674  Jonathan Ploudre  Individual   NCFP    AAA      0.2083 2018-01-15\n",
       "1651  Jonathan Ploudre  Individual   NCFP    AAA      0.1720 2017-11-13\n",
       "1449  Jonathan Ploudre  Individual   NCFP    AAA      0.1648 2017-08-21\n",
       "1499  Jonathan Ploudre  Individual   NCFP    AAA      0.1720 2017-10-02\n",
       "1628  Jonathan Ploudre  Individual   NCFP    AAA      0.2128 2018-02-12\n",
       "1581  Jonathan Ploudre  Individual   NCFP    AAA      0.2128 2018-02-05\n",
       "1628  Jonathan Ploudre  Individual   NCFP    AAA      0.2234 2018-03-12\n",
       "1628  Jonathan Ploudre  Individual   NCFP    AAA      0.2234 2018-03-05\n",
       "1586  Jonathan Ploudre  Individual   NCFP    AAA      0.2258 2018-04-09\n",
       "1651  Jonathan Ploudre  Individual   NCFP    AAA      0.1809 2017-12-04\n",
       "1701  Jonathan Ploudre  Individual   NCFP    AAA      0.1739 2017-10-30\n",
       "1651  Jonathan Ploudre  Individual   NCFP    AAA      0.1875 2018-01-01\n",
       "1499  Jonathan Ploudre  Individual   NCFP    AAA      0.1630 2017-09-25\n",
       "1586  Jonathan Ploudre  Individual   NCFP    AAA      0.2366 2018-04-16\n",
       "1651  Jonathan Ploudre  Individual   NCFP    AAA      0.1875 2017-12-26\n",
       "1651  Jonathan Ploudre  Individual   NCFP    AAA      0.1895 2017-12-11\n",
       "1676  Jonathan Ploudre  Individual   NCFP    AAA      0.1720 2017-10-16\n",
       "1628  Jonathan Ploudre  Individual   NCFP    AAA      0.2128 2018-02-26\n",
       "1424  Jonathan Ploudre  Individual   NCFP    AAA      0.1648 2017-09-04\n",
       "1634  Jonathan Ploudre  Individual   NCFP    AAA      0.2234 2018-03-26\n",
       "1651  Jonathan Ploudre  Individual   NCFP    AAA      0.1720 2017-11-06\n",
       "1586  Jonathan Ploudre  Individual   NCFP    AAA      0.3118 2018-04-30\n",
       "1586  Jonathan Ploudre  Individual   NCFP    AAA      0.3118 2018-05-07\n",
       "1424  Jonathan Ploudre  Individual   NCFP    AAA      0.1648 2017-08-28\n",
       "1499  Jonathan Ploudre  Individual   NCFP    AAA      0.1648 2017-09-18"
      ]
     },
     "execution_count": 8,
     "metadata": {},
     "output_type": "execute_result"
    }
   ],
   "source": [
    "metric = 'AAA'\n",
    "type = 'Individual'\n",
    "name = 'Jonathan Ploudre'\n",
    "clinic = 'NCFP'\n",
    "newdf = df[(df['Metric']==metric) & \n",
    "                         (df['Type']==type) &\n",
    "                         (df['Name']==name) & \n",
    "                         (df['Clinic']==clinic)]\n",
    "\n",
    "newdf"
   ]
  },
  {
   "cell_type": "code",
   "execution_count": 25,
   "metadata": {},
   "outputs": [
    {
     "data": {
      "application/vnd.vegalite.v2+json": {
       "$schema": "https://vega.github.io/schema/vega-lite/v2.4.1.json",
       "config": {
        "view": {
         "height": 300,
         "width": 400
        }
       },
       "hconcat": [
        {
         "data": {
          "values": [
           {
            "Clinic": "NCFP",
            "Date": "2018-04-23",
            "Metric": "Mammogram",
            "Name": "Jonathan Ploudre",
            "Percentage": 0.7135,
            "Type": "Individual"
           },
           {
            "Clinic": "NCFP",
            "Date": "2018-01-29",
            "Metric": "Mammogram",
            "Name": "Jonathan Ploudre",
            "Percentage": 0.7173,
            "Type": "Individual"
           },
           {
            "Clinic": "NCFP",
            "Date": "2017-12-18",
            "Metric": "Mammogram",
            "Name": "Jonathan Ploudre",
            "Percentage": 0.7047,
            "Type": "Individual"
           },
           {
            "Clinic": "NCFP",
            "Date": "2018-03-19",
            "Metric": "Mammogram",
            "Name": "Jonathan Ploudre",
            "Percentage": 0.7382,
            "Type": "Individual"
           },
           {
            "Clinic": "NCFP",
            "Date": "2018-04-02",
            "Metric": "Mammogram",
            "Name": "Jonathan Ploudre",
            "Percentage": 0.7382,
            "Type": "Individual"
           },
           {
            "Clinic": "NCFP",
            "Date": "2017-10-09",
            "Metric": "Mammogram",
            "Name": "Jonathan Ploudre",
            "Percentage": 0.6667,
            "Type": "Individual"
           },
           {
            "Clinic": "NCFP",
            "Date": "2018-02-19",
            "Metric": "Mammogram",
            "Name": "Jonathan Ploudre",
            "Percentage": 0.7173,
            "Type": "Individual"
           },
           {
            "Clinic": "NCFP",
            "Date": "2018-01-08",
            "Metric": "Mammogram",
            "Name": "Jonathan Ploudre",
            "Percentage": 0.712,
            "Type": "Individual"
           },
           {
            "Clinic": "NCFP",
            "Date": "2018-01-22",
            "Metric": "Mammogram",
            "Name": "Jonathan Ploudre",
            "Percentage": 0.724,
            "Type": "Individual"
           },
           {
            "Clinic": "NCFP",
            "Date": "2017-10-23",
            "Metric": "Mammogram",
            "Name": "Jonathan Ploudre",
            "Percentage": 0.6802,
            "Type": "Individual"
           },
           {
            "Clinic": "NCFP",
            "Date": "2017-09-11",
            "Metric": "Mammogram",
            "Name": "Jonathan Ploudre",
            "Percentage": 0.6683,
            "Type": "Individual"
           },
           {
            "Clinic": "NCFP",
            "Date": "2018-01-15",
            "Metric": "Mammogram",
            "Name": "Jonathan Ploudre",
            "Percentage": 0.7135,
            "Type": "Individual"
           },
           {
            "Clinic": "NCFP",
            "Date": "2017-11-13",
            "Metric": "Mammogram",
            "Name": "Jonathan Ploudre",
            "Percentage": 0.7062,
            "Type": "Individual"
           },
           {
            "Clinic": "NCFP",
            "Date": "2017-08-21",
            "Metric": "Mammogram",
            "Name": "Jonathan Ploudre",
            "Percentage": 0.6552,
            "Type": "Individual"
           },
           {
            "Clinic": "NCFP",
            "Date": "2017-10-02",
            "Metric": "Mammogram",
            "Name": "Jonathan Ploudre",
            "Percentage": 0.6701,
            "Type": "Individual"
           },
           {
            "Clinic": "NCFP",
            "Date": "2018-02-12",
            "Metric": "Mammogram",
            "Name": "Jonathan Ploudre",
            "Percentage": 0.7277,
            "Type": "Individual"
           },
           {
            "Clinic": "NCFP",
            "Date": "2018-02-05",
            "Metric": "Mammogram",
            "Name": "Jonathan Ploudre",
            "Percentage": 0.7225,
            "Type": "Individual"
           },
           {
            "Clinic": "NCFP",
            "Date": "2018-03-12",
            "Metric": "Mammogram",
            "Name": "Jonathan Ploudre",
            "Percentage": 0.7292,
            "Type": "Individual"
           },
           {
            "Clinic": "NCFP",
            "Date": "2018-03-05",
            "Metric": "Mammogram",
            "Name": "Jonathan Ploudre",
            "Percentage": 0.7225,
            "Type": "Individual"
           },
           {
            "Clinic": "NCFP",
            "Date": "2018-04-09",
            "Metric": "Mammogram",
            "Name": "Jonathan Ploudre",
            "Percentage": 0.7396,
            "Type": "Individual"
           },
           {
            "Clinic": "NCFP",
            "Date": "2017-12-04",
            "Metric": "Mammogram",
            "Name": "Jonathan Ploudre",
            "Percentage": 0.715,
            "Type": "Individual"
           },
           {
            "Clinic": "NCFP",
            "Date": "2017-10-30",
            "Metric": "Mammogram",
            "Name": "Jonathan Ploudre",
            "Percentage": 0.6904,
            "Type": "Individual"
           },
           {
            "Clinic": "NCFP",
            "Date": "2018-01-01",
            "Metric": "Mammogram",
            "Name": "Jonathan Ploudre",
            "Percentage": 0.7083,
            "Type": "Individual"
           },
           {
            "Clinic": "NCFP",
            "Date": "2017-09-25",
            "Metric": "Mammogram",
            "Name": "Jonathan Ploudre",
            "Percentage": 0.6599,
            "Type": "Individual"
           },
           {
            "Clinic": "NCFP",
            "Date": "2018-04-16",
            "Metric": "Mammogram",
            "Name": "Jonathan Ploudre",
            "Percentage": 0.7188,
            "Type": "Individual"
           },
           {
            "Clinic": "NCFP",
            "Date": "2017-12-26",
            "Metric": "Mammogram",
            "Name": "Jonathan Ploudre",
            "Percentage": 0.7031,
            "Type": "Individual"
           },
           {
            "Clinic": "NCFP",
            "Date": "2017-12-11",
            "Metric": "Mammogram",
            "Name": "Jonathan Ploudre",
            "Percentage": 0.715,
            "Type": "Individual"
           },
           {
            "Clinic": "NCFP",
            "Date": "2017-10-16",
            "Metric": "Mammogram",
            "Name": "Jonathan Ploudre",
            "Percentage": 0.6751,
            "Type": "Individual"
           },
           {
            "Clinic": "NCFP",
            "Date": "2018-02-26",
            "Metric": "Mammogram",
            "Name": "Jonathan Ploudre",
            "Percentage": 0.7225,
            "Type": "Individual"
           },
           {
            "Clinic": "NCFP",
            "Date": "2017-09-04",
            "Metric": "Mammogram",
            "Name": "Jonathan Ploudre",
            "Percentage": 0.6601,
            "Type": "Individual"
           },
           {
            "Clinic": "NCFP",
            "Date": "2018-03-26",
            "Metric": "Mammogram",
            "Name": "Jonathan Ploudre",
            "Percentage": 0.7382,
            "Type": "Individual"
           },
           {
            "Clinic": "NCFP",
            "Date": "2017-11-06",
            "Metric": "Mammogram",
            "Name": "Jonathan Ploudre",
            "Percentage": 0.6939,
            "Type": "Individual"
           },
           {
            "Clinic": "NCFP",
            "Date": "2018-04-30",
            "Metric": "Mammogram",
            "Name": "Jonathan Ploudre",
            "Percentage": 0.7083,
            "Type": "Individual"
           },
           {
            "Clinic": "NCFP",
            "Date": "2018-05-07",
            "Metric": "Mammogram",
            "Name": "Jonathan Ploudre",
            "Percentage": 0.7158,
            "Type": "Individual"
           },
           {
            "Clinic": "NCFP",
            "Date": "2017-08-28",
            "Metric": "Mammogram",
            "Name": "Jonathan Ploudre",
            "Percentage": 0.6552,
            "Type": "Individual"
           },
           {
            "Clinic": "NCFP",
            "Date": "2017-09-18",
            "Metric": "Mammogram",
            "Name": "Jonathan Ploudre",
            "Percentage": 0.6584,
            "Type": "Individual"
           }
          ]
         },
         "encoding": {
          "x": {
           "field": "Date",
           "title": "",
           "type": "temporal"
          },
          "y": {
           "axis": {
            "format": "%"
           },
           "field": "Percentage",
           "scale": {
            "domain": [
             0,
             1
            ]
           },
           "type": "quantitative"
          }
         },
         "mark": "line"
        },
        {
         "layer": [
          {
           "data": {
            "values": [
             {
              "Clinic": "LFM",
              "Date": "2018-05-07",
              "Metric": "Mammogram",
              "Name": "Steven Alexander",
              "Percentage": 0.6915,
              "Type": "Individual"
             },
             {
              "Clinic": "BellB",
              "Date": "2018-05-07",
              "Metric": "Mammogram",
              "Name": "Greg Anderson",
              "Percentage": 0.7051,
              "Type": "Individual"
             },
             {
              "Clinic": "FHA",
              "Date": "2018-05-07",
              "Metric": "Mammogram",
              "Name": "Rodney Anderson",
              "Percentage": 0.773,
              "Type": "Individual"
             },
             {
              "Clinic": "FFMC",
              "Date": "2018-05-07",
              "Metric": "Mammogram",
              "Name": "Jennifer Bates",
              "Percentage": 0.7105,
              "Type": "Individual"
             },
             {
              "Clinic": "WFM",
              "Date": "2018-05-07",
              "Metric": "Mammogram",
              "Name": "Shannon Billau",
              "Percentage": 0.6919,
              "Type": "Individual"
             },
             {
              "Clinic": "WFM",
              "Date": "2018-05-07",
              "Metric": "Mammogram",
              "Name": "Richard Binder",
              "Percentage": 0.7233,
              "Type": "Individual"
             },
             {
              "Clinic": "IFP",
              "Date": "2018-05-07",
              "Metric": "Mammogram",
              "Name": "Franklin Bjorseth",
              "Percentage": 0.5972,
              "Type": "Individual"
             },
             {
              "Clinic": "FHA",
              "Date": "2018-05-07",
              "Metric": "Mammogram",
              "Name": "Edward Bloom",
              "Percentage": 0.6054,
              "Type": "Individual"
             },
             {
              "Clinic": "FHA",
              "Date": "2018-05-07",
              "Metric": "Mammogram",
              "Name": "Jessica Bloom",
              "Percentage": 0.7212,
              "Type": "Individual"
             },
             {
              "Clinic": "WFM",
              "Date": "2018-05-07",
              "Metric": "Mammogram",
              "Name": "Steven Bloom",
              "Percentage": 0.5526,
              "Type": "Individual"
             },
             {
              "Clinic": "BellB",
              "Date": "2018-05-07",
              "Metric": "Mammogram",
              "Name": "Ian Bonner",
              "Percentage": 0.6145,
              "Type": "Individual"
             },
             {
              "Clinic": "BellB",
              "Date": "2018-05-07",
              "Metric": "Mammogram",
              "Name": "Sara Bowling",
              "Percentage": 0.6531,
              "Type": "Individual"
             },
             {
              "Clinic": "NSFM",
              "Date": "2018-05-07",
              "Metric": "Mammogram",
              "Name": "Rory Bradt",
              "Percentage": 0.6369,
              "Type": "Individual"
             },
             {
              "Clinic": "FFMC",
              "Date": "2018-05-07",
              "Metric": "Mammogram",
              "Name": "Rebecca Brejcha",
              "Percentage": null,
              "Type": "Individual"
             },
             {
              "Clinic": "NSFM",
              "Date": "2018-05-07",
              "Metric": "Mammogram",
              "Name": "Lisa Brodsky",
              "Percentage": 0.646,
              "Type": "Individual"
             },
             {
              "Clinic": "LFM",
              "Date": "2018-05-07",
              "Metric": "Mammogram",
              "Name": "Margaret Burden",
              "Percentage": 0.77,
              "Type": "Individual"
             },
             {
              "Clinic": "NCFP",
              "Date": "2018-05-07",
              "Metric": "Mammogram",
              "Name": "Erik Bylund",
              "Percentage": 0.6272,
              "Type": "Individual"
             },
             {
              "Clinic": "LFM",
              "Date": "2018-05-07",
              "Metric": "Mammogram",
              "Name": "Robin Caldwell",
              "Percentage": 0.598,
              "Type": "Individual"
             },
             {
              "Clinic": "NSFM",
              "Date": "2018-05-07",
              "Metric": "Mammogram",
              "Name": "William Eiford",
              "Percentage": null,
              "Type": "Individual"
             },
             {
              "Clinic": "NCFP",
              "Date": "2018-05-07",
              "Metric": "Mammogram",
              "Name": "Roger Estep",
              "Percentage": 0.6988,
              "Type": "Individual"
             },
             {
              "Clinic": "LFM",
              "Date": "2018-05-07",
              "Metric": "Mammogram",
              "Name": "Michael Fleming",
              "Percentage": 0.3889,
              "Type": "Individual"
             },
             {
              "Clinic": "NSFM",
              "Date": "2018-05-07",
              "Metric": "Mammogram",
              "Name": "Anneliese Floyd",
              "Percentage": 0.6849,
              "Type": "Individual"
             },
             {
              "Clinic": "BellB",
              "Date": "2018-05-07",
              "Metric": "Mammogram",
              "Name": "Laura Fox",
              "Percentage": 0.7065,
              "Type": "Individual"
             },
             {
              "Clinic": "FFMC",
              "Date": "2018-05-07",
              "Metric": "Mammogram",
              "Name": "Renay Fredette",
              "Percentage": 0.5805,
              "Type": "Individual"
             },
             {
              "Clinic": "NCFP",
              "Date": "2018-05-07",
              "Metric": "Mammogram",
              "Name": "Kay-Kay Gambs",
              "Percentage": 0.5229,
              "Type": "Individual"
             },
             {
              "Clinic": "NCFP",
              "Date": "2018-05-07",
              "Metric": "Mammogram",
              "Name": "Jonathan Gamson",
              "Percentage": 0.6507,
              "Type": "Individual"
             },
             {
              "Clinic": "NSFM",
              "Date": "2018-05-07",
              "Metric": "Mammogram",
              "Name": "Elizabeth Gaylord",
              "Percentage": 0.6755,
              "Type": "Individual"
             },
             {
              "Clinic": "IFP",
              "Date": "2018-05-07",
              "Metric": "Mammogram",
              "Name": "Karen Goodman",
              "Percentage": 0.636,
              "Type": "Individual"
             },
             {
              "Clinic": "FHA",
              "Date": "2018-05-07",
              "Metric": "Mammogram",
              "Name": "Deborah Hall",
              "Percentage": 0.6616,
              "Type": "Individual"
             },
             {
              "Clinic": "NCFP",
              "Date": "2018-05-07",
              "Metric": "Mammogram",
              "Name": "Janet Hansom",
              "Percentage": 0.6753,
              "Type": "Individual"
             },
             {
              "Clinic": "LFM",
              "Date": "2018-05-07",
              "Metric": "Mammogram",
              "Name": "Larry Hartwell",
              "Percentage": 0.5631,
              "Type": "Individual"
             },
             {
              "Clinic": "SFM",
              "Date": "2018-05-07",
              "Metric": "Mammogram",
              "Name": "Shelby Hein",
              "Percentage": 0.7196,
              "Type": "Individual"
             },
             {
              "Clinic": "SFM",
              "Date": "2018-05-07",
              "Metric": "Mammogram",
              "Name": "Harry Herdman",
              "Percentage": 0.7625,
              "Type": "Individual"
             },
             {
              "Clinic": "NSFM",
              "Date": "2018-05-07",
              "Metric": "Mammogram",
              "Name": "Sarah Herman",
              "Percentage": null,
              "Type": "Individual"
             },
             {
              "Clinic": "LFM",
              "Date": "2018-05-07",
              "Metric": "Mammogram",
              "Name": "John Hiemstra",
              "Percentage": 0.6802,
              "Type": "Individual"
             },
             {
              "Clinic": "SFM",
              "Date": "2018-05-07",
              "Metric": "Mammogram",
              "Name": "Heather Honey",
              "Percentage": 0.6066,
              "Type": "Individual"
             },
             {
              "Clinic": "FHA",
              "Date": "2018-05-07",
              "Metric": "Mammogram",
              "Name": "Ryan Honey",
              "Percentage": 0.4141,
              "Type": "Individual"
             },
             {
              "Clinic": "BellB",
              "Date": "2018-05-07",
              "Metric": "Mammogram",
              "Name": "Jim Hopper",
              "Percentage": 0.7013,
              "Type": "Individual"
             },
             {
              "Clinic": "FFMC",
              "Date": "2018-05-07",
              "Metric": "Mammogram",
              "Name": "John Hruby",
              "Percentage": 0.6014,
              "Type": "Individual"
             },
             {
              "Clinic": "FHA",
              "Date": "2018-05-07",
              "Metric": "Mammogram",
              "Name": "Kellie Jacobs",
              "Percentage": 0.7457,
              "Type": "Individual"
             },
             {
              "Clinic": "IFP",
              "Date": "2018-05-07",
              "Metric": "Mammogram",
              "Name": "Michael James",
              "Percentage": 0.6537,
              "Type": "Individual"
             },
             {
              "Clinic": "FHA",
              "Date": "2018-05-07",
              "Metric": "Mammogram",
              "Name": "Sharon Kerlin",
              "Percentage": null,
              "Type": "Individual"
             },
             {
              "Clinic": "BBFM",
              "Date": "2018-05-07",
              "Metric": "Mammogram",
              "Name": "Jessica Klassen",
              "Percentage": 0.5502,
              "Type": "Individual"
             },
             {
              "Clinic": "FHA",
              "Date": "2018-05-07",
              "Metric": "Mammogram",
              "Name": "Meghan Lelonek",
              "Percentage": 0.6,
              "Type": "Individual"
             },
             {
              "Clinic": "FFMC",
              "Date": "2018-05-07",
              "Metric": "Mammogram",
              "Name": "Stephen Lewis",
              "Percentage": 0.6327,
              "Type": "Individual"
             },
             {
              "Clinic": "FFMC",
              "Date": "2018-05-07",
              "Metric": "Mammogram",
              "Name": "Erin Maloney",
              "Percentage": null,
              "Type": "Individual"
             },
             {
              "Clinic": "NCFP",
              "Date": "2018-05-07",
              "Metric": "Mammogram",
              "Name": "Ross McConahey",
              "Percentage": null,
              "Type": "Individual"
             },
             {
              "Clinic": "NSFM",
              "Date": "2018-05-07",
              "Metric": "Mammogram",
              "Name": "Patrick McLaughlin",
              "Percentage": 0.4881,
              "Type": "Individual"
             },
             {
              "Clinic": "NCFP",
              "Date": "2018-05-07",
              "Metric": "Mammogram",
              "Name": "Sally McPherson",
              "Percentage": 0.6074,
              "Type": "Individual"
             },
             {
              "Clinic": "NCFP",
              "Date": "2018-05-07",
              "Metric": "Mammogram",
              "Name": "Lucia Muller",
              "Percentage": 0.6696,
              "Type": "Individual"
             },
             {
              "Clinic": "BellB",
              "Date": "2018-05-07",
              "Metric": "Mammogram",
              "Name": "Karen O’Keefe",
              "Percentage": 0.7982,
              "Type": "Individual"
             },
             {
              "Clinic": "SFM",
              "Date": "2018-05-07",
              "Metric": "Mammogram",
              "Name": "Lillian Pavlik",
              "Percentage": null,
              "Type": "Individual"
             },
             {
              "Clinic": "LFM",
              "Date": "2018-05-07",
              "Metric": "Mammogram",
              "Name": "Patricia Payne-Zajac",
              "Percentage": 0.6474,
              "Type": "Individual"
             },
             {
              "Clinic": "NCFP",
              "Date": "2018-05-07",
              "Metric": "Mammogram",
              "Name": "Jonathan Ploudre",
              "Percentage": 0.7158,
              "Type": "Individual"
             },
             {
              "Clinic": "NSFM",
              "Date": "2018-05-07",
              "Metric": "Mammogram",
              "Name": "John Raduege",
              "Percentage": 0.6752,
              "Type": "Individual"
             },
             {
              "Clinic": "BBFM",
              "Date": "2018-05-07",
              "Metric": "Mammogram",
              "Name": "Teresa Regier",
              "Percentage": 0.429,
              "Type": "Individual"
             },
             {
              "Clinic": "FFMC",
              "Date": "2018-05-07",
              "Metric": "Mammogram",
              "Name": "Claudia Rey",
              "Percentage": 0.6,
              "Type": "Individual"
             },
             {
              "Clinic": "IFP",
              "Date": "2018-05-07",
              "Metric": "Mammogram",
              "Name": "Robert Rieger",
              "Percentage": 0.75,
              "Type": "Individual"
             },
             {
              "Clinic": "SFM",
              "Date": "2018-05-07",
              "Metric": "Mammogram",
              "Name": "Deborah Roessler",
              "Percentage": 0.6443,
              "Type": "Individual"
             },
             {
              "Clinic": "FFMC",
              "Date": "2018-05-07",
              "Metric": "Mammogram",
              "Name": "Berdi Sanford",
              "Percentage": 0.732,
              "Type": "Individual"
             },
             {
              "Clinic": "NCFP",
              "Date": "2018-05-07",
              "Metric": "Mammogram",
              "Name": "Lauren Sauve",
              "Percentage": 0.6254,
              "Type": "Individual"
             },
             {
              "Clinic": "BellB",
              "Date": "2018-05-07",
              "Metric": "Mammogram",
              "Name": "Melana Schimke",
              "Percentage": 0.6164,
              "Type": "Individual"
             },
             {
              "Clinic": "FHA",
              "Date": "2018-05-07",
              "Metric": "Mammogram",
              "Name": "Miriam Shapiro",
              "Percentage": 0.6974,
              "Type": "Individual"
             },
             {
              "Clinic": "NSFM",
              "Date": "2018-05-07",
              "Metric": "Mammogram",
              "Name": "Jason Short",
              "Percentage": 0.6517,
              "Type": "Individual"
             },
             {
              "Clinic": "NSFM",
              "Date": "2018-05-07",
              "Metric": "Mammogram",
              "Name": "Vicki Short",
              "Percentage": 0.6584,
              "Type": "Individual"
             },
             {
              "Clinic": "LFM",
              "Date": "2018-05-07",
              "Metric": "Mammogram",
              "Name": "Ashley Snyder",
              "Percentage": 0.6709,
              "Type": "Individual"
             },
             {
              "Clinic": "FFMC",
              "Date": "2018-05-07",
              "Metric": "Mammogram",
              "Name": "Kalani Synder",
              "Percentage": 0.3478,
              "Type": "Individual"
             },
             {
              "Clinic": "NSFM",
              "Date": "2018-05-07",
              "Metric": "Mammogram",
              "Name": "Mary Swanson",
              "Percentage": 0.773,
              "Type": "Individual"
             },
             {
              "Clinic": "IFP",
              "Date": "2018-05-07",
              "Metric": "Mammogram",
              "Name": "Magaret Sweeney",
              "Percentage": 0.8826,
              "Type": "Individual"
             },
             {
              "Clinic": "WFM",
              "Date": "2018-05-07",
              "Metric": "Mammogram",
              "Name": "Heather Thomson",
              "Percentage": 0.6,
              "Type": "Individual"
             },
             {
              "Clinic": "BellB",
              "Date": "2018-05-07",
              "Metric": "Mammogram",
              "Name": "Lisa Van Hofwegen",
              "Percentage": 0.7308,
              "Type": "Individual"
             },
             {
              "Clinic": "NSFM",
              "Date": "2018-05-07",
              "Metric": "Mammogram",
              "Name": "April Wakefield-Pagels",
              "Percentage": 0.6702,
              "Type": "Individual"
             },
             {
              "Clinic": "SFM",
              "Date": "2018-05-07",
              "Metric": "Mammogram",
              "Name": "Joy Welty",
              "Percentage": 0.6337,
              "Type": "Individual"
             },
             {
              "Clinic": "SFM",
              "Date": "2018-05-07",
              "Metric": "Mammogram",
              "Name": "Matt Werner",
              "Percentage": 0.6567,
              "Type": "Individual"
             },
             {
              "Clinic": "NCFP",
              "Date": "2018-05-07",
              "Metric": "Mammogram",
              "Name": "Sloane Winkes",
              "Percentage": 0.7931,
              "Type": "Individual"
             },
             {
              "Clinic": "NSFM",
              "Date": "2018-05-07",
              "Metric": "Mammogram",
              "Name": "Ying Wu",
              "Percentage": 0.7573,
              "Type": "Individual"
             },
             {
              "Clinic": "FHA",
              "Date": "2018-05-07",
              "Metric": "Mammogram",
              "Name": "Ashley Yoder",
              "Percentage": 0.7354,
              "Type": "Individual"
             }
            ]
           },
           "encoding": {
            "y": {
             "axis": {
              "format": "%"
             },
             "field": "Percentage",
             "type": "quantitative"
            }
           },
           "mark": "tick"
          },
          {
           "data": {
            "values": [
             {
              "Clinic": "LFM",
              "Date": "2018-05-07",
              "Metric": "Mammogram",
              "Name": "Steven Alexander",
              "Percentage": 0.6915,
              "Type": "Individual"
             },
             {
              "Clinic": "BellB",
              "Date": "2018-05-07",
              "Metric": "Mammogram",
              "Name": "Greg Anderson",
              "Percentage": 0.7051,
              "Type": "Individual"
             },
             {
              "Clinic": "FHA",
              "Date": "2018-05-07",
              "Metric": "Mammogram",
              "Name": "Rodney Anderson",
              "Percentage": 0.773,
              "Type": "Individual"
             },
             {
              "Clinic": "FFMC",
              "Date": "2018-05-07",
              "Metric": "Mammogram",
              "Name": "Jennifer Bates",
              "Percentage": 0.7105,
              "Type": "Individual"
             },
             {
              "Clinic": "WFM",
              "Date": "2018-05-07",
              "Metric": "Mammogram",
              "Name": "Shannon Billau",
              "Percentage": 0.6919,
              "Type": "Individual"
             },
             {
              "Clinic": "WFM",
              "Date": "2018-05-07",
              "Metric": "Mammogram",
              "Name": "Richard Binder",
              "Percentage": 0.7233,
              "Type": "Individual"
             },
             {
              "Clinic": "IFP",
              "Date": "2018-05-07",
              "Metric": "Mammogram",
              "Name": "Franklin Bjorseth",
              "Percentage": 0.5972,
              "Type": "Individual"
             },
             {
              "Clinic": "FHA",
              "Date": "2018-05-07",
              "Metric": "Mammogram",
              "Name": "Edward Bloom",
              "Percentage": 0.6054,
              "Type": "Individual"
             },
             {
              "Clinic": "FHA",
              "Date": "2018-05-07",
              "Metric": "Mammogram",
              "Name": "Jessica Bloom",
              "Percentage": 0.7212,
              "Type": "Individual"
             },
             {
              "Clinic": "WFM",
              "Date": "2018-05-07",
              "Metric": "Mammogram",
              "Name": "Steven Bloom",
              "Percentage": 0.5526,
              "Type": "Individual"
             },
             {
              "Clinic": "BellB",
              "Date": "2018-05-07",
              "Metric": "Mammogram",
              "Name": "Ian Bonner",
              "Percentage": 0.6145,
              "Type": "Individual"
             },
             {
              "Clinic": "BellB",
              "Date": "2018-05-07",
              "Metric": "Mammogram",
              "Name": "Sara Bowling",
              "Percentage": 0.6531,
              "Type": "Individual"
             },
             {
              "Clinic": "NSFM",
              "Date": "2018-05-07",
              "Metric": "Mammogram",
              "Name": "Rory Bradt",
              "Percentage": 0.6369,
              "Type": "Individual"
             },
             {
              "Clinic": "FFMC",
              "Date": "2018-05-07",
              "Metric": "Mammogram",
              "Name": "Rebecca Brejcha",
              "Percentage": null,
              "Type": "Individual"
             },
             {
              "Clinic": "NSFM",
              "Date": "2018-05-07",
              "Metric": "Mammogram",
              "Name": "Lisa Brodsky",
              "Percentage": 0.646,
              "Type": "Individual"
             },
             {
              "Clinic": "LFM",
              "Date": "2018-05-07",
              "Metric": "Mammogram",
              "Name": "Margaret Burden",
              "Percentage": 0.77,
              "Type": "Individual"
             },
             {
              "Clinic": "NCFP",
              "Date": "2018-05-07",
              "Metric": "Mammogram",
              "Name": "Erik Bylund",
              "Percentage": 0.6272,
              "Type": "Individual"
             },
             {
              "Clinic": "LFM",
              "Date": "2018-05-07",
              "Metric": "Mammogram",
              "Name": "Robin Caldwell",
              "Percentage": 0.598,
              "Type": "Individual"
             },
             {
              "Clinic": "NSFM",
              "Date": "2018-05-07",
              "Metric": "Mammogram",
              "Name": "William Eiford",
              "Percentage": null,
              "Type": "Individual"
             },
             {
              "Clinic": "NCFP",
              "Date": "2018-05-07",
              "Metric": "Mammogram",
              "Name": "Roger Estep",
              "Percentage": 0.6988,
              "Type": "Individual"
             },
             {
              "Clinic": "LFM",
              "Date": "2018-05-07",
              "Metric": "Mammogram",
              "Name": "Michael Fleming",
              "Percentage": 0.3889,
              "Type": "Individual"
             },
             {
              "Clinic": "NSFM",
              "Date": "2018-05-07",
              "Metric": "Mammogram",
              "Name": "Anneliese Floyd",
              "Percentage": 0.6849,
              "Type": "Individual"
             },
             {
              "Clinic": "BellB",
              "Date": "2018-05-07",
              "Metric": "Mammogram",
              "Name": "Laura Fox",
              "Percentage": 0.7065,
              "Type": "Individual"
             },
             {
              "Clinic": "FFMC",
              "Date": "2018-05-07",
              "Metric": "Mammogram",
              "Name": "Renay Fredette",
              "Percentage": 0.5805,
              "Type": "Individual"
             },
             {
              "Clinic": "NCFP",
              "Date": "2018-05-07",
              "Metric": "Mammogram",
              "Name": "Kay-Kay Gambs",
              "Percentage": 0.5229,
              "Type": "Individual"
             },
             {
              "Clinic": "NCFP",
              "Date": "2018-05-07",
              "Metric": "Mammogram",
              "Name": "Jonathan Gamson",
              "Percentage": 0.6507,
              "Type": "Individual"
             },
             {
              "Clinic": "NSFM",
              "Date": "2018-05-07",
              "Metric": "Mammogram",
              "Name": "Elizabeth Gaylord",
              "Percentage": 0.6755,
              "Type": "Individual"
             },
             {
              "Clinic": "IFP",
              "Date": "2018-05-07",
              "Metric": "Mammogram",
              "Name": "Karen Goodman",
              "Percentage": 0.636,
              "Type": "Individual"
             },
             {
              "Clinic": "FHA",
              "Date": "2018-05-07",
              "Metric": "Mammogram",
              "Name": "Deborah Hall",
              "Percentage": 0.6616,
              "Type": "Individual"
             },
             {
              "Clinic": "NCFP",
              "Date": "2018-05-07",
              "Metric": "Mammogram",
              "Name": "Janet Hansom",
              "Percentage": 0.6753,
              "Type": "Individual"
             },
             {
              "Clinic": "LFM",
              "Date": "2018-05-07",
              "Metric": "Mammogram",
              "Name": "Larry Hartwell",
              "Percentage": 0.5631,
              "Type": "Individual"
             },
             {
              "Clinic": "SFM",
              "Date": "2018-05-07",
              "Metric": "Mammogram",
              "Name": "Shelby Hein",
              "Percentage": 0.7196,
              "Type": "Individual"
             },
             {
              "Clinic": "SFM",
              "Date": "2018-05-07",
              "Metric": "Mammogram",
              "Name": "Harry Herdman",
              "Percentage": 0.7625,
              "Type": "Individual"
             },
             {
              "Clinic": "NSFM",
              "Date": "2018-05-07",
              "Metric": "Mammogram",
              "Name": "Sarah Herman",
              "Percentage": null,
              "Type": "Individual"
             },
             {
              "Clinic": "LFM",
              "Date": "2018-05-07",
              "Metric": "Mammogram",
              "Name": "John Hiemstra",
              "Percentage": 0.6802,
              "Type": "Individual"
             },
             {
              "Clinic": "SFM",
              "Date": "2018-05-07",
              "Metric": "Mammogram",
              "Name": "Heather Honey",
              "Percentage": 0.6066,
              "Type": "Individual"
             },
             {
              "Clinic": "FHA",
              "Date": "2018-05-07",
              "Metric": "Mammogram",
              "Name": "Ryan Honey",
              "Percentage": 0.4141,
              "Type": "Individual"
             },
             {
              "Clinic": "BellB",
              "Date": "2018-05-07",
              "Metric": "Mammogram",
              "Name": "Jim Hopper",
              "Percentage": 0.7013,
              "Type": "Individual"
             },
             {
              "Clinic": "FFMC",
              "Date": "2018-05-07",
              "Metric": "Mammogram",
              "Name": "John Hruby",
              "Percentage": 0.6014,
              "Type": "Individual"
             },
             {
              "Clinic": "FHA",
              "Date": "2018-05-07",
              "Metric": "Mammogram",
              "Name": "Kellie Jacobs",
              "Percentage": 0.7457,
              "Type": "Individual"
             },
             {
              "Clinic": "IFP",
              "Date": "2018-05-07",
              "Metric": "Mammogram",
              "Name": "Michael James",
              "Percentage": 0.6537,
              "Type": "Individual"
             },
             {
              "Clinic": "FHA",
              "Date": "2018-05-07",
              "Metric": "Mammogram",
              "Name": "Sharon Kerlin",
              "Percentage": null,
              "Type": "Individual"
             },
             {
              "Clinic": "BBFM",
              "Date": "2018-05-07",
              "Metric": "Mammogram",
              "Name": "Jessica Klassen",
              "Percentage": 0.5502,
              "Type": "Individual"
             },
             {
              "Clinic": "FHA",
              "Date": "2018-05-07",
              "Metric": "Mammogram",
              "Name": "Meghan Lelonek",
              "Percentage": 0.6,
              "Type": "Individual"
             },
             {
              "Clinic": "FFMC",
              "Date": "2018-05-07",
              "Metric": "Mammogram",
              "Name": "Stephen Lewis",
              "Percentage": 0.6327,
              "Type": "Individual"
             },
             {
              "Clinic": "FFMC",
              "Date": "2018-05-07",
              "Metric": "Mammogram",
              "Name": "Erin Maloney",
              "Percentage": null,
              "Type": "Individual"
             },
             {
              "Clinic": "NCFP",
              "Date": "2018-05-07",
              "Metric": "Mammogram",
              "Name": "Ross McConahey",
              "Percentage": null,
              "Type": "Individual"
             },
             {
              "Clinic": "NSFM",
              "Date": "2018-05-07",
              "Metric": "Mammogram",
              "Name": "Patrick McLaughlin",
              "Percentage": 0.4881,
              "Type": "Individual"
             },
             {
              "Clinic": "NCFP",
              "Date": "2018-05-07",
              "Metric": "Mammogram",
              "Name": "Sally McPherson",
              "Percentage": 0.6074,
              "Type": "Individual"
             },
             {
              "Clinic": "NCFP",
              "Date": "2018-05-07",
              "Metric": "Mammogram",
              "Name": "Lucia Muller",
              "Percentage": 0.6696,
              "Type": "Individual"
             },
             {
              "Clinic": "BellB",
              "Date": "2018-05-07",
              "Metric": "Mammogram",
              "Name": "Karen O’Keefe",
              "Percentage": 0.7982,
              "Type": "Individual"
             },
             {
              "Clinic": "SFM",
              "Date": "2018-05-07",
              "Metric": "Mammogram",
              "Name": "Lillian Pavlik",
              "Percentage": null,
              "Type": "Individual"
             },
             {
              "Clinic": "LFM",
              "Date": "2018-05-07",
              "Metric": "Mammogram",
              "Name": "Patricia Payne-Zajac",
              "Percentage": 0.6474,
              "Type": "Individual"
             },
             {
              "Clinic": "NCFP",
              "Date": "2018-05-07",
              "Metric": "Mammogram",
              "Name": "Jonathan Ploudre",
              "Percentage": 0.7158,
              "Type": "Individual"
             },
             {
              "Clinic": "NSFM",
              "Date": "2018-05-07",
              "Metric": "Mammogram",
              "Name": "John Raduege",
              "Percentage": 0.6752,
              "Type": "Individual"
             },
             {
              "Clinic": "BBFM",
              "Date": "2018-05-07",
              "Metric": "Mammogram",
              "Name": "Teresa Regier",
              "Percentage": 0.429,
              "Type": "Individual"
             },
             {
              "Clinic": "FFMC",
              "Date": "2018-05-07",
              "Metric": "Mammogram",
              "Name": "Claudia Rey",
              "Percentage": 0.6,
              "Type": "Individual"
             },
             {
              "Clinic": "IFP",
              "Date": "2018-05-07",
              "Metric": "Mammogram",
              "Name": "Robert Rieger",
              "Percentage": 0.75,
              "Type": "Individual"
             },
             {
              "Clinic": "SFM",
              "Date": "2018-05-07",
              "Metric": "Mammogram",
              "Name": "Deborah Roessler",
              "Percentage": 0.6443,
              "Type": "Individual"
             },
             {
              "Clinic": "FFMC",
              "Date": "2018-05-07",
              "Metric": "Mammogram",
              "Name": "Berdi Sanford",
              "Percentage": 0.732,
              "Type": "Individual"
             },
             {
              "Clinic": "NCFP",
              "Date": "2018-05-07",
              "Metric": "Mammogram",
              "Name": "Lauren Sauve",
              "Percentage": 0.6254,
              "Type": "Individual"
             },
             {
              "Clinic": "BellB",
              "Date": "2018-05-07",
              "Metric": "Mammogram",
              "Name": "Melana Schimke",
              "Percentage": 0.6164,
              "Type": "Individual"
             },
             {
              "Clinic": "FHA",
              "Date": "2018-05-07",
              "Metric": "Mammogram",
              "Name": "Miriam Shapiro",
              "Percentage": 0.6974,
              "Type": "Individual"
             },
             {
              "Clinic": "NSFM",
              "Date": "2018-05-07",
              "Metric": "Mammogram",
              "Name": "Jason Short",
              "Percentage": 0.6517,
              "Type": "Individual"
             },
             {
              "Clinic": "NSFM",
              "Date": "2018-05-07",
              "Metric": "Mammogram",
              "Name": "Vicki Short",
              "Percentage": 0.6584,
              "Type": "Individual"
             },
             {
              "Clinic": "LFM",
              "Date": "2018-05-07",
              "Metric": "Mammogram",
              "Name": "Ashley Snyder",
              "Percentage": 0.6709,
              "Type": "Individual"
             },
             {
              "Clinic": "FFMC",
              "Date": "2018-05-07",
              "Metric": "Mammogram",
              "Name": "Kalani Synder",
              "Percentage": 0.3478,
              "Type": "Individual"
             },
             {
              "Clinic": "NSFM",
              "Date": "2018-05-07",
              "Metric": "Mammogram",
              "Name": "Mary Swanson",
              "Percentage": 0.773,
              "Type": "Individual"
             },
             {
              "Clinic": "IFP",
              "Date": "2018-05-07",
              "Metric": "Mammogram",
              "Name": "Magaret Sweeney",
              "Percentage": 0.8826,
              "Type": "Individual"
             },
             {
              "Clinic": "WFM",
              "Date": "2018-05-07",
              "Metric": "Mammogram",
              "Name": "Heather Thomson",
              "Percentage": 0.6,
              "Type": "Individual"
             },
             {
              "Clinic": "BellB",
              "Date": "2018-05-07",
              "Metric": "Mammogram",
              "Name": "Lisa Van Hofwegen",
              "Percentage": 0.7308,
              "Type": "Individual"
             },
             {
              "Clinic": "NSFM",
              "Date": "2018-05-07",
              "Metric": "Mammogram",
              "Name": "April Wakefield-Pagels",
              "Percentage": 0.6702,
              "Type": "Individual"
             },
             {
              "Clinic": "SFM",
              "Date": "2018-05-07",
              "Metric": "Mammogram",
              "Name": "Joy Welty",
              "Percentage": 0.6337,
              "Type": "Individual"
             },
             {
              "Clinic": "SFM",
              "Date": "2018-05-07",
              "Metric": "Mammogram",
              "Name": "Matt Werner",
              "Percentage": 0.6567,
              "Type": "Individual"
             },
             {
              "Clinic": "NCFP",
              "Date": "2018-05-07",
              "Metric": "Mammogram",
              "Name": "Sloane Winkes",
              "Percentage": 0.7931,
              "Type": "Individual"
             },
             {
              "Clinic": "NSFM",
              "Date": "2018-05-07",
              "Metric": "Mammogram",
              "Name": "Ying Wu",
              "Percentage": 0.7573,
              "Type": "Individual"
             },
             {
              "Clinic": "FHA",
              "Date": "2018-05-07",
              "Metric": "Mammogram",
              "Name": "Ashley Yoder",
              "Percentage": 0.7354,
              "Type": "Individual"
             }
            ]
           },
           "encoding": {
            "y": {
             "axis": {
              "format": "%"
             },
             "field": "Percentage",
             "scale": {
              "domain": [
               0,
               1
              ]
             },
             "type": "quantitative"
            }
           },
           "mark": {
            "color": "red",
            "type": "tick"
           },
           "transform": [
            {
             "filter": {
              "equal": "Jonathan Ploudre",
              "field": "Name"
             }
            }
           ]
          }
         ]
        }
       ]
      },
      "image/png": "[encoded data removed]",
      "text/plain": [
       "<VegaLite 2 object>\n",
       "\n",
       "If you see this message, it means the renderer has not been properly enabled\n",
       "for the frontend that you are using. For more information, see\n",
       "https://altair-viz.github.io/user_guide/troubleshooting.html\n"
      ]
     },
     "execution_count": 25,
     "metadata": {},
     "output_type": "execute_result"
    }
   ],
   "source": [
    "metric = 'Mammogram'\n",
    "type = 'Individual'\n",
    "name = 'Jonathan Ploudre'\n",
    "\n",
    "current_date = max(df['Date'])\n",
    "current_metric = df[(df['Metric']==metric) & \n",
    "                         (df['Type']==type) &\n",
    "                   (df['Date']==current_date)]\n",
    "\n",
    "fcn_current_strip_chart = alt.Chart(current_metric\n",
    "    ).mark_tick(\n",
    "    ).encode(\n",
    "        alt.Y('Percentage:Q', axis=alt.Axis(format=\"%\")),\n",
    "    )\n",
    "\n",
    "provider_highlight_strip = alt.Chart(current_metric\n",
    "    ).mark_tick(\n",
    "    color='red',\n",
    "    ).transform_filter(\n",
    "    alt.FieldEqualPredicate(field='Name', equal=name)\n",
    "    ).encode(\n",
    "        alt.Y('Percentage:Q', \n",
    "              axis=alt.Axis(format=\"%\"),\n",
    "              scale=alt.Scale(domain=(0, 1))),\n",
    "    )\n",
    "\n",
    "progress_line = alt.Chart(df[(df['Metric']==metric) & \n",
    "                         (df['Type']==type) &\n",
    "                         (df['Name']==name)]\n",
    "    ).mark_line(\n",
    "    ).encode(\n",
    "        alt.X('Date:T', title=\"\"),\n",
    "        alt.Y('Percentage:Q', axis=alt.Axis(format=\"%\"), \n",
    "              scale=alt.Scale(domain=(0, 1))),\n",
    "    )\n",
    "\n",
    "progress_line | (fcn_current_strip_chart + provider_highlight_strip)"
   ]
  },
  {
   "cell_type": "code",
   "execution_count": null,
   "metadata": {},
   "outputs": [],
   "source": []
  }
 ],
 "metadata": {
  "kernelspec": {
   "display_name": "Python 3",
   "language": "python",
   "name": "python3"
  },
  "language_info": {
   "codemirror_mode": {
    "name": "ipython",
    "version": 3
   },
   "file_extension": ".py",
   "mimetype": "text/x-python",
   "name": "python",
   "nbconvert_exporter": "python",
   "pygments_lexer": "ipython3",
   "version": "3.6.4"
  }
 },
 "nbformat": 4,
 "nbformat_minor": 2
}
