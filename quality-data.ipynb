{
 "cells": [
  {
   "cell_type": "markdown",
   "metadata": {},
   "source": [
    "# Initial Imports & Setup"
   ]
  },
  {
   "cell_type": "code",
   "execution_count": 1,
   "metadata": {},
   "outputs": [],
   "source": [
    "# Data Science Modules\n",
    "import numpy as np\n",
    "import pandas as pd\n",
    "import altair as alt\n",
    "from selenium import webdriver\n",
    "\n",
    "# Python Modules\n",
    "import glob as glob\n",
    "import os\n",
    "import datetime as datetime\n",
    "\n",
    "%load_ext blackcellmagic"
   ]
  },
  {
   "cell_type": "markdown",
   "metadata": {},
   "source": [
    "# Lookup Data\n",
    "\n",
    "* **./files/names.csv**: CSV File with Provider/Clinic Names, etc. Names is used to determine active providers/clinics. (So if there's no name, it wont get evaluated later -- say, for example, after Everson Closes.)\n",
    "* **./files/metrics.csv**: CSV File with Metrics information (Display Name, Category, Target, etc.)"
   ]
  },
  {
   "cell_type": "code",
   "execution_count": 2,
   "metadata": {},
   "outputs": [],
   "source": [
    "# Read Lookup files into dataframes for mapping\n",
    "names = pd.read_csv(\"./files/names.csv\", index_col=\"MeridiosName\")\n",
    "metrics = pd.read_csv(\n",
    "    \"./files/metrics.csv\", index_col=\"MeridiosMetric\", dtype={\"MeridiosMetric\": object}\n",
    ")\n"
   ]
  },
  {
   "cell_type": "markdown",
   "metadata": {},
   "source": [
    "# Import Data from /data folder.\n",
    "\n",
    "This makes a dataframe in a 'Tidy Data' format.\n",
    "\n",
    "* **./data/(Zero-Padded Date at beginning of CSVs from Meridos).csv**: Files from Automatic weekly report from Meridios"
   ]
  },
  {
   "cell_type": "code",
   "execution_count": 4,
   "metadata": {},
   "outputs": [],
   "source": [
    "# The base dataframe, df, get's transformed into different data subsets.\n",
    "df = pd.DataFrame()\n",
    "\n",
    "# Read in all the data files and append to dataframe\n",
    "files = glob.glob(\"./data/*.csv\")\n",
    "for file in files:\n",
    "    filedf = pd.read_csv(file, usecols=[\"NAME\", \"Metricname\", \"SeenNum\", \"SeenDenom\"])\n",
    "    # Prettier Names but we'll drop these eventually.\n",
    "    filedf = filedf.rename(\n",
    "        columns={\n",
    "            \"NAME\": \"MeridiosName\",\n",
    "            \"Metricname\": \"MeridiosMetric\",\n",
    "            \"SeenNum\": \"Numerator\",\n",
    "            \"SeenDenom\": \"Denominator\",\n",
    "        }\n",
    "    )\n",
    "\n",
    "    # Add Lookup Columns.\n",
    "    filedf[\"Name\"] = filedf.MeridiosName.map(names.Name)\n",
    "    filedf[\"Type\"] = filedf.MeridiosName.map(names.Type)\n",
    "    filedf[\"Clinic\"] = filedf.MeridiosName.map(names.Clinic)\n",
    "    filedf[\"Metric\"] = filedf.MeridiosMetric.map(metrics.Metric)\n",
    "\n",
    "    # Who are we kidding with precision? Round to Basis points\n",
    "    # Not actually percentage (but rather than * 100 leaving for formatting\n",
    "    # in visualization.)\n",
    "    filedf[\"Percentage\"] = round(filedf[\"Numerator\"] / filedf[\"Denominator\"], 4)\n",
    "\n",
    "    # Zero Padded Dates with Dots. Like: \"03.15.2018\" We're using the filename\n",
    "    # as the source of the date column because Meridios exports haven't always\n",
    "    # had the date-time data correct.\n",
    "    filename_parts = file[7:-4].split(\" \")\n",
    "    if len(str(filename_parts[0])) is 10:\n",
    "        filedf[\"Date\"] = datetime.datetime.strptime(filename_parts[0], \"%m.%d.%Y\")\n",
    "\n",
    "        # Now delete the 'raw' columns from import so dataframe is smaller.\n",
    "        filedf.drop(\n",
    "            [\"MeridiosName\", \"MeridiosMetric\", \"Numerator\", \"Denominator\"],\n",
    "            axis=1,\n",
    "            inplace=True,\n",
    "        )\n",
    "        df = df.append(filedf)\n",
    "    else:\n",
    "        # We're only appending data that had Zero Padded Date at\n",
    "        # beginning of filename.\n",
    "        print(\"CSV Data File doesn't have Zero-Padded Date at beginning.\")\n"
   ]
  },
  {
   "cell_type": "markdown",
   "metadata": {},
   "source": [
    "# Dataframe Review\n",
    "\n",
    "The dataframe is the dataset for all the various graphs. We can inspect it various ways, if needed. (Used for development, not really validation.)"
   ]
  },
  {
   "cell_type": "code",
   "execution_count": 55,
   "metadata": {},
   "outputs": [],
   "source": [
    "# df.dtypes\n",
    "# df.info()\n",
    "# df.describe()\n",
    "# df.columns\n",
    "# df.Metric.unique()\n",
    "# df.head()\n",
    "# metrics.head()"
   ]
  },
  {
   "cell_type": "markdown",
   "metadata": {},
   "source": [
    "## Validations:\n",
    "\n",
    "* Do new CSV files include new MeridiosName, New Metric items? (Has the underlying report changed? Such as when edited provider name.)\n",
    "* Should we keep a list of already imported data and do some message to clarify after new data is available?\n",
    "* Percentages under 0% and over 100% are report errors\n",
    "\n",
    "Currently no validations. But probably should automate checks that new data from report is accurate. "
   ]
  },
  {
   "cell_type": "markdown",
   "metadata": {},
   "source": [
    "# Make Individual Graphs\n",
    "\n",
    "make_individual_metric_chart makes a layered chart with the individuals recent progress, their clinic's progress, and how it's currently distributed in FCN. Assumes that dataframes names & metrics exists."
   ]
  },
  {
   "cell_type": "code",
   "execution_count": 8,
   "metadata": {},
   "outputs": [],
   "source": [
    "def make_individual_metric_chart(metric, name):\n",
    "    # Data Transformations in Pandas for graphs.\n",
    "    # assumes dataframe 'df' that has data from CSVs\n",
    "    # assumes dataframes 'names' and 'metrics' for lookups\n",
    "    \n",
    "    \n",
    "    providerdf = df[\n",
    "        (df[\"Metric\"] == metric) & (df[\"Type\"] == \"Individual\") & (df[\"Name\"] == name)\n",
    "    ]\n",
    "\n",
    "    # Lookup clinic from the provider name in the names dataframe. \n",
    "    # Make a comparison dataframe.\n",
    "    clinic_name = names[names.Name == name].iloc[0].Clinic\n",
    "    clinicdf = df[(df[\"Metric\"] == metric) & (df[\"Name\"] == clinic_name)]\n",
    "    \n",
    "    # Lookup the metric target -- not all metrics have a target. \n",
    "    try:\n",
    "        metric_target = metrics[metrics.Metric == metric].iloc[0].Target\n",
    "    except:\n",
    "        metric_target = False\n",
    "\n",
    "    # If there's a target value, we'll make a rule on graph.\n",
    "    if metric_target:\n",
    "        metricdf = pd.DataFrame([{\"TargetValue\": metric_target, \"Title\": \"Target\"}])\n",
    "\n",
    "    # Make a Current dataframe to use for Strip Chart. \n",
    "    current_date = max(df[\"Date\"])\n",
    "    current_metric = df[\n",
    "        (df[\"Metric\"] == metric)\n",
    "        & (df[\"Type\"] == \"Individual\")\n",
    "        & (df[\"Date\"] == current_date)\n",
    "    ]\n",
    "\n",
    "    # Altair Graphs to combine.\n",
    "    provider_progress_line = (\n",
    "        alt.Chart(providerdf)\n",
    "        .mark_line(strokeWidth=4)\n",
    "        .encode(\n",
    "            alt.X(\"Date:T\", title=\"\"),\n",
    "            alt.Y(\n",
    "                \"Percentage:Q\",\n",
    "                axis=alt.Axis(format=\"%\", title=\"\"),\n",
    "                scale=alt.Scale(domain=(0, 1)),\n",
    "            ),\n",
    "            color=alt.Color(\"Name:N\", legend=None),\n",
    "        )\n",
    "        .properties(width=200, height=200)\n",
    "    )\n",
    "\n",
    "    # 1f77b4 -- blue, #ff7f0e -- orange. Currently hardcoded but eventually\n",
    "    # will look up a clinic color. Also will be used in the HTML generation. \n",
    "\n",
    "    clinic_progress_line = (\n",
    "        alt.Chart(clinicdf)\n",
    "        .mark_line(strokeWidth=2)\n",
    "        .encode(\n",
    "            alt.X(\"Date:T\", title=\"\"),\n",
    "            alt.Y(\n",
    "                \"Percentage:Q\",\n",
    "                axis=alt.Axis(format=\"%\", title=\"\"),\n",
    "                scale=alt.Scale(domain=(0, 1)),\n",
    "            ),\n",
    "            color=alt.ColorValue(\"#ff7f0e\"),\n",
    "        )\n",
    "    )\n",
    "\n",
    "    if metric_target:\n",
    "        metric_target_rule = (\n",
    "            alt.Chart(metricdf)\n",
    "            .mark_rule(strokeWidth=1, strokeDash=[4,2])\n",
    "            .encode(\n",
    "                y=\"TargetValue:Q\", color=alt.value(\"green\"), opacity=alt.value(\"0.5\")\n",
    "            )\n",
    "        )\n",
    "\n",
    "    fcn_current_strip_chart = (\n",
    "        alt.Chart(current_metric)\n",
    "        .mark_tick(color=\"#eee\")\n",
    "        .encode(\n",
    "            alt.Y(\n",
    "                \"Percentage:Q\",\n",
    "                axis=alt.Axis(format=\"%\", title=\"\", labels=False),\n",
    "                scale=alt.Scale(domain=(0, 1)),\n",
    "            )\n",
    "        )\n",
    "        .properties(height=200)\n",
    "    )\n",
    "\n",
    "    provider_highlight_strip = (\n",
    "        alt.Chart(current_metric)\n",
    "        .mark_tick()\n",
    "        .encode(alt.Y(\"Percentage:Q\"), opacity=alt.value(\"1.0\"))\n",
    "        .transform_filter(alt.FieldEqualPredicate(field=\"Name\", equal=name))\n",
    "    )\n",
    "\n",
    "    provider_percent = (\n",
    "        provider_highlight_strip.mark_text(\n",
    "            align=\"left\", baseline=\"middle\", dx=15, size=20\n",
    "        )\n",
    "        .encode(text=alt.Text(\"Percentage:Q\", format=\".2%\"))\n",
    "        .transform_filter(alt.FieldEqualPredicate(field=\"Name\", equal=name))\n",
    "    )\n",
    "\n",
    "    if metric_target:\n",
    "        chart = provider_progress_line + clinic_progress_line + metric_target_rule | (\n",
    "            fcn_current_strip_chart + provider_highlight_strip + provider_percent\n",
    "        )\n",
    "        return chart\n",
    "    else:\n",
    "        chart = provider_progress_line + clinic_progress_line | (\n",
    "            fcn_current_strip_chart + provider_highlight_strip + provider_percent\n",
    "        )\n",
    "        return chart"
   ]
  },
  {
   "cell_type": "markdown",
   "metadata": {},
   "source": [
    "# Prepping for the chart generation\n",
    "\n",
    "* We're only looking at single providers (not clinics)\n",
    "* We're only doing some of the available metrics \n",
    "* Need the Current Date so pages can have that info."
   ]
  },
  {
   "cell_type": "code",
   "execution_count": 10,
   "metadata": {},
   "outputs": [],
   "source": [
    "# Need to just do active individuals, main metrics\n",
    "singleprovider = names[(names[\"Type\"] == \"Individual\")]\n",
    "main_metrics = [\n",
    "    \"AAA\",\n",
    "    \"Chlamydia\",\n",
    "    \"Colorectal Screen\",\n",
    "    \"DM with Statin\",\n",
    "    \"DM with ACE or ARB\",\n",
    "    \"DM Eye Exam\",\n",
    "    \"DM Foot Exam\",\n",
    "    \"Mammogram\",\n",
    "    \"DM Nephropathy\",\n",
    "    \"Pap Smears\",\n",
    "    \"DM Pneumovax\",\n",
    "    \"Over age 65 Pneumovax\",\n",
    "    \"Smoker Pneumovax\",\n",
    "    \"TD and TDAP\",\n",
    "]\n",
    "\n",
    "current_date = str(max(df[\"Date\"]))"
   ]
  },
  {
   "cell_type": "markdown",
   "metadata": {},
   "source": [
    "# Single Provider Pages\n",
    "\n",
    "This generates the graphs and makes the associated pages for single providers."
   ]
  },
  {
   "cell_type": "code",
   "execution_count": 9,
   "metadata": {},
   "outputs": [
    {
     "ename": "CannotSendRequest",
     "evalue": "Request-sent",
     "output_type": "error",
     "traceback": [
      "\u001b[0;31m---------------------------------------------------------------------------\u001b[0m",
      "\u001b[0;31mKeyboardInterrupt\u001b[0m                         Traceback (most recent call last)",
      "\u001b[0;32m~/anaconda/lib/python3.6/site-packages/altair/utils/headless.py\u001b[0m in \u001b[0;36mcompile_spec\u001b[0;34m(spec, format, mode, vega_version, vegaembed_version, vegalite_version, driver_timeout, webdriver)\u001b[0m\n\u001b[1;32m    160\u001b[0m                 \u001b[0mf\u001b[0m\u001b[0;34m.\u001b[0m\u001b[0mwrite\u001b[0m\u001b[0;34m(\u001b[0m\u001b[0mhtml\u001b[0m\u001b[0;34m)\u001b[0m\u001b[0;34m\u001b[0m\u001b[0m\n\u001b[0;32m--> 161\u001b[0;31m             \u001b[0mdriver\u001b[0m\u001b[0;34m.\u001b[0m\u001b[0mget\u001b[0m\u001b[0;34m(\u001b[0m\u001b[0;34m\"file://\"\u001b[0m \u001b[0;34m+\u001b[0m \u001b[0mhtmlfile\u001b[0m\u001b[0;34m)\u001b[0m\u001b[0;34m\u001b[0m\u001b[0m\n\u001b[0m\u001b[1;32m    162\u001b[0m             \u001b[0monline\u001b[0m \u001b[0;34m=\u001b[0m \u001b[0mdriver\u001b[0m\u001b[0;34m.\u001b[0m\u001b[0mexecute_script\u001b[0m\u001b[0;34m(\u001b[0m\u001b[0;34m\"return navigator.onLine\"\u001b[0m\u001b[0;34m)\u001b[0m\u001b[0;34m\u001b[0m\u001b[0m\n",
      "\u001b[0;32m~/anaconda/lib/python3.6/site-packages/selenium/webdriver/remote/webdriver.py\u001b[0m in \u001b[0;36mget\u001b[0;34m(self, url)\u001b[0m\n\u001b[1;32m    323\u001b[0m         \"\"\"\n\u001b[0;32m--> 324\u001b[0;31m         \u001b[0mself\u001b[0m\u001b[0;34m.\u001b[0m\u001b[0mexecute\u001b[0m\u001b[0;34m(\u001b[0m\u001b[0mCommand\u001b[0m\u001b[0;34m.\u001b[0m\u001b[0mGET\u001b[0m\u001b[0;34m,\u001b[0m \u001b[0;34m{\u001b[0m\u001b[0;34m'url'\u001b[0m\u001b[0;34m:\u001b[0m \u001b[0murl\u001b[0m\u001b[0;34m}\u001b[0m\u001b[0;34m)\u001b[0m\u001b[0;34m\u001b[0m\u001b[0m\n\u001b[0m\u001b[1;32m    325\u001b[0m \u001b[0;34m\u001b[0m\u001b[0m\n",
      "\u001b[0;32m~/anaconda/lib/python3.6/site-packages/selenium/webdriver/remote/webdriver.py\u001b[0m in \u001b[0;36mexecute\u001b[0;34m(self, driver_command, params)\u001b[0m\n\u001b[1;32m    309\u001b[0m         \u001b[0mparams\u001b[0m \u001b[0;34m=\u001b[0m \u001b[0mself\u001b[0m\u001b[0;34m.\u001b[0m\u001b[0m_wrap_value\u001b[0m\u001b[0;34m(\u001b[0m\u001b[0mparams\u001b[0m\u001b[0;34m)\u001b[0m\u001b[0;34m\u001b[0m\u001b[0m\n\u001b[0;32m--> 310\u001b[0;31m         \u001b[0mresponse\u001b[0m \u001b[0;34m=\u001b[0m \u001b[0mself\u001b[0m\u001b[0;34m.\u001b[0m\u001b[0mcommand_executor\u001b[0m\u001b[0;34m.\u001b[0m\u001b[0mexecute\u001b[0m\u001b[0;34m(\u001b[0m\u001b[0mdriver_command\u001b[0m\u001b[0;34m,\u001b[0m \u001b[0mparams\u001b[0m\u001b[0;34m)\u001b[0m\u001b[0;34m\u001b[0m\u001b[0m\n\u001b[0m\u001b[1;32m    311\u001b[0m         \u001b[0;32mif\u001b[0m \u001b[0mresponse\u001b[0m\u001b[0;34m:\u001b[0m\u001b[0;34m\u001b[0m\u001b[0m\n",
      "\u001b[0;32m~/anaconda/lib/python3.6/site-packages/selenium/webdriver/remote/remote_connection.py\u001b[0m in \u001b[0;36mexecute\u001b[0;34m(self, command, params)\u001b[0m\n\u001b[1;32m    465\u001b[0m         \u001b[0murl\u001b[0m \u001b[0;34m=\u001b[0m \u001b[0;34m'%s%s'\u001b[0m \u001b[0;34m%\u001b[0m \u001b[0;34m(\u001b[0m\u001b[0mself\u001b[0m\u001b[0;34m.\u001b[0m\u001b[0m_url\u001b[0m\u001b[0;34m,\u001b[0m \u001b[0mpath\u001b[0m\u001b[0;34m)\u001b[0m\u001b[0;34m\u001b[0m\u001b[0m\n\u001b[0;32m--> 466\u001b[0;31m         \u001b[0;32mreturn\u001b[0m \u001b[0mself\u001b[0m\u001b[0;34m.\u001b[0m\u001b[0m_request\u001b[0m\u001b[0;34m(\u001b[0m\u001b[0mcommand_info\u001b[0m\u001b[0;34m[\u001b[0m\u001b[0;36m0\u001b[0m\u001b[0;34m]\u001b[0m\u001b[0;34m,\u001b[0m \u001b[0murl\u001b[0m\u001b[0;34m,\u001b[0m \u001b[0mbody\u001b[0m\u001b[0;34m=\u001b[0m\u001b[0mdata\u001b[0m\u001b[0;34m)\u001b[0m\u001b[0;34m\u001b[0m\u001b[0m\n\u001b[0m\u001b[1;32m    467\u001b[0m \u001b[0;34m\u001b[0m\u001b[0m\n",
      "\u001b[0;32m~/anaconda/lib/python3.6/site-packages/selenium/webdriver/remote/remote_connection.py\u001b[0m in \u001b[0;36m_request\u001b[0;34m(self, method, url, body)\u001b[0m\n\u001b[1;32m    489\u001b[0m                 \u001b[0mself\u001b[0m\u001b[0;34m.\u001b[0m\u001b[0m_conn\u001b[0m\u001b[0;34m.\u001b[0m\u001b[0mrequest\u001b[0m\u001b[0;34m(\u001b[0m\u001b[0mmethod\u001b[0m\u001b[0;34m,\u001b[0m \u001b[0mparsed_url\u001b[0m\u001b[0;34m.\u001b[0m\u001b[0mpath\u001b[0m\u001b[0;34m,\u001b[0m \u001b[0mbody\u001b[0m\u001b[0;34m,\u001b[0m \u001b[0mheaders\u001b[0m\u001b[0;34m)\u001b[0m\u001b[0;34m\u001b[0m\u001b[0m\n\u001b[0;32m--> 490\u001b[0;31m                 \u001b[0mresp\u001b[0m \u001b[0;34m=\u001b[0m \u001b[0mself\u001b[0m\u001b[0;34m.\u001b[0m\u001b[0m_conn\u001b[0m\u001b[0;34m.\u001b[0m\u001b[0mgetresponse\u001b[0m\u001b[0;34m(\u001b[0m\u001b[0;34m)\u001b[0m\u001b[0;34m\u001b[0m\u001b[0m\n\u001b[0m\u001b[1;32m    491\u001b[0m             \u001b[0;32mexcept\u001b[0m \u001b[0;34m(\u001b[0m\u001b[0mhttplib\u001b[0m\u001b[0;34m.\u001b[0m\u001b[0mHTTPException\u001b[0m\u001b[0;34m,\u001b[0m \u001b[0msocket\u001b[0m\u001b[0;34m.\u001b[0m\u001b[0merror\u001b[0m\u001b[0;34m)\u001b[0m\u001b[0;34m:\u001b[0m\u001b[0;34m\u001b[0m\u001b[0m\n",
      "\u001b[0;32m~/anaconda/lib/python3.6/http/client.py\u001b[0m in \u001b[0;36mgetresponse\u001b[0;34m(self)\u001b[0m\n\u001b[1;32m   1330\u001b[0m             \u001b[0;32mtry\u001b[0m\u001b[0;34m:\u001b[0m\u001b[0;34m\u001b[0m\u001b[0m\n\u001b[0;32m-> 1331\u001b[0;31m                 \u001b[0mresponse\u001b[0m\u001b[0;34m.\u001b[0m\u001b[0mbegin\u001b[0m\u001b[0;34m(\u001b[0m\u001b[0;34m)\u001b[0m\u001b[0;34m\u001b[0m\u001b[0m\n\u001b[0m\u001b[1;32m   1332\u001b[0m             \u001b[0;32mexcept\u001b[0m \u001b[0mConnectionError\u001b[0m\u001b[0;34m:\u001b[0m\u001b[0;34m\u001b[0m\u001b[0m\n",
      "\u001b[0;32m~/anaconda/lib/python3.6/http/client.py\u001b[0m in \u001b[0;36mbegin\u001b[0;34m(self)\u001b[0m\n\u001b[1;32m    296\u001b[0m         \u001b[0;32mwhile\u001b[0m \u001b[0;32mTrue\u001b[0m\u001b[0;34m:\u001b[0m\u001b[0;34m\u001b[0m\u001b[0m\n\u001b[0;32m--> 297\u001b[0;31m             \u001b[0mversion\u001b[0m\u001b[0;34m,\u001b[0m \u001b[0mstatus\u001b[0m\u001b[0;34m,\u001b[0m \u001b[0mreason\u001b[0m \u001b[0;34m=\u001b[0m \u001b[0mself\u001b[0m\u001b[0;34m.\u001b[0m\u001b[0m_read_status\u001b[0m\u001b[0;34m(\u001b[0m\u001b[0;34m)\u001b[0m\u001b[0;34m\u001b[0m\u001b[0m\n\u001b[0m\u001b[1;32m    298\u001b[0m             \u001b[0;32mif\u001b[0m \u001b[0mstatus\u001b[0m \u001b[0;34m!=\u001b[0m \u001b[0mCONTINUE\u001b[0m\u001b[0;34m:\u001b[0m\u001b[0;34m\u001b[0m\u001b[0m\n",
      "\u001b[0;32m~/anaconda/lib/python3.6/http/client.py\u001b[0m in \u001b[0;36m_read_status\u001b[0;34m(self)\u001b[0m\n\u001b[1;32m    257\u001b[0m     \u001b[0;32mdef\u001b[0m \u001b[0m_read_status\u001b[0m\u001b[0;34m(\u001b[0m\u001b[0mself\u001b[0m\u001b[0;34m)\u001b[0m\u001b[0;34m:\u001b[0m\u001b[0;34m\u001b[0m\u001b[0m\n\u001b[0;32m--> 258\u001b[0;31m         \u001b[0mline\u001b[0m \u001b[0;34m=\u001b[0m \u001b[0mstr\u001b[0m\u001b[0;34m(\u001b[0m\u001b[0mself\u001b[0m\u001b[0;34m.\u001b[0m\u001b[0mfp\u001b[0m\u001b[0;34m.\u001b[0m\u001b[0mreadline\u001b[0m\u001b[0;34m(\u001b[0m\u001b[0m_MAXLINE\u001b[0m \u001b[0;34m+\u001b[0m \u001b[0;36m1\u001b[0m\u001b[0;34m)\u001b[0m\u001b[0;34m,\u001b[0m \u001b[0;34m\"iso-8859-1\"\u001b[0m\u001b[0;34m)\u001b[0m\u001b[0;34m\u001b[0m\u001b[0m\n\u001b[0m\u001b[1;32m    259\u001b[0m         \u001b[0;32mif\u001b[0m \u001b[0mlen\u001b[0m\u001b[0;34m(\u001b[0m\u001b[0mline\u001b[0m\u001b[0;34m)\u001b[0m \u001b[0;34m>\u001b[0m \u001b[0m_MAXLINE\u001b[0m\u001b[0;34m:\u001b[0m\u001b[0;34m\u001b[0m\u001b[0m\n",
      "\u001b[0;32m~/anaconda/lib/python3.6/socket.py\u001b[0m in \u001b[0;36mreadinto\u001b[0;34m(self, b)\u001b[0m\n\u001b[1;32m    585\u001b[0m             \u001b[0;32mtry\u001b[0m\u001b[0;34m:\u001b[0m\u001b[0;34m\u001b[0m\u001b[0m\n\u001b[0;32m--> 586\u001b[0;31m                 \u001b[0;32mreturn\u001b[0m \u001b[0mself\u001b[0m\u001b[0;34m.\u001b[0m\u001b[0m_sock\u001b[0m\u001b[0;34m.\u001b[0m\u001b[0mrecv_into\u001b[0m\u001b[0;34m(\u001b[0m\u001b[0mb\u001b[0m\u001b[0;34m)\u001b[0m\u001b[0;34m\u001b[0m\u001b[0m\n\u001b[0m\u001b[1;32m    587\u001b[0m             \u001b[0;32mexcept\u001b[0m \u001b[0mtimeout\u001b[0m\u001b[0;34m:\u001b[0m\u001b[0;34m\u001b[0m\u001b[0m\n",
      "\u001b[0;31mKeyboardInterrupt\u001b[0m: ",
      "\nDuring handling of the above exception, another exception occurred:\n",
      "\u001b[0;31mCannotSendRequest\u001b[0m                         Traceback (most recent call last)",
      "\u001b[0;32m<ipython-input-9-456564472101>\u001b[0m in \u001b[0;36m<module>\u001b[0;34m()\u001b[0m\n\u001b[1;32m      7\u001b[0m                 \u001b[0mos\u001b[0m\u001b[0;34m.\u001b[0m\u001b[0mmakedirs\u001b[0m\u001b[0;34m(\u001b[0m\u001b[0;34m\"./docs/\"\u001b[0m \u001b[0;34m+\u001b[0m \u001b[0mfoldername\u001b[0m\u001b[0;34m)\u001b[0m\u001b[0;34m\u001b[0m\u001b[0m\n\u001b[1;32m      8\u001b[0m             chart.save(\n\u001b[0;32m----> 9\u001b[0;31m                 \u001b[0;34m\"./docs/\"\u001b[0m \u001b[0;34m+\u001b[0m \u001b[0mfoldername\u001b[0m \u001b[0;34m+\u001b[0m \u001b[0;34m\"/\"\u001b[0m \u001b[0;34m+\u001b[0m \u001b[0mstr\u001b[0m\u001b[0;34m(\u001b[0m\u001b[0mmetric\u001b[0m\u001b[0;34m)\u001b[0m\u001b[0;34m.\u001b[0m\u001b[0mreplace\u001b[0m\u001b[0;34m(\u001b[0m\u001b[0;34m\" \"\u001b[0m\u001b[0;34m,\u001b[0m \u001b[0;34m\"_\"\u001b[0m\u001b[0;34m)\u001b[0m \u001b[0;34m+\u001b[0m \u001b[0;34m\".png\"\u001b[0m\u001b[0;34m\u001b[0m\u001b[0m\n\u001b[0m\u001b[1;32m     10\u001b[0m             )\n\u001b[1;32m     11\u001b[0m \u001b[0;34m\u001b[0m\u001b[0m\n",
      "\u001b[0;32m~/anaconda/lib/python3.6/site-packages/altair/vegalite/v2/api.py\u001b[0m in \u001b[0;36msave\u001b[0;34m(self, fp, format, override_data_transformer, **kwargs)\u001b[0m\n\u001b[1;32m    406\u001b[0m         \u001b[0;32mif\u001b[0m \u001b[0moverride_data_transformer\u001b[0m\u001b[0;34m:\u001b[0m\u001b[0;34m\u001b[0m\u001b[0m\n\u001b[1;32m    407\u001b[0m             \u001b[0;32mwith\u001b[0m \u001b[0mdata_transformers\u001b[0m\u001b[0;34m.\u001b[0m\u001b[0menable\u001b[0m\u001b[0;34m(\u001b[0m\u001b[0;34m'default'\u001b[0m\u001b[0;34m,\u001b[0m \u001b[0mmax_rows\u001b[0m\u001b[0;34m=\u001b[0m\u001b[0;32mNone\u001b[0m\u001b[0;34m)\u001b[0m\u001b[0;34m:\u001b[0m\u001b[0;34m\u001b[0m\u001b[0m\n\u001b[0;32m--> 408\u001b[0;31m                 \u001b[0mresult\u001b[0m \u001b[0;34m=\u001b[0m \u001b[0msave\u001b[0m\u001b[0;34m(\u001b[0m\u001b[0;34m**\u001b[0m\u001b[0mkwds\u001b[0m\u001b[0;34m)\u001b[0m\u001b[0;34m\u001b[0m\u001b[0m\n\u001b[0m\u001b[1;32m    409\u001b[0m         \u001b[0;32melse\u001b[0m\u001b[0;34m:\u001b[0m\u001b[0;34m\u001b[0m\u001b[0m\n\u001b[1;32m    410\u001b[0m             \u001b[0mresult\u001b[0m \u001b[0;34m=\u001b[0m \u001b[0msave\u001b[0m\u001b[0;34m(\u001b[0m\u001b[0;34m**\u001b[0m\u001b[0mkwds\u001b[0m\u001b[0;34m)\u001b[0m\u001b[0;34m\u001b[0m\u001b[0m\n",
      "\u001b[0;32m~/anaconda/lib/python3.6/site-packages/altair/utils/save.py\u001b[0m in \u001b[0;36msave\u001b[0;34m(chart, fp, vega_version, vegaembed_version, format, mode, vegalite_version, embed_options, json_kwds, webdriver)\u001b[0m\n\u001b[1;32m     88\u001b[0m                                         \u001b[0mvegalite_version\u001b[0m\u001b[0;34m=\u001b[0m\u001b[0mvegalite_version\u001b[0m\u001b[0;34m,\u001b[0m\u001b[0;34m\u001b[0m\u001b[0m\n\u001b[1;32m     89\u001b[0m                                         \u001b[0mvegaembed_version\u001b[0m\u001b[0;34m=\u001b[0m\u001b[0mvegaembed_version\u001b[0m\u001b[0;34m,\u001b[0m\u001b[0;34m\u001b[0m\u001b[0m\n\u001b[0;32m---> 90\u001b[0;31m                                         webdriver=webdriver)\n\u001b[0m\u001b[1;32m     91\u001b[0m         \u001b[0;32mif\u001b[0m \u001b[0mformat\u001b[0m \u001b[0;34m==\u001b[0m \u001b[0;34m'png'\u001b[0m\u001b[0;34m:\u001b[0m\u001b[0;34m\u001b[0m\u001b[0m\n\u001b[1;32m     92\u001b[0m             \u001b[0mwrite_file_or_filename\u001b[0m\u001b[0;34m(\u001b[0m\u001b[0mfp\u001b[0m\u001b[0;34m,\u001b[0m \u001b[0mmimebundle\u001b[0m\u001b[0;34m[\u001b[0m\u001b[0;34m'image/png'\u001b[0m\u001b[0;34m]\u001b[0m\u001b[0;34m,\u001b[0m \u001b[0mmode\u001b[0m\u001b[0;34m=\u001b[0m\u001b[0;34m'wb'\u001b[0m\u001b[0;34m)\u001b[0m\u001b[0;34m\u001b[0m\u001b[0m\n",
      "\u001b[0;32m~/anaconda/lib/python3.6/site-packages/altair/utils/mimebundle.py\u001b[0m in \u001b[0;36mspec_to_mimebundle\u001b[0;34m(spec, format, mode, vega_version, vegaembed_version, vegalite_version, **kwargs)\u001b[0m\n\u001b[1;32m     54\u001b[0m                               \u001b[0mvega_version\u001b[0m\u001b[0;34m=\u001b[0m\u001b[0mvega_version\u001b[0m\u001b[0;34m,\u001b[0m\u001b[0;34m\u001b[0m\u001b[0m\n\u001b[1;32m     55\u001b[0m                               \u001b[0mvegaembed_version\u001b[0m\u001b[0;34m=\u001b[0m\u001b[0mvegaembed_version\u001b[0m\u001b[0;34m,\u001b[0m\u001b[0;34m\u001b[0m\u001b[0m\n\u001b[0;32m---> 56\u001b[0;31m                               vegalite_version=vegalite_version, **kwargs)\n\u001b[0m\u001b[1;32m     57\u001b[0m         \u001b[0;32mif\u001b[0m \u001b[0mformat\u001b[0m \u001b[0;34m==\u001b[0m \u001b[0;34m'png'\u001b[0m\u001b[0;34m:\u001b[0m\u001b[0;34m\u001b[0m\u001b[0m\n\u001b[1;32m     58\u001b[0m             \u001b[0mrender\u001b[0m \u001b[0;34m=\u001b[0m \u001b[0mbase64\u001b[0m\u001b[0;34m.\u001b[0m\u001b[0mdecodebytes\u001b[0m\u001b[0;34m(\u001b[0m\u001b[0mrender\u001b[0m\u001b[0;34m.\u001b[0m\u001b[0msplit\u001b[0m\u001b[0;34m(\u001b[0m\u001b[0;34m','\u001b[0m\u001b[0;34m,\u001b[0m \u001b[0;36m1\u001b[0m\u001b[0;34m)\u001b[0m\u001b[0;34m[\u001b[0m\u001b[0;36m1\u001b[0m\u001b[0;34m]\u001b[0m\u001b[0;34m.\u001b[0m\u001b[0mencode\u001b[0m\u001b[0;34m(\u001b[0m\u001b[0;34m)\u001b[0m\u001b[0;34m)\u001b[0m\u001b[0;34m\u001b[0m\u001b[0m\n",
      "\u001b[0;32m~/anaconda/lib/python3.6/site-packages/altair/utils/headless.py\u001b[0m in \u001b[0;36mcompile_spec\u001b[0;34m(spec, format, mode, vega_version, vegaembed_version, vegalite_version, driver_timeout, webdriver)\u001b[0m\n\u001b[1;32m    167\u001b[0m                                                spec, mode)\n\u001b[1;32m    168\u001b[0m     \u001b[0;32mfinally\u001b[0m\u001b[0;34m:\u001b[0m\u001b[0;34m\u001b[0m\u001b[0m\n\u001b[0;32m--> 169\u001b[0;31m         \u001b[0mdriver\u001b[0m\u001b[0;34m.\u001b[0m\u001b[0mclose\u001b[0m\u001b[0;34m(\u001b[0m\u001b[0;34m)\u001b[0m\u001b[0;34m\u001b[0m\u001b[0m\n\u001b[0m",
      "\u001b[0;32m~/anaconda/lib/python3.6/site-packages/selenium/webdriver/remote/webdriver.py\u001b[0m in \u001b[0;36mclose\u001b[0;34m(self)\u001b[0m\n\u001b[1;32m    677\u001b[0m             \u001b[0mdriver\u001b[0m\u001b[0;34m.\u001b[0m\u001b[0mclose\u001b[0m\u001b[0;34m(\u001b[0m\u001b[0;34m)\u001b[0m\u001b[0;34m\u001b[0m\u001b[0m\n\u001b[1;32m    678\u001b[0m         \"\"\"\n\u001b[0;32m--> 679\u001b[0;31m         \u001b[0mself\u001b[0m\u001b[0;34m.\u001b[0m\u001b[0mexecute\u001b[0m\u001b[0;34m(\u001b[0m\u001b[0mCommand\u001b[0m\u001b[0;34m.\u001b[0m\u001b[0mCLOSE\u001b[0m\u001b[0;34m)\u001b[0m\u001b[0;34m\u001b[0m\u001b[0m\n\u001b[0m\u001b[1;32m    680\u001b[0m \u001b[0;34m\u001b[0m\u001b[0m\n\u001b[1;32m    681\u001b[0m     \u001b[0;32mdef\u001b[0m \u001b[0mquit\u001b[0m\u001b[0;34m(\u001b[0m\u001b[0mself\u001b[0m\u001b[0;34m)\u001b[0m\u001b[0;34m:\u001b[0m\u001b[0;34m\u001b[0m\u001b[0m\n",
      "\u001b[0;32m~/anaconda/lib/python3.6/site-packages/selenium/webdriver/remote/webdriver.py\u001b[0m in \u001b[0;36mexecute\u001b[0;34m(self, driver_command, params)\u001b[0m\n\u001b[1;32m    308\u001b[0m \u001b[0;34m\u001b[0m\u001b[0m\n\u001b[1;32m    309\u001b[0m         \u001b[0mparams\u001b[0m \u001b[0;34m=\u001b[0m \u001b[0mself\u001b[0m\u001b[0;34m.\u001b[0m\u001b[0m_wrap_value\u001b[0m\u001b[0;34m(\u001b[0m\u001b[0mparams\u001b[0m\u001b[0;34m)\u001b[0m\u001b[0;34m\u001b[0m\u001b[0m\n\u001b[0;32m--> 310\u001b[0;31m         \u001b[0mresponse\u001b[0m \u001b[0;34m=\u001b[0m \u001b[0mself\u001b[0m\u001b[0;34m.\u001b[0m\u001b[0mcommand_executor\u001b[0m\u001b[0;34m.\u001b[0m\u001b[0mexecute\u001b[0m\u001b[0;34m(\u001b[0m\u001b[0mdriver_command\u001b[0m\u001b[0;34m,\u001b[0m \u001b[0mparams\u001b[0m\u001b[0;34m)\u001b[0m\u001b[0;34m\u001b[0m\u001b[0m\n\u001b[0m\u001b[1;32m    311\u001b[0m         \u001b[0;32mif\u001b[0m \u001b[0mresponse\u001b[0m\u001b[0;34m:\u001b[0m\u001b[0;34m\u001b[0m\u001b[0m\n\u001b[1;32m    312\u001b[0m             \u001b[0mself\u001b[0m\u001b[0;34m.\u001b[0m\u001b[0merror_handler\u001b[0m\u001b[0;34m.\u001b[0m\u001b[0mcheck_response\u001b[0m\u001b[0;34m(\u001b[0m\u001b[0mresponse\u001b[0m\u001b[0;34m)\u001b[0m\u001b[0;34m\u001b[0m\u001b[0m\n",
      "\u001b[0;32m~/anaconda/lib/python3.6/site-packages/selenium/webdriver/remote/remote_connection.py\u001b[0m in \u001b[0;36mexecute\u001b[0;34m(self, command, params)\u001b[0m\n\u001b[1;32m    464\u001b[0m         \u001b[0mdata\u001b[0m \u001b[0;34m=\u001b[0m \u001b[0mutils\u001b[0m\u001b[0;34m.\u001b[0m\u001b[0mdump_json\u001b[0m\u001b[0;34m(\u001b[0m\u001b[0mparams\u001b[0m\u001b[0;34m)\u001b[0m\u001b[0;34m\u001b[0m\u001b[0m\n\u001b[1;32m    465\u001b[0m         \u001b[0murl\u001b[0m \u001b[0;34m=\u001b[0m \u001b[0;34m'%s%s'\u001b[0m \u001b[0;34m%\u001b[0m \u001b[0;34m(\u001b[0m\u001b[0mself\u001b[0m\u001b[0;34m.\u001b[0m\u001b[0m_url\u001b[0m\u001b[0;34m,\u001b[0m \u001b[0mpath\u001b[0m\u001b[0;34m)\u001b[0m\u001b[0;34m\u001b[0m\u001b[0m\n\u001b[0;32m--> 466\u001b[0;31m         \u001b[0;32mreturn\u001b[0m \u001b[0mself\u001b[0m\u001b[0;34m.\u001b[0m\u001b[0m_request\u001b[0m\u001b[0;34m(\u001b[0m\u001b[0mcommand_info\u001b[0m\u001b[0;34m[\u001b[0m\u001b[0;36m0\u001b[0m\u001b[0;34m]\u001b[0m\u001b[0;34m,\u001b[0m \u001b[0murl\u001b[0m\u001b[0;34m,\u001b[0m \u001b[0mbody\u001b[0m\u001b[0;34m=\u001b[0m\u001b[0mdata\u001b[0m\u001b[0;34m)\u001b[0m\u001b[0;34m\u001b[0m\u001b[0m\n\u001b[0m\u001b[1;32m    467\u001b[0m \u001b[0;34m\u001b[0m\u001b[0m\n\u001b[1;32m    468\u001b[0m     \u001b[0;32mdef\u001b[0m \u001b[0m_request\u001b[0m\u001b[0;34m(\u001b[0m\u001b[0mself\u001b[0m\u001b[0;34m,\u001b[0m \u001b[0mmethod\u001b[0m\u001b[0;34m,\u001b[0m \u001b[0murl\u001b[0m\u001b[0;34m,\u001b[0m \u001b[0mbody\u001b[0m\u001b[0;34m=\u001b[0m\u001b[0;32mNone\u001b[0m\u001b[0;34m)\u001b[0m\u001b[0;34m:\u001b[0m\u001b[0;34m\u001b[0m\u001b[0m\n",
      "\u001b[0;32m~/anaconda/lib/python3.6/site-packages/selenium/webdriver/remote/remote_connection.py\u001b[0m in \u001b[0;36m_request\u001b[0;34m(self, method, url, body)\u001b[0m\n\u001b[1;32m    487\u001b[0m                 \u001b[0mbody\u001b[0m \u001b[0;34m=\u001b[0m \u001b[0;32mNone\u001b[0m\u001b[0;34m\u001b[0m\u001b[0m\n\u001b[1;32m    488\u001b[0m             \u001b[0;32mtry\u001b[0m\u001b[0;34m:\u001b[0m\u001b[0;34m\u001b[0m\u001b[0m\n\u001b[0;32m--> 489\u001b[0;31m                 \u001b[0mself\u001b[0m\u001b[0;34m.\u001b[0m\u001b[0m_conn\u001b[0m\u001b[0;34m.\u001b[0m\u001b[0mrequest\u001b[0m\u001b[0;34m(\u001b[0m\u001b[0mmethod\u001b[0m\u001b[0;34m,\u001b[0m \u001b[0mparsed_url\u001b[0m\u001b[0;34m.\u001b[0m\u001b[0mpath\u001b[0m\u001b[0;34m,\u001b[0m \u001b[0mbody\u001b[0m\u001b[0;34m,\u001b[0m \u001b[0mheaders\u001b[0m\u001b[0;34m)\u001b[0m\u001b[0;34m\u001b[0m\u001b[0m\n\u001b[0m\u001b[1;32m    490\u001b[0m                 \u001b[0mresp\u001b[0m \u001b[0;34m=\u001b[0m \u001b[0mself\u001b[0m\u001b[0;34m.\u001b[0m\u001b[0m_conn\u001b[0m\u001b[0;34m.\u001b[0m\u001b[0mgetresponse\u001b[0m\u001b[0;34m(\u001b[0m\u001b[0;34m)\u001b[0m\u001b[0;34m\u001b[0m\u001b[0m\n\u001b[1;32m    491\u001b[0m             \u001b[0;32mexcept\u001b[0m \u001b[0;34m(\u001b[0m\u001b[0mhttplib\u001b[0m\u001b[0;34m.\u001b[0m\u001b[0mHTTPException\u001b[0m\u001b[0;34m,\u001b[0m \u001b[0msocket\u001b[0m\u001b[0;34m.\u001b[0m\u001b[0merror\u001b[0m\u001b[0;34m)\u001b[0m\u001b[0;34m:\u001b[0m\u001b[0;34m\u001b[0m\u001b[0m\n",
      "\u001b[0;32m~/anaconda/lib/python3.6/http/client.py\u001b[0m in \u001b[0;36mrequest\u001b[0;34m(self, method, url, body, headers, encode_chunked)\u001b[0m\n\u001b[1;32m   1237\u001b[0m                 encode_chunked=False):\n\u001b[1;32m   1238\u001b[0m         \u001b[0;34m\"\"\"Send a complete request to the server.\"\"\"\u001b[0m\u001b[0;34m\u001b[0m\u001b[0m\n\u001b[0;32m-> 1239\u001b[0;31m         \u001b[0mself\u001b[0m\u001b[0;34m.\u001b[0m\u001b[0m_send_request\u001b[0m\u001b[0;34m(\u001b[0m\u001b[0mmethod\u001b[0m\u001b[0;34m,\u001b[0m \u001b[0murl\u001b[0m\u001b[0;34m,\u001b[0m \u001b[0mbody\u001b[0m\u001b[0;34m,\u001b[0m \u001b[0mheaders\u001b[0m\u001b[0;34m,\u001b[0m \u001b[0mencode_chunked\u001b[0m\u001b[0;34m)\u001b[0m\u001b[0;34m\u001b[0m\u001b[0m\n\u001b[0m\u001b[1;32m   1240\u001b[0m \u001b[0;34m\u001b[0m\u001b[0m\n\u001b[1;32m   1241\u001b[0m     \u001b[0;32mdef\u001b[0m \u001b[0m_send_request\u001b[0m\u001b[0;34m(\u001b[0m\u001b[0mself\u001b[0m\u001b[0;34m,\u001b[0m \u001b[0mmethod\u001b[0m\u001b[0;34m,\u001b[0m \u001b[0murl\u001b[0m\u001b[0;34m,\u001b[0m \u001b[0mbody\u001b[0m\u001b[0;34m,\u001b[0m \u001b[0mheaders\u001b[0m\u001b[0;34m,\u001b[0m \u001b[0mencode_chunked\u001b[0m\u001b[0;34m)\u001b[0m\u001b[0;34m:\u001b[0m\u001b[0;34m\u001b[0m\u001b[0m\n",
      "\u001b[0;32m~/anaconda/lib/python3.6/http/client.py\u001b[0m in \u001b[0;36m_send_request\u001b[0;34m(self, method, url, body, headers, encode_chunked)\u001b[0m\n\u001b[1;32m   1248\u001b[0m             \u001b[0mskips\u001b[0m\u001b[0;34m[\u001b[0m\u001b[0;34m'skip_accept_encoding'\u001b[0m\u001b[0;34m]\u001b[0m \u001b[0;34m=\u001b[0m \u001b[0;36m1\u001b[0m\u001b[0;34m\u001b[0m\u001b[0m\n\u001b[1;32m   1249\u001b[0m \u001b[0;34m\u001b[0m\u001b[0m\n\u001b[0;32m-> 1250\u001b[0;31m         \u001b[0mself\u001b[0m\u001b[0;34m.\u001b[0m\u001b[0mputrequest\u001b[0m\u001b[0;34m(\u001b[0m\u001b[0mmethod\u001b[0m\u001b[0;34m,\u001b[0m \u001b[0murl\u001b[0m\u001b[0;34m,\u001b[0m \u001b[0;34m**\u001b[0m\u001b[0mskips\u001b[0m\u001b[0;34m)\u001b[0m\u001b[0;34m\u001b[0m\u001b[0m\n\u001b[0m\u001b[1;32m   1251\u001b[0m \u001b[0;34m\u001b[0m\u001b[0m\n\u001b[1;32m   1252\u001b[0m         \u001b[0;31m# chunked encoding will happen if HTTP/1.1 is used and either\u001b[0m\u001b[0;34m\u001b[0m\u001b[0;34m\u001b[0m\u001b[0m\n",
      "\u001b[0;32m~/anaconda/lib/python3.6/http/client.py\u001b[0m in \u001b[0;36mputrequest\u001b[0;34m(self, method, url, skip_host, skip_accept_encoding)\u001b[0m\n\u001b[1;32m   1106\u001b[0m             \u001b[0mself\u001b[0m\u001b[0;34m.\u001b[0m\u001b[0m__state\u001b[0m \u001b[0;34m=\u001b[0m \u001b[0m_CS_REQ_STARTED\u001b[0m\u001b[0;34m\u001b[0m\u001b[0m\n\u001b[1;32m   1107\u001b[0m         \u001b[0;32melse\u001b[0m\u001b[0;34m:\u001b[0m\u001b[0;34m\u001b[0m\u001b[0m\n\u001b[0;32m-> 1108\u001b[0;31m             \u001b[0;32mraise\u001b[0m \u001b[0mCannotSendRequest\u001b[0m\u001b[0;34m(\u001b[0m\u001b[0mself\u001b[0m\u001b[0;34m.\u001b[0m\u001b[0m__state\u001b[0m\u001b[0;34m)\u001b[0m\u001b[0;34m\u001b[0m\u001b[0m\n\u001b[0m\u001b[1;32m   1109\u001b[0m \u001b[0;34m\u001b[0m\u001b[0m\n\u001b[1;32m   1110\u001b[0m         \u001b[0;31m# Save the method we use, we need it later in the response phase\u001b[0m\u001b[0;34m\u001b[0m\u001b[0;34m\u001b[0m\u001b[0m\n",
      "\u001b[0;31mCannotSendRequest\u001b[0m: Request-sent"
     ]
    }
   ],
   "source": [
    "for name in singleprovider.Name.unique():\n",
    "    for metric in df.Metric.unique():\n",
    "        if metric in main_metrics:\n",
    "            chart = make_individual_metric_chart(metric, name)\n",
    "            foldername = str(name).replace(\" \", \"_\")\n",
    "            if not os.path.exists(\"./docs/\" + foldername):\n",
    "                os.makedirs(\"./docs/\" + foldername)\n",
    "            chart.save(\n",
    "                \"./docs/\" + foldername + \"/\" + str(metric).replace(\" \", \"_\") + \".png\"\n",
    "            )\n",
    "\n",
    "    provider_dropdown = (\n",
    "        '<div class=\"uk-inline\"><div class=\"uk-text-lead\" style=\"color:#1f77b4\">'\n",
    "        + name\n",
    "        + '<span uk-icon=\"icon: triangle-down\"></span>'\n",
    "        + '</div><div uk-dropdown><ul class=\"uk-nav uk-dropdown-nav\">'\n",
    "    )\n",
    "\n",
    "    clinic_name = names[names.Name == name].iloc[0].Clinic\n",
    "\n",
    "    for sameclinicprovider in sorted(\n",
    "        set(singleprovider[singleprovider.Clinic == clinic_name].Name)\n",
    "    ):\n",
    "        if name == sameclinicprovider:\n",
    "            provider_dropdown += (\n",
    "                '<li class=\"uk-active\">'\n",
    "                + sameclinicprovider\n",
    "                + '<span uk-icon=\"icon: check\"></span></li>\\n'\n",
    "            )\n",
    "        else:\n",
    "            provider_dropdown += (\n",
    "                '<li><a href=\"../'\n",
    "                + str(sameclinicprovider).replace(\" \", \"_\")\n",
    "                + '/\">'\n",
    "                + sameclinicprovider\n",
    "                + \"</a></li>\\n\"\n",
    "            )\n",
    "\n",
    "    # close provider_dropdown\n",
    "    provider_dropdown += \"</ul></div></div>\"\n",
    "\n",
    "    with open(\"./files/index.html\", \"r\") as file:\n",
    "        filedata = file.read()\n",
    "    filedata = filedata.replace(\"{{{Provider}}}\", provider_dropdown)\n",
    "    filedata = filedata.replace(\"{{{Clinic}}}\", clinic_name)\n",
    "    filedata = filedata.replace(\"{{{Current Date}}}\", current_date)\n",
    "    with open(\"./docs/\" + foldername + \"/index.html\", \"w+\") as file:\n",
    "        file.write(filedata)\n"
   ]
  },
  {
   "cell_type": "code",
   "execution_count": 24,
   "metadata": {},
   "outputs": [],
   "source": [
    "def make_clinic_metric_chart(metric, clinic_name):\n",
    "    # Data Transformations in Pandas for graphs.\n",
    "    # assumes dataframe 'df' that has data from CSVs\n",
    "    # assumes dataframes 'names' and 'metrics' for lookups\n",
    "    providerdf = df[\n",
    "        (df[\"Metric\"] == metric)\n",
    "        & (df[\"Type\"] == \"Clinic\")\n",
    "        & (df[\"Name\"] == clinic_name)\n",
    "    ]\n",
    "\n",
    "    try:\n",
    "        metric_target = metrics[metrics.Metric == metric].iloc[0].Target\n",
    "    except:\n",
    "        metric_target = False\n",
    "\n",
    "    # If there's a target value, we'll make a rule on graph.\n",
    "    if metric_target:\n",
    "        metricdf = pd.DataFrame([{\"TargetValue\": metric_target, \"Title\": \"Target\"}])\n",
    "\n",
    "    current_date = max(df[\"Date\"])\n",
    "    current_metric = df[\n",
    "        (df[\"Metric\"] == metric)\n",
    "        & (df[\"Type\"] == \"Clinic\")\n",
    "        & (df[\"Date\"] == current_date)\n",
    "    ]\n",
    "\n",
    "    # Altair Graphs to combine.\n",
    "    clinic_progress_line = (\n",
    "        alt.Chart(providerdf)\n",
    "        .mark_line(strokeWidth=4)\n",
    "        .encode(\n",
    "            alt.X(\"Date:T\", title=\"\"),\n",
    "            alt.Y(\n",
    "                \"Percentage:Q\",\n",
    "                axis=alt.Axis(format=\"%\", title=\"\"),\n",
    "                scale=alt.Scale(domain=(0, 1)),\n",
    "            ),\n",
    "            color=alt.Color(\"Name:N\", legend=None),\n",
    "        )\n",
    "        .properties(width=200, height=200)\n",
    "    )\n",
    "\n",
    "    # 1f77b4 -- blue, #ff7f0e -- orange\n",
    "\n",
    "    if metric_target:\n",
    "        metric_target_rule = (\n",
    "            alt.Chart(metricdf)\n",
    "            .mark_rule(strokeWidth=1)\n",
    "            .encode(\n",
    "                y=\"TargetValue:Q\", color=alt.value(\"green\"), opacity=alt.value(\"0.5\")\n",
    "            )\n",
    "        )\n",
    "\n",
    "    fcn_current_strip_chart = (\n",
    "        alt.Chart(current_metric)\n",
    "        .mark_tick(color=\"#eee\")\n",
    "        .encode(\n",
    "            alt.Y(\n",
    "                \"Percentage:Q\",\n",
    "                axis=alt.Axis(format=\"%\", title=\"\", labels=False),\n",
    "                scale=alt.Scale(domain=(0, 1)),\n",
    "            )\n",
    "        )\n",
    "        .properties(height=200)\n",
    "    )\n",
    "\n",
    "    provider_highlight_strip = (\n",
    "        alt.Chart(current_metric)\n",
    "        .mark_tick()\n",
    "        .encode(alt.Y(\"Percentage:Q\"), opacity=alt.value(\"1.0\"))\n",
    "        .transform_filter(alt.FieldEqualPredicate(field=\"Name\", equal=clinic_name))\n",
    "    )\n",
    "\n",
    "    provider_percent = (\n",
    "        provider_highlight_strip.mark_text(\n",
    "            align=\"left\", baseline=\"middle\", dx=15, size=20\n",
    "        )\n",
    "        .encode(text=alt.Text(\"Percentage:Q\", format=\".2%\"))\n",
    "        .transform_filter(alt.FieldEqualPredicate(field=\"Name\", equal=clinic_name))\n",
    "    )\n",
    "\n",
    "    clinic_providers = sorted(\n",
    "        set(singleprovider[singleprovider.Clinic == clinic_name].Name)\n",
    "    )\n",
    "    current_date = max(df[\"Date\"])\n",
    "    current_metric = df[\n",
    "        (df[\"Metric\"] == metric)\n",
    "        & (df[\"Date\"] == current_date)\n",
    "        & (df[\"Name\"].isin(clinic_providers))\n",
    "    ]\n",
    "\n",
    "    start_date = min(df[\"Date\"])\n",
    "    start_metric = df[\n",
    "        (df[\"Metric\"] == metric)\n",
    "        & (df[\"Date\"] == start_date)\n",
    "        & (df[\"Name\"].isin(clinic_providers))\n",
    "    ]\n",
    "    start_and_current = pd.concat([start_metric, current_metric])\n",
    "\n",
    "    ranged_dot = (\n",
    "        alt.Chart(start_and_current)\n",
    "        .mark_line(color=\"#db646f\")\n",
    "        .encode(\n",
    "            alt.X(\"Percentage:Q\", axis=alt.Axis(format=\"%\", title=\"\")),\n",
    "            alt.Y(\"Name:N\", axis=alt.Axis(title=\"\")),\n",
    "            detail=\"Name:N\",\n",
    "        )\n",
    "        .properties(width=300)\n",
    "    )\n",
    "\n",
    "    ranged_dot += (\n",
    "        alt.Chart(current_metric)\n",
    "        .mark_point(size=100, opacity=1, filled=True, color=\"#911a24\")\n",
    "        .encode(x=\"Percentage:Q\", y=\"Name:N\")\n",
    "    )\n",
    "\n",
    "    if metric_target:\n",
    "        chart = (\n",
    "            clinic_progress_line + metric_target_rule + provider_percent\n",
    "        ) | ranged_dot\n",
    "        return chart\n",
    "    else:\n",
    "        chart = (clinic_progress_line + provider_percent) | ranged_dot\n",
    "        return chart\n"
   ]
  },
  {
   "cell_type": "code",
   "execution_count": 29,
   "metadata": {},
   "outputs": [
    {
     "data": {
      "application/vnd.vegalite.v2+json": {
       "$schema": "https://vega.github.io/schema/vega-lite/v2.4.1.json",
       "config": {
        "view": {
         "height": 300,
         "width": 400
        }
       },
       "hconcat": [
        {
         "layer": [
          {
           "data": {
            "values": [
             {
              "Clinic": "IFP",
              "Date": "2018-04-23",
              "Metric": "TD and TDAP",
              "Name": "IFP",
              "Percentage": 0.5976,
              "Type": "Clinic"
             },
             {
              "Clinic": "IFP",
              "Date": "2018-01-29",
              "Metric": "TD and TDAP",
              "Name": "IFP",
              "Percentage": 0.5718,
              "Type": "Clinic"
             },
             {
              "Clinic": "IFP",
              "Date": "2018-05-14",
              "Metric": "TD and TDAP",
              "Name": "IFP",
              "Percentage": 0.6009,
              "Type": "Clinic"
             },
             {
              "Clinic": "IFP",
              "Date": "2017-12-18",
              "Metric": "TD and TDAP",
              "Name": "IFP",
              "Percentage": 0.5654,
              "Type": "Clinic"
             },
             {
              "Clinic": "IFP",
              "Date": "2018-03-19",
              "Metric": "TD and TDAP",
              "Name": "IFP",
              "Percentage": 0.5882,
              "Type": "Clinic"
             },
             {
              "Clinic": "IFP",
              "Date": "2018-04-02",
              "Metric": "TD and TDAP",
              "Name": "IFP",
              "Percentage": 0.593,
              "Type": "Clinic"
             },
             {
              "Clinic": "IFP",
              "Date": "2017-10-09",
              "Metric": "TD and TDAP",
              "Name": "IFP",
              "Percentage": 0.576,
              "Type": "Clinic"
             },
             {
              "Clinic": "IFP",
              "Date": "2018-02-19",
              "Metric": "TD and TDAP",
              "Name": "IFP",
              "Percentage": 0.5789,
              "Type": "Clinic"
             },
             {
              "Clinic": "IFP",
              "Date": "2018-01-08",
              "Metric": "TD and TDAP",
              "Name": "IFP",
              "Percentage": 0.5656,
              "Type": "Clinic"
             },
             {
              "Clinic": "IFP",
              "Date": "2018-01-22",
              "Metric": "TD and TDAP",
              "Name": "IFP",
              "Percentage": 0.5694,
              "Type": "Clinic"
             },
             {
              "Clinic": "IFP",
              "Date": "2017-10-23",
              "Metric": "TD and TDAP",
              "Name": "IFP",
              "Percentage": 0.5791,
              "Type": "Clinic"
             },
             {
              "Clinic": "IFP",
              "Date": "2018-05-28",
              "Metric": "TD and TDAP",
              "Name": "IFP",
              "Percentage": 0.6058,
              "Type": "Clinic"
             },
             {
              "Clinic": "IFP",
              "Date": "2017-09-11",
              "Metric": "TD and TDAP",
              "Name": "IFP",
              "Percentage": 0.5773,
              "Type": "Clinic"
             },
             {
              "Clinic": "IFP",
              "Date": "2018-01-15",
              "Metric": "TD and TDAP",
              "Name": "IFP",
              "Percentage": 0.5673,
              "Type": "Clinic"
             },
             {
              "Clinic": "IFP",
              "Date": "2017-11-13",
              "Metric": "TD and TDAP",
              "Name": "IFP",
              "Percentage": 0.5558,
              "Type": "Clinic"
             },
             {
              "Clinic": "IFP",
              "Date": "2017-08-21",
              "Metric": "TD and TDAP",
              "Name": "IFP",
              "Percentage": 0.578,
              "Type": "Clinic"
             },
             {
              "Clinic": "IFP",
              "Date": "2017-10-02",
              "Metric": "TD and TDAP",
              "Name": "IFP",
              "Percentage": 0.5767,
              "Type": "Clinic"
             },
             {
              "Clinic": "IFP",
              "Date": "2018-02-12",
              "Metric": "TD and TDAP",
              "Name": "IFP",
              "Percentage": 0.5759,
              "Type": "Clinic"
             },
             {
              "Clinic": "IFP",
              "Date": "2018-02-05",
              "Metric": "TD and TDAP",
              "Name": "IFP",
              "Percentage": 0.5735,
              "Type": "Clinic"
             },
             {
              "Clinic": "IFP",
              "Date": "2018-03-12",
              "Metric": "TD and TDAP",
              "Name": "IFP",
              "Percentage": 0.5856,
              "Type": "Clinic"
             },
             {
              "Clinic": "IFP",
              "Date": "2018-03-05",
              "Metric": "TD and TDAP",
              "Name": "IFP",
              "Percentage": 0.5821,
              "Type": "Clinic"
             },
             {
              "Clinic": "IFP",
              "Date": "2018-04-09",
              "Metric": "TD and TDAP",
              "Name": "IFP",
              "Percentage": 0.5943,
              "Type": "Clinic"
             },
             {
              "Clinic": "IFP",
              "Date": "2017-12-04",
              "Metric": "TD and TDAP",
              "Name": "IFP",
              "Percentage": 0.5607,
              "Type": "Clinic"
             },
             {
              "Clinic": "IFP",
              "Date": "2017-10-30",
              "Metric": "TD and TDAP",
              "Name": "IFP",
              "Percentage": 0.5506,
              "Type": "Clinic"
             },
             {
              "Clinic": "IFP",
              "Date": "2018-01-01",
              "Metric": "TD and TDAP",
              "Name": "IFP",
              "Percentage": 0.5663,
              "Type": "Clinic"
             },
             {
              "Clinic": "IFP",
              "Date": "2017-09-25",
              "Metric": "TD and TDAP",
              "Name": "IFP",
              "Percentage": 0.5762,
              "Type": "Clinic"
             },
             {
              "Clinic": "IFP",
              "Date": "2018-04-16",
              "Metric": "TD and TDAP",
              "Name": "IFP",
              "Percentage": 0.5965,
              "Type": "Clinic"
             },
             {
              "Clinic": "IFP",
              "Date": "2017-12-26",
              "Metric": "TD and TDAP",
              "Name": "IFP",
              "Percentage": 0.567,
              "Type": "Clinic"
             },
             {
              "Clinic": "IFP",
              "Date": "2017-12-11",
              "Metric": "TD and TDAP",
              "Name": "IFP",
              "Percentage": 0.5628,
              "Type": "Clinic"
             },
             {
              "Clinic": "IFP",
              "Date": "2017-10-16",
              "Metric": "TD and TDAP",
              "Name": "IFP",
              "Percentage": 0.5776,
              "Type": "Clinic"
             },
             {
              "Clinic": "IFP",
              "Date": "2018-02-26",
              "Metric": "TD and TDAP",
              "Name": "IFP",
              "Percentage": 0.5796,
              "Type": "Clinic"
             },
             {
              "Clinic": "IFP",
              "Date": "2017-09-04",
              "Metric": "TD and TDAP",
              "Name": "IFP",
              "Percentage": 0.5777,
              "Type": "Clinic"
             },
             {
              "Clinic": "IFP",
              "Date": "2018-03-26",
              "Metric": "TD and TDAP",
              "Name": "IFP",
              "Percentage": 0.5912,
              "Type": "Clinic"
             },
             {
              "Clinic": "IFP",
              "Date": "2017-11-06",
              "Metric": "TD and TDAP",
              "Name": "IFP",
              "Percentage": 0.5541,
              "Type": "Clinic"
             },
             {
              "Clinic": "IFP",
              "Date": "2018-04-30",
              "Metric": "TD and TDAP",
              "Name": "IFP",
              "Percentage": 0.6001,
              "Type": "Clinic"
             },
             {
              "Clinic": "IFP",
              "Date": "2018-05-07",
              "Metric": "TD and TDAP",
              "Name": "IFP",
              "Percentage": 0.602,
              "Type": "Clinic"
             },
             {
              "Clinic": "IFP",
              "Date": "2017-08-28",
              "Metric": "TD and TDAP",
              "Name": "IFP",
              "Percentage": 0.5777,
              "Type": "Clinic"
             },
             {
              "Clinic": "IFP",
              "Date": "2018-05-21",
              "Metric": "TD and TDAP",
              "Name": "IFP",
              "Percentage": 0.6027,
              "Type": "Clinic"
             },
             {
              "Clinic": "IFP",
              "Date": "2017-09-18",
              "Metric": "TD and TDAP",
              "Name": "IFP",
              "Percentage": 0.5776,
              "Type": "Clinic"
             }
            ]
           },
           "encoding": {
            "color": {
             "field": "Name",
             "legend": null,
             "type": "nominal"
            },
            "x": {
             "field": "Date",
             "title": "",
             "type": "temporal"
            },
            "y": {
             "axis": {
              "format": "%",
              "title": ""
             },
             "field": "Percentage",
             "scale": {
              "domain": [
               0,
               1
              ]
             },
             "type": "quantitative"
            }
           },
           "height": 200,
           "mark": {
            "strokeWidth": 4,
            "type": "line"
           },
           "width": 200
          },
          {
           "data": {
            "values": [
             {
              "TargetValue": 0.8,
              "Title": "Target"
             }
            ]
           },
           "encoding": {
            "color": {
             "value": "green"
            },
            "opacity": {
             "value": "0.5"
            },
            "y": {
             "field": "TargetValue",
             "type": "quantitative"
            }
           },
           "mark": {
            "strokeWidth": 1,
            "type": "rule"
           }
          },
          {
           "data": {
            "values": [
             {
              "Clinic": "BellB",
              "Date": "2018-05-28",
              "Metric": "TD and TDAP",
              "Name": "BellB",
              "Percentage": 0.7935,
              "Type": "Clinic"
             },
             {
              "Clinic": "BBFM",
              "Date": "2018-05-28",
              "Metric": "TD and TDAP",
              "Name": "BBFM",
              "Percentage": 0.581,
              "Type": "Clinic"
             },
             {
              "Clinic": "FHA",
              "Date": "2018-05-28",
              "Metric": "TD and TDAP",
              "Name": "FHA",
              "Percentage": 0.7745,
              "Type": "Clinic"
             },
             {
              "Clinic": "FFMC",
              "Date": "2018-05-28",
              "Metric": "TD and TDAP",
              "Name": "FFMC",
              "Percentage": 0.7322,
              "Type": "Clinic"
             },
             {
              "Clinic": "IFP",
              "Date": "2018-05-28",
              "Metric": "TD and TDAP",
              "Name": "IFP",
              "Percentage": 0.6058,
              "Type": "Clinic"
             },
             {
              "Clinic": "LFM",
              "Date": "2018-05-28",
              "Metric": "TD and TDAP",
              "Name": "LFM",
              "Percentage": 0.7813,
              "Type": "Clinic"
             },
             {
              "Clinic": "NCFP",
              "Date": "2018-05-28",
              "Metric": "TD and TDAP",
              "Name": "NCFP",
              "Percentage": 0.7929,
              "Type": "Clinic"
             },
             {
              "Clinic": "NSFM",
              "Date": "2018-05-28",
              "Metric": "TD and TDAP",
              "Name": "NSFM",
              "Percentage": 0.7693,
              "Type": "Clinic"
             },
             {
              "Clinic": "SFM",
              "Date": "2018-05-28",
              "Metric": "TD and TDAP",
              "Name": "SFM",
              "Percentage": 0.7573,
              "Type": "Clinic"
             },
             {
              "Clinic": "WFM",
              "Date": "2018-05-28",
              "Metric": "TD and TDAP",
              "Name": "WFM",
              "Percentage": 0.76,
              "Type": "Clinic"
             }
            ]
           },
           "encoding": {
            "opacity": {
             "value": "1.0"
            },
            "text": {
             "field": "Percentage",
             "format": ".2%",
             "type": "quantitative"
            },
            "y": {
             "field": "Percentage",
             "type": "quantitative"
            }
           },
           "mark": {
            "align": "left",
            "baseline": "middle",
            "dx": 15,
            "size": 20,
            "type": "text"
           },
           "transform": [
            {
             "filter": {
              "equal": "IFP",
              "field": "Name"
             }
            },
            {
             "filter": {
              "equal": "IFP",
              "field": "Name"
             }
            }
           ]
          }
         ]
        },
        {
         "layer": [
          {
           "data": {
            "values": [
             {
              "Clinic": "IFP",
              "Date": "2017-08-21",
              "Metric": "TD and TDAP",
              "Name": "Franklin Bjorseth",
              "Percentage": 0.4199,
              "Type": "Individual"
             },
             {
              "Clinic": "IFP",
              "Date": "2017-08-21",
              "Metric": "TD and TDAP",
              "Name": "Karen Goodman",
              "Percentage": 0.6983,
              "Type": "Individual"
             },
             {
              "Clinic": "IFP",
              "Date": "2017-08-21",
              "Metric": "TD and TDAP",
              "Name": "Michael James",
              "Percentage": 0.4007,
              "Type": "Individual"
             },
             {
              "Clinic": "IFP",
              "Date": "2017-08-21",
              "Metric": "TD and TDAP",
              "Name": "Robert Rieger",
              "Percentage": 0.7288,
              "Type": "Individual"
             },
             {
              "Clinic": "IFP",
              "Date": "2017-08-21",
              "Metric": "TD and TDAP",
              "Name": "Magaret Sweeney",
              "Percentage": 0.5988,
              "Type": "Individual"
             },
             {
              "Clinic": "IFP",
              "Date": "2018-05-28",
              "Metric": "TD and TDAP",
              "Name": "Franklin Bjorseth",
              "Percentage": 0.5108,
              "Type": "Individual"
             },
             {
              "Clinic": "IFP",
              "Date": "2018-05-28",
              "Metric": "TD and TDAP",
              "Name": "Karen Goodman",
              "Percentage": 0.6408,
              "Type": "Individual"
             },
             {
              "Clinic": "IFP",
              "Date": "2018-05-28",
              "Metric": "TD and TDAP",
              "Name": "Michael James",
              "Percentage": 0.4734,
              "Type": "Individual"
             },
             {
              "Clinic": "IFP",
              "Date": "2018-05-28",
              "Metric": "TD and TDAP",
              "Name": "Robert Rieger",
              "Percentage": 0.7785,
              "Type": "Individual"
             },
             {
              "Clinic": "IFP",
              "Date": "2018-05-28",
              "Metric": "TD and TDAP",
              "Name": "Magaret Sweeney",
              "Percentage": 0.696,
              "Type": "Individual"
             }
            ]
           },
           "encoding": {
            "detail": {
             "field": "Name",
             "type": "nominal"
            },
            "x": {
             "axis": {
              "format": "%",
              "title": ""
             },
             "field": "Percentage",
             "type": "quantitative"
            },
            "y": {
             "axis": {
              "title": ""
             },
             "field": "Name",
             "type": "nominal"
            }
           },
           "mark": {
            "color": "#db646f",
            "type": "line"
           },
           "width": 300
          },
          {
           "data": {
            "values": [
             {
              "Clinic": "IFP",
              "Date": "2018-05-28",
              "Metric": "TD and TDAP",
              "Name": "Franklin Bjorseth",
              "Percentage": 0.5108,
              "Type": "Individual"
             },
             {
              "Clinic": "IFP",
              "Date": "2018-05-28",
              "Metric": "TD and TDAP",
              "Name": "Karen Goodman",
              "Percentage": 0.6408,
              "Type": "Individual"
             },
             {
              "Clinic": "IFP",
              "Date": "2018-05-28",
              "Metric": "TD and TDAP",
              "Name": "Michael James",
              "Percentage": 0.4734,
              "Type": "Individual"
             },
             {
              "Clinic": "IFP",
              "Date": "2018-05-28",
              "Metric": "TD and TDAP",
              "Name": "Robert Rieger",
              "Percentage": 0.7785,
              "Type": "Individual"
             },
             {
              "Clinic": "IFP",
              "Date": "2018-05-28",
              "Metric": "TD and TDAP",
              "Name": "Magaret Sweeney",
              "Percentage": 0.696,
              "Type": "Individual"
             }
            ]
           },
           "encoding": {
            "x": {
             "field": "Percentage",
             "type": "quantitative"
            },
            "y": {
             "field": "Name",
             "type": "nominal"
            }
           },
           "mark": {
            "color": "#911a24",
            "filled": true,
            "opacity": 1,
            "size": 100,
            "type": "point"
           }
          }
         ]
        }
       ]
      },
      "image/png": "[encoded data removed]",
      "text/plain": [
       "<VegaLite 2 object>\n",
       "\n",
       "If you see this message, it means the renderer has not been properly enabled\n",
       "for the frontend that you are using. For more information, see\n",
       "https://altair-viz.github.io/user_guide/troubleshooting.html\n"
      ]
     },
     "execution_count": 29,
     "metadata": {},
     "output_type": "execute_result"
    }
   ],
   "source": [
    "metric = 'TD and TDAP'\n",
    "clinic_name = 'IFP'\n",
    "chart = make_clinic_metric_chart(metric, clinic_name)\n",
    "chart"
   ]
  },
  {
   "cell_type": "code",
   "execution_count": 15,
   "metadata": {},
   "outputs": [],
   "source": [
    "def clinic_ranged_dot(metric, clinic_name):\n",
    "    providerdf = df[\n",
    "        (df[\"Metric\"] == metric)\n",
    "        & (df[\"Type\"] == \"Individual\")\n",
    "        & (df[\"Name\"] == clinic_name)\n",
    "    ]\n",
    "\n",
    "    \n",
    "    )\n",
    "    #chart += (\n",
    "    #    alt.Chart(start_metric)\n",
    "    #    .mark_point(size=100, opacity=1, filled=True, color=\"#e6959c\")\n",
    "    #    .encode(x=\"Percentage:Q\", y=\"Name:N\")\n",
    "    #)\n",
    "    return chart"
   ]
  },
  {
   "cell_type": "code",
   "execution_count": 15,
   "metadata": {},
   "outputs": [
    {
     "data": {
      "application/vnd.vegalite.v2+json": {
       "$schema": "https://vega.github.io/schema/vega-lite/v2.4.1.json",
       "config": {
        "view": {
         "height": 300,
         "width": 400
        }
       },
       "layer": [
        {
         "data": {
          "values": [
           {
            "Clinic": "NCFP",
            "Date": "2017-08-21",
            "Metric": "TD and TDAP",
            "Name": "Erik Bylund",
            "Percentage": 0.6907,
            "Type": "Individual"
           },
           {
            "Clinic": "NCFP",
            "Date": "2017-08-21",
            "Metric": "TD and TDAP",
            "Name": "Roger Estep",
            "Percentage": 0.8108,
            "Type": "Individual"
           },
           {
            "Clinic": "NCFP",
            "Date": "2017-08-21",
            "Metric": "TD and TDAP",
            "Name": "Kay-Kay Gambs",
            "Percentage": 0.6445,
            "Type": "Individual"
           },
           {
            "Clinic": "NCFP",
            "Date": "2017-08-21",
            "Metric": "TD and TDAP",
            "Name": "Jonathan Gamson",
            "Percentage": 0.6824,
            "Type": "Individual"
           },
           {
            "Clinic": "NCFP",
            "Date": "2017-08-21",
            "Metric": "TD and TDAP",
            "Name": "Janet Hansom",
            "Percentage": 0.8304,
            "Type": "Individual"
           },
           {
            "Clinic": "NCFP",
            "Date": "2017-08-21",
            "Metric": "TD and TDAP",
            "Name": "Ross McConahey",
            "Percentage": null,
            "Type": "Individual"
           },
           {
            "Clinic": "NCFP",
            "Date": "2017-08-21",
            "Metric": "TD and TDAP",
            "Name": "Sally McPherson",
            "Percentage": 0.7188,
            "Type": "Individual"
           },
           {
            "Clinic": "NCFP",
            "Date": "2017-08-21",
            "Metric": "TD and TDAP",
            "Name": "Lucia Muller",
            "Percentage": 0.7889,
            "Type": "Individual"
           },
           {
            "Clinic": "NCFP",
            "Date": "2017-08-21",
            "Metric": "TD and TDAP",
            "Name": "Jonathan Ploudre",
            "Percentage": 0.8153,
            "Type": "Individual"
           },
           {
            "Clinic": "NCFP",
            "Date": "2017-08-21",
            "Metric": "TD and TDAP",
            "Name": "Lauren Sauve",
            "Percentage": 0.7762,
            "Type": "Individual"
           },
           {
            "Clinic": "NCFP",
            "Date": "2017-08-21",
            "Metric": "TD and TDAP",
            "Name": "Sloane Winkes",
            "Percentage": 0.8843,
            "Type": "Individual"
           },
           {
            "Clinic": "NCFP",
            "Date": "2018-05-28",
            "Metric": "TD and TDAP",
            "Name": "Erik Bylund",
            "Percentage": 0.7875,
            "Type": "Individual"
           },
           {
            "Clinic": "NCFP",
            "Date": "2018-05-28",
            "Metric": "TD and TDAP",
            "Name": "Roger Estep",
            "Percentage": 0.8475,
            "Type": "Individual"
           },
           {
            "Clinic": "NCFP",
            "Date": "2018-05-28",
            "Metric": "TD and TDAP",
            "Name": "Kay-Kay Gambs",
            "Percentage": 0.6948,
            "Type": "Individual"
           },
           {
            "Clinic": "NCFP",
            "Date": "2018-05-28",
            "Metric": "TD and TDAP",
            "Name": "Jonathan Gamson",
            "Percentage": 0.784,
            "Type": "Individual"
           },
           {
            "Clinic": "NCFP",
            "Date": "2018-05-28",
            "Metric": "TD and TDAP",
            "Name": "Janet Hansom",
            "Percentage": 0.8461,
            "Type": "Individual"
           },
           {
            "Clinic": "NCFP",
            "Date": "2018-05-28",
            "Metric": "TD and TDAP",
            "Name": "Ross McConahey",
            "Percentage": null,
            "Type": "Individual"
           },
           {
            "Clinic": "NCFP",
            "Date": "2018-05-28",
            "Metric": "TD and TDAP",
            "Name": "Sally McPherson",
            "Percentage": 0.7564,
            "Type": "Individual"
           },
           {
            "Clinic": "NCFP",
            "Date": "2018-05-28",
            "Metric": "TD and TDAP",
            "Name": "Lucia Muller",
            "Percentage": 0.8019,
            "Type": "Individual"
           },
           {
            "Clinic": "NCFP",
            "Date": "2018-05-28",
            "Metric": "TD and TDAP",
            "Name": "Jonathan Ploudre",
            "Percentage": 0.8504,
            "Type": "Individual"
           },
           {
            "Clinic": "NCFP",
            "Date": "2018-05-28",
            "Metric": "TD and TDAP",
            "Name": "Lauren Sauve",
            "Percentage": 0.7674,
            "Type": "Individual"
           },
           {
            "Clinic": "NCFP",
            "Date": "2018-05-28",
            "Metric": "TD and TDAP",
            "Name": "Sloane Winkes",
            "Percentage": 0.9163,
            "Type": "Individual"
           }
          ]
         },
         "encoding": {
          "detail": {
           "field": "Name",
           "type": "nominal"
          },
          "x": {
           "axis": {
            "format": "%",
            "title": ""
           },
           "field": "Percentage",
           "type": "quantitative"
          },
          "y": {
           "axis": {
            "title": ""
           },
           "field": "Name",
           "type": "nominal"
          }
         },
         "mark": {
          "color": "#db646f",
          "type": "line"
         },
         "width": 300
        },
        {
         "data": {
          "values": [
           {
            "Clinic": "NCFP",
            "Date": "2018-05-28",
            "Metric": "TD and TDAP",
            "Name": "Erik Bylund",
            "Percentage": 0.7875,
            "Type": "Individual"
           },
           {
            "Clinic": "NCFP",
            "Date": "2018-05-28",
            "Metric": "TD and TDAP",
            "Name": "Roger Estep",
            "Percentage": 0.8475,
            "Type": "Individual"
           },
           {
            "Clinic": "NCFP",
            "Date": "2018-05-28",
            "Metric": "TD and TDAP",
            "Name": "Kay-Kay Gambs",
            "Percentage": 0.6948,
            "Type": "Individual"
           },
           {
            "Clinic": "NCFP",
            "Date": "2018-05-28",
            "Metric": "TD and TDAP",
            "Name": "Jonathan Gamson",
            "Percentage": 0.784,
            "Type": "Individual"
           },
           {
            "Clinic": "NCFP",
            "Date": "2018-05-28",
            "Metric": "TD and TDAP",
            "Name": "Janet Hansom",
            "Percentage": 0.8461,
            "Type": "Individual"
           },
           {
            "Clinic": "NCFP",
            "Date": "2018-05-28",
            "Metric": "TD and TDAP",
            "Name": "Ross McConahey",
            "Percentage": null,
            "Type": "Individual"
           },
           {
            "Clinic": "NCFP",
            "Date": "2018-05-28",
            "Metric": "TD and TDAP",
            "Name": "Sally McPherson",
            "Percentage": 0.7564,
            "Type": "Individual"
           },
           {
            "Clinic": "NCFP",
            "Date": "2018-05-28",
            "Metric": "TD and TDAP",
            "Name": "Lucia Muller",
            "Percentage": 0.8019,
            "Type": "Individual"
           },
           {
            "Clinic": "NCFP",
            "Date": "2018-05-28",
            "Metric": "TD and TDAP",
            "Name": "Jonathan Ploudre",
            "Percentage": 0.8504,
            "Type": "Individual"
           },
           {
            "Clinic": "NCFP",
            "Date": "2018-05-28",
            "Metric": "TD and TDAP",
            "Name": "Lauren Sauve",
            "Percentage": 0.7674,
            "Type": "Individual"
           },
           {
            "Clinic": "NCFP",
            "Date": "2018-05-28",
            "Metric": "TD and TDAP",
            "Name": "Sloane Winkes",
            "Percentage": 0.9163,
            "Type": "Individual"
           }
          ]
         },
         "encoding": {
          "x": {
           "field": "Percentage",
           "type": "quantitative"
          },
          "y": {
           "field": "Name",
           "type": "nominal"
          }
         },
         "mark": {
          "color": "#911a24",
          "filled": true,
          "opacity": 1,
          "size": 100,
          "type": "point"
         }
        }
       ]
      },
      "image/png": "[encoded data removed]",
      "text/plain": [
       "<VegaLite 2 object>\n",
       "\n",
       "If you see this message, it means the renderer has not been properly enabled\n",
       "for the frontend that you are using. For more information, see\n",
       "https://altair-viz.github.io/user_guide/troubleshooting.html\n"
      ]
     },
     "execution_count": 15,
     "metadata": {},
     "output_type": "execute_result"
    }
   ],
   "source": []
  },
  {
   "cell_type": "code",
   "execution_count": null,
   "metadata": {},
   "outputs": [],
   "source": [
    " \n"
   ]
  },
  {
   "cell_type": "code",
   "execution_count": null,
   "metadata": {},
   "outputs": [],
   "source": []
  }
 ],
 "metadata": {
  "kernelspec": {
   "display_name": "Python 3",
   "language": "python",
   "name": "python3"
  },
  "language_info": {
   "codemirror_mode": {
    "name": "ipython",
    "version": 3
   },
   "file_extension": ".py",
   "mimetype": "text/x-python",
   "name": "python",
   "nbconvert_exporter": "python",
   "pygments_lexer": "ipython3",
   "version": "3.6.4"
  }
 },
 "nbformat": 4,
 "nbformat_minor": 2
}
