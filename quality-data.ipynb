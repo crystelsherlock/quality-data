{
 "cells": [
  {
   "cell_type": "markdown",
   "metadata": {},
   "source": [
    "# Initial Imports & Setup"
   ]
  },
  {
   "cell_type": "code",
   "execution_count": 5,
   "metadata": {},
   "outputs": [],
   "source": [
    "#!/usr/bin/env python3\n",
    "\n",
    "# Data Science Modules\n",
    "import numpy as np\n",
    "import pandas as pd\n",
    "import altair as alt\n",
    "from selenium import webdriver\n",
    "\n",
    "# Python Modules\n",
    "import glob as glob\n",
    "import os\n",
    "import shutil\n",
    "import datetime as datetime\n",
    "from multiprocessing import Pool\n",
    "\n",
    "#%load_ext blackcellmagic\n",
    "%load_ext line_profiler"
   ]
  },
  {
   "cell_type": "markdown",
   "metadata": {},
   "source": [
    "# Lookup Data\n",
    "\n",
    "* **./files/names.csv**: CSV File with Provider/Clinic Names, etc. Names is used to determine active providers/clinics. (So if there's no name, it wont get evaluated later -- say, for example, after Everson Closes.)\n",
    "* **./files/metrics.csv**: CSV File with Metrics information (Display Name, Category, Target, etc.)"
   ]
  },
  {
   "cell_type": "code",
   "execution_count": 6,
   "metadata": {},
   "outputs": [],
   "source": [
    "# Read Lookup files into dataframes for mapping\n",
    "names = pd.read_csv(\"./files/names.csv\", index_col=\"MeridiosName\")\n",
    "metrics = pd.read_csv(\n",
    "    \"./files/metrics.csv\", index_col=\"MeridiosMetric\", dtype={\"MeridiosMetric\": object}\n",
    ")"
   ]
  },
  {
   "cell_type": "markdown",
   "metadata": {},
   "source": [
    "# Import Data from /data folder.\n",
    "\n",
    "This makes a dataframe in a 'Tidy Data' format.\n",
    "\n",
    "* **./data/(Zero-Padded Date at beginning of CSVs from Meridos).csv**: Files from Automatic weekly report from Meridios"
   ]
  },
  {
   "cell_type": "code",
   "execution_count": 7,
   "metadata": {},
   "outputs": [],
   "source": [
    "# The base dataframe, df, get's transformed into different data subsets.\n",
    "df = pd.DataFrame()\n",
    "\n",
    "# Read in all the data files and append to dataframe\n",
    "files = glob.glob(\"./data/*.csv\")\n",
    "for file in files:\n",
    "    filedf = pd.read_csv(file, usecols=[\"NAME\", \"Metricname\", \"SeenNum\", \"SeenDenom\"])\n",
    "    # Prettier Names but we'll drop these eventually.\n",
    "    filedf = filedf.rename(\n",
    "        columns={\n",
    "            \"NAME\": \"MeridiosName\",\n",
    "            \"Metricname\": \"MeridiosMetric\",\n",
    "            \"SeenNum\": \"Numerator\",\n",
    "            \"SeenDenom\": \"Denominator\",\n",
    "        }\n",
    "    )\n",
    "\n",
    "    # Add Lookup Columns.\n",
    "    filedf[\"Name\"] = filedf.MeridiosName.map(names.Name)\n",
    "    filedf[\"Type\"] = filedf.MeridiosName.map(names.Type)\n",
    "    filedf[\"Clinic\"] = filedf.MeridiosName.map(names.Clinic)\n",
    "    filedf[\"Metric\"] = filedf.MeridiosMetric.map(metrics.Metric)\n",
    "\n",
    "    # Who are we kidding with precision? Round to Basis points\n",
    "    # Not actually percentage (but rather than * 100 leaving for formatting\n",
    "    # in visualization.)\n",
    "    filedf[\"Percentage\"] = round(filedf[\"Numerator\"] / filedf[\"Denominator\"], 4)\n",
    "\n",
    "    # Zero Padded Dates with Dots. Like: \"03.15.2018\" We're using the filename\n",
    "    # as the source of the date column because Meridios exports haven't always\n",
    "    # had the date-time data correct.\n",
    "    filename_parts = file[7:-4].split(\" \")\n",
    "    if len(str(filename_parts[0])) is 10:\n",
    "        filedf[\"Date\"] = datetime.datetime.strptime(filename_parts[0], \"%m.%d.%Y\")\n",
    "\n",
    "        # Now delete the 'raw' columns from import so dataframe is smaller.\n",
    "        filedf.drop(\n",
    "            [\"MeridiosName\", \"MeridiosMetric\", \"Numerator\", \"Denominator\"],\n",
    "            axis=1,\n",
    "            inplace=True,\n",
    "        )\n",
    "        df = df.append(filedf)\n",
    "    else:\n",
    "        # We're only appending data that had Zero Padded Date at\n",
    "        # beginning of filename.\n",
    "        raise ValueError(\"CSV Filename should have Zero Padded Date.\")\n"
   ]
  },
  {
   "cell_type": "markdown",
   "metadata": {},
   "source": [
    "# Dataframe Review\n",
    "\n",
    "The dataframe is the dataset for all the various graphs. We can inspect it various ways, if needed. (Used for development, not really validation.)"
   ]
  },
  {
   "cell_type": "code",
   "execution_count": 4,
   "metadata": {},
   "outputs": [],
   "source": [
    "# df.dtypes\n",
    "# df.info()\n",
    "# df.describe()\n",
    "# df.columns\n",
    "# df.Metric.unique()\n",
    "# df.head()\n",
    "# metrics.head()"
   ]
  },
  {
   "cell_type": "markdown",
   "metadata": {},
   "source": [
    "## Validations:\n",
    "\n",
    "* Do new CSV files include new MeridiosName, New Metric items? (Has the underlying report changed? Such as when edited provider name.)\n",
    "* Should we keep a list of already imported data and do some message to clarify after new data is available?\n",
    "* Percentages under 0% and over 100% are report errors\n",
    "\n",
    "Currently no validations. But probably should automate checks that new data from report is accurate. "
   ]
  },
  {
   "cell_type": "markdown",
   "metadata": {},
   "source": [
    "# Make Provider Graphs"
   ]
  },
  {
   "cell_type": "code",
   "execution_count": 16,
   "metadata": {},
   "outputs": [],
   "source": [
    "def make_individual_metric_chart(metric, name):\n",
    "    \"\"\"\n",
    "    Makes a chart for a single metric and a single provider.\n",
    "    \n",
    "    Assumes: dataframe 'df' that has all the data from CSVs\n",
    "    Assumes: dataframes 'names' and 'metrics' for lookups\n",
    "    \"\"\"\n",
    "\n",
    "    providerdf = df[\n",
    "        (df[\"Metric\"] == metric) & (df[\"Type\"] == \"Individual\") & (df[\"Name\"] == name)\n",
    "    ]\n",
    "\n",
    "    # Lookup clinic from the provider name in the names dataframe.\n",
    "    # Make a comparison dataframe.\n",
    "    clinic_name = names[names.Name == name].iloc[0].Clinic\n",
    "    clinicdf = df[(df[\"Metric\"] == metric) & (df[\"Name\"] == clinic_name)]\n",
    "\n",
    "    # Lookup the metric target -- not all metrics have a target.\n",
    "    metric_target = metrics[metrics.Metric == metric].iloc[0].Target\n",
    "\n",
    "    # If there's a target value, we'll make a rule on graph.\n",
    "    if metric_target:\n",
    "        metricdf = pd.DataFrame([{\"TargetValue\": metric_target, \"Title\": \"Target\"}])\n",
    "\n",
    "    # Make a Current dataframe to use for Strip Chart.\n",
    "    current_date = max(providerdf[\"Date\"])\n",
    "    current_metric = df[\n",
    "        (df[\"Metric\"] == metric)\n",
    "        & (df[\"Type\"] == \"Individual\")\n",
    "        & (df[\"Date\"] == current_date)\n",
    "    ]\n",
    "\n",
    "    # Altair Graphs to combine.\n",
    "    provider_progress_line = (\n",
    "        alt.Chart(providerdf)\n",
    "        .mark_line(strokeWidth=4)\n",
    "        .encode(\n",
    "            alt.X(\"Date:T\", title=\"\"),\n",
    "            alt.Y(\n",
    "                \"Percentage:Q\",\n",
    "                axis=alt.Axis(format=\"%\", title=\"\"),\n",
    "                scale=alt.Scale(domain=(0, 1)),\n",
    "            ),\n",
    "            color=alt.Color(\"Name:N\", legend=None),\n",
    "        )\n",
    "        .properties(width=200, height=200)\n",
    "    )\n",
    "\n",
    "    # 1f77b4 -- blue, #ff7f0e -- orange. Currently hardcoded but eventually\n",
    "    # will look up a clinic color. Also will be used in the HTML generation.\n",
    "\n",
    "    clinic_progress_line = (\n",
    "        alt.Chart(clinicdf)\n",
    "        .mark_line(strokeWidth=2)\n",
    "        .encode(\n",
    "            alt.X(\"Date:T\", title=\"\"),\n",
    "            alt.Y(\n",
    "                \"Percentage:Q\",\n",
    "                axis=alt.Axis(format=\"%\", title=\"\"),\n",
    "                scale=alt.Scale(domain=(0, 1)),\n",
    "            ),\n",
    "            color=alt.ColorValue(\"#ff7f0e\"),\n",
    "        )\n",
    "    )\n",
    "\n",
    "    if metric_target:\n",
    "        metric_target_rule = (\n",
    "            alt.Chart(metricdf)\n",
    "            .mark_rule(strokeWidth=1, strokeDash=[4, 2])\n",
    "            .encode(\n",
    "                y=\"TargetValue:Q\", color=alt.value(\"green\"), opacity=alt.value(\"0.5\")\n",
    "            )\n",
    "        )\n",
    "\n",
    "    fcn_current_strip_chart = (\n",
    "        alt.Chart(current_metric)\n",
    "        .mark_tick(color=\"#eee\")\n",
    "        .encode(\n",
    "            alt.Y(\n",
    "                \"Percentage:Q\",\n",
    "                axis=alt.Axis(format=\"%\", title=\"\", labels=False),\n",
    "                scale=alt.Scale(domain=(0, 1)),\n",
    "            )\n",
    "        )\n",
    "        .properties(height=200)\n",
    "    )\n",
    "\n",
    "    provider_highlight_strip = (\n",
    "        alt.Chart(current_metric)\n",
    "        .mark_tick()\n",
    "        .encode(alt.Y(\"Percentage:Q\"), opacity=alt.value(\"1.0\"))\n",
    "        .transform_filter(alt.FieldEqualPredicate(field=\"Name\", equal=name))\n",
    "    )\n",
    "\n",
    "    provider_percent = (\n",
    "        provider_highlight_strip.mark_text(\n",
    "            align=\"left\", baseline=\"middle\", dx=15, size=20\n",
    "        )\n",
    "        .encode(text=alt.Text(\"Percentage:Q\", format=\".2%\"))\n",
    "        .transform_filter(alt.FieldEqualPredicate(field=\"Name\", equal=name))\n",
    "    )\n",
    "\n",
    "    if metric_target:\n",
    "        chart = provider_progress_line + clinic_progress_line + metric_target_rule | (\n",
    "            fcn_current_strip_chart + provider_highlight_strip + provider_percent\n",
    "        )\n",
    "        return chart\n",
    "    else:\n",
    "        chart = provider_progress_line + clinic_progress_line | (\n",
    "            fcn_current_strip_chart + provider_highlight_strip + provider_percent\n",
    "        )\n",
    "        return chart\n"
   ]
  },
  {
   "cell_type": "markdown",
   "metadata": {},
   "source": [
    "# Make Clinic Graphs\n"
   ]
  },
  {
   "cell_type": "code",
   "execution_count": 26,
   "metadata": {},
   "outputs": [],
   "source": [
    "def make_clinic_metric_chart(metric, clinic_name):\n",
    "    \"\"\"\n",
    "    Makes a chart for a single metric and a clinic.\n",
    "    \n",
    "    Assumes: dataframe 'df' that has all the data from CSVs\n",
    "    Assumes: dataframes 'names' and 'metrics' for lookups\n",
    "    \"\"\"\n",
    "\n",
    "    providerdf = df[\n",
    "        (df[\"Metric\"] == metric)\n",
    "        & (df[\"Type\"] == \"Clinic\")\n",
    "        & (df[\"Name\"] == clinic_name)\n",
    "    ]\n",
    "\n",
    "    metric_target = metrics[metrics.Metric == metric].iloc[0].Target\n",
    "\n",
    "    # If there's a target value, we'll make a rule on graph.\n",
    "    if metric_target:\n",
    "        metricdf = pd.DataFrame([{\"TargetValue\": metric_target, \"Title\": \"Target\"}])\n",
    "\n",
    "    current_date = max(providerdf[\"Date\"])\n",
    "    current_metric = df[\n",
    "        (df[\"Metric\"] == metric)\n",
    "        & (df[\"Type\"] == \"Clinic\")\n",
    "        & (df[\"Date\"] == current_date)\n",
    "    ]\n",
    "\n",
    "    # Altair Graphs to combine.\n",
    "    clinic_progress_line = (\n",
    "        alt.Chart(providerdf)\n",
    "        .mark_line(strokeWidth=4)\n",
    "        .encode(\n",
    "            alt.X(\"Date:T\", title=\"\"),\n",
    "            alt.Y(\n",
    "                \"Percentage:Q\",\n",
    "                axis=alt.Axis(format=\"%\", title=\"\"),\n",
    "                scale=alt.Scale(domain=(0, 1)),\n",
    "            ),\n",
    "            color=alt.ColorValue(\"#ff7f0e\"),\n",
    "        )\n",
    "        .properties(width=200, height=200)\n",
    "    )\n",
    "\n",
    "    # 1f77b4 -- blue, #ff7f0e -- orange\n",
    "\n",
    "    if metric_target:\n",
    "        metric_target_rule = (\n",
    "            alt.Chart(metricdf)\n",
    "            .mark_rule(strokeWidth=1, strokeDash=[4, 2])\n",
    "            .encode(\n",
    "                y=\"TargetValue:Q\", color=alt.value(\"green\"), opacity=alt.value(\"0.5\")\n",
    "            )\n",
    "        )\n",
    "\n",
    "    clinic_providers = sorted(\n",
    "        set(singleproviders[singleproviders.Clinic == clinic_name].Name)\n",
    "    )\n",
    "    #current_date = max(df[\"Date\"])\n",
    "    current_metric = df[\n",
    "        (df[\"Metric\"] == metric)\n",
    "        & (df[\"Date\"] == current_date)\n",
    "        & (df[\"Name\"].isin(clinic_providers))\n",
    "    ]\n",
    "\n",
    "    start_date = min(providerdf[\"Date\"])\n",
    "    start_metric = df[\n",
    "        (df[\"Metric\"] == metric)\n",
    "        & (df[\"Date\"] == start_date)\n",
    "        & (df[\"Name\"].isin(clinic_providers))\n",
    "    ]\n",
    "    start_and_current = pd.concat([start_metric, current_metric])\n",
    "\n",
    "    ranged_dot = (\n",
    "        alt.Chart(start_and_current)\n",
    "        .mark_line(color=\"#aec7e8\")\n",
    "        .encode(\n",
    "            alt.Y(\n",
    "                \"Percentage:Q\",\n",
    "                axis=alt.Axis(format=\"%\", title=\"\"),\n",
    "                scale=alt.Scale(domain=(0, 1)),\n",
    "            ),\n",
    "            alt.X(\"Name:N\", axis=alt.Axis(title=\"\")),\n",
    "            detail=\"Name:N\",\n",
    "        )\n",
    "        .properties(height=200)\n",
    "    )\n",
    "\n",
    "    ranged_dot += (\n",
    "        alt.Chart(current_metric)\n",
    "        .mark_point(size=100, opacity=1, filled=True, color=\"#1f77b4\")\n",
    "        .encode(y=\"Percentage:Q\", x=\"Name:N\")\n",
    "    )\n",
    "\n",
    "    ranged_dot_rule = (\n",
    "        alt.Chart(metricdf)\n",
    "        .mark_rule(strokeWidth=1, strokeDash=[4, 2])\n",
    "        .encode(y=\"TargetValue:Q\", color=alt.value(\"green\"), opacity=alt.value(\"0.5\"))\n",
    "    )\n",
    "\n",
    "    if metric_target:\n",
    "        chart = (\n",
    "            clinic_progress_line + metric_target_rule\n",
    "        ) | ranged_dot + ranged_dot_rule\n",
    "        return chart\n",
    "    else:\n",
    "        chart = (clinic_progress_line) | ranged_dot\n",
    "        return chart\n"
   ]
  },
  {
   "cell_type": "markdown",
   "metadata": {},
   "source": [
    "# Prepping for the website generation"
   ]
  },
  {
   "cell_type": "code",
   "execution_count": 10,
   "metadata": {},
   "outputs": [],
   "source": [
    "# Need to just do active individuals, main metrics\n",
    "singleproviders = names[(names[\"Type\"] == \"Individual\")]\n",
    "\n",
    "clinics = sorted(set(df[(df[\"Type\"] == \"Clinic\")].Name.unique()))\n",
    "\n",
    "main_metrics = [\n",
    "    \"AAA\",\n",
    "    \"Chlamydia\",\n",
    "    \"Colorectal Screen\",\n",
    "    \"DM with Statin\",\n",
    "    \"DM with ACE or ARB\",\n",
    "    \"DM Eye Exam\",\n",
    "    \"DM Foot Exam\",\n",
    "    \"Mammogram\",\n",
    "    \"DM Nephropathy\",\n",
    "    \"Pap Smears\",\n",
    "    \"DM Pneumovax\",\n",
    "    \"Over age 65 Pneumovax\",\n",
    "    \"Smoker Pneumovax\",\n",
    "    \"TD and TDAP\",\n",
    "]\n",
    "\n",
    "dt = max(df[\"Date\"])\n",
    "current_date = dt.strftime(\"%m/%d/%Y\")\n",
    "\n",
    "\n",
    "def savefolder(name):\n",
    "    foldername = str(name).replace(\" \", \"_\")\n",
    "    if not os.path.exists(\"./docs/\" + foldername):\n",
    "        os.makedirs(\"./docs/\" + foldername)\n",
    "    return \"./docs/\" + foldername + \"/\"\n",
    "\n",
    "\n",
    "def create_individual_metrics(name):\n",
    "    for metric in main_metrics:\n",
    "        chart = make_individual_metric_chart(metric, name)\n",
    "        chart.save(\n",
    "            savefolder(name) + str(metric).replace(\" \", \"_\") + \".png\", scale_factor=2\n",
    "        )\n",
    "\n",
    "\n",
    "def create_clinic_metrics(clinic_name):\n",
    "    for metric in main_metrics:\n",
    "        chart = make_clinic_metric_chart(metric, clinic_name)\n",
    "        chart.save(\n",
    "            savefolder(clinic_name) + str(metric).replace(\" \", \"_\") + \".png\",\n",
    "            scale_factor=2,\n",
    "        )\n"
   ]
  },
  {
   "cell_type": "markdown",
   "metadata": {},
   "source": [
    "# Generate Charts\n",
    "\n",
    "Using multiprocessing. "
   ]
  },
  {
   "cell_type": "code",
   "execution_count": 32,
   "metadata": {},
   "outputs": [
    {
     "data": {
      "application/vnd.vegalite.v2+json": {
       "$schema": "https://vega.github.io/schema/vega-lite/v2.4.3.json",
       "config": {
        "view": {
         "height": 300,
         "width": 400
        }
       },
       "hconcat": [
        {
         "layer": [
          {
           "data": {
            "values": [
             {
              "Clinic": "NCFP",
              "Date": "2018-01-01",
              "Metric": "Mammogram",
              "Name": "NCFP",
              "Percentage": 0.6286,
              "Type": "Clinic"
             },
             {
              "Clinic": "NCFP",
              "Date": "2018-01-08",
              "Metric": "Mammogram",
              "Name": "NCFP",
              "Percentage": 0.6285,
              "Type": "Clinic"
             },
             {
              "Clinic": "NCFP",
              "Date": "2018-01-15",
              "Metric": "Mammogram",
              "Name": "NCFP",
              "Percentage": 0.6257,
              "Type": "Clinic"
             },
             {
              "Clinic": "NCFP",
              "Date": "2018-01-22",
              "Metric": "Mammogram",
              "Name": "NCFP",
              "Percentage": 0.6273,
              "Type": "Clinic"
             },
             {
              "Clinic": "NCFP",
              "Date": "2018-01-29",
              "Metric": "Mammogram",
              "Name": "NCFP",
              "Percentage": 0.6255,
              "Type": "Clinic"
             },
             {
              "Clinic": "NCFP",
              "Date": "2018-02-05",
              "Metric": "Mammogram",
              "Name": "NCFP",
              "Percentage": 0.6246,
              "Type": "Clinic"
             },
             {
              "Clinic": "NCFP",
              "Date": "2018-02-12",
              "Metric": "Mammogram",
              "Name": "NCFP",
              "Percentage": 0.6231,
              "Type": "Clinic"
             },
             {
              "Clinic": "NCFP",
              "Date": "2018-02-19",
              "Metric": "Mammogram",
              "Name": "NCFP",
              "Percentage": 0.6229,
              "Type": "Clinic"
             },
             {
              "Clinic": "NCFP",
              "Date": "2018-02-26",
              "Metric": "Mammogram",
              "Name": "NCFP",
              "Percentage": 0.6246,
              "Type": "Clinic"
             },
             {
              "Clinic": "NCFP",
              "Date": "2018-03-05",
              "Metric": "Mammogram",
              "Name": "NCFP",
              "Percentage": 0.6264,
              "Type": "Clinic"
             },
             {
              "Clinic": "NCFP",
              "Date": "2018-03-12",
              "Metric": "Mammogram",
              "Name": "NCFP",
              "Percentage": 0.6288,
              "Type": "Clinic"
             },
             {
              "Clinic": "NCFP",
              "Date": "2018-03-19",
              "Metric": "Mammogram",
              "Name": "NCFP",
              "Percentage": 0.6316,
              "Type": "Clinic"
             },
             {
              "Clinic": "NCFP",
              "Date": "2018-03-26",
              "Metric": "Mammogram",
              "Name": "NCFP",
              "Percentage": 0.6335,
              "Type": "Clinic"
             },
             {
              "Clinic": "NCFP",
              "Date": "2018-04-02",
              "Metric": "Mammogram",
              "Name": "NCFP",
              "Percentage": 0.6341,
              "Type": "Clinic"
             },
             {
              "Clinic": "NCFP",
              "Date": "2018-04-09",
              "Metric": "Mammogram",
              "Name": "NCFP",
              "Percentage": 0.636,
              "Type": "Clinic"
             },
             {
              "Clinic": "NCFP",
              "Date": "2018-04-16",
              "Metric": "Mammogram",
              "Name": "NCFP",
              "Percentage": 0.6368,
              "Type": "Clinic"
             },
             {
              "Clinic": "NCFP",
              "Date": "2018-04-23",
              "Metric": "Mammogram",
              "Name": "NCFP",
              "Percentage": 0.6436,
              "Type": "Clinic"
             },
             {
              "Clinic": "NCFP",
              "Date": "2018-04-30",
              "Metric": "Mammogram",
              "Name": "NCFP",
              "Percentage": 0.6447,
              "Type": "Clinic"
             },
             {
              "Clinic": "NCFP",
              "Date": "2018-05-07",
              "Metric": "Mammogram",
              "Name": "NCFP",
              "Percentage": 0.6484,
              "Type": "Clinic"
             },
             {
              "Clinic": "NCFP",
              "Date": "2018-05-14",
              "Metric": "Mammogram",
              "Name": "NCFP",
              "Percentage": 0.6509,
              "Type": "Clinic"
             },
             {
              "Clinic": "NCFP",
              "Date": "2018-05-21",
              "Metric": "Mammogram",
              "Name": "NCFP",
              "Percentage": 0.6546,
              "Type": "Clinic"
             },
             {
              "Clinic": "NCFP",
              "Date": "2018-05-28",
              "Metric": "Mammogram",
              "Name": "NCFP",
              "Percentage": 0.6588,
              "Type": "Clinic"
             },
             {
              "Clinic": "NCFP",
              "Date": "2018-06-05",
              "Metric": "Mammogram",
              "Name": "NCFP",
              "Percentage": 0.6598,
              "Type": "Clinic"
             },
             {
              "Clinic": "NCFP",
              "Date": "2018-06-11",
              "Metric": "Mammogram",
              "Name": "NCFP",
              "Percentage": 0.66,
              "Type": "Clinic"
             },
             {
              "Clinic": "NCFP",
              "Date": "2017-08-21",
              "Metric": "Mammogram",
              "Name": "NCFP",
              "Percentage": 0.616,
              "Type": "Clinic"
             },
             {
              "Clinic": "NCFP",
              "Date": "2017-08-28",
              "Metric": "Mammogram",
              "Name": "NCFP",
              "Percentage": 0.6134,
              "Type": "Clinic"
             },
             {
              "Clinic": "NCFP",
              "Date": "2017-09-04",
              "Metric": "Mammogram",
              "Name": "NCFP",
              "Percentage": 0.6111,
              "Type": "Clinic"
             },
             {
              "Clinic": "NCFP",
              "Date": "2017-09-11",
              "Metric": "Mammogram",
              "Name": "NCFP",
              "Percentage": 0.6166,
              "Type": "Clinic"
             },
             {
              "Clinic": "NCFP",
              "Date": "2017-09-18",
              "Metric": "Mammogram",
              "Name": "NCFP",
              "Percentage": 0.6178,
              "Type": "Clinic"
             },
             {
              "Clinic": "NCFP",
              "Date": "2017-09-25",
              "Metric": "Mammogram",
              "Name": "NCFP",
              "Percentage": 0.6206,
              "Type": "Clinic"
             },
             {
              "Clinic": "NCFP",
              "Date": "2017-10-02",
              "Metric": "Mammogram",
              "Name": "NCFP",
              "Percentage": 0.6242,
              "Type": "Clinic"
             },
             {
              "Clinic": "NCFP",
              "Date": "2017-10-09",
              "Metric": "Mammogram",
              "Name": "NCFP",
              "Percentage": 0.6236,
              "Type": "Clinic"
             },
             {
              "Clinic": "NCFP",
              "Date": "2017-10-16",
              "Metric": "Mammogram",
              "Name": "NCFP",
              "Percentage": 0.6233,
              "Type": "Clinic"
             },
             {
              "Clinic": "NCFP",
              "Date": "2017-10-23",
              "Metric": "Mammogram",
              "Name": "NCFP",
              "Percentage": 0.6253,
              "Type": "Clinic"
             },
             {
              "Clinic": "NCFP",
              "Date": "2017-10-30",
              "Metric": "Mammogram",
              "Name": "NCFP",
              "Percentage": 0.6308,
              "Type": "Clinic"
             },
             {
              "Clinic": "NCFP",
              "Date": "2017-11-06",
              "Metric": "Mammogram",
              "Name": "NCFP",
              "Percentage": 0.63,
              "Type": "Clinic"
             },
             {
              "Clinic": "NCFP",
              "Date": "2017-11-13",
              "Metric": "Mammogram",
              "Name": "NCFP",
              "Percentage": 0.6304,
              "Type": "Clinic"
             },
             {
              "Clinic": "NCFP",
              "Date": "2017-12-04",
              "Metric": "Mammogram",
              "Name": "NCFP",
              "Percentage": 0.6242,
              "Type": "Clinic"
             },
             {
              "Clinic": "NCFP",
              "Date": "2017-12-11",
              "Metric": "Mammogram",
              "Name": "NCFP",
              "Percentage": 0.6262,
              "Type": "Clinic"
             },
             {
              "Clinic": "NCFP",
              "Date": "2017-12-18",
              "Metric": "Mammogram",
              "Name": "NCFP",
              "Percentage": 0.625,
              "Type": "Clinic"
             },
             {
              "Clinic": "NCFP",
              "Date": "2017-12-26",
              "Metric": "Mammogram",
              "Name": "NCFP",
              "Percentage": 0.626,
              "Type": "Clinic"
             }
            ]
           },
           "encoding": {
            "color": {
             "value": "#ff7f0e"
            },
            "x": {
             "field": "Date",
             "title": "",
             "type": "temporal"
            },
            "y": {
             "axis": {
              "format": "%",
              "title": ""
             },
             "field": "Percentage",
             "scale": {
              "domain": [
               0,
               1
              ]
             },
             "type": "quantitative"
            }
           },
           "height": 200,
           "mark": {
            "strokeWidth": 4,
            "type": "line"
           },
           "width": 200
          },
          {
           "data": {
            "values": [
             {
              "TargetValue": 0.78,
              "Title": "Target"
             }
            ]
           },
           "encoding": {
            "color": {
             "value": "green"
            },
            "opacity": {
             "value": "0.5"
            },
            "y": {
             "field": "TargetValue",
             "type": "quantitative"
            }
           },
           "mark": {
            "strokeDash": [
             4,
             2
            ],
            "strokeWidth": 1,
            "type": "rule"
           }
          }
         ]
        },
        {
         "layer": [
          {
           "data": {
            "values": [
             {
              "Clinic": "NCFP",
              "Date": "2017-08-21",
              "Metric": "Mammogram",
              "Name": "Erik Bylund",
              "Percentage": 0.5519,
              "Type": "Individual"
             },
             {
              "Clinic": "NCFP",
              "Date": "2017-08-21",
              "Metric": "Mammogram",
              "Name": "Roger Estep",
              "Percentage": 0.7308,
              "Type": "Individual"
             },
             {
              "Clinic": "NCFP",
              "Date": "2017-08-21",
              "Metric": "Mammogram",
              "Name": "Kay-Kay Gambs",
              "Percentage": 0.495,
              "Type": "Individual"
             },
             {
              "Clinic": "NCFP",
              "Date": "2017-08-21",
              "Metric": "Mammogram",
              "Name": "Jonathan Gamson",
              "Percentage": 0.5649,
              "Type": "Individual"
             },
             {
              "Clinic": "NCFP",
              "Date": "2017-08-21",
              "Metric": "Mammogram",
              "Name": "Janet Hansom",
              "Percentage": 0.653,
              "Type": "Individual"
             },
             {
              "Clinic": "NCFP",
              "Date": "2017-08-21",
              "Metric": "Mammogram",
              "Name": "Ross McConahey",
              "Percentage": null,
              "Type": "Individual"
             },
             {
              "Clinic": "NCFP",
              "Date": "2017-08-21",
              "Metric": "Mammogram",
              "Name": "Sally McPherson",
              "Percentage": 0.6,
              "Type": "Individual"
             },
             {
              "Clinic": "NCFP",
              "Date": "2017-08-21",
              "Metric": "Mammogram",
              "Name": "Lucia Muller",
              "Percentage": 0.665,
              "Type": "Individual"
             },
             {
              "Clinic": "NCFP",
              "Date": "2017-08-21",
              "Metric": "Mammogram",
              "Name": "Jonathan Ploudre",
              "Percentage": 0.6552,
              "Type": "Individual"
             },
             {
              "Clinic": "NCFP",
              "Date": "2017-08-21",
              "Metric": "Mammogram",
              "Name": "Lauren Sauve",
              "Percentage": 0.6629,
              "Type": "Individual"
             },
             {
              "Clinic": "NCFP",
              "Date": "2017-08-21",
              "Metric": "Mammogram",
              "Name": "Sloane Winkes",
              "Percentage": 0.7892,
              "Type": "Individual"
             },
             {
              "Clinic": "NCFP",
              "Date": "2018-06-11",
              "Metric": "Mammogram",
              "Name": "Erik Bylund",
              "Percentage": 0.6265,
              "Type": "Individual"
             },
             {
              "Clinic": "NCFP",
              "Date": "2018-06-11",
              "Metric": "Mammogram",
              "Name": "Roger Estep",
              "Percentage": 0.6867,
              "Type": "Individual"
             },
             {
              "Clinic": "NCFP",
              "Date": "2018-06-11",
              "Metric": "Mammogram",
              "Name": "Kay-Kay Gambs",
              "Percentage": 0.5347,
              "Type": "Individual"
             },
             {
              "Clinic": "NCFP",
              "Date": "2018-06-11",
              "Metric": "Mammogram",
              "Name": "Jonathan Gamson",
              "Percentage": 0.684,
              "Type": "Individual"
             },
             {
              "Clinic": "NCFP",
              "Date": "2018-06-11",
              "Metric": "Mammogram",
              "Name": "Janet Hansom",
              "Percentage": 0.6893,
              "Type": "Individual"
             },
             {
              "Clinic": "NCFP",
              "Date": "2018-06-11",
              "Metric": "Mammogram",
              "Name": "Ross McConahey",
              "Percentage": null,
              "Type": "Individual"
             },
             {
              "Clinic": "NCFP",
              "Date": "2018-06-11",
              "Metric": "Mammogram",
              "Name": "Sally McPherson",
              "Percentage": 0.6296,
              "Type": "Individual"
             },
             {
              "Clinic": "NCFP",
              "Date": "2018-06-11",
              "Metric": "Mammogram",
              "Name": "Lucia Muller",
              "Percentage": 0.6711,
              "Type": "Individual"
             },
             {
              "Clinic": "NCFP",
              "Date": "2018-06-11",
              "Metric": "Mammogram",
              "Name": "Jonathan Ploudre",
              "Percentage": 0.746,
              "Type": "Individual"
             },
             {
              "Clinic": "NCFP",
              "Date": "2018-06-11",
              "Metric": "Mammogram",
              "Name": "Lauren Sauve",
              "Percentage": 0.6246,
              "Type": "Individual"
             },
             {
              "Clinic": "NCFP",
              "Date": "2018-06-11",
              "Metric": "Mammogram",
              "Name": "Sloane Winkes",
              "Percentage": 0.7879,
              "Type": "Individual"
             }
            ]
           },
           "encoding": {
            "detail": {
             "field": "Name",
             "type": "nominal"
            },
            "x": {
             "axis": {
              "title": ""
             },
             "field": "Name",
             "type": "nominal"
            },
            "y": {
             "axis": {
              "format": "%",
              "title": ""
             },
             "field": "Percentage",
             "scale": {
              "domain": [
               0,
               1
              ]
             },
             "type": "quantitative"
            }
           },
           "height": 200,
           "mark": {
            "color": "#aec7e8",
            "type": "line"
           }
          },
          {
           "data": {
            "values": [
             {
              "Clinic": "NCFP",
              "Date": "2018-06-11",
              "Metric": "Mammogram",
              "Name": "Erik Bylund",
              "Percentage": 0.6265,
              "Type": "Individual"
             },
             {
              "Clinic": "NCFP",
              "Date": "2018-06-11",
              "Metric": "Mammogram",
              "Name": "Roger Estep",
              "Percentage": 0.6867,
              "Type": "Individual"
             },
             {
              "Clinic": "NCFP",
              "Date": "2018-06-11",
              "Metric": "Mammogram",
              "Name": "Kay-Kay Gambs",
              "Percentage": 0.5347,
              "Type": "Individual"
             },
             {
              "Clinic": "NCFP",
              "Date": "2018-06-11",
              "Metric": "Mammogram",
              "Name": "Jonathan Gamson",
              "Percentage": 0.684,
              "Type": "Individual"
             },
             {
              "Clinic": "NCFP",
              "Date": "2018-06-11",
              "Metric": "Mammogram",
              "Name": "Janet Hansom",
              "Percentage": 0.6893,
              "Type": "Individual"
             },
             {
              "Clinic": "NCFP",
              "Date": "2018-06-11",
              "Metric": "Mammogram",
              "Name": "Ross McConahey",
              "Percentage": null,
              "Type": "Individual"
             },
             {
              "Clinic": "NCFP",
              "Date": "2018-06-11",
              "Metric": "Mammogram",
              "Name": "Sally McPherson",
              "Percentage": 0.6296,
              "Type": "Individual"
             },
             {
              "Clinic": "NCFP",
              "Date": "2018-06-11",
              "Metric": "Mammogram",
              "Name": "Lucia Muller",
              "Percentage": 0.6711,
              "Type": "Individual"
             },
             {
              "Clinic": "NCFP",
              "Date": "2018-06-11",
              "Metric": "Mammogram",
              "Name": "Jonathan Ploudre",
              "Percentage": 0.746,
              "Type": "Individual"
             },
             {
              "Clinic": "NCFP",
              "Date": "2018-06-11",
              "Metric": "Mammogram",
              "Name": "Lauren Sauve",
              "Percentage": 0.6246,
              "Type": "Individual"
             },
             {
              "Clinic": "NCFP",
              "Date": "2018-06-11",
              "Metric": "Mammogram",
              "Name": "Sloane Winkes",
              "Percentage": 0.7879,
              "Type": "Individual"
             }
            ]
           },
           "encoding": {
            "x": {
             "field": "Name",
             "type": "nominal"
            },
            "y": {
             "field": "Percentage",
             "type": "quantitative"
            }
           },
           "mark": {
            "color": "#1f77b4",
            "filled": true,
            "opacity": 1,
            "size": 100,
            "type": "point"
           }
          },
          {
           "data": {
            "values": [
             {
              "TargetValue": 0.78,
              "Title": "Target"
             }
            ]
           },
           "encoding": {
            "color": {
             "value": "green"
            },
            "opacity": {
             "value": "0.5"
            },
            "y": {
             "field": "TargetValue",
             "type": "quantitative"
            }
           },
           "mark": {
            "strokeDash": [
             4,
             2
            ],
            "strokeWidth": 1,
            "type": "rule"
           }
          }
         ]
        }
       ]
      },
      "image/png": "[encoded data removed]",
      "text/plain": [
       "<VegaLite 2 object>\n",
       "\n",
       "If you see this message, it means the renderer has not been properly enabled\n",
       "for the frontend that you are using. For more information, see\n",
       "https://altair-viz.github.io/user_guide/troubleshooting.html\n"
      ]
     },
     "execution_count": 32,
     "metadata": {},
     "output_type": "execute_result"
    }
   ],
   "source": [
    "chart = make_clinic_metric_chart(\"Mammogram\", \"NCFP\")\n",
    "chart"
   ]
  },
  {
   "cell_type": "code",
   "execution_count": 21,
   "metadata": {},
   "outputs": [
    {
     "name": "stderr",
     "output_type": "stream",
     "text": [
      "Process ForkPoolWorker-2:\n"
     ]
    },
    {
     "ename": "KeyboardInterrupt",
     "evalue": "",
     "output_type": "error",
     "traceback": [
      "\u001b[0;31m---------------------------------------------------------------------------\u001b[0m",
      "\u001b[0;31mKeyboardInterrupt\u001b[0m                         Traceback (most recent call last)",
      "\u001b[0;32m<ipython-input-21-4a774cb5245d>\u001b[0m in \u001b[0;36m<module>\u001b[0;34m()\u001b[0m\n\u001b[1;32m      1\u001b[0m \u001b[0mpool\u001b[0m \u001b[0;34m=\u001b[0m \u001b[0mPool\u001b[0m\u001b[0;34m(\u001b[0m\u001b[0;34m)\u001b[0m\u001b[0;34m\u001b[0m\u001b[0m\n\u001b[0;32m----> 2\u001b[0;31m \u001b[0mpool\u001b[0m\u001b[0;34m.\u001b[0m\u001b[0mmap\u001b[0m\u001b[0;34m(\u001b[0m\u001b[0mcreate_individual_metrics\u001b[0m\u001b[0;34m,\u001b[0m \u001b[0msingleproviders\u001b[0m\u001b[0;34m.\u001b[0m\u001b[0mName\u001b[0m\u001b[0;34m.\u001b[0m\u001b[0munique\u001b[0m\u001b[0;34m(\u001b[0m\u001b[0;34m)\u001b[0m\u001b[0;34m)\u001b[0m\u001b[0;34m\u001b[0m\u001b[0m\n\u001b[0m\u001b[1;32m      3\u001b[0m \u001b[0mpool\u001b[0m\u001b[0;34m.\u001b[0m\u001b[0mclose\u001b[0m\u001b[0;34m(\u001b[0m\u001b[0;34m)\u001b[0m\u001b[0;34m\u001b[0m\u001b[0m\n\u001b[1;32m      4\u001b[0m \u001b[0mpool\u001b[0m\u001b[0;34m.\u001b[0m\u001b[0mjoin\u001b[0m\u001b[0;34m(\u001b[0m\u001b[0;34m)\u001b[0m\u001b[0;34m\u001b[0m\u001b[0m\n\u001b[1;32m      5\u001b[0m \u001b[0;34m\u001b[0m\u001b[0m\n",
      "\u001b[0;32m~/miniconda3/lib/python3.6/multiprocessing/pool.py\u001b[0m in \u001b[0;36mmap\u001b[0;34m(self, func, iterable, chunksize)\u001b[0m\n\u001b[1;32m    264\u001b[0m         \u001b[0;32min\u001b[0m \u001b[0ma\u001b[0m \u001b[0mlist\u001b[0m \u001b[0mthat\u001b[0m \u001b[0;32mis\u001b[0m \u001b[0mreturned\u001b[0m\u001b[0;34m.\u001b[0m\u001b[0;34m\u001b[0m\u001b[0m\n\u001b[1;32m    265\u001b[0m         '''\n\u001b[0;32m--> 266\u001b[0;31m         \u001b[0;32mreturn\u001b[0m \u001b[0mself\u001b[0m\u001b[0;34m.\u001b[0m\u001b[0m_map_async\u001b[0m\u001b[0;34m(\u001b[0m\u001b[0mfunc\u001b[0m\u001b[0;34m,\u001b[0m \u001b[0miterable\u001b[0m\u001b[0;34m,\u001b[0m \u001b[0mmapstar\u001b[0m\u001b[0;34m,\u001b[0m \u001b[0mchunksize\u001b[0m\u001b[0;34m)\u001b[0m\u001b[0;34m.\u001b[0m\u001b[0mget\u001b[0m\u001b[0;34m(\u001b[0m\u001b[0;34m)\u001b[0m\u001b[0;34m\u001b[0m\u001b[0m\n\u001b[0m\u001b[1;32m    267\u001b[0m \u001b[0;34m\u001b[0m\u001b[0m\n\u001b[1;32m    268\u001b[0m     \u001b[0;32mdef\u001b[0m \u001b[0mstarmap\u001b[0m\u001b[0;34m(\u001b[0m\u001b[0mself\u001b[0m\u001b[0;34m,\u001b[0m \u001b[0mfunc\u001b[0m\u001b[0;34m,\u001b[0m \u001b[0miterable\u001b[0m\u001b[0;34m,\u001b[0m \u001b[0mchunksize\u001b[0m\u001b[0;34m=\u001b[0m\u001b[0;32mNone\u001b[0m\u001b[0;34m)\u001b[0m\u001b[0;34m:\u001b[0m\u001b[0;34m\u001b[0m\u001b[0m\n",
      "\u001b[0;32m~/miniconda3/lib/python3.6/multiprocessing/pool.py\u001b[0m in \u001b[0;36mget\u001b[0;34m(self, timeout)\u001b[0m\n\u001b[1;32m    636\u001b[0m \u001b[0;34m\u001b[0m\u001b[0m\n\u001b[1;32m    637\u001b[0m     \u001b[0;32mdef\u001b[0m \u001b[0mget\u001b[0m\u001b[0;34m(\u001b[0m\u001b[0mself\u001b[0m\u001b[0;34m,\u001b[0m \u001b[0mtimeout\u001b[0m\u001b[0;34m=\u001b[0m\u001b[0;32mNone\u001b[0m\u001b[0;34m)\u001b[0m\u001b[0;34m:\u001b[0m\u001b[0;34m\u001b[0m\u001b[0m\n\u001b[0;32m--> 638\u001b[0;31m         \u001b[0mself\u001b[0m\u001b[0;34m.\u001b[0m\u001b[0mwait\u001b[0m\u001b[0;34m(\u001b[0m\u001b[0mtimeout\u001b[0m\u001b[0;34m)\u001b[0m\u001b[0;34m\u001b[0m\u001b[0m\n\u001b[0m\u001b[1;32m    639\u001b[0m         \u001b[0;32mif\u001b[0m \u001b[0;32mnot\u001b[0m \u001b[0mself\u001b[0m\u001b[0;34m.\u001b[0m\u001b[0mready\u001b[0m\u001b[0;34m(\u001b[0m\u001b[0;34m)\u001b[0m\u001b[0;34m:\u001b[0m\u001b[0;34m\u001b[0m\u001b[0m\n\u001b[1;32m    640\u001b[0m             \u001b[0;32mraise\u001b[0m \u001b[0mTimeoutError\u001b[0m\u001b[0;34m\u001b[0m\u001b[0m\n",
      "\u001b[0;32m~/miniconda3/lib/python3.6/multiprocessing/pool.py\u001b[0m in \u001b[0;36mwait\u001b[0;34m(self, timeout)\u001b[0m\n\u001b[1;32m    633\u001b[0m \u001b[0;34m\u001b[0m\u001b[0m\n\u001b[1;32m    634\u001b[0m     \u001b[0;32mdef\u001b[0m \u001b[0mwait\u001b[0m\u001b[0;34m(\u001b[0m\u001b[0mself\u001b[0m\u001b[0;34m,\u001b[0m \u001b[0mtimeout\u001b[0m\u001b[0;34m=\u001b[0m\u001b[0;32mNone\u001b[0m\u001b[0;34m)\u001b[0m\u001b[0;34m:\u001b[0m\u001b[0;34m\u001b[0m\u001b[0m\n\u001b[0;32m--> 635\u001b[0;31m         \u001b[0mself\u001b[0m\u001b[0;34m.\u001b[0m\u001b[0m_event\u001b[0m\u001b[0;34m.\u001b[0m\u001b[0mwait\u001b[0m\u001b[0;34m(\u001b[0m\u001b[0mtimeout\u001b[0m\u001b[0;34m)\u001b[0m\u001b[0;34m\u001b[0m\u001b[0m\n\u001b[0m\u001b[1;32m    636\u001b[0m \u001b[0;34m\u001b[0m\u001b[0m\n\u001b[1;32m    637\u001b[0m     \u001b[0;32mdef\u001b[0m \u001b[0mget\u001b[0m\u001b[0;34m(\u001b[0m\u001b[0mself\u001b[0m\u001b[0;34m,\u001b[0m \u001b[0mtimeout\u001b[0m\u001b[0;34m=\u001b[0m\u001b[0;32mNone\u001b[0m\u001b[0;34m)\u001b[0m\u001b[0;34m:\u001b[0m\u001b[0;34m\u001b[0m\u001b[0m\n",
      "\u001b[0;32m~/miniconda3/lib/python3.6/threading.py\u001b[0m in \u001b[0;36mwait\u001b[0;34m(self, timeout)\u001b[0m\n\u001b[1;32m    549\u001b[0m             \u001b[0msignaled\u001b[0m \u001b[0;34m=\u001b[0m \u001b[0mself\u001b[0m\u001b[0;34m.\u001b[0m\u001b[0m_flag\u001b[0m\u001b[0;34m\u001b[0m\u001b[0m\n\u001b[1;32m    550\u001b[0m             \u001b[0;32mif\u001b[0m \u001b[0;32mnot\u001b[0m \u001b[0msignaled\u001b[0m\u001b[0;34m:\u001b[0m\u001b[0;34m\u001b[0m\u001b[0m\n\u001b[0;32m--> 551\u001b[0;31m                 \u001b[0msignaled\u001b[0m \u001b[0;34m=\u001b[0m \u001b[0mself\u001b[0m\u001b[0;34m.\u001b[0m\u001b[0m_cond\u001b[0m\u001b[0;34m.\u001b[0m\u001b[0mwait\u001b[0m\u001b[0;34m(\u001b[0m\u001b[0mtimeout\u001b[0m\u001b[0;34m)\u001b[0m\u001b[0;34m\u001b[0m\u001b[0m\n\u001b[0m\u001b[1;32m    552\u001b[0m             \u001b[0;32mreturn\u001b[0m \u001b[0msignaled\u001b[0m\u001b[0;34m\u001b[0m\u001b[0m\n\u001b[1;32m    553\u001b[0m \u001b[0;34m\u001b[0m\u001b[0m\n",
      "\u001b[0;32m~/miniconda3/lib/python3.6/threading.py\u001b[0m in \u001b[0;36mwait\u001b[0;34m(self, timeout)\u001b[0m\n\u001b[1;32m    293\u001b[0m         \u001b[0;32mtry\u001b[0m\u001b[0;34m:\u001b[0m    \u001b[0;31m# restore state no matter what (e.g., KeyboardInterrupt)\u001b[0m\u001b[0;34m\u001b[0m\u001b[0m\n\u001b[1;32m    294\u001b[0m             \u001b[0;32mif\u001b[0m \u001b[0mtimeout\u001b[0m \u001b[0;32mis\u001b[0m \u001b[0;32mNone\u001b[0m\u001b[0;34m:\u001b[0m\u001b[0;34m\u001b[0m\u001b[0m\n\u001b[0;32m--> 295\u001b[0;31m                 \u001b[0mwaiter\u001b[0m\u001b[0;34m.\u001b[0m\u001b[0macquire\u001b[0m\u001b[0;34m(\u001b[0m\u001b[0;34m)\u001b[0m\u001b[0;34m\u001b[0m\u001b[0m\n\u001b[0m\u001b[1;32m    296\u001b[0m                 \u001b[0mgotit\u001b[0m \u001b[0;34m=\u001b[0m \u001b[0;32mTrue\u001b[0m\u001b[0;34m\u001b[0m\u001b[0m\n\u001b[1;32m    297\u001b[0m             \u001b[0;32melse\u001b[0m\u001b[0;34m:\u001b[0m\u001b[0;34m\u001b[0m\u001b[0m\n",
      "\u001b[0;31mKeyboardInterrupt\u001b[0m: "
     ]
    },
    {
     "name": "stderr",
     "output_type": "stream",
     "text": [
      "Traceback (most recent call last):\n",
      "  File \"/Users/jonathan/miniconda3/lib/python3.6/multiprocessing/process.py\", line 258, in _bootstrap\n",
      "    self.run()\n",
      "  File \"/Users/jonathan/miniconda3/lib/python3.6/multiprocessing/process.py\", line 93, in run\n",
      "    self._target(*self._args, **self._kwargs)\n",
      "  File \"/Users/jonathan/miniconda3/lib/python3.6/multiprocessing/pool.py\", line 119, in worker\n",
      "    result = (True, func(*args, **kwds))\n",
      "  File \"/Users/jonathan/miniconda3/lib/python3.6/multiprocessing/pool.py\", line 44, in mapstar\n",
      "    return list(map(*args))\n",
      "  File \"<ipython-input-10-3ed7988dcc23>\", line 36, in create_individual_metrics\n",
      "    chart = make_individual_metric_chart(metric, name)\n",
      "  File \"<ipython-input-16-64d28d9736ef>\", line 16, in make_individual_metric_chart\n",
      "    clinicdf = df[(df[\"Metric\"] == metric) & (df[\"Name\"] == clinic_name)]\n",
      "  File \"/Users/jonathan/miniconda3/lib/python3.6/site-packages/pandas/core/ops.py\", line 1253, in wrapper\n",
      "    res = na_op(values, other)\n",
      "  File \"/Users/jonathan/miniconda3/lib/python3.6/site-packages/pandas/core/ops.py\", line 1140, in na_op\n",
      "    result = _comp_method_OBJECT_ARRAY(op, x, y)\n",
      "  File \"/Users/jonathan/miniconda3/lib/python3.6/site-packages/pandas/core/ops.py\", line 1119, in _comp_method_OBJECT_ARRAY\n",
      "    result = libops.scalar_compare(x, y, op)\n",
      "KeyboardInterrupt\n"
     ]
    }
   ],
   "source": [
    "pool = Pool()\n",
    "pool.map(create_individual_metrics, singleproviders.Name.unique())\n",
    "pool.close()\n",
    "pool.join()\n",
    "\n",
    "pool2 = Pool()\n",
    "pool2.map(create_clinic_metrics, clinics)\n",
    "pool2.close()\n",
    "pool2.join()\n"
   ]
  },
  {
   "cell_type": "markdown",
   "metadata": {},
   "source": [
    "# Generate Provider HTMLs"
   ]
  },
  {
   "cell_type": "code",
   "execution_count": null,
   "metadata": {},
   "outputs": [],
   "source": [
    "# Provider HTML Files\n",
    "for name in sorted(set(singleproviders.Name.unique())):\n",
    "    provider_picture = \"./files/pictures/\" + str(name).replace(\" \", \"_\") + \".JPG\"\n",
    "    if os.path.isfile(provider_picture):\n",
    "        if not os.path.exists(\"./docs/pictures/\"):\n",
    "            os.makedirs(\"./docs/pictures/\")\n",
    "        shutil.copyfile(\n",
    "            provider_picture, \"./docs/pictures/\" + str(name).replace(\" \", \"_\") + \".JPG\"\n",
    "        )\n",
    "        provider_icon = (\n",
    "            '<img src=\"'\n",
    "            + \"../pictures/\"\n",
    "            + str(name).replace(\" \", \"_\")\n",
    "            + \".JPG\"\n",
    "            + '\" width=\"64\" height=\"64\">&nbsp;'\n",
    "        )\n",
    "\n",
    "    provider_dropdown = (\n",
    "        '<div class=\"uk-inline\"><div class=\"uk-text-lead uk-text-bold uk-text-middle\" style=\"color:#1f77b4\">'\n",
    "        + provider_icon\n",
    "        + name\n",
    "        + '<span uk-icon=\"icon: triangle-down\"></span>'\n",
    "        + '</div><div uk-dropdown><ul class=\"uk-nav uk-dropdown-nav\">'\n",
    "    )\n",
    "\n",
    "    clinic_name = names[names.Name == name].iloc[0].Clinic\n",
    "\n",
    "    for sameclinicprovider in sorted(\n",
    "        set(singleproviders[singleproviders.Clinic == clinic_name].Name)\n",
    "    ):\n",
    "        if name == sameclinicprovider:\n",
    "            provider_dropdown += (\n",
    "                '<li class=\"uk-active\">'\n",
    "                + sameclinicprovider\n",
    "                + '<span uk-icon=\"icon: check\"></span></li>\\n'\n",
    "            )\n",
    "        else:\n",
    "            provider_dropdown += (\n",
    "                '<li><a href=\"../'\n",
    "                + str(sameclinicprovider).replace(\" \", \"_\")\n",
    "                + '/\">'\n",
    "                + sameclinicprovider\n",
    "                + \"</a></li>\\n\"\n",
    "            )\n",
    "\n",
    "    # close provider_dropdown\n",
    "    provider_dropdown += \"</ul></div></div>\"\n",
    "\n",
    "    clinic_dropdown = (\n",
    "        '<div class=\"uk-inline\"><div class=\"uk-text-lead uk-text-middle\" style=\"color:#ff7f0e\">'\n",
    "        + clinic_name\n",
    "        + '<span uk-icon=\"icon: triangle-down\"></span>'\n",
    "        + '</div><div uk-dropdown><ul class=\"uk-nav uk-dropdown-nav\">'\n",
    "    )\n",
    "\n",
    "    for clinic in clinics:\n",
    "        clinic_dropdown += (\n",
    "            '<li><a href=\"../'\n",
    "            + str(clinic).replace(\" \", \"_\")\n",
    "            + '/\">'\n",
    "            + clinic\n",
    "            + \"</a></li>\\n\"\n",
    "        )\n",
    "\n",
    "    clinic_dropdown += \"</ul></div></div>\"\n",
    "\n",
    "    with open(\"./files/index.html\", \"r\") as file:\n",
    "        filedata = file.read()\n",
    "    filedata = filedata.replace(\"{{{Provider}}}\", provider_dropdown)\n",
    "    filedata = filedata.replace(\"{{{Clinic}}}\", clinic_dropdown)\n",
    "    filedata = filedata.replace(\"{{{Current Date}}}\", current_date)\n",
    "    with open(savefolder(name) + \"index.html\", \"w+\") as file:\n",
    "        file.write(filedata)\n"
   ]
  },
  {
   "cell_type": "markdown",
   "metadata": {},
   "source": [
    "# Generate Clinic HTMLs"
   ]
  },
  {
   "cell_type": "code",
   "execution_count": null,
   "metadata": {},
   "outputs": [],
   "source": [
    "# Clinic HTML Files\n",
    "for clinic in clinics:\n",
    "    provider_dropdown = (\n",
    "        '<div class=\"uk-inline\"><div class=\"uk-text-lead uk-text-middle\" style=\"color:#1f77b4\">'\n",
    "        + \"Providers\"\n",
    "        + '<span uk-icon=\"icon: triangle-down\"></span>'\n",
    "        + '</div><div uk-dropdown><ul class=\"uk-nav uk-dropdown-nav\">'\n",
    "    )\n",
    "\n",
    "    clinic_name = clinic\n",
    "\n",
    "    for sameclinicprovider in sorted(\n",
    "        set(singleproviders[singleproviders.Clinic == clinic_name].Name)\n",
    "    ):\n",
    "        provider_dropdown += (\n",
    "            '<li><a href=\"../'\n",
    "            + str(sameclinicprovider).replace(\" \", \"_\")\n",
    "            + '/\">'\n",
    "            + sameclinicprovider\n",
    "            + \"</a></li>\\n\"\n",
    "        )\n",
    "\n",
    "    # close provider_dropdown\n",
    "    provider_dropdown += \"</ul></div></div>\"\n",
    "\n",
    "    clinic_dropdown = (\n",
    "        '<div class=\"uk-inline\"><div class=\"uk-text-lead uk-text-bold uk-text-middle\" style=\"color:#ff7f0e\">'\n",
    "        + clinic_name\n",
    "        + '<span uk-icon=\"icon: triangle-down\"></span>'\n",
    "        + '</div><div uk-dropdown><ul class=\"uk-nav uk-dropdown-nav\">'\n",
    "    )\n",
    "\n",
    "    for clinic in clinics:\n",
    "        if clinic == clinic_name:\n",
    "            clinic_dropdown += (\n",
    "                '<li class=\"uk-active\">'\n",
    "                + clinic\n",
    "                + '<span uk-icon=\"icon: check\"></span></li>\\n'\n",
    "            )\n",
    "        else:\n",
    "            clinic_dropdown += (\n",
    "                '<li><a href=\"../'\n",
    "                + str(clinic).replace(\" \", \"_\")\n",
    "                + '/\">'\n",
    "                + clinic\n",
    "                + \"</a></li>\\n\"\n",
    "            )\n",
    "\n",
    "    clinic_dropdown += \"</ul></div></div>\"\n",
    "\n",
    "    with open(\"./files/index.html\", \"r\") as file:\n",
    "        filedata = file.read()\n",
    "    filedata = filedata.replace(\"{{{Provider}}}\", provider_dropdown)\n",
    "    filedata = filedata.replace(\"{{{Clinic}}}\", clinic_dropdown)\n",
    "    filedata = filedata.replace(\"{{{Current Date}}}\", current_date)\n",
    "    with open(savefolder(clinic_name) + \"index.html\", \"w+\") as file:\n",
    "        file.write(filedata)"
   ]
  },
  {
   "cell_type": "markdown",
   "metadata": {},
   "source": [
    "# Generate Base HTML"
   ]
  },
  {
   "cell_type": "code",
   "execution_count": null,
   "metadata": {},
   "outputs": [],
   "source": [
    "# Base HTML File\n",
    "root_index_clinic = (\n",
    "    '<div uk-filter=\"target: .js-filter\"><ul class=\"uk-subnav uk-subnav-pill\">\\n'\n",
    ")\n",
    "for clinic in sorted(set(clinics)):\n",
    "    root_index_clinic += (\n",
    "        '<li uk-filter-control=\".tag-'\n",
    "        + clinic\n",
    "        + '\"><a href=\"#\">'\n",
    "        + clinic\n",
    "        + \"</a></li>\\n\"\n",
    "    )\n",
    "root_index_clinic += \"</ul>\"\n",
    "\n",
    "provider_index_cards = (\n",
    "    '<ul class=\"js-filter uk-grid-match uk-card-small uk-text-center\" uk-grid>\\n'\n",
    ")\n",
    "\n",
    "\n",
    "\n",
    "for name in sorted(set(singleproviders.Name.unique())):\n",
    "    provider_icon = (\n",
    "            '<img class=\"uk-align-center\" src=\"'\n",
    "            + \"./pictures/\"\n",
    "            + str(name).replace(\" \", \"_\")\n",
    "            + \".JPG\"\n",
    "            + '\" width=\"64\" height=\"64\">'\n",
    "        )\n",
    "    provider_index_cards += (\n",
    "        '<li class=\"tag-'\n",
    "        + names[names.Name == name].iloc[0].Clinic\n",
    "        + '\"><a class=\"uk-align-center\" href=\"./'\n",
    "        + str(name).replace(\" \", \"_\")\n",
    "        + '/\"><div class=\"uk-card uk-width-medium uk-card-hover uk-card-default uk-card-body\">'\n",
    "        + provider_icon \n",
    "        + name\n",
    "        + \"</div></a></li>\\n\"\n",
    "    )\n",
    "provider_index_cards += \"</ul>\"\n",
    "\n",
    "with open(\"./files/index-base.html\", \"r\") as file:\n",
    "    filedata = file.read()\n",
    "filedata = filedata.replace(\"{{{Clinics}}}\", root_index_clinic)\n",
    "filedata = filedata.replace(\"{{{Provider-Index-Cards}}}\", provider_index_cards)\n",
    "filedata = filedata.replace(\"{{{Current Date}}}\", current_date)\n",
    "with open(\"docs/\" + \"index.html\", \"w+\") as file:\n",
    "    file.write(filedata)\n"
   ]
  },
  {
   "cell_type": "code",
   "execution_count": null,
   "metadata": {},
   "outputs": [],
   "source": []
  }
 ],
 "metadata": {
  "kernelspec": {
   "display_name": "Python 3",
   "language": "python",
   "name": "python3"
  },
  "language_info": {
   "codemirror_mode": {
    "name": "ipython",
    "version": 3
   },
   "file_extension": ".py",
   "mimetype": "text/x-python",
   "name": "python",
   "nbconvert_exporter": "python",
   "pygments_lexer": "ipython3",
   "version": "3.6.5"
  }
 },
 "nbformat": 4,
 "nbformat_minor": 2
}
