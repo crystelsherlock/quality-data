{
 "cells": [
  {
   "cell_type": "markdown",
   "metadata": {},
   "source": [
    "# Initial Imports & Setup"
   ]
  },
  {
   "cell_type": "code",
   "execution_count": 15,
   "metadata": {},
   "outputs": [],
   "source": [
    "import pandas as pd\n",
    "import numpy as np\n",
    "import glob as glob\n",
    "import shutil\n",
    "import os\n",
    "import matplotlib.pyplot as plt\n",
    "import matplotlib.font_manager as font_manager\n",
    "import seaborn as sns\n",
    "import datetime as datetime\n",
    "\n",
    "# %matplotlib inline\n",
    "plt.style.use('fivethirtyeight')\n",
    "plt.rcParams[\"svg.fonttype\"] = \"none\"\n",
    "plt.rcParams[\"font.family\"] = \"Bitstream Vera Sans\"\n",
    "plt.rcParams[\"figure.titleweight\"] = 'Bold'\n",
    "plt.rcParams['figure.titlesize'] = 'xx-large'"
   ]
  },
  {
   "cell_type": "markdown",
   "metadata": {},
   "source": [
    "# Importing Data into Dataframe\n",
    "\n",
    "Still working on whether to index or not. Maybe all columns should be data for now. "
   ]
  },
  {
   "cell_type": "code",
   "execution_count": 16,
   "metadata": {},
   "outputs": [],
   "source": [
    "names = pd.read_csv('./files/names.csv', index_col='MeridiosName')\n",
    "metrics = pd.read_csv('./files/metrics.csv', dtype={'MeridiosMetric':object, 'Metric':object})\n",
    "metrics.set_index('MeridiosMetric', inplace=True)\n",
    "\n",
    "df = pd.DataFrame()\n",
    "\n",
    "files = glob.glob('./data/*.csv')\n",
    "for file in files:\n",
    "    filedf = pd.read_csv(file,\n",
    "                        usecols=[\"NAME\",\"Metricname\",\"SeenNum\",\"SeenDenom\"])\n",
    "    # Prettier Names\n",
    "    filedf = filedf.rename(columns={'NAME': 'MeridiosName',\n",
    "                                    'Metricname': 'MeridiosMetric',\n",
    "                                    'SeenNum': 'Numerator', \n",
    "                                    'SeenDenom': 'Denominator'})\n",
    "\n",
    "    filedf['Name'] = filedf.MeridiosName.map(names.Name)\n",
    "    filedf['Metric'] = filedf.MeridiosMetric.map(metrics.Metric)\n",
    "    \n",
    "    filename_parts = file[7:-4].split(' ')\n",
    "    # 0 Padded Dates with Dots. 03.15.2018\n",
    "    if (len(str(filename_parts[0])) is 10):\n",
    "        filedf['Date'] = datetime.datetime.strptime(filename_parts[0], \"%m.%d.%Y\")\n",
    "        filedf['Percentage'] = filedf['Numerator'] / filedf['Denominator'] * 100\n",
    "        #Not sure how to handle data vs index\n",
    "        #filedf.set_index(['MeridiosName', 'Metric', 'Date'], inplace=True)\n",
    "        df = df.append(filedf) \n",
    "    else:\n",
    "        print(\"CSV Data File doesn't have Zero-Padded Date at beginning.\")\n",
    "#df.dtypes\n",
    "#df.head()\n",
    "#df.info()\n",
    "#df.describe()\n",
    "#df.columns\n",
    "#df.Metric.unique()"
   ]
  },
  {
   "cell_type": "markdown",
   "metadata": {},
   "source": [
    "## Lookups:\n",
    "\n",
    "* what clinic does a provider belong to? \n",
    "* What's a target percentage for a measure\n",
    "\n",
    "## Cleanups:\n",
    "\n",
    "* Percentage can be rounded to 2 decimal points (but why throw out the data on the import?)\n",
    "\n",
    "\n",
    "## Validations:\n",
    "\n",
    "* Does Data include new MeridiosName, New Metric items? (Has the underlying report changed?)\n",
    "\n"
   ]
  },
  {
   "cell_type": "code",
   "execution_count": 17,
   "metadata": {},
   "outputs": [
    {
     "name": "stderr",
     "output_type": "stream",
     "text": [
      "/Users/jonathan/anaconda/lib/python3.6/site-packages/ipykernel_launcher.py:7: SettingWithCopyWarning: \n",
      "A value is trying to be set on a copy of a slice from a DataFrame\n",
      "\n",
      "See the caveats in the documentation: http://pandas.pydata.org/pandas-docs/stable/indexing.html#indexing-view-versus-copy\n",
      "  import sys\n"
     ]
    },
    {
     "ename": "AttributeError",
     "evalue": "'float' object has no attribute 'replace'",
     "output_type": "error",
     "traceback": [
      "\u001b[0;31m---------------------------------------------------------------------------\u001b[0m",
      "\u001b[0;31mAttributeError\u001b[0m                            Traceback (most recent call last)",
      "\u001b[0;32m<ipython-input-17-be7f20f445af>\u001b[0m in \u001b[0;36m<module>\u001b[0;34m()\u001b[0m\n\u001b[1;32m      2\u001b[0m \u001b[0;31m#name = 'NCFP'\u001b[0m\u001b[0;34m\u001b[0m\u001b[0;34m\u001b[0m\u001b[0m\n\u001b[1;32m      3\u001b[0m \u001b[0;34m\u001b[0m\u001b[0m\n\u001b[0;32m----> 4\u001b[0;31m     \u001b[0mfoldername\u001b[0m \u001b[0;34m=\u001b[0m \u001b[0mname\u001b[0m\u001b[0;34m.\u001b[0m\u001b[0mreplace\u001b[0m\u001b[0;34m(\u001b[0m\u001b[0;34m\" \"\u001b[0m\u001b[0;34m,\u001b[0m \u001b[0;34m\"_\"\u001b[0m\u001b[0;34m)\u001b[0m\u001b[0;34m\u001b[0m\u001b[0m\n\u001b[0m\u001b[1;32m      5\u001b[0m \u001b[0;34m\u001b[0m\u001b[0m\n\u001b[1;32m      6\u001b[0m     \u001b[0mProvider\u001b[0m \u001b[0;34m=\u001b[0m \u001b[0mdf\u001b[0m\u001b[0;34m[\u001b[0m\u001b[0mdf\u001b[0m\u001b[0;34m[\u001b[0m\u001b[0;34m'Name'\u001b[0m\u001b[0;34m]\u001b[0m \u001b[0;34m==\u001b[0m \u001b[0mname\u001b[0m\u001b[0;34m]\u001b[0m\u001b[0;34m\u001b[0m\u001b[0m\n",
      "\u001b[0;31mAttributeError\u001b[0m: 'float' object has no attribute 'replace'"
     ]
    }
   ],
   "source": [
    "#for name in df.Name.unique():\n",
    "name = 'NCFP'\n",
    "\n",
    "foldername = name.replace(\" \", \"_\")\n",
    "\n",
    "Provider = df[df['Name'] == name]\n",
    "Provider.dropna(inplace=True)\n",
    "\n",
    "for number, metric in enumerate(Provider.Metric.unique()):\n",
    "    ProviderMetric = Provider[Provider['Metric'] == metric]\n",
    "    ax = ProviderMetric.plot(x=\"Date\", y=\"Percentage\", legend=False, ylim=(0,100), figsize=(6,6))\n",
    "    ax.set_xlabel(\"\")\n",
    "\n",
    "    # Let's Do ever third tick mark (quarters)\n",
    "    ax.set_xticks(ax.get_xticks()[::3])\n",
    "    fig = ax.get_figure()\n",
    "    fig.patch.set_facecolor('none')\n",
    "    ax.patch.set_facecolor('white')\n",
    "    ax.patch.set_alpha(0.8)\n",
    "    fig.suptitle(metric, fontsize=20, fontweight='bold')\n",
    "    fig.tight_layout(pad=2)\n",
    "\n",
    "    metricfilename = metric.replace(\" \", \"_\")\n",
    "    if not os.path.exists(\"./output/\" + foldername):\n",
    "        os.makedirs(\"./output/\" + foldername)\n",
    "    fig.savefig(\"./output/\" + foldername + \"/\" + metricfilename + \".svg\", facecolor=fig.get_facecolor(), edgecolor='none')\n",
    "    plt.close(fig)\n",
    "\n",
    "shutil.copyfile('./files/index.html', './output/' + foldername + '/index.html') \n"
   ]
  },
  {
   "cell_type": "code",
   "execution_count": null,
   "metadata": {},
   "outputs": [],
   "source": []
  }
 ],
 "metadata": {
  "kernelspec": {
   "display_name": "Python 3",
   "language": "python",
   "name": "python3"
  },
  "language_info": {
   "codemirror_mode": {
    "name": "ipython",
    "version": 3
   },
   "file_extension": ".py",
   "mimetype": "text/x-python",
   "name": "python",
   "nbconvert_exporter": "python",
   "pygments_lexer": "ipython3",
   "version": "3.6.4"
  }
 },
 "nbformat": 4,
 "nbformat_minor": 2
}
